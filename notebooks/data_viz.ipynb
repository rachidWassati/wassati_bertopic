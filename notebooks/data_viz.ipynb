{
 "cells": [
  {
   "cell_type": "code",
   "execution_count": 2,
   "metadata": {},
   "outputs": [
    {
     "name": "stderr",
     "output_type": "stream",
     "text": [
      "/home/cattiaux/anaconda3/envs/wassati/lib/python3.9/site-packages/umap/distances.py:1063: NumbaDeprecationWarning: The 'nopython' keyword argument was not supplied to the 'numba.jit' decorator. The implicit default value for this argument is currently False, but it will be changed to True in Numba 0.59.0. See https://numba.readthedocs.io/en/stable/reference/deprecation.html#deprecation-of-object-mode-fall-back-behaviour-when-using-jit for details.\n",
      "  @numba.jit()\n",
      "/home/cattiaux/anaconda3/envs/wassati/lib/python3.9/site-packages/umap/distances.py:1071: NumbaDeprecationWarning: The 'nopython' keyword argument was not supplied to the 'numba.jit' decorator. The implicit default value for this argument is currently False, but it will be changed to True in Numba 0.59.0. See https://numba.readthedocs.io/en/stable/reference/deprecation.html#deprecation-of-object-mode-fall-back-behaviour-when-using-jit for details.\n",
      "  @numba.jit()\n",
      "/home/cattiaux/anaconda3/envs/wassati/lib/python3.9/site-packages/umap/distances.py:1086: NumbaDeprecationWarning: The 'nopython' keyword argument was not supplied to the 'numba.jit' decorator. The implicit default value for this argument is currently False, but it will be changed to True in Numba 0.59.0. See https://numba.readthedocs.io/en/stable/reference/deprecation.html#deprecation-of-object-mode-fall-back-behaviour-when-using-jit for details.\n",
      "  @numba.jit()\n",
      "/home/cattiaux/anaconda3/envs/wassati/lib/python3.9/site-packages/umap/umap_.py:660: NumbaDeprecationWarning: The 'nopython' keyword argument was not supplied to the 'numba.jit' decorator. The implicit default value for this argument is currently False, but it will be changed to True in Numba 0.59.0. See https://numba.readthedocs.io/en/stable/reference/deprecation.html#deprecation-of-object-mode-fall-back-behaviour-when-using-jit for details.\n",
      "  @numba.jit()\n"
     ]
    }
   ],
   "source": [
    "import pandas as pd\n",
    "import numpy as np\n",
    "import pickle\n",
    "import os\n",
    "import copy\n",
    "import plotly.graph_objects as go\n",
    "import plotly.express as px\n",
    "import random\n",
    "import colorsys\n",
    "\n",
    "from bertopic import BERTopic\n",
    "from typing import List, Union\n",
    "from sklearn.preprocessing import normalize"
   ]
  },
  {
   "cell_type": "code",
   "execution_count": 5,
   "metadata": {},
   "outputs": [
    {
     "name": "stderr",
     "output_type": "stream",
     "text": [
      "/tmp/ipykernel_4904/4176604139.py:1: DtypeWarning: Columns (9,10,14,18,19,20,22,33,34,41,42,43,44) have mixed types. Specify dtype option on import or set low_memory=False.\n",
      "  df = pd.read_csv(\"../data/csv_files/df_all_labelled.csv\", dtype={'year': str})\n"
     ]
    }
   ],
   "source": [
    "df = pd.read_csv(\"../data/csv_files/df_all_labelled.csv\", dtype={'year': str})"
   ]
  },
  {
   "cell_type": "code",
   "execution_count": 6,
   "metadata": {},
   "outputs": [
    {
     "name": "stderr",
     "output_type": "stream",
     "text": [
      "/home/cattiaux/anaconda3/envs/wassati/lib/python3.9/site-packages/bertopic/vectorizers/_ctfidf.py:69: RuntimeWarning: divide by zero encountered in divide\n",
      "  idf = np.log((avg_nr_samples / df)+1)\n"
     ]
    }
   ],
   "source": [
    "### chargement du model bertopic\n",
    "\n",
    "def load_bertopic_model(filename):\n",
    "    \"\"\"\n",
    "    Load a BERTopic model and associated data from a file.\n",
    "    \n",
    "    :param filename: The name of the file to load the data from.\n",
    "    :return: A tuple containing the loaded BERTopic model, topics, probs, and docs variables.\n",
    "    \"\"\"\n",
    "    # Load the BERTopic model\n",
    "    topic_model = BERTopic.load(filename)\n",
    "    \n",
    "    # Load the topics, probs, and docs variables\n",
    "    with open(filename + '_data.pkl', 'rb') as f:\n",
    "        topics, probs, embeddings, docs = pickle.load(f)\n",
    "    \n",
    "    return topic_model, topics, probs, embeddings, docs\n",
    "\n",
    "topic_model, topics, probs, embeddings, docs = load_bertopic_model('../models/raw_keybert_bertopic_model')\n",
    "\n",
    "def create_merged_model(docs, bertopic_model, topics_to_merge_dict, label_names_dict):\n",
    "    \"\"\"\n",
    "    Create a new BERTopic model by merging topics from an existing model.\n",
    "\n",
    "    This function takes as input a list of documents `docs`, an existing BERTopic model `bertopic_model`, a dictionary `topics_to_merge_dict` specifying which topics to merge, and a dictionary `label_names_dict` specifying the labels for the merged topics.\n",
    "\n",
    "    The function creates a deep copy of the input BERTopic model and merges the specified topics using the `merge_topics` method. Then, it sets the topic labels for the merged model using the `set_topic_labels` method and the provided `label_names_dict`.\n",
    "\n",
    "    The resulting merged BERTopic model is then returned.\n",
    "\n",
    "    Parameters:\n",
    "        docs (list): A list of documents used to fit the BERTopic model.\n",
    "        bertopic_model (BERTopic): The input BERTopic model to be merged.\n",
    "        topics_to_merge_dict (dict): A dictionary specifying which topics to merge. The keys are the topic numbers to be merged, and the values are the topic numbers into which they should be merged.\n",
    "        label_names_dict (dict): A dictionary specifying the labels for the merged topics. The keys are the topic numbers, and the values are the corresponding labels.\n",
    "\n",
    "    Returns:\n",
    "        BERTopic: The resulting merged BERTopic model.\n",
    "    \"\"\"\n",
    "    topic_model_merged = copy.deepcopy(bertopic_model)\n",
    "    topic_model_merged.merge_topics(docs, topics_to_merge_dict)\n",
    "\n",
    "    # Create a dictionary to match the aggregated name to their corresponding topic number\n",
    "    mergedtopic_labels_dict = {i-1: item for i, item in enumerate(label_names_dict)}\n",
    "    # Set topic labels for the aggregated model\n",
    "    topic_model_merged.set_topic_labels(mergedtopic_labels_dict)\n",
    "\n",
    "    return topic_model_merged### Création du modèle bertopic aggrégé pour topics finaux\n",
    "\n",
    "# List of topics numbers. Each value of this list is a list that contains the topic number of the topics to join together\n",
    "topics_to_merge = [ [42,3,0,13], #Delivery Deadlines : challenges and strategies involved in managing delivery deadlines in logistics operations. (vert)\n",
    "                    [20,50,27], #Quotation and Pricing Strategies (vert bas)\n",
    "                    [35,32], #Touch Panels and Screens (rouge, haut)\n",
    "                    [40,36], #Frequency Converters : frequency converters used in industrial applications and the technical support provided by manufacturers and suppliers (rouge, suite)\n",
    "                    [37,21,6,12,9,4,1,14,16,31,19], #“Automation Components” : hardware and software components used in industrial automation systems. (rouge centre)\n",
    "                    [33,46,8], #Product Evaluation : evaluate the quality, affordability and reliability of products and services (rouge, fin)\n",
    "                    [44,51,23,41,49,57,22], #Customer Support : Reliability and Quality in Customer Service and Support (bleu ciel)\n",
    "                    [58,59], #Quick Customer Service (marron)\n",
    "                    [38,10,26,52,39,43], #Problem Solving and Communication (focus on the importance of being efficient and precise when solving problems) (jaune)\n",
    "                    [45,47,55,53,54], #Assistance and Guidance (noir)\n",
    "                    [29,30,11,24], #Power Supply Issues (2e vert, haut)\n",
    "                    [7,5,2,25,15,34,18,28,17], #Technical Support (2e vert, bas)\n",
    "                    [48,56] #None : positive feedback (2e rouge)\n",
    "]\n",
    "\n",
    "# Set the topic names for the new aggregated topic\n",
    "# It must match the order from the topics_to_merge list\n",
    "label_names = [\n",
    "    \"Outliers\",\n",
    "    \"Automation Components\",\n",
    "    \"Technical Support\",\n",
    "    \"Delivery Deadlines\",\n",
    "    \"Problem Solving & Comm\",\n",
    "    \"Power Supply Issues\",\n",
    "    \"Customer Support\", #Reliability and Quality in Customer Service and Support\n",
    "    \"Product Evaluation\",\n",
    "    \"Pricing\", #Quotation and Pricing Strategies\n",
    "    \"Assistance\", #Assistance and Guidance\n",
    "    \"Touch Screens\", #Touch Panels and Screens\n",
    "    \"Frequency Converters\",\n",
    "    \"Positive feedback\",\n",
    "    \"Quick Customer Service\"\n",
    "    ]\n",
    "\n",
    "# Create a new merged bertopic model \n",
    "topic_model_merged = create_merged_model(docs, topic_model, topics_to_merge, label_names)\n",
    "# topic_model_merged.get_topic_info()"
   ]
  },
  {
   "cell_type": "code",
   "execution_count": 23,
   "metadata": {},
   "outputs": [],
   "source": [
    "def add_percentage(df, topic_col='Topic', freq_col='Frequency', include_outliers=False):\n",
    "    \"\"\"\n",
    "    This function adds two percentage columns to a dataframe. The first percentage is calculated as the frequency of each topic within each class. The second percentage is calculated as the frequency of each class within each topic.\n",
    "    \n",
    "    Parameters:\n",
    "    df (DataFrame): The input dataframe.\n",
    "    topic_col (str, optional): The name of the topic column in the dataframe. Defaults to 'Topic'.\n",
    "    freq_col (str, optional): The name of the frequency column in the dataframe. Defaults to 'Frequency'.\n",
    "    include_outliers (bool, optional): Whether to include outliers (topic number -1) in the percentage computation. Defaults to True.\n",
    "\n",
    "    Returns:\n",
    "    DataFrame: A dataframe with added 'Topic_Percentage' and 'Class_Percentage' columns.\n",
    "    \"\"\" \n",
    "    # If not including outliers, remove them from the dataframe\n",
    "    if not include_outliers:\n",
    "        df = df[df[topic_col] != -1]\n",
    "\n",
    "    # Check if columns exist in dataframe\n",
    "    for col in [col for col in [topic_col, freq_col] if col is not None]:\n",
    "        if col not in df.columns:\n",
    "            print(f\"Warning: Column '{col}' not found in dataframe. The function will proceed with default column names.\")\n",
    "\n",
    "    # Calculate the total frequency per topic\n",
    "    df_total_topic = df.groupby(topic_col)[freq_col].sum().reset_index()\n",
    "    df_total_topic.columns = [topic_col, 'Total_Topic']\n",
    "\n",
    "    # Calculate the total frequency per class\n",
    "    df_total_class = df.groupby(\"Class\")[freq_col].sum().reset_index()\n",
    "    df_total_class.columns = [\"Class\", 'Total_Class']\n",
    "\n",
    "    # Merge these two dataframes with original dataframe\n",
    "    df_merged = pd.merge(df, df_total_topic, on=topic_col)\n",
    "    df_merged = pd.merge(df_merged, df_total_class, on=\"Class\")\n",
    "\n",
    "    # Calculate the percentages and round to 2 decimal places\n",
    "    df_merged['Topic_Percentage'] = (df_merged[freq_col] / df_merged['Total_Topic'] * 100).round(2)\n",
    "    df_merged['Class_Percentage'] = (df_merged[freq_col] / df_merged['Total_Class'] * 100).round(2)\n",
    "    \n",
    "    # Replace NaN values with 0\n",
    "    df_merged['Topic_Percentage'].fillna(0, inplace=True)\n",
    "    df_merged['Class_Percentage'].fillna(0, inplace=True)\n",
    "\n",
    "    # Drop the 'Total' columns\n",
    "    df_merged.drop(columns=['Total_Topic', 'Total_Class'], inplace=True)\n",
    "\n",
    "    return df_merged\n",
    "\n",
    "def add_customLabelCol(df, bertopic_model):\n",
    "    \"\"\"\n",
    "    This function adds a new column 'Name' to the input DataFrame 'df' based on the custom labels \n",
    "    from the BERTopic model 'bertopic_model'. The new column 'Name' is mapped from the 'Topic' \n",
    "    column of the DataFrame using the custom labels.\n",
    "\n",
    "    Parameters:\n",
    "    df (pandas.DataFrame): The input DataFrame to which the new column will be added.\n",
    "    bertopic_model (BERTopic): The BERTopic model which contains the custom labels.\n",
    "\n",
    "    Returns:\n",
    "    new_df (pandas.DataFrame): The DataFrame with the added 'Name' column.\n",
    "    \"\"\"\n",
    "    new_df=df\n",
    "    custom_labels = bertopic_model.custom_labels_\n",
    "    custom_labels_dict = {i-1: label for i, label in enumerate(custom_labels)}\n",
    "    # Add a new column 'Custom_Label' to the DataFrame\n",
    "    new_df['Name'] = new_df['Topic'].map(custom_labels_dict)\n",
    "    return new_df\n",
    "\n",
    "def create_topics_per_class_df(df, bertopic_model, classes_column, filter_value=None,  sortedBy=None, ascending=True):\n",
    "    \"\"\"\n",
    "    Computes the distribution of topics per class in the given DataFrame. Optionally filters the data by a given subclass and sorts the resulting DataFrame.\n",
    "\n",
    "    Parameters:\n",
    "    df (pandas.DataFrame): The input DataFrame.\n",
    "    bertopic_model (BERTopic): The BERTopic model used to compute the topics.\n",
    "    classes_column (str): The name of the column in df that contains the class values.\n",
    "    filter_value (str, optional): The value of the subclass to filter the data by. Required if filter is True.\n",
    "    sortedBy (str, optional): Column name to sort by. Must be either None (default), 'Frequency', 'Class', 'Topic_Percentage' or 'Class_Percentage'.\n",
    "    ascending (bool, optional): Whether to sort in ascending order. Default is True. Can only be used if sortedBy is not None.\n",
    "\n",
    "    Returns:\n",
    "    pandas.DataFrame: A DataFrame containing the topic number, the list of words that describe the topic, and the frequency and percentage of documents from this topic that belong to each class.\n",
    "    \"\"\"\n",
    "    # Check that the value of sortedBy is valid\n",
    "    if sortedBy not in [None, \"Frequency\", \"Class\", \"Topic_Percentage\", \"Class_Percentage\"]:\n",
    "        raise ValueError(\"sortedBy must be either None (default value), 'Frequency',  'Class', 'Topic_Percentage' or 'Class_Percentage'\")\n",
    "    # Check that ascending is only used if sortedBy is not None\n",
    "    if sortedBy is None and ascending != True:\n",
    "        raise ValueError(\"ascending can only be used if sortedBy parameter is used\")\n",
    "    # Check that the value of ascending is valid\n",
    "    if ascending not in [True, False]:\n",
    "        raise ValueError(\"ascending must be either True or False\")\n",
    "    \n",
    "    # Compute topics_per_class dataframe using bertopic method\n",
    "    topics_per_class = bertopic_model.topics_per_class(df[\"processed_data\"].astype(str).tolist(), classes=df[classes_column].to_list())\n",
    "    # Add percentage columns to dataframe\n",
    "    topics_per_class = add_percentage(topics_per_class, topic_col='Topic', freq_col='Frequency')\n",
    "\n",
    "    if filter_value : \n",
    "        # Filter your data based on the values from the chosen subclass\n",
    "        topics_per_class = topics_per_class[topics_per_class['Class'] == filter_value]\n",
    "\n",
    "        # Add rows for missing topics with a frequency of 0\n",
    "        topic_words = {row['Topic']: row['Name'] for _, row in bertopic_model.get_topic_info().iterrows()}\n",
    "        missing_topics = {topic for topic in bertopic_model.get_topics().keys() if topic != -1} - set(topics_per_class['Topic'].unique())\n",
    "        for topic in missing_topics:\n",
    "            for class_ in topics_per_class['Class'].unique():\n",
    "                new_row = pd.DataFrame({\n",
    "                    'Topic': [topic],\n",
    "                    'Words': [topic_words[topic]],\n",
    "                    'Frequency': [0],\n",
    "                    'Topic_Percentage': [0],\n",
    "                    'Class_Percentage': [0],\n",
    "                    'Class': [class_]\n",
    "                })\n",
    "                topics_per_class = pd.concat([topics_per_class, new_row], ignore_index=True)\n",
    "\n",
    "    # Check if there are existing custom_labels names in the bertopic model and add them in a column if there are some\n",
    "    if bertopic_model.custom_labels_ is not None :\n",
    "        topics_per_class = add_customLabelCol(topics_per_class, bertopic_model)\n",
    "    # Sort the dataframe to prepare the visualization\n",
    "    if sortedBy:\n",
    "        topics_per_class = topics_per_class.sort_values(by=sortedBy, ascending=ascending)\n",
    "    \n",
    "    return topics_per_class\n",
    "\n",
    "def visualize_topics_per_class_options(topic_model, topics_per_class, orient=\"h\", percentage_by=None, viz_from_source=False, stacked=False, **kwargs):\n",
    "    \"\"\"\n",
    "    Visualizes the distribution of topics per class with additional options for orientation and percentage usage.\n",
    "\n",
    "    Parameters:\n",
    "    topic_model : The trained BERTopic model.\n",
    "    topics_per_class : A DataFrame containing the topics per class.\n",
    "    orient (str, optional): The orientation of the plot. Defaults to \"h\".\n",
    "    use_percentage (bool, optional): Whether to use percentage for the representation of the data. Defaults to False.\n",
    "    **kwargs: Arbitrary keyword arguments for the visualize_topics_per_class_orient function.\n",
    "\n",
    "    Returns:\n",
    "    go.Figure: A Plotly figure object containing the visualization.\n",
    "    \"\"\"\n",
    "    # Modify the visualize_topics_per_class method from bertopic to be able to print a barchart vertically\n",
    "    def visualize_topics_per_class_orient(topic_model,\n",
    "                                topics_per_class: pd.DataFrame,\n",
    "                                top_n_topics: Union[int,None] = None,\n",
    "                                topics: List[int] = None,\n",
    "                                normalize_frequency: bool = False,\n",
    "                                percentage_by: Union[str,None] = None,\n",
    "                                custom_labels: Union[bool, str] = False,\n",
    "                                title: str = \"<b>Topics per Class</b>\",\n",
    "                                width: int = 1250,\n",
    "                                height: int = 900,\n",
    "                                orient: str = \"h\") -> go.Figure:\n",
    "        \"\"\"\n",
    "        Visualizes the distribution of topics per class.\n",
    "\n",
    "        Parameters:\n",
    "        topic_model : The trained BERTopic model.\n",
    "        topics_per_class (pd.DataFrame): A DataFrame containing the topics per class.\n",
    "        top_n_topics (int, optional): The number of top topics to visualize. Defaults to 10.\n",
    "        topics (List[int], optional): A list of specific topics to visualize. Defaults to None.\n",
    "        normalize_frequency (bool, optional): Whether to normalize the frequency. Defaults to False.\n",
    "        percentage_by (string, optional): Which percentage calcul to use for the representation of the data. Defaults to None.\n",
    "        custom_labels (Union[bool, str], optional): Whether to use custom labels for the topics. Defaults to False.\n",
    "        title (str, optional): The title of the plot. Defaults to \"<b>Topics per Class</b>\".\n",
    "        width (int, optional): The width of the plot. Defaults to 1250.\n",
    "        height (int, optional): The height of the plot. Defaults to 900.\n",
    "        orient (str, optional): The orientation of the plot. Defaults to \"h\".\n",
    "\n",
    "        Returns:\n",
    "        go.Figure: A Plotly figure object containing the visualization.\n",
    "        \"\"\"\n",
    "        colors = [\"#E69F00\", \"#56B4E9\", \"#009E73\", \"#F0E442\", \"#D55E00\", \"#0072B2\", \"#CC79A7\"]\n",
    "\n",
    "        if percentage_by not in [\"Topic\",\"Class\",None] :\n",
    "            raise ValueError(\"'percentage_by' possible values are ['Topic','Class', None]\")\n",
    "    \n",
    "        # Select topics based on top_n and topics args\n",
    "        freq_df = topic_model.get_topic_freq()\n",
    "        freq_df = freq_df.loc[freq_df.Topic != -1, :]\n",
    "        if topics is not None:\n",
    "            selected_topics = list(topics)\n",
    "        elif top_n_topics is not None:\n",
    "            selected_topics = sorted(freq_df.Topic.to_list()[:top_n_topics])\n",
    "        else:\n",
    "            selected_topics = sorted(freq_df.Topic.to_list())\n",
    "\n",
    "        # Prepare data\n",
    "        if isinstance(custom_labels, str):\n",
    "            topic_names = [[[str(topic), None]] + topic_model.topic_aspects_[custom_labels][topic] for topic in topics]\n",
    "            topic_names = [\"_\".join([label[0] for label in labels[:4]]) for labels in topic_names]\n",
    "            topic_names = [label if len(label) < 30 else label[:27] + \"...\" for label in topic_names]\n",
    "            topic_names = {key: topic_names[index] for index, key in enumerate(topic_model.topic_labels_.keys())}\n",
    "        elif topic_model.custom_labels_ is not None and custom_labels:\n",
    "            topic_names = {key: topic_model.custom_labels_[key + topic_model._outliers] for key, _ in topic_model.topic_labels_.items()}\n",
    "        else:\n",
    "            topic_names = {key: value[:40] + \"...\" if len(value) > 40 else value\n",
    "                        for key, value in topic_model.topic_labels_.items()}\n",
    "        topics_per_class[\"Name\"] = topics_per_class.Topic.map(topic_names)\n",
    "        data = topics_per_class.loc[topics_per_class.Topic.isin(selected_topics), :]\n",
    "\n",
    "        # Add traces\n",
    "        fig = go.Figure()\n",
    "        for index, topic in enumerate(selected_topics):\n",
    "            if index == 0:\n",
    "                visible = True\n",
    "            else:\n",
    "                visible = \"legendonly\"\n",
    "            trace_data = data.loc[data.Topic == topic, :]\n",
    "            topic_name = trace_data.Name.values[0]\n",
    "            words = trace_data.Words.values\n",
    "\n",
    "        # Check if 'percentage_by' is defined and if the corresponding percentage column exists, and use it for x values if it does\n",
    "            if percentage_by is not None :\n",
    "                col_name = f'{percentage_by}_Percentage'\n",
    "                if col_name in trace_data.columns:\n",
    "                    x = trace_data[col_name]\n",
    "                else:\n",
    "                    raise ValueError(f\"{col_name} column does not exist\")\n",
    "            elif normalize_frequency:\n",
    "                x = normalize(trace_data.Frequency.values.reshape(1, -1))[0]\n",
    "            else:\n",
    "                x = trace_data.Frequency\n",
    "\n",
    "            ### Old part from the source github of bertopic ###\n",
    "            # fig.add_trace(go.Bar(y=trace_data.Class,\n",
    "            #                      x=x,\n",
    "            #                      visible=visible,\n",
    "            #                      marker_color=colors[index % 7],\n",
    "            #                      hoverinfo=\"text\",\n",
    "            #                      name=topic_name,\n",
    "            #                      orientation=\"h\",\n",
    "            #                      hovertext=[f'<b>Topic {topic}</b><br>Words: {word}' for word in words]))\n",
    "            \n",
    "            fig.add_trace(go.Bar(y=trace_data.Class if orient == \"h\" else x,\n",
    "                                x=x if orient == \"h\" else trace_data.Class,\n",
    "                                visible=visible,\n",
    "                                marker_color=colors[index % 7],\n",
    "                                hoverinfo=\"text\",\n",
    "                                name=topic_name,\n",
    "                                orientation=orient,\n",
    "                                hovertext=[f'<b>Topic {topic_names[topic]}</b><br>Words: {word}<br>Count: {count}' for word, count in zip(words, x)] if percentage_by==None else [f'<b>Topic {topic_names[topic]}</b><br>Words: {word}<br>Count: {count}<br>Percentage: {p}%' for word, p, count in zip(words, x, trace_data.Frequency)]\n",
    "                                ))\n",
    "\n",
    "        # Styling of the visualization\n",
    "        fig.update_xaxes(showgrid=True)\n",
    "        fig.update_yaxes(showgrid=True)\n",
    "        fig.update_layout(\n",
    "            xaxis_title=\"Normalized Frequency\" if normalize_frequency else \"Frequency\",\n",
    "            yaxis_title=\"Class\",\n",
    "            barmode='stack' if stacked else \"group\",\n",
    "            title={\n",
    "                'text': f\"{title}\",\n",
    "                'y': .95,\n",
    "                'x': 0.40,\n",
    "                'xanchor': 'center',\n",
    "                'yanchor': 'top',\n",
    "                'font': dict(\n",
    "                    size=22,\n",
    "                    color=\"Black\")\n",
    "            },\n",
    "            template=\"simple_white\",\n",
    "            width=width,\n",
    "            height=height,\n",
    "            hoverlabel=dict(\n",
    "                bgcolor=\"white\",\n",
    "                font_size=16,\n",
    "                font_family=\"Rockwell\"\n",
    "            ),\n",
    "            legend=dict(\n",
    "                title=\"<b>Global Topic Representation\",\n",
    "            )\n",
    "        )\n",
    "        return fig\n",
    "\n",
    "    if viz_from_source==True and (orient!=\"h\" or percentage_by!=None):\n",
    "        raise ValueError(\"the option 'orient' and 'percentage_by' are not available in the visualization from bertopic source code\")\n",
    "    if orient==\"h\" and percentage_by==None and viz_from_source==True:\n",
    "        # using the source method to do it, without having the possibility to choose the orient (at the date of 09/2023)\n",
    "        # we keep the use of the source method even if we could use only the new visualize_topics_per_class_orient. Because it permits to know and enjoy the modifications done in visualize_topics_per_class in the future by the owner of this source code\n",
    "        fig = topic_model.visualize_topics_per_class(topics_per_class, top_n_topics=None, **kwargs)\n",
    "    else:  \n",
    "        # using the modified source method to do it, adding the option to print the chart vertically\n",
    "        fig = visualize_topics_per_class_orient(topic_model, topics_per_class, orient=orient, percentage_by=percentage_by, **kwargs)\n",
    "\n",
    "    return fig\n",
    "\n",
    "def create_chart_per_class(\n",
    "                            df, \n",
    "                            bertopic_model, \n",
    "                            classes_column, \n",
    "                            filter_value=None, \n",
    "                            sortedBy=None, \n",
    "                            ascending=True, \n",
    "                            orient=\"h\",\n",
    "                            viz_from_source=False,\n",
    "                            stacked=False,\n",
    "                            percentage_by=None,\n",
    "                            **kwargs):\n",
    "    \"\"\"\n",
    "    Create a chart representing the topics per class.\n",
    "\n",
    "    This function takes as input a dataframe `df`, a BERTopic model `bertopic_model`, a column name `classes_column` representing the classes, an optional parameter `filter_value` representing the value of the class to filter on, an optional parameter `sortedBy` which can be used to sort the topics by either \"Frequency\" or \"Name\", an optional boolean parameter `ascending` which determines the sorting order (ascending or descending), an orientation `orient` which can be either horizontal (\"h\") or vertical (\"v\"), and additional keyword arguments `**kwargs`.\n",
    "\n",
    "    The function first calls the `create_topics_per_class_df` function to create a dataframe representing the topics per class. Then, it calls the `visualize_topics_per_class_options` function to create a chart from this dataframe. The resulting chart is then returned.\n",
    "\n",
    "    Parameters:\n",
    "        df (pandas.DataFrame): The input dataframe containing the data to be visualized.\n",
    "        bertopic_model (BERTopic): The BERTopic model used to calculate the topics per class.\n",
    "        classes_column (str): The name of the column in `df` representing the classes.\n",
    "        filter_value: An optional parameter representing the value of the subclass to filter on. Only used if `filter` is True. Defaults to None.\n",
    "        sortedBy (str): An optional parameter used to sort the topics by either \"Frequency\" or \"Name\". Defaults to None.\n",
    "        ascending (bool): An optional boolean parameter used to determine the sorting order. If True, sorts in ascending order. If False, sorts in descending order. Defaults to True.\n",
    "        orient (str): The orientation of the visualization. Can be either \"h\" for horizontal or \"v\" for vertical. Defaults to \"h\".\n",
    "        **kwargs: Additional keyword arguments passed to the visualization method.\n",
    "\n",
    "    Returns:\n",
    "        plotly.graph_objs.Figure: The resulting chart representing the topics per class.\n",
    "    \"\"\"\n",
    "    topics_per_class = create_topics_per_class_df(df, bertopic_model, classes_column, filter_value=filter_value, sortedBy=sortedBy, ascending=ascending)\n",
    "    fig = visualize_topics_per_class_options(bertopic_model, topics_per_class, orient=orient, viz_from_source=viz_from_source, stacked=stacked, percentage_by=percentage_by, **kwargs)\n",
    "\n",
    "    return fig \n",
    "\n",
    "def save_graph_html(fig, path, name):\n",
    "    \"\"\"\n",
    "    Saves a Plotly figure as an HTML file at the specified path.\n",
    "\n",
    "    Parameters: \n",
    "    fig (go.Figure): The Plotly figure to save.\n",
    "    path (str): The directory where the HTML file will be saved.\n",
    "    name (str): The name of the HTML file (without the .html extension).\n",
    "\n",
    "    Returns:\n",
    "    None\n",
    "    \"\"\"\n",
    "    # Create the directory if it doesn't exist\n",
    "    if not os.path.exists(path):\n",
    "        os.makedirs(path)\n",
    "        \n",
    "    return fig.write_html(path+\"/\"+name+\".html\")"
   ]
  },
  {
   "cell_type": "code",
   "execution_count": 5,
   "metadata": {},
   "outputs": [
    {
     "data": {
      "application/vnd.plotly.v1+json": {
       "config": {
        "plotlyServerURL": "https://plot.ly"
       },
       "data": [
        {
         "hoverinfo": "text",
         "hovertext": [
          "<b>Topic Automation Components</b><br>Words: technical support, inverters, issues, inverter, siemens<br>Percentage: 27.72%",
          "<b>Topic Automation Components</b><br>Words: technical support, programmable logic controller, switches, equipment, siemens<br>Percentage: 24.54%",
          "<b>Topic Automation Components</b><br>Words: technical support, equipment, siemens, switches, switchgear<br>Percentage: 35.24%"
         ],
         "marker": {
          "color": "#E69F00"
         },
         "name": "Automation Components",
         "orientation": "v",
         "type": "bar",
         "visible": true,
         "x": [
          "negative",
          "neutral",
          "positive"
         ],
         "y": [
          27.72,
          24.54,
          35.24
         ]
        },
        {
         "hoverinfo": "text",
         "hovertext": [
          "<b>Topic Technical Support</b><br>Words: technical support, customer service, response time, service, customer<br>Percentage: 12.92%",
          "<b>Topic Technical Support</b><br>Words: response time, technical support, professionalism, technicians, responses<br>Percentage: 28.1%",
          "<b>Topic Technical Support</b><br>Words: technical support, technicians, technician, technical, customer service<br>Percentage: 25.88%"
         ],
         "marker": {
          "color": "#56B4E9"
         },
         "name": "Technical Support",
         "orientation": "v",
         "type": "bar",
         "visible": "legendonly",
         "x": [
          "negative",
          "neutral",
          "positive"
         ],
         "y": [
          12.92,
          28.1,
          25.88
         ]
        },
        {
         "hoverinfo": "text",
         "hovertext": [
          "<b>Topic Delivery Deadlines</b><br>Words: delivery time, deliveries, delivery date, delivery, orders<br>Percentage: 11.29%",
          "<b>Topic Delivery Deadlines</b><br>Words: delivery time, deliveries, delivery date, delivery, shipments<br>Percentage: 20.32%",
          "<b>Topic Delivery Deadlines</b><br>Words: delivery time, delivery date, deliveries, delivery, delays<br>Percentage: 38.71%"
         ],
         "marker": {
          "color": "#009E73"
         },
         "name": "Delivery Deadlines",
         "orientation": "v",
         "type": "bar",
         "visible": "legendonly",
         "x": [
          "positive",
          "neutral",
          "negative"
         ],
         "y": [
          11.29,
          20.32,
          38.71
         ]
        },
        {
         "hoverinfo": "text",
         "hovertext": [
          "<b>Topic Problem Solving & Comm</b><br>Words: answered, answers, respond, questions, replies<br>Percentage: 1.84%",
          "<b>Topic Problem Solving & Comm</b><br>Words: answers, answered, answer, question, response<br>Percentage: 7.77%",
          "<b>Topic Problem Solving & Comm</b><br>Words: answered, answers, quick response, precise, response<br>Percentage: 5.45%"
         ],
         "marker": {
          "color": "#F0E442"
         },
         "name": "Problem Solving & Comm",
         "orientation": "v",
         "type": "bar",
         "visible": "legendonly",
         "x": [
          "negative",
          "neutral",
          "positive"
         ],
         "y": [
          1.84,
          7.77,
          5.45
         ]
        },
        {
         "hoverinfo": "text",
         "hovertext": [
          "<b>Topic Power Supply Issues</b><br>Words: ups, uninterruptible power supply, technical support, troubleshooting, power supply<br>Percentage: 7.02%",
          "<b>Topic Power Supply Issues</b><br>Words: ups, warranty, battery, apc, repair<br>Percentage: 5.61%",
          "<b>Topic Power Supply Issues</b><br>Words: ups, uninterruptible power supply, reliability, technical support, faults<br>Percentage: 3.44%"
         ],
         "marker": {
          "color": "#D55E00"
         },
         "name": "Power Supply Issues",
         "orientation": "v",
         "type": "bar",
         "visible": "legendonly",
         "x": [
          "negative",
          "neutral",
          "positive"
         ],
         "y": [
          7.02,
          5.61,
          3.44
         ]
        },
        {
         "hoverinfo": "text",
         "hovertext": [
          "<b>Topic Customer Support</b><br>Words: technical support, support, reliable, customer service, reliability<br>Percentage: 1.19%",
          "<b>Topic Customer Support</b><br>Words: technical support, products, sales, cooperation, quality<br>Percentage: 2.61%",
          "<b>Topic Customer Support</b><br>Words: technical support, quality, reliable, technical service, availability<br>Percentage: 6.29%"
         ],
         "marker": {
          "color": "#0072B2"
         },
         "name": "Customer Support",
         "orientation": "v",
         "type": "bar",
         "visible": "legendonly",
         "x": [
          "negative",
          "neutral",
          "positive"
         ],
         "y": [
          1.19,
          2.61,
          6.29
         ]
        },
        {
         "hoverinfo": "text",
         "hovertext": [
          "<b>Topic Product Evaluation</b><br>Words: rating, rate, quality, feedback, performance<br>Percentage: 2.87%",
          "<b>Topic Product Evaluation</b><br>Words: pricing, rating, quality, priced, sales<br>Percentage: 2.58%",
          "<b>Topic Product Evaluation</b><br>Words: rating, quality, performance, reliability, reliable<br>Percentage: 4.34%"
         ],
         "marker": {
          "color": "#CC79A7"
         },
         "name": "Product Evaluation",
         "orientation": "v",
         "type": "bar",
         "visible": "legendonly",
         "x": [
          "negative",
          "neutral",
          "positive"
         ],
         "y": [
          2.87,
          2.58,
          4.34
         ]
        },
        {
         "hoverinfo": "text",
         "hovertext": [
          "<b>Topic Pricing</b><br>Words: pricing, invoices, invoice, discounts, buyer<br>Percentage: 1.32%",
          "<b>Topic Pricing</b><br>Words: pricing, discount, prices, orders, invoicing<br>Percentage: 3.83%",
          "<b>Topic Pricing</b><br>Words: invoices, invoice, bid, quotations, pricing<br>Percentage: 3.67%"
         ],
         "marker": {
          "color": "#E69F00"
         },
         "name": "Pricing",
         "orientation": "v",
         "type": "bar",
         "visible": "legendonly",
         "x": [
          "positive",
          "negative",
          "neutral"
         ],
         "y": [
          1.32,
          3.83,
          3.67
         ]
        },
        {
         "hoverinfo": "text",
         "hovertext": [
          "<b>Topic Assistance</b><br>Words: feedback, response time, delays, delayed, timely<br>Percentage: 0.56%",
          "<b>Topic Assistance</b><br>Words: responsiveness, responsive, feedback, resolution, adequate<br>Percentage: 1.41%",
          "<b>Topic Assistance</b><br>Words: advice, competently, competent, quickly, feedback<br>Percentage: 2.48%"
         ],
         "marker": {
          "color": "#56B4E9"
         },
         "name": "Assistance",
         "orientation": "v",
         "type": "bar",
         "visible": "legendonly",
         "x": [
          "negative",
          "neutral",
          "positive"
         ],
         "y": [
          0.56,
          1.41,
          2.48
         ]
        },
        {
         "hoverinfo": "text",
         "hovertext": [
          "<b>Topic Touch Screens</b><br>Words: touch panel, touch screen, touch, panel, manufacturers<br>Percentage: 0.77%",
          "<b>Topic Touch Screens</b><br>Words: touch panel, touch screen, touch, repair, siemens<br>Percentage: 2.09%",
          "<b>Topic Touch Screens</b><br>Words: manufacturers, touch panel, siemens, manufacturer, gp4501<br>Percentage: 2.01%"
         ],
         "marker": {
          "color": "#009E73"
         },
         "name": "Touch Screens",
         "orientation": "v",
         "type": "bar",
         "visible": "legendonly",
         "x": [
          "positive",
          "negative",
          "neutral"
         ],
         "y": [
          0.77,
          2.09,
          2.01
         ]
        },
        {
         "hoverinfo": "text",
         "hovertext": [
          "<b>Topic Frequency Converters</b><br>Words: frequency converters, converters, frequency, hz, converter<br>Percentage: 0.62%",
          "<b>Topic Frequency Converters</b><br>Words: frequency converters, converters, converter, frequency, technical support<br>Percentage: 1.26%",
          "<b>Topic Frequency Converters</b><br>Words: frequency converters, technical support, customer support, customer service, contactors<br>Percentage: 1.52%"
         ],
         "marker": {
          "color": "#F0E442"
         },
         "name": "Frequency Converters",
         "orientation": "v",
         "type": "bar",
         "visible": "legendonly",
         "x": [
          "neutral",
          "negative",
          "positive"
         ],
         "y": [
          0.62,
          1.26,
          1.52
         ]
        },
        {
         "hoverinfo": "text",
         "hovertext": [
          "<b>Topic Positive feedback</b><br>Words: service, welcome, excellent, appreciate, helpful<br>Percentage: 1.37%"
         ],
         "marker": {
          "color": "#D55E00"
         },
         "name": "Positive feedback",
         "orientation": "v",
         "type": "bar",
         "visible": "legendonly",
         "x": [
          "positive"
         ],
         "y": [
          1.37
         ]
        },
        {
         "hoverinfo": "text",
         "hovertext": [
          "<b>Topic Quick Customer Service</b><br>Words: quick response, quick, response, reply, short<br>Percentage: 0.75%",
          "<b>Topic Quick Customer Service</b><br>Words: quick response, quick, response, quicker, speedy<br>Percentage: 0.59%"
         ],
         "marker": {
          "color": "#0072B2"
         },
         "name": "Quick Customer Service",
         "orientation": "v",
         "type": "bar",
         "visible": "legendonly",
         "x": [
          "neutral",
          "positive"
         ],
         "y": [
          0.75,
          0.59
         ]
        }
       ],
       "layout": {
        "barmode": "group",
        "height": 750,
        "hoverlabel": {
         "bgcolor": "white",
         "font": {
          "family": "Rockwell",
          "size": 16
         }
        },
        "legend": {
         "title": {
          "text": "<b>Global Topic Representation"
         }
        },
        "template": {
         "data": {
          "bar": [
           {
            "error_x": {
             "color": "rgb(36,36,36)"
            },
            "error_y": {
             "color": "rgb(36,36,36)"
            },
            "marker": {
             "line": {
              "color": "white",
              "width": 0.5
             },
             "pattern": {
              "fillmode": "overlay",
              "size": 10,
              "solidity": 0.2
             }
            },
            "type": "bar"
           }
          ],
          "barpolar": [
           {
            "marker": {
             "line": {
              "color": "white",
              "width": 0.5
             },
             "pattern": {
              "fillmode": "overlay",
              "size": 10,
              "solidity": 0.2
             }
            },
            "type": "barpolar"
           }
          ],
          "carpet": [
           {
            "aaxis": {
             "endlinecolor": "rgb(36,36,36)",
             "gridcolor": "white",
             "linecolor": "white",
             "minorgridcolor": "white",
             "startlinecolor": "rgb(36,36,36)"
            },
            "baxis": {
             "endlinecolor": "rgb(36,36,36)",
             "gridcolor": "white",
             "linecolor": "white",
             "minorgridcolor": "white",
             "startlinecolor": "rgb(36,36,36)"
            },
            "type": "carpet"
           }
          ],
          "choropleth": [
           {
            "colorbar": {
             "outlinewidth": 1,
             "tickcolor": "rgb(36,36,36)",
             "ticks": "outside"
            },
            "type": "choropleth"
           }
          ],
          "contour": [
           {
            "colorbar": {
             "outlinewidth": 1,
             "tickcolor": "rgb(36,36,36)",
             "ticks": "outside"
            },
            "colorscale": [
             [
              0,
              "#440154"
             ],
             [
              0.1111111111111111,
              "#482878"
             ],
             [
              0.2222222222222222,
              "#3e4989"
             ],
             [
              0.3333333333333333,
              "#31688e"
             ],
             [
              0.4444444444444444,
              "#26828e"
             ],
             [
              0.5555555555555556,
              "#1f9e89"
             ],
             [
              0.6666666666666666,
              "#35b779"
             ],
             [
              0.7777777777777778,
              "#6ece58"
             ],
             [
              0.8888888888888888,
              "#b5de2b"
             ],
             [
              1,
              "#fde725"
             ]
            ],
            "type": "contour"
           }
          ],
          "contourcarpet": [
           {
            "colorbar": {
             "outlinewidth": 1,
             "tickcolor": "rgb(36,36,36)",
             "ticks": "outside"
            },
            "type": "contourcarpet"
           }
          ],
          "heatmap": [
           {
            "colorbar": {
             "outlinewidth": 1,
             "tickcolor": "rgb(36,36,36)",
             "ticks": "outside"
            },
            "colorscale": [
             [
              0,
              "#440154"
             ],
             [
              0.1111111111111111,
              "#482878"
             ],
             [
              0.2222222222222222,
              "#3e4989"
             ],
             [
              0.3333333333333333,
              "#31688e"
             ],
             [
              0.4444444444444444,
              "#26828e"
             ],
             [
              0.5555555555555556,
              "#1f9e89"
             ],
             [
              0.6666666666666666,
              "#35b779"
             ],
             [
              0.7777777777777778,
              "#6ece58"
             ],
             [
              0.8888888888888888,
              "#b5de2b"
             ],
             [
              1,
              "#fde725"
             ]
            ],
            "type": "heatmap"
           }
          ],
          "heatmapgl": [
           {
            "colorbar": {
             "outlinewidth": 1,
             "tickcolor": "rgb(36,36,36)",
             "ticks": "outside"
            },
            "colorscale": [
             [
              0,
              "#440154"
             ],
             [
              0.1111111111111111,
              "#482878"
             ],
             [
              0.2222222222222222,
              "#3e4989"
             ],
             [
              0.3333333333333333,
              "#31688e"
             ],
             [
              0.4444444444444444,
              "#26828e"
             ],
             [
              0.5555555555555556,
              "#1f9e89"
             ],
             [
              0.6666666666666666,
              "#35b779"
             ],
             [
              0.7777777777777778,
              "#6ece58"
             ],
             [
              0.8888888888888888,
              "#b5de2b"
             ],
             [
              1,
              "#fde725"
             ]
            ],
            "type": "heatmapgl"
           }
          ],
          "histogram": [
           {
            "marker": {
             "line": {
              "color": "white",
              "width": 0.6
             }
            },
            "type": "histogram"
           }
          ],
          "histogram2d": [
           {
            "colorbar": {
             "outlinewidth": 1,
             "tickcolor": "rgb(36,36,36)",
             "ticks": "outside"
            },
            "colorscale": [
             [
              0,
              "#440154"
             ],
             [
              0.1111111111111111,
              "#482878"
             ],
             [
              0.2222222222222222,
              "#3e4989"
             ],
             [
              0.3333333333333333,
              "#31688e"
             ],
             [
              0.4444444444444444,
              "#26828e"
             ],
             [
              0.5555555555555556,
              "#1f9e89"
             ],
             [
              0.6666666666666666,
              "#35b779"
             ],
             [
              0.7777777777777778,
              "#6ece58"
             ],
             [
              0.8888888888888888,
              "#b5de2b"
             ],
             [
              1,
              "#fde725"
             ]
            ],
            "type": "histogram2d"
           }
          ],
          "histogram2dcontour": [
           {
            "colorbar": {
             "outlinewidth": 1,
             "tickcolor": "rgb(36,36,36)",
             "ticks": "outside"
            },
            "colorscale": [
             [
              0,
              "#440154"
             ],
             [
              0.1111111111111111,
              "#482878"
             ],
             [
              0.2222222222222222,
              "#3e4989"
             ],
             [
              0.3333333333333333,
              "#31688e"
             ],
             [
              0.4444444444444444,
              "#26828e"
             ],
             [
              0.5555555555555556,
              "#1f9e89"
             ],
             [
              0.6666666666666666,
              "#35b779"
             ],
             [
              0.7777777777777778,
              "#6ece58"
             ],
             [
              0.8888888888888888,
              "#b5de2b"
             ],
             [
              1,
              "#fde725"
             ]
            ],
            "type": "histogram2dcontour"
           }
          ],
          "mesh3d": [
           {
            "colorbar": {
             "outlinewidth": 1,
             "tickcolor": "rgb(36,36,36)",
             "ticks": "outside"
            },
            "type": "mesh3d"
           }
          ],
          "parcoords": [
           {
            "line": {
             "colorbar": {
              "outlinewidth": 1,
              "tickcolor": "rgb(36,36,36)",
              "ticks": "outside"
             }
            },
            "type": "parcoords"
           }
          ],
          "pie": [
           {
            "automargin": true,
            "type": "pie"
           }
          ],
          "scatter": [
           {
            "fillpattern": {
             "fillmode": "overlay",
             "size": 10,
             "solidity": 0.2
            },
            "type": "scatter"
           }
          ],
          "scatter3d": [
           {
            "line": {
             "colorbar": {
              "outlinewidth": 1,
              "tickcolor": "rgb(36,36,36)",
              "ticks": "outside"
             }
            },
            "marker": {
             "colorbar": {
              "outlinewidth": 1,
              "tickcolor": "rgb(36,36,36)",
              "ticks": "outside"
             }
            },
            "type": "scatter3d"
           }
          ],
          "scattercarpet": [
           {
            "marker": {
             "colorbar": {
              "outlinewidth": 1,
              "tickcolor": "rgb(36,36,36)",
              "ticks": "outside"
             }
            },
            "type": "scattercarpet"
           }
          ],
          "scattergeo": [
           {
            "marker": {
             "colorbar": {
              "outlinewidth": 1,
              "tickcolor": "rgb(36,36,36)",
              "ticks": "outside"
             }
            },
            "type": "scattergeo"
           }
          ],
          "scattergl": [
           {
            "marker": {
             "colorbar": {
              "outlinewidth": 1,
              "tickcolor": "rgb(36,36,36)",
              "ticks": "outside"
             }
            },
            "type": "scattergl"
           }
          ],
          "scattermapbox": [
           {
            "marker": {
             "colorbar": {
              "outlinewidth": 1,
              "tickcolor": "rgb(36,36,36)",
              "ticks": "outside"
             }
            },
            "type": "scattermapbox"
           }
          ],
          "scatterpolar": [
           {
            "marker": {
             "colorbar": {
              "outlinewidth": 1,
              "tickcolor": "rgb(36,36,36)",
              "ticks": "outside"
             }
            },
            "type": "scatterpolar"
           }
          ],
          "scatterpolargl": [
           {
            "marker": {
             "colorbar": {
              "outlinewidth": 1,
              "tickcolor": "rgb(36,36,36)",
              "ticks": "outside"
             }
            },
            "type": "scatterpolargl"
           }
          ],
          "scatterternary": [
           {
            "marker": {
             "colorbar": {
              "outlinewidth": 1,
              "tickcolor": "rgb(36,36,36)",
              "ticks": "outside"
             }
            },
            "type": "scatterternary"
           }
          ],
          "surface": [
           {
            "colorbar": {
             "outlinewidth": 1,
             "tickcolor": "rgb(36,36,36)",
             "ticks": "outside"
            },
            "colorscale": [
             [
              0,
              "#440154"
             ],
             [
              0.1111111111111111,
              "#482878"
             ],
             [
              0.2222222222222222,
              "#3e4989"
             ],
             [
              0.3333333333333333,
              "#31688e"
             ],
             [
              0.4444444444444444,
              "#26828e"
             ],
             [
              0.5555555555555556,
              "#1f9e89"
             ],
             [
              0.6666666666666666,
              "#35b779"
             ],
             [
              0.7777777777777778,
              "#6ece58"
             ],
             [
              0.8888888888888888,
              "#b5de2b"
             ],
             [
              1,
              "#fde725"
             ]
            ],
            "type": "surface"
           }
          ],
          "table": [
           {
            "cells": {
             "fill": {
              "color": "rgb(237,237,237)"
             },
             "line": {
              "color": "white"
             }
            },
            "header": {
             "fill": {
              "color": "rgb(217,217,217)"
             },
             "line": {
              "color": "white"
             }
            },
            "type": "table"
           }
          ]
         },
         "layout": {
          "annotationdefaults": {
           "arrowhead": 0,
           "arrowwidth": 1
          },
          "autotypenumbers": "strict",
          "coloraxis": {
           "colorbar": {
            "outlinewidth": 1,
            "tickcolor": "rgb(36,36,36)",
            "ticks": "outside"
           }
          },
          "colorscale": {
           "diverging": [
            [
             0,
             "rgb(103,0,31)"
            ],
            [
             0.1,
             "rgb(178,24,43)"
            ],
            [
             0.2,
             "rgb(214,96,77)"
            ],
            [
             0.3,
             "rgb(244,165,130)"
            ],
            [
             0.4,
             "rgb(253,219,199)"
            ],
            [
             0.5,
             "rgb(247,247,247)"
            ],
            [
             0.6,
             "rgb(209,229,240)"
            ],
            [
             0.7,
             "rgb(146,197,222)"
            ],
            [
             0.8,
             "rgb(67,147,195)"
            ],
            [
             0.9,
             "rgb(33,102,172)"
            ],
            [
             1,
             "rgb(5,48,97)"
            ]
           ],
           "sequential": [
            [
             0,
             "#440154"
            ],
            [
             0.1111111111111111,
             "#482878"
            ],
            [
             0.2222222222222222,
             "#3e4989"
            ],
            [
             0.3333333333333333,
             "#31688e"
            ],
            [
             0.4444444444444444,
             "#26828e"
            ],
            [
             0.5555555555555556,
             "#1f9e89"
            ],
            [
             0.6666666666666666,
             "#35b779"
            ],
            [
             0.7777777777777778,
             "#6ece58"
            ],
            [
             0.8888888888888888,
             "#b5de2b"
            ],
            [
             1,
             "#fde725"
            ]
           ],
           "sequentialminus": [
            [
             0,
             "#440154"
            ],
            [
             0.1111111111111111,
             "#482878"
            ],
            [
             0.2222222222222222,
             "#3e4989"
            ],
            [
             0.3333333333333333,
             "#31688e"
            ],
            [
             0.4444444444444444,
             "#26828e"
            ],
            [
             0.5555555555555556,
             "#1f9e89"
            ],
            [
             0.6666666666666666,
             "#35b779"
            ],
            [
             0.7777777777777778,
             "#6ece58"
            ],
            [
             0.8888888888888888,
             "#b5de2b"
            ],
            [
             1,
             "#fde725"
            ]
           ]
          },
          "colorway": [
           "#1F77B4",
           "#FF7F0E",
           "#2CA02C",
           "#D62728",
           "#9467BD",
           "#8C564B",
           "#E377C2",
           "#7F7F7F",
           "#BCBD22",
           "#17BECF"
          ],
          "font": {
           "color": "rgb(36,36,36)"
          },
          "geo": {
           "bgcolor": "white",
           "lakecolor": "white",
           "landcolor": "white",
           "showlakes": true,
           "showland": true,
           "subunitcolor": "white"
          },
          "hoverlabel": {
           "align": "left"
          },
          "hovermode": "closest",
          "mapbox": {
           "style": "light"
          },
          "paper_bgcolor": "white",
          "plot_bgcolor": "white",
          "polar": {
           "angularaxis": {
            "gridcolor": "rgb(232,232,232)",
            "linecolor": "rgb(36,36,36)",
            "showgrid": false,
            "showline": true,
            "ticks": "outside"
           },
           "bgcolor": "white",
           "radialaxis": {
            "gridcolor": "rgb(232,232,232)",
            "linecolor": "rgb(36,36,36)",
            "showgrid": false,
            "showline": true,
            "ticks": "outside"
           }
          },
          "scene": {
           "xaxis": {
            "backgroundcolor": "white",
            "gridcolor": "rgb(232,232,232)",
            "gridwidth": 2,
            "linecolor": "rgb(36,36,36)",
            "showbackground": true,
            "showgrid": false,
            "showline": true,
            "ticks": "outside",
            "zeroline": false,
            "zerolinecolor": "rgb(36,36,36)"
           },
           "yaxis": {
            "backgroundcolor": "white",
            "gridcolor": "rgb(232,232,232)",
            "gridwidth": 2,
            "linecolor": "rgb(36,36,36)",
            "showbackground": true,
            "showgrid": false,
            "showline": true,
            "ticks": "outside",
            "zeroline": false,
            "zerolinecolor": "rgb(36,36,36)"
           },
           "zaxis": {
            "backgroundcolor": "white",
            "gridcolor": "rgb(232,232,232)",
            "gridwidth": 2,
            "linecolor": "rgb(36,36,36)",
            "showbackground": true,
            "showgrid": false,
            "showline": true,
            "ticks": "outside",
            "zeroline": false,
            "zerolinecolor": "rgb(36,36,36)"
           }
          },
          "shapedefaults": {
           "fillcolor": "black",
           "line": {
            "width": 0
           },
           "opacity": 0.3
          },
          "ternary": {
           "aaxis": {
            "gridcolor": "rgb(232,232,232)",
            "linecolor": "rgb(36,36,36)",
            "showgrid": false,
            "showline": true,
            "ticks": "outside"
           },
           "baxis": {
            "gridcolor": "rgb(232,232,232)",
            "linecolor": "rgb(36,36,36)",
            "showgrid": false,
            "showline": true,
            "ticks": "outside"
           },
           "bgcolor": "white",
           "caxis": {
            "gridcolor": "rgb(232,232,232)",
            "linecolor": "rgb(36,36,36)",
            "showgrid": false,
            "showline": true,
            "ticks": "outside"
           }
          },
          "title": {
           "x": 0.05
          },
          "xaxis": {
           "automargin": true,
           "gridcolor": "rgb(232,232,232)",
           "linecolor": "rgb(36,36,36)",
           "showgrid": false,
           "showline": true,
           "ticks": "outside",
           "title": {
            "standoff": 15
           },
           "zeroline": false,
           "zerolinecolor": "rgb(36,36,36)"
          },
          "yaxis": {
           "automargin": true,
           "gridcolor": "rgb(232,232,232)",
           "linecolor": "rgb(36,36,36)",
           "showgrid": false,
           "showline": true,
           "ticks": "outside",
           "title": {
            "standoff": 15
           },
           "zeroline": false,
           "zerolinecolor": "rgb(36,36,36)"
          }
         }
        },
        "title": {
         "font": {
          "color": "Black",
          "size": 22
         },
         "text": "Topics per Sentiment",
         "x": 0.4,
         "xanchor": "center",
         "y": 0.95,
         "yanchor": "top"
        },
        "width": 500,
        "xaxis": {
         "showgrid": true,
         "title": {
          "text": "Frequency"
         }
        },
        "yaxis": {
         "showgrid": true,
         "title": {
          "text": "Class"
         }
        }
       }
      }
     },
     "metadata": {},
     "output_type": "display_data"
    }
   ],
   "source": [
    "fig = create_chart_per_class(df, topic_model_merged, \"sentiment_label\", \n",
    "                             sortedBy=\"Frequency\", \n",
    "                             orient=\"v\", \n",
    "                             custom_labels=True, \n",
    "                             percentage_by=\"Class\",\n",
    "                             title=\"Topics per Sentiment\", \n",
    "                             width=500, height=750)\n",
    "\n",
    "fig"
   ]
  },
  {
   "cell_type": "code",
   "execution_count": 45,
   "metadata": {},
   "outputs": [
    {
     "data": {
      "application/vnd.plotly.v1+json": {
       "config": {
        "plotlyServerURL": "https://plot.ly"
       },
       "data": [
        {
         "hoverinfo": "text",
         "hovertext": [
          "<b>Topic Automation Components</b><br>Words: customer service, warranty, maintenance, philips, reliability<br>Count: 5<br>Percentage: 12.5%",
          "<b>Topic Automation Components</b><br>Words: mitsubishi, scada, touch panel, products, software<br>Count: 25<br>Percentage: 14.12%",
          "<b>Topic Automation Components</b><br>Words: inverters, inverter, technical support, ten, contractor<br>Count: 6<br>Percentage: 16.22%",
          "<b>Topic Automation Components</b><br>Words: touch panel, servo, st6000, switchgears, panel<br>Count: 11<br>Percentage: 17.74%",
          "<b>Topic Automation Components</b><br>Words: promote, promotion, quality, brand, products<br>Count: 1<br>Percentage: 20.0%",
          "<b>Topic Automation Components</b><br>Words: reliability, manufacturer, products, quality, remodeling<br>Count: 50<br>Percentage: 21.65%",
          "<b>Topic Automation Components</b><br>Words: touch panel, technical support, 8d, programmable, programmable logic controller<br>Count: 56<br>Percentage: 21.88%",
          "<b>Topic Automation Components</b><br>Words: supplier, electrics, electric, stock, products<br>Count: 47<br>Percentage: 22.6%",
          "<b>Topic Automation Components</b><br>Words: services, maintenance, electric, promote, reliability<br>Count: 13<br>Percentage: 22.81%",
          "<b>Topic Automation Components</b><br>Words: pricing, scada, issues, inverters, breakers<br>Count: 23<br>Percentage: 23.47%",
          "<b>Topic Automation Components</b><br>Words: breakers, contractors, warranty, circuit breakers, servicing<br>Count: 38<br>Percentage: 24.05%",
          "<b>Topic Automation Components</b><br>Words: cooperation, rating, willingness, partner, assessed<br>Count: 1<br>Percentage: 25.0%",
          "<b>Topic Automation Components</b><br>Words: maker, quality, programmable logic controller, programmable, contactors<br>Count: 26<br>Percentage: 25.24%",
          "<b>Topic Automation Components</b><br>Words: technical support, siemens, service, issues, technical<br>Count: 3336<br>Percentage: 25.89%",
          "<b>Topic Automation Components</b><br>Words: technical support, siemens, servo, electric, companies<br>Count: 388<br>Percentage: 27.6%",
          "<b>Topic Automation Components</b><br>Words: reliable, service, consumer, fuse, electric<br>Count: 11<br>Percentage: 28.21%",
          "<b>Topic Automation Components</b><br>Words: technical support, controllers, electric, products, programmable logic controller<br>Count: 107<br>Percentage: 33.33%",
          "<b>Topic Automation Components</b><br>Words: programmable logic controller, vfds, controller, customer service, technical<br>Count: 69<br>Percentage: 34.33%",
          "<b>Topic Automation Components</b><br>Words: discontinued, pfxsp5700, atv320, atv32, atv<br>Count: 14<br>Percentage: 36.84%",
          "<b>Topic Automation Components</b><br>Words: electric, customer center, switches, cost, service<br>Count: 48<br>Percentage: 43.24%",
          "<b>Topic Automation Components</b><br>Words: technical support, inverters, contactors, inverter, issues<br>Count: 1868<br>Percentage: 49.64%",
          "<b>Topic Automation Components</b><br>Words: customers, market, products, rate, prices<br>Count: 7<br>Percentage: 50.0%"
         ],
         "marker": {
          "color": "#E69F00"
         },
         "name": "Automation Components",
         "orientation": "h",
         "type": "bar",
         "visible": true,
         "x": [
          12.5,
          14.12,
          16.22,
          17.74,
          20,
          21.65,
          21.88,
          22.6,
          22.81,
          23.47,
          24.05,
          25,
          25.24,
          25.89,
          27.6,
          28.21,
          33.33,
          34.33,
          36.84,
          43.24,
          49.64,
          50
         ],
         "y": [
          "Cloud & Service providers",
          "Semiconductor",
          "Healthcare",
          "LifeSciences",
          "Education & Research",
          "Public Access, Education, Research, Finance Buildings",
          "Automotive & E-Mobility",
          "Water",
          "IT Equipment and Professional Services",
          "Energies and Chemicals",
          "Power & Grid",
          "Household & Personal Care",
          "Transportation",
          "Machinery",
          "Industrial Manufacturing and Commercial",
          "Residential",
          "Food & Beverage",
          "MMM",
          "Wholesale & Retail Trade",
          "Marine & Shore Power",
          "Unknown",
          "Real Estate"
         ]
        },
        {
         "hoverinfo": "text",
         "hovertext": [
          "<b>Topic Technical Support</b><br>Words: service, customer service, timely, fast, quickly<br>Count: 1<br>Percentage: 7.14%",
          "<b>Topic Technical Support</b><br>Words: technical support, customer service, response time, technical, technician<br>Count: 471<br>Percentage: 12.52%",
          "<b>Topic Technical Support</b><br>Words: technical support, response time, support, response, responds<br>Count: 17<br>Percentage: 15.32%",
          "<b>Topic Technical Support</b><br>Words: response time, faq, response, smart, guidance<br>Count: 6<br>Percentage: 15.79%",
          "<b>Topic Technical Support</b><br>Words: response time, immediately, response, quick response, immediate<br>Count: 7<br>Percentage: 17.95%",
          "<b>Topic Technical Support</b><br>Words: technical support, customer service, response time, technician, technical<br>Count: 3277<br>Percentage: 25.44%",
          "<b>Topic Technical Support</b><br>Words: technical support, consulted, service, consultant, staff<br>Count: 52<br>Percentage: 25.87%",
          "<b>Topic Technical Support</b><br>Words: technical support, troubleshooting, technician, customer service, response time<br>Count: 54<br>Percentage: 25.96%",
          "<b>Topic Technical Support</b><br>Words: technical support, response time, technicians, technical, technician<br>Count: 26<br>Percentage: 26.53%",
          "<b>Topic Technical Support</b><br>Words: reception, technical support, technician, response, technicians<br>Count: 86<br>Percentage: 26.79%",
          "<b>Topic Technical Support</b><br>Words: technical support, customer service, technicians, technical, technician<br>Count: 404<br>Percentage: 28.73%",
          "<b>Topic Technical Support</b><br>Words: technical support, telephone, online, technical, enquiry<br>Count: 47<br>Percentage: 29.75%",
          "<b>Topic Technical Support</b><br>Words: technical support, response time, technical, email, technician<br>Count: 69<br>Percentage: 29.87%",
          "<b>Topic Technical Support</b><br>Words: service, assistance, response time, assistant, communication<br>Count: 33<br>Percentage: 32.04%",
          "<b>Topic Technical Support</b><br>Words: response time, technical support, telephone, responder, customer service<br>Count: 84<br>Percentage: 32.81%",
          "<b>Topic Technical Support</b><br>Words: response time, contact person, contact, requests, response<br>Count: 13<br>Percentage: 35.14%",
          "<b>Topic Technical Support</b><br>Words: telephone, prompt, inquiry, replying, manual<br>Count: 68<br>Percentage: 38.42%",
          "<b>Topic Technical Support</b><br>Words: technician, technicians, staff, technical support, courteous<br>Count: 2<br>Percentage: 40.0%",
          "<b>Topic Technical Support</b><br>Words: customer service, received, connect, customer, response<br>Count: 16<br>Percentage: 40.0%",
          "<b>Topic Technical Support</b><br>Words: solo, helpful, helped, helps, assist<br>Count: 24<br>Percentage: 42.11%",
          "<b>Topic Technical Support</b><br>Words: address, manual, search, searched, telephone<br>Count: 29<br>Percentage: 46.77%"
         ],
         "marker": {
          "color": "#56B4E9"
         },
         "name": "Technical Support",
         "orientation": "h",
         "type": "bar",
         "visible": "legendonly",
         "x": [
          7.14,
          12.52,
          15.32,
          15.79,
          17.95,
          25.44,
          25.87,
          25.96,
          26.53,
          26.79,
          28.73,
          29.75,
          29.87,
          32.04,
          32.81,
          35.14,
          38.42,
          40,
          40,
          42.11,
          46.77
         ],
         "y": [
          "Real Estate",
          "Unknown",
          "Marine & Shore Power",
          "Wholesale & Retail Trade",
          "Residential",
          "Machinery",
          "MMM",
          "Water",
          "Energies and Chemicals",
          "Food & Beverage",
          "Industrial Manufacturing and Commercial",
          "Power & Grid",
          "Public Access, Education, Research, Finance Buildings",
          "Transportation",
          "Automotive & E-Mobility",
          "Healthcare",
          "Semiconductor",
          "Education & Research",
          "Cloud & Service providers",
          "IT Equipment and Professional Services",
          "LifeSciences"
         ]
        },
        {
         "hoverinfo": "text",
         "hovertext": [
          "<b>Topic Delivery Deadlines</b><br>Words: delivery time, delivery date, delivery, deliver, delivered<br>Count: 9<br>Percentage: 5.08%",
          "<b>Topic Delivery Deadlines</b><br>Words: delays, delayed, delivery time, delaying, delay<br>Count: 3<br>Percentage: 5.26%",
          "<b>Topic Delivery Deadlines</b><br>Words: delivery time, delivery date, delivery, deliver, delays<br>Count: 15<br>Percentage: 5.86%",
          "<b>Topic Delivery Deadlines</b><br>Words: delivery time, deliveries, delays, deadlines, delivery date<br>Count: 3<br>Percentage: 7.89%",
          "<b>Topic Delivery Deadlines</b><br>Words: delivery time, delivery date, delivery, deliveries, delays<br>Count: 6<br>Percentage: 9.68%",
          "<b>Topic Delivery Deadlines</b><br>Words: delivery time, delays, delivery date, delivery, deliveries<br>Count: 437<br>Percentage: 11.61%",
          "<b>Topic Delivery Deadlines</b><br>Words: deliveries, delivery time, delivery, shipping, delays<br>Count: 194<br>Percentage: 13.8%",
          "<b>Topic Delivery Deadlines</b><br>Words: delivery time, delivery date, delays, deliveries, delivery<br>Count: 25<br>Percentage: 15.82%",
          "<b>Topic Delivery Deadlines</b><br>Words: delays, delivery time, deadline, delivery date, delivery<br>Count: 16<br>Percentage: 16.33%",
          "<b>Topic Delivery Deadlines</b><br>Words: delivery time, deliveries, delivery date, delivery, shipping<br>Count: 35<br>Percentage: 17.41%",
          "<b>Topic Delivery Deadlines</b><br>Words: delivery time, delivery date, deliveries, delivery, packaging<br>Count: 7<br>Percentage: 17.5%",
          "<b>Topic Delivery Deadlines</b><br>Words: delivery date, delivery time, deadlines, postponed, delivery<br>Count: 20<br>Percentage: 18.02%",
          "<b>Topic Delivery Deadlines</b><br>Words: delivery date, delivery time, delivery, delays, deliver<br>Count: 43<br>Percentage: 18.61%",
          "<b>Topic Delivery Deadlines</b><br>Words: delivery time, delays, deliveries, delivery date, delivery<br>Count: 60<br>Percentage: 18.69%",
          "<b>Topic Delivery Deadlines</b><br>Words: deliveries, delivery date, reliable, reliability, delivery<br>Count: 1<br>Percentage: 20.0%",
          "<b>Topic Delivery Deadlines</b><br>Words: dhl, deliveries, delivery, deliver, delivery time<br>Count: 3<br>Percentage: 21.43%",
          "<b>Topic Delivery Deadlines</b><br>Words: delivery time, delivery date, deliveries, delivery, delays<br>Count: 47<br>Percentage: 22.6%",
          "<b>Topic Delivery Deadlines</b><br>Words: deliveries, delivery time, delivery, shipments, deliver<br>Count: 3073<br>Percentage: 23.85%",
          "<b>Topic Delivery Deadlines</b><br>Words: delivery time, delivery date, delays, delayed, deliveries<br>Count: 9<br>Percentage: 24.32%",
          "<b>Topic Delivery Deadlines</b><br>Words: delivery date, delivery time, deliveries, deadlines, delivery<br>Count: 26<br>Percentage: 25.24%",
          "<b>Topic Delivery Deadlines</b><br>Words: delivery, customer service, invoices, delivery date, orders<br>Count: 12<br>Percentage: 30.77%"
         ],
         "marker": {
          "color": "#009E73"
         },
         "name": "Delivery Deadlines",
         "orientation": "h",
         "type": "bar",
         "visible": "legendonly",
         "x": [
          5.08,
          5.26,
          5.86,
          7.89,
          9.68,
          11.61,
          13.8,
          15.82,
          16.33,
          17.41,
          17.5,
          18.02,
          18.61,
          18.69,
          20,
          21.43,
          22.6,
          23.85,
          24.32,
          25.24,
          30.77
         ],
         "y": [
          "Semiconductor",
          "IT Equipment and Professional Services",
          "Automotive & E-Mobility",
          "Wholesale & Retail Trade",
          "LifeSciences",
          "Unknown",
          "Industrial Manufacturing and Commercial",
          "Power & Grid",
          "Energies and Chemicals",
          "MMM",
          "Cloud & Service providers",
          "Marine & Shore Power",
          "Public Access, Education, Research, Finance Buildings",
          "Food & Beverage",
          "Education & Research",
          "Real Estate",
          "Water",
          "Machinery",
          "Healthcare",
          "Transportation",
          "Residential"
         ]
        },
        {
         "hoverinfo": "text",
         "hovertext": [
          "<b>Topic Problem Solving & Comm</b><br>Words: specific, answered, response, desire, inquiry<br>Count: 1<br>Percentage: 0.97%",
          "<b>Topic Problem Solving & Comm</b><br>Words: information, respondents, responded, response, respond<br>Count: 56<br>Percentage: 1.49%",
          "<b>Topic Problem Solving & Comm</b><br>Words: answered, solution, problem, answers, explanations<br>Count: 5<br>Percentage: 2.49%",
          "<b>Topic Problem Solving & Comm</b><br>Words: prompt, response, inquiry, answered, respond<br>Count: 1<br>Percentage: 2.56%",
          "<b>Topic Problem Solving & Comm</b><br>Words: answers, problems, solutions, answered, solve problem<br>Count: 7<br>Percentage: 4.43%",
          "<b>Topic Problem Solving & Comm</b><br>Words: politely, inquiries, response, inquiry, responded<br>Count: 17<br>Percentage: 5.3%",
          "<b>Topic Problem Solving & Comm</b><br>Words: answered, answers, answer, question, precise<br>Count: 686<br>Percentage: 5.32%",
          "<b>Topic Problem Solving & Comm</b><br>Words: explained, explanations, answers, inquiry, helpful<br>Count: 4<br>Percentage: 7.02%",
          "<b>Topic Problem Solving & Comm</b><br>Words: politely, response, polite, requests, respond<br>Count: 3<br>Percentage: 7.5%",
          "<b>Topic Problem Solving & Comm</b><br>Words: quickly, answers, inquiry, questions, short<br>Count: 16<br>Percentage: 7.69%",
          "<b>Topic Problem Solving & Comm</b><br>Words: kindly, problem, helped, solution, representatives<br>Count: 3<br>Percentage: 7.89%",
          "<b>Topic Problem Solving & Comm</b><br>Words: inquiry, answered, asked, questions, answers<br>Count: 9<br>Percentage: 8.11%",
          "<b>Topic Problem Solving & Comm</b><br>Words: simple, easy, answered, instructions, answers<br>Count: 8<br>Percentage: 8.16%",
          "<b>Topic Problem Solving & Comm</b><br>Words: accurately, accurate, answered, answers, answer<br>Count: 149<br>Percentage: 10.6%",
          "<b>Topic Problem Solving & Comm</b><br>Words: quickly, answered, answers, solutions, solution<br>Count: 4<br>Percentage: 10.81%",
          "<b>Topic Problem Solving & Comm</b><br>Words: polite, responded, politely, respond, response<br>Count: 26<br>Percentage: 11.26%",
          "<b>Topic Problem Solving & Comm</b><br>Words: response, polite, respond, responded, inquiry<br>Count: 33<br>Percentage: 12.89%",
          "<b>Topic Problem Solving & Comm</b><br>Words: explained, answered, explanations, inquiry, answers<br>Count: 8<br>Percentage: 12.9%",
          "<b>Topic Problem Solving & Comm</b><br>Words: inquiry, inquiries, responses, response, questions<br>Count: 43<br>Percentage: 24.29%"
         ],
         "marker": {
          "color": "#F0E442"
         },
         "name": "Problem Solving & Comm",
         "orientation": "h",
         "type": "bar",
         "visible": "legendonly",
         "x": [
          0.97,
          1.49,
          2.49,
          2.56,
          4.43,
          5.3,
          5.32,
          7.02,
          7.5,
          7.69,
          7.89,
          8.11,
          8.16,
          10.6,
          10.81,
          11.26,
          12.89,
          12.9,
          24.29
         ],
         "y": [
          "Transportation",
          "Unknown",
          "MMM",
          "Residential",
          "Power & Grid",
          "Food & Beverage",
          "Machinery",
          "IT Equipment and Professional Services",
          "Cloud & Service providers",
          "Water",
          "Wholesale & Retail Trade",
          "Marine & Shore Power",
          "Energies and Chemicals",
          "Industrial Manufacturing and Commercial",
          "Healthcare",
          "Public Access, Education, Research, Finance Buildings",
          "Automotive & E-Mobility",
          "LifeSciences",
          "Semiconductor"
         ]
        },
        {
         "hoverinfo": "text",
         "hovertext": [
          "<b>Topic Power Supply Issues</b><br>Words: ups, apc, technical support, uninterruptible power supply, reliability<br>Count: 1<br>Percentage: 1.61%",
          "<b>Topic Power Supply Issues</b><br>Words: ups, uninterruptible power supply, apc, troubleshooting, power supply<br>Count: 117<br>Percentage: 3.11%",
          "<b>Topic Power Supply Issues</b><br>Words: workaround, resolved, issue, troubleshooting, bug<br>Count: 10<br>Percentage: 3.12%",
          "<b>Topic Power Supply Issues</b><br>Words: uninterruptible power supply, ups, power supply, issue, outages<br>Count: 7<br>Percentage: 3.48%",
          "<b>Topic Power Supply Issues</b><br>Words: warranty, technical support, repair, troubleshooting, maintenance<br>Count: 4<br>Percentage: 3.88%",
          "<b>Topic Power Supply Issues</b><br>Words: agp3750, warranty, issue, maintenance, repair<br>Count: 5<br>Percentage: 4.5%",
          "<b>Topic Power Supply Issues</b><br>Words: ups, technical support, uninterruptible power supply, warranty, maintenance<br>Count: 656<br>Percentage: 5.09%",
          "<b>Topic Power Supply Issues</b><br>Words: ups, troubleshooting, resolved, faulty, issue<br>Count: 5<br>Percentage: 5.1%",
          "<b>Topic Power Supply Issues</b><br>Words: troubleshooting, issue, warrant, resolved, warranty<br>Count: 3<br>Percentage: 5.26%",
          "<b>Topic Power Supply Issues</b><br>Words: ups, uninterruptible power supply, apc, technical support, troubleshooting<br>Count: 75<br>Percentage: 5.33%",
          "<b>Topic Power Supply Issues</b><br>Words: warranty, issue, maintenance, isaf1221a, resolved<br>Count: 11<br>Percentage: 6.21%",
          "<b>Topic Power Supply Issues</b><br>Words: troubleshooting, customer support, resolved, repair, faults<br>Count: 13<br>Percentage: 6.25%",
          "<b>Topic Power Supply Issues</b><br>Words: repaired, maintenance, fix, issue, problems<br>Count: 11<br>Percentage: 6.96%",
          "<b>Topic Power Supply Issues</b><br>Words: sam, resolved, solved, issue, troubleshooting<br>Count: 1<br>Percentage: 7.14%",
          "<b>Topic Power Supply Issues</b><br>Words: complain, complaint, issue, fix, faulty<br>Count: 3<br>Percentage: 7.69%",
          "<b>Topic Power Supply Issues</b><br>Words: ups, ups500, warranty, repair, firmware<br>Count: 19<br>Percentage: 8.23%",
          "<b>Topic Power Supply Issues</b><br>Words: repair, technical support, maintenance, troubleshooting, ups5000<br>Count: 4<br>Percentage: 10.0%",
          "<b>Topic Power Supply Issues</b><br>Words: ups, upc, technical support, apc, customer<br>Count: 4<br>Percentage: 10.81%",
          "<b>Topic Power Supply Issues</b><br>Words: failures, troubleshooting, failure, ups, troubleshooted<br>Count: 29<br>Percentage: 11.33%",
          "<b>Topic Power Supply Issues</b><br>Words: maintenance, defective, fault, problem, renewal<br>Count: 5<br>Percentage: 13.16%",
          "<b>Topic Power Supply Issues</b><br>Words: rma, process, maintenance, software, keep<br>Count: 2<br>Percentage: 50.0%"
         ],
         "marker": {
          "color": "#D55E00"
         },
         "name": "Power Supply Issues",
         "orientation": "h",
         "type": "bar",
         "visible": "legendonly",
         "x": [
          1.61,
          3.11,
          3.12,
          3.48,
          3.88,
          4.5,
          5.09,
          5.1,
          5.26,
          5.33,
          6.21,
          6.25,
          6.96,
          7.14,
          7.69,
          8.23,
          10,
          10.81,
          11.33,
          13.16,
          50
         ],
         "y": [
          "LifeSciences",
          "Unknown",
          "Food & Beverage",
          "MMM",
          "Transportation",
          "Marine & Shore Power",
          "Machinery",
          "Energies and Chemicals",
          "IT Equipment and Professional Services",
          "Industrial Manufacturing and Commercial",
          "Semiconductor",
          "Water",
          "Power & Grid",
          "Real Estate",
          "Residential",
          "Public Access, Education, Research, Finance Buildings",
          "Cloud & Service providers",
          "Healthcare",
          "Automotive & E-Mobility",
          "Wholesale & Retail Trade",
          "Household & Personal Care"
         ]
        },
        {
         "hoverinfo": "text",
         "hovertext": [
          "<b>Topic Customer Support</b><br>Words: yes, alright, fine, great, good<br>Count: 1<br>Percentage: 0.56%",
          "<b>Topic Customer Support</b><br>Words: technical support, reliability, collaboration, reliable, satisfaction<br>Count: 3<br>Percentage: 1.3%",
          "<b>Topic Customer Support</b><br>Words: awesome, great, seamlessly, excellent, works<br>Count: 3<br>Percentage: 1.44%",
          "<b>Topic Customer Support</b><br>Words: perfect, worked, expectations, great, excellent<br>Count: 4<br>Percentage: 1.56%",
          "<b>Topic Customer Support</b><br>Words: quality, reliability, reliable, satisfaction, satisfied<br>Count: 6<br>Percentage: 1.87%",
          "<b>Topic Customer Support</b><br>Words: reliable, feedback, technical support, quality, reliability<br>Count: 4<br>Percentage: 1.99%",
          "<b>Topic Customer Support</b><br>Words: asco, customer, customer service, budget, project<br>Count: 1<br>Percentage: 2.63%",
          "<b>Topic Customer Support</b><br>Words: reliable, technical support, customer service, quality, price quality ratio<br>Count: 39<br>Percentage: 2.77%",
          "<b>Topic Customer Support</b><br>Words: partnership, planned, feedback, communication, company<br>Count: 3<br>Percentage: 3.06%",
          "<b>Topic Customer Support</b><br>Words: normal, relatively, function, smoothly, fine<br>Count: 2<br>Percentage: 3.23%",
          "<b>Topic Customer Support</b><br>Words: good, guarantee, excellent, quality, great<br>Count: 2<br>Percentage: 3.51%",
          "<b>Topic Customer Support</b><br>Words: technical support, reliable, technical service, availability, reliability<br>Count: 459<br>Percentage: 3.56%",
          "<b>Topic Customer Support</b><br>Words: technical support, quality, reliability, reliable, products<br>Count: 6<br>Percentage: 3.8%",
          "<b>Topic Customer Support</b><br>Words: technical support, reliability, reliable, products, quality<br>Count: 5<br>Percentage: 4.85%",
          "<b>Topic Customer Support</b><br>Words: quality, services, satisfaction, customer service, benefit<br>Count: 2<br>Percentage: 5.0%",
          "<b>Topic Customer Support</b><br>Words: technical support, technical service, customer service, reliability, reliable<br>Count: 284<br>Percentage: 7.55%",
          "<b>Topic Customer Support</b><br>Words: manufacturing, quality, company, reliability, satisfaction<br>Count: 1<br>Percentage: 50.0%"
         ],
         "marker": {
          "color": "#0072B2"
         },
         "name": "Customer Support",
         "orientation": "h",
         "type": "bar",
         "visible": "legendonly",
         "x": [
          0.56,
          1.3,
          1.44,
          1.56,
          1.87,
          1.99,
          2.63,
          2.77,
          3.06,
          3.23,
          3.51,
          3.56,
          3.8,
          4.85,
          5,
          7.55,
          50
         ],
         "y": [
          "Semiconductor",
          "Public Access, Education, Research, Finance Buildings",
          "Water",
          "Automotive & E-Mobility",
          "Food & Beverage",
          "MMM",
          "Wholesale & Retail Trade",
          "Industrial Manufacturing and Commercial",
          "Energies and Chemicals",
          "LifeSciences",
          "IT Equipment and Professional Services",
          "Machinery",
          "Power & Grid",
          "Transportation",
          "Cloud & Service providers",
          "Unknown",
          "Hotels"
         ]
        },
        {
         "hoverinfo": "text",
         "hovertext": [
          "<b>Topic Product Evaluation</b><br>Words: quality, product, products, brand, excellent<br>Count: 1<br>Percentage: 0.63%",
          "<b>Topic Product Evaluation</b><br>Words: rating, complain, salespeople, reliability, performance<br>Count: 1<br>Percentage: 0.97%",
          "<b>Topic Product Evaluation</b><br>Words: prices, pricing, sales, market, price<br>Count: 3<br>Percentage: 1.3%",
          "<b>Topic Product Evaluation</b><br>Words: quality, products, product, reliability, reliable<br>Count: 3<br>Percentage: 1.49%",
          "<b>Topic Product Evaluation</b><br>Words: score, rating, seriousness, points, international<br>Count: 1<br>Percentage: 1.61%",
          "<b>Topic Product Evaluation</b><br>Words: quality, reliability, rating, performance, products<br>Count: 3<br>Percentage: 1.69%",
          "<b>Topic Product Evaluation</b><br>Words: products, commercially, pricing, sales, prices<br>Count: 2<br>Percentage: 1.8%",
          "<b>Topic Product Evaluation</b><br>Words: products, quality, product, performance, pricing<br>Count: 5<br>Percentage: 1.95%",
          "<b>Topic Product Evaluation</b><br>Words: price quality ratio, products, pricing, quality, product<br>Count: 31<br>Percentage: 2.2%",
          "<b>Topic Product Evaluation</b><br>Words: pricing, prices, quality, customers, market<br>Count: 5<br>Percentage: 2.4%",
          "<b>Topic Product Evaluation</b><br>Words: ecostruxure, rating, technical support, technical, bug<br>Count: 1<br>Percentage: 2.7%",
          "<b>Topic Product Evaluation</b><br>Words: rating, reliability, quality, customer service, score<br>Count: 9<br>Percentage: 2.8%",
          "<b>Topic Product Evaluation</b><br>Words: rating, quality, performance, pricing, reliability<br>Count: 363<br>Percentage: 2.82%",
          "<b>Topic Product Evaluation</b><br>Words: quality, altivar, customer support, products, product<br>Count: 3<br>Percentage: 3.06%",
          "<b>Topic Product Evaluation</b><br>Words: overpriced, rating, performance, product, quality<br>Count: 2<br>Percentage: 5.13%",
          "<b>Topic Product Evaluation</b><br>Words: rating, quality, products, competitors, pricing<br>Count: 2<br>Percentage: 5.26%",
          "<b>Topic Product Evaluation</b><br>Words: quality, rating, pricing, product range, rate<br>Count: 272<br>Percentage: 7.23%"
         ],
         "marker": {
          "color": "#CC79A7"
         },
         "name": "Product Evaluation",
         "orientation": "h",
         "type": "bar",
         "visible": "legendonly",
         "x": [
          0.63,
          0.97,
          1.3,
          1.49,
          1.61,
          1.69,
          1.8,
          1.95,
          2.2,
          2.4,
          2.7,
          2.8,
          2.82,
          3.06,
          5.13,
          5.26,
          7.23
         ],
         "y": [
          "Power & Grid",
          "Transportation",
          "Public Access, Education, Research, Finance Buildings",
          "MMM",
          "LifeSciences",
          "Semiconductor",
          "Marine & Shore Power",
          "Automotive & E-Mobility",
          "Industrial Manufacturing and Commercial",
          "Water",
          "Healthcare",
          "Food & Beverage",
          "Machinery",
          "Energies and Chemicals",
          "Residential",
          "Wholesale & Retail Trade",
          "Unknown"
         ]
        },
        {
         "hoverinfo": "text",
         "hovertext": [
          "<b>Topic Pricing</b><br>Words: confirmation, quotes, quotation, quotations, waiting<br>Count: 2<br>Percentage: 0.87%",
          "<b>Topic Pricing</b><br>Words: schneidr, contact, quotes, email, product<br>Count: 1<br>Percentage: 0.9%",
          "<b>Topic Pricing</b><br>Words: pricing, prices, discount, amount, value<br>Count: 2<br>Percentage: 1.13%",
          "<b>Topic Pricing</b><br>Words: offers, quickly, pricing, promptly, discount<br>Count: 3<br>Percentage: 1.17%",
          "<b>Topic Pricing</b><br>Words: invoices, invoice, invoicing, pricing, orders<br>Count: 80<br>Percentage: 2.13%",
          "<b>Topic Pricing</b><br>Words: quotes, quotation, quotations, quoted, quote<br>Count: 32<br>Percentage: 2.28%",
          "<b>Topic Pricing</b><br>Words: quotations, quotation, quotes, pricing, quoted<br>Count: 344<br>Percentage: 2.67%",
          "<b>Topic Pricing</b><br>Words: delivery date, agreement, quoted, response time, quotes<br>Count: 6<br>Percentage: 2.88%",
          "<b>Topic Pricing</b><br>Words: response time, efficiency, pricing, budget, promptly<br>Count: 3<br>Percentage: 2.91%",
          "<b>Topic Pricing</b><br>Words: pricing, prices, purchasing, quotes, price<br>Count: 10<br>Percentage: 3.12%",
          "<b>Topic Pricing</b><br>Words: orders, invoices, invoice, order, processed<br>Count: 10<br>Percentage: 4.98%",
          "<b>Topic Pricing</b><br>Words: quotes, quotations, quoted, quotation, quote<br>Count: 2<br>Percentage: 5.0%",
          "<b>Topic Pricing</b><br>Words: pricing, pending, listed, items, price<br>Count: 5<br>Percentage: 5.1%",
          "<b>Topic Pricing</b><br>Words: payment, pricing, invoices, invoice, inquiries<br>Count: 9<br>Percentage: 5.7%",
          "<b>Topic Pricing</b><br>Words: quotes, quotations, quotation, quoted, delivery time<br>Count: 4<br>Percentage: 7.02%",
          "<b>Topic Pricing</b><br>Words: pricing, discount, prices, market, cheaper<br>Count: 3<br>Percentage: 7.69%",
          "<b>Topic Pricing</b><br>Words: quotes, quotation, quoted, quotations, requote<br>Count: 3<br>Percentage: 7.89%"
         ],
         "marker": {
          "color": "#E69F00"
         },
         "name": "Pricing",
         "orientation": "h",
         "type": "bar",
         "visible": "legendonly",
         "x": [
          0.87,
          0.9,
          1.13,
          1.17,
          2.13,
          2.28,
          2.67,
          2.88,
          2.91,
          3.12,
          4.98,
          5,
          5.1,
          5.7,
          7.02,
          7.69,
          7.89
         ],
         "y": [
          "Public Access, Education, Research, Finance Buildings",
          "Marine & Shore Power",
          "Semiconductor",
          "Automotive & E-Mobility",
          "Unknown",
          "Industrial Manufacturing and Commercial",
          "Machinery",
          "Water",
          "Transportation",
          "Food & Beverage",
          "MMM",
          "Cloud & Service providers",
          "Energies and Chemicals",
          "Power & Grid",
          "IT Equipment and Professional Services",
          "Residential",
          "Wholesale & Retail Trade"
         ]
        },
        {
         "hoverinfo": "text",
         "hovertext": [
          "<b>Topic Assistance</b><br>Words: advice, assistance, helped, helpful, treatment<br>Count: 2<br>Percentage: 0.62%",
          "<b>Topic Assistance</b><br>Words: responsiveness, responsively, feedback, responsive, service<br>Count: 25<br>Percentage: 0.66%",
          "<b>Topic Assistance</b><br>Words: clear, clarity, advice, help, helpful<br>Count: 2<br>Percentage: 1.13%",
          "<b>Topic Assistance</b><br>Words: responsiveness, responsively, efficient, efficiency, responsive<br>Count: 4<br>Percentage: 1.56%",
          "<b>Topic Assistance</b><br>Words: tip, effect, small, big, feedback<br>Count: 1<br>Percentage: 1.75%",
          "<b>Topic Assistance</b><br>Words: feedback, timely, assistance, helpful, delays<br>Count: 26<br>Percentage: 1.85%",
          "<b>Topic Assistance</b><br>Words: responsiveness, responsive, advice, effective, feedback<br>Count: 253<br>Percentage: 1.96%",
          "<b>Topic Assistance</b><br>Words: responsiveness, responsively, advice, helpful, feedback<br>Count: 5<br>Percentage: 2.16%",
          "<b>Topic Assistance</b><br>Words: efficient, efficiency, feedback, effective, responsiveness<br>Count: 5<br>Percentage: 2.49%",
          "<b>Topic Assistance</b><br>Words: action, follow, immediate, rapid, quickly<br>Count: 1<br>Percentage: 2.5%",
          "<b>Topic Assistance</b><br>Words: feedback, helpful, helped, effective, satisfactory<br>Count: 3<br>Percentage: 2.7%",
          "<b>Topic Assistance</b><br>Words: reliable, responsiveness, responsively, accuracy, competently<br>Count: 3<br>Percentage: 2.91%",
          "<b>Topic Assistance</b><br>Words: feedback, responsiveness, responsively, efficient, timely<br>Count: 6<br>Percentage: 3.8%",
          "<b>Topic Assistance</b><br>Words: effective, fast, quickly, rapid, efficiently<br>Count: 10<br>Percentage: 4.81%",
          "<b>Topic Assistance</b><br>Words: feedback, timely, rapid, responsiveness, efficient<br>Count: 5<br>Percentage: 5.1%",
          "<b>Topic Assistance</b><br>Words: responsiveness, responsively, responsive, services, quality<br>Count: 1<br>Percentage: 20.0%"
         ],
         "marker": {
          "color": "#56B4E9"
         },
         "name": "Assistance",
         "orientation": "h",
         "type": "bar",
         "visible": "legendonly",
         "x": [
          0.62,
          0.66,
          1.13,
          1.56,
          1.75,
          1.85,
          1.96,
          2.16,
          2.49,
          2.5,
          2.7,
          2.91,
          3.8,
          4.81,
          5.1,
          20
         ],
         "y": [
          "Food & Beverage",
          "Unknown",
          "Semiconductor",
          "Automotive & E-Mobility",
          "IT Equipment and Professional Services",
          "Industrial Manufacturing and Commercial",
          "Machinery",
          "Public Access, Education, Research, Finance Buildings",
          "MMM",
          "Cloud & Service providers",
          "Marine & Shore Power",
          "Transportation",
          "Power & Grid",
          "Water",
          "Energies and Chemicals",
          "Education & Research"
         ]
        },
        {
         "hoverinfo": "text",
         "hovertext": [
          "<b>Topic Touch Screens</b><br>Words: siemens, busch, expensive, brands, manufacturers<br>Count: 1<br>Percentage: 0.5%",
          "<b>Topic Touch Screens</b><br>Words: conversion, rodrigues, 4000, make, siemens<br>Count: 1<br>Percentage: 0.63%",
          "<b>Topic Touch Screens</b><br>Words: sp5000, gp4000, gpproex, 4000, useful<br>Count: 1<br>Percentage: 0.9%",
          "<b>Topic Touch Screens</b><br>Words: cabinets, backplates, affinity, business, companies<br>Count: 2<br>Percentage: 0.96%",
          "<b>Topic Touch Screens</b><br>Words: siemens, symbols, tia, signals, instance<br>Count: 1<br>Percentage: 1.02%",
          "<b>Topic Touch Screens</b><br>Words: touch panel, touch screen, panel, gp4000, manufacturers<br>Count: 137<br>Percentage: 1.06%",
          "<b>Topic Touch Screens</b><br>Words: gp4501, pfxgp4501tad, pfxgp4301tad, gp2501, gp4000<br>Count: 5<br>Percentage: 1.56%",
          "<b>Topic Touch Screens</b><br>Words: touch panel, touch screen, digital, screen, agp3310<br>Count: 24<br>Percentage: 1.71%",
          "<b>Topic Touch Screens</b><br>Words: stock, levels, companies, price, manufacturers<br>Count: 1<br>Percentage: 1.75%",
          "<b>Topic Touch Screens</b><br>Words: touch panel, touch screen, siemens, manufacturer, discontinued<br>Count: 80<br>Percentage: 2.13%",
          "<b>Topic Touch Screens</b><br>Words: asco, enclosure, ats, wire, customer center<br>Count: 1<br>Percentage: 2.63%",
          "<b>Topic Touch Screens</b><br>Words: plc, displays, gp4115, panel, gp4000<br>Count: 2<br>Percentage: 3.23%",
          "<b>Topic Touch Screens</b><br>Words: gp4500, gp2600, displays, touch screen, touch panel<br>Count: 8<br>Percentage: 3.46%",
          "<b>Topic Touch Screens</b><br>Words: gp4000, gp410, gp, performance, 4501<br>Count: 12<br>Percentage: 4.69%",
          "<b>Topic Touch Screens</b><br>Words: touch screen, touch panel, screen, lt3300, touch<br>Count: 11<br>Percentage: 6.21%",
          "<b>Topic Touch Screens</b><br>Words: chinese, english, documents, materials, communication<br>Count: 1<br>Percentage: 50.0%"
         ],
         "marker": {
          "color": "#009E73"
         },
         "name": "Touch Screens",
         "orientation": "h",
         "type": "bar",
         "visible": "legendonly",
         "x": [
          0.5,
          0.63,
          0.9,
          0.96,
          1.02,
          1.06,
          1.56,
          1.71,
          1.75,
          2.13,
          2.63,
          3.23,
          3.46,
          4.69,
          6.21,
          50
         ],
         "y": [
          "MMM",
          "Power & Grid",
          "Marine & Shore Power",
          "Water",
          "Energies and Chemicals",
          "Machinery",
          "Food & Beverage",
          "Industrial Manufacturing and Commercial",
          "IT Equipment and Professional Services",
          "Unknown",
          "Wholesale & Retail Trade",
          "LifeSciences",
          "Public Access, Education, Research, Finance Buildings",
          "Automotive & E-Mobility",
          "Semiconductor",
          "Hotels"
         ]
        },
        {
         "hoverinfo": "text",
         "hovertext": [
          "<b>Topic Frequency Converters</b><br>Words: technical support, frequency converters, electric, equipment, converters<br>Count: 1<br>Percentage: 0.48%",
          "<b>Topic Frequency Converters</b><br>Words: frequency converters, wholesaler, converters, wholesalers, converter<br>Count: 1<br>Percentage: 0.63%",
          "<b>Topic Frequency Converters</b><br>Words: frequency converters, frequency, converters, electrician, electronics<br>Count: 9<br>Percentage: 0.64%",
          "<b>Topic Frequency Converters</b><br>Words: frequency converters, frequency, converters, converter, 220kk<br>Count: 2<br>Percentage: 0.78%",
          "<b>Topic Frequency Converters</b><br>Words: frequency converters, converters, converter, frequency, accessories<br>Count: 2<br>Percentage: 0.87%",
          "<b>Topic Frequency Converters</b><br>Words: frequency converters, products, wholesaler, converters, sales<br>Count: 1<br>Percentage: 0.97%",
          "<b>Topic Frequency Converters</b><br>Words: frequency converters, contactors, technical support, customer service, converters<br>Count: 156<br>Percentage: 1.21%",
          "<b>Topic Frequency Converters</b><br>Words: frequency converters, converters, converter, frequency, technical support<br>Count: 58<br>Percentage: 1.54%",
          "<b>Topic Frequency Converters</b><br>Words: frequency converters, converters, electric, equipment, manufacturers<br>Count: 2<br>Percentage: 1.8%",
          "<b>Topic Frequency Converters</b><br>Words: electric, contactors, technical support, customer service, frequency<br>Count: 6<br>Percentage: 1.87%",
          "<b>Topic Frequency Converters</b><br>Words: frequency converters, frequency, converters, siemens, joystick<br>Count: 4<br>Percentage: 1.99%"
         ],
         "marker": {
          "color": "#F0E442"
         },
         "name": "Frequency Converters",
         "orientation": "h",
         "type": "bar",
         "visible": "legendonly",
         "x": [
          0.48,
          0.63,
          0.64,
          0.78,
          0.87,
          0.97,
          1.21,
          1.54,
          1.8,
          1.87,
          1.99
         ],
         "y": [
          "Water",
          "Power & Grid",
          "Industrial Manufacturing and Commercial",
          "Automotive & E-Mobility",
          "Public Access, Education, Research, Finance Buildings",
          "Transportation",
          "Machinery",
          "Unknown",
          "Marine & Shore Power",
          "Food & Beverage",
          "MMM"
         ]
        },
        {
         "hoverinfo": "text",
         "hovertext": [
          "<b>Topic Positive feedback</b><br>Words: service, excellent, helpful, great, appreciate<br>Count: 11<br>Percentage: 0.29%",
          "<b>Topic Positive feedback</b><br>Words: service, excellent, welcome, appreciate, great<br>Count: 2<br>Percentage: 0.62%",
          "<b>Topic Positive feedback</b><br>Words: service, excellent, appreciate, welcome, great<br>Count: 83<br>Percentage: 0.64%",
          "<b>Topic Positive feedback</b><br>Words: service, excellent, great, helpful, appreciate<br>Count: 3<br>Percentage: 1.17%",
          "<b>Topic Positive feedback</b><br>Words: service, excellent, welcome, appreciate, helpful<br>Count: 17<br>Percentage: 1.21%",
          "<b>Topic Positive feedback</b><br>Words: service, excellent, great, helpful, appreciate<br>Count: 3<br>Percentage: 1.44%",
          "<b>Topic Positive feedback</b><br>Words: service, excellent, welcome, appreciate, helpful<br>Count: 1<br>Percentage: 1.61%",
          "<b>Topic Positive feedback</b><br>Words: appreciate, welcome, service, excellent, good<br>Count: 1<br>Percentage: 1.75%",
          "<b>Topic Positive feedback</b><br>Words: service, excellent, helpful, good, great<br>Count: 2<br>Percentage: 1.8%",
          "<b>Topic Positive feedback</b><br>Words: service, excellent, helpful, great, appreciate<br>Count: 3<br>Percentage: 1.9%",
          "<b>Topic Positive feedback</b><br>Words: service, excellent, great, helpful, appreciate<br>Count: 6<br>Percentage: 2.99%",
          "<b>Topic Positive feedback</b><br>Words: service, helpful, excellent, good, great<br>Count: 2<br>Percentage: 14.29%"
         ],
         "marker": {
          "color": "#D55E00"
         },
         "name": "Positive feedback",
         "orientation": "h",
         "type": "bar",
         "visible": "legendonly",
         "x": [
          0.29,
          0.62,
          0.64,
          1.17,
          1.21,
          1.44,
          1.61,
          1.75,
          1.8,
          1.9,
          2.99,
          14.29
         ],
         "y": [
          "Unknown",
          "Food & Beverage",
          "Machinery",
          "Automotive & E-Mobility",
          "Industrial Manufacturing and Commercial",
          "Water",
          "LifeSciences",
          "IT Equipment and Professional Services",
          "Marine & Shore Power",
          "Power & Grid",
          "MMM",
          "Real Estate"
         ]
        },
        {
         "hoverinfo": "text",
         "hovertext": [
          "<b>Topic Quick Customer Service</b><br>Words: quick response, quick, response, fast, appreciate<br>Count: 4<br>Percentage: 0.11%",
          "<b>Topic Quick Customer Service</b><br>Words: polite, politeness, politely, helpful, kindness<br>Count: 1<br>Percentage: 0.31%",
          "<b>Topic Quick Customer Service</b><br>Words: speedy, regards, quick response, quicker, response<br>Count: 1<br>Percentage: 0.43%",
          "<b>Topic Quick Customer Service</b><br>Words: quick response, quick, response, short, quicker<br>Count: 60<br>Percentage: 0.47%",
          "<b>Topic Quick Customer Service</b><br>Words: polite, politeness, politely, kindness, appreciate<br>Count: 1<br>Percentage: 0.48%",
          "<b>Topic Quick Customer Service</b><br>Words: concern, regards, short, quick response, response<br>Count: 1<br>Percentage: 0.9%",
          "<b>Topic Quick Customer Service</b><br>Words: quick response, quick, response, reply, quicker<br>Count: 2<br>Percentage: 1.13%",
          "<b>Topic Quick Customer Service</b><br>Words: quick response, quick, response, short, quicker<br>Count: 18<br>Percentage: 1.28%",
          "<b>Topic Quick Customer Service</b><br>Words: attention, appreciate, happy, kind, kindness<br>Count: 1<br>Percentage: 1.61%",
          "<b>Topic Quick Customer Service</b><br>Words: quick response, response, quick, reply, short<br>Count: 1<br>Percentage: 1.75%",
          "<b>Topic Quick Customer Service</b><br>Words: quick response, quick, response, short, helpful<br>Count: 3<br>Percentage: 1.9%",
          "<b>Topic Quick Customer Service</b><br>Words: polite, politeness, appreciate, politely, regards<br>Count: 6<br>Percentage: 2.34%",
          "<b>Topic Quick Customer Service</b><br>Words: quick response, quick, response, reply, short<br>Count: 3<br>Percentage: 3.06%",
          "<b>Topic Quick Customer Service</b><br>Words: advice, kind, helpful, kindness, guidance<br>Count: 1<br>Percentage: 25.0%"
         ],
         "marker": {
          "color": "#0072B2"
         },
         "name": "Quick Customer Service",
         "orientation": "h",
         "type": "bar",
         "visible": "legendonly",
         "x": [
          0.11,
          0.31,
          0.43,
          0.47,
          0.48,
          0.9,
          1.13,
          1.28,
          1.61,
          1.75,
          1.9,
          2.34,
          3.06,
          25
         ],
         "y": [
          "Unknown",
          "Food & Beverage",
          "Public Access, Education, Research, Finance Buildings",
          "Machinery",
          "Water",
          "Marine & Shore Power",
          "Semiconductor",
          "Industrial Manufacturing and Commercial",
          "LifeSciences",
          "IT Equipment and Professional Services",
          "Power & Grid",
          "Automotive & E-Mobility",
          "Energies and Chemicals",
          "Household & Personal Care"
         ]
        }
       ],
       "layout": {
        "barmode": "stack",
        "height": 750,
        "hoverlabel": {
         "bgcolor": "white",
         "font": {
          "family": "Rockwell",
          "size": 16
         }
        },
        "legend": {
         "title": {
          "text": "<b>Global Topic Representation"
         }
        },
        "template": {
         "data": {
          "bar": [
           {
            "error_x": {
             "color": "rgb(36,36,36)"
            },
            "error_y": {
             "color": "rgb(36,36,36)"
            },
            "marker": {
             "line": {
              "color": "white",
              "width": 0.5
             },
             "pattern": {
              "fillmode": "overlay",
              "size": 10,
              "solidity": 0.2
             }
            },
            "type": "bar"
           }
          ],
          "barpolar": [
           {
            "marker": {
             "line": {
              "color": "white",
              "width": 0.5
             },
             "pattern": {
              "fillmode": "overlay",
              "size": 10,
              "solidity": 0.2
             }
            },
            "type": "barpolar"
           }
          ],
          "carpet": [
           {
            "aaxis": {
             "endlinecolor": "rgb(36,36,36)",
             "gridcolor": "white",
             "linecolor": "white",
             "minorgridcolor": "white",
             "startlinecolor": "rgb(36,36,36)"
            },
            "baxis": {
             "endlinecolor": "rgb(36,36,36)",
             "gridcolor": "white",
             "linecolor": "white",
             "minorgridcolor": "white",
             "startlinecolor": "rgb(36,36,36)"
            },
            "type": "carpet"
           }
          ],
          "choropleth": [
           {
            "colorbar": {
             "outlinewidth": 1,
             "tickcolor": "rgb(36,36,36)",
             "ticks": "outside"
            },
            "type": "choropleth"
           }
          ],
          "contour": [
           {
            "colorbar": {
             "outlinewidth": 1,
             "tickcolor": "rgb(36,36,36)",
             "ticks": "outside"
            },
            "colorscale": [
             [
              0,
              "#440154"
             ],
             [
              0.1111111111111111,
              "#482878"
             ],
             [
              0.2222222222222222,
              "#3e4989"
             ],
             [
              0.3333333333333333,
              "#31688e"
             ],
             [
              0.4444444444444444,
              "#26828e"
             ],
             [
              0.5555555555555556,
              "#1f9e89"
             ],
             [
              0.6666666666666666,
              "#35b779"
             ],
             [
              0.7777777777777778,
              "#6ece58"
             ],
             [
              0.8888888888888888,
              "#b5de2b"
             ],
             [
              1,
              "#fde725"
             ]
            ],
            "type": "contour"
           }
          ],
          "contourcarpet": [
           {
            "colorbar": {
             "outlinewidth": 1,
             "tickcolor": "rgb(36,36,36)",
             "ticks": "outside"
            },
            "type": "contourcarpet"
           }
          ],
          "heatmap": [
           {
            "colorbar": {
             "outlinewidth": 1,
             "tickcolor": "rgb(36,36,36)",
             "ticks": "outside"
            },
            "colorscale": [
             [
              0,
              "#440154"
             ],
             [
              0.1111111111111111,
              "#482878"
             ],
             [
              0.2222222222222222,
              "#3e4989"
             ],
             [
              0.3333333333333333,
              "#31688e"
             ],
             [
              0.4444444444444444,
              "#26828e"
             ],
             [
              0.5555555555555556,
              "#1f9e89"
             ],
             [
              0.6666666666666666,
              "#35b779"
             ],
             [
              0.7777777777777778,
              "#6ece58"
             ],
             [
              0.8888888888888888,
              "#b5de2b"
             ],
             [
              1,
              "#fde725"
             ]
            ],
            "type": "heatmap"
           }
          ],
          "heatmapgl": [
           {
            "colorbar": {
             "outlinewidth": 1,
             "tickcolor": "rgb(36,36,36)",
             "ticks": "outside"
            },
            "colorscale": [
             [
              0,
              "#440154"
             ],
             [
              0.1111111111111111,
              "#482878"
             ],
             [
              0.2222222222222222,
              "#3e4989"
             ],
             [
              0.3333333333333333,
              "#31688e"
             ],
             [
              0.4444444444444444,
              "#26828e"
             ],
             [
              0.5555555555555556,
              "#1f9e89"
             ],
             [
              0.6666666666666666,
              "#35b779"
             ],
             [
              0.7777777777777778,
              "#6ece58"
             ],
             [
              0.8888888888888888,
              "#b5de2b"
             ],
             [
              1,
              "#fde725"
             ]
            ],
            "type": "heatmapgl"
           }
          ],
          "histogram": [
           {
            "marker": {
             "line": {
              "color": "white",
              "width": 0.6
             }
            },
            "type": "histogram"
           }
          ],
          "histogram2d": [
           {
            "colorbar": {
             "outlinewidth": 1,
             "tickcolor": "rgb(36,36,36)",
             "ticks": "outside"
            },
            "colorscale": [
             [
              0,
              "#440154"
             ],
             [
              0.1111111111111111,
              "#482878"
             ],
             [
              0.2222222222222222,
              "#3e4989"
             ],
             [
              0.3333333333333333,
              "#31688e"
             ],
             [
              0.4444444444444444,
              "#26828e"
             ],
             [
              0.5555555555555556,
              "#1f9e89"
             ],
             [
              0.6666666666666666,
              "#35b779"
             ],
             [
              0.7777777777777778,
              "#6ece58"
             ],
             [
              0.8888888888888888,
              "#b5de2b"
             ],
             [
              1,
              "#fde725"
             ]
            ],
            "type": "histogram2d"
           }
          ],
          "histogram2dcontour": [
           {
            "colorbar": {
             "outlinewidth": 1,
             "tickcolor": "rgb(36,36,36)",
             "ticks": "outside"
            },
            "colorscale": [
             [
              0,
              "#440154"
             ],
             [
              0.1111111111111111,
              "#482878"
             ],
             [
              0.2222222222222222,
              "#3e4989"
             ],
             [
              0.3333333333333333,
              "#31688e"
             ],
             [
              0.4444444444444444,
              "#26828e"
             ],
             [
              0.5555555555555556,
              "#1f9e89"
             ],
             [
              0.6666666666666666,
              "#35b779"
             ],
             [
              0.7777777777777778,
              "#6ece58"
             ],
             [
              0.8888888888888888,
              "#b5de2b"
             ],
             [
              1,
              "#fde725"
             ]
            ],
            "type": "histogram2dcontour"
           }
          ],
          "mesh3d": [
           {
            "colorbar": {
             "outlinewidth": 1,
             "tickcolor": "rgb(36,36,36)",
             "ticks": "outside"
            },
            "type": "mesh3d"
           }
          ],
          "parcoords": [
           {
            "line": {
             "colorbar": {
              "outlinewidth": 1,
              "tickcolor": "rgb(36,36,36)",
              "ticks": "outside"
             }
            },
            "type": "parcoords"
           }
          ],
          "pie": [
           {
            "automargin": true,
            "type": "pie"
           }
          ],
          "scatter": [
           {
            "fillpattern": {
             "fillmode": "overlay",
             "size": 10,
             "solidity": 0.2
            },
            "type": "scatter"
           }
          ],
          "scatter3d": [
           {
            "line": {
             "colorbar": {
              "outlinewidth": 1,
              "tickcolor": "rgb(36,36,36)",
              "ticks": "outside"
             }
            },
            "marker": {
             "colorbar": {
              "outlinewidth": 1,
              "tickcolor": "rgb(36,36,36)",
              "ticks": "outside"
             }
            },
            "type": "scatter3d"
           }
          ],
          "scattercarpet": [
           {
            "marker": {
             "colorbar": {
              "outlinewidth": 1,
              "tickcolor": "rgb(36,36,36)",
              "ticks": "outside"
             }
            },
            "type": "scattercarpet"
           }
          ],
          "scattergeo": [
           {
            "marker": {
             "colorbar": {
              "outlinewidth": 1,
              "tickcolor": "rgb(36,36,36)",
              "ticks": "outside"
             }
            },
            "type": "scattergeo"
           }
          ],
          "scattergl": [
           {
            "marker": {
             "colorbar": {
              "outlinewidth": 1,
              "tickcolor": "rgb(36,36,36)",
              "ticks": "outside"
             }
            },
            "type": "scattergl"
           }
          ],
          "scattermapbox": [
           {
            "marker": {
             "colorbar": {
              "outlinewidth": 1,
              "tickcolor": "rgb(36,36,36)",
              "ticks": "outside"
             }
            },
            "type": "scattermapbox"
           }
          ],
          "scatterpolar": [
           {
            "marker": {
             "colorbar": {
              "outlinewidth": 1,
              "tickcolor": "rgb(36,36,36)",
              "ticks": "outside"
             }
            },
            "type": "scatterpolar"
           }
          ],
          "scatterpolargl": [
           {
            "marker": {
             "colorbar": {
              "outlinewidth": 1,
              "tickcolor": "rgb(36,36,36)",
              "ticks": "outside"
             }
            },
            "type": "scatterpolargl"
           }
          ],
          "scatterternary": [
           {
            "marker": {
             "colorbar": {
              "outlinewidth": 1,
              "tickcolor": "rgb(36,36,36)",
              "ticks": "outside"
             }
            },
            "type": "scatterternary"
           }
          ],
          "surface": [
           {
            "colorbar": {
             "outlinewidth": 1,
             "tickcolor": "rgb(36,36,36)",
             "ticks": "outside"
            },
            "colorscale": [
             [
              0,
              "#440154"
             ],
             [
              0.1111111111111111,
              "#482878"
             ],
             [
              0.2222222222222222,
              "#3e4989"
             ],
             [
              0.3333333333333333,
              "#31688e"
             ],
             [
              0.4444444444444444,
              "#26828e"
             ],
             [
              0.5555555555555556,
              "#1f9e89"
             ],
             [
              0.6666666666666666,
              "#35b779"
             ],
             [
              0.7777777777777778,
              "#6ece58"
             ],
             [
              0.8888888888888888,
              "#b5de2b"
             ],
             [
              1,
              "#fde725"
             ]
            ],
            "type": "surface"
           }
          ],
          "table": [
           {
            "cells": {
             "fill": {
              "color": "rgb(237,237,237)"
             },
             "line": {
              "color": "white"
             }
            },
            "header": {
             "fill": {
              "color": "rgb(217,217,217)"
             },
             "line": {
              "color": "white"
             }
            },
            "type": "table"
           }
          ]
         },
         "layout": {
          "annotationdefaults": {
           "arrowhead": 0,
           "arrowwidth": 1
          },
          "autotypenumbers": "strict",
          "coloraxis": {
           "colorbar": {
            "outlinewidth": 1,
            "tickcolor": "rgb(36,36,36)",
            "ticks": "outside"
           }
          },
          "colorscale": {
           "diverging": [
            [
             0,
             "rgb(103,0,31)"
            ],
            [
             0.1,
             "rgb(178,24,43)"
            ],
            [
             0.2,
             "rgb(214,96,77)"
            ],
            [
             0.3,
             "rgb(244,165,130)"
            ],
            [
             0.4,
             "rgb(253,219,199)"
            ],
            [
             0.5,
             "rgb(247,247,247)"
            ],
            [
             0.6,
             "rgb(209,229,240)"
            ],
            [
             0.7,
             "rgb(146,197,222)"
            ],
            [
             0.8,
             "rgb(67,147,195)"
            ],
            [
             0.9,
             "rgb(33,102,172)"
            ],
            [
             1,
             "rgb(5,48,97)"
            ]
           ],
           "sequential": [
            [
             0,
             "#440154"
            ],
            [
             0.1111111111111111,
             "#482878"
            ],
            [
             0.2222222222222222,
             "#3e4989"
            ],
            [
             0.3333333333333333,
             "#31688e"
            ],
            [
             0.4444444444444444,
             "#26828e"
            ],
            [
             0.5555555555555556,
             "#1f9e89"
            ],
            [
             0.6666666666666666,
             "#35b779"
            ],
            [
             0.7777777777777778,
             "#6ece58"
            ],
            [
             0.8888888888888888,
             "#b5de2b"
            ],
            [
             1,
             "#fde725"
            ]
           ],
           "sequentialminus": [
            [
             0,
             "#440154"
            ],
            [
             0.1111111111111111,
             "#482878"
            ],
            [
             0.2222222222222222,
             "#3e4989"
            ],
            [
             0.3333333333333333,
             "#31688e"
            ],
            [
             0.4444444444444444,
             "#26828e"
            ],
            [
             0.5555555555555556,
             "#1f9e89"
            ],
            [
             0.6666666666666666,
             "#35b779"
            ],
            [
             0.7777777777777778,
             "#6ece58"
            ],
            [
             0.8888888888888888,
             "#b5de2b"
            ],
            [
             1,
             "#fde725"
            ]
           ]
          },
          "colorway": [
           "#1F77B4",
           "#FF7F0E",
           "#2CA02C",
           "#D62728",
           "#9467BD",
           "#8C564B",
           "#E377C2",
           "#7F7F7F",
           "#BCBD22",
           "#17BECF"
          ],
          "font": {
           "color": "rgb(36,36,36)"
          },
          "geo": {
           "bgcolor": "white",
           "lakecolor": "white",
           "landcolor": "white",
           "showlakes": true,
           "showland": true,
           "subunitcolor": "white"
          },
          "hoverlabel": {
           "align": "left"
          },
          "hovermode": "closest",
          "mapbox": {
           "style": "light"
          },
          "paper_bgcolor": "white",
          "plot_bgcolor": "white",
          "polar": {
           "angularaxis": {
            "gridcolor": "rgb(232,232,232)",
            "linecolor": "rgb(36,36,36)",
            "showgrid": false,
            "showline": true,
            "ticks": "outside"
           },
           "bgcolor": "white",
           "radialaxis": {
            "gridcolor": "rgb(232,232,232)",
            "linecolor": "rgb(36,36,36)",
            "showgrid": false,
            "showline": true,
            "ticks": "outside"
           }
          },
          "scene": {
           "xaxis": {
            "backgroundcolor": "white",
            "gridcolor": "rgb(232,232,232)",
            "gridwidth": 2,
            "linecolor": "rgb(36,36,36)",
            "showbackground": true,
            "showgrid": false,
            "showline": true,
            "ticks": "outside",
            "zeroline": false,
            "zerolinecolor": "rgb(36,36,36)"
           },
           "yaxis": {
            "backgroundcolor": "white",
            "gridcolor": "rgb(232,232,232)",
            "gridwidth": 2,
            "linecolor": "rgb(36,36,36)",
            "showbackground": true,
            "showgrid": false,
            "showline": true,
            "ticks": "outside",
            "zeroline": false,
            "zerolinecolor": "rgb(36,36,36)"
           },
           "zaxis": {
            "backgroundcolor": "white",
            "gridcolor": "rgb(232,232,232)",
            "gridwidth": 2,
            "linecolor": "rgb(36,36,36)",
            "showbackground": true,
            "showgrid": false,
            "showline": true,
            "ticks": "outside",
            "zeroline": false,
            "zerolinecolor": "rgb(36,36,36)"
           }
          },
          "shapedefaults": {
           "fillcolor": "black",
           "line": {
            "width": 0
           },
           "opacity": 0.3
          },
          "ternary": {
           "aaxis": {
            "gridcolor": "rgb(232,232,232)",
            "linecolor": "rgb(36,36,36)",
            "showgrid": false,
            "showline": true,
            "ticks": "outside"
           },
           "baxis": {
            "gridcolor": "rgb(232,232,232)",
            "linecolor": "rgb(36,36,36)",
            "showgrid": false,
            "showline": true,
            "ticks": "outside"
           },
           "bgcolor": "white",
           "caxis": {
            "gridcolor": "rgb(232,232,232)",
            "linecolor": "rgb(36,36,36)",
            "showgrid": false,
            "showline": true,
            "ticks": "outside"
           }
          },
          "title": {
           "x": 0.05
          },
          "xaxis": {
           "automargin": true,
           "gridcolor": "rgb(232,232,232)",
           "linecolor": "rgb(36,36,36)",
           "showgrid": false,
           "showline": true,
           "ticks": "outside",
           "title": {
            "standoff": 15
           },
           "zeroline": false,
           "zerolinecolor": "rgb(36,36,36)"
          },
          "yaxis": {
           "automargin": true,
           "gridcolor": "rgb(232,232,232)",
           "linecolor": "rgb(36,36,36)",
           "showgrid": false,
           "showline": true,
           "ticks": "outside",
           "title": {
            "standoff": 15
           },
           "zeroline": false,
           "zerolinecolor": "rgb(36,36,36)"
          }
         }
        },
        "title": {
         "font": {
          "color": "Black",
          "size": 22
         },
         "text": "Topics per Market Segment",
         "x": 0.4,
         "xanchor": "center",
         "y": 0.95,
         "yanchor": "top"
        },
        "width": 1300,
        "xaxis": {
         "showgrid": true,
         "title": {
          "text": "Frequency"
         }
        },
        "yaxis": {
         "showgrid": true,
         "title": {
          "text": "Class"
         }
        }
       }
      }
     },
     "metadata": {},
     "output_type": "display_data"
    }
   ],
   "source": [
    "# fig = create_chart_per_class(df, topic_model_merged, \"single_emotion_label\", \n",
    "#                              custom_labels=True, \n",
    "#                              percentage_by=None,\n",
    "#                             #  stacked=True,\n",
    "#                              title=\"Topics per Emotion\", \n",
    "#                              width=1150, height=750)\n",
    "\n",
    "fig = create_chart_per_class(df, topic_model_merged, \"Market Segment\", \n",
    "                             custom_labels=True, \n",
    "                             percentage_by=\"Class\",\n",
    "                             sortedBy=\"Class_Percentage\",\n",
    "                             stacked=True,\n",
    "                             title=\"Topics per Market Segment\", \n",
    "                             width=1300, height=750)\n",
    "\n",
    "path_pct = '../data/graphs/Clustering/topic_repartition/by_Market Segment'\n",
    "save_graph_html(fig, path_pct, \"model_merged_per_Market Segment_class_pct\")\n",
    "fig"
   ]
  },
  {
   "cell_type": "code",
   "execution_count": 8,
   "metadata": {},
   "outputs": [],
   "source": [
    "### Graph barchart of one given emotion by a specified class (year, zone, etc.)\n",
    "\n",
    "# Plot a bar chart or histogram of the distribution of a given emotion by a specified class\n",
    "def plot_emotion(df, emotion, class_name, time_period=None, use_percentage=False, random_colors=True, set_colors=['#96ceb4', '#87bdd8', '#ffcc5c', '#ff6f69', '#f4a688', '#d96459'], set_color=None):\n",
    "    \"\"\"\n",
    "    This function plots a bar chart of the distribution of a specified emotion by a specified class.\n",
    "\n",
    "    Parameters:\n",
    "    df (DataFrame): The input dataframe.\n",
    "    emotion (str): The emotion to filter the dataframe by.\n",
    "    class_name (str): The name of the class column in the dataframe.\n",
    "    time_period (int, optional): The time period to filter the dataframe by. Defaults to None.\n",
    "    use_percentage (bool, optional): Whether to calculate and plot percentages instead of counts. Defaults to False.\n",
    "    random_colors (bool, optional): Whether to choose a color randomly from the set_colors list. If False, set_color must be provided. Defaults to True.\n",
    "    set_colors (list of str, optional): The list of colors to choose from if random_colors is True. Defaults to ['#96ceb4', '#87bdd8', '#ffcc5c', '#ff6f69', '#f4a688', '#d96459'].\n",
    "    set_color (str, optional): The color to use for the plot if random_colors is False. Defaults to None.\n",
    "\n",
    "    Returns:\n",
    "    Figure: A Plotly figure containing the bar chart.\n",
    "    \"\"\"\n",
    "    # Check that set_color is provided if random_colors is False\n",
    "    if random_colors==False and set_color is None:\n",
    "        raise ValueError(\"set_color must be provided if random_colors is False\")\n",
    "    \n",
    "    # Filter the data to only include rows with the specified emotion\n",
    "    filtered_data = df[df['single_emotion_label'] == emotion]\n",
    "\n",
    "    # Filter the data by the specified time period if provided\n",
    "    if time_period != None:\n",
    "        if class_name == 'year':\n",
    "            raise ValueError(\"class_name cannot be 'year' when time_period is defined\")\n",
    "        filtered_data = filtered_data[filtered_data['year'] == time_period]\n",
    "\n",
    "    if random_colors:\n",
    "        # Randomly choose a color from the defined colors list\n",
    "        colors_list = set_colors\n",
    "        color = random.choice(colors_list)\n",
    "    else:\n",
    "        color = set_color\n",
    "\n",
    "    # Calculate the percentage if use_percentage is True\n",
    "    if use_percentage:\n",
    "        total_per_zone = df.groupby(class_name).size()\n",
    "        filtered_data = (filtered_data[class_name].value_counts() / total_per_zone * 100).reset_index()\n",
    "        filtered_data.columns = [class_name, 'percentage']\n",
    "        y_value = 'percentage'\n",
    "    else:\n",
    "        filtered_data = filtered_data[class_name].value_counts().reset_index()\n",
    "        filtered_data.columns = [class_name, 'count']\n",
    "        y_value = 'count'\n",
    "\n",
    "    # Sort the data by ascending frequency if class_name is not 'year'\n",
    "    if class_name != 'year':\n",
    "        filtered_data.sort_values(by=y_value, ascending=True, inplace=True)\n",
    "\n",
    "    fig = px.bar(filtered_data, x=class_name, y=y_value, color_discrete_sequence=[color], width=1100, height=600)\n",
    "\n",
    "    # Set the axis labels\n",
    "    fig.update_layout(xaxis_title=class_name, yaxis_title=y_value)\n",
    "    # Set the title\n",
    "    fig.update_layout(title=f'Distribution of {emotion} by {class_name}' + (f' in {time_period}' if time_period is not None else ''))\n",
    "    # Center the title\n",
    "    fig.update_layout(title_x=0.5)\n",
    "\n",
    "    return fig\n",
    "\n",
    "emotions = df['single_emotion_label'].unique()\n",
    "class_name = \"year\"\n",
    "time_period = None\n",
    "# Loop over each emotion and save the corresponding graph\n",
    "for emotion in emotions:\n",
    "    fig = plot_emotion(df, emotion, class_name, time_period, use_percentage=True)\n",
    "    # Export the chart as a PNG image\n",
    "    # pio.write_image(fig, f'../data/graphs/Sentiment_Analysis/by_emotion/repartition/by_{class_name}/{emotion}_pct.png')\n",
    "\n",
    "# plot_emotion(df, \"admiration\", \"Zone\", time_period=None, use_percentage=True)"
   ]
  },
  {
   "cell_type": "code",
   "execution_count": 5,
   "metadata": {},
   "outputs": [
    {
     "data": {
      "application/vnd.plotly.v1+json": {
       "config": {
        "plotlyServerURL": "https://plot.ly"
       },
       "data": [
        {
         "hole": 0.6,
         "hovertemplate": "%{label}: %{value}<extra></extra>",
         "labels": [
          "Automation Components",
          "Technical Support",
          "Delivery Deadlines",
          "Problem Solving & Comm",
          "Power Supply Issues",
          "Customer Support",
          "Product Evaluation",
          "Pricing",
          "Assistance",
          "Touch Screens",
          "Frequency Converters",
          "Positive feedback",
          "Quick Customer Service"
         ],
         "type": "pie",
         "values": [
          2124,
          379,
          487,
          51,
          103,
          332,
          296,
          67,
          24,
          84,
          91,
          7,
          2
         ]
        }
       ],
       "layout": {
        "autosize": false,
        "height": 500,
        "legend": {
         "title": {
          "text": "Topics"
         }
        },
        "template": {
         "data": {
          "bar": [
           {
            "error_x": {
             "color": "#2a3f5f"
            },
            "error_y": {
             "color": "#2a3f5f"
            },
            "marker": {
             "line": {
              "color": "#E5ECF6",
              "width": 0.5
             },
             "pattern": {
              "fillmode": "overlay",
              "size": 10,
              "solidity": 0.2
             }
            },
            "type": "bar"
           }
          ],
          "barpolar": [
           {
            "marker": {
             "line": {
              "color": "#E5ECF6",
              "width": 0.5
             },
             "pattern": {
              "fillmode": "overlay",
              "size": 10,
              "solidity": 0.2
             }
            },
            "type": "barpolar"
           }
          ],
          "carpet": [
           {
            "aaxis": {
             "endlinecolor": "#2a3f5f",
             "gridcolor": "white",
             "linecolor": "white",
             "minorgridcolor": "white",
             "startlinecolor": "#2a3f5f"
            },
            "baxis": {
             "endlinecolor": "#2a3f5f",
             "gridcolor": "white",
             "linecolor": "white",
             "minorgridcolor": "white",
             "startlinecolor": "#2a3f5f"
            },
            "type": "carpet"
           }
          ],
          "choropleth": [
           {
            "colorbar": {
             "outlinewidth": 0,
             "ticks": ""
            },
            "type": "choropleth"
           }
          ],
          "contour": [
           {
            "colorbar": {
             "outlinewidth": 0,
             "ticks": ""
            },
            "colorscale": [
             [
              0,
              "#0d0887"
             ],
             [
              0.1111111111111111,
              "#46039f"
             ],
             [
              0.2222222222222222,
              "#7201a8"
             ],
             [
              0.3333333333333333,
              "#9c179e"
             ],
             [
              0.4444444444444444,
              "#bd3786"
             ],
             [
              0.5555555555555556,
              "#d8576b"
             ],
             [
              0.6666666666666666,
              "#ed7953"
             ],
             [
              0.7777777777777778,
              "#fb9f3a"
             ],
             [
              0.8888888888888888,
              "#fdca26"
             ],
             [
              1,
              "#f0f921"
             ]
            ],
            "type": "contour"
           }
          ],
          "contourcarpet": [
           {
            "colorbar": {
             "outlinewidth": 0,
             "ticks": ""
            },
            "type": "contourcarpet"
           }
          ],
          "heatmap": [
           {
            "colorbar": {
             "outlinewidth": 0,
             "ticks": ""
            },
            "colorscale": [
             [
              0,
              "#0d0887"
             ],
             [
              0.1111111111111111,
              "#46039f"
             ],
             [
              0.2222222222222222,
              "#7201a8"
             ],
             [
              0.3333333333333333,
              "#9c179e"
             ],
             [
              0.4444444444444444,
              "#bd3786"
             ],
             [
              0.5555555555555556,
              "#d8576b"
             ],
             [
              0.6666666666666666,
              "#ed7953"
             ],
             [
              0.7777777777777778,
              "#fb9f3a"
             ],
             [
              0.8888888888888888,
              "#fdca26"
             ],
             [
              1,
              "#f0f921"
             ]
            ],
            "type": "heatmap"
           }
          ],
          "heatmapgl": [
           {
            "colorbar": {
             "outlinewidth": 0,
             "ticks": ""
            },
            "colorscale": [
             [
              0,
              "#0d0887"
             ],
             [
              0.1111111111111111,
              "#46039f"
             ],
             [
              0.2222222222222222,
              "#7201a8"
             ],
             [
              0.3333333333333333,
              "#9c179e"
             ],
             [
              0.4444444444444444,
              "#bd3786"
             ],
             [
              0.5555555555555556,
              "#d8576b"
             ],
             [
              0.6666666666666666,
              "#ed7953"
             ],
             [
              0.7777777777777778,
              "#fb9f3a"
             ],
             [
              0.8888888888888888,
              "#fdca26"
             ],
             [
              1,
              "#f0f921"
             ]
            ],
            "type": "heatmapgl"
           }
          ],
          "histogram": [
           {
            "marker": {
             "pattern": {
              "fillmode": "overlay",
              "size": 10,
              "solidity": 0.2
             }
            },
            "type": "histogram"
           }
          ],
          "histogram2d": [
           {
            "colorbar": {
             "outlinewidth": 0,
             "ticks": ""
            },
            "colorscale": [
             [
              0,
              "#0d0887"
             ],
             [
              0.1111111111111111,
              "#46039f"
             ],
             [
              0.2222222222222222,
              "#7201a8"
             ],
             [
              0.3333333333333333,
              "#9c179e"
             ],
             [
              0.4444444444444444,
              "#bd3786"
             ],
             [
              0.5555555555555556,
              "#d8576b"
             ],
             [
              0.6666666666666666,
              "#ed7953"
             ],
             [
              0.7777777777777778,
              "#fb9f3a"
             ],
             [
              0.8888888888888888,
              "#fdca26"
             ],
             [
              1,
              "#f0f921"
             ]
            ],
            "type": "histogram2d"
           }
          ],
          "histogram2dcontour": [
           {
            "colorbar": {
             "outlinewidth": 0,
             "ticks": ""
            },
            "colorscale": [
             [
              0,
              "#0d0887"
             ],
             [
              0.1111111111111111,
              "#46039f"
             ],
             [
              0.2222222222222222,
              "#7201a8"
             ],
             [
              0.3333333333333333,
              "#9c179e"
             ],
             [
              0.4444444444444444,
              "#bd3786"
             ],
             [
              0.5555555555555556,
              "#d8576b"
             ],
             [
              0.6666666666666666,
              "#ed7953"
             ],
             [
              0.7777777777777778,
              "#fb9f3a"
             ],
             [
              0.8888888888888888,
              "#fdca26"
             ],
             [
              1,
              "#f0f921"
             ]
            ],
            "type": "histogram2dcontour"
           }
          ],
          "mesh3d": [
           {
            "colorbar": {
             "outlinewidth": 0,
             "ticks": ""
            },
            "type": "mesh3d"
           }
          ],
          "parcoords": [
           {
            "line": {
             "colorbar": {
              "outlinewidth": 0,
              "ticks": ""
             }
            },
            "type": "parcoords"
           }
          ],
          "pie": [
           {
            "automargin": true,
            "type": "pie"
           }
          ],
          "scatter": [
           {
            "fillpattern": {
             "fillmode": "overlay",
             "size": 10,
             "solidity": 0.2
            },
            "type": "scatter"
           }
          ],
          "scatter3d": [
           {
            "line": {
             "colorbar": {
              "outlinewidth": 0,
              "ticks": ""
             }
            },
            "marker": {
             "colorbar": {
              "outlinewidth": 0,
              "ticks": ""
             }
            },
            "type": "scatter3d"
           }
          ],
          "scattercarpet": [
           {
            "marker": {
             "colorbar": {
              "outlinewidth": 0,
              "ticks": ""
             }
            },
            "type": "scattercarpet"
           }
          ],
          "scattergeo": [
           {
            "marker": {
             "colorbar": {
              "outlinewidth": 0,
              "ticks": ""
             }
            },
            "type": "scattergeo"
           }
          ],
          "scattergl": [
           {
            "marker": {
             "colorbar": {
              "outlinewidth": 0,
              "ticks": ""
             }
            },
            "type": "scattergl"
           }
          ],
          "scattermapbox": [
           {
            "marker": {
             "colorbar": {
              "outlinewidth": 0,
              "ticks": ""
             }
            },
            "type": "scattermapbox"
           }
          ],
          "scatterpolar": [
           {
            "marker": {
             "colorbar": {
              "outlinewidth": 0,
              "ticks": ""
             }
            },
            "type": "scatterpolar"
           }
          ],
          "scatterpolargl": [
           {
            "marker": {
             "colorbar": {
              "outlinewidth": 0,
              "ticks": ""
             }
            },
            "type": "scatterpolargl"
           }
          ],
          "scatterternary": [
           {
            "marker": {
             "colorbar": {
              "outlinewidth": 0,
              "ticks": ""
             }
            },
            "type": "scatterternary"
           }
          ],
          "surface": [
           {
            "colorbar": {
             "outlinewidth": 0,
             "ticks": ""
            },
            "colorscale": [
             [
              0,
              "#0d0887"
             ],
             [
              0.1111111111111111,
              "#46039f"
             ],
             [
              0.2222222222222222,
              "#7201a8"
             ],
             [
              0.3333333333333333,
              "#9c179e"
             ],
             [
              0.4444444444444444,
              "#bd3786"
             ],
             [
              0.5555555555555556,
              "#d8576b"
             ],
             [
              0.6666666666666666,
              "#ed7953"
             ],
             [
              0.7777777777777778,
              "#fb9f3a"
             ],
             [
              0.8888888888888888,
              "#fdca26"
             ],
             [
              1,
              "#f0f921"
             ]
            ],
            "type": "surface"
           }
          ],
          "table": [
           {
            "cells": {
             "fill": {
              "color": "#EBF0F8"
             },
             "line": {
              "color": "white"
             }
            },
            "header": {
             "fill": {
              "color": "#C8D4E3"
             },
             "line": {
              "color": "white"
             }
            },
            "type": "table"
           }
          ]
         },
         "layout": {
          "annotationdefaults": {
           "arrowcolor": "#2a3f5f",
           "arrowhead": 0,
           "arrowwidth": 1
          },
          "autotypenumbers": "strict",
          "coloraxis": {
           "colorbar": {
            "outlinewidth": 0,
            "ticks": ""
           }
          },
          "colorscale": {
           "diverging": [
            [
             0,
             "#8e0152"
            ],
            [
             0.1,
             "#c51b7d"
            ],
            [
             0.2,
             "#de77ae"
            ],
            [
             0.3,
             "#f1b6da"
            ],
            [
             0.4,
             "#fde0ef"
            ],
            [
             0.5,
             "#f7f7f7"
            ],
            [
             0.6,
             "#e6f5d0"
            ],
            [
             0.7,
             "#b8e186"
            ],
            [
             0.8,
             "#7fbc41"
            ],
            [
             0.9,
             "#4d9221"
            ],
            [
             1,
             "#276419"
            ]
           ],
           "sequential": [
            [
             0,
             "#0d0887"
            ],
            [
             0.1111111111111111,
             "#46039f"
            ],
            [
             0.2222222222222222,
             "#7201a8"
            ],
            [
             0.3333333333333333,
             "#9c179e"
            ],
            [
             0.4444444444444444,
             "#bd3786"
            ],
            [
             0.5555555555555556,
             "#d8576b"
            ],
            [
             0.6666666666666666,
             "#ed7953"
            ],
            [
             0.7777777777777778,
             "#fb9f3a"
            ],
            [
             0.8888888888888888,
             "#fdca26"
            ],
            [
             1,
             "#f0f921"
            ]
           ],
           "sequentialminus": [
            [
             0,
             "#0d0887"
            ],
            [
             0.1111111111111111,
             "#46039f"
            ],
            [
             0.2222222222222222,
             "#7201a8"
            ],
            [
             0.3333333333333333,
             "#9c179e"
            ],
            [
             0.4444444444444444,
             "#bd3786"
            ],
            [
             0.5555555555555556,
             "#d8576b"
            ],
            [
             0.6666666666666666,
             "#ed7953"
            ],
            [
             0.7777777777777778,
             "#fb9f3a"
            ],
            [
             0.8888888888888888,
             "#fdca26"
            ],
            [
             1,
             "#f0f921"
            ]
           ]
          },
          "colorway": [
           "#636efa",
           "#EF553B",
           "#00cc96",
           "#ab63fa",
           "#FFA15A",
           "#19d3f3",
           "#FF6692",
           "#B6E880",
           "#FF97FF",
           "#FECB52"
          ],
          "font": {
           "color": "#2a3f5f"
          },
          "geo": {
           "bgcolor": "white",
           "lakecolor": "white",
           "landcolor": "#E5ECF6",
           "showlakes": true,
           "showland": true,
           "subunitcolor": "white"
          },
          "hoverlabel": {
           "align": "left"
          },
          "hovermode": "closest",
          "mapbox": {
           "style": "light"
          },
          "paper_bgcolor": "white",
          "plot_bgcolor": "#E5ECF6",
          "polar": {
           "angularaxis": {
            "gridcolor": "white",
            "linecolor": "white",
            "ticks": ""
           },
           "bgcolor": "#E5ECF6",
           "radialaxis": {
            "gridcolor": "white",
            "linecolor": "white",
            "ticks": ""
           }
          },
          "scene": {
           "xaxis": {
            "backgroundcolor": "#E5ECF6",
            "gridcolor": "white",
            "gridwidth": 2,
            "linecolor": "white",
            "showbackground": true,
            "ticks": "",
            "zerolinecolor": "white"
           },
           "yaxis": {
            "backgroundcolor": "#E5ECF6",
            "gridcolor": "white",
            "gridwidth": 2,
            "linecolor": "white",
            "showbackground": true,
            "ticks": "",
            "zerolinecolor": "white"
           },
           "zaxis": {
            "backgroundcolor": "#E5ECF6",
            "gridcolor": "white",
            "gridwidth": 2,
            "linecolor": "white",
            "showbackground": true,
            "ticks": "",
            "zerolinecolor": "white"
           }
          },
          "shapedefaults": {
           "line": {
            "color": "#2a3f5f"
           }
          },
          "ternary": {
           "aaxis": {
            "gridcolor": "white",
            "linecolor": "white",
            "ticks": ""
           },
           "baxis": {
            "gridcolor": "white",
            "linecolor": "white",
            "ticks": ""
           },
           "bgcolor": "#E5ECF6",
           "caxis": {
            "gridcolor": "white",
            "linecolor": "white",
            "ticks": ""
           }
          },
          "title": {
           "x": 0.05
          },
          "xaxis": {
           "automargin": true,
           "gridcolor": "white",
           "linecolor": "white",
           "ticks": "",
           "title": {
            "standoff": 15
           },
           "zerolinecolor": "white",
           "zerolinewidth": 2
          },
          "yaxis": {
           "automargin": true,
           "gridcolor": "white",
           "linecolor": "white",
           "ticks": "",
           "title": {
            "standoff": 15
           },
           "zerolinecolor": "white",
           "zerolinewidth": 2
          }
         }
        },
        "title": {
         "font": {
          "color": "rgb(107, 107, 107)",
          "size": 20
         },
         "text": "Topics' Repartition",
         "x": 0.5,
         "xanchor": "center",
         "y": 0.9,
         "yanchor": "top"
        },
        "width": 800
       }
      }
     },
     "metadata": {},
     "output_type": "display_data"
    }
   ],
   "source": [
    "#### Donut chart\n",
    "\n",
    "def create_donut_chart(df, value):\n",
    "    if value not in [\"Frequency\",\"Topic_Percentage\",\"Class_Percentage\"]:\n",
    "        raise ValueError(f\"{value} is not a discrete column from the df in parameter\")\n",
    "    # Create the donut chart\n",
    "    fig = go.Figure(data=[go.Pie(labels=df['Name'], \n",
    "                                 values=df[value], \n",
    "                                 hole=.6,\n",
    "                                #  marker=dict(colors=palette), \n",
    "                                # default:['#1f77b4',  '#ff7f0e',  '#2ca02c',  '#d62728',  '#9467bd',  '#8c564b',  '#e377c2',  '#7f7f7f',  '#bcbd22',  '#17becf']\n",
    "                                 hovertemplate='%{label}: %{value}<extra></extra>'\n",
    "                                )\n",
    "                    ])\n",
    "    \n",
    "    fig.update_layout(\n",
    "        legend_title_text='Topics',\n",
    "        title={'text': \"Topics' Repartition\",\n",
    "               'y':0.9,'x':0.5,\n",
    "               'xanchor': 'center','yanchor': 'top'},\n",
    "        title_font=dict(size=20,\n",
    "                        color='rgb(107, 107, 107)'),\n",
    "        autosize=False,\n",
    "        width=800,\n",
    "        height=500\n",
    "    )\n",
    "    return fig\n",
    "\n",
    "res_df = create_topics_per_class_df(df, topic_model_merged, \"year\", filter_value=\"2018\")\n",
    "# Call the function with your dataframe and a specific year\n",
    "fig = create_donut_chart(res_df, \"Frequency\")\n",
    "fig\n",
    "# Save the figure as an HTML file\n",
    "# pio.write_html(fig, 'my_figure.html')"
   ]
  },
  {
   "cell_type": "code",
   "execution_count": 9,
   "metadata": {},
   "outputs": [
    {
     "data": {
      "application/vnd.plotly.v1+json": {
       "config": {
        "plotlyServerURL": "https://plot.ly"
       },
       "data": [
        {
         "branchvalues": "total",
         "hovertemplate": "%{hovertext}<extra></extra>",
         "hovertext": [
          "BeNe<br>Number of verbatims: 1584<br>Percentage: 4.42%",
          "CEEI<br>Number of verbatims: 2027<br>Percentage: 5.66%",
          "Canada<br>Number of verbatims: 919<br>Percentage: 2.57%",
          "China & HK<br>Number of verbatims: 1878<br>Percentage: 5.25%",
          "DACH<br>Number of verbatims: 4359<br>Percentage: 12.17%",
          "East Asia Japan<br>Number of verbatims: 4744<br>Percentage: 13.25%",
          "France<br>Number of verbatims: 1914<br>Percentage: 5.35%",
          "Greater India<br>Number of verbatims: 1339<br>Percentage: 3.74%",
          "Iberia<br>Number of verbatims: 2264<br>Percentage: 6.32%",
          "Italy<br>Number of verbatims: 4330<br>Percentage: 12.09%",
          "Mexico & Central America<br>Number of verbatims: 18<br>Percentage: 0.05%",
          "Middle East and Africa<br>Number of verbatims: 1414<br>Percentage: 3.95%",
          "Nordic & Baltics<br>Number of verbatims: 2247<br>Percentage: 6.28%",
          "Pacific<br>Number of verbatims: 1259<br>Percentage: 3.52%",
          "South America<br>Number of verbatims: 2243<br>Percentage: 6.26%",
          "UK and Ireland<br>Number of verbatims: 898<br>Percentage: 2.51%",
          "US<br>Number of verbatims: 2367<br>Percentage: 6.61%",
          "Belgium<br>Number of verbatims: 702<br>Percentage: 44.32%",
          "Netherlands<br>Number of verbatims: 882<br>Percentage: 55.68%",
          "Israel<br>Number of verbatims: 182<br>Percentage: 8.98%",
          "Middle Eastern Europe<br>Number of verbatims: 1626<br>Percentage: 80.22%",
          "Southeast Europe<br>Number of verbatims: 219<br>Percentage: 10.80%",
          "China<br>Number of verbatims: 1874<br>Percentage: 99.79%",
          "Hong Kong & Macao<br>Number of verbatims: 4<br>Percentage: 0.21%",
          "Austria<br>Number of verbatims: 492<br>Percentage: 11.29%",
          "Germany<br>Number of verbatims: 2660<br>Percentage: 61.02%",
          "Liechtenstein<br>Number of verbatims: 1<br>Percentage: 0.02%",
          "Switzerland<br>Number of verbatims: 1206<br>Percentage: 27.67%",
          "North East Asia<br>Number of verbatims: 3679<br>Percentage: 77.55%",
          "South East Asia<br>Number of verbatims: 1065<br>Percentage: 22.45%",
          "India<br>Number of verbatims: 1339<br>Percentage: 100.00%",
          "Portugal<br>Number of verbatims: 427<br>Percentage: 18.86%",
          "Spain<br>Number of verbatims: 1837<br>Percentage: 81.14%",
          "Mexico<br>Number of verbatims: 18<br>Percentage: 100.00%",
          "Anglophone Africa<br>Number of verbatims: 220<br>Percentage: 15.56%",
          "Francophone Africa<br>Number of verbatims: 3<br>Percentage: 0.21%",
          "Gulf<br>Number of verbatims: 21<br>Percentage: 1.49%",
          "North East Africa and Levant<br>Number of verbatims: 49<br>Percentage: 3.47%",
          "Saudi Arabia & Yemen<br>Number of verbatims: 112<br>Percentage: 7.92%",
          "Turkey Central Asia and Pakistan<br>Number of verbatims: 1009<br>Percentage: 71.36%",
          "Denmark<br>Number of verbatims: 595<br>Percentage: 26.48%",
          "Finland & Baltics<br>Number of verbatims: 648<br>Percentage: 28.84%",
          "Norway<br>Number of verbatims: 416<br>Percentage: 18.51%",
          "Sweden<br>Number of verbatims: 588<br>Percentage: 26.17%",
          "Australia<br>Number of verbatims: 916<br>Percentage: 72.76%",
          "New Zealand<br>Number of verbatims: 343<br>Percentage: 27.24%",
          "Andean Cluster<br>Number of verbatims: 42<br>Percentage: 1.87%",
          "Argentina, Uruguay and Paraguay<br>Number of verbatims: 405<br>Percentage: 18.06%",
          "Brazil<br>Number of verbatims: 1717<br>Percentage: 76.55%",
          "Chile<br>Number of verbatims: 79<br>Percentage: 3.52%",
          "Ireland<br>Number of verbatims: 17<br>Percentage: 1.89%",
          "United Kingdom<br>Number of verbatims: 881<br>Percentage: 98.11%",
          "USA<br>Number of verbatims: 2367<br>Percentage: 100.00%",
          "Czech Republic<br>Number of verbatims: 653<br>Percentage: 40.16%",
          "Poland<br>Number of verbatims: 713<br>Percentage: 43.85%",
          "Slovakia<br>Number of verbatims: 260<br>Percentage: 15.99%",
          "Bulgaria<br>Number of verbatims: 17<br>Percentage: 7.76%",
          "Croatia<br>Number of verbatims: 19<br>Percentage: 8.68%",
          "Greece<br>Number of verbatims: 11<br>Percentage: 5.02%",
          "Hungary<br>Number of verbatims: 40<br>Percentage: 18.26%",
          "Romania<br>Number of verbatims: 124<br>Percentage: 56.62%",
          "Serbia<br>Number of verbatims: 6<br>Percentage: 2.74%",
          "Slovenia<br>Number of verbatims: 2<br>Percentage: 0.91%",
          "Hong Kong<br>Number of verbatims: 4<br>Percentage: 100.00%",
          "Japan<br>Number of verbatims: 2541<br>Percentage: 69.07%",
          "Korea, Republic of<br>Number of verbatims: 738<br>Percentage: 20.06%",
          "Taiwan<br>Number of verbatims: 400<br>Percentage: 10.87%",
          "Indonesia<br>Number of verbatims: 299<br>Percentage: 28.08%",
          "Malaysia<br>Number of verbatims: 38<br>Percentage: 3.57%",
          "Singapore<br>Number of verbatims: 281<br>Percentage: 26.38%",
          "Thailand<br>Number of verbatims: 342<br>Percentage: 32.11%",
          "Vietnam<br>Number of verbatims: 105<br>Percentage: 9.86%",
          "San Marino<br>Number of verbatims: 2<br>Percentage: 0.05%",
          "South Africa<br>Number of verbatims: 220<br>Percentage: 100.00%",
          "Dominican Republic<br>Number of verbatims: 1<br>Percentage: 33.33%",
          "Morocco<br>Number of verbatims: 2<br>Percentage: 66.67%",
          "Kuwait<br>Number of verbatims: 3<br>Percentage: 14.29%",
          "Oman<br>Number of verbatims: 1<br>Percentage: 4.76%",
          "Qatar<br>Number of verbatims: 2<br>Percentage: 9.52%",
          "United Arab Emirates<br>Number of verbatims: 15<br>Percentage: 71.43%",
          "Egypt<br>Number of verbatims: 47<br>Percentage: 95.92%",
          "Jordan<br>Number of verbatims: 1<br>Percentage: 2.04%",
          "Lebanon<br>Number of verbatims: 1<br>Percentage: 2.04%",
          "Saudi Arabia<br>Number of verbatims: 112<br>Percentage: 100.00%",
          "Kazakhstan<br>Number of verbatims: 59<br>Percentage: 5.85%",
          "Pakistan<br>Number of verbatims: 10<br>Percentage: 0.99%",
          "Turkey<br>Number of verbatims: 940<br>Percentage: 93.16%",
          "Estonia<br>Number of verbatims: 10<br>Percentage: 1.54%",
          "Finland<br>Number of verbatims: 603<br>Percentage: 93.06%",
          "Latvia<br>Number of verbatims: 17<br>Percentage: 2.62%",
          "Lithuania<br>Number of verbatims: 18<br>Percentage: 2.78%",
          "Colombia<br>Number of verbatims: 34<br>Percentage: 80.95%",
          "Peru<br>Number of verbatims: 8<br>Percentage: 19.05%",
          "Argentina<br>Number of verbatims: 403<br>Percentage: 99.51%",
          "Paraguay<br>Number of verbatims: 2<br>Percentage: 0.49%",
          "Geo Levels<br>Number of verbatims: 35804<br>Percentage: 100.00%"
         ],
         "labels": [
          "BeNe",
          "CEEI",
          "Canada",
          "China & HK",
          "DACH",
          "East Asia Japan",
          "France",
          "Greater India",
          "Iberia",
          "Italy",
          "Mexico & Central America",
          "Middle East and Africa",
          "Nordic & Baltics",
          "Pacific",
          "South America",
          "UK and Ireland",
          "US",
          "Belgium",
          "Netherlands",
          "Israel",
          "Middle Eastern Europe",
          "Southeast Europe",
          "China",
          "Hong Kong & Macao",
          "Austria",
          "Germany",
          "Liechtenstein",
          "Switzerland",
          "North East Asia",
          "South East Asia",
          "India",
          "Portugal",
          "Spain",
          "Mexico",
          "Anglophone Africa",
          "Francophone Africa",
          "Gulf",
          "North East Africa and Levant",
          "Saudi Arabia & Yemen",
          "Turkey Central Asia and Pakistan",
          "Denmark",
          "Finland & Baltics",
          "Norway",
          "Sweden",
          "Australia",
          "New Zealand",
          "Andean Cluster",
          "Argentina, Uruguay and Paraguay",
          "Brazil",
          "Chile",
          "Ireland",
          "United Kingdom",
          "USA",
          "Czech Republic",
          "Poland",
          "Slovakia",
          "Bulgaria",
          "Croatia",
          "Greece",
          "Hungary",
          "Romania",
          "Serbia",
          "Slovenia",
          "Hong Kong",
          "Japan",
          "Korea, Republic of",
          "Taiwan",
          "Indonesia",
          "Malaysia",
          "Singapore",
          "Thailand",
          "Vietnam",
          "San Marino",
          "South Africa",
          "Dominican Republic",
          "Morocco",
          "Kuwait",
          "Oman",
          "Qatar",
          "United Arab Emirates",
          "Egypt",
          "Jordan",
          "Lebanon",
          "Saudi Arabia",
          "Kazakhstan",
          "Pakistan",
          "Turkey",
          "Estonia",
          "Finland",
          "Latvia",
          "Lithuania",
          "Colombia",
          "Peru",
          "Argentina",
          "Paraguay",
          "Geo Levels"
         ],
         "marker": {
          "colors": [
           "#636EFA",
           "#EF553B",
           "#00CC96",
           "#AB63FA",
           "#FFA15A",
           "#19D3F3",
           "#FF6692",
           "#B6E880",
           "#FF97FF",
           "#FECB52",
           "#E763FA",
           "#BA68C8",
           "#FFA000",
           "#F06292",
           "#7986CB",
           "#4DB6AC",
           "#FF8A65",
           "#949bfb",
           "#949bfb",
           "#f27d6a",
           "#f27d6a",
           "#f27d6a",
           "#c594fb",
           "#c594fb",
           "#febe8d",
           "#febe8d",
           "#febe8d",
           "#febe8d",
           "#49dcf5",
           "#49dcf5",
           "#ceefab",
           "#fecafe",
           "#fecafe",
           "#ee94fb",
           "#cb8dd5",
           "#cb8dd5",
           "#cb8dd5",
           "#cb8dd5",
           "#cb8dd5",
           "#cb8dd5",
           "#ffb332",
           "#ffb332",
           "#ffb332",
           "#ffb332",
           "#f490b2",
           "#f490b2",
           "#9da7d9",
           "#9da7d9",
           "#9da7d9",
           "#9da7d9",
           "#71c4bc",
           "#71c4bc",
           "#feb098",
           "#f6a598",
           "#f6a598",
           "#f6a598",
           "#f6a598",
           "#f6a598",
           "#f6a598",
           "#f6a598",
           "#f6a598",
           "#f6a598",
           "#f6a598",
           "#dfc5fc",
           "#79e5f7",
           "#79e5f7",
           "#79e5f7",
           "#79e5f7",
           "#79e5f7",
           "#79e5f7",
           "#79e5f7",
           "#79e5f7",
           "#feda84",
           "#dbb2e2",
           "#dbb2e2",
           "#dbb2e2",
           "#dbb2e2",
           "#dbb2e2",
           "#dbb2e2",
           "#dbb2e2",
           "#dbb2e2",
           "#dbb2e2",
           "#dbb2e2",
           "#dbb2e2",
           "#dbb2e2",
           "#dbb2e2",
           "#dbb2e2",
           "#ffc564",
           "#ffc564",
           "#ffc564",
           "#ffc564",
           "#c1c8e7",
           "#c1c8e7",
           "#c1c8e7",
           "#c1c8e7",
           "#ffffff"
          ]
         },
         "parents": [
          "Geo Levels",
          "Geo Levels",
          "Geo Levels",
          "Geo Levels",
          "Geo Levels",
          "Geo Levels",
          "Geo Levels",
          "Geo Levels",
          "Geo Levels",
          "Geo Levels",
          "Geo Levels",
          "Geo Levels",
          "Geo Levels",
          "Geo Levels",
          "Geo Levels",
          "Geo Levels",
          "Geo Levels",
          "BeNe",
          "BeNe",
          "CEEI",
          "CEEI",
          "CEEI",
          "China & HK",
          "China & HK",
          "DACH",
          "DACH",
          "DACH",
          "DACH",
          "East Asia Japan",
          "East Asia Japan",
          "Greater India",
          "Iberia",
          "Iberia",
          "Mexico & Central America",
          "Middle East and Africa",
          "Middle East and Africa",
          "Middle East and Africa",
          "Middle East and Africa",
          "Middle East and Africa",
          "Middle East and Africa",
          "Nordic & Baltics",
          "Nordic & Baltics",
          "Nordic & Baltics",
          "Nordic & Baltics",
          "Pacific",
          "Pacific",
          "South America",
          "South America",
          "South America",
          "South America",
          "UK and Ireland",
          "UK and Ireland",
          "US",
          "Middle Eastern Europe",
          "Middle Eastern Europe",
          "Middle Eastern Europe",
          "Southeast Europe",
          "Southeast Europe",
          "Southeast Europe",
          "Southeast Europe",
          "Southeast Europe",
          "Southeast Europe",
          "Southeast Europe",
          "Hong Kong & Macao",
          "North East Asia",
          "North East Asia",
          "North East Asia",
          "South East Asia",
          "South East Asia",
          "South East Asia",
          "South East Asia",
          "South East Asia",
          "Italy",
          "Anglophone Africa",
          "Francophone Africa",
          "Francophone Africa",
          "Gulf",
          "Gulf",
          "Gulf",
          "Gulf",
          "North East Africa and Levant",
          "North East Africa and Levant",
          "North East Africa and Levant",
          "Saudi Arabia & Yemen",
          "Turkey Central Asia and Pakistan",
          "Turkey Central Asia and Pakistan",
          "Turkey Central Asia and Pakistan",
          "Finland & Baltics",
          "Finland & Baltics",
          "Finland & Baltics",
          "Finland & Baltics",
          "Andean Cluster",
          "Andean Cluster",
          "Argentina, Uruguay and Paraguay",
          "Argentina, Uruguay and Paraguay",
          ""
         ],
         "type": "sunburst",
         "values": [
          1584,
          2027,
          919,
          1878,
          4359,
          4744,
          1914,
          1339,
          2264,
          4330,
          18,
          1414,
          2247,
          1259,
          2243,
          898,
          2367,
          702,
          882,
          182,
          1626,
          219,
          1874,
          4,
          492,
          2660,
          1,
          1206,
          3679,
          1065,
          1339,
          427,
          1837,
          18,
          220,
          3,
          21,
          49,
          112,
          1009,
          595,
          648,
          416,
          588,
          916,
          343,
          42,
          405,
          1717,
          79,
          17,
          881,
          2367,
          653,
          713,
          260,
          17,
          19,
          11,
          40,
          124,
          6,
          2,
          4,
          2541,
          738,
          400,
          299,
          38,
          281,
          342,
          105,
          2,
          220,
          1,
          2,
          3,
          1,
          2,
          15,
          47,
          1,
          1,
          112,
          59,
          10,
          940,
          10,
          603,
          17,
          18,
          34,
          8,
          403,
          2,
          35804
         ]
        }
       ],
       "layout": {
        "height": 1000,
        "template": {
         "data": {
          "bar": [
           {
            "error_x": {
             "color": "#2a3f5f"
            },
            "error_y": {
             "color": "#2a3f5f"
            },
            "marker": {
             "line": {
              "color": "#E5ECF6",
              "width": 0.5
             },
             "pattern": {
              "fillmode": "overlay",
              "size": 10,
              "solidity": 0.2
             }
            },
            "type": "bar"
           }
          ],
          "barpolar": [
           {
            "marker": {
             "line": {
              "color": "#E5ECF6",
              "width": 0.5
             },
             "pattern": {
              "fillmode": "overlay",
              "size": 10,
              "solidity": 0.2
             }
            },
            "type": "barpolar"
           }
          ],
          "carpet": [
           {
            "aaxis": {
             "endlinecolor": "#2a3f5f",
             "gridcolor": "white",
             "linecolor": "white",
             "minorgridcolor": "white",
             "startlinecolor": "#2a3f5f"
            },
            "baxis": {
             "endlinecolor": "#2a3f5f",
             "gridcolor": "white",
             "linecolor": "white",
             "minorgridcolor": "white",
             "startlinecolor": "#2a3f5f"
            },
            "type": "carpet"
           }
          ],
          "choropleth": [
           {
            "colorbar": {
             "outlinewidth": 0,
             "ticks": ""
            },
            "type": "choropleth"
           }
          ],
          "contour": [
           {
            "colorbar": {
             "outlinewidth": 0,
             "ticks": ""
            },
            "colorscale": [
             [
              0,
              "#0d0887"
             ],
             [
              0.1111111111111111,
              "#46039f"
             ],
             [
              0.2222222222222222,
              "#7201a8"
             ],
             [
              0.3333333333333333,
              "#9c179e"
             ],
             [
              0.4444444444444444,
              "#bd3786"
             ],
             [
              0.5555555555555556,
              "#d8576b"
             ],
             [
              0.6666666666666666,
              "#ed7953"
             ],
             [
              0.7777777777777778,
              "#fb9f3a"
             ],
             [
              0.8888888888888888,
              "#fdca26"
             ],
             [
              1,
              "#f0f921"
             ]
            ],
            "type": "contour"
           }
          ],
          "contourcarpet": [
           {
            "colorbar": {
             "outlinewidth": 0,
             "ticks": ""
            },
            "type": "contourcarpet"
           }
          ],
          "heatmap": [
           {
            "colorbar": {
             "outlinewidth": 0,
             "ticks": ""
            },
            "colorscale": [
             [
              0,
              "#0d0887"
             ],
             [
              0.1111111111111111,
              "#46039f"
             ],
             [
              0.2222222222222222,
              "#7201a8"
             ],
             [
              0.3333333333333333,
              "#9c179e"
             ],
             [
              0.4444444444444444,
              "#bd3786"
             ],
             [
              0.5555555555555556,
              "#d8576b"
             ],
             [
              0.6666666666666666,
              "#ed7953"
             ],
             [
              0.7777777777777778,
              "#fb9f3a"
             ],
             [
              0.8888888888888888,
              "#fdca26"
             ],
             [
              1,
              "#f0f921"
             ]
            ],
            "type": "heatmap"
           }
          ],
          "heatmapgl": [
           {
            "colorbar": {
             "outlinewidth": 0,
             "ticks": ""
            },
            "colorscale": [
             [
              0,
              "#0d0887"
             ],
             [
              0.1111111111111111,
              "#46039f"
             ],
             [
              0.2222222222222222,
              "#7201a8"
             ],
             [
              0.3333333333333333,
              "#9c179e"
             ],
             [
              0.4444444444444444,
              "#bd3786"
             ],
             [
              0.5555555555555556,
              "#d8576b"
             ],
             [
              0.6666666666666666,
              "#ed7953"
             ],
             [
              0.7777777777777778,
              "#fb9f3a"
             ],
             [
              0.8888888888888888,
              "#fdca26"
             ],
             [
              1,
              "#f0f921"
             ]
            ],
            "type": "heatmapgl"
           }
          ],
          "histogram": [
           {
            "marker": {
             "pattern": {
              "fillmode": "overlay",
              "size": 10,
              "solidity": 0.2
             }
            },
            "type": "histogram"
           }
          ],
          "histogram2d": [
           {
            "colorbar": {
             "outlinewidth": 0,
             "ticks": ""
            },
            "colorscale": [
             [
              0,
              "#0d0887"
             ],
             [
              0.1111111111111111,
              "#46039f"
             ],
             [
              0.2222222222222222,
              "#7201a8"
             ],
             [
              0.3333333333333333,
              "#9c179e"
             ],
             [
              0.4444444444444444,
              "#bd3786"
             ],
             [
              0.5555555555555556,
              "#d8576b"
             ],
             [
              0.6666666666666666,
              "#ed7953"
             ],
             [
              0.7777777777777778,
              "#fb9f3a"
             ],
             [
              0.8888888888888888,
              "#fdca26"
             ],
             [
              1,
              "#f0f921"
             ]
            ],
            "type": "histogram2d"
           }
          ],
          "histogram2dcontour": [
           {
            "colorbar": {
             "outlinewidth": 0,
             "ticks": ""
            },
            "colorscale": [
             [
              0,
              "#0d0887"
             ],
             [
              0.1111111111111111,
              "#46039f"
             ],
             [
              0.2222222222222222,
              "#7201a8"
             ],
             [
              0.3333333333333333,
              "#9c179e"
             ],
             [
              0.4444444444444444,
              "#bd3786"
             ],
             [
              0.5555555555555556,
              "#d8576b"
             ],
             [
              0.6666666666666666,
              "#ed7953"
             ],
             [
              0.7777777777777778,
              "#fb9f3a"
             ],
             [
              0.8888888888888888,
              "#fdca26"
             ],
             [
              1,
              "#f0f921"
             ]
            ],
            "type": "histogram2dcontour"
           }
          ],
          "mesh3d": [
           {
            "colorbar": {
             "outlinewidth": 0,
             "ticks": ""
            },
            "type": "mesh3d"
           }
          ],
          "parcoords": [
           {
            "line": {
             "colorbar": {
              "outlinewidth": 0,
              "ticks": ""
             }
            },
            "type": "parcoords"
           }
          ],
          "pie": [
           {
            "automargin": true,
            "type": "pie"
           }
          ],
          "scatter": [
           {
            "fillpattern": {
             "fillmode": "overlay",
             "size": 10,
             "solidity": 0.2
            },
            "type": "scatter"
           }
          ],
          "scatter3d": [
           {
            "line": {
             "colorbar": {
              "outlinewidth": 0,
              "ticks": ""
             }
            },
            "marker": {
             "colorbar": {
              "outlinewidth": 0,
              "ticks": ""
             }
            },
            "type": "scatter3d"
           }
          ],
          "scattercarpet": [
           {
            "marker": {
             "colorbar": {
              "outlinewidth": 0,
              "ticks": ""
             }
            },
            "type": "scattercarpet"
           }
          ],
          "scattergeo": [
           {
            "marker": {
             "colorbar": {
              "outlinewidth": 0,
              "ticks": ""
             }
            },
            "type": "scattergeo"
           }
          ],
          "scattergl": [
           {
            "marker": {
             "colorbar": {
              "outlinewidth": 0,
              "ticks": ""
             }
            },
            "type": "scattergl"
           }
          ],
          "scattermapbox": [
           {
            "marker": {
             "colorbar": {
              "outlinewidth": 0,
              "ticks": ""
             }
            },
            "type": "scattermapbox"
           }
          ],
          "scatterpolar": [
           {
            "marker": {
             "colorbar": {
              "outlinewidth": 0,
              "ticks": ""
             }
            },
            "type": "scatterpolar"
           }
          ],
          "scatterpolargl": [
           {
            "marker": {
             "colorbar": {
              "outlinewidth": 0,
              "ticks": ""
             }
            },
            "type": "scatterpolargl"
           }
          ],
          "scatterternary": [
           {
            "marker": {
             "colorbar": {
              "outlinewidth": 0,
              "ticks": ""
             }
            },
            "type": "scatterternary"
           }
          ],
          "surface": [
           {
            "colorbar": {
             "outlinewidth": 0,
             "ticks": ""
            },
            "colorscale": [
             [
              0,
              "#0d0887"
             ],
             [
              0.1111111111111111,
              "#46039f"
             ],
             [
              0.2222222222222222,
              "#7201a8"
             ],
             [
              0.3333333333333333,
              "#9c179e"
             ],
             [
              0.4444444444444444,
              "#bd3786"
             ],
             [
              0.5555555555555556,
              "#d8576b"
             ],
             [
              0.6666666666666666,
              "#ed7953"
             ],
             [
              0.7777777777777778,
              "#fb9f3a"
             ],
             [
              0.8888888888888888,
              "#fdca26"
             ],
             [
              1,
              "#f0f921"
             ]
            ],
            "type": "surface"
           }
          ],
          "table": [
           {
            "cells": {
             "fill": {
              "color": "#EBF0F8"
             },
             "line": {
              "color": "white"
             }
            },
            "header": {
             "fill": {
              "color": "#C8D4E3"
             },
             "line": {
              "color": "white"
             }
            },
            "type": "table"
           }
          ]
         },
         "layout": {
          "annotationdefaults": {
           "arrowcolor": "#2a3f5f",
           "arrowhead": 0,
           "arrowwidth": 1
          },
          "autotypenumbers": "strict",
          "coloraxis": {
           "colorbar": {
            "outlinewidth": 0,
            "ticks": ""
           }
          },
          "colorscale": {
           "diverging": [
            [
             0,
             "#8e0152"
            ],
            [
             0.1,
             "#c51b7d"
            ],
            [
             0.2,
             "#de77ae"
            ],
            [
             0.3,
             "#f1b6da"
            ],
            [
             0.4,
             "#fde0ef"
            ],
            [
             0.5,
             "#f7f7f7"
            ],
            [
             0.6,
             "#e6f5d0"
            ],
            [
             0.7,
             "#b8e186"
            ],
            [
             0.8,
             "#7fbc41"
            ],
            [
             0.9,
             "#4d9221"
            ],
            [
             1,
             "#276419"
            ]
           ],
           "sequential": [
            [
             0,
             "#0d0887"
            ],
            [
             0.1111111111111111,
             "#46039f"
            ],
            [
             0.2222222222222222,
             "#7201a8"
            ],
            [
             0.3333333333333333,
             "#9c179e"
            ],
            [
             0.4444444444444444,
             "#bd3786"
            ],
            [
             0.5555555555555556,
             "#d8576b"
            ],
            [
             0.6666666666666666,
             "#ed7953"
            ],
            [
             0.7777777777777778,
             "#fb9f3a"
            ],
            [
             0.8888888888888888,
             "#fdca26"
            ],
            [
             1,
             "#f0f921"
            ]
           ],
           "sequentialminus": [
            [
             0,
             "#0d0887"
            ],
            [
             0.1111111111111111,
             "#46039f"
            ],
            [
             0.2222222222222222,
             "#7201a8"
            ],
            [
             0.3333333333333333,
             "#9c179e"
            ],
            [
             0.4444444444444444,
             "#bd3786"
            ],
            [
             0.5555555555555556,
             "#d8576b"
            ],
            [
             0.6666666666666666,
             "#ed7953"
            ],
            [
             0.7777777777777778,
             "#fb9f3a"
            ],
            [
             0.8888888888888888,
             "#fdca26"
            ],
            [
             1,
             "#f0f921"
            ]
           ]
          },
          "colorway": [
           "#636efa",
           "#EF553B",
           "#00cc96",
           "#ab63fa",
           "#FFA15A",
           "#19d3f3",
           "#FF6692",
           "#B6E880",
           "#FF97FF",
           "#FECB52"
          ],
          "font": {
           "color": "#2a3f5f"
          },
          "geo": {
           "bgcolor": "white",
           "lakecolor": "white",
           "landcolor": "#E5ECF6",
           "showlakes": true,
           "showland": true,
           "subunitcolor": "white"
          },
          "hoverlabel": {
           "align": "left"
          },
          "hovermode": "closest",
          "mapbox": {
           "style": "light"
          },
          "paper_bgcolor": "white",
          "plot_bgcolor": "#E5ECF6",
          "polar": {
           "angularaxis": {
            "gridcolor": "white",
            "linecolor": "white",
            "ticks": ""
           },
           "bgcolor": "#E5ECF6",
           "radialaxis": {
            "gridcolor": "white",
            "linecolor": "white",
            "ticks": ""
           }
          },
          "scene": {
           "xaxis": {
            "backgroundcolor": "#E5ECF6",
            "gridcolor": "white",
            "gridwidth": 2,
            "linecolor": "white",
            "showbackground": true,
            "ticks": "",
            "zerolinecolor": "white"
           },
           "yaxis": {
            "backgroundcolor": "#E5ECF6",
            "gridcolor": "white",
            "gridwidth": 2,
            "linecolor": "white",
            "showbackground": true,
            "ticks": "",
            "zerolinecolor": "white"
           },
           "zaxis": {
            "backgroundcolor": "#E5ECF6",
            "gridcolor": "white",
            "gridwidth": 2,
            "linecolor": "white",
            "showbackground": true,
            "ticks": "",
            "zerolinecolor": "white"
           }
          },
          "shapedefaults": {
           "line": {
            "color": "#2a3f5f"
           }
          },
          "ternary": {
           "aaxis": {
            "gridcolor": "white",
            "linecolor": "white",
            "ticks": ""
           },
           "baxis": {
            "gridcolor": "white",
            "linecolor": "white",
            "ticks": ""
           },
           "bgcolor": "#E5ECF6",
           "caxis": {
            "gridcolor": "white",
            "linecolor": "white",
            "ticks": ""
           }
          },
          "title": {
           "x": 0.05
          },
          "xaxis": {
           "automargin": true,
           "gridcolor": "white",
           "linecolor": "white",
           "ticks": "",
           "title": {
            "standoff": 15
           },
           "zerolinecolor": "white",
           "zerolinewidth": 2
          },
          "yaxis": {
           "automargin": true,
           "gridcolor": "white",
           "linecolor": "white",
           "ticks": "",
           "title": {
            "standoff": 15
           },
           "zerolinecolor": "white",
           "zerolinewidth": 2
          }
         }
        },
        "title": {
         "font": {
          "color": "rgb(107, 107, 107)",
          "size": 20
         },
         "text": "Geographical Distribution",
         "x": 0.5,
         "xanchor": "center",
         "y": 0.95,
         "yanchor": "top"
        },
        "width": 1100
       }
      }
     },
     "metadata": {},
     "output_type": "display_data"
    }
   ],
   "source": [
    "# Create Sunburst Chart\n",
    "def filter_docs(df, filter_column, filter_value):\n",
    "    filter_mask = df[filter_column] == filter_value\n",
    "    return df[filter_mask], filter_mask\n",
    "\n",
    "def compute_labels_and_parents(data_df, levels):\n",
    "    grouped = data_df.groupby(levels).size()\n",
    "\n",
    "    # Initialize lists\n",
    "    labels = []\n",
    "    parents = []\n",
    "\n",
    "    # Compute labels and parents lists\n",
    "    for i in range(len(levels)):\n",
    "        for label, value in grouped.items(): # loop over the rows\n",
    "            if label[i] not in labels:\n",
    "                labels.append(label[i]) \n",
    "                parents.append(\"\") if label[i] in data_df[levels[0]].values else parents.append(label[i-1])\n",
    "    \n",
    "    return labels, parents\n",
    "\n",
    "def prepare_dataframe(data_df, levels):\n",
    "    df_tmp=data_df.copy()\n",
    "    frequency_col_name = \"Count\"\n",
    "    df_tmp[frequency_col_name] = df_tmp.groupby(levels[-1])[levels[-1]].transform('count')\n",
    "    sunburst_df = df_tmp[levels + [frequency_col_name]].drop_duplicates()\n",
    "    sunburst_df[frequency_col_name] = sunburst_df[frequency_col_name].fillna(0)\n",
    "    \n",
    "    return sunburst_df\n",
    "\n",
    "def compute_values(sunburst_df, labels, levels):\n",
    "    values = []\n",
    "    processed_labels = set()  # This set will store the labels that have been processed\n",
    "    for label in labels:\n",
    "        if label not in processed_labels:  # Only process the label if it has not been processed before\n",
    "            for level in levels:\n",
    "                if label in sunburst_df[level].values:\n",
    "                    value = sunburst_df.loc[sunburst_df[level] == label, 'Count'].sum()\n",
    "                    values.append(value)\n",
    "                    processed_labels.add(label)  # Add the label to the set of processed labels\n",
    "                    break  # No need to check other levels for this label\n",
    "                    \n",
    "    return values\n",
    "\n",
    "def get_level(label, data_df, levels, return_highest_level=True): \n",
    "    # Find the levels that the label appears in\n",
    "    found_levels = [level for level in levels if label in data_df[level].values]\n",
    "    if not found_levels:\n",
    "        # raise ValueError(f\"Label {label} not found\")\n",
    "        return \"Unknown\"\n",
    "    # If return_highest is True, return the first level found (highest), else return the last level found (lowest)\n",
    "    if return_highest_level:\n",
    "        return found_levels[0]\n",
    "    else:\n",
    "        return found_levels[-1]\n",
    "\n",
    "def compute_percentages(sunburst_df, data_df, labels, parents, values, levels):\n",
    "    percentages = []\n",
    "    percentages_class = []\n",
    "    processed_labels = set()  # This set will store the labels that have been processed\n",
    "    \n",
    "    for level in levels:\n",
    "        # Compute total count for each label in current level\n",
    "        level_counts = sunburst_df.groupby(level)['Count'].sum()\n",
    "\n",
    "        for i, label in enumerate(labels):\n",
    "            if label not in processed_labels and label in sunburst_df[level].values:\n",
    "                label_count = sunburst_df.loc[sunburst_df[level] == label, 'Count'].sum() \n",
    "\n",
    "                # Compute total count for the parent of current label with a condition if the label has a parent or not. \n",
    "                # Without parent, the total count is the count for all labels at this highest level\n",
    "                total_count = values[labels.index(parents[i])] if parents[i]!='' else level_counts.sum()\n",
    "                # Compute total count from original dataframe \n",
    "                total_count_class = data_df[get_level(label, data_df, levels)].value_counts().get(label)                \n",
    "\n",
    "                # Compute percentage for current label\n",
    "                percentage = (label_count / total_count) * 100\n",
    "                percentages.append(percentage)\n",
    "                percentage_class = (label_count / total_count_class) * 100\n",
    "                percentages_class.append(percentage_class)\n",
    "                processed_labels.add(label)  # Add the label to the set of processed labels\n",
    "\n",
    "    return percentages, percentages_class\n",
    "\n",
    "def transform_scale_list(lst,exponent=2, desire_sum=100):\n",
    "    # Apply power transformation\n",
    "    transformed_lst = [i**exponent for i in lst]\n",
    "\n",
    "    # Scale the transformed data so that the total sum remains 100\n",
    "    total = sum(transformed_lst)\n",
    "    scaled_lst = [(i/total)*desire_sum for i in transformed_lst]\n",
    "    return scaled_lst\n",
    "\n",
    "def normalize_percentage_class(data_df, levels, labels, parents, percentages_class, scale_exponent=2):\n",
    "    # Init\n",
    "    normalized_percentages_class = [0]*len(percentages_class)\n",
    "    normalized_percentages_class_transform = [0]*len(percentages_class)\n",
    "\n",
    "    ##### Highest level\n",
    "\n",
    "    # Compute normalized_percentage_class for labels at the highest level (without parent)\n",
    "    highest_level_labels = [label for label in labels if get_level(label, data_df, levels) == levels[0]]\n",
    "    highest_level_indices = [labels.index(label) for label in highest_level_labels]\n",
    "    total_highest_level_percentage = sum(percentages_class[i] for i in highest_level_indices)\n",
    "    for i in highest_level_indices:\n",
    "        normalized_percentages_class[i] = percentages_class[i] / total_highest_level_percentage * 100\n",
    "\n",
    "    # scale the values for the highest level\n",
    "    normalized_percentages_class_transform = transform_scale_list(normalized_percentages_class,scale_exponent)\n",
    "\n",
    "    ##### Other levels\n",
    "\n",
    "    # Normalize percentages_class based on its parent\n",
    "    for level in levels[1:]: #loop on the levels except the highest one\n",
    "        level_labels = [label for label in labels if get_level(label, data_df, levels) == level]\n",
    "        level_indices = [labels.index(label) for label in level_labels]\n",
    "\n",
    "        # Loop to create the normalized_percentages_class list by level\n",
    "        for indice in level_indices:\n",
    "            sibling_indices = [j for j, parent in enumerate(parents) if parent == parents[indice]]\n",
    "            total_sibling_percentage = sum(percentages_class[j] for j in sibling_indices)\n",
    "            normalized_percentage_class = percentages_class[indice] / total_sibling_percentage * normalized_percentages_class[labels.index(parents[indice])]\n",
    "            normalized_percentages_class[indice] = normalized_percentage_class\n",
    "\n",
    "        # Loop to transform the normalized_percentages_class list by level : list normalized_percentages_class_transform\n",
    "        indices_updated = [] # list to avoid several treatments on each label\n",
    "        for indice in level_indices:\n",
    "            if indice not in indices_updated:\n",
    "                sibling_indices = [j for j, parent in enumerate(parents) if parent == parents[indice]]\n",
    "                # Get & Transform norm_pct_class by family (brothers with the same parent)\n",
    "                norm_pct_class_sibling = [normalized_percentages_class[i] for i in sibling_indices]\n",
    "                norm_pct_class_sibling_transform = transform_scale_list(norm_pct_class_sibling, scale_exponent, desire_sum=normalized_percentages_class_transform[labels.index(parents[indice])])\n",
    "                # Store the transform norm_pct_class in the normalized_percentages_class_transform list\n",
    "                for i, sibling_ind in enumerate(sibling_indices):\n",
    "                    normalized_percentages_class_transform[sibling_ind] = norm_pct_class_sibling_transform[i]\n",
    "                    indices_updated.append(sibling_ind)\n",
    "\n",
    "    return normalized_percentages_class_transform\n",
    "    \n",
    "def lighten_color(color, factor):\n",
    "    # Check if the input is RGB or hexadecimal\n",
    "    if isinstance(color, tuple):\n",
    "        r, g, b = color\n",
    "    else:\n",
    "        # Remove the '#' from the start of the color code if it exists\n",
    "        if color.startswith('#'):\n",
    "            color = color[1:]\n",
    "        r, g, b = tuple(int(color[i:i+2], 16) for i in (0, 2, 4))\n",
    "\n",
    "    # Convert RGB color to HLS\n",
    "    h, l, s = colorsys.rgb_to_hls(r/255.0, g/255.0, b/255.0)\n",
    "    # Increase the lightness\n",
    "    l = max(min(l + factor, 1.0), 0.0)\n",
    "    # Convert back to RGB\n",
    "    r, g, b = colorsys.hls_to_rgb(h, l, s)\n",
    "    \n",
    "    # Convert back to the original format\n",
    "    if isinstance(color, tuple):\n",
    "        return int(r*255), int(g*255), int(b*255)\n",
    "    else:\n",
    "        return '#%02x%02x%02x' % (int(r*255), int(g*255), int(b*255))\n",
    "    \n",
    "def compute_color_list(data_df, labels, parents, levels, color_sequence):\n",
    "    # Create a dictionary that maps each label to a color\n",
    "    color_dict = {}\n",
    "\n",
    "    # Sort your labels based on their level\n",
    "    labels_sorted = sorted(labels, key=lambda label: get_level(label, data_df, levels), reverse=True)\n",
    "    color_seq = color_sequence.copy()\n",
    "    # Iterate over your reversed sorted labels list\n",
    "    for i, label in enumerate(labels_sorted):\n",
    "        parent = parents[labels.index(label)]  # Get the parent of the current label\n",
    "        level = get_level(label, data_df, levels)  # Use your get_level function here\n",
    "\n",
    "        if level == levels[0]:\n",
    "            # Assign a unique color to each continent\n",
    "            if label not in color_dict:\n",
    "                # color_dict[label] = color_seq.pop(0)\n",
    "                color_dict[label] = color_sequence[i % len(color_sequence)]\n",
    "        else:\n",
    "            # Assign a lighter shade of the parent's color to each country or city\n",
    "            parent_color = color_dict[parent]\n",
    "            color_dict[label] = lighten_color(parent_color, 0.1)\n",
    "    return color_dict \n",
    "\n",
    "def add_unique_parent(labels, parents, values, unique_parent_name):\n",
    "    unique_parent_value = sum(values[i] for i in range(len(parents)) if parents[i] == '')\n",
    "    for i in range(len(labels)):\n",
    "        if parents[i] == '':\n",
    "            parents[i] = unique_parent_name\n",
    "    labels.append(unique_parent_name)\n",
    "    parents.append('')\n",
    "    values.append(unique_parent_value)\n",
    "\n",
    "    return labels, parents, values\n",
    "\n",
    "def compute_lists(data_df, levels, color_sequence, class_column=None, class_value=None, unique_parent=False, unique_parent_name=\"Geo Levels\"):\n",
    "    if class_column and class_value==None:\n",
    "        raise ValueError(\"When class_column is defined, class_value must be defined too and must be a value from the class_column column\")\n",
    "    \n",
    "    work_df = data_df.copy()\n",
    "    if class_column:\n",
    "        work_df = filter_docs(data_df, class_column, class_value)[0]\n",
    "    \n",
    "    labels, parents = compute_labels_and_parents(work_df, levels)\n",
    "    sunburst_df = prepare_dataframe(work_df, levels)\n",
    "    values = compute_values(sunburst_df, labels, levels)\n",
    "    # percentages, percentages_class, normalized_percentages_class = compute_percentages(sunburst_df, data_df, labels, parents, values, levels)\n",
    "    percentages, percentages_class = compute_percentages(sunburst_df, data_df, labels, parents, values, levels)\n",
    "    normalized_percentages_class_transform = normalize_percentage_class(data_df, levels, labels, parents, percentages_class, scale_exponent=1)\n",
    "    color_dict = compute_color_list(data_df, labels, parents, levels, color_sequence)\n",
    "    if unique_parent:\n",
    "        labels, parents, values =  add_unique_parent(labels, parents, values, unique_parent_name=unique_parent_name)\n",
    "        # Compute and add percentages for the unique_parent label\n",
    "        percentages.append(100)\n",
    "        percentages_class.append(len(filter_docs(data_df, class_column, class_value)[0])/len(data_df)*100) if class_column and class_value else percentages_class.append(\"None\")\n",
    "        # normalized_percentages_class.append(100) if class_column and class_value else normalized_percentages_class.append(\"None\")\n",
    "        normalized_percentages_class_transform.append(100) if class_column and class_value else normalized_percentages_class_transform.append(\"None\")\n",
    "        color_dict[unique_parent_name]='#ffffff'\n",
    "    return labels, parents, values, percentages, percentages_class, normalized_percentages_class_transform, color_dict\n",
    "\n",
    "def create_sunburst_fig(labels, parents, values, percentages, percentages_class, normalized_percentages_class_transform, color_dict, class_column=None, class_value=None, **sunburst_kwargs):\n",
    "    # Create a list of hover texts that includes the percentage for each label\n",
    "    hover_text = [f'{label}<br>Number of verbatims: {value}<br>Percentage: {percentage:.2f}%{f\"<br>Percentage of {class_value}: {percentage_class:.2f}%\" if class_column else \"\"}' for label, value, percentage, percentage_class in zip(labels, values, percentages, percentages_class)]\n",
    "\n",
    "    fig = go.Figure(data=go.Sunburst(\n",
    "        labels=labels,\n",
    "        parents=parents,\n",
    "        values=normalized_percentages_class_transform if class_column else values,\n",
    "        branchvalues='total',\n",
    "        hovertext=hover_text,\n",
    "        hovertemplate='%{hovertext}<extra></extra>',  # Only use custom hover text and remove extra info            \n",
    "        marker=dict(colors=[color_dict[label] for label in labels]),  # Set colors based on your mapping\n",
    "        **sunburst_kwargs\n",
    "    ))\n",
    "    \n",
    "    fig.update_layout(\n",
    "        title={'text': f\"Geographical Distribution\",\n",
    "               'y':0.95,'x':0.5,\n",
    "               'xanchor': 'center','yanchor': 'top'},\n",
    "        title_font=dict(size=20,\n",
    "                        color='rgb(107, 107, 107)'),\n",
    "        width=1100,\n",
    "        height=1000\n",
    "    )\n",
    "\n",
    "    return fig\n",
    "\n",
    "def sunburst(data_df, levels, color_sequence, unique_parent=True, class_column=None, class_value=None, **sunburst_kwargs):\n",
    "    labels, parents, values, percentages, percentages_class, normalized_percentages_class_transform, color_dict = compute_lists(data_df, levels, color_sequence, unique_parent=unique_parent, class_column=class_column, class_value=class_value)\n",
    "    fig = create_sunburst_fig(labels, parents, values, percentages, percentages_class, normalized_percentages_class_transform, color_dict, class_column=class_column, class_value=class_value, **sunburst_kwargs)\n",
    "    return fig\n",
    "\n",
    "levels = ['Zone','Clusters','Account Country'] # it has to be from the highest level to the lowest\n",
    "color_sequence = ['#636EFA','#EF553B','#00CC96','#AB63FA','#FFA15A','#19D3F3','#FF6692','#B6E880','#FF97FF','#FECB52','#E763FA','#BA68C8','#FFA000','#F06292','#7986CB','#4DB6AC','#FF8A65','#A1887F','#90A4AE','#E53935','#8E24AA']\n",
    "# labels, parents, values, percentages, percentages_class, normalized_percentages_class_transform, color_dict = compute_lists(df, levels, color_sequence, unique_parent=False, class_column=\"sentiment_label\", class_value=\"positive\")\n",
    "fig = sunburst(df, levels, color_sequence, unique_parent=True)#, class_column=\"single_emotion_label\", class_value=\"disappointment\")\n",
    "fig"
   ]
  },
  {
   "cell_type": "code",
   "execution_count": 7,
   "metadata": {},
   "outputs": [],
   "source": [
    "from matplotlib.colors import LinearSegmentedColormap\n",
    "import matplotlib.colors as mcolors\n",
    "import matplotlib.pyplot as plt\n",
    "\n",
    "# Define the colors\n",
    "colors = [\"#FFFB8D\", \"#F5F05F\", \"#FFC974\", \"#FFA674\", \"#5ECEAF\", \"#8CE4CC\", \"#5DFBEA\"]\n",
    "\n",
    "brand_colors = {\n",
    "    \"violet\": {\n",
    "        \"light\": \"#C8AADE\",\n",
    "        \"normal\": \"#9D6FC0\",\n",
    "        \"dark\": \"#7C46A5\",\n",
    "        \"dark2\": \"#672B95\"\n",
    "    },\n",
    "    \"bleu marine\": {\n",
    "        \"light\": \"#C5DBF5\",\n",
    "        \"normal\": \"#93B8E4\",\n",
    "        \"dark\": \"#6795CD\",\n",
    "        \"dark2\": \"#4174B2\"\n",
    "    },\n",
    "    \"bleu roi\": {\n",
    "        \"light\": \"#9DC1F6\",\n",
    "        \"normal\": \"#5C9EFF\",\n",
    "        \"dark\": \"#3B8AFF\",\n",
    "        \"dark2\": \"#096CFF\"\n",
    "    },\n",
    "    \"cyan\": {\n",
    "        \"light\": \"#C4FEF8\",\n",
    "        \"normal\": \"#8CFCF0\",\n",
    "        \"dark\": \"#5EF8E8\",\n",
    "        \"dark2\": \"#32EFDB\"\n",
    "    },\n",
    "    \"bleu-vert\": {\n",
    "        \"light\": \"#C1F5E7\",\n",
    "        \"normal\": \"#8CE4CC\",\n",
    "        \"dark\": \"#5ECEAF\",\n",
    "        \"dark2\": \"#37B290\"\n",
    "    },\n",
    "    \"vert\": {\n",
    "        \"light\": \"#D7FBC6\",\n",
    "        \"normal\": \"#B4F496\",\n",
    "        \"dark\": \"#96EC6C\",\n",
    "        \"dark2\": \"#78E146\"\n",
    "    },\n",
    "    \"jaune\": {\n",
    "        \"light\": \"#FFFEB2\",\n",
    "        \"normal\": \"#FFFD87\",\n",
    "        \"dark\": \"#FFFC4C\",\n",
    "        \"dark2\": \"#F9F400\"\n",
    "    },\n",
    "    \"orange\": {\n",
    "        \"light\": \"#FFE8BD\",\n",
    "        \"normal\": \"#FFD78E\",\n",
    "        \"dark\": \"#FFC761\",\n",
    "        \"dark2\": \"#FFB836\"\n",
    "    },\n",
    "    \"orange-rouge\": {\n",
    "        \"light\": \"#FFDCC9\",\n",
    "        \"normal\": \"#FFC09D\",\n",
    "        \"dark\": \"#FFA674\",\n",
    "        \"dark2\": \"#FF8E4F\"\n",
    "    },\n",
    "    \"rouge\": {\n",
    "        \"light\": \"#FFD6D6\",\n",
    "        \"normal\": \"#FF8F8F\",\n",
    "        \"dark\": \"#FF6B6B\",\n",
    "        \"dark2\": \"#FF4C4C\"\n",
    "    },\n",
    "}\n",
    "\n",
    "def hex_to_rgb(color):\n",
    "    return mcolors.hex2color(color)\n",
    "\n",
    "def display_palette(palette):\n",
    "    fig, ax = plt.subplots(len(palette), 1, figsize=(2, 12),\n",
    "                           dpi=80, sharex=True, sharey=True)\n",
    "    for i, color in enumerate(palette):\n",
    "        ax[i].imshow([[hex_to_rgb(palette[color][shade]) for shade in palette[color]]])\n",
    "        ax[i].axis('off')\n",
    "    plt.tight_layout()\n",
    "    plt.show()\n",
    "\n",
    "# Create the colormap\n",
    "colormap = LinearSegmentedColormap.from_list(\"my_colormap\", colors, N=12)\n",
    "\n",
    "# Generate a gradient image for demonstration\n",
    "gradient = np.linspace(0, 1, 256)  # Gradient from 0 to 1\n",
    "gradient = np.vstack((gradient, gradient))  # Stack to make a 2D image\n",
    "\n",
    "# plt.imshow(gradient, aspect='auto', cmap=colormap)\n",
    "# plt.show()\n",
    "\n",
    "# Usage\n",
    "# display_palette(brand_colors)"
   ]
  },
  {
   "cell_type": "code",
   "execution_count": null,
   "metadata": {},
   "outputs": [],
   "source": []
  }
 ],
 "metadata": {
  "kernelspec": {
   "display_name": "wassati",
   "language": "python",
   "name": "python3"
  },
  "language_info": {
   "codemirror_mode": {
    "name": "ipython",
    "version": 3
   },
   "file_extension": ".py",
   "mimetype": "text/x-python",
   "name": "python",
   "nbconvert_exporter": "python",
   "pygments_lexer": "ipython3",
   "version": "3.9.17"
  },
  "orig_nbformat": 4
 },
 "nbformat": 4,
 "nbformat_minor": 2
}
