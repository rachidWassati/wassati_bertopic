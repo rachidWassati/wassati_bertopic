{
 "cells": [
  {
   "cell_type": "code",
   "execution_count": 70,
   "metadata": {},
   "outputs": [],
   "source": [
    "import pandas as pd\n",
    "import string, re\n",
    "import matplotlib.pyplot as plt\n",
    "import plotly.graph_objects as go\n",
    "import plotly.subplots as sp\n",
    "import colorsys\n",
    "from itertools import cycle\n"
   ]
  },
  {
   "cell_type": "code",
   "execution_count": 8,
   "metadata": {},
   "outputs": [
    {
     "name": "stderr",
     "output_type": "stream",
     "text": [
      "/tmp/ipykernel_17459/1847981677.py:11: DtypeWarning: Columns (5,6,14,18) have mixed types. Specify dtype option on import or set low_memory=False.\n",
      "  df = pd.read_csv(\"../data/csv_files/schneider.csv\")\n"
     ]
    }
   ],
   "source": [
    "# df = pd.read_excel(\"/media/cattiaux/DATA/Wassati/team_data/schneider/OEM_Verbatims_base.xlsx\", engine='openpyxl')\n",
    "# df2 = pd.read_csv(\"/media/cattiaux/DATA/Wassati/team_data/schneider/OEM_Verbatims_allComment.csv\")\n",
    "# df_labelled = pd.read_csv(\"/media/cattiaux/DATA/Wassati/team_data/schneider/df_all_labelled.csv\", dtype={'year': str})\n",
    "import sys\n",
    "sys.path.append('../')\n",
    "\n",
    "from utils.schneider import countries_to_update, text_data_column, words_to_filter, replacements\n",
    "from preprocessing.dataLoaders.schneider_data_loader import SchneiderDataLoader\n",
    "from preprocessing.preprocessing import Preprocessor\n",
    "\n",
    "df = pd.read_csv(\"../data/csv_files/schneider.csv\")\n",
    "schneiderDataLoader = SchneiderDataLoader(df, countries_to_update)\n",
    "preprocessing = Preprocessor(\n",
    "    schneiderDataLoader, \n",
    "    text_data_column,\n",
    "    words_to_filter,\n",
    "    replacements\n",
    ")\n",
    "\n",
    "df_preprocessed_full = preprocessing.preprocess()\n",
    "# Filter rows based on 'non_empty_rows' column\n",
    "df_preprocessed = df_preprocessed_full[df_preprocessed_full['non_empty_rows']]"
   ]
  },
  {
   "cell_type": "code",
   "execution_count": 7,
   "metadata": {},
   "outputs": [
    {
     "data": {
      "text/plain": [
       "Index(['Account Country', 'Front Office Country', 'Clusters', 'Zone',\n",
       "       'Operation', 'Primary Coverage Model', 'Account owner role',\n",
       "       'Market Segment', 'Leading BU', 'Personas', 'State/Province',\n",
       "       'Account ID Text', 'Classification Level 1 Name',\n",
       "       'Classification Level 2', 'bFO Account ID', 'Job Title', 'Job Role',\n",
       "       'Contact ID', 'bFO Contact ID', 'Survey ID', 'Unique ID',\n",
       "       'Creation Date', 'Local Response Date', 'Response Date',\n",
       "       'Accepted for reporting on date', 'Touchpoint', 'Interaction', 'Brand',\n",
       "       'Survey language', 'Quarantine Rule Exception',\n",
       "       'What is the Customer Feedback?', 'Likelihood to Recommend (SE)',\n",
       "       'Customer_Comments', 'Translation_Customer_Comments',\n",
       "       'Overall_Additional_Comments',\n",
       "       'Translation_Overall_Additional_Comments', 'Overall Satisfaction',\n",
       "       'Reason_for_Score_Comment', 'Translation_Reason_for_Score_Comment',\n",
       "       'Anything_Else_Comment', 'Translation_Anything_Else_Comment', 'year',\n",
       "       'id', 'processed_data', 'non_empty_rows'],\n",
       "      dtype='object')"
      ]
     },
     "execution_count": 7,
     "metadata": {},
     "output_type": "execute_result"
    }
   ],
   "source": [
    "df_preprocessed_full.columns"
   ]
  },
  {
   "cell_type": "code",
   "execution_count": 13,
   "metadata": {},
   "outputs": [
    {
     "data": {
      "text/plain": [
       "34.60742300987798"
      ]
     },
     "execution_count": 13,
     "metadata": {},
     "output_type": "execute_result"
    }
   ],
   "source": [
    "########### Global Info \n",
    "\n",
    "nb_scores = df_preprocessed_full[\"Overall Satisfaction\"].count()\n",
    "nb_recommend_scores = df_preprocessed_full[\"Likelihood to Recommend (SE)\"].count()\n",
    "nb_comments = len(df_preprocessed)\n",
    "pct_comment_by_score = nb_comments/nb_scores*100\n",
    "pct_recommendScore_by_score = nb_recommend_scores/nb_scores*100\n",
    "\n",
    "pct_recommendScore_by_score"
   ]
  },
  {
   "cell_type": "code",
   "execution_count": 15,
   "metadata": {},
   "outputs": [
    {
     "data": {
      "application/vnd.plotly.v1+json": {
       "config": {
        "plotlyServerURL": "https://plot.ly"
       },
       "data": [
        {
         "type": "bar",
         "x": [
          0,
          1,
          2,
          3,
          4,
          5,
          6,
          7,
          8,
          9,
          10
         ],
         "y": [
          85,
          35,
          86,
          122,
          165,
          893,
          724,
          2360,
          6082,
          3415,
          5092
         ]
        }
       ],
       "layout": {
        "template": {
         "data": {
          "bar": [
           {
            "error_x": {
             "color": "#2a3f5f"
            },
            "error_y": {
             "color": "#2a3f5f"
            },
            "marker": {
             "line": {
              "color": "#E5ECF6",
              "width": 0.5
             },
             "pattern": {
              "fillmode": "overlay",
              "size": 10,
              "solidity": 0.2
             }
            },
            "type": "bar"
           }
          ],
          "barpolar": [
           {
            "marker": {
             "line": {
              "color": "#E5ECF6",
              "width": 0.5
             },
             "pattern": {
              "fillmode": "overlay",
              "size": 10,
              "solidity": 0.2
             }
            },
            "type": "barpolar"
           }
          ],
          "carpet": [
           {
            "aaxis": {
             "endlinecolor": "#2a3f5f",
             "gridcolor": "white",
             "linecolor": "white",
             "minorgridcolor": "white",
             "startlinecolor": "#2a3f5f"
            },
            "baxis": {
             "endlinecolor": "#2a3f5f",
             "gridcolor": "white",
             "linecolor": "white",
             "minorgridcolor": "white",
             "startlinecolor": "#2a3f5f"
            },
            "type": "carpet"
           }
          ],
          "choropleth": [
           {
            "colorbar": {
             "outlinewidth": 0,
             "ticks": ""
            },
            "type": "choropleth"
           }
          ],
          "contour": [
           {
            "colorbar": {
             "outlinewidth": 0,
             "ticks": ""
            },
            "colorscale": [
             [
              0,
              "#0d0887"
             ],
             [
              0.1111111111111111,
              "#46039f"
             ],
             [
              0.2222222222222222,
              "#7201a8"
             ],
             [
              0.3333333333333333,
              "#9c179e"
             ],
             [
              0.4444444444444444,
              "#bd3786"
             ],
             [
              0.5555555555555556,
              "#d8576b"
             ],
             [
              0.6666666666666666,
              "#ed7953"
             ],
             [
              0.7777777777777778,
              "#fb9f3a"
             ],
             [
              0.8888888888888888,
              "#fdca26"
             ],
             [
              1,
              "#f0f921"
             ]
            ],
            "type": "contour"
           }
          ],
          "contourcarpet": [
           {
            "colorbar": {
             "outlinewidth": 0,
             "ticks": ""
            },
            "type": "contourcarpet"
           }
          ],
          "heatmap": [
           {
            "colorbar": {
             "outlinewidth": 0,
             "ticks": ""
            },
            "colorscale": [
             [
              0,
              "#0d0887"
             ],
             [
              0.1111111111111111,
              "#46039f"
             ],
             [
              0.2222222222222222,
              "#7201a8"
             ],
             [
              0.3333333333333333,
              "#9c179e"
             ],
             [
              0.4444444444444444,
              "#bd3786"
             ],
             [
              0.5555555555555556,
              "#d8576b"
             ],
             [
              0.6666666666666666,
              "#ed7953"
             ],
             [
              0.7777777777777778,
              "#fb9f3a"
             ],
             [
              0.8888888888888888,
              "#fdca26"
             ],
             [
              1,
              "#f0f921"
             ]
            ],
            "type": "heatmap"
           }
          ],
          "heatmapgl": [
           {
            "colorbar": {
             "outlinewidth": 0,
             "ticks": ""
            },
            "colorscale": [
             [
              0,
              "#0d0887"
             ],
             [
              0.1111111111111111,
              "#46039f"
             ],
             [
              0.2222222222222222,
              "#7201a8"
             ],
             [
              0.3333333333333333,
              "#9c179e"
             ],
             [
              0.4444444444444444,
              "#bd3786"
             ],
             [
              0.5555555555555556,
              "#d8576b"
             ],
             [
              0.6666666666666666,
              "#ed7953"
             ],
             [
              0.7777777777777778,
              "#fb9f3a"
             ],
             [
              0.8888888888888888,
              "#fdca26"
             ],
             [
              1,
              "#f0f921"
             ]
            ],
            "type": "heatmapgl"
           }
          ],
          "histogram": [
           {
            "marker": {
             "pattern": {
              "fillmode": "overlay",
              "size": 10,
              "solidity": 0.2
             }
            },
            "type": "histogram"
           }
          ],
          "histogram2d": [
           {
            "colorbar": {
             "outlinewidth": 0,
             "ticks": ""
            },
            "colorscale": [
             [
              0,
              "#0d0887"
             ],
             [
              0.1111111111111111,
              "#46039f"
             ],
             [
              0.2222222222222222,
              "#7201a8"
             ],
             [
              0.3333333333333333,
              "#9c179e"
             ],
             [
              0.4444444444444444,
              "#bd3786"
             ],
             [
              0.5555555555555556,
              "#d8576b"
             ],
             [
              0.6666666666666666,
              "#ed7953"
             ],
             [
              0.7777777777777778,
              "#fb9f3a"
             ],
             [
              0.8888888888888888,
              "#fdca26"
             ],
             [
              1,
              "#f0f921"
             ]
            ],
            "type": "histogram2d"
           }
          ],
          "histogram2dcontour": [
           {
            "colorbar": {
             "outlinewidth": 0,
             "ticks": ""
            },
            "colorscale": [
             [
              0,
              "#0d0887"
             ],
             [
              0.1111111111111111,
              "#46039f"
             ],
             [
              0.2222222222222222,
              "#7201a8"
             ],
             [
              0.3333333333333333,
              "#9c179e"
             ],
             [
              0.4444444444444444,
              "#bd3786"
             ],
             [
              0.5555555555555556,
              "#d8576b"
             ],
             [
              0.6666666666666666,
              "#ed7953"
             ],
             [
              0.7777777777777778,
              "#fb9f3a"
             ],
             [
              0.8888888888888888,
              "#fdca26"
             ],
             [
              1,
              "#f0f921"
             ]
            ],
            "type": "histogram2dcontour"
           }
          ],
          "mesh3d": [
           {
            "colorbar": {
             "outlinewidth": 0,
             "ticks": ""
            },
            "type": "mesh3d"
           }
          ],
          "parcoords": [
           {
            "line": {
             "colorbar": {
              "outlinewidth": 0,
              "ticks": ""
             }
            },
            "type": "parcoords"
           }
          ],
          "pie": [
           {
            "automargin": true,
            "type": "pie"
           }
          ],
          "scatter": [
           {
            "fillpattern": {
             "fillmode": "overlay",
             "size": 10,
             "solidity": 0.2
            },
            "type": "scatter"
           }
          ],
          "scatter3d": [
           {
            "line": {
             "colorbar": {
              "outlinewidth": 0,
              "ticks": ""
             }
            },
            "marker": {
             "colorbar": {
              "outlinewidth": 0,
              "ticks": ""
             }
            },
            "type": "scatter3d"
           }
          ],
          "scattercarpet": [
           {
            "marker": {
             "colorbar": {
              "outlinewidth": 0,
              "ticks": ""
             }
            },
            "type": "scattercarpet"
           }
          ],
          "scattergeo": [
           {
            "marker": {
             "colorbar": {
              "outlinewidth": 0,
              "ticks": ""
             }
            },
            "type": "scattergeo"
           }
          ],
          "scattergl": [
           {
            "marker": {
             "colorbar": {
              "outlinewidth": 0,
              "ticks": ""
             }
            },
            "type": "scattergl"
           }
          ],
          "scattermapbox": [
           {
            "marker": {
             "colorbar": {
              "outlinewidth": 0,
              "ticks": ""
             }
            },
            "type": "scattermapbox"
           }
          ],
          "scatterpolar": [
           {
            "marker": {
             "colorbar": {
              "outlinewidth": 0,
              "ticks": ""
             }
            },
            "type": "scatterpolar"
           }
          ],
          "scatterpolargl": [
           {
            "marker": {
             "colorbar": {
              "outlinewidth": 0,
              "ticks": ""
             }
            },
            "type": "scatterpolargl"
           }
          ],
          "scatterternary": [
           {
            "marker": {
             "colorbar": {
              "outlinewidth": 0,
              "ticks": ""
             }
            },
            "type": "scatterternary"
           }
          ],
          "surface": [
           {
            "colorbar": {
             "outlinewidth": 0,
             "ticks": ""
            },
            "colorscale": [
             [
              0,
              "#0d0887"
             ],
             [
              0.1111111111111111,
              "#46039f"
             ],
             [
              0.2222222222222222,
              "#7201a8"
             ],
             [
              0.3333333333333333,
              "#9c179e"
             ],
             [
              0.4444444444444444,
              "#bd3786"
             ],
             [
              0.5555555555555556,
              "#d8576b"
             ],
             [
              0.6666666666666666,
              "#ed7953"
             ],
             [
              0.7777777777777778,
              "#fb9f3a"
             ],
             [
              0.8888888888888888,
              "#fdca26"
             ],
             [
              1,
              "#f0f921"
             ]
            ],
            "type": "surface"
           }
          ],
          "table": [
           {
            "cells": {
             "fill": {
              "color": "#EBF0F8"
             },
             "line": {
              "color": "white"
             }
            },
            "header": {
             "fill": {
              "color": "#C8D4E3"
             },
             "line": {
              "color": "white"
             }
            },
            "type": "table"
           }
          ]
         },
         "layout": {
          "annotationdefaults": {
           "arrowcolor": "#2a3f5f",
           "arrowhead": 0,
           "arrowwidth": 1
          },
          "autotypenumbers": "strict",
          "coloraxis": {
           "colorbar": {
            "outlinewidth": 0,
            "ticks": ""
           }
          },
          "colorscale": {
           "diverging": [
            [
             0,
             "#8e0152"
            ],
            [
             0.1,
             "#c51b7d"
            ],
            [
             0.2,
             "#de77ae"
            ],
            [
             0.3,
             "#f1b6da"
            ],
            [
             0.4,
             "#fde0ef"
            ],
            [
             0.5,
             "#f7f7f7"
            ],
            [
             0.6,
             "#e6f5d0"
            ],
            [
             0.7,
             "#b8e186"
            ],
            [
             0.8,
             "#7fbc41"
            ],
            [
             0.9,
             "#4d9221"
            ],
            [
             1,
             "#276419"
            ]
           ],
           "sequential": [
            [
             0,
             "#0d0887"
            ],
            [
             0.1111111111111111,
             "#46039f"
            ],
            [
             0.2222222222222222,
             "#7201a8"
            ],
            [
             0.3333333333333333,
             "#9c179e"
            ],
            [
             0.4444444444444444,
             "#bd3786"
            ],
            [
             0.5555555555555556,
             "#d8576b"
            ],
            [
             0.6666666666666666,
             "#ed7953"
            ],
            [
             0.7777777777777778,
             "#fb9f3a"
            ],
            [
             0.8888888888888888,
             "#fdca26"
            ],
            [
             1,
             "#f0f921"
            ]
           ],
           "sequentialminus": [
            [
             0,
             "#0d0887"
            ],
            [
             0.1111111111111111,
             "#46039f"
            ],
            [
             0.2222222222222222,
             "#7201a8"
            ],
            [
             0.3333333333333333,
             "#9c179e"
            ],
            [
             0.4444444444444444,
             "#bd3786"
            ],
            [
             0.5555555555555556,
             "#d8576b"
            ],
            [
             0.6666666666666666,
             "#ed7953"
            ],
            [
             0.7777777777777778,
             "#fb9f3a"
            ],
            [
             0.8888888888888888,
             "#fdca26"
            ],
            [
             1,
             "#f0f921"
            ]
           ]
          },
          "colorway": [
           "#636efa",
           "#EF553B",
           "#00cc96",
           "#ab63fa",
           "#FFA15A",
           "#19d3f3",
           "#FF6692",
           "#B6E880",
           "#FF97FF",
           "#FECB52"
          ],
          "font": {
           "color": "#2a3f5f"
          },
          "geo": {
           "bgcolor": "white",
           "lakecolor": "white",
           "landcolor": "#E5ECF6",
           "showlakes": true,
           "showland": true,
           "subunitcolor": "white"
          },
          "hoverlabel": {
           "align": "left"
          },
          "hovermode": "closest",
          "mapbox": {
           "style": "light"
          },
          "paper_bgcolor": "white",
          "plot_bgcolor": "#E5ECF6",
          "polar": {
           "angularaxis": {
            "gridcolor": "white",
            "linecolor": "white",
            "ticks": ""
           },
           "bgcolor": "#E5ECF6",
           "radialaxis": {
            "gridcolor": "white",
            "linecolor": "white",
            "ticks": ""
           }
          },
          "scene": {
           "xaxis": {
            "backgroundcolor": "#E5ECF6",
            "gridcolor": "white",
            "gridwidth": 2,
            "linecolor": "white",
            "showbackground": true,
            "ticks": "",
            "zerolinecolor": "white"
           },
           "yaxis": {
            "backgroundcolor": "#E5ECF6",
            "gridcolor": "white",
            "gridwidth": 2,
            "linecolor": "white",
            "showbackground": true,
            "ticks": "",
            "zerolinecolor": "white"
           },
           "zaxis": {
            "backgroundcolor": "#E5ECF6",
            "gridcolor": "white",
            "gridwidth": 2,
            "linecolor": "white",
            "showbackground": true,
            "ticks": "",
            "zerolinecolor": "white"
           }
          },
          "shapedefaults": {
           "line": {
            "color": "#2a3f5f"
           }
          },
          "ternary": {
           "aaxis": {
            "gridcolor": "white",
            "linecolor": "white",
            "ticks": ""
           },
           "baxis": {
            "gridcolor": "white",
            "linecolor": "white",
            "ticks": ""
           },
           "bgcolor": "#E5ECF6",
           "caxis": {
            "gridcolor": "white",
            "linecolor": "white",
            "ticks": ""
           }
          },
          "title": {
           "x": 0.05
          },
          "xaxis": {
           "automargin": true,
           "gridcolor": "white",
           "linecolor": "white",
           "ticks": "",
           "title": {
            "standoff": 15
           },
           "zerolinecolor": "white",
           "zerolinewidth": 2
          },
          "yaxis": {
           "automargin": true,
           "gridcolor": "white",
           "linecolor": "white",
           "ticks": "",
           "title": {
            "standoff": 15
           },
           "zerolinecolor": "white",
           "zerolinewidth": 2
          }
         }
        },
        "title": {
         "text": "Distribution of Scores"
        },
        "xaxis": {
         "title": {
          "text": "Score"
         }
        },
        "yaxis": {
         "title": {
          "text": "Frequency"
         }
        }
       }
      }
     },
     "metadata": {},
     "output_type": "display_data"
    }
   ],
   "source": [
    "# Count the frequency of each score\n",
    "score_counts = df_preprocessed_full['Overall Satisfaction'].value_counts().sort_index()\n",
    "recommend_score_counts = df_preprocessed_full['Likelihood to Recommend (SE)'].value_counts().sort_index()\n",
    "\n",
    "# Create a bar chart\n",
    "fig = go.Figure(data=go.Bar(x=score_counts.index, y=score_counts.values))\n",
    "fig = go.Figure(data=go.Bar(x=recommend_score_counts.index, y=recommend_score_counts.values))\n",
    "fig.update_layout(title='Distribution of Scores', xaxis_title='Score', yaxis_title='Frequency')\n",
    "fig.show()"
   ]
  },
  {
   "cell_type": "code",
   "execution_count": 23,
   "metadata": {},
   "outputs": [
    {
     "data": {
      "application/vnd.plotly.v1+json": {
       "config": {
        "plotlyServerURL": "https://plot.ly"
       },
       "data": [
        {
         "hole": 0.6,
         "hovertemplate": "%{label}: %{value}<extra></extra>",
         "labels": [
          "Italy",
          "DACH",
          "East Asia Japan",
          "China & HK",
          "Iberia",
          "US",
          "South America",
          "France",
          "Nordic & Baltics",
          "CEEI",
          "Middle East and Africa",
          "BeNe",
          "Greater India",
          "Pacific",
          "Canada",
          "UK and Ireland",
          "SE Global",
          "Mexico & Central America"
         ],
         "type": "pie",
         "values": [
          7707,
          6548,
          6152,
          4039,
          3860,
          3622,
          3484,
          3222,
          3075,
          2945,
          2292,
          1915,
          1794,
          1512,
          1192,
          1169,
          740,
          104
         ]
        }
       ],
       "layout": {
        "autosize": false,
        "height": 500,
        "legend": {
         "title": {
          "text": "Zone"
         }
        },
        "template": {
         "data": {
          "bar": [
           {
            "error_x": {
             "color": "#2a3f5f"
            },
            "error_y": {
             "color": "#2a3f5f"
            },
            "marker": {
             "line": {
              "color": "#E5ECF6",
              "width": 0.5
             },
             "pattern": {
              "fillmode": "overlay",
              "size": 10,
              "solidity": 0.2
             }
            },
            "type": "bar"
           }
          ],
          "barpolar": [
           {
            "marker": {
             "line": {
              "color": "#E5ECF6",
              "width": 0.5
             },
             "pattern": {
              "fillmode": "overlay",
              "size": 10,
              "solidity": 0.2
             }
            },
            "type": "barpolar"
           }
          ],
          "carpet": [
           {
            "aaxis": {
             "endlinecolor": "#2a3f5f",
             "gridcolor": "white",
             "linecolor": "white",
             "minorgridcolor": "white",
             "startlinecolor": "#2a3f5f"
            },
            "baxis": {
             "endlinecolor": "#2a3f5f",
             "gridcolor": "white",
             "linecolor": "white",
             "minorgridcolor": "white",
             "startlinecolor": "#2a3f5f"
            },
            "type": "carpet"
           }
          ],
          "choropleth": [
           {
            "colorbar": {
             "outlinewidth": 0,
             "ticks": ""
            },
            "type": "choropleth"
           }
          ],
          "contour": [
           {
            "colorbar": {
             "outlinewidth": 0,
             "ticks": ""
            },
            "colorscale": [
             [
              0,
              "#0d0887"
             ],
             [
              0.1111111111111111,
              "#46039f"
             ],
             [
              0.2222222222222222,
              "#7201a8"
             ],
             [
              0.3333333333333333,
              "#9c179e"
             ],
             [
              0.4444444444444444,
              "#bd3786"
             ],
             [
              0.5555555555555556,
              "#d8576b"
             ],
             [
              0.6666666666666666,
              "#ed7953"
             ],
             [
              0.7777777777777778,
              "#fb9f3a"
             ],
             [
              0.8888888888888888,
              "#fdca26"
             ],
             [
              1,
              "#f0f921"
             ]
            ],
            "type": "contour"
           }
          ],
          "contourcarpet": [
           {
            "colorbar": {
             "outlinewidth": 0,
             "ticks": ""
            },
            "type": "contourcarpet"
           }
          ],
          "heatmap": [
           {
            "colorbar": {
             "outlinewidth": 0,
             "ticks": ""
            },
            "colorscale": [
             [
              0,
              "#0d0887"
             ],
             [
              0.1111111111111111,
              "#46039f"
             ],
             [
              0.2222222222222222,
              "#7201a8"
             ],
             [
              0.3333333333333333,
              "#9c179e"
             ],
             [
              0.4444444444444444,
              "#bd3786"
             ],
             [
              0.5555555555555556,
              "#d8576b"
             ],
             [
              0.6666666666666666,
              "#ed7953"
             ],
             [
              0.7777777777777778,
              "#fb9f3a"
             ],
             [
              0.8888888888888888,
              "#fdca26"
             ],
             [
              1,
              "#f0f921"
             ]
            ],
            "type": "heatmap"
           }
          ],
          "heatmapgl": [
           {
            "colorbar": {
             "outlinewidth": 0,
             "ticks": ""
            },
            "colorscale": [
             [
              0,
              "#0d0887"
             ],
             [
              0.1111111111111111,
              "#46039f"
             ],
             [
              0.2222222222222222,
              "#7201a8"
             ],
             [
              0.3333333333333333,
              "#9c179e"
             ],
             [
              0.4444444444444444,
              "#bd3786"
             ],
             [
              0.5555555555555556,
              "#d8576b"
             ],
             [
              0.6666666666666666,
              "#ed7953"
             ],
             [
              0.7777777777777778,
              "#fb9f3a"
             ],
             [
              0.8888888888888888,
              "#fdca26"
             ],
             [
              1,
              "#f0f921"
             ]
            ],
            "type": "heatmapgl"
           }
          ],
          "histogram": [
           {
            "marker": {
             "pattern": {
              "fillmode": "overlay",
              "size": 10,
              "solidity": 0.2
             }
            },
            "type": "histogram"
           }
          ],
          "histogram2d": [
           {
            "colorbar": {
             "outlinewidth": 0,
             "ticks": ""
            },
            "colorscale": [
             [
              0,
              "#0d0887"
             ],
             [
              0.1111111111111111,
              "#46039f"
             ],
             [
              0.2222222222222222,
              "#7201a8"
             ],
             [
              0.3333333333333333,
              "#9c179e"
             ],
             [
              0.4444444444444444,
              "#bd3786"
             ],
             [
              0.5555555555555556,
              "#d8576b"
             ],
             [
              0.6666666666666666,
              "#ed7953"
             ],
             [
              0.7777777777777778,
              "#fb9f3a"
             ],
             [
              0.8888888888888888,
              "#fdca26"
             ],
             [
              1,
              "#f0f921"
             ]
            ],
            "type": "histogram2d"
           }
          ],
          "histogram2dcontour": [
           {
            "colorbar": {
             "outlinewidth": 0,
             "ticks": ""
            },
            "colorscale": [
             [
              0,
              "#0d0887"
             ],
             [
              0.1111111111111111,
              "#46039f"
             ],
             [
              0.2222222222222222,
              "#7201a8"
             ],
             [
              0.3333333333333333,
              "#9c179e"
             ],
             [
              0.4444444444444444,
              "#bd3786"
             ],
             [
              0.5555555555555556,
              "#d8576b"
             ],
             [
              0.6666666666666666,
              "#ed7953"
             ],
             [
              0.7777777777777778,
              "#fb9f3a"
             ],
             [
              0.8888888888888888,
              "#fdca26"
             ],
             [
              1,
              "#f0f921"
             ]
            ],
            "type": "histogram2dcontour"
           }
          ],
          "mesh3d": [
           {
            "colorbar": {
             "outlinewidth": 0,
             "ticks": ""
            },
            "type": "mesh3d"
           }
          ],
          "parcoords": [
           {
            "line": {
             "colorbar": {
              "outlinewidth": 0,
              "ticks": ""
             }
            },
            "type": "parcoords"
           }
          ],
          "pie": [
           {
            "automargin": true,
            "type": "pie"
           }
          ],
          "scatter": [
           {
            "fillpattern": {
             "fillmode": "overlay",
             "size": 10,
             "solidity": 0.2
            },
            "type": "scatter"
           }
          ],
          "scatter3d": [
           {
            "line": {
             "colorbar": {
              "outlinewidth": 0,
              "ticks": ""
             }
            },
            "marker": {
             "colorbar": {
              "outlinewidth": 0,
              "ticks": ""
             }
            },
            "type": "scatter3d"
           }
          ],
          "scattercarpet": [
           {
            "marker": {
             "colorbar": {
              "outlinewidth": 0,
              "ticks": ""
             }
            },
            "type": "scattercarpet"
           }
          ],
          "scattergeo": [
           {
            "marker": {
             "colorbar": {
              "outlinewidth": 0,
              "ticks": ""
             }
            },
            "type": "scattergeo"
           }
          ],
          "scattergl": [
           {
            "marker": {
             "colorbar": {
              "outlinewidth": 0,
              "ticks": ""
             }
            },
            "type": "scattergl"
           }
          ],
          "scattermapbox": [
           {
            "marker": {
             "colorbar": {
              "outlinewidth": 0,
              "ticks": ""
             }
            },
            "type": "scattermapbox"
           }
          ],
          "scatterpolar": [
           {
            "marker": {
             "colorbar": {
              "outlinewidth": 0,
              "ticks": ""
             }
            },
            "type": "scatterpolar"
           }
          ],
          "scatterpolargl": [
           {
            "marker": {
             "colorbar": {
              "outlinewidth": 0,
              "ticks": ""
             }
            },
            "type": "scatterpolargl"
           }
          ],
          "scatterternary": [
           {
            "marker": {
             "colorbar": {
              "outlinewidth": 0,
              "ticks": ""
             }
            },
            "type": "scatterternary"
           }
          ],
          "surface": [
           {
            "colorbar": {
             "outlinewidth": 0,
             "ticks": ""
            },
            "colorscale": [
             [
              0,
              "#0d0887"
             ],
             [
              0.1111111111111111,
              "#46039f"
             ],
             [
              0.2222222222222222,
              "#7201a8"
             ],
             [
              0.3333333333333333,
              "#9c179e"
             ],
             [
              0.4444444444444444,
              "#bd3786"
             ],
             [
              0.5555555555555556,
              "#d8576b"
             ],
             [
              0.6666666666666666,
              "#ed7953"
             ],
             [
              0.7777777777777778,
              "#fb9f3a"
             ],
             [
              0.8888888888888888,
              "#fdca26"
             ],
             [
              1,
              "#f0f921"
             ]
            ],
            "type": "surface"
           }
          ],
          "table": [
           {
            "cells": {
             "fill": {
              "color": "#EBF0F8"
             },
             "line": {
              "color": "white"
             }
            },
            "header": {
             "fill": {
              "color": "#C8D4E3"
             },
             "line": {
              "color": "white"
             }
            },
            "type": "table"
           }
          ]
         },
         "layout": {
          "annotationdefaults": {
           "arrowcolor": "#2a3f5f",
           "arrowhead": 0,
           "arrowwidth": 1
          },
          "autotypenumbers": "strict",
          "coloraxis": {
           "colorbar": {
            "outlinewidth": 0,
            "ticks": ""
           }
          },
          "colorscale": {
           "diverging": [
            [
             0,
             "#8e0152"
            ],
            [
             0.1,
             "#c51b7d"
            ],
            [
             0.2,
             "#de77ae"
            ],
            [
             0.3,
             "#f1b6da"
            ],
            [
             0.4,
             "#fde0ef"
            ],
            [
             0.5,
             "#f7f7f7"
            ],
            [
             0.6,
             "#e6f5d0"
            ],
            [
             0.7,
             "#b8e186"
            ],
            [
             0.8,
             "#7fbc41"
            ],
            [
             0.9,
             "#4d9221"
            ],
            [
             1,
             "#276419"
            ]
           ],
           "sequential": [
            [
             0,
             "#0d0887"
            ],
            [
             0.1111111111111111,
             "#46039f"
            ],
            [
             0.2222222222222222,
             "#7201a8"
            ],
            [
             0.3333333333333333,
             "#9c179e"
            ],
            [
             0.4444444444444444,
             "#bd3786"
            ],
            [
             0.5555555555555556,
             "#d8576b"
            ],
            [
             0.6666666666666666,
             "#ed7953"
            ],
            [
             0.7777777777777778,
             "#fb9f3a"
            ],
            [
             0.8888888888888888,
             "#fdca26"
            ],
            [
             1,
             "#f0f921"
            ]
           ],
           "sequentialminus": [
            [
             0,
             "#0d0887"
            ],
            [
             0.1111111111111111,
             "#46039f"
            ],
            [
             0.2222222222222222,
             "#7201a8"
            ],
            [
             0.3333333333333333,
             "#9c179e"
            ],
            [
             0.4444444444444444,
             "#bd3786"
            ],
            [
             0.5555555555555556,
             "#d8576b"
            ],
            [
             0.6666666666666666,
             "#ed7953"
            ],
            [
             0.7777777777777778,
             "#fb9f3a"
            ],
            [
             0.8888888888888888,
             "#fdca26"
            ],
            [
             1,
             "#f0f921"
            ]
           ]
          },
          "colorway": [
           "#636efa",
           "#EF553B",
           "#00cc96",
           "#ab63fa",
           "#FFA15A",
           "#19d3f3",
           "#FF6692",
           "#B6E880",
           "#FF97FF",
           "#FECB52"
          ],
          "font": {
           "color": "#2a3f5f"
          },
          "geo": {
           "bgcolor": "white",
           "lakecolor": "white",
           "landcolor": "#E5ECF6",
           "showlakes": true,
           "showland": true,
           "subunitcolor": "white"
          },
          "hoverlabel": {
           "align": "left"
          },
          "hovermode": "closest",
          "mapbox": {
           "style": "light"
          },
          "paper_bgcolor": "white",
          "plot_bgcolor": "#E5ECF6",
          "polar": {
           "angularaxis": {
            "gridcolor": "white",
            "linecolor": "white",
            "ticks": ""
           },
           "bgcolor": "#E5ECF6",
           "radialaxis": {
            "gridcolor": "white",
            "linecolor": "white",
            "ticks": ""
           }
          },
          "scene": {
           "xaxis": {
            "backgroundcolor": "#E5ECF6",
            "gridcolor": "white",
            "gridwidth": 2,
            "linecolor": "white",
            "showbackground": true,
            "ticks": "",
            "zerolinecolor": "white"
           },
           "yaxis": {
            "backgroundcolor": "#E5ECF6",
            "gridcolor": "white",
            "gridwidth": 2,
            "linecolor": "white",
            "showbackground": true,
            "ticks": "",
            "zerolinecolor": "white"
           },
           "zaxis": {
            "backgroundcolor": "#E5ECF6",
            "gridcolor": "white",
            "gridwidth": 2,
            "linecolor": "white",
            "showbackground": true,
            "ticks": "",
            "zerolinecolor": "white"
           }
          },
          "shapedefaults": {
           "line": {
            "color": "#2a3f5f"
           }
          },
          "ternary": {
           "aaxis": {
            "gridcolor": "white",
            "linecolor": "white",
            "ticks": ""
           },
           "baxis": {
            "gridcolor": "white",
            "linecolor": "white",
            "ticks": ""
           },
           "bgcolor": "#E5ECF6",
           "caxis": {
            "gridcolor": "white",
            "linecolor": "white",
            "ticks": ""
           }
          },
          "title": {
           "x": 0.05
          },
          "xaxis": {
           "automargin": true,
           "gridcolor": "white",
           "linecolor": "white",
           "ticks": "",
           "title": {
            "standoff": 15
           },
           "zerolinecolor": "white",
           "zerolinewidth": 2
          },
          "yaxis": {
           "automargin": true,
           "gridcolor": "white",
           "linecolor": "white",
           "ticks": "",
           "title": {
            "standoff": 15
           },
           "zerolinecolor": "white",
           "zerolinewidth": 2
          }
         }
        },
        "title": {
         "font": {
          "color": "rgb(107, 107, 107)",
          "size": 20
         },
         "text": "Score Repartition by Zone",
         "x": 0.5,
         "xanchor": "center",
         "y": 0.9,
         "yanchor": "top"
        },
        "width": 800
       }
      }
     },
     "metadata": {},
     "output_type": "display_data"
    }
   ],
   "source": [
    "########### Descriptive Analysis\n",
    "\n",
    "def create_donut_chart(df, label_column):\n",
    "    # Count the frequency of each label\n",
    "    label_counts = df[label_column].value_counts()\n",
    "\n",
    "    # Create the donut chart\n",
    "    fig = go.Figure(data=[go.Pie(labels=label_counts.index, \n",
    "                                 values=label_counts.values, \n",
    "                                 hole=.6,\n",
    "                                #  marker=dict(colors=palette), \n",
    "                                # default:['#1f77b4',  '#ff7f0e',  '#2ca02c',  '#d62728',  '#9467bd',  '#8c564b',  '#e377c2',  '#7f7f7f',  '#bcbd22',  '#17becf']\n",
    "                                 hovertemplate='%{label}: %{value}<extra></extra>'\n",
    "                                )\n",
    "                    ])\n",
    "    \n",
    "    fig.update_layout(\n",
    "        legend_title_text=f\"{label_column}\",\n",
    "        title={'text': f'Score Repartition by {label_column}',\n",
    "               'y':0.9,'x':0.5,\n",
    "               'xanchor': 'center','yanchor': 'top'},\n",
    "        title_font=dict(size=20,\n",
    "                        color='rgb(107, 107, 107)'),\n",
    "        autosize=False,\n",
    "        width=800,\n",
    "        height=500\n",
    "    )\n",
    "    return fig\n",
    "\n",
    "create_donut_chart(df_preprocessed_full, 'Zone')"
   ]
  },
  {
   "cell_type": "code",
   "execution_count": 24,
   "metadata": {},
   "outputs": [
    {
     "data": {
      "application/vnd.plotly.v1+json": {
       "config": {
        "plotlyServerURL": "https://plot.ly"
       },
       "data": [
        {
         "branchvalues": "total",
         "hovertemplate": "%{hovertext}<extra></extra>",
         "hovertext": [
          "BeNe<br>Number of verbatims: 1915<br>Percentage: 3.04%",
          "CEEI<br>Number of verbatims: 2945<br>Percentage: 4.67%",
          "Canada<br>Number of verbatims: 1192<br>Percentage: 1.89%",
          "China & HK<br>Number of verbatims: 4039<br>Percentage: 6.40%",
          "DACH<br>Number of verbatims: 6548<br>Percentage: 10.38%",
          "East Asia Japan<br>Number of verbatims: 6152<br>Percentage: 9.75%",
          "France<br>Number of verbatims: 3222<br>Percentage: 5.11%",
          "Greater India<br>Number of verbatims: 1794<br>Percentage: 2.84%",
          "Iberia<br>Number of verbatims: 3860<br>Percentage: 6.12%",
          "Italy<br>Number of verbatims: 7708<br>Percentage: 12.22%",
          "Mexico & Central America<br>Number of verbatims: 104<br>Percentage: 0.16%",
          "Middle East and Africa<br>Number of verbatims: 2292<br>Percentage: 3.63%",
          "Nordic & Baltics<br>Number of verbatims: 3075<br>Percentage: 4.87%",
          "Pacific<br>Number of verbatims: 1512<br>Percentage: 2.40%",
          "SE Global<br>Number of verbatims: 740<br>Percentage: 1.17%",
          "South America<br>Number of verbatims: 3484<br>Percentage: 5.52%",
          "UK and Ireland<br>Number of verbatims: 1169<br>Percentage: 1.85%",
          "US<br>Number of verbatims: 11327<br>Percentage: 17.96%",
          "Belgium<br>Number of verbatims: 846<br>Percentage: 44.18%",
          "Netherlands<br>Number of verbatims: 1069<br>Percentage: 55.82%",
          "Israel<br>Number of verbatims: 277<br>Percentage: 9.41%",
          "Middle Eastern Europe<br>Number of verbatims: 2061<br>Percentage: 69.98%",
          "Southeast Europe<br>Number of verbatims: 607<br>Percentage: 20.61%",
          "China<br>Number of verbatims: 3998<br>Percentage: 98.98%",
          "Hong Kong & Macao<br>Number of verbatims: 41<br>Percentage: 1.02%",
          "Austria<br>Number of verbatims: 631<br>Percentage: 9.64%",
          "Germany<br>Number of verbatims: 4319<br>Percentage: 65.96%",
          "Liechtenstein<br>Number of verbatims: 3<br>Percentage: 0.05%",
          "Switzerland<br>Number of verbatims: 1595<br>Percentage: 24.36%",
          "North East Asia<br>Number of verbatims: 4768<br>Percentage: 77.50%",
          "South East Asia<br>Number of verbatims: 1384<br>Percentage: 22.50%",
          "India<br>Number of verbatims: 1794<br>Percentage: 100.00%",
          "Portugal<br>Number of verbatims: 623<br>Percentage: 16.14%",
          "Spain<br>Number of verbatims: 3237<br>Percentage: 83.86%",
          "Central America<br>Number of verbatims: 3<br>Percentage: 2.88%",
          "Mexico<br>Number of verbatims: 101<br>Percentage: 97.12%",
          "Anglophone Africa<br>Number of verbatims: 345<br>Percentage: 15.05%",
          "Francophone Africa<br>Number of verbatims: 48<br>Percentage: 2.09%",
          "Gulf<br>Number of verbatims: 45<br>Percentage: 1.96%",
          "North East Africa and Levant<br>Number of verbatims: 126<br>Percentage: 5.50%",
          "Saudi Arabia & Yemen<br>Number of verbatims: 133<br>Percentage: 5.80%",
          "Turkey Central Asia and Pakistan<br>Number of verbatims: 1595<br>Percentage: 69.59%",
          "Denmark<br>Number of verbatims: 885<br>Percentage: 28.78%",
          "Finland & Baltics<br>Number of verbatims: 793<br>Percentage: 25.79%",
          "Norway<br>Number of verbatims: 517<br>Percentage: 16.81%",
          "Sweden<br>Number of verbatims: 880<br>Percentage: 28.62%",
          "Australia<br>Number of verbatims: 1120<br>Percentage: 74.07%",
          "New Zealand<br>Number of verbatims: 392<br>Percentage: 25.93%",
          "Andean Cluster<br>Number of verbatims: 168<br>Percentage: 4.82%",
          "Argentina, Uruguay and Paraguay<br>Number of verbatims: 549<br>Percentage: 15.76%",
          "Brazil<br>Number of verbatims: 2655<br>Percentage: 76.21%",
          "Chile<br>Number of verbatims: 112<br>Percentage: 3.21%",
          "Ireland<br>Number of verbatims: 28<br>Percentage: 2.40%",
          "United Kingdom<br>Number of verbatims: 1141<br>Percentage: 97.60%",
          "USA<br>Number of verbatims: 11327<br>Percentage: 100.00%",
          "Czech Republic<br>Number of verbatims: 886<br>Percentage: 42.99%",
          "Poland<br>Number of verbatims: 861<br>Percentage: 41.78%",
          "Slovakia<br>Number of verbatims: 314<br>Percentage: 15.24%",
          "Albania<br>Number of verbatims: 1<br>Percentage: 0.16%",
          "Bulgaria<br>Number of verbatims: 130<br>Percentage: 21.42%",
          "Croatia<br>Number of verbatims: 60<br>Percentage: 9.88%",
          "Cyprus<br>Number of verbatims: 1<br>Percentage: 0.16%",
          "Greece<br>Number of verbatims: 35<br>Percentage: 5.77%",
          "Hungary<br>Number of verbatims: 81<br>Percentage: 13.34%",
          "Moldova<br>Number of verbatims: 5<br>Percentage: 0.82%",
          "Romania<br>Number of verbatims: 268<br>Percentage: 44.15%",
          "Serbia<br>Number of verbatims: 23<br>Percentage: 3.79%",
          "Slovenia<br>Number of verbatims: 3<br>Percentage: 0.49%",
          "Hong Kong<br>Number of verbatims: 41<br>Percentage: 100.00%",
          "Japan<br>Number of verbatims: 3277<br>Percentage: 68.73%",
          "Korea, Republic of<br>Number of verbatims: 979<br>Percentage: 20.53%",
          "Taiwan<br>Number of verbatims: 512<br>Percentage: 10.74%",
          "Indonesia<br>Number of verbatims: 381<br>Percentage: 27.53%",
          "Malaysia<br>Number of verbatims: 63<br>Percentage: 4.55%",
          "Philippines<br>Number of verbatims: 12<br>Percentage: 0.87%",
          "Singapore<br>Number of verbatims: 336<br>Percentage: 24.28%",
          "Thailand<br>Number of verbatims: 447<br>Percentage: 32.30%",
          "Vietnam<br>Number of verbatims: 145<br>Percentage: 10.48%",
          "Monaco<br>Number of verbatims: 1<br>Percentage: 0.03%",
          "San Marino<br>Number of verbatims: 2<br>Percentage: 0.03%",
          "Costa Rica<br>Number of verbatims: 3<br>Percentage: 100.00%",
          "Kenya<br>Number of verbatims: 2<br>Percentage: 0.58%",
          "Nigeria<br>Number of verbatims: 8<br>Percentage: 2.32%",
          "South Africa<br>Number of verbatims: 335<br>Percentage: 97.10%",
          "Algeria<br>Number of verbatims: 14<br>Percentage: 29.17%",
          "Bermuda<br>Number of verbatims: 2<br>Percentage: 4.17%",
          "Dominican Republic<br>Number of verbatims: 4<br>Percentage: 8.33%",
          "Jamaica<br>Number of verbatims: 1<br>Percentage: 2.08%",
          "Morocco<br>Number of verbatims: 27<br>Percentage: 56.25%",
          "Kuwait<br>Number of verbatims: 15<br>Percentage: 33.33%",
          "Oman<br>Number of verbatims: 1<br>Percentage: 2.22%",
          "Qatar<br>Number of verbatims: 2<br>Percentage: 4.44%",
          "United Arab Emirates<br>Number of verbatims: 27<br>Percentage: 60.00%",
          "Egypt<br>Number of verbatims: 113<br>Percentage: 89.68%",
          "Jordan<br>Number of verbatims: 5<br>Percentage: 3.97%",
          "Lebanon<br>Number of verbatims: 8<br>Percentage: 6.35%",
          "Saudi Arabia<br>Number of verbatims: 133<br>Percentage: 100.00%",
          "Kazakhstan<br>Number of verbatims: 166<br>Percentage: 10.41%",
          "Pakistan<br>Number of verbatims: 11<br>Percentage: 0.69%",
          "Turkey<br>Number of verbatims: 1417<br>Percentage: 88.84%",
          "Uzbekistan<br>Number of verbatims: 1<br>Percentage: 0.06%",
          "Estonia<br>Number of verbatims: 24<br>Percentage: 3.03%",
          "Finland<br>Number of verbatims: 723<br>Percentage: 91.17%",
          "Latvia<br>Number of verbatims: 23<br>Percentage: 2.90%",
          "Lithuania<br>Number of verbatims: 23<br>Percentage: 2.90%",
          "SE.COM<br>Number of verbatims: 740<br>Percentage: 100.00%",
          "Colombia<br>Number of verbatims: 118<br>Percentage: 70.24%",
          "Peru<br>Number of verbatims: 50<br>Percentage: 29.76%",
          "Argentina<br>Number of verbatims: 546<br>Percentage: 99.45%",
          "Paraguay<br>Number of verbatims: 3<br>Percentage: 0.55%"
         ],
         "labels": [
          "BeNe",
          "CEEI",
          "Canada",
          "China & HK",
          "DACH",
          "East Asia Japan",
          "France",
          "Greater India",
          "Iberia",
          "Italy",
          "Mexico & Central America",
          "Middle East and Africa",
          "Nordic & Baltics",
          "Pacific",
          "SE Global",
          "South America",
          "UK and Ireland",
          "US",
          "Belgium",
          "Netherlands",
          "Israel",
          "Middle Eastern Europe",
          "Southeast Europe",
          "China",
          "Hong Kong & Macao",
          "Austria",
          "Germany",
          "Liechtenstein",
          "Switzerland",
          "North East Asia",
          "South East Asia",
          "India",
          "Portugal",
          "Spain",
          "Central America",
          "Mexico",
          "Anglophone Africa",
          "Francophone Africa",
          "Gulf",
          "North East Africa and Levant",
          "Saudi Arabia & Yemen",
          "Turkey Central Asia and Pakistan",
          "Denmark",
          "Finland & Baltics",
          "Norway",
          "Sweden",
          "Australia",
          "New Zealand",
          "Andean Cluster",
          "Argentina, Uruguay and Paraguay",
          "Brazil",
          "Chile",
          "Ireland",
          "United Kingdom",
          "USA",
          "Czech Republic",
          "Poland",
          "Slovakia",
          "Albania",
          "Bulgaria",
          "Croatia",
          "Cyprus",
          "Greece",
          "Hungary",
          "Moldova",
          "Romania",
          "Serbia",
          "Slovenia",
          "Hong Kong",
          "Japan",
          "Korea, Republic of",
          "Taiwan",
          "Indonesia",
          "Malaysia",
          "Philippines",
          "Singapore",
          "Thailand",
          "Vietnam",
          "Monaco",
          "San Marino",
          "Costa Rica",
          "Kenya",
          "Nigeria",
          "South Africa",
          "Algeria",
          "Bermuda",
          "Dominican Republic",
          "Jamaica",
          "Morocco",
          "Kuwait",
          "Oman",
          "Qatar",
          "United Arab Emirates",
          "Egypt",
          "Jordan",
          "Lebanon",
          "Saudi Arabia",
          "Kazakhstan",
          "Pakistan",
          "Turkey",
          "Uzbekistan",
          "Estonia",
          "Finland",
          "Latvia",
          "Lithuania",
          "SE.COM",
          "Colombia",
          "Peru",
          "Argentina",
          "Paraguay"
         ],
         "marker": {
          "colors": [
           "#636EFA",
           "#EF553B",
           "#00CC96",
           "#AB63FA",
           "#FFA15A",
           "#19D3F3",
           "#FF6692",
           "#B6E880",
           "#FF97FF",
           "#FECB52",
           "#E763FA",
           "#BA68C8",
           "#FFA000",
           "#F06292",
           "#7986CB",
           "#4DB6AC",
           "#FF8A65",
           "#A1887F",
           "#949bfb",
           "#949bfb",
           "#f27d6a",
           "#f27d6a",
           "#f27d6a",
           "#c594fb",
           "#c594fb",
           "#febe8d",
           "#febe8d",
           "#febe8d",
           "#febe8d",
           "#49dcf5",
           "#49dcf5",
           "#ceefab",
           "#fecafe",
           "#fecafe",
           "#ee94fb",
           "#ee94fb",
           "#cb8dd5",
           "#cb8dd5",
           "#cb8dd5",
           "#cb8dd5",
           "#cb8dd5",
           "#cb8dd5",
           "#ffb332",
           "#ffb332",
           "#ffb332",
           "#ffb332",
           "#f490b2",
           "#f490b2",
           "#71c4bc",
           "#71c4bc",
           "#71c4bc",
           "#71c4bc",
           "#feb098",
           "#feb098",
           "#b6a39c",
           "#f6a598",
           "#f6a598",
           "#f6a598",
           "#f6a598",
           "#f6a598",
           "#f6a598",
           "#f6a598",
           "#f6a598",
           "#f6a598",
           "#f6a598",
           "#f6a598",
           "#f6a598",
           "#f6a598",
           "#dfc5fc",
           "#79e5f7",
           "#79e5f7",
           "#79e5f7",
           "#79e5f7",
           "#79e5f7",
           "#79e5f7",
           "#79e5f7",
           "#79e5f7",
           "#79e5f7",
           "#fe99b6",
           "#feda84",
           "#f5c5fc",
           "#dbb2e2",
           "#dbb2e2",
           "#dbb2e2",
           "#dbb2e2",
           "#dbb2e2",
           "#dbb2e2",
           "#dbb2e2",
           "#dbb2e2",
           "#dbb2e2",
           "#dbb2e2",
           "#dbb2e2",
           "#dbb2e2",
           "#dbb2e2",
           "#dbb2e2",
           "#dbb2e2",
           "#dbb2e2",
           "#dbb2e2",
           "#dbb2e2",
           "#dbb2e2",
           "#dbb2e2",
           "#ffc564",
           "#ffc564",
           "#ffc564",
           "#ffc564",
           "#9da7d9",
           "#95d2cd",
           "#95d2cd",
           "#95d2cd",
           "#95d2cd"
          ]
         },
         "parents": [
          "",
          "",
          "",
          "",
          "",
          "",
          "",
          "",
          "",
          "",
          "",
          "",
          "",
          "",
          "",
          "",
          "",
          "",
          "BeNe",
          "BeNe",
          "CEEI",
          "CEEI",
          "CEEI",
          "China & HK",
          "China & HK",
          "DACH",
          "DACH",
          "DACH",
          "DACH",
          "East Asia Japan",
          "East Asia Japan",
          "Greater India",
          "Iberia",
          "Iberia",
          "Mexico & Central America",
          "Mexico & Central America",
          "Middle East and Africa",
          "Middle East and Africa",
          "Middle East and Africa",
          "Middle East and Africa",
          "Middle East and Africa",
          "Middle East and Africa",
          "Nordic & Baltics",
          "Nordic & Baltics",
          "Nordic & Baltics",
          "Nordic & Baltics",
          "Pacific",
          "Pacific",
          "South America",
          "South America",
          "South America",
          "South America",
          "UK and Ireland",
          "UK and Ireland",
          "US",
          "Middle Eastern Europe",
          "Middle Eastern Europe",
          "Middle Eastern Europe",
          "Southeast Europe",
          "Southeast Europe",
          "Southeast Europe",
          "Southeast Europe",
          "Southeast Europe",
          "Southeast Europe",
          "Southeast Europe",
          "Southeast Europe",
          "Southeast Europe",
          "Southeast Europe",
          "Hong Kong & Macao",
          "North East Asia",
          "North East Asia",
          "North East Asia",
          "South East Asia",
          "South East Asia",
          "South East Asia",
          "South East Asia",
          "South East Asia",
          "South East Asia",
          "France",
          "Italy",
          "Central America",
          "Anglophone Africa",
          "Anglophone Africa",
          "Anglophone Africa",
          "Francophone Africa",
          "Francophone Africa",
          "Francophone Africa",
          "Francophone Africa",
          "Francophone Africa",
          "Gulf",
          "Gulf",
          "Gulf",
          "Gulf",
          "North East Africa and Levant",
          "North East Africa and Levant",
          "North East Africa and Levant",
          "Saudi Arabia & Yemen",
          "Turkey Central Asia and Pakistan",
          "Turkey Central Asia and Pakistan",
          "Turkey Central Asia and Pakistan",
          "Turkey Central Asia and Pakistan",
          "Finland & Baltics",
          "Finland & Baltics",
          "Finland & Baltics",
          "Finland & Baltics",
          "SE Global",
          "Andean Cluster",
          "Andean Cluster",
          "Argentina, Uruguay and Paraguay",
          "Argentina, Uruguay and Paraguay"
         ],
         "type": "sunburst",
         "values": [
          1915,
          2945,
          1192,
          4039,
          6548,
          6152,
          3222,
          1794,
          3860,
          7708,
          104,
          2292,
          3075,
          1512,
          740,
          3484,
          1169,
          11327,
          846,
          1069,
          277,
          2061,
          607,
          3998,
          41,
          631,
          4319,
          3,
          1595,
          4768,
          1384,
          1794,
          623,
          3237,
          3,
          101,
          345,
          48,
          45,
          126,
          133,
          1595,
          885,
          793,
          517,
          880,
          1120,
          392,
          168,
          549,
          2655,
          112,
          28,
          1141,
          11327,
          886,
          861,
          314,
          1,
          130,
          60,
          1,
          35,
          81,
          5,
          268,
          23,
          3,
          41,
          3277,
          979,
          512,
          381,
          63,
          12,
          336,
          447,
          145,
          1,
          2,
          3,
          2,
          8,
          335,
          14,
          2,
          4,
          1,
          27,
          15,
          1,
          2,
          27,
          113,
          5,
          8,
          133,
          166,
          11,
          1417,
          1,
          24,
          723,
          23,
          23,
          740,
          118,
          50,
          546,
          3
         ]
        }
       ],
       "layout": {
        "height": 1000,
        "template": {
         "data": {
          "bar": [
           {
            "error_x": {
             "color": "#2a3f5f"
            },
            "error_y": {
             "color": "#2a3f5f"
            },
            "marker": {
             "line": {
              "color": "#E5ECF6",
              "width": 0.5
             },
             "pattern": {
              "fillmode": "overlay",
              "size": 10,
              "solidity": 0.2
             }
            },
            "type": "bar"
           }
          ],
          "barpolar": [
           {
            "marker": {
             "line": {
              "color": "#E5ECF6",
              "width": 0.5
             },
             "pattern": {
              "fillmode": "overlay",
              "size": 10,
              "solidity": 0.2
             }
            },
            "type": "barpolar"
           }
          ],
          "carpet": [
           {
            "aaxis": {
             "endlinecolor": "#2a3f5f",
             "gridcolor": "white",
             "linecolor": "white",
             "minorgridcolor": "white",
             "startlinecolor": "#2a3f5f"
            },
            "baxis": {
             "endlinecolor": "#2a3f5f",
             "gridcolor": "white",
             "linecolor": "white",
             "minorgridcolor": "white",
             "startlinecolor": "#2a3f5f"
            },
            "type": "carpet"
           }
          ],
          "choropleth": [
           {
            "colorbar": {
             "outlinewidth": 0,
             "ticks": ""
            },
            "type": "choropleth"
           }
          ],
          "contour": [
           {
            "colorbar": {
             "outlinewidth": 0,
             "ticks": ""
            },
            "colorscale": [
             [
              0,
              "#0d0887"
             ],
             [
              0.1111111111111111,
              "#46039f"
             ],
             [
              0.2222222222222222,
              "#7201a8"
             ],
             [
              0.3333333333333333,
              "#9c179e"
             ],
             [
              0.4444444444444444,
              "#bd3786"
             ],
             [
              0.5555555555555556,
              "#d8576b"
             ],
             [
              0.6666666666666666,
              "#ed7953"
             ],
             [
              0.7777777777777778,
              "#fb9f3a"
             ],
             [
              0.8888888888888888,
              "#fdca26"
             ],
             [
              1,
              "#f0f921"
             ]
            ],
            "type": "contour"
           }
          ],
          "contourcarpet": [
           {
            "colorbar": {
             "outlinewidth": 0,
             "ticks": ""
            },
            "type": "contourcarpet"
           }
          ],
          "heatmap": [
           {
            "colorbar": {
             "outlinewidth": 0,
             "ticks": ""
            },
            "colorscale": [
             [
              0,
              "#0d0887"
             ],
             [
              0.1111111111111111,
              "#46039f"
             ],
             [
              0.2222222222222222,
              "#7201a8"
             ],
             [
              0.3333333333333333,
              "#9c179e"
             ],
             [
              0.4444444444444444,
              "#bd3786"
             ],
             [
              0.5555555555555556,
              "#d8576b"
             ],
             [
              0.6666666666666666,
              "#ed7953"
             ],
             [
              0.7777777777777778,
              "#fb9f3a"
             ],
             [
              0.8888888888888888,
              "#fdca26"
             ],
             [
              1,
              "#f0f921"
             ]
            ],
            "type": "heatmap"
           }
          ],
          "heatmapgl": [
           {
            "colorbar": {
             "outlinewidth": 0,
             "ticks": ""
            },
            "colorscale": [
             [
              0,
              "#0d0887"
             ],
             [
              0.1111111111111111,
              "#46039f"
             ],
             [
              0.2222222222222222,
              "#7201a8"
             ],
             [
              0.3333333333333333,
              "#9c179e"
             ],
             [
              0.4444444444444444,
              "#bd3786"
             ],
             [
              0.5555555555555556,
              "#d8576b"
             ],
             [
              0.6666666666666666,
              "#ed7953"
             ],
             [
              0.7777777777777778,
              "#fb9f3a"
             ],
             [
              0.8888888888888888,
              "#fdca26"
             ],
             [
              1,
              "#f0f921"
             ]
            ],
            "type": "heatmapgl"
           }
          ],
          "histogram": [
           {
            "marker": {
             "pattern": {
              "fillmode": "overlay",
              "size": 10,
              "solidity": 0.2
             }
            },
            "type": "histogram"
           }
          ],
          "histogram2d": [
           {
            "colorbar": {
             "outlinewidth": 0,
             "ticks": ""
            },
            "colorscale": [
             [
              0,
              "#0d0887"
             ],
             [
              0.1111111111111111,
              "#46039f"
             ],
             [
              0.2222222222222222,
              "#7201a8"
             ],
             [
              0.3333333333333333,
              "#9c179e"
             ],
             [
              0.4444444444444444,
              "#bd3786"
             ],
             [
              0.5555555555555556,
              "#d8576b"
             ],
             [
              0.6666666666666666,
              "#ed7953"
             ],
             [
              0.7777777777777778,
              "#fb9f3a"
             ],
             [
              0.8888888888888888,
              "#fdca26"
             ],
             [
              1,
              "#f0f921"
             ]
            ],
            "type": "histogram2d"
           }
          ],
          "histogram2dcontour": [
           {
            "colorbar": {
             "outlinewidth": 0,
             "ticks": ""
            },
            "colorscale": [
             [
              0,
              "#0d0887"
             ],
             [
              0.1111111111111111,
              "#46039f"
             ],
             [
              0.2222222222222222,
              "#7201a8"
             ],
             [
              0.3333333333333333,
              "#9c179e"
             ],
             [
              0.4444444444444444,
              "#bd3786"
             ],
             [
              0.5555555555555556,
              "#d8576b"
             ],
             [
              0.6666666666666666,
              "#ed7953"
             ],
             [
              0.7777777777777778,
              "#fb9f3a"
             ],
             [
              0.8888888888888888,
              "#fdca26"
             ],
             [
              1,
              "#f0f921"
             ]
            ],
            "type": "histogram2dcontour"
           }
          ],
          "mesh3d": [
           {
            "colorbar": {
             "outlinewidth": 0,
             "ticks": ""
            },
            "type": "mesh3d"
           }
          ],
          "parcoords": [
           {
            "line": {
             "colorbar": {
              "outlinewidth": 0,
              "ticks": ""
             }
            },
            "type": "parcoords"
           }
          ],
          "pie": [
           {
            "automargin": true,
            "type": "pie"
           }
          ],
          "scatter": [
           {
            "fillpattern": {
             "fillmode": "overlay",
             "size": 10,
             "solidity": 0.2
            },
            "type": "scatter"
           }
          ],
          "scatter3d": [
           {
            "line": {
             "colorbar": {
              "outlinewidth": 0,
              "ticks": ""
             }
            },
            "marker": {
             "colorbar": {
              "outlinewidth": 0,
              "ticks": ""
             }
            },
            "type": "scatter3d"
           }
          ],
          "scattercarpet": [
           {
            "marker": {
             "colorbar": {
              "outlinewidth": 0,
              "ticks": ""
             }
            },
            "type": "scattercarpet"
           }
          ],
          "scattergeo": [
           {
            "marker": {
             "colorbar": {
              "outlinewidth": 0,
              "ticks": ""
             }
            },
            "type": "scattergeo"
           }
          ],
          "scattergl": [
           {
            "marker": {
             "colorbar": {
              "outlinewidth": 0,
              "ticks": ""
             }
            },
            "type": "scattergl"
           }
          ],
          "scattermapbox": [
           {
            "marker": {
             "colorbar": {
              "outlinewidth": 0,
              "ticks": ""
             }
            },
            "type": "scattermapbox"
           }
          ],
          "scatterpolar": [
           {
            "marker": {
             "colorbar": {
              "outlinewidth": 0,
              "ticks": ""
             }
            },
            "type": "scatterpolar"
           }
          ],
          "scatterpolargl": [
           {
            "marker": {
             "colorbar": {
              "outlinewidth": 0,
              "ticks": ""
             }
            },
            "type": "scatterpolargl"
           }
          ],
          "scatterternary": [
           {
            "marker": {
             "colorbar": {
              "outlinewidth": 0,
              "ticks": ""
             }
            },
            "type": "scatterternary"
           }
          ],
          "surface": [
           {
            "colorbar": {
             "outlinewidth": 0,
             "ticks": ""
            },
            "colorscale": [
             [
              0,
              "#0d0887"
             ],
             [
              0.1111111111111111,
              "#46039f"
             ],
             [
              0.2222222222222222,
              "#7201a8"
             ],
             [
              0.3333333333333333,
              "#9c179e"
             ],
             [
              0.4444444444444444,
              "#bd3786"
             ],
             [
              0.5555555555555556,
              "#d8576b"
             ],
             [
              0.6666666666666666,
              "#ed7953"
             ],
             [
              0.7777777777777778,
              "#fb9f3a"
             ],
             [
              0.8888888888888888,
              "#fdca26"
             ],
             [
              1,
              "#f0f921"
             ]
            ],
            "type": "surface"
           }
          ],
          "table": [
           {
            "cells": {
             "fill": {
              "color": "#EBF0F8"
             },
             "line": {
              "color": "white"
             }
            },
            "header": {
             "fill": {
              "color": "#C8D4E3"
             },
             "line": {
              "color": "white"
             }
            },
            "type": "table"
           }
          ]
         },
         "layout": {
          "annotationdefaults": {
           "arrowcolor": "#2a3f5f",
           "arrowhead": 0,
           "arrowwidth": 1
          },
          "autotypenumbers": "strict",
          "coloraxis": {
           "colorbar": {
            "outlinewidth": 0,
            "ticks": ""
           }
          },
          "colorscale": {
           "diverging": [
            [
             0,
             "#8e0152"
            ],
            [
             0.1,
             "#c51b7d"
            ],
            [
             0.2,
             "#de77ae"
            ],
            [
             0.3,
             "#f1b6da"
            ],
            [
             0.4,
             "#fde0ef"
            ],
            [
             0.5,
             "#f7f7f7"
            ],
            [
             0.6,
             "#e6f5d0"
            ],
            [
             0.7,
             "#b8e186"
            ],
            [
             0.8,
             "#7fbc41"
            ],
            [
             0.9,
             "#4d9221"
            ],
            [
             1,
             "#276419"
            ]
           ],
           "sequential": [
            [
             0,
             "#0d0887"
            ],
            [
             0.1111111111111111,
             "#46039f"
            ],
            [
             0.2222222222222222,
             "#7201a8"
            ],
            [
             0.3333333333333333,
             "#9c179e"
            ],
            [
             0.4444444444444444,
             "#bd3786"
            ],
            [
             0.5555555555555556,
             "#d8576b"
            ],
            [
             0.6666666666666666,
             "#ed7953"
            ],
            [
             0.7777777777777778,
             "#fb9f3a"
            ],
            [
             0.8888888888888888,
             "#fdca26"
            ],
            [
             1,
             "#f0f921"
            ]
           ],
           "sequentialminus": [
            [
             0,
             "#0d0887"
            ],
            [
             0.1111111111111111,
             "#46039f"
            ],
            [
             0.2222222222222222,
             "#7201a8"
            ],
            [
             0.3333333333333333,
             "#9c179e"
            ],
            [
             0.4444444444444444,
             "#bd3786"
            ],
            [
             0.5555555555555556,
             "#d8576b"
            ],
            [
             0.6666666666666666,
             "#ed7953"
            ],
            [
             0.7777777777777778,
             "#fb9f3a"
            ],
            [
             0.8888888888888888,
             "#fdca26"
            ],
            [
             1,
             "#f0f921"
            ]
           ]
          },
          "colorway": [
           "#636efa",
           "#EF553B",
           "#00cc96",
           "#ab63fa",
           "#FFA15A",
           "#19d3f3",
           "#FF6692",
           "#B6E880",
           "#FF97FF",
           "#FECB52"
          ],
          "font": {
           "color": "#2a3f5f"
          },
          "geo": {
           "bgcolor": "white",
           "lakecolor": "white",
           "landcolor": "#E5ECF6",
           "showlakes": true,
           "showland": true,
           "subunitcolor": "white"
          },
          "hoverlabel": {
           "align": "left"
          },
          "hovermode": "closest",
          "mapbox": {
           "style": "light"
          },
          "paper_bgcolor": "white",
          "plot_bgcolor": "#E5ECF6",
          "polar": {
           "angularaxis": {
            "gridcolor": "white",
            "linecolor": "white",
            "ticks": ""
           },
           "bgcolor": "#E5ECF6",
           "radialaxis": {
            "gridcolor": "white",
            "linecolor": "white",
            "ticks": ""
           }
          },
          "scene": {
           "xaxis": {
            "backgroundcolor": "#E5ECF6",
            "gridcolor": "white",
            "gridwidth": 2,
            "linecolor": "white",
            "showbackground": true,
            "ticks": "",
            "zerolinecolor": "white"
           },
           "yaxis": {
            "backgroundcolor": "#E5ECF6",
            "gridcolor": "white",
            "gridwidth": 2,
            "linecolor": "white",
            "showbackground": true,
            "ticks": "",
            "zerolinecolor": "white"
           },
           "zaxis": {
            "backgroundcolor": "#E5ECF6",
            "gridcolor": "white",
            "gridwidth": 2,
            "linecolor": "white",
            "showbackground": true,
            "ticks": "",
            "zerolinecolor": "white"
           }
          },
          "shapedefaults": {
           "line": {
            "color": "#2a3f5f"
           }
          },
          "ternary": {
           "aaxis": {
            "gridcolor": "white",
            "linecolor": "white",
            "ticks": ""
           },
           "baxis": {
            "gridcolor": "white",
            "linecolor": "white",
            "ticks": ""
           },
           "bgcolor": "#E5ECF6",
           "caxis": {
            "gridcolor": "white",
            "linecolor": "white",
            "ticks": ""
           }
          },
          "title": {
           "x": 0.05
          },
          "xaxis": {
           "automargin": true,
           "gridcolor": "white",
           "linecolor": "white",
           "ticks": "",
           "title": {
            "standoff": 15
           },
           "zerolinecolor": "white",
           "zerolinewidth": 2
          },
          "yaxis": {
           "automargin": true,
           "gridcolor": "white",
           "linecolor": "white",
           "ticks": "",
           "title": {
            "standoff": 15
           },
           "zerolinecolor": "white",
           "zerolinewidth": 2
          }
         }
        },
        "title": {
         "font": {
          "color": "rgb(107, 107, 107)",
          "size": 20
         },
         "text": "Geographical Distribution",
         "x": 0.5,
         "xanchor": "center",
         "y": 0.95,
         "yanchor": "top"
        },
        "width": 1100
       }
      }
     },
     "metadata": {},
     "output_type": "display_data"
    }
   ],
   "source": [
    "# Create Sunburst Chart\n",
    "def filter_docs(df, filter_column, filter_value):\n",
    "    filter_mask = df[filter_column] == filter_value\n",
    "    return df[filter_mask], filter_mask\n",
    "\n",
    "def compute_labels_and_parents(data_df, levels):\n",
    "    grouped = data_df.groupby(levels).size()\n",
    "\n",
    "    # Initialize lists\n",
    "    labels = []\n",
    "    parents = []\n",
    "\n",
    "    # Compute labels and parents lists\n",
    "    for i in range(len(levels)):\n",
    "        for label, value in grouped.items(): # loop over the rows\n",
    "            if label[i] not in labels:\n",
    "                labels.append(label[i]) \n",
    "                parents.append(\"\") if label[i] in data_df[levels[0]].values else parents.append(label[i-1])\n",
    "    \n",
    "    return labels, parents\n",
    "\n",
    "def prepare_dataframe(data_df, levels):\n",
    "    df_tmp=data_df.copy()\n",
    "    frequency_col_name = \"Count\"\n",
    "    df_tmp[frequency_col_name] = df_tmp.groupby(levels[-1])[levels[-1]].transform('count')\n",
    "    sunburst_df = df_tmp[levels + [frequency_col_name]].drop_duplicates()\n",
    "    sunburst_df[frequency_col_name] = sunburst_df[frequency_col_name].fillna(0)\n",
    "    \n",
    "    return sunburst_df\n",
    "\n",
    "def compute_values(sunburst_df, labels, levels):\n",
    "    values = []\n",
    "    processed_labels = set()  # This set will store the labels that have been processed\n",
    "    for label in labels:\n",
    "        if label not in processed_labels:  # Only process the label if it has not been processed before\n",
    "            for level in levels:\n",
    "                if label in sunburst_df[level].values:\n",
    "                    value = sunburst_df.loc[sunburst_df[level] == label, 'Count'].sum()\n",
    "                    values.append(value)\n",
    "                    processed_labels.add(label)  # Add the label to the set of processed labels\n",
    "                    break  # No need to check other levels for this label\n",
    "                    \n",
    "    return values\n",
    "\n",
    "def get_level(label, data_df, levels, return_highest_level=True): \n",
    "    # Find the levels that the label appears in\n",
    "    found_levels = [level for level in levels if label in data_df[level].values]\n",
    "    if not found_levels:\n",
    "        # raise ValueError(f\"Label {label} not found\")\n",
    "        return \"Unknown\"\n",
    "    # If return_highest is True, return the first level found (highest), else return the last level found (lowest)\n",
    "    if return_highest_level:\n",
    "        return found_levels[0]\n",
    "    else:\n",
    "        return found_levels[-1]\n",
    "\n",
    "def compute_percentages(sunburst_df, data_df, labels, parents, values, levels):\n",
    "    percentages = []\n",
    "    percentages_class = []\n",
    "    processed_labels = set()  # This set will store the labels that have been processed\n",
    "    \n",
    "    for level in levels:\n",
    "        # Compute total count for each label in current level\n",
    "        level_counts = sunburst_df.groupby(level)['Count'].sum()\n",
    "\n",
    "        for i, label in enumerate(labels):\n",
    "            if label not in processed_labels and label in sunburst_df[level].values:\n",
    "                label_count = sunburst_df.loc[sunburst_df[level] == label, 'Count'].sum() \n",
    "\n",
    "                # Compute total count for the parent of current label with a condition if the label has a parent or not. \n",
    "                # Without parent, the total count is the count for all labels at this highest level\n",
    "                total_count = values[labels.index(parents[i])] if parents[i]!='' else level_counts.sum()\n",
    "                # Compute total count from original dataframe \n",
    "                total_count_class = data_df[get_level(label, data_df, levels)].value_counts().get(label)                \n",
    "\n",
    "                # Compute percentage for current label\n",
    "                percentage = (label_count / total_count) * 100\n",
    "                percentages.append(percentage)\n",
    "                percentage_class = (label_count / total_count_class) * 100\n",
    "                percentages_class.append(percentage_class)\n",
    "                processed_labels.add(label)  # Add the label to the set of processed labels\n",
    "\n",
    "    return percentages, percentages_class\n",
    "\n",
    "def transform_scale_list(lst,exponent=2, desire_sum=100):\n",
    "    # Apply power transformation\n",
    "    transformed_lst = [i**exponent for i in lst]\n",
    "\n",
    "    # Scale the transformed data so that the total sum remains 100\n",
    "    total = sum(transformed_lst)\n",
    "    scaled_lst = [(i/total)*desire_sum for i in transformed_lst]\n",
    "    return scaled_lst\n",
    "\n",
    "def normalize_percentage_class(data_df, levels, labels, parents, percentages_class, scale_exponent=2):\n",
    "    # Init\n",
    "    normalized_percentages_class = [0]*len(percentages_class)\n",
    "    normalized_percentages_class_transform = [0]*len(percentages_class)\n",
    "\n",
    "    ##### Highest level\n",
    "\n",
    "    # Compute normalized_percentage_class for labels at the highest level (without parent)\n",
    "    highest_level_labels = [label for label in labels if get_level(label, data_df, levels) == levels[0]]\n",
    "    highest_level_indices = [labels.index(label) for label in highest_level_labels]\n",
    "    total_highest_level_percentage = sum(percentages_class[i] for i in highest_level_indices)\n",
    "    for i in highest_level_indices:\n",
    "        normalized_percentages_class[i] = percentages_class[i] / total_highest_level_percentage * 100\n",
    "\n",
    "    # scale the values for the highest level\n",
    "    normalized_percentages_class_transform = transform_scale_list(normalized_percentages_class,scale_exponent)\n",
    "\n",
    "    ##### Other levels\n",
    "\n",
    "    # Normalize percentages_class based on its parent\n",
    "    for level in levels[1:]: #loop on the levels except the highest one\n",
    "        level_labels = [label for label in labels if get_level(label, data_df, levels) == level]\n",
    "        level_indices = [labels.index(label) for label in level_labels]\n",
    "\n",
    "        # Loop to create the normalized_percentages_class list by level\n",
    "        for indice in level_indices:\n",
    "            sibling_indices = [j for j, parent in enumerate(parents) if parent == parents[indice]]\n",
    "            total_sibling_percentage = sum(percentages_class[j] for j in sibling_indices)\n",
    "            normalized_percentage_class = percentages_class[indice] / total_sibling_percentage * normalized_percentages_class[labels.index(parents[indice])]\n",
    "            normalized_percentages_class[indice] = normalized_percentage_class\n",
    "\n",
    "        # Loop to transform the normalized_percentages_class list by level : list normalized_percentages_class_transform\n",
    "        indices_updated = [] # list to avoid several treatments on each label\n",
    "        for indice in level_indices:\n",
    "            if indice not in indices_updated:\n",
    "                sibling_indices = [j for j, parent in enumerate(parents) if parent == parents[indice]]\n",
    "                # Get & Transform norm_pct_class by family (brothers with the same parent)\n",
    "                norm_pct_class_sibling = [normalized_percentages_class[i] for i in sibling_indices]\n",
    "                norm_pct_class_sibling_transform = transform_scale_list(norm_pct_class_sibling, scale_exponent, desire_sum=normalized_percentages_class_transform[labels.index(parents[indice])])\n",
    "                # Store the transform norm_pct_class in the normalized_percentages_class_transform list\n",
    "                for i, sibling_ind in enumerate(sibling_indices):\n",
    "                    normalized_percentages_class_transform[sibling_ind] = norm_pct_class_sibling_transform[i]\n",
    "                    indices_updated.append(sibling_ind)\n",
    "\n",
    "    return normalized_percentages_class_transform\n",
    "    \n",
    "def lighten_color(color, factor):\n",
    "    # Check if the input is RGB or hexadecimal\n",
    "    if isinstance(color, tuple):\n",
    "        r, g, b = color\n",
    "    else:\n",
    "        # Remove the '#' from the start of the color code if it exists\n",
    "        if color.startswith('#'):\n",
    "            color = color[1:]\n",
    "        r, g, b = tuple(int(color[i:i+2], 16) for i in (0, 2, 4))\n",
    "\n",
    "    # Convert RGB color to HLS\n",
    "    h, l, s = colorsys.rgb_to_hls(r/255.0, g/255.0, b/255.0)\n",
    "    # Increase the lightness\n",
    "    l = max(min(l + factor, 1.0), 0.0)\n",
    "    # Convert back to RGB\n",
    "    r, g, b = colorsys.hls_to_rgb(h, l, s)\n",
    "    \n",
    "    # Convert back to the original format\n",
    "    if isinstance(color, tuple):\n",
    "        return int(r*255), int(g*255), int(b*255)\n",
    "    else:\n",
    "        return '#%02x%02x%02x' % (int(r*255), int(g*255), int(b*255))\n",
    "    \n",
    "def compute_color_list(data_df, labels, parents, levels, color_sequence):\n",
    "    # Create a dictionary that maps each label to a color\n",
    "    color_dict = {}\n",
    "\n",
    "    # Sort your labels based on their level\n",
    "    labels_sorted = sorted(labels, key=lambda label: get_level(label, data_df, levels), reverse=True)\n",
    "    color_seq = color_sequence.copy()\n",
    "    # Iterate over your reversed sorted labels list\n",
    "    for i, label in enumerate(labels_sorted):\n",
    "        parent = parents[labels.index(label)]  # Get the parent of the current label\n",
    "        level = get_level(label, data_df, levels)  # Use your get_level function here\n",
    "\n",
    "        if level == levels[0]:\n",
    "            # Assign a unique color to each continent\n",
    "            if label not in color_dict:\n",
    "                # color_dict[label] = color_seq.pop(0)\n",
    "                color_dict[label] = color_sequence[i % len(color_sequence)]\n",
    "        else:\n",
    "            # Assign a lighter shade of the parent's color to each country or city\n",
    "            parent_color = color_dict[parent]\n",
    "            color_dict[label] = lighten_color(parent_color, 0.1)\n",
    "    return color_dict \n",
    "\n",
    "def add_unique_parent(labels, parents, values, unique_parent_name):\n",
    "    unique_parent_value = sum(values[i] for i in range(len(parents)) if parents[i] == '')\n",
    "    for i in range(len(labels)):\n",
    "        if parents[i] == '':\n",
    "            parents[i] = unique_parent_name\n",
    "    labels.append(unique_parent_name)\n",
    "    parents.append('')\n",
    "    values.append(unique_parent_value)\n",
    "\n",
    "    return labels, parents, values\n",
    "\n",
    "def compute_lists(data_df, levels, color_sequence, class_column=None, class_value=None, unique_parent=False, unique_parent_name=\"Geo Levels\"):\n",
    "    if class_column and class_value==None:\n",
    "        raise ValueError(\"When class_column is defined, class_value must be defined too and must be a value from the class_column column\")\n",
    "    \n",
    "    work_df = data_df.copy()\n",
    "    if class_column:\n",
    "        work_df = filter_docs(data_df, class_column, class_value)[0]\n",
    "    \n",
    "    labels, parents = compute_labels_and_parents(work_df, levels)\n",
    "    sunburst_df = prepare_dataframe(work_df, levels)\n",
    "    values = compute_values(sunburst_df, labels, levels)\n",
    "    # percentages, percentages_class, normalized_percentages_class = compute_percentages(sunburst_df, data_df, labels, parents, values, levels)\n",
    "    percentages, percentages_class = compute_percentages(sunburst_df, data_df, labels, parents, values, levels)\n",
    "    normalized_percentages_class_transform = normalize_percentage_class(data_df, levels, labels, parents, percentages_class, scale_exponent=1)\n",
    "    color_dict = compute_color_list(data_df, labels, parents, levels, color_sequence)\n",
    "    if unique_parent:\n",
    "        labels, parents, values =  add_unique_parent(labels, parents, values, unique_parent_name=unique_parent_name)\n",
    "        # Compute and add percentages for the unique_parent label\n",
    "        percentages.append(100)\n",
    "        percentages_class.append(len(filter_docs(data_df, class_column, class_value)[0])/len(data_df)*100) if class_column and class_value else percentages_class.append(\"None\")\n",
    "        # normalized_percentages_class.append(100) if class_column and class_value else normalized_percentages_class.append(\"None\")\n",
    "        normalized_percentages_class_transform.append(100) if class_column and class_value else normalized_percentages_class_transform.append(\"None\")\n",
    "        color_dict[unique_parent_name]='#ffffff'\n",
    "    return labels, parents, values, percentages, percentages_class, normalized_percentages_class_transform, color_dict\n",
    "\n",
    "def create_sunburst_fig(labels, parents, values, percentages, percentages_class, normalized_percentages_class_transform, color_dict, class_column=None, class_value=None, **sunburst_kwargs):\n",
    "    # Create a list of hover texts that includes the percentage for each label\n",
    "    hover_text = [f'{label}<br>Number of verbatims: {value}<br>Percentage: {percentage:.2f}%{f\"<br>Percentage of {class_value}: {percentage_class:.2f}%\" if class_column else \"\"}' for label, value, percentage, percentage_class in zip(labels, values, percentages, percentages_class)]\n",
    "\n",
    "    fig = go.Figure(data=go.Sunburst(\n",
    "        labels=labels,\n",
    "        parents=parents,\n",
    "        values=normalized_percentages_class_transform if class_column else values,\n",
    "        branchvalues='total',\n",
    "        hovertext=hover_text,\n",
    "        hovertemplate='%{hovertext}<extra></extra>',  # Only use custom hover text and remove extra info            \n",
    "        marker=dict(colors=[color_dict[label] for label in labels]),  # Set colors based on your mapping\n",
    "        **sunburst_kwargs\n",
    "    ))\n",
    "    \n",
    "    fig.update_layout(\n",
    "        title={'text': f\"Geographical Distribution\",\n",
    "               'y':0.95,'x':0.5,\n",
    "               'xanchor': 'center','yanchor': 'top'},\n",
    "        title_font=dict(size=20,\n",
    "                        color='rgb(107, 107, 107)'),\n",
    "        width=1100,\n",
    "        height=1000\n",
    "    )\n",
    "\n",
    "    return fig\n",
    "\n",
    "def sunburst(data_df, levels, color_sequence, unique_parent=True, class_column=None, class_value=None, **sunburst_kwargs):\n",
    "    labels, parents, values, percentages, percentages_class, normalized_percentages_class_transform, color_dict = compute_lists(data_df, levels, color_sequence, unique_parent=unique_parent, class_column=class_column, class_value=class_value)\n",
    "    fig = create_sunburst_fig(labels, parents, values, percentages, percentages_class, normalized_percentages_class_transform, color_dict, class_column=class_column, class_value=class_value, **sunburst_kwargs)\n",
    "    return fig\n",
    "\n",
    "levels = ['Zone','Clusters','Account Country'] # it has to be from the highest level to the lowest\n",
    "color_sequence = ['#636EFA','#EF553B','#00CC96','#AB63FA','#FFA15A','#19D3F3','#FF6692','#B6E880','#FF97FF','#FECB52','#E763FA','#BA68C8','#FFA000','#F06292','#7986CB','#4DB6AC','#FF8A65','#A1887F','#90A4AE','#E53935','#8E24AA']\n",
    "fig = sunburst(df_preprocessed_full, levels, color_sequence, unique_parent=False)#, class_column=\"single_emotion_label\", class_value=\"disappointment\")\n",
    "fig"
   ]
  },
  {
   "cell_type": "code",
   "execution_count": 115,
   "metadata": {},
   "outputs": [
    {
     "data": {
      "application/vnd.plotly.v1+json": {
       "config": {
        "plotlyServerURL": "https://plot.ly"
       },
       "data": [
        {
         "customdata": [
          1584
         ],
         "hovertemplate": "Zone: %{x}<br>Number of Comments: %{customdata}<extra></extra>",
         "legendgroup": "BeNe",
         "marker": {
          "color": "#636EFA"
         },
         "name": "BeNe",
         "showlegend": true,
         "text": "82.7%",
         "textposition": "auto",
         "type": "bar",
         "x": [
          "BeNe"
         ],
         "y": [
          82.72
         ]
        },
        {
         "customdata": [
          2027
         ],
         "hovertemplate": "Zone: %{x}<br>Number of Comments: %{customdata}<extra></extra>",
         "legendgroup": "CEEI",
         "marker": {
          "color": "#EF553B"
         },
         "name": "CEEI",
         "showlegend": true,
         "text": "68.8%",
         "textposition": "auto",
         "type": "bar",
         "x": [
          "CEEI"
         ],
         "y": [
          68.83
         ]
        },
        {
         "customdata": [
          919
         ],
         "hovertemplate": "Zone: %{x}<br>Number of Comments: %{customdata}<extra></extra>",
         "legendgroup": "Canada",
         "marker": {
          "color": "#00CC96"
         },
         "name": "Canada",
         "showlegend": true,
         "text": "77.1%",
         "textposition": "auto",
         "type": "bar",
         "x": [
          "Canada"
         ],
         "y": [
          77.1
         ]
        },
        {
         "customdata": [
          1878
         ],
         "hovertemplate": "Zone: %{x}<br>Number of Comments: %{customdata}<extra></extra>",
         "legendgroup": "China & HK",
         "marker": {
          "color": "#AB63FA"
         },
         "name": "China & HK",
         "showlegend": true,
         "text": "46.5%",
         "textposition": "auto",
         "type": "bar",
         "x": [
          "China & HK"
         ],
         "y": [
          46.5
         ]
        },
        {
         "customdata": [
          4359
         ],
         "hovertemplate": "Zone: %{x}<br>Number of Comments: %{customdata}<extra></extra>",
         "legendgroup": "DACH",
         "marker": {
          "color": "#FFA15A"
         },
         "name": "DACH",
         "showlegend": true,
         "text": "66.6%",
         "textposition": "auto",
         "type": "bar",
         "x": [
          "DACH"
         ],
         "y": [
          66.57
         ]
        },
        {
         "customdata": [
          4736
         ],
         "hovertemplate": "Zone: %{x}<br>Number of Comments: %{customdata}<extra></extra>",
         "legendgroup": "East Asia Japan",
         "marker": {
          "color": "#19D3F3"
         },
         "name": "East Asia Japan",
         "showlegend": true,
         "text": "77.0%",
         "textposition": "auto",
         "type": "bar",
         "x": [
          "East Asia Japan"
         ],
         "y": [
          76.98
         ]
        },
        {
         "customdata": [
          1914
         ],
         "hovertemplate": "Zone: %{x}<br>Number of Comments: %{customdata}<extra></extra>",
         "legendgroup": "France",
         "marker": {
          "color": "#FF6692"
         },
         "name": "France",
         "showlegend": true,
         "text": "59.4%",
         "textposition": "auto",
         "type": "bar",
         "x": [
          "France"
         ],
         "y": [
          59.4
         ]
        },
        {
         "customdata": [
          1339
         ],
         "hovertemplate": "Zone: %{x}<br>Number of Comments: %{customdata}<extra></extra>",
         "legendgroup": "Greater India",
         "marker": {
          "color": "#B6E880"
         },
         "name": "Greater India",
         "showlegend": true,
         "text": "74.6%",
         "textposition": "auto",
         "type": "bar",
         "x": [
          "Greater India"
         ],
         "y": [
          74.64
         ]
        },
        {
         "customdata": [
          2262
         ],
         "hovertemplate": "Zone: %{x}<br>Number of Comments: %{customdata}<extra></extra>",
         "legendgroup": "Iberia",
         "marker": {
          "color": "#FF97FF"
         },
         "name": "Iberia",
         "showlegend": true,
         "text": "58.6%",
         "textposition": "auto",
         "type": "bar",
         "x": [
          "Iberia"
         ],
         "y": [
          58.6
         ]
        },
        {
         "customdata": [
          4327
         ],
         "hovertemplate": "Zone: %{x}<br>Number of Comments: %{customdata}<extra></extra>",
         "legendgroup": "Italy",
         "marker": {
          "color": "#FECB52"
         },
         "name": "Italy",
         "showlegend": true,
         "text": "56.1%",
         "textposition": "auto",
         "type": "bar",
         "x": [
          "Italy"
         ],
         "y": [
          56.14
         ]
        },
        {
         "customdata": [
          18
         ],
         "hovertemplate": "Zone: %{x}<br>Number of Comments: %{customdata}<extra></extra>",
         "legendgroup": "Mexico & Central America",
         "marker": {
          "color": "#E763FA"
         },
         "name": "Mexico & Central America",
         "showlegend": true,
         "text": "17.3%",
         "textposition": "auto",
         "type": "bar",
         "x": [
          "Mexico & Central America"
         ],
         "y": [
          17.31
         ]
        },
        {
         "customdata": [
          1414
         ],
         "hovertemplate": "Zone: %{x}<br>Number of Comments: %{customdata}<extra></extra>",
         "legendgroup": "Middle East and Africa",
         "marker": {
          "color": "#BA68C8"
         },
         "name": "Middle East and Africa",
         "showlegend": true,
         "text": "61.7%",
         "textposition": "auto",
         "type": "bar",
         "x": [
          "Middle East and Africa"
         ],
         "y": [
          61.69
         ]
        },
        {
         "customdata": [
          2247
         ],
         "hovertemplate": "Zone: %{x}<br>Number of Comments: %{customdata}<extra></extra>",
         "legendgroup": "Nordic & Baltics",
         "marker": {
          "color": "#FFA000"
         },
         "name": "Nordic & Baltics",
         "showlegend": true,
         "text": "73.1%",
         "textposition": "auto",
         "type": "bar",
         "x": [
          "Nordic & Baltics"
         ],
         "y": [
          73.07
         ]
        },
        {
         "customdata": [
          1258
         ],
         "hovertemplate": "Zone: %{x}<br>Number of Comments: %{customdata}<extra></extra>",
         "legendgroup": "Pacific",
         "marker": {
          "color": "#F06292"
         },
         "name": "Pacific",
         "showlegend": true,
         "text": "83.2%",
         "textposition": "auto",
         "type": "bar",
         "x": [
          "Pacific"
         ],
         "y": [
          83.2
         ]
        },
        {
         "customdata": [
          0
         ],
         "hovertemplate": "Zone: %{x}<br>Number of Comments: %{customdata}<extra></extra>",
         "legendgroup": "SE Global",
         "marker": {
          "color": "#7986CB"
         },
         "name": "SE Global",
         "showlegend": true,
         "text": "0.0%",
         "textposition": "auto",
         "type": "bar",
         "x": [
          "SE Global"
         ],
         "y": [
          0
         ]
        },
        {
         "customdata": [
          2242
         ],
         "hovertemplate": "Zone: %{x}<br>Number of Comments: %{customdata}<extra></extra>",
         "legendgroup": "South America",
         "marker": {
          "color": "#4DB6AC"
         },
         "name": "South America",
         "showlegend": true,
         "text": "64.3%",
         "textposition": "auto",
         "type": "bar",
         "x": [
          "South America"
         ],
         "y": [
          64.35
         ]
        },
        {
         "customdata": [
          895
         ],
         "hovertemplate": "Zone: %{x}<br>Number of Comments: %{customdata}<extra></extra>",
         "legendgroup": "UK and Ireland",
         "marker": {
          "color": "#FF8A65"
         },
         "name": "UK and Ireland",
         "showlegend": true,
         "text": "76.6%",
         "textposition": "auto",
         "type": "bar",
         "x": [
          "UK and Ireland"
         ],
         "y": [
          76.56
         ]
        },
        {
         "customdata": [
          2366
         ],
         "hovertemplate": "Zone: %{x}<br>Number of Comments: %{customdata}<extra></extra>",
         "legendgroup": "US",
         "marker": {
          "color": "#A1887F"
         },
         "name": "US",
         "showlegend": true,
         "text": "65.3%",
         "textposition": "auto",
         "type": "bar",
         "x": [
          "US"
         ],
         "y": [
          65.32
         ]
        },
        {
         "customdata": [
          1915
         ],
         "hovertemplate": "Zone: %{x}<br>Total Number of Rows: %{customdata}<extra></extra>",
         "legendgroup": "BeNe",
         "marker": {
          "color": "lightgrey"
         },
         "name": "Without Comments",
         "showlegend": false,
         "type": "bar",
         "x": [
          "BeNe"
         ],
         "y": [
          17.28
         ]
        },
        {
         "customdata": [
          2945
         ],
         "hovertemplate": "Zone: %{x}<br>Total Number of Rows: %{customdata}<extra></extra>",
         "legendgroup": "CEEI",
         "marker": {
          "color": "lightgrey"
         },
         "name": "Without Comments",
         "showlegend": false,
         "type": "bar",
         "x": [
          "CEEI"
         ],
         "y": [
          31.17
         ]
        },
        {
         "customdata": [
          1192
         ],
         "hovertemplate": "Zone: %{x}<br>Total Number of Rows: %{customdata}<extra></extra>",
         "legendgroup": "Canada",
         "marker": {
          "color": "lightgrey"
         },
         "name": "Without Comments",
         "showlegend": false,
         "type": "bar",
         "x": [
          "Canada"
         ],
         "y": [
          22.900000000000006
         ]
        },
        {
         "customdata": [
          4039
         ],
         "hovertemplate": "Zone: %{x}<br>Total Number of Rows: %{customdata}<extra></extra>",
         "legendgroup": "China & HK",
         "marker": {
          "color": "lightgrey"
         },
         "name": "Without Comments",
         "showlegend": false,
         "type": "bar",
         "x": [
          "China & HK"
         ],
         "y": [
          53.5
         ]
        },
        {
         "customdata": [
          6548
         ],
         "hovertemplate": "Zone: %{x}<br>Total Number of Rows: %{customdata}<extra></extra>",
         "legendgroup": "DACH",
         "marker": {
          "color": "lightgrey"
         },
         "name": "Without Comments",
         "showlegend": false,
         "type": "bar",
         "x": [
          "DACH"
         ],
         "y": [
          33.43000000000001
         ]
        },
        {
         "customdata": [
          6152
         ],
         "hovertemplate": "Zone: %{x}<br>Total Number of Rows: %{customdata}<extra></extra>",
         "legendgroup": "East Asia Japan",
         "marker": {
          "color": "lightgrey"
         },
         "name": "Without Comments",
         "showlegend": false,
         "type": "bar",
         "x": [
          "East Asia Japan"
         ],
         "y": [
          23.019999999999996
         ]
        },
        {
         "customdata": [
          3222
         ],
         "hovertemplate": "Zone: %{x}<br>Total Number of Rows: %{customdata}<extra></extra>",
         "legendgroup": "France",
         "marker": {
          "color": "lightgrey"
         },
         "name": "Without Comments",
         "showlegend": false,
         "type": "bar",
         "x": [
          "France"
         ],
         "y": [
          40.6
         ]
        },
        {
         "customdata": [
          1794
         ],
         "hovertemplate": "Zone: %{x}<br>Total Number of Rows: %{customdata}<extra></extra>",
         "legendgroup": "Greater India",
         "marker": {
          "color": "lightgrey"
         },
         "name": "Without Comments",
         "showlegend": false,
         "type": "bar",
         "x": [
          "Greater India"
         ],
         "y": [
          25.36
         ]
        },
        {
         "customdata": [
          3860
         ],
         "hovertemplate": "Zone: %{x}<br>Total Number of Rows: %{customdata}<extra></extra>",
         "legendgroup": "Iberia",
         "marker": {
          "color": "lightgrey"
         },
         "name": "Without Comments",
         "showlegend": false,
         "type": "bar",
         "x": [
          "Iberia"
         ],
         "y": [
          41.4
         ]
        },
        {
         "customdata": [
          7707
         ],
         "hovertemplate": "Zone: %{x}<br>Total Number of Rows: %{customdata}<extra></extra>",
         "legendgroup": "Italy",
         "marker": {
          "color": "lightgrey"
         },
         "name": "Without Comments",
         "showlegend": false,
         "type": "bar",
         "x": [
          "Italy"
         ],
         "y": [
          43.86
         ]
        },
        {
         "customdata": [
          104
         ],
         "hovertemplate": "Zone: %{x}<br>Total Number of Rows: %{customdata}<extra></extra>",
         "legendgroup": "Mexico & Central America",
         "marker": {
          "color": "lightgrey"
         },
         "name": "Without Comments",
         "showlegend": false,
         "type": "bar",
         "x": [
          "Mexico & Central America"
         ],
         "y": [
          82.69
         ]
        },
        {
         "customdata": [
          2292
         ],
         "hovertemplate": "Zone: %{x}<br>Total Number of Rows: %{customdata}<extra></extra>",
         "legendgroup": "Middle East and Africa",
         "marker": {
          "color": "lightgrey"
         },
         "name": "Without Comments",
         "showlegend": false,
         "type": "bar",
         "x": [
          "Middle East and Africa"
         ],
         "y": [
          38.31
         ]
        },
        {
         "customdata": [
          3075
         ],
         "hovertemplate": "Zone: %{x}<br>Total Number of Rows: %{customdata}<extra></extra>",
         "legendgroup": "Nordic & Baltics",
         "marker": {
          "color": "lightgrey"
         },
         "name": "Without Comments",
         "showlegend": false,
         "type": "bar",
         "x": [
          "Nordic & Baltics"
         ],
         "y": [
          26.930000000000007
         ]
        },
        {
         "customdata": [
          1512
         ],
         "hovertemplate": "Zone: %{x}<br>Total Number of Rows: %{customdata}<extra></extra>",
         "legendgroup": "Pacific",
         "marker": {
          "color": "lightgrey"
         },
         "name": "Without Comments",
         "showlegend": false,
         "type": "bar",
         "x": [
          "Pacific"
         ],
         "y": [
          16.799999999999997
         ]
        },
        {
         "customdata": [
          740
         ],
         "hovertemplate": "Zone: %{x}<br>Total Number of Rows: %{customdata}<extra></extra>",
         "legendgroup": "SE Global",
         "marker": {
          "color": "lightgrey"
         },
         "name": "Without Comments",
         "showlegend": false,
         "type": "bar",
         "x": [
          "SE Global"
         ],
         "y": [
          100
         ]
        },
        {
         "customdata": [
          3484
         ],
         "hovertemplate": "Zone: %{x}<br>Total Number of Rows: %{customdata}<extra></extra>",
         "legendgroup": "South America",
         "marker": {
          "color": "lightgrey"
         },
         "name": "Without Comments",
         "showlegend": false,
         "type": "bar",
         "x": [
          "South America"
         ],
         "y": [
          35.650000000000006
         ]
        },
        {
         "customdata": [
          1169
         ],
         "hovertemplate": "Zone: %{x}<br>Total Number of Rows: %{customdata}<extra></extra>",
         "legendgroup": "UK and Ireland",
         "marker": {
          "color": "lightgrey"
         },
         "name": "Without Comments",
         "showlegend": false,
         "type": "bar",
         "x": [
          "UK and Ireland"
         ],
         "y": [
          23.439999999999998
         ]
        },
        {
         "customdata": [
          3622
         ],
         "hovertemplate": "Zone: %{x}<br>Total Number of Rows: %{customdata}<extra></extra>",
         "legendgroup": "US",
         "marker": {
          "color": "lightgrey"
         },
         "name": "Without Comments",
         "showlegend": false,
         "type": "bar",
         "x": [
          "US"
         ],
         "y": [
          34.68000000000001
         ]
        }
       ],
       "layout": {
        "barmode": "stack",
        "showlegend": true,
        "template": {
         "data": {
          "bar": [
           {
            "error_x": {
             "color": "#2a3f5f"
            },
            "error_y": {
             "color": "#2a3f5f"
            },
            "marker": {
             "line": {
              "color": "#E5ECF6",
              "width": 0.5
             },
             "pattern": {
              "fillmode": "overlay",
              "size": 10,
              "solidity": 0.2
             }
            },
            "type": "bar"
           }
          ],
          "barpolar": [
           {
            "marker": {
             "line": {
              "color": "#E5ECF6",
              "width": 0.5
             },
             "pattern": {
              "fillmode": "overlay",
              "size": 10,
              "solidity": 0.2
             }
            },
            "type": "barpolar"
           }
          ],
          "carpet": [
           {
            "aaxis": {
             "endlinecolor": "#2a3f5f",
             "gridcolor": "white",
             "linecolor": "white",
             "minorgridcolor": "white",
             "startlinecolor": "#2a3f5f"
            },
            "baxis": {
             "endlinecolor": "#2a3f5f",
             "gridcolor": "white",
             "linecolor": "white",
             "minorgridcolor": "white",
             "startlinecolor": "#2a3f5f"
            },
            "type": "carpet"
           }
          ],
          "choropleth": [
           {
            "colorbar": {
             "outlinewidth": 0,
             "ticks": ""
            },
            "type": "choropleth"
           }
          ],
          "contour": [
           {
            "colorbar": {
             "outlinewidth": 0,
             "ticks": ""
            },
            "colorscale": [
             [
              0,
              "#0d0887"
             ],
             [
              0.1111111111111111,
              "#46039f"
             ],
             [
              0.2222222222222222,
              "#7201a8"
             ],
             [
              0.3333333333333333,
              "#9c179e"
             ],
             [
              0.4444444444444444,
              "#bd3786"
             ],
             [
              0.5555555555555556,
              "#d8576b"
             ],
             [
              0.6666666666666666,
              "#ed7953"
             ],
             [
              0.7777777777777778,
              "#fb9f3a"
             ],
             [
              0.8888888888888888,
              "#fdca26"
             ],
             [
              1,
              "#f0f921"
             ]
            ],
            "type": "contour"
           }
          ],
          "contourcarpet": [
           {
            "colorbar": {
             "outlinewidth": 0,
             "ticks": ""
            },
            "type": "contourcarpet"
           }
          ],
          "heatmap": [
           {
            "colorbar": {
             "outlinewidth": 0,
             "ticks": ""
            },
            "colorscale": [
             [
              0,
              "#0d0887"
             ],
             [
              0.1111111111111111,
              "#46039f"
             ],
             [
              0.2222222222222222,
              "#7201a8"
             ],
             [
              0.3333333333333333,
              "#9c179e"
             ],
             [
              0.4444444444444444,
              "#bd3786"
             ],
             [
              0.5555555555555556,
              "#d8576b"
             ],
             [
              0.6666666666666666,
              "#ed7953"
             ],
             [
              0.7777777777777778,
              "#fb9f3a"
             ],
             [
              0.8888888888888888,
              "#fdca26"
             ],
             [
              1,
              "#f0f921"
             ]
            ],
            "type": "heatmap"
           }
          ],
          "heatmapgl": [
           {
            "colorbar": {
             "outlinewidth": 0,
             "ticks": ""
            },
            "colorscale": [
             [
              0,
              "#0d0887"
             ],
             [
              0.1111111111111111,
              "#46039f"
             ],
             [
              0.2222222222222222,
              "#7201a8"
             ],
             [
              0.3333333333333333,
              "#9c179e"
             ],
             [
              0.4444444444444444,
              "#bd3786"
             ],
             [
              0.5555555555555556,
              "#d8576b"
             ],
             [
              0.6666666666666666,
              "#ed7953"
             ],
             [
              0.7777777777777778,
              "#fb9f3a"
             ],
             [
              0.8888888888888888,
              "#fdca26"
             ],
             [
              1,
              "#f0f921"
             ]
            ],
            "type": "heatmapgl"
           }
          ],
          "histogram": [
           {
            "marker": {
             "pattern": {
              "fillmode": "overlay",
              "size": 10,
              "solidity": 0.2
             }
            },
            "type": "histogram"
           }
          ],
          "histogram2d": [
           {
            "colorbar": {
             "outlinewidth": 0,
             "ticks": ""
            },
            "colorscale": [
             [
              0,
              "#0d0887"
             ],
             [
              0.1111111111111111,
              "#46039f"
             ],
             [
              0.2222222222222222,
              "#7201a8"
             ],
             [
              0.3333333333333333,
              "#9c179e"
             ],
             [
              0.4444444444444444,
              "#bd3786"
             ],
             [
              0.5555555555555556,
              "#d8576b"
             ],
             [
              0.6666666666666666,
              "#ed7953"
             ],
             [
              0.7777777777777778,
              "#fb9f3a"
             ],
             [
              0.8888888888888888,
              "#fdca26"
             ],
             [
              1,
              "#f0f921"
             ]
            ],
            "type": "histogram2d"
           }
          ],
          "histogram2dcontour": [
           {
            "colorbar": {
             "outlinewidth": 0,
             "ticks": ""
            },
            "colorscale": [
             [
              0,
              "#0d0887"
             ],
             [
              0.1111111111111111,
              "#46039f"
             ],
             [
              0.2222222222222222,
              "#7201a8"
             ],
             [
              0.3333333333333333,
              "#9c179e"
             ],
             [
              0.4444444444444444,
              "#bd3786"
             ],
             [
              0.5555555555555556,
              "#d8576b"
             ],
             [
              0.6666666666666666,
              "#ed7953"
             ],
             [
              0.7777777777777778,
              "#fb9f3a"
             ],
             [
              0.8888888888888888,
              "#fdca26"
             ],
             [
              1,
              "#f0f921"
             ]
            ],
            "type": "histogram2dcontour"
           }
          ],
          "mesh3d": [
           {
            "colorbar": {
             "outlinewidth": 0,
             "ticks": ""
            },
            "type": "mesh3d"
           }
          ],
          "parcoords": [
           {
            "line": {
             "colorbar": {
              "outlinewidth": 0,
              "ticks": ""
             }
            },
            "type": "parcoords"
           }
          ],
          "pie": [
           {
            "automargin": true,
            "type": "pie"
           }
          ],
          "scatter": [
           {
            "fillpattern": {
             "fillmode": "overlay",
             "size": 10,
             "solidity": 0.2
            },
            "type": "scatter"
           }
          ],
          "scatter3d": [
           {
            "line": {
             "colorbar": {
              "outlinewidth": 0,
              "ticks": ""
             }
            },
            "marker": {
             "colorbar": {
              "outlinewidth": 0,
              "ticks": ""
             }
            },
            "type": "scatter3d"
           }
          ],
          "scattercarpet": [
           {
            "marker": {
             "colorbar": {
              "outlinewidth": 0,
              "ticks": ""
             }
            },
            "type": "scattercarpet"
           }
          ],
          "scattergeo": [
           {
            "marker": {
             "colorbar": {
              "outlinewidth": 0,
              "ticks": ""
             }
            },
            "type": "scattergeo"
           }
          ],
          "scattergl": [
           {
            "marker": {
             "colorbar": {
              "outlinewidth": 0,
              "ticks": ""
             }
            },
            "type": "scattergl"
           }
          ],
          "scattermapbox": [
           {
            "marker": {
             "colorbar": {
              "outlinewidth": 0,
              "ticks": ""
             }
            },
            "type": "scattermapbox"
           }
          ],
          "scatterpolar": [
           {
            "marker": {
             "colorbar": {
              "outlinewidth": 0,
              "ticks": ""
             }
            },
            "type": "scatterpolar"
           }
          ],
          "scatterpolargl": [
           {
            "marker": {
             "colorbar": {
              "outlinewidth": 0,
              "ticks": ""
             }
            },
            "type": "scatterpolargl"
           }
          ],
          "scatterternary": [
           {
            "marker": {
             "colorbar": {
              "outlinewidth": 0,
              "ticks": ""
             }
            },
            "type": "scatterternary"
           }
          ],
          "surface": [
           {
            "colorbar": {
             "outlinewidth": 0,
             "ticks": ""
            },
            "colorscale": [
             [
              0,
              "#0d0887"
             ],
             [
              0.1111111111111111,
              "#46039f"
             ],
             [
              0.2222222222222222,
              "#7201a8"
             ],
             [
              0.3333333333333333,
              "#9c179e"
             ],
             [
              0.4444444444444444,
              "#bd3786"
             ],
             [
              0.5555555555555556,
              "#d8576b"
             ],
             [
              0.6666666666666666,
              "#ed7953"
             ],
             [
              0.7777777777777778,
              "#fb9f3a"
             ],
             [
              0.8888888888888888,
              "#fdca26"
             ],
             [
              1,
              "#f0f921"
             ]
            ],
            "type": "surface"
           }
          ],
          "table": [
           {
            "cells": {
             "fill": {
              "color": "#EBF0F8"
             },
             "line": {
              "color": "white"
             }
            },
            "header": {
             "fill": {
              "color": "#C8D4E3"
             },
             "line": {
              "color": "white"
             }
            },
            "type": "table"
           }
          ]
         },
         "layout": {
          "annotationdefaults": {
           "arrowcolor": "#2a3f5f",
           "arrowhead": 0,
           "arrowwidth": 1
          },
          "autotypenumbers": "strict",
          "coloraxis": {
           "colorbar": {
            "outlinewidth": 0,
            "ticks": ""
           }
          },
          "colorscale": {
           "diverging": [
            [
             0,
             "#8e0152"
            ],
            [
             0.1,
             "#c51b7d"
            ],
            [
             0.2,
             "#de77ae"
            ],
            [
             0.3,
             "#f1b6da"
            ],
            [
             0.4,
             "#fde0ef"
            ],
            [
             0.5,
             "#f7f7f7"
            ],
            [
             0.6,
             "#e6f5d0"
            ],
            [
             0.7,
             "#b8e186"
            ],
            [
             0.8,
             "#7fbc41"
            ],
            [
             0.9,
             "#4d9221"
            ],
            [
             1,
             "#276419"
            ]
           ],
           "sequential": [
            [
             0,
             "#0d0887"
            ],
            [
             0.1111111111111111,
             "#46039f"
            ],
            [
             0.2222222222222222,
             "#7201a8"
            ],
            [
             0.3333333333333333,
             "#9c179e"
            ],
            [
             0.4444444444444444,
             "#bd3786"
            ],
            [
             0.5555555555555556,
             "#d8576b"
            ],
            [
             0.6666666666666666,
             "#ed7953"
            ],
            [
             0.7777777777777778,
             "#fb9f3a"
            ],
            [
             0.8888888888888888,
             "#fdca26"
            ],
            [
             1,
             "#f0f921"
            ]
           ],
           "sequentialminus": [
            [
             0,
             "#0d0887"
            ],
            [
             0.1111111111111111,
             "#46039f"
            ],
            [
             0.2222222222222222,
             "#7201a8"
            ],
            [
             0.3333333333333333,
             "#9c179e"
            ],
            [
             0.4444444444444444,
             "#bd3786"
            ],
            [
             0.5555555555555556,
             "#d8576b"
            ],
            [
             0.6666666666666666,
             "#ed7953"
            ],
            [
             0.7777777777777778,
             "#fb9f3a"
            ],
            [
             0.8888888888888888,
             "#fdca26"
            ],
            [
             1,
             "#f0f921"
            ]
           ]
          },
          "colorway": [
           "#636efa",
           "#EF553B",
           "#00cc96",
           "#ab63fa",
           "#FFA15A",
           "#19d3f3",
           "#FF6692",
           "#B6E880",
           "#FF97FF",
           "#FECB52"
          ],
          "font": {
           "color": "#2a3f5f"
          },
          "geo": {
           "bgcolor": "white",
           "lakecolor": "white",
           "landcolor": "#E5ECF6",
           "showlakes": true,
           "showland": true,
           "subunitcolor": "white"
          },
          "hoverlabel": {
           "align": "left"
          },
          "hovermode": "closest",
          "mapbox": {
           "style": "light"
          },
          "paper_bgcolor": "white",
          "plot_bgcolor": "#E5ECF6",
          "polar": {
           "angularaxis": {
            "gridcolor": "white",
            "linecolor": "white",
            "ticks": ""
           },
           "bgcolor": "#E5ECF6",
           "radialaxis": {
            "gridcolor": "white",
            "linecolor": "white",
            "ticks": ""
           }
          },
          "scene": {
           "xaxis": {
            "backgroundcolor": "#E5ECF6",
            "gridcolor": "white",
            "gridwidth": 2,
            "linecolor": "white",
            "showbackground": true,
            "ticks": "",
            "zerolinecolor": "white"
           },
           "yaxis": {
            "backgroundcolor": "#E5ECF6",
            "gridcolor": "white",
            "gridwidth": 2,
            "linecolor": "white",
            "showbackground": true,
            "ticks": "",
            "zerolinecolor": "white"
           },
           "zaxis": {
            "backgroundcolor": "#E5ECF6",
            "gridcolor": "white",
            "gridwidth": 2,
            "linecolor": "white",
            "showbackground": true,
            "ticks": "",
            "zerolinecolor": "white"
           }
          },
          "shapedefaults": {
           "line": {
            "color": "#2a3f5f"
           }
          },
          "ternary": {
           "aaxis": {
            "gridcolor": "white",
            "linecolor": "white",
            "ticks": ""
           },
           "baxis": {
            "gridcolor": "white",
            "linecolor": "white",
            "ticks": ""
           },
           "bgcolor": "#E5ECF6",
           "caxis": {
            "gridcolor": "white",
            "linecolor": "white",
            "ticks": ""
           }
          },
          "title": {
           "x": 0.05
          },
          "xaxis": {
           "automargin": true,
           "gridcolor": "white",
           "linecolor": "white",
           "ticks": "",
           "title": {
            "standoff": 15
           },
           "zerolinecolor": "white",
           "zerolinewidth": 2
          },
          "yaxis": {
           "automargin": true,
           "gridcolor": "white",
           "linecolor": "white",
           "ticks": "",
           "title": {
            "standoff": 15
           },
           "zerolinecolor": "white",
           "zerolinewidth": 2
          }
         }
        },
        "title": {
         "text": "Percentage of Rows with Comments by Zone"
        },
        "xaxis": {
         "title": {
          "text": "Zone"
         }
        },
        "yaxis": {
         "title": {
          "text": "Percentage of Rows"
         }
        }
       }
      }
     },
     "metadata": {},
     "output_type": "display_data"
    }
   ],
   "source": [
    "def create_percentage_bar_chart(df, group_column, count_column, color_sequence = ['#636EFA','#EF553B','#00CC96','#AB63FA','#FFA15A','#19D3F3','#FF6692','#B6E880','#FF97FF','#FECB52','#E763FA','#BA68C8','#FFA000','#F06292','#7986CB','#4DB6AC','#FF8A65','#A1887F','#90A4AE','#E53935','#8E24AA']):\n",
    "    # Group by group_column and calculate the total number of rows and the number of rows with comments\n",
    "    grouped = df.groupby(group_column).agg(\n",
    "        total_rows=pd.NamedAgg(column=count_column, aggfunc='count'),\n",
    "        rows_with_comments=pd.NamedAgg(column=count_column, aggfunc='sum')\n",
    "    )\n",
    "\n",
    "    # Calculate the percentage of rows with comments and without comments\n",
    "    grouped['percentage_with_comments'] = round(grouped['rows_with_comments'] / grouped['total_rows'] * 100,2)\n",
    "    grouped['percentage_without_comments'] = 100 - grouped['percentage_with_comments']\n",
    "\n",
    "    # Create a color iterator\n",
    "    color_iterator = cycle(color_sequence)\n",
    "\n",
    "    # Create a stacked bar chart using go.Figure\n",
    "    fig = go.Figure(data=[\n",
    "        go.Bar(name=str(index), x=[index], y=[grouped.loc[index, 'percentage_with_comments']], marker_color=next(color_iterator), text='{:.1f}%'.format(grouped.loc[index, 'percentage_with_comments']), textposition='auto', hovertemplate=f'{group_column}: %{{x}}<br>Number of Comments: %{{customdata}}<extra></extra>', customdata=[grouped.loc[index, 'rows_with_comments']], showlegend=True, legendgroup=str(index)) for index in grouped.index\n",
    "    ] + [\n",
    "        go.Bar(name='Without Comments', x=[index], y=[grouped.loc[index, 'percentage_without_comments']], marker_color='lightgrey', hovertemplate=f'{group_column}: %{{x}}<br>Total Number of Rows: %{{customdata}}<extra></extra>', customdata=[grouped.loc[index, 'total_rows']], showlegend=False, legendgroup=str(index)) for index in grouped.index\n",
    "    ])\n",
    "\n",
    "    # Change the bar mode\n",
    "    fig.update_layout(barmode='stack')\n",
    "\n",
    "    # Set chart title and labels\n",
    "    fig.update_layout(\n",
    "        title_text=f'Percentage of Rows with Comments by {group_column}',\n",
    "        xaxis_title=group_column,\n",
    "        yaxis_title='Percentage of Rows',\n",
    "        showlegend=True\n",
    "    )\n",
    "    \n",
    "    return fig\n",
    "\n",
    "create_percentage_bar_chart(df_preprocessed_full, 'Zone', 'non_empty_rows')"
   ]
  },
  {
   "cell_type": "code",
   "execution_count": 119,
   "metadata": {},
   "outputs": [
    {
     "data": {
      "application/vnd.plotly.v1+json": {
       "config": {
        "plotlyServerURL": "https://plot.ly"
       },
       "data": [
        {
         "customdata": [
          28
         ],
         "hovertemplate": "Zone: %{x}<br>Number of Comments: %{customdata}<extra></extra>",
         "legendgroup": "BeNe",
         "marker": {
          "color": "#636EFA"
         },
         "name": "BeNe",
         "showlegend": true,
         "text": "59.6%",
         "textposition": "auto",
         "type": "bar",
         "x": [
          "BeNe"
         ],
         "xaxis": "x",
         "y": [
          59.57
         ],
         "yaxis": "y"
        },
        {
         "customdata": [
          53
         ],
         "hovertemplate": "Zone: %{x}<br>Number of Comments: %{customdata}<extra></extra>",
         "legendgroup": "CEEI",
         "marker": {
          "color": "#EF553B"
         },
         "name": "CEEI",
         "showlegend": true,
         "text": "51.0%",
         "textposition": "auto",
         "type": "bar",
         "x": [
          "CEEI"
         ],
         "xaxis": "x",
         "y": [
          50.96
         ],
         "yaxis": "y"
        },
        {
         "customdata": [
          12
         ],
         "hovertemplate": "Zone: %{x}<br>Number of Comments: %{customdata}<extra></extra>",
         "legendgroup": "Canada",
         "marker": {
          "color": "#00CC96"
         },
         "name": "Canada",
         "showlegend": true,
         "text": "44.4%",
         "textposition": "auto",
         "type": "bar",
         "x": [
          "Canada"
         ],
         "xaxis": "x",
         "y": [
          44.44
         ],
         "yaxis": "y"
        },
        {
         "customdata": [
          41
         ],
         "hovertemplate": "Zone: %{x}<br>Number of Comments: %{customdata}<extra></extra>",
         "legendgroup": "China & HK",
         "marker": {
          "color": "#AB63FA"
         },
         "name": "China & HK",
         "showlegend": true,
         "text": "12.2%",
         "textposition": "auto",
         "type": "bar",
         "x": [
          "China & HK"
         ],
         "xaxis": "x",
         "y": [
          12.24
         ],
         "yaxis": "y"
        },
        {
         "customdata": [
          192
         ],
         "hovertemplate": "Zone: %{x}<br>Number of Comments: %{customdata}<extra></extra>",
         "legendgroup": "DACH",
         "marker": {
          "color": "#FFA15A"
         },
         "name": "DACH",
         "showlegend": true,
         "text": "53.8%",
         "textposition": "auto",
         "type": "bar",
         "x": [
          "DACH"
         ],
         "xaxis": "x",
         "y": [
          53.78
         ],
         "yaxis": "y"
        },
        {
         "customdata": [
          357
         ],
         "hovertemplate": "Zone: %{x}<br>Number of Comments: %{customdata}<extra></extra>",
         "legendgroup": "East Asia Japan",
         "marker": {
          "color": "#19D3F3"
         },
         "name": "East Asia Japan",
         "showlegend": true,
         "text": "71.0%",
         "textposition": "auto",
         "type": "bar",
         "x": [
          "East Asia Japan"
         ],
         "xaxis": "x",
         "y": [
          70.97
         ],
         "yaxis": "y"
        },
        {
         "customdata": [
          87
         ],
         "hovertemplate": "Zone: %{x}<br>Number of Comments: %{customdata}<extra></extra>",
         "legendgroup": "France",
         "marker": {
          "color": "#FF6692"
         },
         "name": "France",
         "showlegend": true,
         "text": "46.5%",
         "textposition": "auto",
         "type": "bar",
         "x": [
          "France"
         ],
         "xaxis": "x",
         "y": [
          46.52
         ],
         "yaxis": "y"
        },
        {
         "customdata": [
          69
         ],
         "hovertemplate": "Zone: %{x}<br>Number of Comments: %{customdata}<extra></extra>",
         "legendgroup": "Greater India",
         "marker": {
          "color": "#B6E880"
         },
         "name": "Greater India",
         "showlegend": true,
         "text": "67.0%",
         "textposition": "auto",
         "type": "bar",
         "x": [
          "Greater India"
         ],
         "xaxis": "x",
         "y": [
          66.99
         ],
         "yaxis": "y"
        },
        {
         "customdata": [
          118
         ],
         "hovertemplate": "Zone: %{x}<br>Number of Comments: %{customdata}<extra></extra>",
         "legendgroup": "Iberia",
         "marker": {
          "color": "#FF97FF"
         },
         "name": "Iberia",
         "showlegend": true,
         "text": "57.6%",
         "textposition": "auto",
         "type": "bar",
         "x": [
          "Iberia"
         ],
         "xaxis": "x",
         "y": [
          57.56
         ],
         "yaxis": "y"
        },
        {
         "customdata": [
          296
         ],
         "hovertemplate": "Zone: %{x}<br>Number of Comments: %{customdata}<extra></extra>",
         "legendgroup": "Italy",
         "marker": {
          "color": "#FECB52"
         },
         "name": "Italy",
         "showlegend": true,
         "text": "50.8%",
         "textposition": "auto",
         "type": "bar",
         "x": [
          "Italy"
         ],
         "xaxis": "x",
         "y": [
          50.77
         ],
         "yaxis": "y"
        },
        {
         "customdata": [
          1
         ],
         "hovertemplate": "Zone: %{x}<br>Number of Comments: %{customdata}<extra></extra>",
         "legendgroup": "Mexico & Central America",
         "marker": {
          "color": "#E763FA"
         },
         "name": "Mexico & Central America",
         "showlegend": true,
         "text": "14.3%",
         "textposition": "auto",
         "type": "bar",
         "x": [
          "Mexico & Central America"
         ],
         "xaxis": "x",
         "y": [
          14.29
         ],
         "yaxis": "y"
        },
        {
         "customdata": [
          64
         ],
         "hovertemplate": "Zone: %{x}<br>Number of Comments: %{customdata}<extra></extra>",
         "legendgroup": "Middle East and Africa",
         "marker": {
          "color": "#BA68C8"
         },
         "name": "Middle East and Africa",
         "showlegend": true,
         "text": "42.1%",
         "textposition": "auto",
         "type": "bar",
         "x": [
          "Middle East and Africa"
         ],
         "xaxis": "x",
         "y": [
          42.11
         ],
         "yaxis": "y"
        },
        {
         "customdata": [
          68
         ],
         "hovertemplate": "Zone: %{x}<br>Number of Comments: %{customdata}<extra></extra>",
         "legendgroup": "Nordic & Baltics",
         "marker": {
          "color": "#FFA000"
         },
         "name": "Nordic & Baltics",
         "showlegend": true,
         "text": "60.2%",
         "textposition": "auto",
         "type": "bar",
         "x": [
          "Nordic & Baltics"
         ],
         "xaxis": "x",
         "y": [
          60.18
         ],
         "yaxis": "y"
        },
        {
         "customdata": [
          63
         ],
         "hovertemplate": "Zone: %{x}<br>Number of Comments: %{customdata}<extra></extra>",
         "legendgroup": "Pacific",
         "marker": {
          "color": "#F06292"
         },
         "name": "Pacific",
         "showlegend": true,
         "text": "80.8%",
         "textposition": "auto",
         "type": "bar",
         "x": [
          "Pacific"
         ],
         "xaxis": "x",
         "y": [
          80.77
         ],
         "yaxis": "y"
        },
        {
         "customdata": [
          0
         ],
         "hovertemplate": "Zone: %{x}<br>Number of Comments: %{customdata}<extra></extra>",
         "legendgroup": "SE Global",
         "marker": {
          "color": "#7986CB"
         },
         "name": "SE Global",
         "showlegend": true,
         "text": "0.0%",
         "textposition": "auto",
         "type": "bar",
         "x": [
          "SE Global"
         ],
         "xaxis": "x",
         "y": [
          0
         ],
         "yaxis": "y"
        },
        {
         "customdata": [
          118
         ],
         "hovertemplate": "Zone: %{x}<br>Number of Comments: %{customdata}<extra></extra>",
         "legendgroup": "South America",
         "marker": {
          "color": "#4DB6AC"
         },
         "name": "South America",
         "showlegend": true,
         "text": "70.7%",
         "textposition": "auto",
         "type": "bar",
         "x": [
          "South America"
         ],
         "xaxis": "x",
         "y": [
          70.66
         ],
         "yaxis": "y"
        },
        {
         "customdata": [
          16
         ],
         "hovertemplate": "Zone: %{x}<br>Number of Comments: %{customdata}<extra></extra>",
         "legendgroup": "UK and Ireland",
         "marker": {
          "color": "#FF8A65"
         },
         "name": "UK and Ireland",
         "showlegend": true,
         "text": "35.6%",
         "textposition": "auto",
         "type": "bar",
         "x": [
          "UK and Ireland"
         ],
         "xaxis": "x",
         "y": [
          35.56
         ],
         "yaxis": "y"
        },
        {
         "customdata": [
          79
         ],
         "hovertemplate": "Zone: %{x}<br>Number of Comments: %{customdata}<extra></extra>",
         "legendgroup": "US",
         "marker": {
          "color": "#A1887F"
         },
         "name": "US",
         "showlegend": true,
         "text": "49.1%",
         "textposition": "auto",
         "type": "bar",
         "x": [
          "US"
         ],
         "xaxis": "x",
         "y": [
          49.07
         ],
         "yaxis": "y"
        },
        {
         "customdata": [
          47
         ],
         "hovertemplate": "Zone: %{x}<br>Total Number of Rows: %{customdata}<extra></extra>",
         "legendgroup": "BeNe",
         "marker": {
          "color": "lightgrey"
         },
         "name": "Without Comments",
         "showlegend": false,
         "type": "bar",
         "x": [
          "BeNe"
         ],
         "xaxis": "x",
         "y": [
          40.43
         ],
         "yaxis": "y"
        },
        {
         "customdata": [
          104
         ],
         "hovertemplate": "Zone: %{x}<br>Total Number of Rows: %{customdata}<extra></extra>",
         "legendgroup": "CEEI",
         "marker": {
          "color": "lightgrey"
         },
         "name": "Without Comments",
         "showlegend": false,
         "type": "bar",
         "x": [
          "CEEI"
         ],
         "xaxis": "x",
         "y": [
          49.04
         ],
         "yaxis": "y"
        },
        {
         "customdata": [
          27
         ],
         "hovertemplate": "Zone: %{x}<br>Total Number of Rows: %{customdata}<extra></extra>",
         "legendgroup": "Canada",
         "marker": {
          "color": "lightgrey"
         },
         "name": "Without Comments",
         "showlegend": false,
         "type": "bar",
         "x": [
          "Canada"
         ],
         "xaxis": "x",
         "y": [
          55.56
         ],
         "yaxis": "y"
        },
        {
         "customdata": [
          335
         ],
         "hovertemplate": "Zone: %{x}<br>Total Number of Rows: %{customdata}<extra></extra>",
         "legendgroup": "China & HK",
         "marker": {
          "color": "lightgrey"
         },
         "name": "Without Comments",
         "showlegend": false,
         "type": "bar",
         "x": [
          "China & HK"
         ],
         "xaxis": "x",
         "y": [
          87.76
         ],
         "yaxis": "y"
        },
        {
         "customdata": [
          357
         ],
         "hovertemplate": "Zone: %{x}<br>Total Number of Rows: %{customdata}<extra></extra>",
         "legendgroup": "DACH",
         "marker": {
          "color": "lightgrey"
         },
         "name": "Without Comments",
         "showlegend": false,
         "type": "bar",
         "x": [
          "DACH"
         ],
         "xaxis": "x",
         "y": [
          46.22
         ],
         "yaxis": "y"
        },
        {
         "customdata": [
          503
         ],
         "hovertemplate": "Zone: %{x}<br>Total Number of Rows: %{customdata}<extra></extra>",
         "legendgroup": "East Asia Japan",
         "marker": {
          "color": "lightgrey"
         },
         "name": "Without Comments",
         "showlegend": false,
         "type": "bar",
         "x": [
          "East Asia Japan"
         ],
         "xaxis": "x",
         "y": [
          29.03
         ],
         "yaxis": "y"
        },
        {
         "customdata": [
          187
         ],
         "hovertemplate": "Zone: %{x}<br>Total Number of Rows: %{customdata}<extra></extra>",
         "legendgroup": "France",
         "marker": {
          "color": "lightgrey"
         },
         "name": "Without Comments",
         "showlegend": false,
         "type": "bar",
         "x": [
          "France"
         ],
         "xaxis": "x",
         "y": [
          53.48
         ],
         "yaxis": "y"
        },
        {
         "customdata": [
          103
         ],
         "hovertemplate": "Zone: %{x}<br>Total Number of Rows: %{customdata}<extra></extra>",
         "legendgroup": "Greater India",
         "marker": {
          "color": "lightgrey"
         },
         "name": "Without Comments",
         "showlegend": false,
         "type": "bar",
         "x": [
          "Greater India"
         ],
         "xaxis": "x",
         "y": [
          33.010000000000005
         ],
         "yaxis": "y"
        },
        {
         "customdata": [
          205
         ],
         "hovertemplate": "Zone: %{x}<br>Total Number of Rows: %{customdata}<extra></extra>",
         "legendgroup": "Iberia",
         "marker": {
          "color": "lightgrey"
         },
         "name": "Without Comments",
         "showlegend": false,
         "type": "bar",
         "x": [
          "Iberia"
         ],
         "xaxis": "x",
         "y": [
          42.44
         ],
         "yaxis": "y"
        },
        {
         "customdata": [
          583
         ],
         "hovertemplate": "Zone: %{x}<br>Total Number of Rows: %{customdata}<extra></extra>",
         "legendgroup": "Italy",
         "marker": {
          "color": "lightgrey"
         },
         "name": "Without Comments",
         "showlegend": false,
         "type": "bar",
         "x": [
          "Italy"
         ],
         "xaxis": "x",
         "y": [
          49.23
         ],
         "yaxis": "y"
        },
        {
         "customdata": [
          7
         ],
         "hovertemplate": "Zone: %{x}<br>Total Number of Rows: %{customdata}<extra></extra>",
         "legendgroup": "Mexico & Central America",
         "marker": {
          "color": "lightgrey"
         },
         "name": "Without Comments",
         "showlegend": false,
         "type": "bar",
         "x": [
          "Mexico & Central America"
         ],
         "xaxis": "x",
         "y": [
          85.71000000000001
         ],
         "yaxis": "y"
        },
        {
         "customdata": [
          152
         ],
         "hovertemplate": "Zone: %{x}<br>Total Number of Rows: %{customdata}<extra></extra>",
         "legendgroup": "Middle East and Africa",
         "marker": {
          "color": "lightgrey"
         },
         "name": "Without Comments",
         "showlegend": false,
         "type": "bar",
         "x": [
          "Middle East and Africa"
         ],
         "xaxis": "x",
         "y": [
          57.89
         ],
         "yaxis": "y"
        },
        {
         "customdata": [
          113
         ],
         "hovertemplate": "Zone: %{x}<br>Total Number of Rows: %{customdata}<extra></extra>",
         "legendgroup": "Nordic & Baltics",
         "marker": {
          "color": "lightgrey"
         },
         "name": "Without Comments",
         "showlegend": false,
         "type": "bar",
         "x": [
          "Nordic & Baltics"
         ],
         "xaxis": "x",
         "y": [
          39.82
         ],
         "yaxis": "y"
        },
        {
         "customdata": [
          78
         ],
         "hovertemplate": "Zone: %{x}<br>Total Number of Rows: %{customdata}<extra></extra>",
         "legendgroup": "Pacific",
         "marker": {
          "color": "lightgrey"
         },
         "name": "Without Comments",
         "showlegend": false,
         "type": "bar",
         "x": [
          "Pacific"
         ],
         "xaxis": "x",
         "y": [
          19.230000000000004
         ],
         "yaxis": "y"
        },
        {
         "customdata": [
          60
         ],
         "hovertemplate": "Zone: %{x}<br>Total Number of Rows: %{customdata}<extra></extra>",
         "legendgroup": "SE Global",
         "marker": {
          "color": "lightgrey"
         },
         "name": "Without Comments",
         "showlegend": false,
         "type": "bar",
         "x": [
          "SE Global"
         ],
         "xaxis": "x",
         "y": [
          100
         ],
         "yaxis": "y"
        },
        {
         "customdata": [
          167
         ],
         "hovertemplate": "Zone: %{x}<br>Total Number of Rows: %{customdata}<extra></extra>",
         "legendgroup": "South America",
         "marker": {
          "color": "lightgrey"
         },
         "name": "Without Comments",
         "showlegend": false,
         "type": "bar",
         "x": [
          "South America"
         ],
         "xaxis": "x",
         "y": [
          29.340000000000003
         ],
         "yaxis": "y"
        },
        {
         "customdata": [
          45
         ],
         "hovertemplate": "Zone: %{x}<br>Total Number of Rows: %{customdata}<extra></extra>",
         "legendgroup": "UK and Ireland",
         "marker": {
          "color": "lightgrey"
         },
         "name": "Without Comments",
         "showlegend": false,
         "type": "bar",
         "x": [
          "UK and Ireland"
         ],
         "xaxis": "x",
         "y": [
          64.44
         ],
         "yaxis": "y"
        },
        {
         "customdata": [
          161
         ],
         "hovertemplate": "Zone: %{x}<br>Total Number of Rows: %{customdata}<extra></extra>",
         "legendgroup": "US",
         "marker": {
          "color": "lightgrey"
         },
         "name": "Without Comments",
         "showlegend": false,
         "type": "bar",
         "x": [
          "US"
         ],
         "xaxis": "x",
         "y": [
          50.93
         ],
         "yaxis": "y"
        },
        {
         "customdata": [
          224
         ],
         "hovertemplate": "Zone: %{x}<br>Number of Comments: %{customdata}<extra></extra>",
         "legendgroup": "BeNe",
         "marker": {
          "color": "#636EFA"
         },
         "name": "BeNe",
         "showlegend": false,
         "text": "81.5%",
         "textposition": "auto",
         "type": "bar",
         "x": [
          "BeNe"
         ],
         "xaxis": "x2",
         "y": [
          81.45
         ],
         "yaxis": "y2"
        },
        {
         "customdata": [
          258
         ],
         "hovertemplate": "Zone: %{x}<br>Number of Comments: %{customdata}<extra></extra>",
         "legendgroup": "CEEI",
         "marker": {
          "color": "#EF553B"
         },
         "name": "CEEI",
         "showlegend": false,
         "text": "66.0%",
         "textposition": "auto",
         "type": "bar",
         "x": [
          "CEEI"
         ],
         "xaxis": "x2",
         "y": [
          65.98
         ],
         "yaxis": "y2"
        },
        {
         "customdata": [
          123
         ],
         "hovertemplate": "Zone: %{x}<br>Number of Comments: %{customdata}<extra></extra>",
         "legendgroup": "Canada",
         "marker": {
          "color": "#00CC96"
         },
         "name": "Canada",
         "showlegend": false,
         "text": "74.1%",
         "textposition": "auto",
         "type": "bar",
         "x": [
          "Canada"
         ],
         "xaxis": "x2",
         "y": [
          74.1
         ],
         "yaxis": "y2"
        },
        {
         "customdata": [
          335
         ],
         "hovertemplate": "Zone: %{x}<br>Number of Comments: %{customdata}<extra></extra>",
         "legendgroup": "China & HK",
         "marker": {
          "color": "#AB63FA"
         },
         "name": "China & HK",
         "showlegend": false,
         "text": "28.9%",
         "textposition": "auto",
         "type": "bar",
         "x": [
          "China & HK"
         ],
         "xaxis": "x2",
         "y": [
          28.9
         ],
         "yaxis": "y2"
        },
        {
         "customdata": [
          701
         ],
         "hovertemplate": "Zone: %{x}<br>Number of Comments: %{customdata}<extra></extra>",
         "legendgroup": "DACH",
         "marker": {
          "color": "#FFA15A"
         },
         "name": "DACH",
         "showlegend": false,
         "text": "62.8%",
         "textposition": "auto",
         "type": "bar",
         "x": [
          "DACH"
         ],
         "xaxis": "x2",
         "y": [
          62.81
         ],
         "yaxis": "y2"
        },
        {
         "customdata": [
          861
         ],
         "hovertemplate": "Zone: %{x}<br>Number of Comments: %{customdata}<extra></extra>",
         "legendgroup": "East Asia Japan",
         "marker": {
          "color": "#19D3F3"
         },
         "name": "East Asia Japan",
         "showlegend": false,
         "text": "73.4%",
         "textposition": "auto",
         "type": "bar",
         "x": [
          "East Asia Japan"
         ],
         "xaxis": "x2",
         "y": [
          73.4
         ],
         "yaxis": "y2"
        },
        {
         "customdata": [
          348
         ],
         "hovertemplate": "Zone: %{x}<br>Number of Comments: %{customdata}<extra></extra>",
         "legendgroup": "France",
         "marker": {
          "color": "#FF6692"
         },
         "name": "France",
         "showlegend": false,
         "text": "59.6%",
         "textposition": "auto",
         "type": "bar",
         "x": [
          "France"
         ],
         "xaxis": "x2",
         "y": [
          59.59
         ],
         "yaxis": "y2"
        },
        {
         "customdata": [
          219
         ],
         "hovertemplate": "Zone: %{x}<br>Number of Comments: %{customdata}<extra></extra>",
         "legendgroup": "Greater India",
         "marker": {
          "color": "#B6E880"
         },
         "name": "Greater India",
         "showlegend": false,
         "text": "66.2%",
         "textposition": "auto",
         "type": "bar",
         "x": [
          "Greater India"
         ],
         "xaxis": "x2",
         "y": [
          66.16
         ],
         "yaxis": "y2"
        },
        {
         "customdata": [
          375
         ],
         "hovertemplate": "Zone: %{x}<br>Number of Comments: %{customdata}<extra></extra>",
         "legendgroup": "Iberia",
         "marker": {
          "color": "#FF97FF"
         },
         "name": "Iberia",
         "showlegend": false,
         "text": "59.3%",
         "textposition": "auto",
         "type": "bar",
         "x": [
          "Iberia"
         ],
         "xaxis": "x2",
         "y": [
          59.34
         ],
         "yaxis": "y2"
        },
        {
         "customdata": [
          882
         ],
         "hovertemplate": "Zone: %{x}<br>Number of Comments: %{customdata}<extra></extra>",
         "legendgroup": "Italy",
         "marker": {
          "color": "#FECB52"
         },
         "name": "Italy",
         "showlegend": false,
         "text": "56.3%",
         "textposition": "auto",
         "type": "bar",
         "x": [
          "Italy"
         ],
         "xaxis": "x2",
         "y": [
          56.32
         ],
         "yaxis": "y2"
        },
        {
         "customdata": [
          6
         ],
         "hovertemplate": "Zone: %{x}<br>Number of Comments: %{customdata}<extra></extra>",
         "legendgroup": "Mexico & Central America",
         "marker": {
          "color": "#E763FA"
         },
         "name": "Mexico & Central America",
         "showlegend": false,
         "text": "27.3%",
         "textposition": "auto",
         "type": "bar",
         "x": [
          "Mexico & Central America"
         ],
         "xaxis": "x2",
         "y": [
          27.27
         ],
         "yaxis": "y2"
        },
        {
         "customdata": [
          252
         ],
         "hovertemplate": "Zone: %{x}<br>Number of Comments: %{customdata}<extra></extra>",
         "legendgroup": "Middle East and Africa",
         "marker": {
          "color": "#BA68C8"
         },
         "name": "Middle East and Africa",
         "showlegend": false,
         "text": "59.3%",
         "textposition": "auto",
         "type": "bar",
         "x": [
          "Middle East and Africa"
         ],
         "xaxis": "x2",
         "y": [
          59.29
         ],
         "yaxis": "y2"
        },
        {
         "customdata": [
          270
         ],
         "hovertemplate": "Zone: %{x}<br>Number of Comments: %{customdata}<extra></extra>",
         "legendgroup": "Nordic & Baltics",
         "marker": {
          "color": "#FFA000"
         },
         "name": "Nordic & Baltics",
         "showlegend": false,
         "text": "69.2%",
         "textposition": "auto",
         "type": "bar",
         "x": [
          "Nordic & Baltics"
         ],
         "xaxis": "x2",
         "y": [
          69.23
         ],
         "yaxis": "y2"
        },
        {
         "customdata": [
          190
         ],
         "hovertemplate": "Zone: %{x}<br>Number of Comments: %{customdata}<extra></extra>",
         "legendgroup": "Pacific",
         "marker": {
          "color": "#F06292"
         },
         "name": "Pacific",
         "showlegend": false,
         "text": "77.5%",
         "textposition": "auto",
         "type": "bar",
         "x": [
          "Pacific"
         ],
         "xaxis": "x2",
         "y": [
          77.55
         ],
         "yaxis": "y2"
        },
        {
         "customdata": [
          0
         ],
         "hovertemplate": "Zone: %{x}<br>Number of Comments: %{customdata}<extra></extra>",
         "legendgroup": "SE Global",
         "marker": {
          "color": "#7986CB"
         },
         "name": "SE Global",
         "showlegend": false,
         "text": "0.0%",
         "textposition": "auto",
         "type": "bar",
         "x": [
          "SE Global"
         ],
         "xaxis": "x2",
         "y": [
          0
         ],
         "yaxis": "y2"
        },
        {
         "customdata": [
          435
         ],
         "hovertemplate": "Zone: %{x}<br>Number of Comments: %{customdata}<extra></extra>",
         "legendgroup": "South America",
         "marker": {
          "color": "#4DB6AC"
         },
         "name": "South America",
         "showlegend": false,
         "text": "67.5%",
         "textposition": "auto",
         "type": "bar",
         "x": [
          "South America"
         ],
         "xaxis": "x2",
         "y": [
          67.55
         ],
         "yaxis": "y2"
        },
        {
         "customdata": [
          129
         ],
         "hovertemplate": "Zone: %{x}<br>Number of Comments: %{customdata}<extra></extra>",
         "legendgroup": "UK and Ireland",
         "marker": {
          "color": "#FF8A65"
         },
         "name": "UK and Ireland",
         "showlegend": false,
         "text": "71.3%",
         "textposition": "auto",
         "type": "bar",
         "x": [
          "UK and Ireland"
         ],
         "xaxis": "x2",
         "y": [
          71.27
         ],
         "yaxis": "y2"
        },
        {
         "customdata": [
          367
         ],
         "hovertemplate": "Zone: %{x}<br>Number of Comments: %{customdata}<extra></extra>",
         "legendgroup": "US",
         "marker": {
          "color": "#A1887F"
         },
         "name": "US",
         "showlegend": false,
         "text": "59.4%",
         "textposition": "auto",
         "type": "bar",
         "x": [
          "US"
         ],
         "xaxis": "x2",
         "y": [
          59.39
         ],
         "yaxis": "y2"
        },
        {
         "customdata": [
          275
         ],
         "hovertemplate": "Zone: %{x}<br>Total Number of Rows: %{customdata}<extra></extra>",
         "legendgroup": "BeNe",
         "marker": {
          "color": "lightgrey"
         },
         "name": "Without Comments",
         "showlegend": false,
         "type": "bar",
         "x": [
          "BeNe"
         ],
         "xaxis": "x2",
         "y": [
          18.549999999999997
         ],
         "yaxis": "y2"
        },
        {
         "customdata": [
          391
         ],
         "hovertemplate": "Zone: %{x}<br>Total Number of Rows: %{customdata}<extra></extra>",
         "legendgroup": "CEEI",
         "marker": {
          "color": "lightgrey"
         },
         "name": "Without Comments",
         "showlegend": false,
         "type": "bar",
         "x": [
          "CEEI"
         ],
         "xaxis": "x2",
         "y": [
          34.019999999999996
         ],
         "yaxis": "y2"
        },
        {
         "customdata": [
          166
         ],
         "hovertemplate": "Zone: %{x}<br>Total Number of Rows: %{customdata}<extra></extra>",
         "legendgroup": "Canada",
         "marker": {
          "color": "lightgrey"
         },
         "name": "Without Comments",
         "showlegend": false,
         "type": "bar",
         "x": [
          "Canada"
         ],
         "xaxis": "x2",
         "y": [
          25.900000000000006
         ],
         "yaxis": "y2"
        },
        {
         "customdata": [
          1159
         ],
         "hovertemplate": "Zone: %{x}<br>Total Number of Rows: %{customdata}<extra></extra>",
         "legendgroup": "China & HK",
         "marker": {
          "color": "lightgrey"
         },
         "name": "Without Comments",
         "showlegend": false,
         "type": "bar",
         "x": [
          "China & HK"
         ],
         "xaxis": "x2",
         "y": [
          71.1
         ],
         "yaxis": "y2"
        },
        {
         "customdata": [
          1116
         ],
         "hovertemplate": "Zone: %{x}<br>Total Number of Rows: %{customdata}<extra></extra>",
         "legendgroup": "DACH",
         "marker": {
          "color": "lightgrey"
         },
         "name": "Without Comments",
         "showlegend": false,
         "type": "bar",
         "x": [
          "DACH"
         ],
         "xaxis": "x2",
         "y": [
          37.19
         ],
         "yaxis": "y2"
        },
        {
         "customdata": [
          1173
         ],
         "hovertemplate": "Zone: %{x}<br>Total Number of Rows: %{customdata}<extra></extra>",
         "legendgroup": "East Asia Japan",
         "marker": {
          "color": "lightgrey"
         },
         "name": "Without Comments",
         "showlegend": false,
         "type": "bar",
         "x": [
          "East Asia Japan"
         ],
         "xaxis": "x2",
         "y": [
          26.599999999999994
         ],
         "yaxis": "y2"
        },
        {
         "customdata": [
          584
         ],
         "hovertemplate": "Zone: %{x}<br>Total Number of Rows: %{customdata}<extra></extra>",
         "legendgroup": "France",
         "marker": {
          "color": "lightgrey"
         },
         "name": "Without Comments",
         "showlegend": false,
         "type": "bar",
         "x": [
          "France"
         ],
         "xaxis": "x2",
         "y": [
          40.41
         ],
         "yaxis": "y2"
        },
        {
         "customdata": [
          331
         ],
         "hovertemplate": "Zone: %{x}<br>Total Number of Rows: %{customdata}<extra></extra>",
         "legendgroup": "Greater India",
         "marker": {
          "color": "lightgrey"
         },
         "name": "Without Comments",
         "showlegend": false,
         "type": "bar",
         "x": [
          "Greater India"
         ],
         "xaxis": "x2",
         "y": [
          33.84
         ],
         "yaxis": "y2"
        },
        {
         "customdata": [
          632
         ],
         "hovertemplate": "Zone: %{x}<br>Total Number of Rows: %{customdata}<extra></extra>",
         "legendgroup": "Iberia",
         "marker": {
          "color": "lightgrey"
         },
         "name": "Without Comments",
         "showlegend": false,
         "type": "bar",
         "x": [
          "Iberia"
         ],
         "xaxis": "x2",
         "y": [
          40.66
         ],
         "yaxis": "y2"
        },
        {
         "customdata": [
          1566
         ],
         "hovertemplate": "Zone: %{x}<br>Total Number of Rows: %{customdata}<extra></extra>",
         "legendgroup": "Italy",
         "marker": {
          "color": "lightgrey"
         },
         "name": "Without Comments",
         "showlegend": false,
         "type": "bar",
         "x": [
          "Italy"
         ],
         "xaxis": "x2",
         "y": [
          43.68
         ],
         "yaxis": "y2"
        },
        {
         "customdata": [
          22
         ],
         "hovertemplate": "Zone: %{x}<br>Total Number of Rows: %{customdata}<extra></extra>",
         "legendgroup": "Mexico & Central America",
         "marker": {
          "color": "lightgrey"
         },
         "name": "Without Comments",
         "showlegend": false,
         "type": "bar",
         "x": [
          "Mexico & Central America"
         ],
         "xaxis": "x2",
         "y": [
          72.73
         ],
         "yaxis": "y2"
        },
        {
         "customdata": [
          425
         ],
         "hovertemplate": "Zone: %{x}<br>Total Number of Rows: %{customdata}<extra></extra>",
         "legendgroup": "Middle East and Africa",
         "marker": {
          "color": "lightgrey"
         },
         "name": "Without Comments",
         "showlegend": false,
         "type": "bar",
         "x": [
          "Middle East and Africa"
         ],
         "xaxis": "x2",
         "y": [
          40.71
         ],
         "yaxis": "y2"
        },
        {
         "customdata": [
          390
         ],
         "hovertemplate": "Zone: %{x}<br>Total Number of Rows: %{customdata}<extra></extra>",
         "legendgroup": "Nordic & Baltics",
         "marker": {
          "color": "lightgrey"
         },
         "name": "Without Comments",
         "showlegend": false,
         "type": "bar",
         "x": [
          "Nordic & Baltics"
         ],
         "xaxis": "x2",
         "y": [
          30.769999999999996
         ],
         "yaxis": "y2"
        },
        {
         "customdata": [
          245
         ],
         "hovertemplate": "Zone: %{x}<br>Total Number of Rows: %{customdata}<extra></extra>",
         "legendgroup": "Pacific",
         "marker": {
          "color": "lightgrey"
         },
         "name": "Without Comments",
         "showlegend": false,
         "type": "bar",
         "x": [
          "Pacific"
         ],
         "xaxis": "x2",
         "y": [
          22.450000000000003
         ],
         "yaxis": "y2"
        },
        {
         "customdata": [
          167
         ],
         "hovertemplate": "Zone: %{x}<br>Total Number of Rows: %{customdata}<extra></extra>",
         "legendgroup": "SE Global",
         "marker": {
          "color": "lightgrey"
         },
         "name": "Without Comments",
         "showlegend": false,
         "type": "bar",
         "x": [
          "SE Global"
         ],
         "xaxis": "x2",
         "y": [
          100
         ],
         "yaxis": "y2"
        },
        {
         "customdata": [
          644
         ],
         "hovertemplate": "Zone: %{x}<br>Total Number of Rows: %{customdata}<extra></extra>",
         "legendgroup": "South America",
         "marker": {
          "color": "lightgrey"
         },
         "name": "Without Comments",
         "showlegend": false,
         "type": "bar",
         "x": [
          "South America"
         ],
         "xaxis": "x2",
         "y": [
          32.45
         ],
         "yaxis": "y2"
        },
        {
         "customdata": [
          181
         ],
         "hovertemplate": "Zone: %{x}<br>Total Number of Rows: %{customdata}<extra></extra>",
         "legendgroup": "UK and Ireland",
         "marker": {
          "color": "lightgrey"
         },
         "name": "Without Comments",
         "showlegend": false,
         "type": "bar",
         "x": [
          "UK and Ireland"
         ],
         "xaxis": "x2",
         "y": [
          28.730000000000004
         ],
         "yaxis": "y2"
        },
        {
         "customdata": [
          618
         ],
         "hovertemplate": "Zone: %{x}<br>Total Number of Rows: %{customdata}<extra></extra>",
         "legendgroup": "US",
         "marker": {
          "color": "lightgrey"
         },
         "name": "Without Comments",
         "showlegend": false,
         "type": "bar",
         "x": [
          "US"
         ],
         "xaxis": "x2",
         "y": [
          40.61
         ],
         "yaxis": "y2"
        },
        {
         "customdata": [
          255
         ],
         "hovertemplate": "Zone: %{x}<br>Number of Comments: %{customdata}<extra></extra>",
         "legendgroup": "BeNe",
         "marker": {
          "color": "#636EFA"
         },
         "name": "BeNe",
         "showlegend": false,
         "text": "80.4%",
         "textposition": "auto",
         "type": "bar",
         "x": [
          "BeNe"
         ],
         "xaxis": "x3",
         "y": [
          80.44
         ],
         "yaxis": "y3"
        },
        {
         "customdata": [
          264
         ],
         "hovertemplate": "Zone: %{x}<br>Number of Comments: %{customdata}<extra></extra>",
         "legendgroup": "CEEI",
         "marker": {
          "color": "#EF553B"
         },
         "name": "CEEI",
         "showlegend": false,
         "text": "58.4%",
         "textposition": "auto",
         "type": "bar",
         "x": [
          "CEEI"
         ],
         "xaxis": "x3",
         "y": [
          58.41
         ],
         "yaxis": "y3"
        },
        {
         "customdata": [
          141
         ],
         "hovertemplate": "Zone: %{x}<br>Number of Comments: %{customdata}<extra></extra>",
         "legendgroup": "Canada",
         "marker": {
          "color": "#00CC96"
         },
         "name": "Canada",
         "showlegend": false,
         "text": "67.5%",
         "textposition": "auto",
         "type": "bar",
         "x": [
          "Canada"
         ],
         "xaxis": "x3",
         "y": [
          67.46
         ],
         "yaxis": "y3"
        },
        {
         "customdata": [
          381
         ],
         "hovertemplate": "Zone: %{x}<br>Number of Comments: %{customdata}<extra></extra>",
         "legendgroup": "China & HK",
         "marker": {
          "color": "#AB63FA"
         },
         "name": "China & HK",
         "showlegend": false,
         "text": "42.6%",
         "textposition": "auto",
         "type": "bar",
         "x": [
          "China & HK"
         ],
         "xaxis": "x3",
         "y": [
          42.57
         ],
         "yaxis": "y3"
        },
        {
         "customdata": [
          884
         ],
         "hovertemplate": "Zone: %{x}<br>Number of Comments: %{customdata}<extra></extra>",
         "legendgroup": "DACH",
         "marker": {
          "color": "#FFA15A"
         },
         "name": "DACH",
         "showlegend": false,
         "text": "60.3%",
         "textposition": "auto",
         "type": "bar",
         "x": [
          "DACH"
         ],
         "xaxis": "x3",
         "y": [
          60.3
         ],
         "yaxis": "y3"
        },
        {
         "customdata": [
          846
         ],
         "hovertemplate": "Zone: %{x}<br>Number of Comments: %{customdata}<extra></extra>",
         "legendgroup": "East Asia Japan",
         "marker": {
          "color": "#19D3F3"
         },
         "name": "East Asia Japan",
         "showlegend": false,
         "text": "72.8%",
         "textposition": "auto",
         "type": "bar",
         "x": [
          "East Asia Japan"
         ],
         "xaxis": "x3",
         "y": [
          72.81
         ],
         "yaxis": "y3"
        },
        {
         "customdata": [
          412
         ],
         "hovertemplate": "Zone: %{x}<br>Number of Comments: %{customdata}<extra></extra>",
         "legendgroup": "France",
         "marker": {
          "color": "#FF6692"
         },
         "name": "France",
         "showlegend": false,
         "text": "59.3%",
         "textposition": "auto",
         "type": "bar",
         "x": [
          "France"
         ],
         "xaxis": "x3",
         "y": [
          59.28
         ],
         "yaxis": "y3"
        },
        {
         "customdata": [
          236
         ],
         "hovertemplate": "Zone: %{x}<br>Number of Comments: %{customdata}<extra></extra>",
         "legendgroup": "Greater India",
         "marker": {
          "color": "#B6E880"
         },
         "name": "Greater India",
         "showlegend": false,
         "text": "66.9%",
         "textposition": "auto",
         "type": "bar",
         "x": [
          "Greater India"
         ],
         "xaxis": "x3",
         "y": [
          66.86
         ],
         "yaxis": "y3"
        },
        {
         "customdata": [
          383
         ],
         "hovertemplate": "Zone: %{x}<br>Number of Comments: %{customdata}<extra></extra>",
         "legendgroup": "Iberia",
         "marker": {
          "color": "#FF97FF"
         },
         "name": "Iberia",
         "showlegend": false,
         "text": "55.0%",
         "textposition": "auto",
         "type": "bar",
         "x": [
          "Iberia"
         ],
         "xaxis": "x3",
         "y": [
          55.03
         ],
         "yaxis": "y3"
        },
        {
         "customdata": [
          951
         ],
         "hovertemplate": "Zone: %{x}<br>Number of Comments: %{customdata}<extra></extra>",
         "legendgroup": "Italy",
         "marker": {
          "color": "#FECB52"
         },
         "name": "Italy",
         "showlegend": false,
         "text": "56.2%",
         "textposition": "auto",
         "type": "bar",
         "x": [
          "Italy"
         ],
         "xaxis": "x3",
         "y": [
          56.17
         ],
         "yaxis": "y3"
        },
        {
         "customdata": [
          4
         ],
         "hovertemplate": "Zone: %{x}<br>Number of Comments: %{customdata}<extra></extra>",
         "legendgroup": "Mexico & Central America",
         "marker": {
          "color": "#E763FA"
         },
         "name": "Mexico & Central America",
         "showlegend": false,
         "text": "21.1%",
         "textposition": "auto",
         "type": "bar",
         "x": [
          "Mexico & Central America"
         ],
         "xaxis": "x3",
         "y": [
          21.05
         ],
         "yaxis": "y3"
        },
        {
         "customdata": [
          264
         ],
         "hovertemplate": "Zone: %{x}<br>Number of Comments: %{customdata}<extra></extra>",
         "legendgroup": "Middle East and Africa",
         "marker": {
          "color": "#BA68C8"
         },
         "name": "Middle East and Africa",
         "showlegend": false,
         "text": "53.7%",
         "textposition": "auto",
         "type": "bar",
         "x": [
          "Middle East and Africa"
         ],
         "xaxis": "x3",
         "y": [
          53.66
         ],
         "yaxis": "y3"
        },
        {
         "customdata": [
          354
         ],
         "hovertemplate": "Zone: %{x}<br>Number of Comments: %{customdata}<extra></extra>",
         "legendgroup": "Nordic & Baltics",
         "marker": {
          "color": "#FFA000"
         },
         "name": "Nordic & Baltics",
         "showlegend": false,
         "text": "73.1%",
         "textposition": "auto",
         "type": "bar",
         "x": [
          "Nordic & Baltics"
         ],
         "xaxis": "x3",
         "y": [
          73.14
         ],
         "yaxis": "y3"
        },
        {
         "customdata": [
          203
         ],
         "hovertemplate": "Zone: %{x}<br>Number of Comments: %{customdata}<extra></extra>",
         "legendgroup": "Pacific",
         "marker": {
          "color": "#F06292"
         },
         "name": "Pacific",
         "showlegend": false,
         "text": "78.4%",
         "textposition": "auto",
         "type": "bar",
         "x": [
          "Pacific"
         ],
         "xaxis": "x3",
         "y": [
          78.38
         ],
         "yaxis": "y3"
        },
        {
         "customdata": [
          0
         ],
         "hovertemplate": "Zone: %{x}<br>Number of Comments: %{customdata}<extra></extra>",
         "legendgroup": "SE Global",
         "marker": {
          "color": "#7986CB"
         },
         "name": "SE Global",
         "showlegend": false,
         "text": "0.0%",
         "textposition": "auto",
         "type": "bar",
         "x": [
          "SE Global"
         ],
         "xaxis": "x3",
         "y": [
          0
         ],
         "yaxis": "y3"
        },
        {
         "customdata": [
          450
         ],
         "hovertemplate": "Zone: %{x}<br>Number of Comments: %{customdata}<extra></extra>",
         "legendgroup": "South America",
         "marker": {
          "color": "#4DB6AC"
         },
         "name": "South America",
         "showlegend": false,
         "text": "64.1%",
         "textposition": "auto",
         "type": "bar",
         "x": [
          "South America"
         ],
         "xaxis": "x3",
         "y": [
          64.1
         ],
         "yaxis": "y3"
        },
        {
         "customdata": [
          138
         ],
         "hovertemplate": "Zone: %{x}<br>Number of Comments: %{customdata}<extra></extra>",
         "legendgroup": "UK and Ireland",
         "marker": {
          "color": "#FF8A65"
         },
         "name": "UK and Ireland",
         "showlegend": false,
         "text": "70.8%",
         "textposition": "auto",
         "type": "bar",
         "x": [
          "UK and Ireland"
         ],
         "xaxis": "x3",
         "y": [
          70.77
         ],
         "yaxis": "y3"
        },
        {
         "customdata": [
          425
         ],
         "hovertemplate": "Zone: %{x}<br>Number of Comments: %{customdata}<extra></extra>",
         "legendgroup": "US",
         "marker": {
          "color": "#A1887F"
         },
         "name": "US",
         "showlegend": false,
         "text": "57.1%",
         "textposition": "auto",
         "type": "bar",
         "x": [
          "US"
         ],
         "xaxis": "x3",
         "y": [
          57.12
         ],
         "yaxis": "y3"
        },
        {
         "customdata": [
          317
         ],
         "hovertemplate": "Zone: %{x}<br>Total Number of Rows: %{customdata}<extra></extra>",
         "legendgroup": "BeNe",
         "marker": {
          "color": "lightgrey"
         },
         "name": "Without Comments",
         "showlegend": false,
         "type": "bar",
         "x": [
          "BeNe"
         ],
         "xaxis": "x3",
         "y": [
          19.560000000000002
         ],
         "yaxis": "y3"
        },
        {
         "customdata": [
          452
         ],
         "hovertemplate": "Zone: %{x}<br>Total Number of Rows: %{customdata}<extra></extra>",
         "legendgroup": "CEEI",
         "marker": {
          "color": "lightgrey"
         },
         "name": "Without Comments",
         "showlegend": false,
         "type": "bar",
         "x": [
          "CEEI"
         ],
         "xaxis": "x3",
         "y": [
          41.59
         ],
         "yaxis": "y3"
        },
        {
         "customdata": [
          209
         ],
         "hovertemplate": "Zone: %{x}<br>Total Number of Rows: %{customdata}<extra></extra>",
         "legendgroup": "Canada",
         "marker": {
          "color": "lightgrey"
         },
         "name": "Without Comments",
         "showlegend": false,
         "type": "bar",
         "x": [
          "Canada"
         ],
         "xaxis": "x3",
         "y": [
          32.540000000000006
         ],
         "yaxis": "y3"
        },
        {
         "customdata": [
          895
         ],
         "hovertemplate": "Zone: %{x}<br>Total Number of Rows: %{customdata}<extra></extra>",
         "legendgroup": "China & HK",
         "marker": {
          "color": "lightgrey"
         },
         "name": "Without Comments",
         "showlegend": false,
         "type": "bar",
         "x": [
          "China & HK"
         ],
         "xaxis": "x3",
         "y": [
          57.43
         ],
         "yaxis": "y3"
        },
        {
         "customdata": [
          1466
         ],
         "hovertemplate": "Zone: %{x}<br>Total Number of Rows: %{customdata}<extra></extra>",
         "legendgroup": "DACH",
         "marker": {
          "color": "lightgrey"
         },
         "name": "Without Comments",
         "showlegend": false,
         "type": "bar",
         "x": [
          "DACH"
         ],
         "xaxis": "x3",
         "y": [
          39.7
         ],
         "yaxis": "y3"
        },
        {
         "customdata": [
          1162
         ],
         "hovertemplate": "Zone: %{x}<br>Total Number of Rows: %{customdata}<extra></extra>",
         "legendgroup": "East Asia Japan",
         "marker": {
          "color": "lightgrey"
         },
         "name": "Without Comments",
         "showlegend": false,
         "type": "bar",
         "x": [
          "East Asia Japan"
         ],
         "xaxis": "x3",
         "y": [
          27.189999999999998
         ],
         "yaxis": "y3"
        },
        {
         "customdata": [
          695
         ],
         "hovertemplate": "Zone: %{x}<br>Total Number of Rows: %{customdata}<extra></extra>",
         "legendgroup": "France",
         "marker": {
          "color": "lightgrey"
         },
         "name": "Without Comments",
         "showlegend": false,
         "type": "bar",
         "x": [
          "France"
         ],
         "xaxis": "x3",
         "y": [
          40.72
         ],
         "yaxis": "y3"
        },
        {
         "customdata": [
          353
         ],
         "hovertemplate": "Zone: %{x}<br>Total Number of Rows: %{customdata}<extra></extra>",
         "legendgroup": "Greater India",
         "marker": {
          "color": "lightgrey"
         },
         "name": "Without Comments",
         "showlegend": false,
         "type": "bar",
         "x": [
          "Greater India"
         ],
         "xaxis": "x3",
         "y": [
          33.14
         ],
         "yaxis": "y3"
        },
        {
         "customdata": [
          696
         ],
         "hovertemplate": "Zone: %{x}<br>Total Number of Rows: %{customdata}<extra></extra>",
         "legendgroup": "Iberia",
         "marker": {
          "color": "lightgrey"
         },
         "name": "Without Comments",
         "showlegend": false,
         "type": "bar",
         "x": [
          "Iberia"
         ],
         "xaxis": "x3",
         "y": [
          44.97
         ],
         "yaxis": "y3"
        },
        {
         "customdata": [
          1693
         ],
         "hovertemplate": "Zone: %{x}<br>Total Number of Rows: %{customdata}<extra></extra>",
         "legendgroup": "Italy",
         "marker": {
          "color": "lightgrey"
         },
         "name": "Without Comments",
         "showlegend": false,
         "type": "bar",
         "x": [
          "Italy"
         ],
         "xaxis": "x3",
         "y": [
          43.83
         ],
         "yaxis": "y3"
        },
        {
         "customdata": [
          19
         ],
         "hovertemplate": "Zone: %{x}<br>Total Number of Rows: %{customdata}<extra></extra>",
         "legendgroup": "Mexico & Central America",
         "marker": {
          "color": "lightgrey"
         },
         "name": "Without Comments",
         "showlegend": false,
         "type": "bar",
         "x": [
          "Mexico & Central America"
         ],
         "xaxis": "x3",
         "y": [
          78.95
         ],
         "yaxis": "y3"
        },
        {
         "customdata": [
          492
         ],
         "hovertemplate": "Zone: %{x}<br>Total Number of Rows: %{customdata}<extra></extra>",
         "legendgroup": "Middle East and Africa",
         "marker": {
          "color": "lightgrey"
         },
         "name": "Without Comments",
         "showlegend": false,
         "type": "bar",
         "x": [
          "Middle East and Africa"
         ],
         "xaxis": "x3",
         "y": [
          46.34
         ],
         "yaxis": "y3"
        },
        {
         "customdata": [
          484
         ],
         "hovertemplate": "Zone: %{x}<br>Total Number of Rows: %{customdata}<extra></extra>",
         "legendgroup": "Nordic & Baltics",
         "marker": {
          "color": "lightgrey"
         },
         "name": "Without Comments",
         "showlegend": false,
         "type": "bar",
         "x": [
          "Nordic & Baltics"
         ],
         "xaxis": "x3",
         "y": [
          26.86
         ],
         "yaxis": "y3"
        },
        {
         "customdata": [
          259
         ],
         "hovertemplate": "Zone: %{x}<br>Total Number of Rows: %{customdata}<extra></extra>",
         "legendgroup": "Pacific",
         "marker": {
          "color": "lightgrey"
         },
         "name": "Without Comments",
         "showlegend": false,
         "type": "bar",
         "x": [
          "Pacific"
         ],
         "xaxis": "x3",
         "y": [
          21.620000000000005
         ],
         "yaxis": "y3"
        },
        {
         "customdata": [
          119
         ],
         "hovertemplate": "Zone: %{x}<br>Total Number of Rows: %{customdata}<extra></extra>",
         "legendgroup": "SE Global",
         "marker": {
          "color": "lightgrey"
         },
         "name": "Without Comments",
         "showlegend": false,
         "type": "bar",
         "x": [
          "SE Global"
         ],
         "xaxis": "x3",
         "y": [
          100
         ],
         "yaxis": "y3"
        },
        {
         "customdata": [
          702
         ],
         "hovertemplate": "Zone: %{x}<br>Total Number of Rows: %{customdata}<extra></extra>",
         "legendgroup": "South America",
         "marker": {
          "color": "lightgrey"
         },
         "name": "Without Comments",
         "showlegend": false,
         "type": "bar",
         "x": [
          "South America"
         ],
         "xaxis": "x3",
         "y": [
          35.900000000000006
         ],
         "yaxis": "y3"
        },
        {
         "customdata": [
          195
         ],
         "hovertemplate": "Zone: %{x}<br>Total Number of Rows: %{customdata}<extra></extra>",
         "legendgroup": "UK and Ireland",
         "marker": {
          "color": "lightgrey"
         },
         "name": "Without Comments",
         "showlegend": false,
         "type": "bar",
         "x": [
          "UK and Ireland"
         ],
         "xaxis": "x3",
         "y": [
          29.230000000000004
         ],
         "yaxis": "y3"
        },
        {
         "customdata": [
          744
         ],
         "hovertemplate": "Zone: %{x}<br>Total Number of Rows: %{customdata}<extra></extra>",
         "legendgroup": "US",
         "marker": {
          "color": "lightgrey"
         },
         "name": "Without Comments",
         "showlegend": false,
         "type": "bar",
         "x": [
          "US"
         ],
         "xaxis": "x3",
         "y": [
          42.88
         ],
         "yaxis": "y3"
        },
        {
         "customdata": [
          211
         ],
         "hovertemplate": "Zone: %{x}<br>Number of Comments: %{customdata}<extra></extra>",
         "legendgroup": "BeNe",
         "marker": {
          "color": "#636EFA"
         },
         "name": "BeNe",
         "showlegend": false,
         "text": "73.8%",
         "textposition": "auto",
         "type": "bar",
         "x": [
          "BeNe"
         ],
         "xaxis": "x4",
         "y": [
          73.78
         ],
         "yaxis": "y4"
        },
        {
         "customdata": [
          263
         ],
         "hovertemplate": "Zone: %{x}<br>Number of Comments: %{customdata}<extra></extra>",
         "legendgroup": "CEEI",
         "marker": {
          "color": "#EF553B"
         },
         "name": "CEEI",
         "showlegend": false,
         "text": "56.4%",
         "textposition": "auto",
         "type": "bar",
         "x": [
          "CEEI"
         ],
         "xaxis": "x4",
         "y": [
          56.44
         ],
         "yaxis": "y4"
        },
        {
         "customdata": [
          116
         ],
         "hovertemplate": "Zone: %{x}<br>Number of Comments: %{customdata}<extra></extra>",
         "legendgroup": "Canada",
         "marker": {
          "color": "#00CC96"
         },
         "name": "Canada",
         "showlegend": false,
         "text": "60.1%",
         "textposition": "auto",
         "type": "bar",
         "x": [
          "Canada"
         ],
         "xaxis": "x4",
         "y": [
          60.1
         ],
         "yaxis": "y4"
        },
        {
         "customdata": [
          343
         ],
         "hovertemplate": "Zone: %{x}<br>Number of Comments: %{customdata}<extra></extra>",
         "legendgroup": "China & HK",
         "marker": {
          "color": "#AB63FA"
         },
         "name": "China & HK",
         "showlegend": false,
         "text": "53.9%",
         "textposition": "auto",
         "type": "bar",
         "x": [
          "China & HK"
         ],
         "xaxis": "x4",
         "y": [
          53.85
         ],
         "yaxis": "y4"
        },
        {
         "customdata": [
          849
         ],
         "hovertemplate": "Zone: %{x}<br>Number of Comments: %{customdata}<extra></extra>",
         "legendgroup": "DACH",
         "marker": {
          "color": "#FFA15A"
         },
         "name": "DACH",
         "showlegend": false,
         "text": "60.2%",
         "textposition": "auto",
         "type": "bar",
         "x": [
          "DACH"
         ],
         "xaxis": "x4",
         "y": [
          60.17
         ],
         "yaxis": "y4"
        },
        {
         "customdata": [
          730
         ],
         "hovertemplate": "Zone: %{x}<br>Number of Comments: %{customdata}<extra></extra>",
         "legendgroup": "East Asia Japan",
         "marker": {
          "color": "#19D3F3"
         },
         "name": "East Asia Japan",
         "showlegend": false,
         "text": "77.0%",
         "textposition": "auto",
         "type": "bar",
         "x": [
          "East Asia Japan"
         ],
         "xaxis": "x4",
         "y": [
          77
         ],
         "yaxis": "y4"
        },
        {
         "customdata": [
          323
         ],
         "hovertemplate": "Zone: %{x}<br>Number of Comments: %{customdata}<extra></extra>",
         "legendgroup": "France",
         "marker": {
          "color": "#FF6692"
         },
         "name": "France",
         "showlegend": false,
         "text": "48.7%",
         "textposition": "auto",
         "type": "bar",
         "x": [
          "France"
         ],
         "xaxis": "x4",
         "y": [
          48.72
         ],
         "yaxis": "y4"
        },
        {
         "customdata": [
          214
         ],
         "hovertemplate": "Zone: %{x}<br>Number of Comments: %{customdata}<extra></extra>",
         "legendgroup": "Greater India",
         "marker": {
          "color": "#B6E880"
         },
         "name": "Greater India",
         "showlegend": false,
         "text": "65.2%",
         "textposition": "auto",
         "type": "bar",
         "x": [
          "Greater India"
         ],
         "xaxis": "x4",
         "y": [
          65.24
         ],
         "yaxis": "y4"
        },
        {
         "customdata": [
          384
         ],
         "hovertemplate": "Zone: %{x}<br>Number of Comments: %{customdata}<extra></extra>",
         "legendgroup": "Iberia",
         "marker": {
          "color": "#FF97FF"
         },
         "name": "Iberia",
         "showlegend": false,
         "text": "51.3%",
         "textposition": "auto",
         "type": "bar",
         "x": [
          "Iberia"
         ],
         "xaxis": "x4",
         "y": [
          51.27
         ],
         "yaxis": "y4"
        },
        {
         "customdata": [
          917
         ],
         "hovertemplate": "Zone: %{x}<br>Number of Comments: %{customdata}<extra></extra>",
         "legendgroup": "Italy",
         "marker": {
          "color": "#FECB52"
         },
         "name": "Italy",
         "showlegend": false,
         "text": "55.2%",
         "textposition": "auto",
         "type": "bar",
         "x": [
          "Italy"
         ],
         "xaxis": "x4",
         "y": [
          55.17
         ],
         "yaxis": "y4"
        },
        {
         "customdata": [
          3
         ],
         "hovertemplate": "Zone: %{x}<br>Number of Comments: %{customdata}<extra></extra>",
         "legendgroup": "Mexico & Central America",
         "marker": {
          "color": "#E763FA"
         },
         "name": "Mexico & Central America",
         "showlegend": false,
         "text": "8.1%",
         "textposition": "auto",
         "type": "bar",
         "x": [
          "Mexico & Central America"
         ],
         "xaxis": "x4",
         "y": [
          8.11
         ],
         "yaxis": "y4"
        },
        {
         "customdata": [
          212
         ],
         "hovertemplate": "Zone: %{x}<br>Number of Comments: %{customdata}<extra></extra>",
         "legendgroup": "Middle East and Africa",
         "marker": {
          "color": "#BA68C8"
         },
         "name": "Middle East and Africa",
         "showlegend": false,
         "text": "56.1%",
         "textposition": "auto",
         "type": "bar",
         "x": [
          "Middle East and Africa"
         ],
         "xaxis": "x4",
         "y": [
          56.08
         ],
         "yaxis": "y4"
        },
        {
         "customdata": [
          346
         ],
         "hovertemplate": "Zone: %{x}<br>Number of Comments: %{customdata}<extra></extra>",
         "legendgroup": "Nordic & Baltics",
         "marker": {
          "color": "#FFA000"
         },
         "name": "Nordic & Baltics",
         "showlegend": false,
         "text": "60.0%",
         "textposition": "auto",
         "type": "bar",
         "x": [
          "Nordic & Baltics"
         ],
         "xaxis": "x4",
         "y": [
          59.97
         ],
         "yaxis": "y4"
        },
        {
         "customdata": [
          175
         ],
         "hovertemplate": "Zone: %{x}<br>Number of Comments: %{customdata}<extra></extra>",
         "legendgroup": "Pacific",
         "marker": {
          "color": "#F06292"
         },
         "name": "Pacific",
         "showlegend": false,
         "text": "79.2%",
         "textposition": "auto",
         "type": "bar",
         "x": [
          "Pacific"
         ],
         "xaxis": "x4",
         "y": [
          79.19
         ],
         "yaxis": "y4"
        },
        {
         "customdata": [
          0
         ],
         "hovertemplate": "Zone: %{x}<br>Number of Comments: %{customdata}<extra></extra>",
         "legendgroup": "SE Global",
         "marker": {
          "color": "#7986CB"
         },
         "name": "SE Global",
         "showlegend": false,
         "text": "0.0%",
         "textposition": "auto",
         "type": "bar",
         "x": [
          "SE Global"
         ],
         "xaxis": "x4",
         "y": [
          0
         ],
         "yaxis": "y4"
        },
        {
         "customdata": [
          342
         ],
         "hovertemplate": "Zone: %{x}<br>Number of Comments: %{customdata}<extra></extra>",
         "legendgroup": "South America",
         "marker": {
          "color": "#4DB6AC"
         },
         "name": "South America",
         "showlegend": false,
         "text": "49.6%",
         "textposition": "auto",
         "type": "bar",
         "x": [
          "South America"
         ],
         "xaxis": "x4",
         "y": [
          49.57
         ],
         "yaxis": "y4"
        },
        {
         "customdata": [
          127
         ],
         "hovertemplate": "Zone: %{x}<br>Number of Comments: %{customdata}<extra></extra>",
         "legendgroup": "UK and Ireland",
         "marker": {
          "color": "#FF8A65"
         },
         "name": "UK and Ireland",
         "showlegend": false,
         "text": "65.8%",
         "textposition": "auto",
         "type": "bar",
         "x": [
          "UK and Ireland"
         ],
         "xaxis": "x4",
         "y": [
          65.8
         ],
         "yaxis": "y4"
        },
        {
         "customdata": [
          419
         ],
         "hovertemplate": "Zone: %{x}<br>Number of Comments: %{customdata}<extra></extra>",
         "legendgroup": "US",
         "marker": {
          "color": "#A1887F"
         },
         "name": "US",
         "showlegend": false,
         "text": "56.2%",
         "textposition": "auto",
         "type": "bar",
         "x": [
          "US"
         ],
         "xaxis": "x4",
         "y": [
          56.24
         ],
         "yaxis": "y4"
        },
        {
         "customdata": [
          286
         ],
         "hovertemplate": "Zone: %{x}<br>Total Number of Rows: %{customdata}<extra></extra>",
         "legendgroup": "BeNe",
         "marker": {
          "color": "lightgrey"
         },
         "name": "Without Comments",
         "showlegend": false,
         "type": "bar",
         "x": [
          "BeNe"
         ],
         "xaxis": "x4",
         "y": [
          26.22
         ],
         "yaxis": "y4"
        },
        {
         "customdata": [
          466
         ],
         "hovertemplate": "Zone: %{x}<br>Total Number of Rows: %{customdata}<extra></extra>",
         "legendgroup": "CEEI",
         "marker": {
          "color": "lightgrey"
         },
         "name": "Without Comments",
         "showlegend": false,
         "type": "bar",
         "x": [
          "CEEI"
         ],
         "xaxis": "x4",
         "y": [
          43.56
         ],
         "yaxis": "y4"
        },
        {
         "customdata": [
          193
         ],
         "hovertemplate": "Zone: %{x}<br>Total Number of Rows: %{customdata}<extra></extra>",
         "legendgroup": "Canada",
         "marker": {
          "color": "lightgrey"
         },
         "name": "Without Comments",
         "showlegend": false,
         "type": "bar",
         "x": [
          "Canada"
         ],
         "xaxis": "x4",
         "y": [
          39.9
         ],
         "yaxis": "y4"
        },
        {
         "customdata": [
          637
         ],
         "hovertemplate": "Zone: %{x}<br>Total Number of Rows: %{customdata}<extra></extra>",
         "legendgroup": "China & HK",
         "marker": {
          "color": "lightgrey"
         },
         "name": "Without Comments",
         "showlegend": false,
         "type": "bar",
         "x": [
          "China & HK"
         ],
         "xaxis": "x4",
         "y": [
          46.15
         ],
         "yaxis": "y4"
        },
        {
         "customdata": [
          1411
         ],
         "hovertemplate": "Zone: %{x}<br>Total Number of Rows: %{customdata}<extra></extra>",
         "legendgroup": "DACH",
         "marker": {
          "color": "lightgrey"
         },
         "name": "Without Comments",
         "showlegend": false,
         "type": "bar",
         "x": [
          "DACH"
         ],
         "xaxis": "x4",
         "y": [
          39.83
         ],
         "yaxis": "y4"
        },
        {
         "customdata": [
          948
         ],
         "hovertemplate": "Zone: %{x}<br>Total Number of Rows: %{customdata}<extra></extra>",
         "legendgroup": "East Asia Japan",
         "marker": {
          "color": "lightgrey"
         },
         "name": "Without Comments",
         "showlegend": false,
         "type": "bar",
         "x": [
          "East Asia Japan"
         ],
         "xaxis": "x4",
         "y": [
          23
         ],
         "yaxis": "y4"
        },
        {
         "customdata": [
          663
         ],
         "hovertemplate": "Zone: %{x}<br>Total Number of Rows: %{customdata}<extra></extra>",
         "legendgroup": "France",
         "marker": {
          "color": "lightgrey"
         },
         "name": "Without Comments",
         "showlegend": false,
         "type": "bar",
         "x": [
          "France"
         ],
         "xaxis": "x4",
         "y": [
          51.28
         ],
         "yaxis": "y4"
        },
        {
         "customdata": [
          328
         ],
         "hovertemplate": "Zone: %{x}<br>Total Number of Rows: %{customdata}<extra></extra>",
         "legendgroup": "Greater India",
         "marker": {
          "color": "lightgrey"
         },
         "name": "Without Comments",
         "showlegend": false,
         "type": "bar",
         "x": [
          "Greater India"
         ],
         "xaxis": "x4",
         "y": [
          34.760000000000005
         ],
         "yaxis": "y4"
        },
        {
         "customdata": [
          749
         ],
         "hovertemplate": "Zone: %{x}<br>Total Number of Rows: %{customdata}<extra></extra>",
         "legendgroup": "Iberia",
         "marker": {
          "color": "lightgrey"
         },
         "name": "Without Comments",
         "showlegend": false,
         "type": "bar",
         "x": [
          "Iberia"
         ],
         "xaxis": "x4",
         "y": [
          48.73
         ],
         "yaxis": "y4"
        },
        {
         "customdata": [
          1662
         ],
         "hovertemplate": "Zone: %{x}<br>Total Number of Rows: %{customdata}<extra></extra>",
         "legendgroup": "Italy",
         "marker": {
          "color": "lightgrey"
         },
         "name": "Without Comments",
         "showlegend": false,
         "type": "bar",
         "x": [
          "Italy"
         ],
         "xaxis": "x4",
         "y": [
          44.83
         ],
         "yaxis": "y4"
        },
        {
         "customdata": [
          37
         ],
         "hovertemplate": "Zone: %{x}<br>Total Number of Rows: %{customdata}<extra></extra>",
         "legendgroup": "Mexico & Central America",
         "marker": {
          "color": "lightgrey"
         },
         "name": "Without Comments",
         "showlegend": false,
         "type": "bar",
         "x": [
          "Mexico & Central America"
         ],
         "xaxis": "x4",
         "y": [
          91.89
         ],
         "yaxis": "y4"
        },
        {
         "customdata": [
          378
         ],
         "hovertemplate": "Zone: %{x}<br>Total Number of Rows: %{customdata}<extra></extra>",
         "legendgroup": "Middle East and Africa",
         "marker": {
          "color": "lightgrey"
         },
         "name": "Without Comments",
         "showlegend": false,
         "type": "bar",
         "x": [
          "Middle East and Africa"
         ],
         "xaxis": "x4",
         "y": [
          43.92
         ],
         "yaxis": "y4"
        },
        {
         "customdata": [
          577
         ],
         "hovertemplate": "Zone: %{x}<br>Total Number of Rows: %{customdata}<extra></extra>",
         "legendgroup": "Nordic & Baltics",
         "marker": {
          "color": "lightgrey"
         },
         "name": "Without Comments",
         "showlegend": false,
         "type": "bar",
         "x": [
          "Nordic & Baltics"
         ],
         "xaxis": "x4",
         "y": [
          40.03
         ],
         "yaxis": "y4"
        },
        {
         "customdata": [
          221
         ],
         "hovertemplate": "Zone: %{x}<br>Total Number of Rows: %{customdata}<extra></extra>",
         "legendgroup": "Pacific",
         "marker": {
          "color": "lightgrey"
         },
         "name": "Without Comments",
         "showlegend": false,
         "type": "bar",
         "x": [
          "Pacific"
         ],
         "xaxis": "x4",
         "y": [
          20.810000000000002
         ],
         "yaxis": "y4"
        },
        {
         "customdata": [
          250
         ],
         "hovertemplate": "Zone: %{x}<br>Total Number of Rows: %{customdata}<extra></extra>",
         "legendgroup": "SE Global",
         "marker": {
          "color": "lightgrey"
         },
         "name": "Without Comments",
         "showlegend": false,
         "type": "bar",
         "x": [
          "SE Global"
         ],
         "xaxis": "x4",
         "y": [
          100
         ],
         "yaxis": "y4"
        },
        {
         "customdata": [
          690
         ],
         "hovertemplate": "Zone: %{x}<br>Total Number of Rows: %{customdata}<extra></extra>",
         "legendgroup": "South America",
         "marker": {
          "color": "lightgrey"
         },
         "name": "Without Comments",
         "showlegend": false,
         "type": "bar",
         "x": [
          "South America"
         ],
         "xaxis": "x4",
         "y": [
          50.43
         ],
         "yaxis": "y4"
        },
        {
         "customdata": [
          193
         ],
         "hovertemplate": "Zone: %{x}<br>Total Number of Rows: %{customdata}<extra></extra>",
         "legendgroup": "UK and Ireland",
         "marker": {
          "color": "lightgrey"
         },
         "name": "Without Comments",
         "showlegend": false,
         "type": "bar",
         "x": [
          "UK and Ireland"
         ],
         "xaxis": "x4",
         "y": [
          34.2
         ],
         "yaxis": "y4"
        },
        {
         "customdata": [
          745
         ],
         "hovertemplate": "Zone: %{x}<br>Total Number of Rows: %{customdata}<extra></extra>",
         "legendgroup": "US",
         "marker": {
          "color": "lightgrey"
         },
         "name": "Without Comments",
         "showlegend": false,
         "type": "bar",
         "x": [
          "US"
         ],
         "xaxis": "x4",
         "y": [
          43.76
         ],
         "yaxis": "y4"
        },
        {
         "customdata": [
          303
         ],
         "hovertemplate": "Zone: %{x}<br>Number of Comments: %{customdata}<extra></extra>",
         "legendgroup": "BeNe",
         "marker": {
          "color": "#636EFA"
         },
         "name": "BeNe",
         "showlegend": false,
         "text": "77.9%",
         "textposition": "auto",
         "type": "bar",
         "x": [
          "BeNe"
         ],
         "xaxis": "x5",
         "y": [
          77.89
         ],
         "yaxis": "y5"
        },
        {
         "customdata": [
          435
         ],
         "hovertemplate": "Zone: %{x}<br>Number of Comments: %{customdata}<extra></extra>",
         "legendgroup": "CEEI",
         "marker": {
          "color": "#EF553B"
         },
         "name": "CEEI",
         "showlegend": false,
         "text": "67.4%",
         "textposition": "auto",
         "type": "bar",
         "x": [
          "CEEI"
         ],
         "xaxis": "x5",
         "y": [
          67.44
         ],
         "yaxis": "y5"
        },
        {
         "customdata": [
          228
         ],
         "hovertemplate": "Zone: %{x}<br>Number of Comments: %{customdata}<extra></extra>",
         "legendgroup": "Canada",
         "marker": {
          "color": "#00CC96"
         },
         "name": "Canada",
         "showlegend": false,
         "text": "80.6%",
         "textposition": "auto",
         "type": "bar",
         "x": [
          "Canada"
         ],
         "xaxis": "x5",
         "y": [
          80.57
         ],
         "yaxis": "y5"
        },
        {
         "customdata": [
          416
         ],
         "hovertemplate": "Zone: %{x}<br>Number of Comments: %{customdata}<extra></extra>",
         "legendgroup": "China & HK",
         "marker": {
          "color": "#AB63FA"
         },
         "name": "China & HK",
         "showlegend": false,
         "text": "68.4%",
         "textposition": "auto",
         "type": "bar",
         "x": [
          "China & HK"
         ],
         "xaxis": "x5",
         "y": [
          68.42
         ],
         "yaxis": "y5"
        },
        {
         "customdata": [
          902
         ],
         "hovertemplate": "Zone: %{x}<br>Number of Comments: %{customdata}<extra></extra>",
         "legendgroup": "DACH",
         "marker": {
          "color": "#FFA15A"
         },
         "name": "DACH",
         "showlegend": false,
         "text": "70.5%",
         "textposition": "auto",
         "type": "bar",
         "x": [
          "DACH"
         ],
         "xaxis": "x5",
         "y": [
          70.52
         ],
         "yaxis": "y5"
        },
        {
         "customdata": [
          991
         ],
         "hovertemplate": "Zone: %{x}<br>Number of Comments: %{customdata}<extra></extra>",
         "legendgroup": "East Asia Japan",
         "marker": {
          "color": "#19D3F3"
         },
         "name": "East Asia Japan",
         "showlegend": false,
         "text": "83.3%",
         "textposition": "auto",
         "type": "bar",
         "x": [
          "East Asia Japan"
         ],
         "xaxis": "x5",
         "y": [
          83.35
         ],
         "yaxis": "y5"
        },
        {
         "customdata": [
          453
         ],
         "hovertemplate": "Zone: %{x}<br>Number of Comments: %{customdata}<extra></extra>",
         "legendgroup": "France",
         "marker": {
          "color": "#FF6692"
         },
         "name": "France",
         "showlegend": false,
         "text": "61.4%",
         "textposition": "auto",
         "type": "bar",
         "x": [
          "France"
         ],
         "xaxis": "x5",
         "y": [
          61.38
         ],
         "yaxis": "y5"
        },
        {
         "customdata": [
          245
         ],
         "hovertemplate": "Zone: %{x}<br>Number of Comments: %{customdata}<extra></extra>",
         "legendgroup": "Greater India",
         "marker": {
          "color": "#B6E880"
         },
         "name": "Greater India",
         "showlegend": false,
         "text": "79.3%",
         "textposition": "auto",
         "type": "bar",
         "x": [
          "Greater India"
         ],
         "xaxis": "x5",
         "y": [
          79.29
         ],
         "yaxis": "y5"
        },
        {
         "customdata": [
          503
         ],
         "hovertemplate": "Zone: %{x}<br>Number of Comments: %{customdata}<extra></extra>",
         "legendgroup": "Iberia",
         "marker": {
          "color": "#FF97FF"
         },
         "name": "Iberia",
         "showlegend": false,
         "text": "63.3%",
         "textposition": "auto",
         "type": "bar",
         "x": [
          "Iberia"
         ],
         "xaxis": "x5",
         "y": [
          63.27
         ],
         "yaxis": "y5"
        },
        {
         "customdata": [
          1020
         ],
         "hovertemplate": "Zone: %{x}<br>Number of Comments: %{customdata}<extra></extra>",
         "legendgroup": "Italy",
         "marker": {
          "color": "#FECB52"
         },
         "name": "Italy",
         "showlegend": false,
         "text": "57.8%",
         "textposition": "auto",
         "type": "bar",
         "x": [
          "Italy"
         ],
         "xaxis": "x5",
         "y": [
          57.82
         ],
         "yaxis": "y5"
        },
        {
         "customdata": [
          4
         ],
         "hovertemplate": "Zone: %{x}<br>Number of Comments: %{customdata}<extra></extra>",
         "legendgroup": "Mexico & Central America",
         "marker": {
          "color": "#E763FA"
         },
         "name": "Mexico & Central America",
         "showlegend": false,
         "text": "21.1%",
         "textposition": "auto",
         "type": "bar",
         "x": [
          "Mexico & Central America"
         ],
         "xaxis": "x5",
         "y": [
          21.05
         ],
         "yaxis": "y5"
        },
        {
         "customdata": [
          298
         ],
         "hovertemplate": "Zone: %{x}<br>Number of Comments: %{customdata}<extra></extra>",
         "legendgroup": "Middle East and Africa",
         "marker": {
          "color": "#BA68C8"
         },
         "name": "Middle East and Africa",
         "showlegend": false,
         "text": "67.6%",
         "textposition": "auto",
         "type": "bar",
         "x": [
          "Middle East and Africa"
         ],
         "xaxis": "x5",
         "y": [
          67.57
         ],
         "yaxis": "y5"
        },
        {
         "customdata": [
          492
         ],
         "hovertemplate": "Zone: %{x}<br>Number of Comments: %{customdata}<extra></extra>",
         "legendgroup": "Nordic & Baltics",
         "marker": {
          "color": "#FFA000"
         },
         "name": "Nordic & Baltics",
         "showlegend": false,
         "text": "68.5%",
         "textposition": "auto",
         "type": "bar",
         "x": [
          "Nordic & Baltics"
         ],
         "xaxis": "x5",
         "y": [
          68.52
         ],
         "yaxis": "y5"
        },
        {
         "customdata": [
          258
         ],
         "hovertemplate": "Zone: %{x}<br>Number of Comments: %{customdata}<extra></extra>",
         "legendgroup": "Pacific",
         "marker": {
          "color": "#F06292"
         },
         "name": "Pacific",
         "showlegend": false,
         "text": "81.4%",
         "textposition": "auto",
         "type": "bar",
         "x": [
          "Pacific"
         ],
         "xaxis": "x5",
         "y": [
          81.39
         ],
         "yaxis": "y5"
        },
        {
         "customdata": [
          0
         ],
         "hovertemplate": "Zone: %{x}<br>Number of Comments: %{customdata}<extra></extra>",
         "legendgroup": "SE Global",
         "marker": {
          "color": "#7986CB"
         },
         "name": "SE Global",
         "showlegend": false,
         "text": "0.0%",
         "textposition": "auto",
         "type": "bar",
         "x": [
          "SE Global"
         ],
         "xaxis": "x5",
         "y": [
          0
         ],
         "yaxis": "y5"
        },
        {
         "customdata": [
          511
         ],
         "hovertemplate": "Zone: %{x}<br>Number of Comments: %{customdata}<extra></extra>",
         "legendgroup": "South America",
         "marker": {
          "color": "#4DB6AC"
         },
         "name": "South America",
         "showlegend": false,
         "text": "67.1%",
         "textposition": "auto",
         "type": "bar",
         "x": [
          "South America"
         ],
         "xaxis": "x5",
         "y": [
          67.06
         ],
         "yaxis": "y5"
        },
        {
         "customdata": [
          188
         ],
         "hovertemplate": "Zone: %{x}<br>Number of Comments: %{customdata}<extra></extra>",
         "legendgroup": "UK and Ireland",
         "marker": {
          "color": "#FF8A65"
         },
         "name": "UK and Ireland",
         "showlegend": false,
         "text": "78.3%",
         "textposition": "auto",
         "type": "bar",
         "x": [
          "UK and Ireland"
         ],
         "xaxis": "x5",
         "y": [
          78.33
         ],
         "yaxis": "y5"
        },
        {
         "customdata": [
          504
         ],
         "hovertemplate": "Zone: %{x}<br>Number of Comments: %{customdata}<extra></extra>",
         "legendgroup": "US",
         "marker": {
          "color": "#A1887F"
         },
         "name": "US",
         "showlegend": false,
         "text": "66.9%",
         "textposition": "auto",
         "type": "bar",
         "x": [
          "US"
         ],
         "xaxis": "x5",
         "y": [
          66.93
         ],
         "yaxis": "y5"
        },
        {
         "customdata": [
          389
         ],
         "hovertemplate": "Zone: %{x}<br>Total Number of Rows: %{customdata}<extra></extra>",
         "legendgroup": "BeNe",
         "marker": {
          "color": "lightgrey"
         },
         "name": "Without Comments",
         "showlegend": false,
         "type": "bar",
         "x": [
          "BeNe"
         ],
         "xaxis": "x5",
         "y": [
          22.11
         ],
         "yaxis": "y5"
        },
        {
         "customdata": [
          645
         ],
         "hovertemplate": "Zone: %{x}<br>Total Number of Rows: %{customdata}<extra></extra>",
         "legendgroup": "CEEI",
         "marker": {
          "color": "lightgrey"
         },
         "name": "Without Comments",
         "showlegend": false,
         "type": "bar",
         "x": [
          "CEEI"
         ],
         "xaxis": "x5",
         "y": [
          32.56
         ],
         "yaxis": "y5"
        },
        {
         "customdata": [
          283
         ],
         "hovertemplate": "Zone: %{x}<br>Total Number of Rows: %{customdata}<extra></extra>",
         "legendgroup": "Canada",
         "marker": {
          "color": "lightgrey"
         },
         "name": "Without Comments",
         "showlegend": false,
         "type": "bar",
         "x": [
          "Canada"
         ],
         "xaxis": "x5",
         "y": [
          19.430000000000007
         ],
         "yaxis": "y5"
        },
        {
         "customdata": [
          608
         ],
         "hovertemplate": "Zone: %{x}<br>Total Number of Rows: %{customdata}<extra></extra>",
         "legendgroup": "China & HK",
         "marker": {
          "color": "lightgrey"
         },
         "name": "Without Comments",
         "showlegend": false,
         "type": "bar",
         "x": [
          "China & HK"
         ],
         "xaxis": "x5",
         "y": [
          31.58
         ],
         "yaxis": "y5"
        },
        {
         "customdata": [
          1279
         ],
         "hovertemplate": "Zone: %{x}<br>Total Number of Rows: %{customdata}<extra></extra>",
         "legendgroup": "DACH",
         "marker": {
          "color": "lightgrey"
         },
         "name": "Without Comments",
         "showlegend": false,
         "type": "bar",
         "x": [
          "DACH"
         ],
         "xaxis": "x5",
         "y": [
          29.480000000000004
         ],
         "yaxis": "y5"
        },
        {
         "customdata": [
          1189
         ],
         "hovertemplate": "Zone: %{x}<br>Total Number of Rows: %{customdata}<extra></extra>",
         "legendgroup": "East Asia Japan",
         "marker": {
          "color": "lightgrey"
         },
         "name": "Without Comments",
         "showlegend": false,
         "type": "bar",
         "x": [
          "East Asia Japan"
         ],
         "xaxis": "x5",
         "y": [
          16.650000000000006
         ],
         "yaxis": "y5"
        },
        {
         "customdata": [
          738
         ],
         "hovertemplate": "Zone: %{x}<br>Total Number of Rows: %{customdata}<extra></extra>",
         "legendgroup": "France",
         "marker": {
          "color": "lightgrey"
         },
         "name": "Without Comments",
         "showlegend": false,
         "type": "bar",
         "x": [
          "France"
         ],
         "xaxis": "x5",
         "y": [
          38.62
         ],
         "yaxis": "y5"
        },
        {
         "customdata": [
          309
         ],
         "hovertemplate": "Zone: %{x}<br>Total Number of Rows: %{customdata}<extra></extra>",
         "legendgroup": "Greater India",
         "marker": {
          "color": "lightgrey"
         },
         "name": "Without Comments",
         "showlegend": false,
         "type": "bar",
         "x": [
          "Greater India"
         ],
         "xaxis": "x5",
         "y": [
          20.709999999999994
         ],
         "yaxis": "y5"
        },
        {
         "customdata": [
          795
         ],
         "hovertemplate": "Zone: %{x}<br>Total Number of Rows: %{customdata}<extra></extra>",
         "legendgroup": "Iberia",
         "marker": {
          "color": "lightgrey"
         },
         "name": "Without Comments",
         "showlegend": false,
         "type": "bar",
         "x": [
          "Iberia"
         ],
         "xaxis": "x5",
         "y": [
          36.73
         ],
         "yaxis": "y5"
        },
        {
         "customdata": [
          1764
         ],
         "hovertemplate": "Zone: %{x}<br>Total Number of Rows: %{customdata}<extra></extra>",
         "legendgroup": "Italy",
         "marker": {
          "color": "lightgrey"
         },
         "name": "Without Comments",
         "showlegend": false,
         "type": "bar",
         "x": [
          "Italy"
         ],
         "xaxis": "x5",
         "y": [
          42.18
         ],
         "yaxis": "y5"
        },
        {
         "customdata": [
          19
         ],
         "hovertemplate": "Zone: %{x}<br>Total Number of Rows: %{customdata}<extra></extra>",
         "legendgroup": "Mexico & Central America",
         "marker": {
          "color": "lightgrey"
         },
         "name": "Without Comments",
         "showlegend": false,
         "type": "bar",
         "x": [
          "Mexico & Central America"
         ],
         "xaxis": "x5",
         "y": [
          78.95
         ],
         "yaxis": "y5"
        },
        {
         "customdata": [
          441
         ],
         "hovertemplate": "Zone: %{x}<br>Total Number of Rows: %{customdata}<extra></extra>",
         "legendgroup": "Middle East and Africa",
         "marker": {
          "color": "lightgrey"
         },
         "name": "Without Comments",
         "showlegend": false,
         "type": "bar",
         "x": [
          "Middle East and Africa"
         ],
         "xaxis": "x5",
         "y": [
          32.43000000000001
         ],
         "yaxis": "y5"
        },
        {
         "customdata": [
          718
         ],
         "hovertemplate": "Zone: %{x}<br>Total Number of Rows: %{customdata}<extra></extra>",
         "legendgroup": "Nordic & Baltics",
         "marker": {
          "color": "lightgrey"
         },
         "name": "Without Comments",
         "showlegend": false,
         "type": "bar",
         "x": [
          "Nordic & Baltics"
         ],
         "xaxis": "x5",
         "y": [
          31.480000000000004
         ],
         "yaxis": "y5"
        },
        {
         "customdata": [
          317
         ],
         "hovertemplate": "Zone: %{x}<br>Total Number of Rows: %{customdata}<extra></extra>",
         "legendgroup": "Pacific",
         "marker": {
          "color": "lightgrey"
         },
         "name": "Without Comments",
         "showlegend": false,
         "type": "bar",
         "x": [
          "Pacific"
         ],
         "xaxis": "x5",
         "y": [
          18.61
         ],
         "yaxis": "y5"
        },
        {
         "customdata": [
          144
         ],
         "hovertemplate": "Zone: %{x}<br>Total Number of Rows: %{customdata}<extra></extra>",
         "legendgroup": "SE Global",
         "marker": {
          "color": "lightgrey"
         },
         "name": "Without Comments",
         "showlegend": false,
         "type": "bar",
         "x": [
          "SE Global"
         ],
         "xaxis": "x5",
         "y": [
          100
         ],
         "yaxis": "y5"
        },
        {
         "customdata": [
          762
         ],
         "hovertemplate": "Zone: %{x}<br>Total Number of Rows: %{customdata}<extra></extra>",
         "legendgroup": "South America",
         "marker": {
          "color": "lightgrey"
         },
         "name": "Without Comments",
         "showlegend": false,
         "type": "bar",
         "x": [
          "South America"
         ],
         "xaxis": "x5",
         "y": [
          32.94
         ],
         "yaxis": "y5"
        },
        {
         "customdata": [
          240
         ],
         "hovertemplate": "Zone: %{x}<br>Total Number of Rows: %{customdata}<extra></extra>",
         "legendgroup": "UK and Ireland",
         "marker": {
          "color": "lightgrey"
         },
         "name": "Without Comments",
         "showlegend": false,
         "type": "bar",
         "x": [
          "UK and Ireland"
         ],
         "xaxis": "x5",
         "y": [
          21.67
         ],
         "yaxis": "y5"
        },
        {
         "customdata": [
          753
         ],
         "hovertemplate": "Zone: %{x}<br>Total Number of Rows: %{customdata}<extra></extra>",
         "legendgroup": "US",
         "marker": {
          "color": "lightgrey"
         },
         "name": "Without Comments",
         "showlegend": false,
         "type": "bar",
         "x": [
          "US"
         ],
         "xaxis": "x5",
         "y": [
          33.06999999999999
         ],
         "yaxis": "y5"
        },
        {
         "customdata": [
          563
         ],
         "hovertemplate": "Zone: %{x}<br>Number of Comments: %{customdata}<extra></extra>",
         "legendgroup": "BeNe",
         "marker": {
          "color": "#636EFA"
         },
         "name": "BeNe",
         "showlegend": false,
         "text": "93.7%",
         "textposition": "auto",
         "type": "bar",
         "x": [
          "BeNe"
         ],
         "xaxis": "x6",
         "y": [
          93.68
         ],
         "yaxis": "y6"
        },
        {
         "customdata": [
          754
         ],
         "hovertemplate": "Zone: %{x}<br>Number of Comments: %{customdata}<extra></extra>",
         "legendgroup": "CEEI",
         "marker": {
          "color": "#EF553B"
         },
         "name": "CEEI",
         "showlegend": false,
         "text": "85.0%",
         "textposition": "auto",
         "type": "bar",
         "x": [
          "CEEI"
         ],
         "xaxis": "x6",
         "y": [
          85.01
         ],
         "yaxis": "y6"
        },
        {
         "customdata": [
          299
         ],
         "hovertemplate": "Zone: %{x}<br>Number of Comments: %{customdata}<extra></extra>",
         "legendgroup": "Canada",
         "marker": {
          "color": "#00CC96"
         },
         "name": "Canada",
         "showlegend": false,
         "text": "95.2%",
         "textposition": "auto",
         "type": "bar",
         "x": [
          "Canada"
         ],
         "xaxis": "x6",
         "y": [
          95.22
         ],
         "yaxis": "y6"
        },
        {
         "customdata": [
          362
         ],
         "hovertemplate": "Zone: %{x}<br>Number of Comments: %{customdata}<extra></extra>",
         "legendgroup": "China & HK",
         "marker": {
          "color": "#AB63FA"
         },
         "name": "China & HK",
         "showlegend": false,
         "text": "89.4%",
         "textposition": "auto",
         "type": "bar",
         "x": [
          "China & HK"
         ],
         "xaxis": "x6",
         "y": [
          89.38
         ],
         "yaxis": "y6"
        },
        {
         "customdata": [
          831
         ],
         "hovertemplate": "Zone: %{x}<br>Number of Comments: %{customdata}<extra></extra>",
         "legendgroup": "DACH",
         "marker": {
          "color": "#FFA15A"
         },
         "name": "DACH",
         "showlegend": false,
         "text": "90.4%",
         "textposition": "auto",
         "type": "bar",
         "x": [
          "DACH"
         ],
         "xaxis": "x6",
         "y": [
          90.42
         ],
         "yaxis": "y6"
        },
        {
         "customdata": [
          951
         ],
         "hovertemplate": "Zone: %{x}<br>Number of Comments: %{customdata}<extra></extra>",
         "legendgroup": "East Asia Japan",
         "marker": {
          "color": "#19D3F3"
         },
         "name": "East Asia Japan",
         "showlegend": false,
         "text": "80.8%",
         "textposition": "auto",
         "type": "bar",
         "x": [
          "East Asia Japan"
         ],
         "xaxis": "x6",
         "y": [
          80.8
         ],
         "yaxis": "y6"
        },
        {
         "customdata": [
          291
         ],
         "hovertemplate": "Zone: %{x}<br>Number of Comments: %{customdata}<extra></extra>",
         "legendgroup": "France",
         "marker": {
          "color": "#FF6692"
         },
         "name": "France",
         "showlegend": false,
         "text": "82.0%",
         "textposition": "auto",
         "type": "bar",
         "x": [
          "France"
         ],
         "xaxis": "x6",
         "y": [
          81.97
         ],
         "yaxis": "y6"
        },
        {
         "customdata": [
          356
         ],
         "hovertemplate": "Zone: %{x}<br>Number of Comments: %{customdata}<extra></extra>",
         "legendgroup": "Greater India",
         "marker": {
          "color": "#B6E880"
         },
         "name": "Greater India",
         "showlegend": false,
         "text": "96.2%",
         "textposition": "auto",
         "type": "bar",
         "x": [
          "Greater India"
         ],
         "xaxis": "x6",
         "y": [
          96.22
         ],
         "yaxis": "y6"
        },
        {
         "customdata": [
          499
         ],
         "hovertemplate": "Zone: %{x}<br>Number of Comments: %{customdata}<extra></extra>",
         "legendgroup": "Iberia",
         "marker": {
          "color": "#FF97FF"
         },
         "name": "Iberia",
         "showlegend": false,
         "text": "63.7%",
         "textposition": "auto",
         "type": "bar",
         "x": [
          "Iberia"
         ],
         "xaxis": "x6",
         "y": [
          63.73
         ],
         "yaxis": "y6"
        },
        {
         "customdata": [
          261
         ],
         "hovertemplate": "Zone: %{x}<br>Number of Comments: %{customdata}<extra></extra>",
         "legendgroup": "Italy",
         "marker": {
          "color": "#FECB52"
         },
         "name": "Italy",
         "showlegend": false,
         "text": "59.5%",
         "textposition": "auto",
         "type": "bar",
         "x": [
          "Italy"
         ],
         "xaxis": "x6",
         "y": [
          59.45
         ],
         "yaxis": "y6"
        },
        {
         "customdata": [
          324
         ],
         "hovertemplate": "Zone: %{x}<br>Number of Comments: %{customdata}<extra></extra>",
         "legendgroup": "Middle East and Africa",
         "marker": {
          "color": "#E763FA"
         },
         "name": "Middle East and Africa",
         "showlegend": false,
         "text": "80.2%",
         "textposition": "auto",
         "type": "bar",
         "x": [
          "Middle East and Africa"
         ],
         "xaxis": "x6",
         "y": [
          80.2
         ],
         "yaxis": "y6"
        },
        {
         "customdata": [
          717
         ],
         "hovertemplate": "Zone: %{x}<br>Number of Comments: %{customdata}<extra></extra>",
         "legendgroup": "Nordic & Baltics",
         "marker": {
          "color": "#BA68C8"
         },
         "name": "Nordic & Baltics",
         "showlegend": false,
         "text": "90.4%",
         "textposition": "auto",
         "type": "bar",
         "x": [
          "Nordic & Baltics"
         ],
         "xaxis": "x6",
         "y": [
          90.42
         ],
         "yaxis": "y6"
        },
        {
         "customdata": [
          369
         ],
         "hovertemplate": "Zone: %{x}<br>Number of Comments: %{customdata}<extra></extra>",
         "legendgroup": "Pacific",
         "marker": {
          "color": "#FFA000"
         },
         "name": "Pacific",
         "showlegend": false,
         "text": "94.1%",
         "textposition": "auto",
         "type": "bar",
         "x": [
          "Pacific"
         ],
         "xaxis": "x6",
         "y": [
          94.13
         ],
         "yaxis": "y6"
        },
        {
         "customdata": [
          386
         ],
         "hovertemplate": "Zone: %{x}<br>Number of Comments: %{customdata}<extra></extra>",
         "legendgroup": "South America",
         "marker": {
          "color": "#F06292"
         },
         "name": "South America",
         "showlegend": false,
         "text": "74.4%",
         "textposition": "auto",
         "type": "bar",
         "x": [
          "South America"
         ],
         "xaxis": "x6",
         "y": [
          74.37
         ],
         "yaxis": "y6"
        },
        {
         "customdata": [
          297
         ],
         "hovertemplate": "Zone: %{x}<br>Number of Comments: %{customdata}<extra></extra>",
         "legendgroup": "UK and Ireland",
         "marker": {
          "color": "#7986CB"
         },
         "name": "UK and Ireland",
         "showlegend": false,
         "text": "94.3%",
         "textposition": "auto",
         "type": "bar",
         "x": [
          "UK and Ireland"
         ],
         "xaxis": "x6",
         "y": [
          94.29
         ],
         "yaxis": "y6"
        },
        {
         "customdata": [
          572
         ],
         "hovertemplate": "Zone: %{x}<br>Number of Comments: %{customdata}<extra></extra>",
         "legendgroup": "US",
         "marker": {
          "color": "#4DB6AC"
         },
         "name": "US",
         "showlegend": false,
         "text": "95.2%",
         "textposition": "auto",
         "type": "bar",
         "x": [
          "US"
         ],
         "xaxis": "x6",
         "y": [
          95.17
         ],
         "yaxis": "y6"
        },
        {
         "customdata": [
          601
         ],
         "hovertemplate": "Zone: %{x}<br>Total Number of Rows: %{customdata}<extra></extra>",
         "legendgroup": "BeNe",
         "marker": {
          "color": "lightgrey"
         },
         "name": "Without Comments",
         "showlegend": false,
         "type": "bar",
         "x": [
          "BeNe"
         ],
         "xaxis": "x6",
         "y": [
          6.319999999999993
         ],
         "yaxis": "y6"
        },
        {
         "customdata": [
          887
         ],
         "hovertemplate": "Zone: %{x}<br>Total Number of Rows: %{customdata}<extra></extra>",
         "legendgroup": "CEEI",
         "marker": {
          "color": "lightgrey"
         },
         "name": "Without Comments",
         "showlegend": false,
         "type": "bar",
         "x": [
          "CEEI"
         ],
         "xaxis": "x6",
         "y": [
          14.989999999999995
         ],
         "yaxis": "y6"
        },
        {
         "customdata": [
          314
         ],
         "hovertemplate": "Zone: %{x}<br>Total Number of Rows: %{customdata}<extra></extra>",
         "legendgroup": "Canada",
         "marker": {
          "color": "lightgrey"
         },
         "name": "Without Comments",
         "showlegend": false,
         "type": "bar",
         "x": [
          "Canada"
         ],
         "xaxis": "x6",
         "y": [
          4.780000000000001
         ],
         "yaxis": "y6"
        },
        {
         "customdata": [
          405
         ],
         "hovertemplate": "Zone: %{x}<br>Total Number of Rows: %{customdata}<extra></extra>",
         "legendgroup": "China & HK",
         "marker": {
          "color": "lightgrey"
         },
         "name": "Without Comments",
         "showlegend": false,
         "type": "bar",
         "x": [
          "China & HK"
         ],
         "xaxis": "x6",
         "y": [
          10.620000000000005
         ],
         "yaxis": "y6"
        },
        {
         "customdata": [
          919
         ],
         "hovertemplate": "Zone: %{x}<br>Total Number of Rows: %{customdata}<extra></extra>",
         "legendgroup": "DACH",
         "marker": {
          "color": "lightgrey"
         },
         "name": "Without Comments",
         "showlegend": false,
         "type": "bar",
         "x": [
          "DACH"
         ],
         "xaxis": "x6",
         "y": [
          9.579999999999998
         ],
         "yaxis": "y6"
        },
        {
         "customdata": [
          1177
         ],
         "hovertemplate": "Zone: %{x}<br>Total Number of Rows: %{customdata}<extra></extra>",
         "legendgroup": "East Asia Japan",
         "marker": {
          "color": "lightgrey"
         },
         "name": "Without Comments",
         "showlegend": false,
         "type": "bar",
         "x": [
          "East Asia Japan"
         ],
         "xaxis": "x6",
         "y": [
          19.200000000000003
         ],
         "yaxis": "y6"
        },
        {
         "customdata": [
          355
         ],
         "hovertemplate": "Zone: %{x}<br>Total Number of Rows: %{customdata}<extra></extra>",
         "legendgroup": "France",
         "marker": {
          "color": "lightgrey"
         },
         "name": "Without Comments",
         "showlegend": false,
         "type": "bar",
         "x": [
          "France"
         ],
         "xaxis": "x6",
         "y": [
          18.03
         ],
         "yaxis": "y6"
        },
        {
         "customdata": [
          370
         ],
         "hovertemplate": "Zone: %{x}<br>Total Number of Rows: %{customdata}<extra></extra>",
         "legendgroup": "Greater India",
         "marker": {
          "color": "lightgrey"
         },
         "name": "Without Comments",
         "showlegend": false,
         "type": "bar",
         "x": [
          "Greater India"
         ],
         "xaxis": "x6",
         "y": [
          3.780000000000001
         ],
         "yaxis": "y6"
        },
        {
         "customdata": [
          783
         ],
         "hovertemplate": "Zone: %{x}<br>Total Number of Rows: %{customdata}<extra></extra>",
         "legendgroup": "Iberia",
         "marker": {
          "color": "lightgrey"
         },
         "name": "Without Comments",
         "showlegend": false,
         "type": "bar",
         "x": [
          "Iberia"
         ],
         "xaxis": "x6",
         "y": [
          36.27
         ],
         "yaxis": "y6"
        },
        {
         "customdata": [
          439
         ],
         "hovertemplate": "Zone: %{x}<br>Total Number of Rows: %{customdata}<extra></extra>",
         "legendgroup": "Italy",
         "marker": {
          "color": "lightgrey"
         },
         "name": "Without Comments",
         "showlegend": false,
         "type": "bar",
         "x": [
          "Italy"
         ],
         "xaxis": "x6",
         "y": [
          40.55
         ],
         "yaxis": "y6"
        },
        {
         "customdata": [
          404
         ],
         "hovertemplate": "Zone: %{x}<br>Total Number of Rows: %{customdata}<extra></extra>",
         "legendgroup": "Middle East and Africa",
         "marker": {
          "color": "lightgrey"
         },
         "name": "Without Comments",
         "showlegend": false,
         "type": "bar",
         "x": [
          "Middle East and Africa"
         ],
         "xaxis": "x6",
         "y": [
          19.799999999999997
         ],
         "yaxis": "y6"
        },
        {
         "customdata": [
          793
         ],
         "hovertemplate": "Zone: %{x}<br>Total Number of Rows: %{customdata}<extra></extra>",
         "legendgroup": "Nordic & Baltics",
         "marker": {
          "color": "lightgrey"
         },
         "name": "Without Comments",
         "showlegend": false,
         "type": "bar",
         "x": [
          "Nordic & Baltics"
         ],
         "xaxis": "x6",
         "y": [
          9.579999999999998
         ],
         "yaxis": "y6"
        },
        {
         "customdata": [
          392
         ],
         "hovertemplate": "Zone: %{x}<br>Total Number of Rows: %{customdata}<extra></extra>",
         "legendgroup": "Pacific",
         "marker": {
          "color": "lightgrey"
         },
         "name": "Without Comments",
         "showlegend": false,
         "type": "bar",
         "x": [
          "Pacific"
         ],
         "xaxis": "x6",
         "y": [
          5.8700000000000045
         ],
         "yaxis": "y6"
        },
        {
         "customdata": [
          519
         ],
         "hovertemplate": "Zone: %{x}<br>Total Number of Rows: %{customdata}<extra></extra>",
         "legendgroup": "South America",
         "marker": {
          "color": "lightgrey"
         },
         "name": "Without Comments",
         "showlegend": false,
         "type": "bar",
         "x": [
          "South America"
         ],
         "xaxis": "x6",
         "y": [
          25.629999999999995
         ],
         "yaxis": "y6"
        },
        {
         "customdata": [
          315
         ],
         "hovertemplate": "Zone: %{x}<br>Total Number of Rows: %{customdata}<extra></extra>",
         "legendgroup": "UK and Ireland",
         "marker": {
          "color": "lightgrey"
         },
         "name": "Without Comments",
         "showlegend": false,
         "type": "bar",
         "x": [
          "UK and Ireland"
         ],
         "xaxis": "x6",
         "y": [
          5.709999999999994
         ],
         "yaxis": "y6"
        },
        {
         "customdata": [
          601
         ],
         "hovertemplate": "Zone: %{x}<br>Total Number of Rows: %{customdata}<extra></extra>",
         "legendgroup": "US",
         "marker": {
          "color": "lightgrey"
         },
         "name": "Without Comments",
         "showlegend": false,
         "type": "bar",
         "x": [
          "US"
         ],
         "xaxis": "x6",
         "y": [
          4.829999999999998
         ],
         "yaxis": "y6"
        }
       ],
       "layout": {
        "barmode": "stack",
        "height": 2400,
        "showlegend": true,
        "template": {
         "data": {
          "bar": [
           {
            "error_x": {
             "color": "#2a3f5f"
            },
            "error_y": {
             "color": "#2a3f5f"
            },
            "marker": {
             "line": {
              "color": "#E5ECF6",
              "width": 0.5
             },
             "pattern": {
              "fillmode": "overlay",
              "size": 10,
              "solidity": 0.2
             }
            },
            "type": "bar"
           }
          ],
          "barpolar": [
           {
            "marker": {
             "line": {
              "color": "#E5ECF6",
              "width": 0.5
             },
             "pattern": {
              "fillmode": "overlay",
              "size": 10,
              "solidity": 0.2
             }
            },
            "type": "barpolar"
           }
          ],
          "carpet": [
           {
            "aaxis": {
             "endlinecolor": "#2a3f5f",
             "gridcolor": "white",
             "linecolor": "white",
             "minorgridcolor": "white",
             "startlinecolor": "#2a3f5f"
            },
            "baxis": {
             "endlinecolor": "#2a3f5f",
             "gridcolor": "white",
             "linecolor": "white",
             "minorgridcolor": "white",
             "startlinecolor": "#2a3f5f"
            },
            "type": "carpet"
           }
          ],
          "choropleth": [
           {
            "colorbar": {
             "outlinewidth": 0,
             "ticks": ""
            },
            "type": "choropleth"
           }
          ],
          "contour": [
           {
            "colorbar": {
             "outlinewidth": 0,
             "ticks": ""
            },
            "colorscale": [
             [
              0,
              "#0d0887"
             ],
             [
              0.1111111111111111,
              "#46039f"
             ],
             [
              0.2222222222222222,
              "#7201a8"
             ],
             [
              0.3333333333333333,
              "#9c179e"
             ],
             [
              0.4444444444444444,
              "#bd3786"
             ],
             [
              0.5555555555555556,
              "#d8576b"
             ],
             [
              0.6666666666666666,
              "#ed7953"
             ],
             [
              0.7777777777777778,
              "#fb9f3a"
             ],
             [
              0.8888888888888888,
              "#fdca26"
             ],
             [
              1,
              "#f0f921"
             ]
            ],
            "type": "contour"
           }
          ],
          "contourcarpet": [
           {
            "colorbar": {
             "outlinewidth": 0,
             "ticks": ""
            },
            "type": "contourcarpet"
           }
          ],
          "heatmap": [
           {
            "colorbar": {
             "outlinewidth": 0,
             "ticks": ""
            },
            "colorscale": [
             [
              0,
              "#0d0887"
             ],
             [
              0.1111111111111111,
              "#46039f"
             ],
             [
              0.2222222222222222,
              "#7201a8"
             ],
             [
              0.3333333333333333,
              "#9c179e"
             ],
             [
              0.4444444444444444,
              "#bd3786"
             ],
             [
              0.5555555555555556,
              "#d8576b"
             ],
             [
              0.6666666666666666,
              "#ed7953"
             ],
             [
              0.7777777777777778,
              "#fb9f3a"
             ],
             [
              0.8888888888888888,
              "#fdca26"
             ],
             [
              1,
              "#f0f921"
             ]
            ],
            "type": "heatmap"
           }
          ],
          "heatmapgl": [
           {
            "colorbar": {
             "outlinewidth": 0,
             "ticks": ""
            },
            "colorscale": [
             [
              0,
              "#0d0887"
             ],
             [
              0.1111111111111111,
              "#46039f"
             ],
             [
              0.2222222222222222,
              "#7201a8"
             ],
             [
              0.3333333333333333,
              "#9c179e"
             ],
             [
              0.4444444444444444,
              "#bd3786"
             ],
             [
              0.5555555555555556,
              "#d8576b"
             ],
             [
              0.6666666666666666,
              "#ed7953"
             ],
             [
              0.7777777777777778,
              "#fb9f3a"
             ],
             [
              0.8888888888888888,
              "#fdca26"
             ],
             [
              1,
              "#f0f921"
             ]
            ],
            "type": "heatmapgl"
           }
          ],
          "histogram": [
           {
            "marker": {
             "pattern": {
              "fillmode": "overlay",
              "size": 10,
              "solidity": 0.2
             }
            },
            "type": "histogram"
           }
          ],
          "histogram2d": [
           {
            "colorbar": {
             "outlinewidth": 0,
             "ticks": ""
            },
            "colorscale": [
             [
              0,
              "#0d0887"
             ],
             [
              0.1111111111111111,
              "#46039f"
             ],
             [
              0.2222222222222222,
              "#7201a8"
             ],
             [
              0.3333333333333333,
              "#9c179e"
             ],
             [
              0.4444444444444444,
              "#bd3786"
             ],
             [
              0.5555555555555556,
              "#d8576b"
             ],
             [
              0.6666666666666666,
              "#ed7953"
             ],
             [
              0.7777777777777778,
              "#fb9f3a"
             ],
             [
              0.8888888888888888,
              "#fdca26"
             ],
             [
              1,
              "#f0f921"
             ]
            ],
            "type": "histogram2d"
           }
          ],
          "histogram2dcontour": [
           {
            "colorbar": {
             "outlinewidth": 0,
             "ticks": ""
            },
            "colorscale": [
             [
              0,
              "#0d0887"
             ],
             [
              0.1111111111111111,
              "#46039f"
             ],
             [
              0.2222222222222222,
              "#7201a8"
             ],
             [
              0.3333333333333333,
              "#9c179e"
             ],
             [
              0.4444444444444444,
              "#bd3786"
             ],
             [
              0.5555555555555556,
              "#d8576b"
             ],
             [
              0.6666666666666666,
              "#ed7953"
             ],
             [
              0.7777777777777778,
              "#fb9f3a"
             ],
             [
              0.8888888888888888,
              "#fdca26"
             ],
             [
              1,
              "#f0f921"
             ]
            ],
            "type": "histogram2dcontour"
           }
          ],
          "mesh3d": [
           {
            "colorbar": {
             "outlinewidth": 0,
             "ticks": ""
            },
            "type": "mesh3d"
           }
          ],
          "parcoords": [
           {
            "line": {
             "colorbar": {
              "outlinewidth": 0,
              "ticks": ""
             }
            },
            "type": "parcoords"
           }
          ],
          "pie": [
           {
            "automargin": true,
            "type": "pie"
           }
          ],
          "scatter": [
           {
            "fillpattern": {
             "fillmode": "overlay",
             "size": 10,
             "solidity": 0.2
            },
            "type": "scatter"
           }
          ],
          "scatter3d": [
           {
            "line": {
             "colorbar": {
              "outlinewidth": 0,
              "ticks": ""
             }
            },
            "marker": {
             "colorbar": {
              "outlinewidth": 0,
              "ticks": ""
             }
            },
            "type": "scatter3d"
           }
          ],
          "scattercarpet": [
           {
            "marker": {
             "colorbar": {
              "outlinewidth": 0,
              "ticks": ""
             }
            },
            "type": "scattercarpet"
           }
          ],
          "scattergeo": [
           {
            "marker": {
             "colorbar": {
              "outlinewidth": 0,
              "ticks": ""
             }
            },
            "type": "scattergeo"
           }
          ],
          "scattergl": [
           {
            "marker": {
             "colorbar": {
              "outlinewidth": 0,
              "ticks": ""
             }
            },
            "type": "scattergl"
           }
          ],
          "scattermapbox": [
           {
            "marker": {
             "colorbar": {
              "outlinewidth": 0,
              "ticks": ""
             }
            },
            "type": "scattermapbox"
           }
          ],
          "scatterpolar": [
           {
            "marker": {
             "colorbar": {
              "outlinewidth": 0,
              "ticks": ""
             }
            },
            "type": "scatterpolar"
           }
          ],
          "scatterpolargl": [
           {
            "marker": {
             "colorbar": {
              "outlinewidth": 0,
              "ticks": ""
             }
            },
            "type": "scatterpolargl"
           }
          ],
          "scatterternary": [
           {
            "marker": {
             "colorbar": {
              "outlinewidth": 0,
              "ticks": ""
             }
            },
            "type": "scatterternary"
           }
          ],
          "surface": [
           {
            "colorbar": {
             "outlinewidth": 0,
             "ticks": ""
            },
            "colorscale": [
             [
              0,
              "#0d0887"
             ],
             [
              0.1111111111111111,
              "#46039f"
             ],
             [
              0.2222222222222222,
              "#7201a8"
             ],
             [
              0.3333333333333333,
              "#9c179e"
             ],
             [
              0.4444444444444444,
              "#bd3786"
             ],
             [
              0.5555555555555556,
              "#d8576b"
             ],
             [
              0.6666666666666666,
              "#ed7953"
             ],
             [
              0.7777777777777778,
              "#fb9f3a"
             ],
             [
              0.8888888888888888,
              "#fdca26"
             ],
             [
              1,
              "#f0f921"
             ]
            ],
            "type": "surface"
           }
          ],
          "table": [
           {
            "cells": {
             "fill": {
              "color": "#EBF0F8"
             },
             "line": {
              "color": "white"
             }
            },
            "header": {
             "fill": {
              "color": "#C8D4E3"
             },
             "line": {
              "color": "white"
             }
            },
            "type": "table"
           }
          ]
         },
         "layout": {
          "annotationdefaults": {
           "arrowcolor": "#2a3f5f",
           "arrowhead": 0,
           "arrowwidth": 1
          },
          "autotypenumbers": "strict",
          "coloraxis": {
           "colorbar": {
            "outlinewidth": 0,
            "ticks": ""
           }
          },
          "colorscale": {
           "diverging": [
            [
             0,
             "#8e0152"
            ],
            [
             0.1,
             "#c51b7d"
            ],
            [
             0.2,
             "#de77ae"
            ],
            [
             0.3,
             "#f1b6da"
            ],
            [
             0.4,
             "#fde0ef"
            ],
            [
             0.5,
             "#f7f7f7"
            ],
            [
             0.6,
             "#e6f5d0"
            ],
            [
             0.7,
             "#b8e186"
            ],
            [
             0.8,
             "#7fbc41"
            ],
            [
             0.9,
             "#4d9221"
            ],
            [
             1,
             "#276419"
            ]
           ],
           "sequential": [
            [
             0,
             "#0d0887"
            ],
            [
             0.1111111111111111,
             "#46039f"
            ],
            [
             0.2222222222222222,
             "#7201a8"
            ],
            [
             0.3333333333333333,
             "#9c179e"
            ],
            [
             0.4444444444444444,
             "#bd3786"
            ],
            [
             0.5555555555555556,
             "#d8576b"
            ],
            [
             0.6666666666666666,
             "#ed7953"
            ],
            [
             0.7777777777777778,
             "#fb9f3a"
            ],
            [
             0.8888888888888888,
             "#fdca26"
            ],
            [
             1,
             "#f0f921"
            ]
           ],
           "sequentialminus": [
            [
             0,
             "#0d0887"
            ],
            [
             0.1111111111111111,
             "#46039f"
            ],
            [
             0.2222222222222222,
             "#7201a8"
            ],
            [
             0.3333333333333333,
             "#9c179e"
            ],
            [
             0.4444444444444444,
             "#bd3786"
            ],
            [
             0.5555555555555556,
             "#d8576b"
            ],
            [
             0.6666666666666666,
             "#ed7953"
            ],
            [
             0.7777777777777778,
             "#fb9f3a"
            ],
            [
             0.8888888888888888,
             "#fdca26"
            ],
            [
             1,
             "#f0f921"
            ]
           ]
          },
          "colorway": [
           "#636efa",
           "#EF553B",
           "#00cc96",
           "#ab63fa",
           "#FFA15A",
           "#19d3f3",
           "#FF6692",
           "#B6E880",
           "#FF97FF",
           "#FECB52"
          ],
          "font": {
           "color": "#2a3f5f"
          },
          "geo": {
           "bgcolor": "white",
           "lakecolor": "white",
           "landcolor": "#E5ECF6",
           "showlakes": true,
           "showland": true,
           "subunitcolor": "white"
          },
          "hoverlabel": {
           "align": "left"
          },
          "hovermode": "closest",
          "mapbox": {
           "style": "light"
          },
          "paper_bgcolor": "white",
          "plot_bgcolor": "#E5ECF6",
          "polar": {
           "angularaxis": {
            "gridcolor": "white",
            "linecolor": "white",
            "ticks": ""
           },
           "bgcolor": "#E5ECF6",
           "radialaxis": {
            "gridcolor": "white",
            "linecolor": "white",
            "ticks": ""
           }
          },
          "scene": {
           "xaxis": {
            "backgroundcolor": "#E5ECF6",
            "gridcolor": "white",
            "gridwidth": 2,
            "linecolor": "white",
            "showbackground": true,
            "ticks": "",
            "zerolinecolor": "white"
           },
           "yaxis": {
            "backgroundcolor": "#E5ECF6",
            "gridcolor": "white",
            "gridwidth": 2,
            "linecolor": "white",
            "showbackground": true,
            "ticks": "",
            "zerolinecolor": "white"
           },
           "zaxis": {
            "backgroundcolor": "#E5ECF6",
            "gridcolor": "white",
            "gridwidth": 2,
            "linecolor": "white",
            "showbackground": true,
            "ticks": "",
            "zerolinecolor": "white"
           }
          },
          "shapedefaults": {
           "line": {
            "color": "#2a3f5f"
           }
          },
          "ternary": {
           "aaxis": {
            "gridcolor": "white",
            "linecolor": "white",
            "ticks": ""
           },
           "baxis": {
            "gridcolor": "white",
            "linecolor": "white",
            "ticks": ""
           },
           "bgcolor": "#E5ECF6",
           "caxis": {
            "gridcolor": "white",
            "linecolor": "white",
            "ticks": ""
           }
          },
          "title": {
           "x": 0.05
          },
          "xaxis": {
           "automargin": true,
           "gridcolor": "white",
           "linecolor": "white",
           "ticks": "",
           "title": {
            "standoff": 15
           },
           "zerolinecolor": "white",
           "zerolinewidth": 2
          },
          "yaxis": {
           "automargin": true,
           "gridcolor": "white",
           "linecolor": "white",
           "ticks": "",
           "title": {
            "standoff": 15
           },
           "zerolinecolor": "white",
           "zerolinewidth": 2
          }
         }
        },
        "title": {
         "text": "Percentage of Rows with Comments by year and Zone"
        },
        "xaxis": {
         "anchor": "y",
         "domain": [
          0,
          1
         ]
        },
        "xaxis2": {
         "anchor": "y2",
         "domain": [
          0,
          1
         ]
        },
        "xaxis3": {
         "anchor": "y3",
         "domain": [
          0,
          1
         ]
        },
        "xaxis4": {
         "anchor": "y4",
         "domain": [
          0,
          1
         ]
        },
        "xaxis5": {
         "anchor": "y5",
         "domain": [
          0,
          1
         ]
        },
        "xaxis6": {
         "anchor": "y6",
         "domain": [
          0,
          1
         ]
        },
        "yaxis": {
         "anchor": "x",
         "domain": [
          0.875,
          1
         ],
         "title": {
          "standoff": 0,
          "text": "2023"
         }
        },
        "yaxis2": {
         "anchor": "x2",
         "domain": [
          0.7,
          0.825
         ],
         "title": {
          "standoff": 0,
          "text": "2022"
         }
        },
        "yaxis3": {
         "anchor": "x3",
         "domain": [
          0.525,
          0.65
         ],
         "title": {
          "standoff": 0,
          "text": "2021"
         }
        },
        "yaxis4": {
         "anchor": "x4",
         "domain": [
          0.35,
          0.475
         ],
         "title": {
          "standoff": 0,
          "text": "2020"
         }
        },
        "yaxis5": {
         "anchor": "x5",
         "domain": [
          0.175,
          0.3
         ],
         "title": {
          "standoff": 0,
          "text": "2019"
         }
        },
        "yaxis6": {
         "anchor": "x6",
         "domain": [
          0,
          0.125
         ],
         "title": {
          "standoff": 0,
          "text": "2018"
         }
        }
       }
      }
     },
     "metadata": {},
     "output_type": "display_data"
    }
   ],
   "source": [
    "def create_percentage_bar_charts(df, group_columns, count_column, color_sequence=['#636EFA','#EF553B','#00CC96','#AB63FA','#FFA15A','#19D3F3','#FF6692','#B6E880','#FF97FF','#FECB52','#E763FA','#BA68C8','#FFA000','#F06292','#7986CB','#4DB6AC','#FF8A65','#A1887F','#90A4AE','#E53935','#8E24AA']):\n",
    "    # Get unique values for group columns\n",
    "    firstgroup_values = df[group_columns[0]].unique()\n",
    "\n",
    "    # Create a subplot for each unique value in the first group column\n",
    "    fig = sp.make_subplots(rows=len(firstgroup_values), cols=1)\n",
    "\n",
    "    for i, value in enumerate(firstgroup_values, start=1):\n",
    "        df_group = df[df[group_columns[0]] == value]\n",
    "\n",
    "        fig_group = create_percentage_bar_chart(df_group, group_columns[1], count_column, color_sequence)\n",
    "        for trace in fig_group.data:\n",
    "            trace.name = trace.name.split(' - ')[0]  \n",
    "            fig.add_trace(trace, row=i, col=1)\n",
    "\n",
    "        # Add y-axis title to each subplot\n",
    "        fig.update_yaxes(title_text=str(value), title_standoff=0, row=i, col=1)\n",
    "\n",
    "        # Only show legend for the first subplot\n",
    "        if i > 1:\n",
    "            for trace in fig.data[-len(fig_group.data):]:\n",
    "                trace.showlegend = False\n",
    "\n",
    "    # Update layout and add interactive legend\n",
    "    fig.update_layout(height=400*len(firstgroup_values), title_text=f\"Percentage of Rows with Comments by {group_columns[0]} and {group_columns[1]}\", barmode='stack', showlegend=True)\n",
    "    \n",
    "    return fig\n",
    "\n",
    "create_percentage_bar_charts(df_preprocessed_full, ['year', 'Zone'], 'non_empty_rows')\n"
   ]
  },
  {
   "cell_type": "code",
   "execution_count": null,
   "metadata": {},
   "outputs": [],
   "source": []
  }
 ],
 "metadata": {
  "kernelspec": {
   "display_name": "wassati",
   "language": "python",
   "name": "python3"
  },
  "language_info": {
   "codemirror_mode": {
    "name": "ipython",
    "version": 3
   },
   "file_extension": ".py",
   "mimetype": "text/x-python",
   "name": "python",
   "nbconvert_exporter": "python",
   "pygments_lexer": "ipython3",
   "version": "3.9.17"
  }
 },
 "nbformat": 4,
 "nbformat_minor": 2
}
