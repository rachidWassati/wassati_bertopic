{
 "cells": [
  {
   "cell_type": "code",
   "execution_count": null,
   "metadata": {},
   "outputs": [],
   "source": [
    "import pandas as pd\n",
    "import plotly.graph_objects as go\n",
    "import plotly.subplots as sp\n",
    "import colorsys\n",
    "from itertools import cycle\n",
    "\n",
    "from visualization.Shared.Barchart.barchart import Barchart"
   ]
  },
  {
   "cell_type": "code",
   "execution_count": 87,
   "metadata": {},
   "outputs": [
    {
     "name": "stderr",
     "output_type": "stream",
     "text": [
      "/tmp/ipykernel_18090/1847981677.py:11: DtypeWarning:\n",
      "\n",
      "Columns (5,6,14,18) have mixed types. Specify dtype option on import or set low_memory=False.\n",
      "\n"
     ]
    }
   ],
   "source": [
    "# df = pd.read_excel(\"/media/cattiaux/DATA/Wassati/team_data/schneider/OEM_Verbatims_base.xlsx\", engine='openpyxl')\n",
    "# df2 = pd.read_csv(\"/media/cattiaux/DATA/Wassati/team_data/schneider/OEM_Verbatims_allComment.csv\")\n",
    "# df_labelled = pd.read_csv(\"/media/cattiaux/DATA/Wassati/team_data/schneider/df_all_labelled.csv\", dtype={'year': str})\n",
    "import sys\n",
    "sys.path.append('../')\n",
    "\n",
    "from utils.schneider import countries_to_update, text_data_column, words_to_filter, replacements\n",
    "from preprocessing.dataLoaders.schneider_data_loader import SchneiderDataLoader\n",
    "from preprocessing.preprocessing import Preprocessor\n",
    "\n",
    "df = pd.read_csv(\"../data/csv_files/schneider.csv\")\n",
    "schneiderDataLoader = SchneiderDataLoader(df, countries_to_update)\n",
    "preprocessing = Preprocessor(\n",
    "    schneiderDataLoader, \n",
    "    text_data_column,\n",
    "    words_to_filter,\n",
    "    replacements\n",
    ")\n",
    "\n",
    "df_preprocessed_full = preprocessing.preprocess()\n",
    "# Filter rows based on 'non_empty_rows' column\n",
    "df_preprocessed = df_preprocessed_full[df_preprocessed_full['non_empty_rows']]"
   ]
  },
  {
   "cell_type": "code",
   "execution_count": 141,
   "metadata": {},
   "outputs": [
    {
     "name": "stderr",
     "output_type": "stream",
     "text": [
      "/tmp/ipykernel_18090/2017815167.py:3: DtypeWarning:\n",
      "\n",
      "Columns (9,10,14,18,19,20,22,33,34,41,42,43,44) have mixed types. Specify dtype option on import or set low_memory=False.\n",
      "\n"
     ]
    }
   ],
   "source": [
    "df = pd.read_csv(\"../data/csv_files/df_all_labelled.csv\")\n",
    "# Find the additional columns in df\n",
    "additional_columns = ['allComment', 'keywords', 'label', 'predicted_labels', 'predicted_scores', 'proba_dict', 'score', 'sentiment_label', 'single_emotion_label', 'single_sentiment_from_emotion', 'topic', 'year_month']\n",
    "# Perform the merge only on these additional columns\n",
    "merged_df = df_preprocessed_full.merge(df[['Survey ID'] + additional_columns], on='Survey ID', how='left')\n",
    "# merged_df.to_csv(\"../data/csv_files/schneider_processed_labelled_full.csv\", index=False)"
   ]
  },
  {
   "cell_type": "code",
   "execution_count": 140,
   "metadata": {},
   "outputs": [
    {
     "data": {
      "text/plain": [
       "57"
      ]
     },
     "execution_count": 140,
     "metadata": {},
     "output_type": "execute_result"
    }
   ],
   "source": [
    "len(merged_df)\n",
    "len(merged_df.columns)"
   ]
  },
  {
   "cell_type": "code",
   "execution_count": null,
   "metadata": {},
   "outputs": [],
   "source": [
    "########### Global Info \n",
    "\n",
    "nb_scores = df_preprocessed_full[\"Overall Satisfaction\"].count()\n",
    "nb_recommend_scores = df_preprocessed_full[\"Likelihood to Recommend (SE)\"].count()\n",
    "nb_comments = len(df_preprocessed)\n",
    "pct_comment_by_score = nb_comments/nb_scores*100\n",
    "pct_recommendScore_by_score = nb_recommend_scores/nb_scores*100\n",
    "\n",
    "pct_recommendScore_by_score"
   ]
  },
  {
   "cell_type": "code",
   "execution_count": null,
   "metadata": {},
   "outputs": [],
   "source": [
    "def plot_score_distribution(df, column_name):\n",
    "    # Count the frequency of each score\n",
    "    score_counts = df[column_name].value_counts().sort_index()\n",
    "\n",
    "    # Create a bar chart\n",
    "    fig = go.Figure(data=go.Bar(x=score_counts.index, y=score_counts.values))\n",
    "    fig.update_layout(title='Distribution of Scores', xaxis_title='Score', yaxis_title='Frequency')\n",
    "    \n",
    "    return fig\n",
    "\n",
    "plot_score_distribution(df_preprocessed_full, 'Likelihood to Recommend (SE)') #'Likelihood to Recommend (SE)', 'Overall Satisfaction'"
   ]
  },
  {
   "cell_type": "code",
   "execution_count": null,
   "metadata": {},
   "outputs": [],
   "source": [
    "########### Descriptive Analysis\n",
    "\n",
    "def create_donut_chart(df, label_column):\n",
    "    # Count the frequency of each label\n",
    "    label_counts = df[label_column].value_counts()\n",
    "\n",
    "    # Create the donut chart\n",
    "    fig = go.Figure(data=[go.Pie(labels=label_counts.index, \n",
    "                                 values=label_counts.values, \n",
    "                                 hole=.6,\n",
    "                                #  marker=dict(colors=palette), \n",
    "                                # default:['#1f77b4',  '#ff7f0e',  '#2ca02c',  '#d62728',  '#9467bd',  '#8c564b',  '#e377c2',  '#7f7f7f',  '#bcbd22',  '#17becf']\n",
    "                                 hovertemplate='%{label}: %{value}<extra></extra>'\n",
    "                                )\n",
    "                    ])\n",
    "    \n",
    "    fig.update_layout(\n",
    "        legend_title_text=f\"{label_column}\",\n",
    "        title={'text': f'Score Repartition by {label_column}',\n",
    "               'y':0.9,'x':0.5,\n",
    "               'xanchor': 'center','yanchor': 'top'},\n",
    "        title_font=dict(size=20,\n",
    "                        color='rgb(107, 107, 107)'),\n",
    "        autosize=False,\n",
    "        width=800,\n",
    "        height=500\n",
    "    )\n",
    "    return fig\n",
    "\n",
    "create_donut_chart(df_preprocessed_full, 'Zone')"
   ]
  },
  {
   "cell_type": "code",
   "execution_count": 167,
   "metadata": {},
   "outputs": [
    {
     "data": {
      "application/vnd.plotly.v1+json": {
       "config": {
        "plotlyServerURL": "https://plot.ly"
       },
       "data": [
        {
         "branchvalues": "total",
         "hovertemplate": "%{hovertext}<extra></extra>",
         "hovertext": [
          "BeNe<br>Number of verbatims: 1584<br>Percentage: 4.43%",
          "CEEI<br>Number of verbatims: 2027<br>Percentage: 5.66%",
          "Canada<br>Number of verbatims: 919<br>Percentage: 2.57%",
          "China & HK<br>Number of verbatims: 1878<br>Percentage: 5.25%",
          "DACH<br>Number of verbatims: 4359<br>Percentage: 12.18%",
          "East Asia Japan<br>Number of verbatims: 4736<br>Percentage: 13.23%",
          "France<br>Number of verbatims: 1914<br>Percentage: 5.35%",
          "Greater India<br>Number of verbatims: 1339<br>Percentage: 3.74%",
          "Iberia<br>Number of verbatims: 2262<br>Percentage: 6.32%",
          "Italy<br>Number of verbatims: 4327<br>Percentage: 12.09%",
          "Mexico & Central America<br>Number of verbatims: 18<br>Percentage: 0.05%",
          "Middle East and Africa<br>Number of verbatims: 1414<br>Percentage: 3.95%",
          "Nordic & Baltics<br>Number of verbatims: 2247<br>Percentage: 6.28%",
          "Pacific<br>Number of verbatims: 1258<br>Percentage: 3.52%",
          "South America<br>Number of verbatims: 2242<br>Percentage: 6.27%",
          "UK and Ireland<br>Number of verbatims: 895<br>Percentage: 2.50%",
          "US<br>Number of verbatims: 2366<br>Percentage: 6.61%",
          "Belgium<br>Number of verbatims: 702<br>Percentage: 44.32%",
          "Netherlands<br>Number of verbatims: 882<br>Percentage: 55.68%",
          "Israel<br>Number of verbatims: 182<br>Percentage: 8.98%",
          "Middle Eastern Europe<br>Number of verbatims: 1626<br>Percentage: 80.22%",
          "Southeast Europe<br>Number of verbatims: 219<br>Percentage: 10.80%",
          "China<br>Number of verbatims: 1874<br>Percentage: 99.79%",
          "Hong Kong & Macao<br>Number of verbatims: 4<br>Percentage: 0.21%",
          "Austria<br>Number of verbatims: 492<br>Percentage: 11.29%",
          "Germany<br>Number of verbatims: 2660<br>Percentage: 61.02%",
          "Liechtenstein<br>Number of verbatims: 1<br>Percentage: 0.02%",
          "Switzerland<br>Number of verbatims: 1206<br>Percentage: 27.67%",
          "North East Asia<br>Number of verbatims: 3671<br>Percentage: 77.51%",
          "South East Asia<br>Number of verbatims: 1065<br>Percentage: 22.49%",
          "India<br>Number of verbatims: 1339<br>Percentage: 100.00%",
          "Portugal<br>Number of verbatims: 427<br>Percentage: 18.88%",
          "Spain<br>Number of verbatims: 1835<br>Percentage: 81.12%",
          "Mexico<br>Number of verbatims: 18<br>Percentage: 100.00%",
          "Anglophone Africa<br>Number of verbatims: 220<br>Percentage: 15.56%",
          "Francophone Africa<br>Number of verbatims: 3<br>Percentage: 0.21%",
          "Gulf<br>Number of verbatims: 21<br>Percentage: 1.49%",
          "North East Africa and Levant<br>Number of verbatims: 49<br>Percentage: 3.47%",
          "Saudi Arabia & Yemen<br>Number of verbatims: 112<br>Percentage: 7.92%",
          "Turkey Central Asia and Pakistan<br>Number of verbatims: 1009<br>Percentage: 71.36%",
          "Denmark<br>Number of verbatims: 595<br>Percentage: 26.48%",
          "Finland & Baltics<br>Number of verbatims: 648<br>Percentage: 28.84%",
          "Norway<br>Number of verbatims: 416<br>Percentage: 18.51%",
          "Sweden<br>Number of verbatims: 588<br>Percentage: 26.17%",
          "Australia<br>Number of verbatims: 915<br>Percentage: 72.73%",
          "New Zealand<br>Number of verbatims: 343<br>Percentage: 27.27%",
          "Andean Cluster<br>Number of verbatims: 42<br>Percentage: 1.87%",
          "Argentina, Uruguay and Paraguay<br>Number of verbatims: 404<br>Percentage: 18.02%",
          "Brazil<br>Number of verbatims: 1717<br>Percentage: 76.58%",
          "Chile<br>Number of verbatims: 79<br>Percentage: 3.52%",
          "Ireland<br>Number of verbatims: 17<br>Percentage: 1.90%",
          "United Kingdom<br>Number of verbatims: 878<br>Percentage: 98.10%",
          "USA<br>Number of verbatims: 2366<br>Percentage: 100.00%",
          "Czech Republic<br>Number of verbatims: 653<br>Percentage: 40.16%",
          "Poland<br>Number of verbatims: 713<br>Percentage: 43.85%",
          "Slovakia<br>Number of verbatims: 260<br>Percentage: 15.99%",
          "Bulgaria<br>Number of verbatims: 17<br>Percentage: 7.76%",
          "Croatia<br>Number of verbatims: 19<br>Percentage: 8.68%",
          "Greece<br>Number of verbatims: 11<br>Percentage: 5.02%",
          "Hungary<br>Number of verbatims: 40<br>Percentage: 18.26%",
          "Romania<br>Number of verbatims: 124<br>Percentage: 56.62%",
          "Serbia<br>Number of verbatims: 6<br>Percentage: 2.74%",
          "Slovenia<br>Number of verbatims: 2<br>Percentage: 0.91%",
          "Hong Kong<br>Number of verbatims: 4<br>Percentage: 100.00%",
          "Japan<br>Number of verbatims: 2533<br>Percentage: 69.00%",
          "Korea, Republic of<br>Number of verbatims: 738<br>Percentage: 20.10%",
          "Taiwan<br>Number of verbatims: 400<br>Percentage: 10.90%",
          "Indonesia<br>Number of verbatims: 299<br>Percentage: 28.08%",
          "Malaysia<br>Number of verbatims: 38<br>Percentage: 3.57%",
          "Singapore<br>Number of verbatims: 281<br>Percentage: 26.38%",
          "Thailand<br>Number of verbatims: 342<br>Percentage: 32.11%",
          "Vietnam<br>Number of verbatims: 105<br>Percentage: 9.86%",
          "San Marino<br>Number of verbatims: 2<br>Percentage: 0.05%",
          "South Africa<br>Number of verbatims: 220<br>Percentage: 100.00%",
          "Dominican Republic<br>Number of verbatims: 1<br>Percentage: 33.33%",
          "Morocco<br>Number of verbatims: 2<br>Percentage: 66.67%",
          "Kuwait<br>Number of verbatims: 3<br>Percentage: 14.29%",
          "Oman<br>Number of verbatims: 1<br>Percentage: 4.76%",
          "Qatar<br>Number of verbatims: 2<br>Percentage: 9.52%",
          "United Arab Emirates<br>Number of verbatims: 15<br>Percentage: 71.43%",
          "Egypt<br>Number of verbatims: 47<br>Percentage: 95.92%",
          "Jordan<br>Number of verbatims: 1<br>Percentage: 2.04%",
          "Lebanon<br>Number of verbatims: 1<br>Percentage: 2.04%",
          "Saudi Arabia<br>Number of verbatims: 112<br>Percentage: 100.00%",
          "Kazakhstan<br>Number of verbatims: 59<br>Percentage: 5.85%",
          "Pakistan<br>Number of verbatims: 10<br>Percentage: 0.99%",
          "Turkey<br>Number of verbatims: 940<br>Percentage: 93.16%",
          "Estonia<br>Number of verbatims: 10<br>Percentage: 1.54%",
          "Finland<br>Number of verbatims: 603<br>Percentage: 93.06%",
          "Latvia<br>Number of verbatims: 17<br>Percentage: 2.62%",
          "Lithuania<br>Number of verbatims: 18<br>Percentage: 2.78%",
          "Colombia<br>Number of verbatims: 34<br>Percentage: 80.95%",
          "Peru<br>Number of verbatims: 8<br>Percentage: 19.05%",
          "Argentina<br>Number of verbatims: 402<br>Percentage: 99.50%",
          "Paraguay<br>Number of verbatims: 2<br>Percentage: 0.50%",
          "Geo Levels<br>Number of verbatims: 35785<br>Percentage: 100.00%"
         ],
         "labels": [
          "BeNe",
          "CEEI",
          "Canada",
          "China & HK",
          "DACH",
          "East Asia Japan",
          "France",
          "Greater India",
          "Iberia",
          "Italy",
          "Mexico & Central America",
          "Middle East and Africa",
          "Nordic & Baltics",
          "Pacific",
          "South America",
          "UK and Ireland",
          "US",
          "Belgium",
          "Netherlands",
          "Israel",
          "Middle Eastern Europe",
          "Southeast Europe",
          "China",
          "Hong Kong & Macao",
          "Austria",
          "Germany",
          "Liechtenstein",
          "Switzerland",
          "North East Asia",
          "South East Asia",
          "India",
          "Portugal",
          "Spain",
          "Mexico",
          "Anglophone Africa",
          "Francophone Africa",
          "Gulf",
          "North East Africa and Levant",
          "Saudi Arabia & Yemen",
          "Turkey Central Asia and Pakistan",
          "Denmark",
          "Finland & Baltics",
          "Norway",
          "Sweden",
          "Australia",
          "New Zealand",
          "Andean Cluster",
          "Argentina, Uruguay and Paraguay",
          "Brazil",
          "Chile",
          "Ireland",
          "United Kingdom",
          "USA",
          "Czech Republic",
          "Poland",
          "Slovakia",
          "Bulgaria",
          "Croatia",
          "Greece",
          "Hungary",
          "Romania",
          "Serbia",
          "Slovenia",
          "Hong Kong",
          "Japan",
          "Korea, Republic of",
          "Taiwan",
          "Indonesia",
          "Malaysia",
          "Singapore",
          "Thailand",
          "Vietnam",
          "San Marino",
          "South Africa",
          "Dominican Republic",
          "Morocco",
          "Kuwait",
          "Oman",
          "Qatar",
          "United Arab Emirates",
          "Egypt",
          "Jordan",
          "Lebanon",
          "Saudi Arabia",
          "Kazakhstan",
          "Pakistan",
          "Turkey",
          "Estonia",
          "Finland",
          "Latvia",
          "Lithuania",
          "Colombia",
          "Peru",
          "Argentina",
          "Paraguay",
          "Geo Levels"
         ],
         "marker": {
          "colors": [
           "#636EFA",
           "#EF553B",
           "#00CC96",
           "#AB63FA",
           "#FFA15A",
           "#19D3F3",
           "#FF6692",
           "#B6E880",
           "#FF97FF",
           "#FECB52",
           "#E763FA",
           "#BA68C8",
           "#FFA000",
           "#F06292",
           "#7986CB",
           "#4DB6AC",
           "#FF8A65",
           "#949bfb",
           "#949bfb",
           "#f27d6a",
           "#f27d6a",
           "#f27d6a",
           "#c594fb",
           "#c594fb",
           "#febe8d",
           "#febe8d",
           "#febe8d",
           "#febe8d",
           "#49dcf5",
           "#49dcf5",
           "#ceefab",
           "#fecafe",
           "#fecafe",
           "#ee94fb",
           "#cb8dd5",
           "#cb8dd5",
           "#cb8dd5",
           "#cb8dd5",
           "#cb8dd5",
           "#cb8dd5",
           "#ffb332",
           "#ffb332",
           "#ffb332",
           "#ffb332",
           "#f490b2",
           "#f490b2",
           "#9da7d9",
           "#9da7d9",
           "#9da7d9",
           "#9da7d9",
           "#71c4bc",
           "#71c4bc",
           "#feb098",
           "#f6a598",
           "#f6a598",
           "#f6a598",
           "#f6a598",
           "#f6a598",
           "#f6a598",
           "#f6a598",
           "#f6a598",
           "#f6a598",
           "#f6a598",
           "#dfc5fc",
           "#79e5f7",
           "#79e5f7",
           "#79e5f7",
           "#79e5f7",
           "#79e5f7",
           "#79e5f7",
           "#79e5f7",
           "#79e5f7",
           "#feda84",
           "#dbb2e2",
           "#dbb2e2",
           "#dbb2e2",
           "#dbb2e2",
           "#dbb2e2",
           "#dbb2e2",
           "#dbb2e2",
           "#dbb2e2",
           "#dbb2e2",
           "#dbb2e2",
           "#dbb2e2",
           "#dbb2e2",
           "#dbb2e2",
           "#dbb2e2",
           "#ffc564",
           "#ffc564",
           "#ffc564",
           "#ffc564",
           "#c1c8e7",
           "#c1c8e7",
           "#c1c8e7",
           "#c1c8e7",
           "#ffffff"
          ]
         },
         "parents": [
          "Geo Levels",
          "Geo Levels",
          "Geo Levels",
          "Geo Levels",
          "Geo Levels",
          "Geo Levels",
          "Geo Levels",
          "Geo Levels",
          "Geo Levels",
          "Geo Levels",
          "Geo Levels",
          "Geo Levels",
          "Geo Levels",
          "Geo Levels",
          "Geo Levels",
          "Geo Levels",
          "Geo Levels",
          "BeNe",
          "BeNe",
          "CEEI",
          "CEEI",
          "CEEI",
          "China & HK",
          "China & HK",
          "DACH",
          "DACH",
          "DACH",
          "DACH",
          "East Asia Japan",
          "East Asia Japan",
          "Greater India",
          "Iberia",
          "Iberia",
          "Mexico & Central America",
          "Middle East and Africa",
          "Middle East and Africa",
          "Middle East and Africa",
          "Middle East and Africa",
          "Middle East and Africa",
          "Middle East and Africa",
          "Nordic & Baltics",
          "Nordic & Baltics",
          "Nordic & Baltics",
          "Nordic & Baltics",
          "Pacific",
          "Pacific",
          "South America",
          "South America",
          "South America",
          "South America",
          "UK and Ireland",
          "UK and Ireland",
          "US",
          "Middle Eastern Europe",
          "Middle Eastern Europe",
          "Middle Eastern Europe",
          "Southeast Europe",
          "Southeast Europe",
          "Southeast Europe",
          "Southeast Europe",
          "Southeast Europe",
          "Southeast Europe",
          "Southeast Europe",
          "Hong Kong & Macao",
          "North East Asia",
          "North East Asia",
          "North East Asia",
          "South East Asia",
          "South East Asia",
          "South East Asia",
          "South East Asia",
          "South East Asia",
          "Italy",
          "Anglophone Africa",
          "Francophone Africa",
          "Francophone Africa",
          "Gulf",
          "Gulf",
          "Gulf",
          "Gulf",
          "North East Africa and Levant",
          "North East Africa and Levant",
          "North East Africa and Levant",
          "Saudi Arabia & Yemen",
          "Turkey Central Asia and Pakistan",
          "Turkey Central Asia and Pakistan",
          "Turkey Central Asia and Pakistan",
          "Finland & Baltics",
          "Finland & Baltics",
          "Finland & Baltics",
          "Finland & Baltics",
          "Andean Cluster",
          "Andean Cluster",
          "Argentina, Uruguay and Paraguay",
          "Argentina, Uruguay and Paraguay",
          ""
         ],
         "type": "sunburst",
         "values": [
          1584,
          2027,
          919,
          1878,
          4359,
          4736,
          1914,
          1339,
          2262,
          4327,
          18,
          1414,
          2247,
          1258,
          2242,
          895,
          2366,
          702,
          882,
          182,
          1626,
          219,
          1874,
          4,
          492,
          2660,
          1,
          1206,
          3671,
          1065,
          1339,
          427,
          1835,
          18,
          220,
          3,
          21,
          49,
          112,
          1009,
          595,
          648,
          416,
          588,
          915,
          343,
          42,
          404,
          1717,
          79,
          17,
          878,
          2366,
          653,
          713,
          260,
          17,
          19,
          11,
          40,
          124,
          6,
          2,
          4,
          2533,
          738,
          400,
          299,
          38,
          281,
          342,
          105,
          2,
          220,
          1,
          2,
          3,
          1,
          2,
          15,
          47,
          1,
          1,
          112,
          59,
          10,
          940,
          10,
          603,
          17,
          18,
          34,
          8,
          402,
          2,
          35785
         ]
        }
       ],
       "layout": {
        "height": 800,
        "template": {
         "data": {
          "bar": [
           {
            "error_x": {
             "color": "#2a3f5f"
            },
            "error_y": {
             "color": "#2a3f5f"
            },
            "marker": {
             "line": {
              "color": "#E5ECF6",
              "width": 0.5
             },
             "pattern": {
              "fillmode": "overlay",
              "size": 10,
              "solidity": 0.2
             }
            },
            "type": "bar"
           }
          ],
          "barpolar": [
           {
            "marker": {
             "line": {
              "color": "#E5ECF6",
              "width": 0.5
             },
             "pattern": {
              "fillmode": "overlay",
              "size": 10,
              "solidity": 0.2
             }
            },
            "type": "barpolar"
           }
          ],
          "carpet": [
           {
            "aaxis": {
             "endlinecolor": "#2a3f5f",
             "gridcolor": "white",
             "linecolor": "white",
             "minorgridcolor": "white",
             "startlinecolor": "#2a3f5f"
            },
            "baxis": {
             "endlinecolor": "#2a3f5f",
             "gridcolor": "white",
             "linecolor": "white",
             "minorgridcolor": "white",
             "startlinecolor": "#2a3f5f"
            },
            "type": "carpet"
           }
          ],
          "choropleth": [
           {
            "colorbar": {
             "outlinewidth": 0,
             "ticks": ""
            },
            "type": "choropleth"
           }
          ],
          "contour": [
           {
            "colorbar": {
             "outlinewidth": 0,
             "ticks": ""
            },
            "colorscale": [
             [
              0,
              "#0d0887"
             ],
             [
              0.1111111111111111,
              "#46039f"
             ],
             [
              0.2222222222222222,
              "#7201a8"
             ],
             [
              0.3333333333333333,
              "#9c179e"
             ],
             [
              0.4444444444444444,
              "#bd3786"
             ],
             [
              0.5555555555555556,
              "#d8576b"
             ],
             [
              0.6666666666666666,
              "#ed7953"
             ],
             [
              0.7777777777777778,
              "#fb9f3a"
             ],
             [
              0.8888888888888888,
              "#fdca26"
             ],
             [
              1,
              "#f0f921"
             ]
            ],
            "type": "contour"
           }
          ],
          "contourcarpet": [
           {
            "colorbar": {
             "outlinewidth": 0,
             "ticks": ""
            },
            "type": "contourcarpet"
           }
          ],
          "heatmap": [
           {
            "colorbar": {
             "outlinewidth": 0,
             "ticks": ""
            },
            "colorscale": [
             [
              0,
              "#0d0887"
             ],
             [
              0.1111111111111111,
              "#46039f"
             ],
             [
              0.2222222222222222,
              "#7201a8"
             ],
             [
              0.3333333333333333,
              "#9c179e"
             ],
             [
              0.4444444444444444,
              "#bd3786"
             ],
             [
              0.5555555555555556,
              "#d8576b"
             ],
             [
              0.6666666666666666,
              "#ed7953"
             ],
             [
              0.7777777777777778,
              "#fb9f3a"
             ],
             [
              0.8888888888888888,
              "#fdca26"
             ],
             [
              1,
              "#f0f921"
             ]
            ],
            "type": "heatmap"
           }
          ],
          "heatmapgl": [
           {
            "colorbar": {
             "outlinewidth": 0,
             "ticks": ""
            },
            "colorscale": [
             [
              0,
              "#0d0887"
             ],
             [
              0.1111111111111111,
              "#46039f"
             ],
             [
              0.2222222222222222,
              "#7201a8"
             ],
             [
              0.3333333333333333,
              "#9c179e"
             ],
             [
              0.4444444444444444,
              "#bd3786"
             ],
             [
              0.5555555555555556,
              "#d8576b"
             ],
             [
              0.6666666666666666,
              "#ed7953"
             ],
             [
              0.7777777777777778,
              "#fb9f3a"
             ],
             [
              0.8888888888888888,
              "#fdca26"
             ],
             [
              1,
              "#f0f921"
             ]
            ],
            "type": "heatmapgl"
           }
          ],
          "histogram": [
           {
            "marker": {
             "pattern": {
              "fillmode": "overlay",
              "size": 10,
              "solidity": 0.2
             }
            },
            "type": "histogram"
           }
          ],
          "histogram2d": [
           {
            "colorbar": {
             "outlinewidth": 0,
             "ticks": ""
            },
            "colorscale": [
             [
              0,
              "#0d0887"
             ],
             [
              0.1111111111111111,
              "#46039f"
             ],
             [
              0.2222222222222222,
              "#7201a8"
             ],
             [
              0.3333333333333333,
              "#9c179e"
             ],
             [
              0.4444444444444444,
              "#bd3786"
             ],
             [
              0.5555555555555556,
              "#d8576b"
             ],
             [
              0.6666666666666666,
              "#ed7953"
             ],
             [
              0.7777777777777778,
              "#fb9f3a"
             ],
             [
              0.8888888888888888,
              "#fdca26"
             ],
             [
              1,
              "#f0f921"
             ]
            ],
            "type": "histogram2d"
           }
          ],
          "histogram2dcontour": [
           {
            "colorbar": {
             "outlinewidth": 0,
             "ticks": ""
            },
            "colorscale": [
             [
              0,
              "#0d0887"
             ],
             [
              0.1111111111111111,
              "#46039f"
             ],
             [
              0.2222222222222222,
              "#7201a8"
             ],
             [
              0.3333333333333333,
              "#9c179e"
             ],
             [
              0.4444444444444444,
              "#bd3786"
             ],
             [
              0.5555555555555556,
              "#d8576b"
             ],
             [
              0.6666666666666666,
              "#ed7953"
             ],
             [
              0.7777777777777778,
              "#fb9f3a"
             ],
             [
              0.8888888888888888,
              "#fdca26"
             ],
             [
              1,
              "#f0f921"
             ]
            ],
            "type": "histogram2dcontour"
           }
          ],
          "mesh3d": [
           {
            "colorbar": {
             "outlinewidth": 0,
             "ticks": ""
            },
            "type": "mesh3d"
           }
          ],
          "parcoords": [
           {
            "line": {
             "colorbar": {
              "outlinewidth": 0,
              "ticks": ""
             }
            },
            "type": "parcoords"
           }
          ],
          "pie": [
           {
            "automargin": true,
            "type": "pie"
           }
          ],
          "scatter": [
           {
            "fillpattern": {
             "fillmode": "overlay",
             "size": 10,
             "solidity": 0.2
            },
            "type": "scatter"
           }
          ],
          "scatter3d": [
           {
            "line": {
             "colorbar": {
              "outlinewidth": 0,
              "ticks": ""
             }
            },
            "marker": {
             "colorbar": {
              "outlinewidth": 0,
              "ticks": ""
             }
            },
            "type": "scatter3d"
           }
          ],
          "scattercarpet": [
           {
            "marker": {
             "colorbar": {
              "outlinewidth": 0,
              "ticks": ""
             }
            },
            "type": "scattercarpet"
           }
          ],
          "scattergeo": [
           {
            "marker": {
             "colorbar": {
              "outlinewidth": 0,
              "ticks": ""
             }
            },
            "type": "scattergeo"
           }
          ],
          "scattergl": [
           {
            "marker": {
             "colorbar": {
              "outlinewidth": 0,
              "ticks": ""
             }
            },
            "type": "scattergl"
           }
          ],
          "scattermapbox": [
           {
            "marker": {
             "colorbar": {
              "outlinewidth": 0,
              "ticks": ""
             }
            },
            "type": "scattermapbox"
           }
          ],
          "scatterpolar": [
           {
            "marker": {
             "colorbar": {
              "outlinewidth": 0,
              "ticks": ""
             }
            },
            "type": "scatterpolar"
           }
          ],
          "scatterpolargl": [
           {
            "marker": {
             "colorbar": {
              "outlinewidth": 0,
              "ticks": ""
             }
            },
            "type": "scatterpolargl"
           }
          ],
          "scatterternary": [
           {
            "marker": {
             "colorbar": {
              "outlinewidth": 0,
              "ticks": ""
             }
            },
            "type": "scatterternary"
           }
          ],
          "surface": [
           {
            "colorbar": {
             "outlinewidth": 0,
             "ticks": ""
            },
            "colorscale": [
             [
              0,
              "#0d0887"
             ],
             [
              0.1111111111111111,
              "#46039f"
             ],
             [
              0.2222222222222222,
              "#7201a8"
             ],
             [
              0.3333333333333333,
              "#9c179e"
             ],
             [
              0.4444444444444444,
              "#bd3786"
             ],
             [
              0.5555555555555556,
              "#d8576b"
             ],
             [
              0.6666666666666666,
              "#ed7953"
             ],
             [
              0.7777777777777778,
              "#fb9f3a"
             ],
             [
              0.8888888888888888,
              "#fdca26"
             ],
             [
              1,
              "#f0f921"
             ]
            ],
            "type": "surface"
           }
          ],
          "table": [
           {
            "cells": {
             "fill": {
              "color": "#EBF0F8"
             },
             "line": {
              "color": "white"
             }
            },
            "header": {
             "fill": {
              "color": "#C8D4E3"
             },
             "line": {
              "color": "white"
             }
            },
            "type": "table"
           }
          ]
         },
         "layout": {
          "annotationdefaults": {
           "arrowcolor": "#2a3f5f",
           "arrowhead": 0,
           "arrowwidth": 1
          },
          "autotypenumbers": "strict",
          "coloraxis": {
           "colorbar": {
            "outlinewidth": 0,
            "ticks": ""
           }
          },
          "colorscale": {
           "diverging": [
            [
             0,
             "#8e0152"
            ],
            [
             0.1,
             "#c51b7d"
            ],
            [
             0.2,
             "#de77ae"
            ],
            [
             0.3,
             "#f1b6da"
            ],
            [
             0.4,
             "#fde0ef"
            ],
            [
             0.5,
             "#f7f7f7"
            ],
            [
             0.6,
             "#e6f5d0"
            ],
            [
             0.7,
             "#b8e186"
            ],
            [
             0.8,
             "#7fbc41"
            ],
            [
             0.9,
             "#4d9221"
            ],
            [
             1,
             "#276419"
            ]
           ],
           "sequential": [
            [
             0,
             "#0d0887"
            ],
            [
             0.1111111111111111,
             "#46039f"
            ],
            [
             0.2222222222222222,
             "#7201a8"
            ],
            [
             0.3333333333333333,
             "#9c179e"
            ],
            [
             0.4444444444444444,
             "#bd3786"
            ],
            [
             0.5555555555555556,
             "#d8576b"
            ],
            [
             0.6666666666666666,
             "#ed7953"
            ],
            [
             0.7777777777777778,
             "#fb9f3a"
            ],
            [
             0.8888888888888888,
             "#fdca26"
            ],
            [
             1,
             "#f0f921"
            ]
           ],
           "sequentialminus": [
            [
             0,
             "#0d0887"
            ],
            [
             0.1111111111111111,
             "#46039f"
            ],
            [
             0.2222222222222222,
             "#7201a8"
            ],
            [
             0.3333333333333333,
             "#9c179e"
            ],
            [
             0.4444444444444444,
             "#bd3786"
            ],
            [
             0.5555555555555556,
             "#d8576b"
            ],
            [
             0.6666666666666666,
             "#ed7953"
            ],
            [
             0.7777777777777778,
             "#fb9f3a"
            ],
            [
             0.8888888888888888,
             "#fdca26"
            ],
            [
             1,
             "#f0f921"
            ]
           ]
          },
          "colorway": [
           "#636efa",
           "#EF553B",
           "#00cc96",
           "#ab63fa",
           "#FFA15A",
           "#19d3f3",
           "#FF6692",
           "#B6E880",
           "#FF97FF",
           "#FECB52"
          ],
          "font": {
           "color": "#2a3f5f"
          },
          "geo": {
           "bgcolor": "white",
           "lakecolor": "white",
           "landcolor": "#E5ECF6",
           "showlakes": true,
           "showland": true,
           "subunitcolor": "white"
          },
          "hoverlabel": {
           "align": "left"
          },
          "hovermode": "closest",
          "mapbox": {
           "style": "light"
          },
          "paper_bgcolor": "white",
          "plot_bgcolor": "#E5ECF6",
          "polar": {
           "angularaxis": {
            "gridcolor": "white",
            "linecolor": "white",
            "ticks": ""
           },
           "bgcolor": "#E5ECF6",
           "radialaxis": {
            "gridcolor": "white",
            "linecolor": "white",
            "ticks": ""
           }
          },
          "scene": {
           "xaxis": {
            "backgroundcolor": "#E5ECF6",
            "gridcolor": "white",
            "gridwidth": 2,
            "linecolor": "white",
            "showbackground": true,
            "ticks": "",
            "zerolinecolor": "white"
           },
           "yaxis": {
            "backgroundcolor": "#E5ECF6",
            "gridcolor": "white",
            "gridwidth": 2,
            "linecolor": "white",
            "showbackground": true,
            "ticks": "",
            "zerolinecolor": "white"
           },
           "zaxis": {
            "backgroundcolor": "#E5ECF6",
            "gridcolor": "white",
            "gridwidth": 2,
            "linecolor": "white",
            "showbackground": true,
            "ticks": "",
            "zerolinecolor": "white"
           }
          },
          "shapedefaults": {
           "line": {
            "color": "#2a3f5f"
           }
          },
          "ternary": {
           "aaxis": {
            "gridcolor": "white",
            "linecolor": "white",
            "ticks": ""
           },
           "baxis": {
            "gridcolor": "white",
            "linecolor": "white",
            "ticks": ""
           },
           "bgcolor": "#E5ECF6",
           "caxis": {
            "gridcolor": "white",
            "linecolor": "white",
            "ticks": ""
           }
          },
          "title": {
           "x": 0.05
          },
          "xaxis": {
           "automargin": true,
           "gridcolor": "white",
           "linecolor": "white",
           "ticks": "",
           "title": {
            "standoff": 15
           },
           "zerolinecolor": "white",
           "zerolinewidth": 2
          },
          "yaxis": {
           "automargin": true,
           "gridcolor": "white",
           "linecolor": "white",
           "ticks": "",
           "title": {
            "standoff": 15
           },
           "zerolinecolor": "white",
           "zerolinewidth": 2
          }
         }
        },
        "title": {
         "font": {
          "color": "rgb(107, 107, 107)",
          "size": 20
         },
         "text": "Geographical Distribution",
         "x": 0.5,
         "xanchor": "center",
         "y": 0.95,
         "yanchor": "top"
        },
        "width": 800
       }
      }
     },
     "metadata": {},
     "output_type": "display_data"
    }
   ],
   "source": [
    "# Create Sunburst Chart\n",
    "def filter_docs(df, filter_column, filter_value):\n",
    "    filter_mask = df[filter_column] == filter_value\n",
    "    return df[filter_mask], filter_mask\n",
    "\n",
    "def compute_labels_and_parents(data_df, levels):\n",
    "    grouped = data_df.groupby(levels).size()\n",
    "\n",
    "    # Initialize lists\n",
    "    labels = []\n",
    "    parents = []\n",
    "\n",
    "    # Compute labels and parents lists\n",
    "    for i in range(len(levels)):\n",
    "        for label, value in grouped.items(): # loop over the rows\n",
    "            if label[i] not in labels:\n",
    "                labels.append(label[i]) \n",
    "                parents.append(\"\") if label[i] in data_df[levels[0]].values else parents.append(label[i-1])\n",
    "    \n",
    "    return labels, parents\n",
    "\n",
    "def prepare_dataframe(data_df, levels):\n",
    "    df_tmp=data_df.copy()\n",
    "    frequency_col_name = \"Count\"\n",
    "    df_tmp[frequency_col_name] = df_tmp.groupby(levels[-1])[levels[-1]].transform('count')\n",
    "    sunburst_df = df_tmp[levels + [frequency_col_name]].drop_duplicates()\n",
    "    sunburst_df[frequency_col_name] = sunburst_df[frequency_col_name].fillna(0)\n",
    "    \n",
    "    return sunburst_df\n",
    "\n",
    "def compute_values(sunburst_df, labels, levels):\n",
    "    values = []\n",
    "    processed_labels = set()  # This set will store the labels that have been processed\n",
    "    for label in labels:\n",
    "        if label not in processed_labels:  # Only process the label if it has not been processed before\n",
    "            for level in levels:\n",
    "                if label in sunburst_df[level].values:\n",
    "                    value = sunburst_df.loc[sunburst_df[level] == label, 'Count'].sum()\n",
    "                    values.append(value)\n",
    "                    processed_labels.add(label)  # Add the label to the set of processed labels\n",
    "                    break  # No need to check other levels for this label\n",
    "                    \n",
    "    return values\n",
    "\n",
    "def get_level(label, data_df, levels, return_highest_level=True): \n",
    "    # Find the levels that the label appears in\n",
    "    found_levels = [level for level in levels if label in data_df[level].values]\n",
    "    if not found_levels:\n",
    "        # raise ValueError(f\"Label {label} not found\")\n",
    "        return \"Unknown\"\n",
    "    # If return_highest is True, return the first level found (highest), else return the last level found (lowest)\n",
    "    if return_highest_level:\n",
    "        return found_levels[0]\n",
    "    else:\n",
    "        return found_levels[-1]\n",
    "\n",
    "def compute_percentages(sunburst_df, data_df, labels, parents, values, levels):\n",
    "    percentages = []\n",
    "    percentages_class = []\n",
    "    processed_labels = set()  # This set will store the labels that have been processed\n",
    "    \n",
    "    for level in levels:\n",
    "        # Compute total count for each label in current level\n",
    "        level_counts = sunburst_df.groupby(level)['Count'].sum()\n",
    "\n",
    "        for i, label in enumerate(labels):\n",
    "            if label not in processed_labels and label in sunburst_df[level].values:\n",
    "                label_count = sunburst_df.loc[sunburst_df[level] == label, 'Count'].sum() \n",
    "\n",
    "                # Compute total count for the parent of current label with a condition if the label has a parent or not. \n",
    "                # Without parent, the total count is the count for all labels at this highest level\n",
    "                total_count = values[labels.index(parents[i])] if parents[i]!='' else level_counts.sum()\n",
    "                # Compute total count from original dataframe \n",
    "                total_count_class = data_df[get_level(label, data_df, levels)].value_counts().get(label)                \n",
    "\n",
    "                # Compute percentage for current label\n",
    "                percentage = (label_count / total_count) * 100\n",
    "                percentages.append(percentage)\n",
    "                percentage_class = (label_count / total_count_class) * 100\n",
    "                percentages_class.append(percentage_class)\n",
    "                processed_labels.add(label)  # Add the label to the set of processed labels\n",
    "\n",
    "    return percentages, percentages_class\n",
    "\n",
    "def transform_scale_list(lst,exponent=2, desire_sum=100):\n",
    "    # Apply power transformation\n",
    "    transformed_lst = [i**exponent for i in lst]\n",
    "\n",
    "    # Scale the transformed data so that the total sum remains 100\n",
    "    total = sum(transformed_lst)\n",
    "    scaled_lst = [(i/total)*desire_sum for i in transformed_lst]\n",
    "    return scaled_lst\n",
    "\n",
    "def normalize_percentage_class(data_df, levels, labels, parents, percentages_class, scale_exponent=2):\n",
    "    # Init\n",
    "    normalized_percentages_class = [0]*len(percentages_class)\n",
    "    normalized_percentages_class_transform = [0]*len(percentages_class)\n",
    "\n",
    "    ##### Highest level\n",
    "\n",
    "    # Compute normalized_percentage_class for labels at the highest level (without parent)\n",
    "    highest_level_labels = [label for label in labels if get_level(label, data_df, levels) == levels[0]]\n",
    "    highest_level_indices = [labels.index(label) for label in highest_level_labels]\n",
    "    total_highest_level_percentage = sum(percentages_class[i] for i in highest_level_indices)\n",
    "    for i in highest_level_indices:\n",
    "        normalized_percentages_class[i] = percentages_class[i] / total_highest_level_percentage * 100\n",
    "\n",
    "    # scale the values for the highest level\n",
    "    normalized_percentages_class_transform = transform_scale_list(normalized_percentages_class,scale_exponent)\n",
    "\n",
    "    ##### Other levels\n",
    "\n",
    "    # Normalize percentages_class based on its parent\n",
    "    for level in levels[1:]: #loop on the levels except the highest one\n",
    "        level_labels = [label for label in labels if get_level(label, data_df, levels) == level]\n",
    "        level_indices = [labels.index(label) for label in level_labels]\n",
    "\n",
    "        # Loop to create the normalized_percentages_class list by level\n",
    "        for indice in level_indices:\n",
    "            sibling_indices = [j for j, parent in enumerate(parents) if parent == parents[indice]]\n",
    "            total_sibling_percentage = sum(percentages_class[j] for j in sibling_indices)\n",
    "            normalized_percentage_class = percentages_class[indice] / total_sibling_percentage * normalized_percentages_class[labels.index(parents[indice])]\n",
    "            normalized_percentages_class[indice] = normalized_percentage_class\n",
    "\n",
    "        # Loop to transform the normalized_percentages_class list by level : list normalized_percentages_class_transform\n",
    "        indices_updated = [] # list to avoid several treatments on each label\n",
    "        for indice in level_indices:\n",
    "            if indice not in indices_updated:\n",
    "                sibling_indices = [j for j, parent in enumerate(parents) if parent == parents[indice]]\n",
    "                # Get & Transform norm_pct_class by family (brothers with the same parent)\n",
    "                norm_pct_class_sibling = [normalized_percentages_class[i] for i in sibling_indices]\n",
    "                norm_pct_class_sibling_transform = transform_scale_list(norm_pct_class_sibling, scale_exponent, desire_sum=normalized_percentages_class_transform[labels.index(parents[indice])])\n",
    "                # Store the transform norm_pct_class in the normalized_percentages_class_transform list\n",
    "                for i, sibling_ind in enumerate(sibling_indices):\n",
    "                    normalized_percentages_class_transform[sibling_ind] = norm_pct_class_sibling_transform[i]\n",
    "                    indices_updated.append(sibling_ind)\n",
    "\n",
    "    return normalized_percentages_class_transform\n",
    "    \n",
    "def lighten_color(color, factor):\n",
    "    # Check if the input is RGB or hexadecimal\n",
    "    if isinstance(color, tuple):\n",
    "        r, g, b = color\n",
    "    else:\n",
    "        # Remove the '#' from the start of the color code if it exists\n",
    "        if color.startswith('#'):\n",
    "            color = color[1:]\n",
    "        r, g, b = tuple(int(color[i:i+2], 16) for i in (0, 2, 4))\n",
    "\n",
    "    # Convert RGB color to HLS\n",
    "    h, l, s = colorsys.rgb_to_hls(r/255.0, g/255.0, b/255.0)\n",
    "    # Increase the lightness\n",
    "    l = max(min(l + factor, 1.0), 0.0)\n",
    "    # Convert back to RGB\n",
    "    r, g, b = colorsys.hls_to_rgb(h, l, s)\n",
    "    \n",
    "    # Convert back to the original format\n",
    "    if isinstance(color, tuple):\n",
    "        return int(r*255), int(g*255), int(b*255)\n",
    "    else:\n",
    "        return '#%02x%02x%02x' % (int(r*255), int(g*255), int(b*255))\n",
    "    \n",
    "def compute_color_list(data_df, labels, parents, levels, color_sequence):\n",
    "    # Create a dictionary that maps each label to a color\n",
    "    color_dict = {}\n",
    "\n",
    "    # Sort your labels based on their level\n",
    "    labels_sorted = sorted(labels, key=lambda label: get_level(label, data_df, levels), reverse=True)\n",
    "    color_seq = color_sequence.copy()\n",
    "    # Iterate over your reversed sorted labels list\n",
    "    for i, label in enumerate(labels_sorted):\n",
    "        parent = parents[labels.index(label)]  # Get the parent of the current label\n",
    "        level = get_level(label, data_df, levels)  # Use your get_level function here\n",
    "\n",
    "        if level == levels[0]:\n",
    "            # Assign a unique color to each continent\n",
    "            if label not in color_dict:\n",
    "                # color_dict[label] = color_seq.pop(0)\n",
    "                color_dict[label] = color_sequence[i % len(color_sequence)]\n",
    "        else:\n",
    "            # Assign a lighter shade of the parent's color to each country or city\n",
    "            parent_color = color_dict[parent]\n",
    "            color_dict[label] = lighten_color(parent_color, 0.1)\n",
    "    return color_dict \n",
    "\n",
    "def add_unique_parent(labels, parents, values, unique_parent_name):\n",
    "    unique_parent_value = sum(values[i] for i in range(len(parents)) if parents[i] == '')\n",
    "    for i in range(len(labels)):\n",
    "        if parents[i] == '':\n",
    "            parents[i] = unique_parent_name\n",
    "    labels.append(unique_parent_name)\n",
    "    parents.append('')\n",
    "    values.append(unique_parent_value)\n",
    "\n",
    "    return labels, parents, values\n",
    "\n",
    "def compute_lists(data_df, levels, color_sequence, class_column=None, class_value=None, unique_parent=False, unique_parent_name=\"Geo Levels\"):\n",
    "    if class_column and class_value==None:\n",
    "        raise ValueError(\"When class_column is defined, class_value must be defined too and must be a value from the class_column column\")\n",
    "    \n",
    "    work_df = data_df.copy()\n",
    "    if class_column:\n",
    "        work_df = filter_docs(data_df, class_column, class_value)[0]\n",
    "    \n",
    "    labels, parents = compute_labels_and_parents(work_df, levels)\n",
    "    sunburst_df = prepare_dataframe(work_df, levels)\n",
    "    values = compute_values(sunburst_df, labels, levels)\n",
    "    # percentages, percentages_class, normalized_percentages_class = compute_percentages(sunburst_df, data_df, labels, parents, values, levels)\n",
    "    percentages, percentages_class = compute_percentages(sunburst_df, data_df, labels, parents, values, levels)\n",
    "    normalized_percentages_class_transform = normalize_percentage_class(data_df, levels, labels, parents, percentages_class, scale_exponent=1)\n",
    "    color_dict = compute_color_list(data_df, labels, parents, levels, color_sequence)\n",
    "    if unique_parent:\n",
    "        labels, parents, values =  add_unique_parent(labels, parents, values, unique_parent_name=unique_parent_name)\n",
    "        # Compute and add percentages for the unique_parent label\n",
    "        percentages.append(100)\n",
    "        percentages_class.append(len(filter_docs(data_df, class_column, class_value)[0])/len(data_df)*100) if class_column and class_value else percentages_class.append(\"None\")\n",
    "        # normalized_percentages_class.append(100) if class_column and class_value else normalized_percentages_class.append(\"None\")\n",
    "        normalized_percentages_class_transform.append(100) if class_column and class_value else normalized_percentages_class_transform.append(\"None\")\n",
    "        color_dict[unique_parent_name]='#ffffff'\n",
    "    return labels, parents, values, percentages, percentages_class, normalized_percentages_class_transform, color_dict\n",
    "\n",
    "def create_sunburst_fig(labels, parents, values, percentages, percentages_class, normalized_percentages_class_transform, color_dict, class_column=None, class_value=None, **sunburst_kwargs):\n",
    "    # Create a list of hover texts that includes the percentage for each label\n",
    "    hover_text = [f'{label}<br>Number of verbatims: {value}<br>Percentage: {percentage:.2f}%{f\"<br>Percentage of {class_value}: {percentage_class:.2f}%\" if class_column else \"\"}' for label, value, percentage, percentage_class in zip(labels, values, percentages, percentages_class)]\n",
    "\n",
    "    fig = go.Figure(data=go.Sunburst(\n",
    "        labels=labels,\n",
    "        parents=parents,\n",
    "        values=normalized_percentages_class_transform if class_column else values,\n",
    "        branchvalues='total',\n",
    "        hovertext=hover_text,\n",
    "        hovertemplate='%{hovertext}<extra></extra>',  # Only use custom hover text and remove extra info            \n",
    "        marker=dict(colors=[color_dict[label] for label in labels]),  # Set colors based on your mapping\n",
    "        # insidetextorientation='radial',  # Make labels orient radially\n",
    "        **sunburst_kwargs\n",
    "    ))\n",
    "    \n",
    "    fig.update_layout(\n",
    "        title={'text': f\"Geographical Distribution\",\n",
    "               'y':0.95,'x':0.5,\n",
    "               'xanchor': 'center','yanchor': 'top'},\n",
    "        title_font=dict(size=20,\n",
    "                        color='rgb(107, 107, 107)'),\n",
    "        width=800,\n",
    "        height=800,\n",
    "    )\n",
    "\n",
    "    return fig\n",
    "\n",
    "def sunburst(data_df, levels, color_sequence, unique_parent=True, class_column=None, class_value=None, **sunburst_kwargs):\n",
    "    labels, parents, values, percentages, percentages_class, normalized_percentages_class_transform, color_dict = compute_lists(data_df, levels, color_sequence, unique_parent=unique_parent, class_column=class_column, class_value=class_value)\n",
    "    fig = create_sunburst_fig(labels, parents, values, percentages, percentages_class, normalized_percentages_class_transform, color_dict, class_column=class_column, class_value=class_value, **sunburst_kwargs)\n",
    "    return fig\n",
    "\n",
    "levels = ['Zone','Clusters','Account Country'] # it has to be from the highest level to the lowest\n",
    "color_sequence = ['#636EFA','#EF553B','#00CC96','#AB63FA','#FFA15A','#19D3F3','#FF6692','#B6E880','#FF97FF','#FECB52','#E763FA','#BA68C8','#FFA000','#F06292','#7986CB','#4DB6AC','#FF8A65','#A1887F','#90A4AE','#E53935','#8E24AA']\n",
    "fig = sunburst(df_preprocessed, levels, color_sequence, unique_parent=True)#, class_column=\"single_emotion_label\", class_value=\"disappointment\")\n",
    "\n",
    "path = '../data/graphs/Descriptive_Analysis/fullfilling_rate'\n",
    "# Barchart.save_graph_html(fig, path, 'score_distribution')\n",
    "save_graph_html(fig, path, 'sunburst')\n",
    "\n",
    "fig"
   ]
  },
  {
   "cell_type": "code",
   "execution_count": 159,
   "metadata": {},
   "outputs": [
    {
     "data": {
      "application/vnd.plotly.v1+json": {
       "config": {
        "plotlyServerURL": "https://plot.ly"
       },
       "data": [
        {
         "customdata": [
          563
         ],
         "hovertemplate": "Zone: %{x}<br>Number of Comments: %{customdata}<extra></extra>",
         "legendgroup": "BeNe",
         "marker": {
          "color": "#636EFA"
         },
         "name": "BeNe",
         "showlegend": true,
         "text": "93.7%",
         "textposition": "auto",
         "type": "bar",
         "x": [
          "BeNe"
         ],
         "xaxis": "x",
         "y": [
          93.68
         ],
         "yaxis": "y"
        },
        {
         "customdata": [
          754
         ],
         "hovertemplate": "Zone: %{x}<br>Number of Comments: %{customdata}<extra></extra>",
         "legendgroup": "CEEI",
         "marker": {
          "color": "#EF553B"
         },
         "name": "CEEI",
         "showlegend": true,
         "text": "85.0%",
         "textposition": "auto",
         "type": "bar",
         "x": [
          "CEEI"
         ],
         "xaxis": "x",
         "y": [
          85.01
         ],
         "yaxis": "y"
        },
        {
         "customdata": [
          299
         ],
         "hovertemplate": "Zone: %{x}<br>Number of Comments: %{customdata}<extra></extra>",
         "legendgroup": "Canada",
         "marker": {
          "color": "#00CC96"
         },
         "name": "Canada",
         "showlegend": true,
         "text": "95.2%",
         "textposition": "auto",
         "type": "bar",
         "x": [
          "Canada"
         ],
         "xaxis": "x",
         "y": [
          95.22
         ],
         "yaxis": "y"
        },
        {
         "customdata": [
          362
         ],
         "hovertemplate": "Zone: %{x}<br>Number of Comments: %{customdata}<extra></extra>",
         "legendgroup": "China & HK",
         "marker": {
          "color": "#AB63FA"
         },
         "name": "China & HK",
         "showlegend": true,
         "text": "89.4%",
         "textposition": "auto",
         "type": "bar",
         "x": [
          "China & HK"
         ],
         "xaxis": "x",
         "y": [
          89.38
         ],
         "yaxis": "y"
        },
        {
         "customdata": [
          831
         ],
         "hovertemplate": "Zone: %{x}<br>Number of Comments: %{customdata}<extra></extra>",
         "legendgroup": "DACH",
         "marker": {
          "color": "#FFA15A"
         },
         "name": "DACH",
         "showlegend": true,
         "text": "90.4%",
         "textposition": "auto",
         "type": "bar",
         "x": [
          "DACH"
         ],
         "xaxis": "x",
         "y": [
          90.42
         ],
         "yaxis": "y"
        },
        {
         "customdata": [
          951
         ],
         "hovertemplate": "Zone: %{x}<br>Number of Comments: %{customdata}<extra></extra>",
         "legendgroup": "East Asia Japan",
         "marker": {
          "color": "#19D3F3"
         },
         "name": "East Asia Japan",
         "showlegend": true,
         "text": "80.8%",
         "textposition": "auto",
         "type": "bar",
         "x": [
          "East Asia Japan"
         ],
         "xaxis": "x",
         "y": [
          80.8
         ],
         "yaxis": "y"
        },
        {
         "customdata": [
          291
         ],
         "hovertemplate": "Zone: %{x}<br>Number of Comments: %{customdata}<extra></extra>",
         "legendgroup": "France",
         "marker": {
          "color": "#FF6692"
         },
         "name": "France",
         "showlegend": true,
         "text": "82.0%",
         "textposition": "auto",
         "type": "bar",
         "x": [
          "France"
         ],
         "xaxis": "x",
         "y": [
          81.97
         ],
         "yaxis": "y"
        },
        {
         "customdata": [
          356
         ],
         "hovertemplate": "Zone: %{x}<br>Number of Comments: %{customdata}<extra></extra>",
         "legendgroup": "Greater India",
         "marker": {
          "color": "#B6E880"
         },
         "name": "Greater India",
         "showlegend": true,
         "text": "96.2%",
         "textposition": "auto",
         "type": "bar",
         "x": [
          "Greater India"
         ],
         "xaxis": "x",
         "y": [
          96.22
         ],
         "yaxis": "y"
        },
        {
         "customdata": [
          499
         ],
         "hovertemplate": "Zone: %{x}<br>Number of Comments: %{customdata}<extra></extra>",
         "legendgroup": "Iberia",
         "marker": {
          "color": "#FF97FF"
         },
         "name": "Iberia",
         "showlegend": true,
         "text": "63.7%",
         "textposition": "auto",
         "type": "bar",
         "x": [
          "Iberia"
         ],
         "xaxis": "x",
         "y": [
          63.73
         ],
         "yaxis": "y"
        },
        {
         "customdata": [
          261
         ],
         "hovertemplate": "Zone: %{x}<br>Number of Comments: %{customdata}<extra></extra>",
         "legendgroup": "Italy",
         "marker": {
          "color": "#FECB52"
         },
         "name": "Italy",
         "showlegend": true,
         "text": "59.5%",
         "textposition": "auto",
         "type": "bar",
         "x": [
          "Italy"
         ],
         "xaxis": "x",
         "y": [
          59.45
         ],
         "yaxis": "y"
        },
        {
         "customdata": [
          324
         ],
         "hovertemplate": "Zone: %{x}<br>Number of Comments: %{customdata}<extra></extra>",
         "legendgroup": "Middle East and Africa",
         "marker": {
          "color": "#E763FA"
         },
         "name": "Middle East and Africa",
         "showlegend": true,
         "text": "80.2%",
         "textposition": "auto",
         "type": "bar",
         "x": [
          "Middle East and Africa"
         ],
         "xaxis": "x",
         "y": [
          80.2
         ],
         "yaxis": "y"
        },
        {
         "customdata": [
          717
         ],
         "hovertemplate": "Zone: %{x}<br>Number of Comments: %{customdata}<extra></extra>",
         "legendgroup": "Nordic & Baltics",
         "marker": {
          "color": "#BA68C8"
         },
         "name": "Nordic & Baltics",
         "showlegend": true,
         "text": "90.4%",
         "textposition": "auto",
         "type": "bar",
         "x": [
          "Nordic & Baltics"
         ],
         "xaxis": "x",
         "y": [
          90.42
         ],
         "yaxis": "y"
        },
        {
         "customdata": [
          369
         ],
         "hovertemplate": "Zone: %{x}<br>Number of Comments: %{customdata}<extra></extra>",
         "legendgroup": "Pacific",
         "marker": {
          "color": "#FFA000"
         },
         "name": "Pacific",
         "showlegend": true,
         "text": "94.1%",
         "textposition": "auto",
         "type": "bar",
         "x": [
          "Pacific"
         ],
         "xaxis": "x",
         "y": [
          94.13
         ],
         "yaxis": "y"
        },
        {
         "customdata": [
          386
         ],
         "hovertemplate": "Zone: %{x}<br>Number of Comments: %{customdata}<extra></extra>",
         "legendgroup": "South America",
         "marker": {
          "color": "#F06292"
         },
         "name": "South America",
         "showlegend": true,
         "text": "74.4%",
         "textposition": "auto",
         "type": "bar",
         "x": [
          "South America"
         ],
         "xaxis": "x",
         "y": [
          74.37
         ],
         "yaxis": "y"
        },
        {
         "customdata": [
          297
         ],
         "hovertemplate": "Zone: %{x}<br>Number of Comments: %{customdata}<extra></extra>",
         "legendgroup": "UK and Ireland",
         "marker": {
          "color": "#7986CB"
         },
         "name": "UK and Ireland",
         "showlegend": true,
         "text": "94.3%",
         "textposition": "auto",
         "type": "bar",
         "x": [
          "UK and Ireland"
         ],
         "xaxis": "x",
         "y": [
          94.29
         ],
         "yaxis": "y"
        },
        {
         "customdata": [
          572
         ],
         "hovertemplate": "Zone: %{x}<br>Number of Comments: %{customdata}<extra></extra>",
         "legendgroup": "US",
         "marker": {
          "color": "#4DB6AC"
         },
         "name": "US",
         "showlegend": true,
         "text": "95.2%",
         "textposition": "auto",
         "type": "bar",
         "x": [
          "US"
         ],
         "xaxis": "x",
         "y": [
          95.17
         ],
         "yaxis": "y"
        },
        {
         "customdata": [
          601
         ],
         "hovertemplate": "Zone: %{x}<br>Total Number of Rows: %{customdata}<extra></extra>",
         "legendgroup": "BeNe",
         "marker": {
          "color": "lightgrey"
         },
         "name": "Without Comments",
         "showlegend": false,
         "type": "bar",
         "x": [
          "BeNe"
         ],
         "xaxis": "x",
         "y": [
          6.319999999999993
         ],
         "yaxis": "y"
        },
        {
         "customdata": [
          887
         ],
         "hovertemplate": "Zone: %{x}<br>Total Number of Rows: %{customdata}<extra></extra>",
         "legendgroup": "CEEI",
         "marker": {
          "color": "lightgrey"
         },
         "name": "Without Comments",
         "showlegend": false,
         "type": "bar",
         "x": [
          "CEEI"
         ],
         "xaxis": "x",
         "y": [
          14.989999999999995
         ],
         "yaxis": "y"
        },
        {
         "customdata": [
          314
         ],
         "hovertemplate": "Zone: %{x}<br>Total Number of Rows: %{customdata}<extra></extra>",
         "legendgroup": "Canada",
         "marker": {
          "color": "lightgrey"
         },
         "name": "Without Comments",
         "showlegend": false,
         "type": "bar",
         "x": [
          "Canada"
         ],
         "xaxis": "x",
         "y": [
          4.780000000000001
         ],
         "yaxis": "y"
        },
        {
         "customdata": [
          405
         ],
         "hovertemplate": "Zone: %{x}<br>Total Number of Rows: %{customdata}<extra></extra>",
         "legendgroup": "China & HK",
         "marker": {
          "color": "lightgrey"
         },
         "name": "Without Comments",
         "showlegend": false,
         "type": "bar",
         "x": [
          "China & HK"
         ],
         "xaxis": "x",
         "y": [
          10.620000000000005
         ],
         "yaxis": "y"
        },
        {
         "customdata": [
          919
         ],
         "hovertemplate": "Zone: %{x}<br>Total Number of Rows: %{customdata}<extra></extra>",
         "legendgroup": "DACH",
         "marker": {
          "color": "lightgrey"
         },
         "name": "Without Comments",
         "showlegend": false,
         "type": "bar",
         "x": [
          "DACH"
         ],
         "xaxis": "x",
         "y": [
          9.579999999999998
         ],
         "yaxis": "y"
        },
        {
         "customdata": [
          1177
         ],
         "hovertemplate": "Zone: %{x}<br>Total Number of Rows: %{customdata}<extra></extra>",
         "legendgroup": "East Asia Japan",
         "marker": {
          "color": "lightgrey"
         },
         "name": "Without Comments",
         "showlegend": false,
         "type": "bar",
         "x": [
          "East Asia Japan"
         ],
         "xaxis": "x",
         "y": [
          19.200000000000003
         ],
         "yaxis": "y"
        },
        {
         "customdata": [
          355
         ],
         "hovertemplate": "Zone: %{x}<br>Total Number of Rows: %{customdata}<extra></extra>",
         "legendgroup": "France",
         "marker": {
          "color": "lightgrey"
         },
         "name": "Without Comments",
         "showlegend": false,
         "type": "bar",
         "x": [
          "France"
         ],
         "xaxis": "x",
         "y": [
          18.03
         ],
         "yaxis": "y"
        },
        {
         "customdata": [
          370
         ],
         "hovertemplate": "Zone: %{x}<br>Total Number of Rows: %{customdata}<extra></extra>",
         "legendgroup": "Greater India",
         "marker": {
          "color": "lightgrey"
         },
         "name": "Without Comments",
         "showlegend": false,
         "type": "bar",
         "x": [
          "Greater India"
         ],
         "xaxis": "x",
         "y": [
          3.780000000000001
         ],
         "yaxis": "y"
        },
        {
         "customdata": [
          783
         ],
         "hovertemplate": "Zone: %{x}<br>Total Number of Rows: %{customdata}<extra></extra>",
         "legendgroup": "Iberia",
         "marker": {
          "color": "lightgrey"
         },
         "name": "Without Comments",
         "showlegend": false,
         "type": "bar",
         "x": [
          "Iberia"
         ],
         "xaxis": "x",
         "y": [
          36.27
         ],
         "yaxis": "y"
        },
        {
         "customdata": [
          439
         ],
         "hovertemplate": "Zone: %{x}<br>Total Number of Rows: %{customdata}<extra></extra>",
         "legendgroup": "Italy",
         "marker": {
          "color": "lightgrey"
         },
         "name": "Without Comments",
         "showlegend": false,
         "type": "bar",
         "x": [
          "Italy"
         ],
         "xaxis": "x",
         "y": [
          40.55
         ],
         "yaxis": "y"
        },
        {
         "customdata": [
          404
         ],
         "hovertemplate": "Zone: %{x}<br>Total Number of Rows: %{customdata}<extra></extra>",
         "legendgroup": "Middle East and Africa",
         "marker": {
          "color": "lightgrey"
         },
         "name": "Without Comments",
         "showlegend": false,
         "type": "bar",
         "x": [
          "Middle East and Africa"
         ],
         "xaxis": "x",
         "y": [
          19.799999999999997
         ],
         "yaxis": "y"
        },
        {
         "customdata": [
          793
         ],
         "hovertemplate": "Zone: %{x}<br>Total Number of Rows: %{customdata}<extra></extra>",
         "legendgroup": "Nordic & Baltics",
         "marker": {
          "color": "lightgrey"
         },
         "name": "Without Comments",
         "showlegend": false,
         "type": "bar",
         "x": [
          "Nordic & Baltics"
         ],
         "xaxis": "x",
         "y": [
          9.579999999999998
         ],
         "yaxis": "y"
        },
        {
         "customdata": [
          392
         ],
         "hovertemplate": "Zone: %{x}<br>Total Number of Rows: %{customdata}<extra></extra>",
         "legendgroup": "Pacific",
         "marker": {
          "color": "lightgrey"
         },
         "name": "Without Comments",
         "showlegend": false,
         "type": "bar",
         "x": [
          "Pacific"
         ],
         "xaxis": "x",
         "y": [
          5.8700000000000045
         ],
         "yaxis": "y"
        },
        {
         "customdata": [
          519
         ],
         "hovertemplate": "Zone: %{x}<br>Total Number of Rows: %{customdata}<extra></extra>",
         "legendgroup": "South America",
         "marker": {
          "color": "lightgrey"
         },
         "name": "Without Comments",
         "showlegend": false,
         "type": "bar",
         "x": [
          "South America"
         ],
         "xaxis": "x",
         "y": [
          25.629999999999995
         ],
         "yaxis": "y"
        },
        {
         "customdata": [
          315
         ],
         "hovertemplate": "Zone: %{x}<br>Total Number of Rows: %{customdata}<extra></extra>",
         "legendgroup": "UK and Ireland",
         "marker": {
          "color": "lightgrey"
         },
         "name": "Without Comments",
         "showlegend": false,
         "type": "bar",
         "x": [
          "UK and Ireland"
         ],
         "xaxis": "x",
         "y": [
          5.709999999999994
         ],
         "yaxis": "y"
        },
        {
         "customdata": [
          601
         ],
         "hovertemplate": "Zone: %{x}<br>Total Number of Rows: %{customdata}<extra></extra>",
         "legendgroup": "US",
         "marker": {
          "color": "lightgrey"
         },
         "name": "Without Comments",
         "showlegend": false,
         "type": "bar",
         "x": [
          "US"
         ],
         "xaxis": "x",
         "y": [
          4.829999999999998
         ],
         "yaxis": "y"
        }
       ],
       "layout": {
        "barmode": "stack",
        "height": 700,
        "showlegend": true,
        "template": {
         "data": {
          "bar": [
           {
            "error_x": {
             "color": "#2a3f5f"
            },
            "error_y": {
             "color": "#2a3f5f"
            },
            "marker": {
             "line": {
              "color": "#E5ECF6",
              "width": 0.5
             },
             "pattern": {
              "fillmode": "overlay",
              "size": 10,
              "solidity": 0.2
             }
            },
            "type": "bar"
           }
          ],
          "barpolar": [
           {
            "marker": {
             "line": {
              "color": "#E5ECF6",
              "width": 0.5
             },
             "pattern": {
              "fillmode": "overlay",
              "size": 10,
              "solidity": 0.2
             }
            },
            "type": "barpolar"
           }
          ],
          "carpet": [
           {
            "aaxis": {
             "endlinecolor": "#2a3f5f",
             "gridcolor": "white",
             "linecolor": "white",
             "minorgridcolor": "white",
             "startlinecolor": "#2a3f5f"
            },
            "baxis": {
             "endlinecolor": "#2a3f5f",
             "gridcolor": "white",
             "linecolor": "white",
             "minorgridcolor": "white",
             "startlinecolor": "#2a3f5f"
            },
            "type": "carpet"
           }
          ],
          "choropleth": [
           {
            "colorbar": {
             "outlinewidth": 0,
             "ticks": ""
            },
            "type": "choropleth"
           }
          ],
          "contour": [
           {
            "colorbar": {
             "outlinewidth": 0,
             "ticks": ""
            },
            "colorscale": [
             [
              0,
              "#0d0887"
             ],
             [
              0.1111111111111111,
              "#46039f"
             ],
             [
              0.2222222222222222,
              "#7201a8"
             ],
             [
              0.3333333333333333,
              "#9c179e"
             ],
             [
              0.4444444444444444,
              "#bd3786"
             ],
             [
              0.5555555555555556,
              "#d8576b"
             ],
             [
              0.6666666666666666,
              "#ed7953"
             ],
             [
              0.7777777777777778,
              "#fb9f3a"
             ],
             [
              0.8888888888888888,
              "#fdca26"
             ],
             [
              1,
              "#f0f921"
             ]
            ],
            "type": "contour"
           }
          ],
          "contourcarpet": [
           {
            "colorbar": {
             "outlinewidth": 0,
             "ticks": ""
            },
            "type": "contourcarpet"
           }
          ],
          "heatmap": [
           {
            "colorbar": {
             "outlinewidth": 0,
             "ticks": ""
            },
            "colorscale": [
             [
              0,
              "#0d0887"
             ],
             [
              0.1111111111111111,
              "#46039f"
             ],
             [
              0.2222222222222222,
              "#7201a8"
             ],
             [
              0.3333333333333333,
              "#9c179e"
             ],
             [
              0.4444444444444444,
              "#bd3786"
             ],
             [
              0.5555555555555556,
              "#d8576b"
             ],
             [
              0.6666666666666666,
              "#ed7953"
             ],
             [
              0.7777777777777778,
              "#fb9f3a"
             ],
             [
              0.8888888888888888,
              "#fdca26"
             ],
             [
              1,
              "#f0f921"
             ]
            ],
            "type": "heatmap"
           }
          ],
          "heatmapgl": [
           {
            "colorbar": {
             "outlinewidth": 0,
             "ticks": ""
            },
            "colorscale": [
             [
              0,
              "#0d0887"
             ],
             [
              0.1111111111111111,
              "#46039f"
             ],
             [
              0.2222222222222222,
              "#7201a8"
             ],
             [
              0.3333333333333333,
              "#9c179e"
             ],
             [
              0.4444444444444444,
              "#bd3786"
             ],
             [
              0.5555555555555556,
              "#d8576b"
             ],
             [
              0.6666666666666666,
              "#ed7953"
             ],
             [
              0.7777777777777778,
              "#fb9f3a"
             ],
             [
              0.8888888888888888,
              "#fdca26"
             ],
             [
              1,
              "#f0f921"
             ]
            ],
            "type": "heatmapgl"
           }
          ],
          "histogram": [
           {
            "marker": {
             "pattern": {
              "fillmode": "overlay",
              "size": 10,
              "solidity": 0.2
             }
            },
            "type": "histogram"
           }
          ],
          "histogram2d": [
           {
            "colorbar": {
             "outlinewidth": 0,
             "ticks": ""
            },
            "colorscale": [
             [
              0,
              "#0d0887"
             ],
             [
              0.1111111111111111,
              "#46039f"
             ],
             [
              0.2222222222222222,
              "#7201a8"
             ],
             [
              0.3333333333333333,
              "#9c179e"
             ],
             [
              0.4444444444444444,
              "#bd3786"
             ],
             [
              0.5555555555555556,
              "#d8576b"
             ],
             [
              0.6666666666666666,
              "#ed7953"
             ],
             [
              0.7777777777777778,
              "#fb9f3a"
             ],
             [
              0.8888888888888888,
              "#fdca26"
             ],
             [
              1,
              "#f0f921"
             ]
            ],
            "type": "histogram2d"
           }
          ],
          "histogram2dcontour": [
           {
            "colorbar": {
             "outlinewidth": 0,
             "ticks": ""
            },
            "colorscale": [
             [
              0,
              "#0d0887"
             ],
             [
              0.1111111111111111,
              "#46039f"
             ],
             [
              0.2222222222222222,
              "#7201a8"
             ],
             [
              0.3333333333333333,
              "#9c179e"
             ],
             [
              0.4444444444444444,
              "#bd3786"
             ],
             [
              0.5555555555555556,
              "#d8576b"
             ],
             [
              0.6666666666666666,
              "#ed7953"
             ],
             [
              0.7777777777777778,
              "#fb9f3a"
             ],
             [
              0.8888888888888888,
              "#fdca26"
             ],
             [
              1,
              "#f0f921"
             ]
            ],
            "type": "histogram2dcontour"
           }
          ],
          "mesh3d": [
           {
            "colorbar": {
             "outlinewidth": 0,
             "ticks": ""
            },
            "type": "mesh3d"
           }
          ],
          "parcoords": [
           {
            "line": {
             "colorbar": {
              "outlinewidth": 0,
              "ticks": ""
             }
            },
            "type": "parcoords"
           }
          ],
          "pie": [
           {
            "automargin": true,
            "type": "pie"
           }
          ],
          "scatter": [
           {
            "fillpattern": {
             "fillmode": "overlay",
             "size": 10,
             "solidity": 0.2
            },
            "type": "scatter"
           }
          ],
          "scatter3d": [
           {
            "line": {
             "colorbar": {
              "outlinewidth": 0,
              "ticks": ""
             }
            },
            "marker": {
             "colorbar": {
              "outlinewidth": 0,
              "ticks": ""
             }
            },
            "type": "scatter3d"
           }
          ],
          "scattercarpet": [
           {
            "marker": {
             "colorbar": {
              "outlinewidth": 0,
              "ticks": ""
             }
            },
            "type": "scattercarpet"
           }
          ],
          "scattergeo": [
           {
            "marker": {
             "colorbar": {
              "outlinewidth": 0,
              "ticks": ""
             }
            },
            "type": "scattergeo"
           }
          ],
          "scattergl": [
           {
            "marker": {
             "colorbar": {
              "outlinewidth": 0,
              "ticks": ""
             }
            },
            "type": "scattergl"
           }
          ],
          "scattermapbox": [
           {
            "marker": {
             "colorbar": {
              "outlinewidth": 0,
              "ticks": ""
             }
            },
            "type": "scattermapbox"
           }
          ],
          "scatterpolar": [
           {
            "marker": {
             "colorbar": {
              "outlinewidth": 0,
              "ticks": ""
             }
            },
            "type": "scatterpolar"
           }
          ],
          "scatterpolargl": [
           {
            "marker": {
             "colorbar": {
              "outlinewidth": 0,
              "ticks": ""
             }
            },
            "type": "scatterpolargl"
           }
          ],
          "scatterternary": [
           {
            "marker": {
             "colorbar": {
              "outlinewidth": 0,
              "ticks": ""
             }
            },
            "type": "scatterternary"
           }
          ],
          "surface": [
           {
            "colorbar": {
             "outlinewidth": 0,
             "ticks": ""
            },
            "colorscale": [
             [
              0,
              "#0d0887"
             ],
             [
              0.1111111111111111,
              "#46039f"
             ],
             [
              0.2222222222222222,
              "#7201a8"
             ],
             [
              0.3333333333333333,
              "#9c179e"
             ],
             [
              0.4444444444444444,
              "#bd3786"
             ],
             [
              0.5555555555555556,
              "#d8576b"
             ],
             [
              0.6666666666666666,
              "#ed7953"
             ],
             [
              0.7777777777777778,
              "#fb9f3a"
             ],
             [
              0.8888888888888888,
              "#fdca26"
             ],
             [
              1,
              "#f0f921"
             ]
            ],
            "type": "surface"
           }
          ],
          "table": [
           {
            "cells": {
             "fill": {
              "color": "#EBF0F8"
             },
             "line": {
              "color": "white"
             }
            },
            "header": {
             "fill": {
              "color": "#C8D4E3"
             },
             "line": {
              "color": "white"
             }
            },
            "type": "table"
           }
          ]
         },
         "layout": {
          "annotationdefaults": {
           "arrowcolor": "#2a3f5f",
           "arrowhead": 0,
           "arrowwidth": 1
          },
          "autotypenumbers": "strict",
          "coloraxis": {
           "colorbar": {
            "outlinewidth": 0,
            "ticks": ""
           }
          },
          "colorscale": {
           "diverging": [
            [
             0,
             "#8e0152"
            ],
            [
             0.1,
             "#c51b7d"
            ],
            [
             0.2,
             "#de77ae"
            ],
            [
             0.3,
             "#f1b6da"
            ],
            [
             0.4,
             "#fde0ef"
            ],
            [
             0.5,
             "#f7f7f7"
            ],
            [
             0.6,
             "#e6f5d0"
            ],
            [
             0.7,
             "#b8e186"
            ],
            [
             0.8,
             "#7fbc41"
            ],
            [
             0.9,
             "#4d9221"
            ],
            [
             1,
             "#276419"
            ]
           ],
           "sequential": [
            [
             0,
             "#0d0887"
            ],
            [
             0.1111111111111111,
             "#46039f"
            ],
            [
             0.2222222222222222,
             "#7201a8"
            ],
            [
             0.3333333333333333,
             "#9c179e"
            ],
            [
             0.4444444444444444,
             "#bd3786"
            ],
            [
             0.5555555555555556,
             "#d8576b"
            ],
            [
             0.6666666666666666,
             "#ed7953"
            ],
            [
             0.7777777777777778,
             "#fb9f3a"
            ],
            [
             0.8888888888888888,
             "#fdca26"
            ],
            [
             1,
             "#f0f921"
            ]
           ],
           "sequentialminus": [
            [
             0,
             "#0d0887"
            ],
            [
             0.1111111111111111,
             "#46039f"
            ],
            [
             0.2222222222222222,
             "#7201a8"
            ],
            [
             0.3333333333333333,
             "#9c179e"
            ],
            [
             0.4444444444444444,
             "#bd3786"
            ],
            [
             0.5555555555555556,
             "#d8576b"
            ],
            [
             0.6666666666666666,
             "#ed7953"
            ],
            [
             0.7777777777777778,
             "#fb9f3a"
            ],
            [
             0.8888888888888888,
             "#fdca26"
            ],
            [
             1,
             "#f0f921"
            ]
           ]
          },
          "colorway": [
           "#636efa",
           "#EF553B",
           "#00cc96",
           "#ab63fa",
           "#FFA15A",
           "#19d3f3",
           "#FF6692",
           "#B6E880",
           "#FF97FF",
           "#FECB52"
          ],
          "font": {
           "color": "#2a3f5f"
          },
          "geo": {
           "bgcolor": "white",
           "lakecolor": "white",
           "landcolor": "#E5ECF6",
           "showlakes": true,
           "showland": true,
           "subunitcolor": "white"
          },
          "hoverlabel": {
           "align": "left"
          },
          "hovermode": "closest",
          "mapbox": {
           "style": "light"
          },
          "paper_bgcolor": "white",
          "plot_bgcolor": "#E5ECF6",
          "polar": {
           "angularaxis": {
            "gridcolor": "white",
            "linecolor": "white",
            "ticks": ""
           },
           "bgcolor": "#E5ECF6",
           "radialaxis": {
            "gridcolor": "white",
            "linecolor": "white",
            "ticks": ""
           }
          },
          "scene": {
           "xaxis": {
            "backgroundcolor": "#E5ECF6",
            "gridcolor": "white",
            "gridwidth": 2,
            "linecolor": "white",
            "showbackground": true,
            "ticks": "",
            "zerolinecolor": "white"
           },
           "yaxis": {
            "backgroundcolor": "#E5ECF6",
            "gridcolor": "white",
            "gridwidth": 2,
            "linecolor": "white",
            "showbackground": true,
            "ticks": "",
            "zerolinecolor": "white"
           },
           "zaxis": {
            "backgroundcolor": "#E5ECF6",
            "gridcolor": "white",
            "gridwidth": 2,
            "linecolor": "white",
            "showbackground": true,
            "ticks": "",
            "zerolinecolor": "white"
           }
          },
          "shapedefaults": {
           "line": {
            "color": "#2a3f5f"
           }
          },
          "ternary": {
           "aaxis": {
            "gridcolor": "white",
            "linecolor": "white",
            "ticks": ""
           },
           "baxis": {
            "gridcolor": "white",
            "linecolor": "white",
            "ticks": ""
           },
           "bgcolor": "#E5ECF6",
           "caxis": {
            "gridcolor": "white",
            "linecolor": "white",
            "ticks": ""
           }
          },
          "title": {
           "x": 0.05
          },
          "xaxis": {
           "automargin": true,
           "gridcolor": "white",
           "linecolor": "white",
           "ticks": "",
           "title": {
            "standoff": 15
           },
           "zerolinecolor": "white",
           "zerolinewidth": 2
          },
          "yaxis": {
           "automargin": true,
           "gridcolor": "white",
           "linecolor": "white",
           "ticks": "",
           "title": {
            "standoff": 15
           },
           "zerolinecolor": "white",
           "zerolinewidth": 2
          }
         }
        },
        "title": {
         "text": "Percentage of Rows with Comments by year and Zone"
        },
        "width": 1300,
        "xaxis": {
         "anchor": "y",
         "domain": [
          0,
          1
         ],
         "tickangle": 45
        },
        "yaxis": {
         "anchor": "x",
         "domain": [
          0,
          1
         ],
         "title": {
          "standoff": 0,
          "text": "2018"
         }
        }
       }
      }
     },
     "metadata": {},
     "output_type": "display_data"
    }
   ],
   "source": [
    "def filling_data_barchart(df, group_column, count_column, color_sequence = ['#636EFA','#EF553B','#00CC96','#AB63FA','#FFA15A','#19D3F3','#FF6692','#B6E880','#FF97FF','#FECB52','#E763FA','#BA68C8','#FFA000','#F06292','#7986CB','#4DB6AC','#FF8A65','#A1887F','#90A4AE','#E53935','#8E24AA'], **kwargs):\n",
    "    # Group by group_column and calculate the total number of rows and the number of rows with comments\n",
    "    grouped = df.groupby(group_column).agg(\n",
    "        total_rows=pd.NamedAgg(column=count_column, aggfunc='count'),\n",
    "        rows_with_comments=pd.NamedAgg(column=count_column, aggfunc='sum')\n",
    "    )\n",
    "\n",
    "    # Calculate the percentage of rows with comments and without comments\n",
    "    grouped['percentage_with_comments'] = round(grouped['rows_with_comments'] / grouped['total_rows'] * 100,2)\n",
    "    grouped['percentage_without_comments'] = 100 - grouped['percentage_with_comments']\n",
    "\n",
    "    # Create a color iterator\n",
    "    color_iterator = cycle(color_sequence)\n",
    "\n",
    "    # Create a stacked bar chart using go.Figure\n",
    "    fig = go.Figure(data=[\n",
    "        go.Bar(name=str(index), x=[index], y=[grouped.loc[index, 'percentage_with_comments']], marker_color=next(color_iterator), text='{:.1f}%'.format(grouped.loc[index, 'percentage_with_comments']), textposition='auto', hovertemplate=f'{group_column}: %{{x}}<br>Number of Comments: %{{customdata}}<extra></extra>', customdata=[grouped.loc[index, 'rows_with_comments']], showlegend=True, legendgroup=str(index)) for index in grouped.index\n",
    "    ] + [\n",
    "        go.Bar(name='Without Comments', x=[index], y=[grouped.loc[index, 'percentage_without_comments']], marker_color='lightgrey', hovertemplate=f'{group_column}: %{{x}}<br>Total Number of Rows: %{{customdata}}<extra></extra>', customdata=[grouped.loc[index, 'total_rows']], showlegend=False, legendgroup=str(index)) for index in grouped.index\n",
    "    ])\n",
    "\n",
    "    # Change the bar mode\n",
    "    fig.update_layout(barmode='stack')\n",
    "\n",
    "    # Set chart title and labels\n",
    "    fig.update_layout(\n",
    "        title_text=f'Percentage of Rows with Comments by {group_column}',\n",
    "        xaxis_title=group_column,\n",
    "        yaxis_title='Percentage of Rows',\n",
    "        showlegend=True,\n",
    "        **kwargs\n",
    "    )\n",
    "    \n",
    "    return fig\n",
    "\n",
    "def filling_data_barcharts(df, group_columns, count_column, values_list=None, color_sequence=['#636EFA','#EF553B','#00CC96','#AB63FA','#FFA15A','#19D3F3','#FF6692','#B6E880','#FF97FF','#FECB52','#E763FA','#BA68C8','#FFA000','#F06292','#7986CB','#4DB6AC','#FF8A65','#A1887F','#90A4AE','#E53935','#8E24AA'], **kwargs):\n",
    "    # If values_list is None, get all unique values from group_columns[0]\n",
    "    if values_list is None:\n",
    "        values_list = df[group_columns[0]].unique()\n",
    "\n",
    "    # Filter df for only the values in values_list\n",
    "    df = df[df[group_columns[0]].isin(values_list)]\n",
    "\n",
    "    # Create a subplot for each unique value in the first group column\n",
    "    fig = sp.make_subplots(rows=len(values_list), cols=1)\n",
    "\n",
    "    for i, value in enumerate(values_list, start=1):\n",
    "        df_group = df[df[group_columns[0]] == value]\n",
    "        fig_group = filling_data_barchart(df_group, group_columns[1], count_column, color_sequence)\n",
    "\n",
    "        for trace in fig_group.data:\n",
    "            trace.name = trace.name.split(' - ')[0]  \n",
    "            fig.add_trace(trace, row=i, col=1)              \n",
    "\n",
    "        # Add y-axis title to each subplot\n",
    "        fig.update_yaxes(title_text=str(value), title_standoff=0, row=i, col=1)\n",
    "\n",
    "        # Only show legend for the first subplot\n",
    "        if i > 1:\n",
    "            for trace in fig.data[-len(fig_group.data):]:\n",
    "                trace.showlegend = False\n",
    "\n",
    "    # Update layout and add interactive legend\n",
    "    fig.update_layout(\n",
    "        # height=400*len(values_list), \n",
    "        title_text=f\"Percentage of Rows with Comments by {group_columns[0]} and {group_columns[1]}\", \n",
    "        barmode='stack', \n",
    "        showlegend=True,\n",
    "        xaxis=dict(tickangle=45), # Rotate x-axis labels\n",
    "        **kwargs\n",
    "    )\n",
    "\n",
    "    fig.update_xaxes(tickangle=45)\n",
    "\n",
    "    return fig\n",
    "\n",
    "fig = filling_data_barchart(df_preprocessed_full, 'year', 'non_empty_rows')\n",
    "fig = filling_data_barcharts(df_preprocessed_full, ['year', 'Zone'], 'non_empty_rows', values_list=[2018], height=700, width=1300)\n",
    "\n",
    "import os\n",
    "def save_graph_html(fig, path, name):\n",
    "    # Create the directory if it doesn't exist\n",
    "    if not os.path.exists(path):\n",
    "        os.makedirs(path)\n",
    "        \n",
    "    return fig.write_html(path+\"/\"+name+\".html\")\n",
    "\n",
    "path = '../data/graphs/Descriptive_Analysis/fullfilling_rate'\n",
    "# Barchart.save_graph_html(fig, path, 'score_distribution')\n",
    "# save_graph_html(fig, path, 'filling_comments_by_year_Zone')\n",
    "fig\n"
   ]
  },
  {
   "cell_type": "code",
   "execution_count": 151,
   "metadata": {},
   "outputs": [
    {
     "data": {
      "application/vnd.plotly.v1+json": {
       "config": {
        "plotlyServerURL": "https://plot.ly"
       },
       "data": [
        {
         "hoverinfo": "text",
         "hovertext": [
          "Count: 1183<br>Percentage: 2.15%",
          "Count: 471<br>Percentage: 0.86%",
          "Count: 628<br>Percentage: 1.14%",
          "Count: 723<br>Percentage: 1.31%",
          "Count: 654<br>Percentage: 1.19%",
          "Count: 2124<br>Percentage: 3.86%",
          "Count: 1831<br>Percentage: 3.32%",
          "Count: 4723<br>Percentage: 8.58%",
          "Count: 11695<br>Percentage: 21.24%",
          "Count: 10252<br>Percentage: 18.62%",
          "Count: 20788<br>Percentage: 37.75%"
         ],
         "name": "",
         "type": "bar",
         "x": [
          0,
          1,
          2,
          3,
          4,
          5,
          6,
          7,
          8,
          9,
          10
         ],
         "y": [
          2.1480970366066243,
          0.8552440441603718,
          1.1403253922138292,
          1.3128268448576408,
          1.1875363160952934,
          3.856769320162696,
          3.324738524113887,
          8.57604590354445,
          21.23583672283556,
          18.615630447414294,
          37.746949447995355
         ]
        }
       ],
       "layout": {
        "template": {
         "data": {
          "bar": [
           {
            "error_x": {
             "color": "#2a3f5f"
            },
            "error_y": {
             "color": "#2a3f5f"
            },
            "marker": {
             "line": {
              "color": "#E5ECF6",
              "width": 0.5
             },
             "pattern": {
              "fillmode": "overlay",
              "size": 10,
              "solidity": 0.2
             }
            },
            "type": "bar"
           }
          ],
          "barpolar": [
           {
            "marker": {
             "line": {
              "color": "#E5ECF6",
              "width": 0.5
             },
             "pattern": {
              "fillmode": "overlay",
              "size": 10,
              "solidity": 0.2
             }
            },
            "type": "barpolar"
           }
          ],
          "carpet": [
           {
            "aaxis": {
             "endlinecolor": "#2a3f5f",
             "gridcolor": "white",
             "linecolor": "white",
             "minorgridcolor": "white",
             "startlinecolor": "#2a3f5f"
            },
            "baxis": {
             "endlinecolor": "#2a3f5f",
             "gridcolor": "white",
             "linecolor": "white",
             "minorgridcolor": "white",
             "startlinecolor": "#2a3f5f"
            },
            "type": "carpet"
           }
          ],
          "choropleth": [
           {
            "colorbar": {
             "outlinewidth": 0,
             "ticks": ""
            },
            "type": "choropleth"
           }
          ],
          "contour": [
           {
            "colorbar": {
             "outlinewidth": 0,
             "ticks": ""
            },
            "colorscale": [
             [
              0,
              "#0d0887"
             ],
             [
              0.1111111111111111,
              "#46039f"
             ],
             [
              0.2222222222222222,
              "#7201a8"
             ],
             [
              0.3333333333333333,
              "#9c179e"
             ],
             [
              0.4444444444444444,
              "#bd3786"
             ],
             [
              0.5555555555555556,
              "#d8576b"
             ],
             [
              0.6666666666666666,
              "#ed7953"
             ],
             [
              0.7777777777777778,
              "#fb9f3a"
             ],
             [
              0.8888888888888888,
              "#fdca26"
             ],
             [
              1,
              "#f0f921"
             ]
            ],
            "type": "contour"
           }
          ],
          "contourcarpet": [
           {
            "colorbar": {
             "outlinewidth": 0,
             "ticks": ""
            },
            "type": "contourcarpet"
           }
          ],
          "heatmap": [
           {
            "colorbar": {
             "outlinewidth": 0,
             "ticks": ""
            },
            "colorscale": [
             [
              0,
              "#0d0887"
             ],
             [
              0.1111111111111111,
              "#46039f"
             ],
             [
              0.2222222222222222,
              "#7201a8"
             ],
             [
              0.3333333333333333,
              "#9c179e"
             ],
             [
              0.4444444444444444,
              "#bd3786"
             ],
             [
              0.5555555555555556,
              "#d8576b"
             ],
             [
              0.6666666666666666,
              "#ed7953"
             ],
             [
              0.7777777777777778,
              "#fb9f3a"
             ],
             [
              0.8888888888888888,
              "#fdca26"
             ],
             [
              1,
              "#f0f921"
             ]
            ],
            "type": "heatmap"
           }
          ],
          "heatmapgl": [
           {
            "colorbar": {
             "outlinewidth": 0,
             "ticks": ""
            },
            "colorscale": [
             [
              0,
              "#0d0887"
             ],
             [
              0.1111111111111111,
              "#46039f"
             ],
             [
              0.2222222222222222,
              "#7201a8"
             ],
             [
              0.3333333333333333,
              "#9c179e"
             ],
             [
              0.4444444444444444,
              "#bd3786"
             ],
             [
              0.5555555555555556,
              "#d8576b"
             ],
             [
              0.6666666666666666,
              "#ed7953"
             ],
             [
              0.7777777777777778,
              "#fb9f3a"
             ],
             [
              0.8888888888888888,
              "#fdca26"
             ],
             [
              1,
              "#f0f921"
             ]
            ],
            "type": "heatmapgl"
           }
          ],
          "histogram": [
           {
            "marker": {
             "pattern": {
              "fillmode": "overlay",
              "size": 10,
              "solidity": 0.2
             }
            },
            "type": "histogram"
           }
          ],
          "histogram2d": [
           {
            "colorbar": {
             "outlinewidth": 0,
             "ticks": ""
            },
            "colorscale": [
             [
              0,
              "#0d0887"
             ],
             [
              0.1111111111111111,
              "#46039f"
             ],
             [
              0.2222222222222222,
              "#7201a8"
             ],
             [
              0.3333333333333333,
              "#9c179e"
             ],
             [
              0.4444444444444444,
              "#bd3786"
             ],
             [
              0.5555555555555556,
              "#d8576b"
             ],
             [
              0.6666666666666666,
              "#ed7953"
             ],
             [
              0.7777777777777778,
              "#fb9f3a"
             ],
             [
              0.8888888888888888,
              "#fdca26"
             ],
             [
              1,
              "#f0f921"
             ]
            ],
            "type": "histogram2d"
           }
          ],
          "histogram2dcontour": [
           {
            "colorbar": {
             "outlinewidth": 0,
             "ticks": ""
            },
            "colorscale": [
             [
              0,
              "#0d0887"
             ],
             [
              0.1111111111111111,
              "#46039f"
             ],
             [
              0.2222222222222222,
              "#7201a8"
             ],
             [
              0.3333333333333333,
              "#9c179e"
             ],
             [
              0.4444444444444444,
              "#bd3786"
             ],
             [
              0.5555555555555556,
              "#d8576b"
             ],
             [
              0.6666666666666666,
              "#ed7953"
             ],
             [
              0.7777777777777778,
              "#fb9f3a"
             ],
             [
              0.8888888888888888,
              "#fdca26"
             ],
             [
              1,
              "#f0f921"
             ]
            ],
            "type": "histogram2dcontour"
           }
          ],
          "mesh3d": [
           {
            "colorbar": {
             "outlinewidth": 0,
             "ticks": ""
            },
            "type": "mesh3d"
           }
          ],
          "parcoords": [
           {
            "line": {
             "colorbar": {
              "outlinewidth": 0,
              "ticks": ""
             }
            },
            "type": "parcoords"
           }
          ],
          "pie": [
           {
            "automargin": true,
            "type": "pie"
           }
          ],
          "scatter": [
           {
            "fillpattern": {
             "fillmode": "overlay",
             "size": 10,
             "solidity": 0.2
            },
            "type": "scatter"
           }
          ],
          "scatter3d": [
           {
            "line": {
             "colorbar": {
              "outlinewidth": 0,
              "ticks": ""
             }
            },
            "marker": {
             "colorbar": {
              "outlinewidth": 0,
              "ticks": ""
             }
            },
            "type": "scatter3d"
           }
          ],
          "scattercarpet": [
           {
            "marker": {
             "colorbar": {
              "outlinewidth": 0,
              "ticks": ""
             }
            },
            "type": "scattercarpet"
           }
          ],
          "scattergeo": [
           {
            "marker": {
             "colorbar": {
              "outlinewidth": 0,
              "ticks": ""
             }
            },
            "type": "scattergeo"
           }
          ],
          "scattergl": [
           {
            "marker": {
             "colorbar": {
              "outlinewidth": 0,
              "ticks": ""
             }
            },
            "type": "scattergl"
           }
          ],
          "scattermapbox": [
           {
            "marker": {
             "colorbar": {
              "outlinewidth": 0,
              "ticks": ""
             }
            },
            "type": "scattermapbox"
           }
          ],
          "scatterpolar": [
           {
            "marker": {
             "colorbar": {
              "outlinewidth": 0,
              "ticks": ""
             }
            },
            "type": "scatterpolar"
           }
          ],
          "scatterpolargl": [
           {
            "marker": {
             "colorbar": {
              "outlinewidth": 0,
              "ticks": ""
             }
            },
            "type": "scatterpolargl"
           }
          ],
          "scatterternary": [
           {
            "marker": {
             "colorbar": {
              "outlinewidth": 0,
              "ticks": ""
             }
            },
            "type": "scatterternary"
           }
          ],
          "surface": [
           {
            "colorbar": {
             "outlinewidth": 0,
             "ticks": ""
            },
            "colorscale": [
             [
              0,
              "#0d0887"
             ],
             [
              0.1111111111111111,
              "#46039f"
             ],
             [
              0.2222222222222222,
              "#7201a8"
             ],
             [
              0.3333333333333333,
              "#9c179e"
             ],
             [
              0.4444444444444444,
              "#bd3786"
             ],
             [
              0.5555555555555556,
              "#d8576b"
             ],
             [
              0.6666666666666666,
              "#ed7953"
             ],
             [
              0.7777777777777778,
              "#fb9f3a"
             ],
             [
              0.8888888888888888,
              "#fdca26"
             ],
             [
              1,
              "#f0f921"
             ]
            ],
            "type": "surface"
           }
          ],
          "table": [
           {
            "cells": {
             "fill": {
              "color": "#EBF0F8"
             },
             "line": {
              "color": "white"
             }
            },
            "header": {
             "fill": {
              "color": "#C8D4E3"
             },
             "line": {
              "color": "white"
             }
            },
            "type": "table"
           }
          ]
         },
         "layout": {
          "annotationdefaults": {
           "arrowcolor": "#2a3f5f",
           "arrowhead": 0,
           "arrowwidth": 1
          },
          "autotypenumbers": "strict",
          "coloraxis": {
           "colorbar": {
            "outlinewidth": 0,
            "ticks": ""
           }
          },
          "colorscale": {
           "diverging": [
            [
             0,
             "#8e0152"
            ],
            [
             0.1,
             "#c51b7d"
            ],
            [
             0.2,
             "#de77ae"
            ],
            [
             0.3,
             "#f1b6da"
            ],
            [
             0.4,
             "#fde0ef"
            ],
            [
             0.5,
             "#f7f7f7"
            ],
            [
             0.6,
             "#e6f5d0"
            ],
            [
             0.7,
             "#b8e186"
            ],
            [
             0.8,
             "#7fbc41"
            ],
            [
             0.9,
             "#4d9221"
            ],
            [
             1,
             "#276419"
            ]
           ],
           "sequential": [
            [
             0,
             "#0d0887"
            ],
            [
             0.1111111111111111,
             "#46039f"
            ],
            [
             0.2222222222222222,
             "#7201a8"
            ],
            [
             0.3333333333333333,
             "#9c179e"
            ],
            [
             0.4444444444444444,
             "#bd3786"
            ],
            [
             0.5555555555555556,
             "#d8576b"
            ],
            [
             0.6666666666666666,
             "#ed7953"
            ],
            [
             0.7777777777777778,
             "#fb9f3a"
            ],
            [
             0.8888888888888888,
             "#fdca26"
            ],
            [
             1,
             "#f0f921"
            ]
           ],
           "sequentialminus": [
            [
             0,
             "#0d0887"
            ],
            [
             0.1111111111111111,
             "#46039f"
            ],
            [
             0.2222222222222222,
             "#7201a8"
            ],
            [
             0.3333333333333333,
             "#9c179e"
            ],
            [
             0.4444444444444444,
             "#bd3786"
            ],
            [
             0.5555555555555556,
             "#d8576b"
            ],
            [
             0.6666666666666666,
             "#ed7953"
            ],
            [
             0.7777777777777778,
             "#fb9f3a"
            ],
            [
             0.8888888888888888,
             "#fdca26"
            ],
            [
             1,
             "#f0f921"
            ]
           ]
          },
          "colorway": [
           "#636efa",
           "#EF553B",
           "#00cc96",
           "#ab63fa",
           "#FFA15A",
           "#19d3f3",
           "#FF6692",
           "#B6E880",
           "#FF97FF",
           "#FECB52"
          ],
          "font": {
           "color": "#2a3f5f"
          },
          "geo": {
           "bgcolor": "white",
           "lakecolor": "white",
           "landcolor": "#E5ECF6",
           "showlakes": true,
           "showland": true,
           "subunitcolor": "white"
          },
          "hoverlabel": {
           "align": "left"
          },
          "hovermode": "closest",
          "mapbox": {
           "style": "light"
          },
          "paper_bgcolor": "white",
          "plot_bgcolor": "#E5ECF6",
          "polar": {
           "angularaxis": {
            "gridcolor": "white",
            "linecolor": "white",
            "ticks": ""
           },
           "bgcolor": "#E5ECF6",
           "radialaxis": {
            "gridcolor": "white",
            "linecolor": "white",
            "ticks": ""
           }
          },
          "scene": {
           "xaxis": {
            "backgroundcolor": "#E5ECF6",
            "gridcolor": "white",
            "gridwidth": 2,
            "linecolor": "white",
            "showbackground": true,
            "ticks": "",
            "zerolinecolor": "white"
           },
           "yaxis": {
            "backgroundcolor": "#E5ECF6",
            "gridcolor": "white",
            "gridwidth": 2,
            "linecolor": "white",
            "showbackground": true,
            "ticks": "",
            "zerolinecolor": "white"
           },
           "zaxis": {
            "backgroundcolor": "#E5ECF6",
            "gridcolor": "white",
            "gridwidth": 2,
            "linecolor": "white",
            "showbackground": true,
            "ticks": "",
            "zerolinecolor": "white"
           }
          },
          "shapedefaults": {
           "line": {
            "color": "#2a3f5f"
           }
          },
          "ternary": {
           "aaxis": {
            "gridcolor": "white",
            "linecolor": "white",
            "ticks": ""
           },
           "baxis": {
            "gridcolor": "white",
            "linecolor": "white",
            "ticks": ""
           },
           "bgcolor": "#E5ECF6",
           "caxis": {
            "gridcolor": "white",
            "linecolor": "white",
            "ticks": ""
           }
          },
          "title": {
           "x": 0.05
          },
          "xaxis": {
           "automargin": true,
           "gridcolor": "white",
           "linecolor": "white",
           "ticks": "",
           "title": {
            "standoff": 15
           },
           "zerolinecolor": "white",
           "zerolinewidth": 2
          },
          "yaxis": {
           "automargin": true,
           "gridcolor": "white",
           "linecolor": "white",
           "ticks": "",
           "title": {
            "standoff": 15
           },
           "zerolinecolor": "white",
           "zerolinewidth": 2
          }
         }
        },
        "title": {
         "text": "Distribution of Scores"
        },
        "xaxis": {
         "title": {
          "text": "Score"
         }
        },
        "yaxis": {
         "title": {
          "text": "Frequency"
         }
        }
       }
      }
     },
     "metadata": {},
     "output_type": "display_data"
    }
   ],
   "source": [
    "def plot_score_distribution(df, count_column, metric_type='count', **kwargs):\n",
    "    if metric_type == 'count':\n",
    "        # Count the frequency of each score\n",
    "        score_counts = df[count_column].value_counts().sort_index()\n",
    "        hover_text = ['Count: ' + str(i) for i in score_counts.values]\n",
    "    elif metric_type == 'percentage':\n",
    "        # Calculate the percentage of each score\n",
    "        score_counts = df[count_column].value_counts(normalize=True).sort_index() * 100\n",
    "        hover_text = ['Count: ' + str(j) + '<br>Percentage: ' + str(round(i, 2)) + '%' for i, j in zip(score_counts.values, df[count_column].value_counts().sort_index().values)]\n",
    "\n",
    "    # Create a bar chart\n",
    "    fig = go.Figure(data=go.Bar(x=score_counts.index, y=score_counts.values, name='', hovertext=hover_text, hoverinfo='text'))\n",
    "    fig.update_layout(title='Distribution of Scores', xaxis_title='Score', yaxis_title='Frequency', **kwargs)\n",
    "    \n",
    "    return fig\n",
    "\n",
    "def plots_score_distribution(df, count_column, group_column, values_list=None, metric_type=\"count\", merge=False, **kwargs):\n",
    "    # If values_list is None, get all unique values from group_column\n",
    "    if values_list is None:\n",
    "        values_list = df[group_column].unique()\n",
    "\n",
    "    # Create a subplot for each unique value in the group column if not merging\n",
    "    if merge:\n",
    "        fig = go.Figure()\n",
    "    else:\n",
    "        fig = sp.make_subplots(rows=len(values_list), cols=1)\n",
    "\n",
    "    for i, value in enumerate(values_list, start=1):\n",
    "        df_group = df[df[group_column] == value]\n",
    "\n",
    "        # Use plot_score_distribution function to create a bar chart for the group\n",
    "        fig_group = plot_score_distribution(df_group, count_column, metric_type)\n",
    "        \n",
    "        for trace in fig_group.data:\n",
    "            trace.name = str(value)  # set the trace name to the group value\n",
    "            trace.hovertext = ['Group: ' + str(value) + '<br>' + text for text in trace.hovertext]\n",
    "            if merge:\n",
    "                fig.add_trace(trace)\n",
    "            else:\n",
    "                fig.add_trace(trace, row=i, col=1)\n",
    "\n",
    "        # Add y-axis title to each subplot if not merging\n",
    "        if not merge:\n",
    "            fig.update_yaxes(title_text=str(value), title_standoff=0, row=i, col=1)\n",
    "\n",
    "    # Update layout and add interactive legend\n",
    "    barmode = 'group' if merge else 'stack'\n",
    "    fig.update_layout(title_text=f\"Distribution of {count_column} by {group_column}\", barmode=barmode, showlegend=True, **kwargs)\n",
    "    \n",
    "    return fig\n",
    "    \n",
    "fig = plot_score_distribution(df_preprocessed_full, 'Overall Satisfaction', metric_type=\"percentage\") #'Likelihood to Recommend (SE)', 'Overall Satisfaction'\n",
    "# fig = plots_score_distribution(df_preprocessed_full, 'Overall Satisfaction', 'Zone', values_list=[\"Italy\",\"France\",\"DACH\"], metric_type=\"percentage\", merge=True)\n",
    "# fig = plots_score_distribution(df_preprocessed_full, 'Overall Satisfaction', 'Zone', metric_type=\"percentage\", merge=True, height=800, width=1500)\n",
    "# fig = plots_score_distribution(df_preprocessed_full, 'Likelihood to Recommend (SE)', 'year', metric_type=\"percentage\", merge=True)\n",
    "\n",
    "import os\n",
    "def save_graph_html(fig, path, name):\n",
    "    # Create the directory if it doesn't exist\n",
    "    if not os.path.exists(path):\n",
    "        os.makedirs(path)\n",
    "        \n",
    "    return fig.write_html(path+\"/\"+name+\".html\")\n",
    "\n",
    "path = '../data/graphs/Descriptive_Analysis/score_repartition'\n",
    "# Barchart.save_graph_html(fig, path, 'score_distribution')\n",
    "# save_graph_html(fig, path, 'score_distribution_by_Zone')\n",
    "\n",
    "fig"
   ]
  },
  {
   "cell_type": "code",
   "execution_count": null,
   "metadata": {},
   "outputs": [],
   "source": []
  }
 ],
 "metadata": {
  "kernelspec": {
   "display_name": "wassati",
   "language": "python",
   "name": "python3"
  },
  "language_info": {
   "codemirror_mode": {
    "name": "ipython",
    "version": 3
   },
   "file_extension": ".py",
   "mimetype": "text/x-python",
   "name": "python",
   "nbconvert_exporter": "python",
   "pygments_lexer": "ipython3",
   "version": "3.9.17"
  }
 },
 "nbformat": 4,
 "nbformat_minor": 2
}
