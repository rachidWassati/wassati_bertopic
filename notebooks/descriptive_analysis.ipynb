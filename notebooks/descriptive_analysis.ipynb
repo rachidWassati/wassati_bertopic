{
 "cells": [
  {
   "cell_type": "code",
   "execution_count": 1,
   "metadata": {},
   "outputs": [],
   "source": [
    "import pandas as pd\n",
    "import plotly.graph_objects as go\n",
    "import plotly.subplots as sp\n",
    "import colorsys\n",
    "from itertools import cycle"
   ]
  },
  {
   "cell_type": "code",
   "execution_count": 2,
   "metadata": {},
   "outputs": [
    {
     "name": "stderr",
     "output_type": "stream",
     "text": [
      "/home/cattiaux/anaconda3/envs/wassati/lib/python3.9/site-packages/umap/distances.py:1063: NumbaDeprecationWarning: The 'nopython' keyword argument was not supplied to the 'numba.jit' decorator. The implicit default value for this argument is currently False, but it will be changed to True in Numba 0.59.0. See https://numba.readthedocs.io/en/stable/reference/deprecation.html#deprecation-of-object-mode-fall-back-behaviour-when-using-jit for details.\n",
      "  @numba.jit()\n",
      "/home/cattiaux/anaconda3/envs/wassati/lib/python3.9/site-packages/umap/distances.py:1071: NumbaDeprecationWarning: The 'nopython' keyword argument was not supplied to the 'numba.jit' decorator. The implicit default value for this argument is currently False, but it will be changed to True in Numba 0.59.0. See https://numba.readthedocs.io/en/stable/reference/deprecation.html#deprecation-of-object-mode-fall-back-behaviour-when-using-jit for details.\n",
      "  @numba.jit()\n",
      "/home/cattiaux/anaconda3/envs/wassati/lib/python3.9/site-packages/umap/distances.py:1086: NumbaDeprecationWarning: The 'nopython' keyword argument was not supplied to the 'numba.jit' decorator. The implicit default value for this argument is currently False, but it will be changed to True in Numba 0.59.0. See https://numba.readthedocs.io/en/stable/reference/deprecation.html#deprecation-of-object-mode-fall-back-behaviour-when-using-jit for details.\n",
      "  @numba.jit()\n",
      "/home/cattiaux/anaconda3/envs/wassati/lib/python3.9/site-packages/umap/umap_.py:660: NumbaDeprecationWarning: The 'nopython' keyword argument was not supplied to the 'numba.jit' decorator. The implicit default value for this argument is currently False, but it will be changed to True in Numba 0.59.0. See https://numba.readthedocs.io/en/stable/reference/deprecation.html#deprecation-of-object-mode-fall-back-behaviour-when-using-jit for details.\n",
      "  @numba.jit()\n",
      "/tmp/ipykernel_18090/1847981677.py:11: DtypeWarning: Columns (5,6,14,18) have mixed types. Specify dtype option on import or set low_memory=False.\n",
      "  df = pd.read_csv(\"../data/csv_files/schneider.csv\")\n"
     ]
    }
   ],
   "source": [
    "# df = pd.read_excel(\"/media/cattiaux/DATA/Wassati/team_data/schneider/OEM_Verbatims_base.xlsx\", engine='openpyxl')\n",
    "# df2 = pd.read_csv(\"/media/cattiaux/DATA/Wassati/team_data/schneider/OEM_Verbatims_allComment.csv\")\n",
    "# df_labelled = pd.read_csv(\"/media/cattiaux/DATA/Wassati/team_data/schneider/df_all_labelled.csv\", dtype={'year': str})\n",
    "import sys\n",
    "sys.path.append('../')\n",
    "\n",
    "from utils.schneider import countries_to_update, text_data_column, words_to_filter, replacements\n",
    "from preprocessing.dataLoaders.schneider_data_loader import SchneiderDataLoader\n",
    "from preprocessing.preprocessing import Preprocessor\n",
    "\n",
    "df = pd.read_csv(\"../data/csv_files/schneider.csv\")\n",
    "schneiderDataLoader = SchneiderDataLoader(df, countries_to_update)\n",
    "preprocessing = Preprocessor(\n",
    "    schneiderDataLoader, \n",
    "    text_data_column,\n",
    "    words_to_filter,\n",
    "    replacements\n",
    ")\n",
    "\n",
    "df_preprocessed_full = preprocessing.preprocess()\n",
    "# Filter rows based on 'non_empty_rows' column\n",
    "df_preprocessed = df_preprocessed_full[df_preprocessed_full['non_empty_rows']]"
   ]
  },
  {
   "cell_type": "code",
   "execution_count": 3,
   "metadata": {},
   "outputs": [
    {
     "data": {
      "text/plain": [
       "34.60742300987798"
      ]
     },
     "execution_count": 3,
     "metadata": {},
     "output_type": "execute_result"
    }
   ],
   "source": [
    "########### Global Info \n",
    "\n",
    "nb_scores = df_preprocessed_full[\"Overall Satisfaction\"].count()\n",
    "nb_recommend_scores = df_preprocessed_full[\"Likelihood to Recommend (SE)\"].count()\n",
    "nb_comments = len(df_preprocessed)\n",
    "pct_comment_by_score = nb_comments/nb_scores*100\n",
    "pct_recommendScore_by_score = nb_recommend_scores/nb_scores*100\n",
    "\n",
    "pct_recommendScore_by_score"
   ]
  },
  {
   "cell_type": "code",
   "execution_count": 4,
   "metadata": {},
   "outputs": [
    {
     "data": {
      "application/vnd.plotly.v1+json": {
       "config": {
        "plotlyServerURL": "https://plot.ly"
       },
       "data": [
        {
         "type": "bar",
         "x": [
          0,
          1,
          2,
          3,
          4,
          5,
          6,
          7,
          8,
          9,
          10
         ],
         "y": [
          85,
          35,
          86,
          122,
          165,
          893,
          724,
          2360,
          6082,
          3415,
          5092
         ]
        }
       ],
       "layout": {
        "template": {
         "data": {
          "bar": [
           {
            "error_x": {
             "color": "#2a3f5f"
            },
            "error_y": {
             "color": "#2a3f5f"
            },
            "marker": {
             "line": {
              "color": "#E5ECF6",
              "width": 0.5
             },
             "pattern": {
              "fillmode": "overlay",
              "size": 10,
              "solidity": 0.2
             }
            },
            "type": "bar"
           }
          ],
          "barpolar": [
           {
            "marker": {
             "line": {
              "color": "#E5ECF6",
              "width": 0.5
             },
             "pattern": {
              "fillmode": "overlay",
              "size": 10,
              "solidity": 0.2
             }
            },
            "type": "barpolar"
           }
          ],
          "carpet": [
           {
            "aaxis": {
             "endlinecolor": "#2a3f5f",
             "gridcolor": "white",
             "linecolor": "white",
             "minorgridcolor": "white",
             "startlinecolor": "#2a3f5f"
            },
            "baxis": {
             "endlinecolor": "#2a3f5f",
             "gridcolor": "white",
             "linecolor": "white",
             "minorgridcolor": "white",
             "startlinecolor": "#2a3f5f"
            },
            "type": "carpet"
           }
          ],
          "choropleth": [
           {
            "colorbar": {
             "outlinewidth": 0,
             "ticks": ""
            },
            "type": "choropleth"
           }
          ],
          "contour": [
           {
            "colorbar": {
             "outlinewidth": 0,
             "ticks": ""
            },
            "colorscale": [
             [
              0,
              "#0d0887"
             ],
             [
              0.1111111111111111,
              "#46039f"
             ],
             [
              0.2222222222222222,
              "#7201a8"
             ],
             [
              0.3333333333333333,
              "#9c179e"
             ],
             [
              0.4444444444444444,
              "#bd3786"
             ],
             [
              0.5555555555555556,
              "#d8576b"
             ],
             [
              0.6666666666666666,
              "#ed7953"
             ],
             [
              0.7777777777777778,
              "#fb9f3a"
             ],
             [
              0.8888888888888888,
              "#fdca26"
             ],
             [
              1,
              "#f0f921"
             ]
            ],
            "type": "contour"
           }
          ],
          "contourcarpet": [
           {
            "colorbar": {
             "outlinewidth": 0,
             "ticks": ""
            },
            "type": "contourcarpet"
           }
          ],
          "heatmap": [
           {
            "colorbar": {
             "outlinewidth": 0,
             "ticks": ""
            },
            "colorscale": [
             [
              0,
              "#0d0887"
             ],
             [
              0.1111111111111111,
              "#46039f"
             ],
             [
              0.2222222222222222,
              "#7201a8"
             ],
             [
              0.3333333333333333,
              "#9c179e"
             ],
             [
              0.4444444444444444,
              "#bd3786"
             ],
             [
              0.5555555555555556,
              "#d8576b"
             ],
             [
              0.6666666666666666,
              "#ed7953"
             ],
             [
              0.7777777777777778,
              "#fb9f3a"
             ],
             [
              0.8888888888888888,
              "#fdca26"
             ],
             [
              1,
              "#f0f921"
             ]
            ],
            "type": "heatmap"
           }
          ],
          "heatmapgl": [
           {
            "colorbar": {
             "outlinewidth": 0,
             "ticks": ""
            },
            "colorscale": [
             [
              0,
              "#0d0887"
             ],
             [
              0.1111111111111111,
              "#46039f"
             ],
             [
              0.2222222222222222,
              "#7201a8"
             ],
             [
              0.3333333333333333,
              "#9c179e"
             ],
             [
              0.4444444444444444,
              "#bd3786"
             ],
             [
              0.5555555555555556,
              "#d8576b"
             ],
             [
              0.6666666666666666,
              "#ed7953"
             ],
             [
              0.7777777777777778,
              "#fb9f3a"
             ],
             [
              0.8888888888888888,
              "#fdca26"
             ],
             [
              1,
              "#f0f921"
             ]
            ],
            "type": "heatmapgl"
           }
          ],
          "histogram": [
           {
            "marker": {
             "pattern": {
              "fillmode": "overlay",
              "size": 10,
              "solidity": 0.2
             }
            },
            "type": "histogram"
           }
          ],
          "histogram2d": [
           {
            "colorbar": {
             "outlinewidth": 0,
             "ticks": ""
            },
            "colorscale": [
             [
              0,
              "#0d0887"
             ],
             [
              0.1111111111111111,
              "#46039f"
             ],
             [
              0.2222222222222222,
              "#7201a8"
             ],
             [
              0.3333333333333333,
              "#9c179e"
             ],
             [
              0.4444444444444444,
              "#bd3786"
             ],
             [
              0.5555555555555556,
              "#d8576b"
             ],
             [
              0.6666666666666666,
              "#ed7953"
             ],
             [
              0.7777777777777778,
              "#fb9f3a"
             ],
             [
              0.8888888888888888,
              "#fdca26"
             ],
             [
              1,
              "#f0f921"
             ]
            ],
            "type": "histogram2d"
           }
          ],
          "histogram2dcontour": [
           {
            "colorbar": {
             "outlinewidth": 0,
             "ticks": ""
            },
            "colorscale": [
             [
              0,
              "#0d0887"
             ],
             [
              0.1111111111111111,
              "#46039f"
             ],
             [
              0.2222222222222222,
              "#7201a8"
             ],
             [
              0.3333333333333333,
              "#9c179e"
             ],
             [
              0.4444444444444444,
              "#bd3786"
             ],
             [
              0.5555555555555556,
              "#d8576b"
             ],
             [
              0.6666666666666666,
              "#ed7953"
             ],
             [
              0.7777777777777778,
              "#fb9f3a"
             ],
             [
              0.8888888888888888,
              "#fdca26"
             ],
             [
              1,
              "#f0f921"
             ]
            ],
            "type": "histogram2dcontour"
           }
          ],
          "mesh3d": [
           {
            "colorbar": {
             "outlinewidth": 0,
             "ticks": ""
            },
            "type": "mesh3d"
           }
          ],
          "parcoords": [
           {
            "line": {
             "colorbar": {
              "outlinewidth": 0,
              "ticks": ""
             }
            },
            "type": "parcoords"
           }
          ],
          "pie": [
           {
            "automargin": true,
            "type": "pie"
           }
          ],
          "scatter": [
           {
            "fillpattern": {
             "fillmode": "overlay",
             "size": 10,
             "solidity": 0.2
            },
            "type": "scatter"
           }
          ],
          "scatter3d": [
           {
            "line": {
             "colorbar": {
              "outlinewidth": 0,
              "ticks": ""
             }
            },
            "marker": {
             "colorbar": {
              "outlinewidth": 0,
              "ticks": ""
             }
            },
            "type": "scatter3d"
           }
          ],
          "scattercarpet": [
           {
            "marker": {
             "colorbar": {
              "outlinewidth": 0,
              "ticks": ""
             }
            },
            "type": "scattercarpet"
           }
          ],
          "scattergeo": [
           {
            "marker": {
             "colorbar": {
              "outlinewidth": 0,
              "ticks": ""
             }
            },
            "type": "scattergeo"
           }
          ],
          "scattergl": [
           {
            "marker": {
             "colorbar": {
              "outlinewidth": 0,
              "ticks": ""
             }
            },
            "type": "scattergl"
           }
          ],
          "scattermapbox": [
           {
            "marker": {
             "colorbar": {
              "outlinewidth": 0,
              "ticks": ""
             }
            },
            "type": "scattermapbox"
           }
          ],
          "scatterpolar": [
           {
            "marker": {
             "colorbar": {
              "outlinewidth": 0,
              "ticks": ""
             }
            },
            "type": "scatterpolar"
           }
          ],
          "scatterpolargl": [
           {
            "marker": {
             "colorbar": {
              "outlinewidth": 0,
              "ticks": ""
             }
            },
            "type": "scatterpolargl"
           }
          ],
          "scatterternary": [
           {
            "marker": {
             "colorbar": {
              "outlinewidth": 0,
              "ticks": ""
             }
            },
            "type": "scatterternary"
           }
          ],
          "surface": [
           {
            "colorbar": {
             "outlinewidth": 0,
             "ticks": ""
            },
            "colorscale": [
             [
              0,
              "#0d0887"
             ],
             [
              0.1111111111111111,
              "#46039f"
             ],
             [
              0.2222222222222222,
              "#7201a8"
             ],
             [
              0.3333333333333333,
              "#9c179e"
             ],
             [
              0.4444444444444444,
              "#bd3786"
             ],
             [
              0.5555555555555556,
              "#d8576b"
             ],
             [
              0.6666666666666666,
              "#ed7953"
             ],
             [
              0.7777777777777778,
              "#fb9f3a"
             ],
             [
              0.8888888888888888,
              "#fdca26"
             ],
             [
              1,
              "#f0f921"
             ]
            ],
            "type": "surface"
           }
          ],
          "table": [
           {
            "cells": {
             "fill": {
              "color": "#EBF0F8"
             },
             "line": {
              "color": "white"
             }
            },
            "header": {
             "fill": {
              "color": "#C8D4E3"
             },
             "line": {
              "color": "white"
             }
            },
            "type": "table"
           }
          ]
         },
         "layout": {
          "annotationdefaults": {
           "arrowcolor": "#2a3f5f",
           "arrowhead": 0,
           "arrowwidth": 1
          },
          "autotypenumbers": "strict",
          "coloraxis": {
           "colorbar": {
            "outlinewidth": 0,
            "ticks": ""
           }
          },
          "colorscale": {
           "diverging": [
            [
             0,
             "#8e0152"
            ],
            [
             0.1,
             "#c51b7d"
            ],
            [
             0.2,
             "#de77ae"
            ],
            [
             0.3,
             "#f1b6da"
            ],
            [
             0.4,
             "#fde0ef"
            ],
            [
             0.5,
             "#f7f7f7"
            ],
            [
             0.6,
             "#e6f5d0"
            ],
            [
             0.7,
             "#b8e186"
            ],
            [
             0.8,
             "#7fbc41"
            ],
            [
             0.9,
             "#4d9221"
            ],
            [
             1,
             "#276419"
            ]
           ],
           "sequential": [
            [
             0,
             "#0d0887"
            ],
            [
             0.1111111111111111,
             "#46039f"
            ],
            [
             0.2222222222222222,
             "#7201a8"
            ],
            [
             0.3333333333333333,
             "#9c179e"
            ],
            [
             0.4444444444444444,
             "#bd3786"
            ],
            [
             0.5555555555555556,
             "#d8576b"
            ],
            [
             0.6666666666666666,
             "#ed7953"
            ],
            [
             0.7777777777777778,
             "#fb9f3a"
            ],
            [
             0.8888888888888888,
             "#fdca26"
            ],
            [
             1,
             "#f0f921"
            ]
           ],
           "sequentialminus": [
            [
             0,
             "#0d0887"
            ],
            [
             0.1111111111111111,
             "#46039f"
            ],
            [
             0.2222222222222222,
             "#7201a8"
            ],
            [
             0.3333333333333333,
             "#9c179e"
            ],
            [
             0.4444444444444444,
             "#bd3786"
            ],
            [
             0.5555555555555556,
             "#d8576b"
            ],
            [
             0.6666666666666666,
             "#ed7953"
            ],
            [
             0.7777777777777778,
             "#fb9f3a"
            ],
            [
             0.8888888888888888,
             "#fdca26"
            ],
            [
             1,
             "#f0f921"
            ]
           ]
          },
          "colorway": [
           "#636efa",
           "#EF553B",
           "#00cc96",
           "#ab63fa",
           "#FFA15A",
           "#19d3f3",
           "#FF6692",
           "#B6E880",
           "#FF97FF",
           "#FECB52"
          ],
          "font": {
           "color": "#2a3f5f"
          },
          "geo": {
           "bgcolor": "white",
           "lakecolor": "white",
           "landcolor": "#E5ECF6",
           "showlakes": true,
           "showland": true,
           "subunitcolor": "white"
          },
          "hoverlabel": {
           "align": "left"
          },
          "hovermode": "closest",
          "mapbox": {
           "style": "light"
          },
          "paper_bgcolor": "white",
          "plot_bgcolor": "#E5ECF6",
          "polar": {
           "angularaxis": {
            "gridcolor": "white",
            "linecolor": "white",
            "ticks": ""
           },
           "bgcolor": "#E5ECF6",
           "radialaxis": {
            "gridcolor": "white",
            "linecolor": "white",
            "ticks": ""
           }
          },
          "scene": {
           "xaxis": {
            "backgroundcolor": "#E5ECF6",
            "gridcolor": "white",
            "gridwidth": 2,
            "linecolor": "white",
            "showbackground": true,
            "ticks": "",
            "zerolinecolor": "white"
           },
           "yaxis": {
            "backgroundcolor": "#E5ECF6",
            "gridcolor": "white",
            "gridwidth": 2,
            "linecolor": "white",
            "showbackground": true,
            "ticks": "",
            "zerolinecolor": "white"
           },
           "zaxis": {
            "backgroundcolor": "#E5ECF6",
            "gridcolor": "white",
            "gridwidth": 2,
            "linecolor": "white",
            "showbackground": true,
            "ticks": "",
            "zerolinecolor": "white"
           }
          },
          "shapedefaults": {
           "line": {
            "color": "#2a3f5f"
           }
          },
          "ternary": {
           "aaxis": {
            "gridcolor": "white",
            "linecolor": "white",
            "ticks": ""
           },
           "baxis": {
            "gridcolor": "white",
            "linecolor": "white",
            "ticks": ""
           },
           "bgcolor": "#E5ECF6",
           "caxis": {
            "gridcolor": "white",
            "linecolor": "white",
            "ticks": ""
           }
          },
          "title": {
           "x": 0.05
          },
          "xaxis": {
           "automargin": true,
           "gridcolor": "white",
           "linecolor": "white",
           "ticks": "",
           "title": {
            "standoff": 15
           },
           "zerolinecolor": "white",
           "zerolinewidth": 2
          },
          "yaxis": {
           "automargin": true,
           "gridcolor": "white",
           "linecolor": "white",
           "ticks": "",
           "title": {
            "standoff": 15
           },
           "zerolinecolor": "white",
           "zerolinewidth": 2
          }
         }
        },
        "title": {
         "text": "Distribution of Scores"
        },
        "xaxis": {
         "title": {
          "text": "Score"
         }
        },
        "yaxis": {
         "title": {
          "text": "Frequency"
         }
        }
       }
      }
     },
     "metadata": {},
     "output_type": "display_data"
    }
   ],
   "source": [
    "def plot_score_distribution(df, column_name):\n",
    "    # Count the frequency of each score\n",
    "    score_counts = df[column_name].value_counts().sort_index()\n",
    "\n",
    "    # Create a bar chart\n",
    "    fig = go.Figure(data=go.Bar(x=score_counts.index, y=score_counts.values))\n",
    "    fig.update_layout(title='Distribution of Scores', xaxis_title='Score', yaxis_title='Frequency')\n",
    "    \n",
    "    return fig\n",
    "\n",
    "plot_score_distribution(df_preprocessed_full, 'Likelihood to Recommend (SE)') #'Likelihood to Recommend (SE)', 'Overall Satisfaction'"
   ]
  },
  {
   "cell_type": "code",
   "execution_count": 5,
   "metadata": {},
   "outputs": [
    {
     "data": {
      "application/vnd.plotly.v1+json": {
       "config": {
        "plotlyServerURL": "https://plot.ly"
       },
       "data": [
        {
         "hole": 0.6,
         "hovertemplate": "%{label}: %{value}<extra></extra>",
         "labels": [
          "Italy",
          "DACH",
          "East Asia Japan",
          "China & HK",
          "Iberia",
          "US",
          "South America",
          "France",
          "Nordic & Baltics",
          "CEEI",
          "Middle East and Africa",
          "BeNe",
          "Greater India",
          "Pacific",
          "Canada",
          "UK and Ireland",
          "SE Global",
          "Mexico & Central America"
         ],
         "type": "pie",
         "values": [
          7707,
          6548,
          6152,
          4039,
          3860,
          3622,
          3484,
          3222,
          3075,
          2945,
          2292,
          1915,
          1794,
          1512,
          1192,
          1169,
          740,
          104
         ]
        }
       ],
       "layout": {
        "autosize": false,
        "height": 500,
        "legend": {
         "title": {
          "text": "Zone"
         }
        },
        "template": {
         "data": {
          "bar": [
           {
            "error_x": {
             "color": "#2a3f5f"
            },
            "error_y": {
             "color": "#2a3f5f"
            },
            "marker": {
             "line": {
              "color": "#E5ECF6",
              "width": 0.5
             },
             "pattern": {
              "fillmode": "overlay",
              "size": 10,
              "solidity": 0.2
             }
            },
            "type": "bar"
           }
          ],
          "barpolar": [
           {
            "marker": {
             "line": {
              "color": "#E5ECF6",
              "width": 0.5
             },
             "pattern": {
              "fillmode": "overlay",
              "size": 10,
              "solidity": 0.2
             }
            },
            "type": "barpolar"
           }
          ],
          "carpet": [
           {
            "aaxis": {
             "endlinecolor": "#2a3f5f",
             "gridcolor": "white",
             "linecolor": "white",
             "minorgridcolor": "white",
             "startlinecolor": "#2a3f5f"
            },
            "baxis": {
             "endlinecolor": "#2a3f5f",
             "gridcolor": "white",
             "linecolor": "white",
             "minorgridcolor": "white",
             "startlinecolor": "#2a3f5f"
            },
            "type": "carpet"
           }
          ],
          "choropleth": [
           {
            "colorbar": {
             "outlinewidth": 0,
             "ticks": ""
            },
            "type": "choropleth"
           }
          ],
          "contour": [
           {
            "colorbar": {
             "outlinewidth": 0,
             "ticks": ""
            },
            "colorscale": [
             [
              0,
              "#0d0887"
             ],
             [
              0.1111111111111111,
              "#46039f"
             ],
             [
              0.2222222222222222,
              "#7201a8"
             ],
             [
              0.3333333333333333,
              "#9c179e"
             ],
             [
              0.4444444444444444,
              "#bd3786"
             ],
             [
              0.5555555555555556,
              "#d8576b"
             ],
             [
              0.6666666666666666,
              "#ed7953"
             ],
             [
              0.7777777777777778,
              "#fb9f3a"
             ],
             [
              0.8888888888888888,
              "#fdca26"
             ],
             [
              1,
              "#f0f921"
             ]
            ],
            "type": "contour"
           }
          ],
          "contourcarpet": [
           {
            "colorbar": {
             "outlinewidth": 0,
             "ticks": ""
            },
            "type": "contourcarpet"
           }
          ],
          "heatmap": [
           {
            "colorbar": {
             "outlinewidth": 0,
             "ticks": ""
            },
            "colorscale": [
             [
              0,
              "#0d0887"
             ],
             [
              0.1111111111111111,
              "#46039f"
             ],
             [
              0.2222222222222222,
              "#7201a8"
             ],
             [
              0.3333333333333333,
              "#9c179e"
             ],
             [
              0.4444444444444444,
              "#bd3786"
             ],
             [
              0.5555555555555556,
              "#d8576b"
             ],
             [
              0.6666666666666666,
              "#ed7953"
             ],
             [
              0.7777777777777778,
              "#fb9f3a"
             ],
             [
              0.8888888888888888,
              "#fdca26"
             ],
             [
              1,
              "#f0f921"
             ]
            ],
            "type": "heatmap"
           }
          ],
          "heatmapgl": [
           {
            "colorbar": {
             "outlinewidth": 0,
             "ticks": ""
            },
            "colorscale": [
             [
              0,
              "#0d0887"
             ],
             [
              0.1111111111111111,
              "#46039f"
             ],
             [
              0.2222222222222222,
              "#7201a8"
             ],
             [
              0.3333333333333333,
              "#9c179e"
             ],
             [
              0.4444444444444444,
              "#bd3786"
             ],
             [
              0.5555555555555556,
              "#d8576b"
             ],
             [
              0.6666666666666666,
              "#ed7953"
             ],
             [
              0.7777777777777778,
              "#fb9f3a"
             ],
             [
              0.8888888888888888,
              "#fdca26"
             ],
             [
              1,
              "#f0f921"
             ]
            ],
            "type": "heatmapgl"
           }
          ],
          "histogram": [
           {
            "marker": {
             "pattern": {
              "fillmode": "overlay",
              "size": 10,
              "solidity": 0.2
             }
            },
            "type": "histogram"
           }
          ],
          "histogram2d": [
           {
            "colorbar": {
             "outlinewidth": 0,
             "ticks": ""
            },
            "colorscale": [
             [
              0,
              "#0d0887"
             ],
             [
              0.1111111111111111,
              "#46039f"
             ],
             [
              0.2222222222222222,
              "#7201a8"
             ],
             [
              0.3333333333333333,
              "#9c179e"
             ],
             [
              0.4444444444444444,
              "#bd3786"
             ],
             [
              0.5555555555555556,
              "#d8576b"
             ],
             [
              0.6666666666666666,
              "#ed7953"
             ],
             [
              0.7777777777777778,
              "#fb9f3a"
             ],
             [
              0.8888888888888888,
              "#fdca26"
             ],
             [
              1,
              "#f0f921"
             ]
            ],
            "type": "histogram2d"
           }
          ],
          "histogram2dcontour": [
           {
            "colorbar": {
             "outlinewidth": 0,
             "ticks": ""
            },
            "colorscale": [
             [
              0,
              "#0d0887"
             ],
             [
              0.1111111111111111,
              "#46039f"
             ],
             [
              0.2222222222222222,
              "#7201a8"
             ],
             [
              0.3333333333333333,
              "#9c179e"
             ],
             [
              0.4444444444444444,
              "#bd3786"
             ],
             [
              0.5555555555555556,
              "#d8576b"
             ],
             [
              0.6666666666666666,
              "#ed7953"
             ],
             [
              0.7777777777777778,
              "#fb9f3a"
             ],
             [
              0.8888888888888888,
              "#fdca26"
             ],
             [
              1,
              "#f0f921"
             ]
            ],
            "type": "histogram2dcontour"
           }
          ],
          "mesh3d": [
           {
            "colorbar": {
             "outlinewidth": 0,
             "ticks": ""
            },
            "type": "mesh3d"
           }
          ],
          "parcoords": [
           {
            "line": {
             "colorbar": {
              "outlinewidth": 0,
              "ticks": ""
             }
            },
            "type": "parcoords"
           }
          ],
          "pie": [
           {
            "automargin": true,
            "type": "pie"
           }
          ],
          "scatter": [
           {
            "fillpattern": {
             "fillmode": "overlay",
             "size": 10,
             "solidity": 0.2
            },
            "type": "scatter"
           }
          ],
          "scatter3d": [
           {
            "line": {
             "colorbar": {
              "outlinewidth": 0,
              "ticks": ""
             }
            },
            "marker": {
             "colorbar": {
              "outlinewidth": 0,
              "ticks": ""
             }
            },
            "type": "scatter3d"
           }
          ],
          "scattercarpet": [
           {
            "marker": {
             "colorbar": {
              "outlinewidth": 0,
              "ticks": ""
             }
            },
            "type": "scattercarpet"
           }
          ],
          "scattergeo": [
           {
            "marker": {
             "colorbar": {
              "outlinewidth": 0,
              "ticks": ""
             }
            },
            "type": "scattergeo"
           }
          ],
          "scattergl": [
           {
            "marker": {
             "colorbar": {
              "outlinewidth": 0,
              "ticks": ""
             }
            },
            "type": "scattergl"
           }
          ],
          "scattermapbox": [
           {
            "marker": {
             "colorbar": {
              "outlinewidth": 0,
              "ticks": ""
             }
            },
            "type": "scattermapbox"
           }
          ],
          "scatterpolar": [
           {
            "marker": {
             "colorbar": {
              "outlinewidth": 0,
              "ticks": ""
             }
            },
            "type": "scatterpolar"
           }
          ],
          "scatterpolargl": [
           {
            "marker": {
             "colorbar": {
              "outlinewidth": 0,
              "ticks": ""
             }
            },
            "type": "scatterpolargl"
           }
          ],
          "scatterternary": [
           {
            "marker": {
             "colorbar": {
              "outlinewidth": 0,
              "ticks": ""
             }
            },
            "type": "scatterternary"
           }
          ],
          "surface": [
           {
            "colorbar": {
             "outlinewidth": 0,
             "ticks": ""
            },
            "colorscale": [
             [
              0,
              "#0d0887"
             ],
             [
              0.1111111111111111,
              "#46039f"
             ],
             [
              0.2222222222222222,
              "#7201a8"
             ],
             [
              0.3333333333333333,
              "#9c179e"
             ],
             [
              0.4444444444444444,
              "#bd3786"
             ],
             [
              0.5555555555555556,
              "#d8576b"
             ],
             [
              0.6666666666666666,
              "#ed7953"
             ],
             [
              0.7777777777777778,
              "#fb9f3a"
             ],
             [
              0.8888888888888888,
              "#fdca26"
             ],
             [
              1,
              "#f0f921"
             ]
            ],
            "type": "surface"
           }
          ],
          "table": [
           {
            "cells": {
             "fill": {
              "color": "#EBF0F8"
             },
             "line": {
              "color": "white"
             }
            },
            "header": {
             "fill": {
              "color": "#C8D4E3"
             },
             "line": {
              "color": "white"
             }
            },
            "type": "table"
           }
          ]
         },
         "layout": {
          "annotationdefaults": {
           "arrowcolor": "#2a3f5f",
           "arrowhead": 0,
           "arrowwidth": 1
          },
          "autotypenumbers": "strict",
          "coloraxis": {
           "colorbar": {
            "outlinewidth": 0,
            "ticks": ""
           }
          },
          "colorscale": {
           "diverging": [
            [
             0,
             "#8e0152"
            ],
            [
             0.1,
             "#c51b7d"
            ],
            [
             0.2,
             "#de77ae"
            ],
            [
             0.3,
             "#f1b6da"
            ],
            [
             0.4,
             "#fde0ef"
            ],
            [
             0.5,
             "#f7f7f7"
            ],
            [
             0.6,
             "#e6f5d0"
            ],
            [
             0.7,
             "#b8e186"
            ],
            [
             0.8,
             "#7fbc41"
            ],
            [
             0.9,
             "#4d9221"
            ],
            [
             1,
             "#276419"
            ]
           ],
           "sequential": [
            [
             0,
             "#0d0887"
            ],
            [
             0.1111111111111111,
             "#46039f"
            ],
            [
             0.2222222222222222,
             "#7201a8"
            ],
            [
             0.3333333333333333,
             "#9c179e"
            ],
            [
             0.4444444444444444,
             "#bd3786"
            ],
            [
             0.5555555555555556,
             "#d8576b"
            ],
            [
             0.6666666666666666,
             "#ed7953"
            ],
            [
             0.7777777777777778,
             "#fb9f3a"
            ],
            [
             0.8888888888888888,
             "#fdca26"
            ],
            [
             1,
             "#f0f921"
            ]
           ],
           "sequentialminus": [
            [
             0,
             "#0d0887"
            ],
            [
             0.1111111111111111,
             "#46039f"
            ],
            [
             0.2222222222222222,
             "#7201a8"
            ],
            [
             0.3333333333333333,
             "#9c179e"
            ],
            [
             0.4444444444444444,
             "#bd3786"
            ],
            [
             0.5555555555555556,
             "#d8576b"
            ],
            [
             0.6666666666666666,
             "#ed7953"
            ],
            [
             0.7777777777777778,
             "#fb9f3a"
            ],
            [
             0.8888888888888888,
             "#fdca26"
            ],
            [
             1,
             "#f0f921"
            ]
           ]
          },
          "colorway": [
           "#636efa",
           "#EF553B",
           "#00cc96",
           "#ab63fa",
           "#FFA15A",
           "#19d3f3",
           "#FF6692",
           "#B6E880",
           "#FF97FF",
           "#FECB52"
          ],
          "font": {
           "color": "#2a3f5f"
          },
          "geo": {
           "bgcolor": "white",
           "lakecolor": "white",
           "landcolor": "#E5ECF6",
           "showlakes": true,
           "showland": true,
           "subunitcolor": "white"
          },
          "hoverlabel": {
           "align": "left"
          },
          "hovermode": "closest",
          "mapbox": {
           "style": "light"
          },
          "paper_bgcolor": "white",
          "plot_bgcolor": "#E5ECF6",
          "polar": {
           "angularaxis": {
            "gridcolor": "white",
            "linecolor": "white",
            "ticks": ""
           },
           "bgcolor": "#E5ECF6",
           "radialaxis": {
            "gridcolor": "white",
            "linecolor": "white",
            "ticks": ""
           }
          },
          "scene": {
           "xaxis": {
            "backgroundcolor": "#E5ECF6",
            "gridcolor": "white",
            "gridwidth": 2,
            "linecolor": "white",
            "showbackground": true,
            "ticks": "",
            "zerolinecolor": "white"
           },
           "yaxis": {
            "backgroundcolor": "#E5ECF6",
            "gridcolor": "white",
            "gridwidth": 2,
            "linecolor": "white",
            "showbackground": true,
            "ticks": "",
            "zerolinecolor": "white"
           },
           "zaxis": {
            "backgroundcolor": "#E5ECF6",
            "gridcolor": "white",
            "gridwidth": 2,
            "linecolor": "white",
            "showbackground": true,
            "ticks": "",
            "zerolinecolor": "white"
           }
          },
          "shapedefaults": {
           "line": {
            "color": "#2a3f5f"
           }
          },
          "ternary": {
           "aaxis": {
            "gridcolor": "white",
            "linecolor": "white",
            "ticks": ""
           },
           "baxis": {
            "gridcolor": "white",
            "linecolor": "white",
            "ticks": ""
           },
           "bgcolor": "#E5ECF6",
           "caxis": {
            "gridcolor": "white",
            "linecolor": "white",
            "ticks": ""
           }
          },
          "title": {
           "x": 0.05
          },
          "xaxis": {
           "automargin": true,
           "gridcolor": "white",
           "linecolor": "white",
           "ticks": "",
           "title": {
            "standoff": 15
           },
           "zerolinecolor": "white",
           "zerolinewidth": 2
          },
          "yaxis": {
           "automargin": true,
           "gridcolor": "white",
           "linecolor": "white",
           "ticks": "",
           "title": {
            "standoff": 15
           },
           "zerolinecolor": "white",
           "zerolinewidth": 2
          }
         }
        },
        "title": {
         "font": {
          "color": "rgb(107, 107, 107)",
          "size": 20
         },
         "text": "Score Repartition by Zone",
         "x": 0.5,
         "xanchor": "center",
         "y": 0.9,
         "yanchor": "top"
        },
        "width": 800
       }
      }
     },
     "metadata": {},
     "output_type": "display_data"
    }
   ],
   "source": [
    "########### Descriptive Analysis\n",
    "\n",
    "def create_donut_chart(df, label_column):\n",
    "    # Count the frequency of each label\n",
    "    label_counts = df[label_column].value_counts()\n",
    "\n",
    "    # Create the donut chart\n",
    "    fig = go.Figure(data=[go.Pie(labels=label_counts.index, \n",
    "                                 values=label_counts.values, \n",
    "                                 hole=.6,\n",
    "                                #  marker=dict(colors=palette), \n",
    "                                # default:['#1f77b4',  '#ff7f0e',  '#2ca02c',  '#d62728',  '#9467bd',  '#8c564b',  '#e377c2',  '#7f7f7f',  '#bcbd22',  '#17becf']\n",
    "                                 hovertemplate='%{label}: %{value}<extra></extra>'\n",
    "                                )\n",
    "                    ])\n",
    "    \n",
    "    fig.update_layout(\n",
    "        legend_title_text=f\"{label_column}\",\n",
    "        title={'text': f'Score Repartition by {label_column}',\n",
    "               'y':0.9,'x':0.5,\n",
    "               'xanchor': 'center','yanchor': 'top'},\n",
    "        title_font=dict(size=20,\n",
    "                        color='rgb(107, 107, 107)'),\n",
    "        autosize=False,\n",
    "        width=800,\n",
    "        height=500\n",
    "    )\n",
    "    return fig\n",
    "\n",
    "create_donut_chart(df_preprocessed_full, 'Zone')"
   ]
  },
  {
   "cell_type": "code",
   "execution_count": null,
   "metadata": {},
   "outputs": [],
   "source": [
    "# Create Sunburst Chart\n",
    "def filter_docs(df, filter_column, filter_value):\n",
    "    filter_mask = df[filter_column] == filter_value\n",
    "    return df[filter_mask], filter_mask\n",
    "\n",
    "def compute_labels_and_parents(data_df, levels):\n",
    "    grouped = data_df.groupby(levels).size()\n",
    "\n",
    "    # Initialize lists\n",
    "    labels = []\n",
    "    parents = []\n",
    "\n",
    "    # Compute labels and parents lists\n",
    "    for i in range(len(levels)):\n",
    "        for label, value in grouped.items(): # loop over the rows\n",
    "            if label[i] not in labels:\n",
    "                labels.append(label[i]) \n",
    "                parents.append(\"\") if label[i] in data_df[levels[0]].values else parents.append(label[i-1])\n",
    "    \n",
    "    return labels, parents\n",
    "\n",
    "def prepare_dataframe(data_df, levels):\n",
    "    df_tmp=data_df.copy()\n",
    "    frequency_col_name = \"Count\"\n",
    "    df_tmp[frequency_col_name] = df_tmp.groupby(levels[-1])[levels[-1]].transform('count')\n",
    "    sunburst_df = df_tmp[levels + [frequency_col_name]].drop_duplicates()\n",
    "    sunburst_df[frequency_col_name] = sunburst_df[frequency_col_name].fillna(0)\n",
    "    \n",
    "    return sunburst_df\n",
    "\n",
    "def compute_values(sunburst_df, labels, levels):\n",
    "    values = []\n",
    "    processed_labels = set()  # This set will store the labels that have been processed\n",
    "    for label in labels:\n",
    "        if label not in processed_labels:  # Only process the label if it has not been processed before\n",
    "            for level in levels:\n",
    "                if label in sunburst_df[level].values:\n",
    "                    value = sunburst_df.loc[sunburst_df[level] == label, 'Count'].sum()\n",
    "                    values.append(value)\n",
    "                    processed_labels.add(label)  # Add the label to the set of processed labels\n",
    "                    break  # No need to check other levels for this label\n",
    "                    \n",
    "    return values\n",
    "\n",
    "def get_level(label, data_df, levels, return_highest_level=True): \n",
    "    # Find the levels that the label appears in\n",
    "    found_levels = [level for level in levels if label in data_df[level].values]\n",
    "    if not found_levels:\n",
    "        # raise ValueError(f\"Label {label} not found\")\n",
    "        return \"Unknown\"\n",
    "    # If return_highest is True, return the first level found (highest), else return the last level found (lowest)\n",
    "    if return_highest_level:\n",
    "        return found_levels[0]\n",
    "    else:\n",
    "        return found_levels[-1]\n",
    "\n",
    "def compute_percentages(sunburst_df, data_df, labels, parents, values, levels):\n",
    "    percentages = []\n",
    "    percentages_class = []\n",
    "    processed_labels = set()  # This set will store the labels that have been processed\n",
    "    \n",
    "    for level in levels:\n",
    "        # Compute total count for each label in current level\n",
    "        level_counts = sunburst_df.groupby(level)['Count'].sum()\n",
    "\n",
    "        for i, label in enumerate(labels):\n",
    "            if label not in processed_labels and label in sunburst_df[level].values:\n",
    "                label_count = sunburst_df.loc[sunburst_df[level] == label, 'Count'].sum() \n",
    "\n",
    "                # Compute total count for the parent of current label with a condition if the label has a parent or not. \n",
    "                # Without parent, the total count is the count for all labels at this highest level\n",
    "                total_count = values[labels.index(parents[i])] if parents[i]!='' else level_counts.sum()\n",
    "                # Compute total count from original dataframe \n",
    "                total_count_class = data_df[get_level(label, data_df, levels)].value_counts().get(label)                \n",
    "\n",
    "                # Compute percentage for current label\n",
    "                percentage = (label_count / total_count) * 100\n",
    "                percentages.append(percentage)\n",
    "                percentage_class = (label_count / total_count_class) * 100\n",
    "                percentages_class.append(percentage_class)\n",
    "                processed_labels.add(label)  # Add the label to the set of processed labels\n",
    "\n",
    "    return percentages, percentages_class\n",
    "\n",
    "def transform_scale_list(lst,exponent=2, desire_sum=100):\n",
    "    # Apply power transformation\n",
    "    transformed_lst = [i**exponent for i in lst]\n",
    "\n",
    "    # Scale the transformed data so that the total sum remains 100\n",
    "    total = sum(transformed_lst)\n",
    "    scaled_lst = [(i/total)*desire_sum for i in transformed_lst]\n",
    "    return scaled_lst\n",
    "\n",
    "def normalize_percentage_class(data_df, levels, labels, parents, percentages_class, scale_exponent=2):\n",
    "    # Init\n",
    "    normalized_percentages_class = [0]*len(percentages_class)\n",
    "    normalized_percentages_class_transform = [0]*len(percentages_class)\n",
    "\n",
    "    ##### Highest level\n",
    "\n",
    "    # Compute normalized_percentage_class for labels at the highest level (without parent)\n",
    "    highest_level_labels = [label for label in labels if get_level(label, data_df, levels) == levels[0]]\n",
    "    highest_level_indices = [labels.index(label) for label in highest_level_labels]\n",
    "    total_highest_level_percentage = sum(percentages_class[i] for i in highest_level_indices)\n",
    "    for i in highest_level_indices:\n",
    "        normalized_percentages_class[i] = percentages_class[i] / total_highest_level_percentage * 100\n",
    "\n",
    "    # scale the values for the highest level\n",
    "    normalized_percentages_class_transform = transform_scale_list(normalized_percentages_class,scale_exponent)\n",
    "\n",
    "    ##### Other levels\n",
    "\n",
    "    # Normalize percentages_class based on its parent\n",
    "    for level in levels[1:]: #loop on the levels except the highest one\n",
    "        level_labels = [label for label in labels if get_level(label, data_df, levels) == level]\n",
    "        level_indices = [labels.index(label) for label in level_labels]\n",
    "\n",
    "        # Loop to create the normalized_percentages_class list by level\n",
    "        for indice in level_indices:\n",
    "            sibling_indices = [j for j, parent in enumerate(parents) if parent == parents[indice]]\n",
    "            total_sibling_percentage = sum(percentages_class[j] for j in sibling_indices)\n",
    "            normalized_percentage_class = percentages_class[indice] / total_sibling_percentage * normalized_percentages_class[labels.index(parents[indice])]\n",
    "            normalized_percentages_class[indice] = normalized_percentage_class\n",
    "\n",
    "        # Loop to transform the normalized_percentages_class list by level : list normalized_percentages_class_transform\n",
    "        indices_updated = [] # list to avoid several treatments on each label\n",
    "        for indice in level_indices:\n",
    "            if indice not in indices_updated:\n",
    "                sibling_indices = [j for j, parent in enumerate(parents) if parent == parents[indice]]\n",
    "                # Get & Transform norm_pct_class by family (brothers with the same parent)\n",
    "                norm_pct_class_sibling = [normalized_percentages_class[i] for i in sibling_indices]\n",
    "                norm_pct_class_sibling_transform = transform_scale_list(norm_pct_class_sibling, scale_exponent, desire_sum=normalized_percentages_class_transform[labels.index(parents[indice])])\n",
    "                # Store the transform norm_pct_class in the normalized_percentages_class_transform list\n",
    "                for i, sibling_ind in enumerate(sibling_indices):\n",
    "                    normalized_percentages_class_transform[sibling_ind] = norm_pct_class_sibling_transform[i]\n",
    "                    indices_updated.append(sibling_ind)\n",
    "\n",
    "    return normalized_percentages_class_transform\n",
    "    \n",
    "def lighten_color(color, factor):\n",
    "    # Check if the input is RGB or hexadecimal\n",
    "    if isinstance(color, tuple):\n",
    "        r, g, b = color\n",
    "    else:\n",
    "        # Remove the '#' from the start of the color code if it exists\n",
    "        if color.startswith('#'):\n",
    "            color = color[1:]\n",
    "        r, g, b = tuple(int(color[i:i+2], 16) for i in (0, 2, 4))\n",
    "\n",
    "    # Convert RGB color to HLS\n",
    "    h, l, s = colorsys.rgb_to_hls(r/255.0, g/255.0, b/255.0)\n",
    "    # Increase the lightness\n",
    "    l = max(min(l + factor, 1.0), 0.0)\n",
    "    # Convert back to RGB\n",
    "    r, g, b = colorsys.hls_to_rgb(h, l, s)\n",
    "    \n",
    "    # Convert back to the original format\n",
    "    if isinstance(color, tuple):\n",
    "        return int(r*255), int(g*255), int(b*255)\n",
    "    else:\n",
    "        return '#%02x%02x%02x' % (int(r*255), int(g*255), int(b*255))\n",
    "    \n",
    "def compute_color_list(data_df, labels, parents, levels, color_sequence):\n",
    "    # Create a dictionary that maps each label to a color\n",
    "    color_dict = {}\n",
    "\n",
    "    # Sort your labels based on their level\n",
    "    labels_sorted = sorted(labels, key=lambda label: get_level(label, data_df, levels), reverse=True)\n",
    "    color_seq = color_sequence.copy()\n",
    "    # Iterate over your reversed sorted labels list\n",
    "    for i, label in enumerate(labels_sorted):\n",
    "        parent = parents[labels.index(label)]  # Get the parent of the current label\n",
    "        level = get_level(label, data_df, levels)  # Use your get_level function here\n",
    "\n",
    "        if level == levels[0]:\n",
    "            # Assign a unique color to each continent\n",
    "            if label not in color_dict:\n",
    "                # color_dict[label] = color_seq.pop(0)\n",
    "                color_dict[label] = color_sequence[i % len(color_sequence)]\n",
    "        else:\n",
    "            # Assign a lighter shade of the parent's color to each country or city\n",
    "            parent_color = color_dict[parent]\n",
    "            color_dict[label] = lighten_color(parent_color, 0.1)\n",
    "    return color_dict \n",
    "\n",
    "def add_unique_parent(labels, parents, values, unique_parent_name):\n",
    "    unique_parent_value = sum(values[i] for i in range(len(parents)) if parents[i] == '')\n",
    "    for i in range(len(labels)):\n",
    "        if parents[i] == '':\n",
    "            parents[i] = unique_parent_name\n",
    "    labels.append(unique_parent_name)\n",
    "    parents.append('')\n",
    "    values.append(unique_parent_value)\n",
    "\n",
    "    return labels, parents, values\n",
    "\n",
    "def compute_lists(data_df, levels, color_sequence, class_column=None, class_value=None, unique_parent=False, unique_parent_name=\"Geo Levels\"):\n",
    "    if class_column and class_value==None:\n",
    "        raise ValueError(\"When class_column is defined, class_value must be defined too and must be a value from the class_column column\")\n",
    "    \n",
    "    work_df = data_df.copy()\n",
    "    if class_column:\n",
    "        work_df = filter_docs(data_df, class_column, class_value)[0]\n",
    "    \n",
    "    labels, parents = compute_labels_and_parents(work_df, levels)\n",
    "    sunburst_df = prepare_dataframe(work_df, levels)\n",
    "    values = compute_values(sunburst_df, labels, levels)\n",
    "    # percentages, percentages_class, normalized_percentages_class = compute_percentages(sunburst_df, data_df, labels, parents, values, levels)\n",
    "    percentages, percentages_class = compute_percentages(sunburst_df, data_df, labels, parents, values, levels)\n",
    "    normalized_percentages_class_transform = normalize_percentage_class(data_df, levels, labels, parents, percentages_class, scale_exponent=1)\n",
    "    color_dict = compute_color_list(data_df, labels, parents, levels, color_sequence)\n",
    "    if unique_parent:\n",
    "        labels, parents, values =  add_unique_parent(labels, parents, values, unique_parent_name=unique_parent_name)\n",
    "        # Compute and add percentages for the unique_parent label\n",
    "        percentages.append(100)\n",
    "        percentages_class.append(len(filter_docs(data_df, class_column, class_value)[0])/len(data_df)*100) if class_column and class_value else percentages_class.append(\"None\")\n",
    "        # normalized_percentages_class.append(100) if class_column and class_value else normalized_percentages_class.append(\"None\")\n",
    "        normalized_percentages_class_transform.append(100) if class_column and class_value else normalized_percentages_class_transform.append(\"None\")\n",
    "        color_dict[unique_parent_name]='#ffffff'\n",
    "    return labels, parents, values, percentages, percentages_class, normalized_percentages_class_transform, color_dict\n",
    "\n",
    "def create_sunburst_fig(labels, parents, values, percentages, percentages_class, normalized_percentages_class_transform, color_dict, class_column=None, class_value=None, **sunburst_kwargs):\n",
    "    # Create a list of hover texts that includes the percentage for each label\n",
    "    hover_text = [f'{label}<br>Number of verbatims: {value}<br>Percentage: {percentage:.2f}%{f\"<br>Percentage of {class_value}: {percentage_class:.2f}%\" if class_column else \"\"}' for label, value, percentage, percentage_class in zip(labels, values, percentages, percentages_class)]\n",
    "\n",
    "    fig = go.Figure(data=go.Sunburst(\n",
    "        labels=labels,\n",
    "        parents=parents,\n",
    "        values=normalized_percentages_class_transform if class_column else values,\n",
    "        branchvalues='total',\n",
    "        hovertext=hover_text,\n",
    "        hovertemplate='%{hovertext}<extra></extra>',  # Only use custom hover text and remove extra info            \n",
    "        marker=dict(colors=[color_dict[label] for label in labels]),  # Set colors based on your mapping\n",
    "        **sunburst_kwargs\n",
    "    ))\n",
    "    \n",
    "    fig.update_layout(\n",
    "        title={'text': f\"Geographical Distribution\",\n",
    "               'y':0.95,'x':0.5,\n",
    "               'xanchor': 'center','yanchor': 'top'},\n",
    "        title_font=dict(size=20,\n",
    "                        color='rgb(107, 107, 107)'),\n",
    "        width=1100,\n",
    "        height=1000\n",
    "    )\n",
    "\n",
    "    return fig\n",
    "\n",
    "def sunburst(data_df, levels, color_sequence, unique_parent=True, class_column=None, class_value=None, **sunburst_kwargs):\n",
    "    labels, parents, values, percentages, percentages_class, normalized_percentages_class_transform, color_dict = compute_lists(data_df, levels, color_sequence, unique_parent=unique_parent, class_column=class_column, class_value=class_value)\n",
    "    fig = create_sunburst_fig(labels, parents, values, percentages, percentages_class, normalized_percentages_class_transform, color_dict, class_column=class_column, class_value=class_value, **sunburst_kwargs)\n",
    "    return fig\n",
    "\n",
    "levels = ['Zone','Clusters','Account Country'] # it has to be from the highest level to the lowest\n",
    "color_sequence = ['#636EFA','#EF553B','#00CC96','#AB63FA','#FFA15A','#19D3F3','#FF6692','#B6E880','#FF97FF','#FECB52','#E763FA','#BA68C8','#FFA000','#F06292','#7986CB','#4DB6AC','#FF8A65','#A1887F','#90A4AE','#E53935','#8E24AA']\n",
    "fig = sunburst(df_preprocessed_full, levels, color_sequence, unique_parent=False)#, class_column=\"single_emotion_label\", class_value=\"disappointment\")\n",
    "fig"
   ]
  },
  {
   "cell_type": "code",
   "execution_count": 8,
   "metadata": {},
   "outputs": [
    {
     "data": {
      "application/vnd.plotly.v1+json": {
       "config": {
        "plotlyServerURL": "https://plot.ly"
       },
       "data": [
        {
         "customdata": [
          261
         ],
         "hovertemplate": "year: %{x}<br>Number of Comments: %{customdata}<extra></extra>",
         "legendgroup": "2018",
         "marker": {
          "color": "#636EFA"
         },
         "name": "2018",
         "showlegend": true,
         "text": "59.5%",
         "textposition": "auto",
         "type": "bar",
         "x": [
          2018
         ],
         "xaxis": "x",
         "y": [
          59.45
         ],
         "yaxis": "y"
        },
        {
         "customdata": [
          1020
         ],
         "hovertemplate": "year: %{x}<br>Number of Comments: %{customdata}<extra></extra>",
         "legendgroup": "2019",
         "marker": {
          "color": "#EF553B"
         },
         "name": "2019",
         "showlegend": true,
         "text": "57.8%",
         "textposition": "auto",
         "type": "bar",
         "x": [
          2019
         ],
         "xaxis": "x",
         "y": [
          57.82
         ],
         "yaxis": "y"
        },
        {
         "customdata": [
          917
         ],
         "hovertemplate": "year: %{x}<br>Number of Comments: %{customdata}<extra></extra>",
         "legendgroup": "2020",
         "marker": {
          "color": "#00CC96"
         },
         "name": "2020",
         "showlegend": true,
         "text": "55.2%",
         "textposition": "auto",
         "type": "bar",
         "x": [
          2020
         ],
         "xaxis": "x",
         "y": [
          55.17
         ],
         "yaxis": "y"
        },
        {
         "customdata": [
          951
         ],
         "hovertemplate": "year: %{x}<br>Number of Comments: %{customdata}<extra></extra>",
         "legendgroup": "2021",
         "marker": {
          "color": "#AB63FA"
         },
         "name": "2021",
         "showlegend": true,
         "text": "56.2%",
         "textposition": "auto",
         "type": "bar",
         "x": [
          2021
         ],
         "xaxis": "x",
         "y": [
          56.17
         ],
         "yaxis": "y"
        },
        {
         "customdata": [
          882
         ],
         "hovertemplate": "year: %{x}<br>Number of Comments: %{customdata}<extra></extra>",
         "legendgroup": "2022",
         "marker": {
          "color": "#FFA15A"
         },
         "name": "2022",
         "showlegend": true,
         "text": "56.3%",
         "textposition": "auto",
         "type": "bar",
         "x": [
          2022
         ],
         "xaxis": "x",
         "y": [
          56.32
         ],
         "yaxis": "y"
        },
        {
         "customdata": [
          296
         ],
         "hovertemplate": "year: %{x}<br>Number of Comments: %{customdata}<extra></extra>",
         "legendgroup": "2023",
         "marker": {
          "color": "#19D3F3"
         },
         "name": "2023",
         "showlegend": true,
         "text": "50.8%",
         "textposition": "auto",
         "type": "bar",
         "x": [
          2023
         ],
         "xaxis": "x",
         "y": [
          50.77
         ],
         "yaxis": "y"
        },
        {
         "customdata": [
          439
         ],
         "hovertemplate": "year: %{x}<br>Total Number of Rows: %{customdata}<extra></extra>",
         "legendgroup": "2018",
         "marker": {
          "color": "lightgrey"
         },
         "name": "Without Comments",
         "showlegend": false,
         "type": "bar",
         "x": [
          2018
         ],
         "xaxis": "x",
         "y": [
          40.55
         ],
         "yaxis": "y"
        },
        {
         "customdata": [
          1764
         ],
         "hovertemplate": "year: %{x}<br>Total Number of Rows: %{customdata}<extra></extra>",
         "legendgroup": "2019",
         "marker": {
          "color": "lightgrey"
         },
         "name": "Without Comments",
         "showlegend": false,
         "type": "bar",
         "x": [
          2019
         ],
         "xaxis": "x",
         "y": [
          42.18
         ],
         "yaxis": "y"
        },
        {
         "customdata": [
          1662
         ],
         "hovertemplate": "year: %{x}<br>Total Number of Rows: %{customdata}<extra></extra>",
         "legendgroup": "2020",
         "marker": {
          "color": "lightgrey"
         },
         "name": "Without Comments",
         "showlegend": false,
         "type": "bar",
         "x": [
          2020
         ],
         "xaxis": "x",
         "y": [
          44.83
         ],
         "yaxis": "y"
        },
        {
         "customdata": [
          1693
         ],
         "hovertemplate": "year: %{x}<br>Total Number of Rows: %{customdata}<extra></extra>",
         "legendgroup": "2021",
         "marker": {
          "color": "lightgrey"
         },
         "name": "Without Comments",
         "showlegend": false,
         "type": "bar",
         "x": [
          2021
         ],
         "xaxis": "x",
         "y": [
          43.83
         ],
         "yaxis": "y"
        },
        {
         "customdata": [
          1566
         ],
         "hovertemplate": "year: %{x}<br>Total Number of Rows: %{customdata}<extra></extra>",
         "legendgroup": "2022",
         "marker": {
          "color": "lightgrey"
         },
         "name": "Without Comments",
         "showlegend": false,
         "type": "bar",
         "x": [
          2022
         ],
         "xaxis": "x",
         "y": [
          43.68
         ],
         "yaxis": "y"
        },
        {
         "customdata": [
          583
         ],
         "hovertemplate": "year: %{x}<br>Total Number of Rows: %{customdata}<extra></extra>",
         "legendgroup": "2023",
         "marker": {
          "color": "lightgrey"
         },
         "name": "Without Comments",
         "showlegend": false,
         "type": "bar",
         "x": [
          2023
         ],
         "xaxis": "x",
         "y": [
          49.23
         ],
         "yaxis": "y"
        },
        {
         "customdata": [
          291
         ],
         "hovertemplate": "year: %{x}<br>Number of Comments: %{customdata}<extra></extra>",
         "legendgroup": "2018",
         "marker": {
          "color": "#636EFA"
         },
         "name": "2018",
         "showlegend": false,
         "text": "82.0%",
         "textposition": "auto",
         "type": "bar",
         "x": [
          2018
         ],
         "xaxis": "x2",
         "y": [
          81.97
         ],
         "yaxis": "y2"
        },
        {
         "customdata": [
          453
         ],
         "hovertemplate": "year: %{x}<br>Number of Comments: %{customdata}<extra></extra>",
         "legendgroup": "2019",
         "marker": {
          "color": "#EF553B"
         },
         "name": "2019",
         "showlegend": false,
         "text": "61.4%",
         "textposition": "auto",
         "type": "bar",
         "x": [
          2019
         ],
         "xaxis": "x2",
         "y": [
          61.38
         ],
         "yaxis": "y2"
        },
        {
         "customdata": [
          323
         ],
         "hovertemplate": "year: %{x}<br>Number of Comments: %{customdata}<extra></extra>",
         "legendgroup": "2020",
         "marker": {
          "color": "#00CC96"
         },
         "name": "2020",
         "showlegend": false,
         "text": "48.7%",
         "textposition": "auto",
         "type": "bar",
         "x": [
          2020
         ],
         "xaxis": "x2",
         "y": [
          48.72
         ],
         "yaxis": "y2"
        },
        {
         "customdata": [
          412
         ],
         "hovertemplate": "year: %{x}<br>Number of Comments: %{customdata}<extra></extra>",
         "legendgroup": "2021",
         "marker": {
          "color": "#AB63FA"
         },
         "name": "2021",
         "showlegend": false,
         "text": "59.3%",
         "textposition": "auto",
         "type": "bar",
         "x": [
          2021
         ],
         "xaxis": "x2",
         "y": [
          59.28
         ],
         "yaxis": "y2"
        },
        {
         "customdata": [
          348
         ],
         "hovertemplate": "year: %{x}<br>Number of Comments: %{customdata}<extra></extra>",
         "legendgroup": "2022",
         "marker": {
          "color": "#FFA15A"
         },
         "name": "2022",
         "showlegend": false,
         "text": "59.6%",
         "textposition": "auto",
         "type": "bar",
         "x": [
          2022
         ],
         "xaxis": "x2",
         "y": [
          59.59
         ],
         "yaxis": "y2"
        },
        {
         "customdata": [
          87
         ],
         "hovertemplate": "year: %{x}<br>Number of Comments: %{customdata}<extra></extra>",
         "legendgroup": "2023",
         "marker": {
          "color": "#19D3F3"
         },
         "name": "2023",
         "showlegend": false,
         "text": "46.5%",
         "textposition": "auto",
         "type": "bar",
         "x": [
          2023
         ],
         "xaxis": "x2",
         "y": [
          46.52
         ],
         "yaxis": "y2"
        },
        {
         "customdata": [
          355
         ],
         "hovertemplate": "year: %{x}<br>Total Number of Rows: %{customdata}<extra></extra>",
         "legendgroup": "2018",
         "marker": {
          "color": "lightgrey"
         },
         "name": "Without Comments",
         "showlegend": false,
         "type": "bar",
         "x": [
          2018
         ],
         "xaxis": "x2",
         "y": [
          18.03
         ],
         "yaxis": "y2"
        },
        {
         "customdata": [
          738
         ],
         "hovertemplate": "year: %{x}<br>Total Number of Rows: %{customdata}<extra></extra>",
         "legendgroup": "2019",
         "marker": {
          "color": "lightgrey"
         },
         "name": "Without Comments",
         "showlegend": false,
         "type": "bar",
         "x": [
          2019
         ],
         "xaxis": "x2",
         "y": [
          38.62
         ],
         "yaxis": "y2"
        },
        {
         "customdata": [
          663
         ],
         "hovertemplate": "year: %{x}<br>Total Number of Rows: %{customdata}<extra></extra>",
         "legendgroup": "2020",
         "marker": {
          "color": "lightgrey"
         },
         "name": "Without Comments",
         "showlegend": false,
         "type": "bar",
         "x": [
          2020
         ],
         "xaxis": "x2",
         "y": [
          51.28
         ],
         "yaxis": "y2"
        },
        {
         "customdata": [
          695
         ],
         "hovertemplate": "year: %{x}<br>Total Number of Rows: %{customdata}<extra></extra>",
         "legendgroup": "2021",
         "marker": {
          "color": "lightgrey"
         },
         "name": "Without Comments",
         "showlegend": false,
         "type": "bar",
         "x": [
          2021
         ],
         "xaxis": "x2",
         "y": [
          40.72
         ],
         "yaxis": "y2"
        },
        {
         "customdata": [
          584
         ],
         "hovertemplate": "year: %{x}<br>Total Number of Rows: %{customdata}<extra></extra>",
         "legendgroup": "2022",
         "marker": {
          "color": "lightgrey"
         },
         "name": "Without Comments",
         "showlegend": false,
         "type": "bar",
         "x": [
          2022
         ],
         "xaxis": "x2",
         "y": [
          40.41
         ],
         "yaxis": "y2"
        },
        {
         "customdata": [
          187
         ],
         "hovertemplate": "year: %{x}<br>Total Number of Rows: %{customdata}<extra></extra>",
         "legendgroup": "2023",
         "marker": {
          "color": "lightgrey"
         },
         "name": "Without Comments",
         "showlegend": false,
         "type": "bar",
         "x": [
          2023
         ],
         "xaxis": "x2",
         "y": [
          53.48
         ],
         "yaxis": "y2"
        }
       ],
       "layout": {
        "barmode": "stack",
        "height": 800,
        "showlegend": true,
        "template": {
         "data": {
          "bar": [
           {
            "error_x": {
             "color": "#2a3f5f"
            },
            "error_y": {
             "color": "#2a3f5f"
            },
            "marker": {
             "line": {
              "color": "#E5ECF6",
              "width": 0.5
             },
             "pattern": {
              "fillmode": "overlay",
              "size": 10,
              "solidity": 0.2
             }
            },
            "type": "bar"
           }
          ],
          "barpolar": [
           {
            "marker": {
             "line": {
              "color": "#E5ECF6",
              "width": 0.5
             },
             "pattern": {
              "fillmode": "overlay",
              "size": 10,
              "solidity": 0.2
             }
            },
            "type": "barpolar"
           }
          ],
          "carpet": [
           {
            "aaxis": {
             "endlinecolor": "#2a3f5f",
             "gridcolor": "white",
             "linecolor": "white",
             "minorgridcolor": "white",
             "startlinecolor": "#2a3f5f"
            },
            "baxis": {
             "endlinecolor": "#2a3f5f",
             "gridcolor": "white",
             "linecolor": "white",
             "minorgridcolor": "white",
             "startlinecolor": "#2a3f5f"
            },
            "type": "carpet"
           }
          ],
          "choropleth": [
           {
            "colorbar": {
             "outlinewidth": 0,
             "ticks": ""
            },
            "type": "choropleth"
           }
          ],
          "contour": [
           {
            "colorbar": {
             "outlinewidth": 0,
             "ticks": ""
            },
            "colorscale": [
             [
              0,
              "#0d0887"
             ],
             [
              0.1111111111111111,
              "#46039f"
             ],
             [
              0.2222222222222222,
              "#7201a8"
             ],
             [
              0.3333333333333333,
              "#9c179e"
             ],
             [
              0.4444444444444444,
              "#bd3786"
             ],
             [
              0.5555555555555556,
              "#d8576b"
             ],
             [
              0.6666666666666666,
              "#ed7953"
             ],
             [
              0.7777777777777778,
              "#fb9f3a"
             ],
             [
              0.8888888888888888,
              "#fdca26"
             ],
             [
              1,
              "#f0f921"
             ]
            ],
            "type": "contour"
           }
          ],
          "contourcarpet": [
           {
            "colorbar": {
             "outlinewidth": 0,
             "ticks": ""
            },
            "type": "contourcarpet"
           }
          ],
          "heatmap": [
           {
            "colorbar": {
             "outlinewidth": 0,
             "ticks": ""
            },
            "colorscale": [
             [
              0,
              "#0d0887"
             ],
             [
              0.1111111111111111,
              "#46039f"
             ],
             [
              0.2222222222222222,
              "#7201a8"
             ],
             [
              0.3333333333333333,
              "#9c179e"
             ],
             [
              0.4444444444444444,
              "#bd3786"
             ],
             [
              0.5555555555555556,
              "#d8576b"
             ],
             [
              0.6666666666666666,
              "#ed7953"
             ],
             [
              0.7777777777777778,
              "#fb9f3a"
             ],
             [
              0.8888888888888888,
              "#fdca26"
             ],
             [
              1,
              "#f0f921"
             ]
            ],
            "type": "heatmap"
           }
          ],
          "heatmapgl": [
           {
            "colorbar": {
             "outlinewidth": 0,
             "ticks": ""
            },
            "colorscale": [
             [
              0,
              "#0d0887"
             ],
             [
              0.1111111111111111,
              "#46039f"
             ],
             [
              0.2222222222222222,
              "#7201a8"
             ],
             [
              0.3333333333333333,
              "#9c179e"
             ],
             [
              0.4444444444444444,
              "#bd3786"
             ],
             [
              0.5555555555555556,
              "#d8576b"
             ],
             [
              0.6666666666666666,
              "#ed7953"
             ],
             [
              0.7777777777777778,
              "#fb9f3a"
             ],
             [
              0.8888888888888888,
              "#fdca26"
             ],
             [
              1,
              "#f0f921"
             ]
            ],
            "type": "heatmapgl"
           }
          ],
          "histogram": [
           {
            "marker": {
             "pattern": {
              "fillmode": "overlay",
              "size": 10,
              "solidity": 0.2
             }
            },
            "type": "histogram"
           }
          ],
          "histogram2d": [
           {
            "colorbar": {
             "outlinewidth": 0,
             "ticks": ""
            },
            "colorscale": [
             [
              0,
              "#0d0887"
             ],
             [
              0.1111111111111111,
              "#46039f"
             ],
             [
              0.2222222222222222,
              "#7201a8"
             ],
             [
              0.3333333333333333,
              "#9c179e"
             ],
             [
              0.4444444444444444,
              "#bd3786"
             ],
             [
              0.5555555555555556,
              "#d8576b"
             ],
             [
              0.6666666666666666,
              "#ed7953"
             ],
             [
              0.7777777777777778,
              "#fb9f3a"
             ],
             [
              0.8888888888888888,
              "#fdca26"
             ],
             [
              1,
              "#f0f921"
             ]
            ],
            "type": "histogram2d"
           }
          ],
          "histogram2dcontour": [
           {
            "colorbar": {
             "outlinewidth": 0,
             "ticks": ""
            },
            "colorscale": [
             [
              0,
              "#0d0887"
             ],
             [
              0.1111111111111111,
              "#46039f"
             ],
             [
              0.2222222222222222,
              "#7201a8"
             ],
             [
              0.3333333333333333,
              "#9c179e"
             ],
             [
              0.4444444444444444,
              "#bd3786"
             ],
             [
              0.5555555555555556,
              "#d8576b"
             ],
             [
              0.6666666666666666,
              "#ed7953"
             ],
             [
              0.7777777777777778,
              "#fb9f3a"
             ],
             [
              0.8888888888888888,
              "#fdca26"
             ],
             [
              1,
              "#f0f921"
             ]
            ],
            "type": "histogram2dcontour"
           }
          ],
          "mesh3d": [
           {
            "colorbar": {
             "outlinewidth": 0,
             "ticks": ""
            },
            "type": "mesh3d"
           }
          ],
          "parcoords": [
           {
            "line": {
             "colorbar": {
              "outlinewidth": 0,
              "ticks": ""
             }
            },
            "type": "parcoords"
           }
          ],
          "pie": [
           {
            "automargin": true,
            "type": "pie"
           }
          ],
          "scatter": [
           {
            "fillpattern": {
             "fillmode": "overlay",
             "size": 10,
             "solidity": 0.2
            },
            "type": "scatter"
           }
          ],
          "scatter3d": [
           {
            "line": {
             "colorbar": {
              "outlinewidth": 0,
              "ticks": ""
             }
            },
            "marker": {
             "colorbar": {
              "outlinewidth": 0,
              "ticks": ""
             }
            },
            "type": "scatter3d"
           }
          ],
          "scattercarpet": [
           {
            "marker": {
             "colorbar": {
              "outlinewidth": 0,
              "ticks": ""
             }
            },
            "type": "scattercarpet"
           }
          ],
          "scattergeo": [
           {
            "marker": {
             "colorbar": {
              "outlinewidth": 0,
              "ticks": ""
             }
            },
            "type": "scattergeo"
           }
          ],
          "scattergl": [
           {
            "marker": {
             "colorbar": {
              "outlinewidth": 0,
              "ticks": ""
             }
            },
            "type": "scattergl"
           }
          ],
          "scattermapbox": [
           {
            "marker": {
             "colorbar": {
              "outlinewidth": 0,
              "ticks": ""
             }
            },
            "type": "scattermapbox"
           }
          ],
          "scatterpolar": [
           {
            "marker": {
             "colorbar": {
              "outlinewidth": 0,
              "ticks": ""
             }
            },
            "type": "scatterpolar"
           }
          ],
          "scatterpolargl": [
           {
            "marker": {
             "colorbar": {
              "outlinewidth": 0,
              "ticks": ""
             }
            },
            "type": "scatterpolargl"
           }
          ],
          "scatterternary": [
           {
            "marker": {
             "colorbar": {
              "outlinewidth": 0,
              "ticks": ""
             }
            },
            "type": "scatterternary"
           }
          ],
          "surface": [
           {
            "colorbar": {
             "outlinewidth": 0,
             "ticks": ""
            },
            "colorscale": [
             [
              0,
              "#0d0887"
             ],
             [
              0.1111111111111111,
              "#46039f"
             ],
             [
              0.2222222222222222,
              "#7201a8"
             ],
             [
              0.3333333333333333,
              "#9c179e"
             ],
             [
              0.4444444444444444,
              "#bd3786"
             ],
             [
              0.5555555555555556,
              "#d8576b"
             ],
             [
              0.6666666666666666,
              "#ed7953"
             ],
             [
              0.7777777777777778,
              "#fb9f3a"
             ],
             [
              0.8888888888888888,
              "#fdca26"
             ],
             [
              1,
              "#f0f921"
             ]
            ],
            "type": "surface"
           }
          ],
          "table": [
           {
            "cells": {
             "fill": {
              "color": "#EBF0F8"
             },
             "line": {
              "color": "white"
             }
            },
            "header": {
             "fill": {
              "color": "#C8D4E3"
             },
             "line": {
              "color": "white"
             }
            },
            "type": "table"
           }
          ]
         },
         "layout": {
          "annotationdefaults": {
           "arrowcolor": "#2a3f5f",
           "arrowhead": 0,
           "arrowwidth": 1
          },
          "autotypenumbers": "strict",
          "coloraxis": {
           "colorbar": {
            "outlinewidth": 0,
            "ticks": ""
           }
          },
          "colorscale": {
           "diverging": [
            [
             0,
             "#8e0152"
            ],
            [
             0.1,
             "#c51b7d"
            ],
            [
             0.2,
             "#de77ae"
            ],
            [
             0.3,
             "#f1b6da"
            ],
            [
             0.4,
             "#fde0ef"
            ],
            [
             0.5,
             "#f7f7f7"
            ],
            [
             0.6,
             "#e6f5d0"
            ],
            [
             0.7,
             "#b8e186"
            ],
            [
             0.8,
             "#7fbc41"
            ],
            [
             0.9,
             "#4d9221"
            ],
            [
             1,
             "#276419"
            ]
           ],
           "sequential": [
            [
             0,
             "#0d0887"
            ],
            [
             0.1111111111111111,
             "#46039f"
            ],
            [
             0.2222222222222222,
             "#7201a8"
            ],
            [
             0.3333333333333333,
             "#9c179e"
            ],
            [
             0.4444444444444444,
             "#bd3786"
            ],
            [
             0.5555555555555556,
             "#d8576b"
            ],
            [
             0.6666666666666666,
             "#ed7953"
            ],
            [
             0.7777777777777778,
             "#fb9f3a"
            ],
            [
             0.8888888888888888,
             "#fdca26"
            ],
            [
             1,
             "#f0f921"
            ]
           ],
           "sequentialminus": [
            [
             0,
             "#0d0887"
            ],
            [
             0.1111111111111111,
             "#46039f"
            ],
            [
             0.2222222222222222,
             "#7201a8"
            ],
            [
             0.3333333333333333,
             "#9c179e"
            ],
            [
             0.4444444444444444,
             "#bd3786"
            ],
            [
             0.5555555555555556,
             "#d8576b"
            ],
            [
             0.6666666666666666,
             "#ed7953"
            ],
            [
             0.7777777777777778,
             "#fb9f3a"
            ],
            [
             0.8888888888888888,
             "#fdca26"
            ],
            [
             1,
             "#f0f921"
            ]
           ]
          },
          "colorway": [
           "#636efa",
           "#EF553B",
           "#00cc96",
           "#ab63fa",
           "#FFA15A",
           "#19d3f3",
           "#FF6692",
           "#B6E880",
           "#FF97FF",
           "#FECB52"
          ],
          "font": {
           "color": "#2a3f5f"
          },
          "geo": {
           "bgcolor": "white",
           "lakecolor": "white",
           "landcolor": "#E5ECF6",
           "showlakes": true,
           "showland": true,
           "subunitcolor": "white"
          },
          "hoverlabel": {
           "align": "left"
          },
          "hovermode": "closest",
          "mapbox": {
           "style": "light"
          },
          "paper_bgcolor": "white",
          "plot_bgcolor": "#E5ECF6",
          "polar": {
           "angularaxis": {
            "gridcolor": "white",
            "linecolor": "white",
            "ticks": ""
           },
           "bgcolor": "#E5ECF6",
           "radialaxis": {
            "gridcolor": "white",
            "linecolor": "white",
            "ticks": ""
           }
          },
          "scene": {
           "xaxis": {
            "backgroundcolor": "#E5ECF6",
            "gridcolor": "white",
            "gridwidth": 2,
            "linecolor": "white",
            "showbackground": true,
            "ticks": "",
            "zerolinecolor": "white"
           },
           "yaxis": {
            "backgroundcolor": "#E5ECF6",
            "gridcolor": "white",
            "gridwidth": 2,
            "linecolor": "white",
            "showbackground": true,
            "ticks": "",
            "zerolinecolor": "white"
           },
           "zaxis": {
            "backgroundcolor": "#E5ECF6",
            "gridcolor": "white",
            "gridwidth": 2,
            "linecolor": "white",
            "showbackground": true,
            "ticks": "",
            "zerolinecolor": "white"
           }
          },
          "shapedefaults": {
           "line": {
            "color": "#2a3f5f"
           }
          },
          "ternary": {
           "aaxis": {
            "gridcolor": "white",
            "linecolor": "white",
            "ticks": ""
           },
           "baxis": {
            "gridcolor": "white",
            "linecolor": "white",
            "ticks": ""
           },
           "bgcolor": "#E5ECF6",
           "caxis": {
            "gridcolor": "white",
            "linecolor": "white",
            "ticks": ""
           }
          },
          "title": {
           "x": 0.05
          },
          "xaxis": {
           "automargin": true,
           "gridcolor": "white",
           "linecolor": "white",
           "ticks": "",
           "title": {
            "standoff": 15
           },
           "zerolinecolor": "white",
           "zerolinewidth": 2
          },
          "yaxis": {
           "automargin": true,
           "gridcolor": "white",
           "linecolor": "white",
           "ticks": "",
           "title": {
            "standoff": 15
           },
           "zerolinecolor": "white",
           "zerolinewidth": 2
          }
         }
        },
        "title": {
         "text": "Percentage of Rows with Comments by Zone and year"
        },
        "xaxis": {
         "anchor": "y",
         "domain": [
          0,
          1
         ],
         "tickangle": 45
        },
        "xaxis2": {
         "anchor": "y2",
         "domain": [
          0,
          1
         ],
         "tickangle": 45
        },
        "yaxis": {
         "anchor": "x",
         "domain": [
          0.575,
          1
         ],
         "title": {
          "standoff": 0,
          "text": "Italy"
         }
        },
        "yaxis2": {
         "anchor": "x2",
         "domain": [
          0,
          0.425
         ],
         "title": {
          "standoff": 0,
          "text": "France"
         }
        }
       }
      }
     },
     "metadata": {},
     "output_type": "display_data"
    }
   ],
   "source": [
    "def filling_data_barchart(df, group_column, count_column, color_sequence = ['#636EFA','#EF553B','#00CC96','#AB63FA','#FFA15A','#19D3F3','#FF6692','#B6E880','#FF97FF','#FECB52','#E763FA','#BA68C8','#FFA000','#F06292','#7986CB','#4DB6AC','#FF8A65','#A1887F','#90A4AE','#E53935','#8E24AA']):\n",
    "    # Group by group_column and calculate the total number of rows and the number of rows with comments\n",
    "    grouped = df.groupby(group_column).agg(\n",
    "        total_rows=pd.NamedAgg(column=count_column, aggfunc='count'),\n",
    "        rows_with_comments=pd.NamedAgg(column=count_column, aggfunc='sum')\n",
    "    )\n",
    "\n",
    "    # Calculate the percentage of rows with comments and without comments\n",
    "    grouped['percentage_with_comments'] = round(grouped['rows_with_comments'] / grouped['total_rows'] * 100,2)\n",
    "    grouped['percentage_without_comments'] = 100 - grouped['percentage_with_comments']\n",
    "\n",
    "    # Create a color iterator\n",
    "    color_iterator = cycle(color_sequence)\n",
    "\n",
    "    # Create a stacked bar chart using go.Figure\n",
    "    fig = go.Figure(data=[\n",
    "        go.Bar(name=str(index), x=[index], y=[grouped.loc[index, 'percentage_with_comments']], marker_color=next(color_iterator), text='{:.1f}%'.format(grouped.loc[index, 'percentage_with_comments']), textposition='auto', hovertemplate=f'{group_column}: %{{x}}<br>Number of Comments: %{{customdata}}<extra></extra>', customdata=[grouped.loc[index, 'rows_with_comments']], showlegend=True, legendgroup=str(index)) for index in grouped.index\n",
    "    ] + [\n",
    "        go.Bar(name='Without Comments', x=[index], y=[grouped.loc[index, 'percentage_without_comments']], marker_color='lightgrey', hovertemplate=f'{group_column}: %{{x}}<br>Total Number of Rows: %{{customdata}}<extra></extra>', customdata=[grouped.loc[index, 'total_rows']], showlegend=False, legendgroup=str(index)) for index in grouped.index\n",
    "    ])\n",
    "\n",
    "    # Change the bar mode\n",
    "    fig.update_layout(barmode='stack')\n",
    "\n",
    "    # Set chart title and labels\n",
    "    fig.update_layout(\n",
    "        title_text=f'Percentage of Rows with Comments by {group_column}',\n",
    "        xaxis_title=group_column,\n",
    "        yaxis_title='Percentage of Rows',\n",
    "        showlegend=True\n",
    "    )\n",
    "    \n",
    "    return fig\n",
    "\n",
    "def filling_data_barcharts(df, group_columns, count_column, values_list=None, color_sequence=['#636EFA','#EF553B','#00CC96','#AB63FA','#FFA15A','#19D3F3','#FF6692','#B6E880','#FF97FF','#FECB52','#E763FA','#BA68C8','#FFA000','#F06292','#7986CB','#4DB6AC','#FF8A65','#A1887F','#90A4AE','#E53935','#8E24AA']):\n",
    "    # If values_list is None, get all unique values from group_columns[0]\n",
    "    if values_list is None:\n",
    "        values_list = df[group_columns[0]].unique()\n",
    "\n",
    "    # Filter df for only the values in values_list\n",
    "    df = df[df[group_columns[0]].isin(values_list)]\n",
    "\n",
    "    # Create a subplot for each unique value in the first group column\n",
    "    fig = sp.make_subplots(rows=len(values_list), cols=1)\n",
    "\n",
    "    for i, value in enumerate(values_list, start=1):\n",
    "        df_group = df[df[group_columns[0]] == value]\n",
    "        fig_group = filling_data_barchart(df_group, group_columns[1], count_column, color_sequence)\n",
    "\n",
    "        for trace in fig_group.data:\n",
    "            trace.name = trace.name.split(' - ')[0]  \n",
    "            fig.add_trace(trace, row=i, col=1)              \n",
    "\n",
    "        # Add y-axis title to each subplot\n",
    "        fig.update_yaxes(title_text=str(value), title_standoff=0, row=i, col=1)\n",
    "\n",
    "        # Only show legend for the first subplot\n",
    "        if i > 1:\n",
    "            for trace in fig.data[-len(fig_group.data):]:\n",
    "                trace.showlegend = False\n",
    "\n",
    "    # Update layout and add interactive legend\n",
    "    fig.update_layout(\n",
    "        height=400*len(values_list), \n",
    "        title_text=f\"Percentage of Rows with Comments by {group_columns[0]} and {group_columns[1]}\", \n",
    "        barmode='stack', \n",
    "        showlegend=True,\n",
    "        xaxis=dict(tickangle=45), # Rotate x-axis labels\n",
    "    )\n",
    "\n",
    "    fig.update_xaxes(tickangle=45)\n",
    "\n",
    "    return fig\n",
    "\n",
    "filling_data_barchart(df_preprocessed_full, 'Zone', 'non_empty_rows')\n",
    "filling_data_barcharts(df_preprocessed_full, ['Zone', 'year'], 'non_empty_rows', ['Italy', 'France'])"
   ]
  },
  {
   "cell_type": "code",
   "execution_count": 13,
   "metadata": {},
   "outputs": [
    {
     "data": {
      "application/vnd.plotly.v1+json": {
       "config": {
        "plotlyServerURL": "https://plot.ly"
       },
       "data": [
        {
         "hoverinfo": "text",
         "hovertext": [
          "Group: Italy<br>Count: 181<br>Percentage: 2.35%",
          "Group: Italy<br>Count: 55<br>Percentage: 0.71%",
          "Group: Italy<br>Count: 82<br>Percentage: 1.07%",
          "Group: Italy<br>Count: 84<br>Percentage: 1.09%",
          "Group: Italy<br>Count: 79<br>Percentage: 1.03%",
          "Group: Italy<br>Count: 164<br>Percentage: 2.13%",
          "Group: Italy<br>Count: 292<br>Percentage: 3.79%",
          "Group: Italy<br>Count: 633<br>Percentage: 8.23%",
          "Group: Italy<br>Count: 1708<br>Percentage: 22.2%",
          "Group: Italy<br>Count: 1648<br>Percentage: 21.42%",
          "Group: Italy<br>Count: 2769<br>Percentage: 35.98%"
         ],
         "name": "Italy",
         "type": "bar",
         "x": [
          0,
          1,
          2,
          3,
          4,
          5,
          6,
          7,
          8,
          9,
          10
         ],
         "y": [
          2.3521767381416505,
          0.7147498375568551,
          1.0656270305393112,
          1.091617933723197,
          1.026640675763483,
          2.1312540610786224,
          3.7946718648473037,
          8.226120857699804,
          22.196231319038336,
          21.416504223521766,
          35.98440545808967
         ]
        },
        {
         "hoverinfo": "text",
         "hovertext": [
          "Group: France<br>Count: 93<br>Percentage: 2.9%",
          "Group: France<br>Count: 50<br>Percentage: 1.56%",
          "Group: France<br>Count: 65<br>Percentage: 2.02%",
          "Group: France<br>Count: 65<br>Percentage: 2.02%",
          "Group: France<br>Count: 42<br>Percentage: 1.31%",
          "Group: France<br>Count: 127<br>Percentage: 3.96%",
          "Group: France<br>Count: 129<br>Percentage: 4.02%",
          "Group: France<br>Count: 354<br>Percentage: 11.03%",
          "Group: France<br>Count: 774<br>Percentage: 24.11%",
          "Group: France<br>Count: 700<br>Percentage: 21.81%",
          "Group: France<br>Count: 811<br>Percentage: 25.26%"
         ],
         "name": "France",
         "type": "bar",
         "x": [
          0,
          1,
          2,
          3,
          4,
          5,
          6,
          7,
          8,
          9,
          10
         ],
         "y": [
          2.897196261682243,
          1.557632398753894,
          2.0249221183800623,
          2.0249221183800623,
          1.3084112149532712,
          3.956386292834891,
          4.018691588785047,
          11.02803738317757,
          24.11214953271028,
          21.806853582554517,
          25.26479750778816
         ]
        },
        {
         "hoverinfo": "text",
         "hovertext": [
          "Group: DACH<br>Count: 241<br>Percentage: 3.69%",
          "Group: DACH<br>Count: 84<br>Percentage: 1.29%",
          "Group: DACH<br>Count: 111<br>Percentage: 1.7%",
          "Group: DACH<br>Count: 131<br>Percentage: 2.0%",
          "Group: DACH<br>Count: 100<br>Percentage: 1.53%",
          "Group: DACH<br>Count: 270<br>Percentage: 4.13%",
          "Group: DACH<br>Count: 217<br>Percentage: 3.32%",
          "Group: DACH<br>Count: 539<br>Percentage: 8.25%",
          "Group: DACH<br>Count: 1409<br>Percentage: 21.56%",
          "Group: DACH<br>Count: 1463<br>Percentage: 22.39%",
          "Group: DACH<br>Count: 1969<br>Percentage: 30.13%"
         ],
         "name": "DACH",
         "type": "bar",
         "x": [
          0,
          1,
          2,
          3,
          4,
          5,
          6,
          7,
          8,
          9,
          10
         ],
         "y": [
          3.6883991429445975,
          1.285583103764922,
          1.6988062442607896,
          2.0048974594429136,
          1.5304560759106214,
          4.132231404958678,
          3.321089684726048,
          8.24915824915825,
          21.564126109580656,
          22.39057239057239,
          30.134680134680135
         ]
        }
       ],
       "layout": {
        "barmode": "group",
        "height": 1200,
        "showlegend": true,
        "template": {
         "data": {
          "bar": [
           {
            "error_x": {
             "color": "#2a3f5f"
            },
            "error_y": {
             "color": "#2a3f5f"
            },
            "marker": {
             "line": {
              "color": "#E5ECF6",
              "width": 0.5
             },
             "pattern": {
              "fillmode": "overlay",
              "size": 10,
              "solidity": 0.2
             }
            },
            "type": "bar"
           }
          ],
          "barpolar": [
           {
            "marker": {
             "line": {
              "color": "#E5ECF6",
              "width": 0.5
             },
             "pattern": {
              "fillmode": "overlay",
              "size": 10,
              "solidity": 0.2
             }
            },
            "type": "barpolar"
           }
          ],
          "carpet": [
           {
            "aaxis": {
             "endlinecolor": "#2a3f5f",
             "gridcolor": "white",
             "linecolor": "white",
             "minorgridcolor": "white",
             "startlinecolor": "#2a3f5f"
            },
            "baxis": {
             "endlinecolor": "#2a3f5f",
             "gridcolor": "white",
             "linecolor": "white",
             "minorgridcolor": "white",
             "startlinecolor": "#2a3f5f"
            },
            "type": "carpet"
           }
          ],
          "choropleth": [
           {
            "colorbar": {
             "outlinewidth": 0,
             "ticks": ""
            },
            "type": "choropleth"
           }
          ],
          "contour": [
           {
            "colorbar": {
             "outlinewidth": 0,
             "ticks": ""
            },
            "colorscale": [
             [
              0,
              "#0d0887"
             ],
             [
              0.1111111111111111,
              "#46039f"
             ],
             [
              0.2222222222222222,
              "#7201a8"
             ],
             [
              0.3333333333333333,
              "#9c179e"
             ],
             [
              0.4444444444444444,
              "#bd3786"
             ],
             [
              0.5555555555555556,
              "#d8576b"
             ],
             [
              0.6666666666666666,
              "#ed7953"
             ],
             [
              0.7777777777777778,
              "#fb9f3a"
             ],
             [
              0.8888888888888888,
              "#fdca26"
             ],
             [
              1,
              "#f0f921"
             ]
            ],
            "type": "contour"
           }
          ],
          "contourcarpet": [
           {
            "colorbar": {
             "outlinewidth": 0,
             "ticks": ""
            },
            "type": "contourcarpet"
           }
          ],
          "heatmap": [
           {
            "colorbar": {
             "outlinewidth": 0,
             "ticks": ""
            },
            "colorscale": [
             [
              0,
              "#0d0887"
             ],
             [
              0.1111111111111111,
              "#46039f"
             ],
             [
              0.2222222222222222,
              "#7201a8"
             ],
             [
              0.3333333333333333,
              "#9c179e"
             ],
             [
              0.4444444444444444,
              "#bd3786"
             ],
             [
              0.5555555555555556,
              "#d8576b"
             ],
             [
              0.6666666666666666,
              "#ed7953"
             ],
             [
              0.7777777777777778,
              "#fb9f3a"
             ],
             [
              0.8888888888888888,
              "#fdca26"
             ],
             [
              1,
              "#f0f921"
             ]
            ],
            "type": "heatmap"
           }
          ],
          "heatmapgl": [
           {
            "colorbar": {
             "outlinewidth": 0,
             "ticks": ""
            },
            "colorscale": [
             [
              0,
              "#0d0887"
             ],
             [
              0.1111111111111111,
              "#46039f"
             ],
             [
              0.2222222222222222,
              "#7201a8"
             ],
             [
              0.3333333333333333,
              "#9c179e"
             ],
             [
              0.4444444444444444,
              "#bd3786"
             ],
             [
              0.5555555555555556,
              "#d8576b"
             ],
             [
              0.6666666666666666,
              "#ed7953"
             ],
             [
              0.7777777777777778,
              "#fb9f3a"
             ],
             [
              0.8888888888888888,
              "#fdca26"
             ],
             [
              1,
              "#f0f921"
             ]
            ],
            "type": "heatmapgl"
           }
          ],
          "histogram": [
           {
            "marker": {
             "pattern": {
              "fillmode": "overlay",
              "size": 10,
              "solidity": 0.2
             }
            },
            "type": "histogram"
           }
          ],
          "histogram2d": [
           {
            "colorbar": {
             "outlinewidth": 0,
             "ticks": ""
            },
            "colorscale": [
             [
              0,
              "#0d0887"
             ],
             [
              0.1111111111111111,
              "#46039f"
             ],
             [
              0.2222222222222222,
              "#7201a8"
             ],
             [
              0.3333333333333333,
              "#9c179e"
             ],
             [
              0.4444444444444444,
              "#bd3786"
             ],
             [
              0.5555555555555556,
              "#d8576b"
             ],
             [
              0.6666666666666666,
              "#ed7953"
             ],
             [
              0.7777777777777778,
              "#fb9f3a"
             ],
             [
              0.8888888888888888,
              "#fdca26"
             ],
             [
              1,
              "#f0f921"
             ]
            ],
            "type": "histogram2d"
           }
          ],
          "histogram2dcontour": [
           {
            "colorbar": {
             "outlinewidth": 0,
             "ticks": ""
            },
            "colorscale": [
             [
              0,
              "#0d0887"
             ],
             [
              0.1111111111111111,
              "#46039f"
             ],
             [
              0.2222222222222222,
              "#7201a8"
             ],
             [
              0.3333333333333333,
              "#9c179e"
             ],
             [
              0.4444444444444444,
              "#bd3786"
             ],
             [
              0.5555555555555556,
              "#d8576b"
             ],
             [
              0.6666666666666666,
              "#ed7953"
             ],
             [
              0.7777777777777778,
              "#fb9f3a"
             ],
             [
              0.8888888888888888,
              "#fdca26"
             ],
             [
              1,
              "#f0f921"
             ]
            ],
            "type": "histogram2dcontour"
           }
          ],
          "mesh3d": [
           {
            "colorbar": {
             "outlinewidth": 0,
             "ticks": ""
            },
            "type": "mesh3d"
           }
          ],
          "parcoords": [
           {
            "line": {
             "colorbar": {
              "outlinewidth": 0,
              "ticks": ""
             }
            },
            "type": "parcoords"
           }
          ],
          "pie": [
           {
            "automargin": true,
            "type": "pie"
           }
          ],
          "scatter": [
           {
            "fillpattern": {
             "fillmode": "overlay",
             "size": 10,
             "solidity": 0.2
            },
            "type": "scatter"
           }
          ],
          "scatter3d": [
           {
            "line": {
             "colorbar": {
              "outlinewidth": 0,
              "ticks": ""
             }
            },
            "marker": {
             "colorbar": {
              "outlinewidth": 0,
              "ticks": ""
             }
            },
            "type": "scatter3d"
           }
          ],
          "scattercarpet": [
           {
            "marker": {
             "colorbar": {
              "outlinewidth": 0,
              "ticks": ""
             }
            },
            "type": "scattercarpet"
           }
          ],
          "scattergeo": [
           {
            "marker": {
             "colorbar": {
              "outlinewidth": 0,
              "ticks": ""
             }
            },
            "type": "scattergeo"
           }
          ],
          "scattergl": [
           {
            "marker": {
             "colorbar": {
              "outlinewidth": 0,
              "ticks": ""
             }
            },
            "type": "scattergl"
           }
          ],
          "scattermapbox": [
           {
            "marker": {
             "colorbar": {
              "outlinewidth": 0,
              "ticks": ""
             }
            },
            "type": "scattermapbox"
           }
          ],
          "scatterpolar": [
           {
            "marker": {
             "colorbar": {
              "outlinewidth": 0,
              "ticks": ""
             }
            },
            "type": "scatterpolar"
           }
          ],
          "scatterpolargl": [
           {
            "marker": {
             "colorbar": {
              "outlinewidth": 0,
              "ticks": ""
             }
            },
            "type": "scatterpolargl"
           }
          ],
          "scatterternary": [
           {
            "marker": {
             "colorbar": {
              "outlinewidth": 0,
              "ticks": ""
             }
            },
            "type": "scatterternary"
           }
          ],
          "surface": [
           {
            "colorbar": {
             "outlinewidth": 0,
             "ticks": ""
            },
            "colorscale": [
             [
              0,
              "#0d0887"
             ],
             [
              0.1111111111111111,
              "#46039f"
             ],
             [
              0.2222222222222222,
              "#7201a8"
             ],
             [
              0.3333333333333333,
              "#9c179e"
             ],
             [
              0.4444444444444444,
              "#bd3786"
             ],
             [
              0.5555555555555556,
              "#d8576b"
             ],
             [
              0.6666666666666666,
              "#ed7953"
             ],
             [
              0.7777777777777778,
              "#fb9f3a"
             ],
             [
              0.8888888888888888,
              "#fdca26"
             ],
             [
              1,
              "#f0f921"
             ]
            ],
            "type": "surface"
           }
          ],
          "table": [
           {
            "cells": {
             "fill": {
              "color": "#EBF0F8"
             },
             "line": {
              "color": "white"
             }
            },
            "header": {
             "fill": {
              "color": "#C8D4E3"
             },
             "line": {
              "color": "white"
             }
            },
            "type": "table"
           }
          ]
         },
         "layout": {
          "annotationdefaults": {
           "arrowcolor": "#2a3f5f",
           "arrowhead": 0,
           "arrowwidth": 1
          },
          "autotypenumbers": "strict",
          "coloraxis": {
           "colorbar": {
            "outlinewidth": 0,
            "ticks": ""
           }
          },
          "colorscale": {
           "diverging": [
            [
             0,
             "#8e0152"
            ],
            [
             0.1,
             "#c51b7d"
            ],
            [
             0.2,
             "#de77ae"
            ],
            [
             0.3,
             "#f1b6da"
            ],
            [
             0.4,
             "#fde0ef"
            ],
            [
             0.5,
             "#f7f7f7"
            ],
            [
             0.6,
             "#e6f5d0"
            ],
            [
             0.7,
             "#b8e186"
            ],
            [
             0.8,
             "#7fbc41"
            ],
            [
             0.9,
             "#4d9221"
            ],
            [
             1,
             "#276419"
            ]
           ],
           "sequential": [
            [
             0,
             "#0d0887"
            ],
            [
             0.1111111111111111,
             "#46039f"
            ],
            [
             0.2222222222222222,
             "#7201a8"
            ],
            [
             0.3333333333333333,
             "#9c179e"
            ],
            [
             0.4444444444444444,
             "#bd3786"
            ],
            [
             0.5555555555555556,
             "#d8576b"
            ],
            [
             0.6666666666666666,
             "#ed7953"
            ],
            [
             0.7777777777777778,
             "#fb9f3a"
            ],
            [
             0.8888888888888888,
             "#fdca26"
            ],
            [
             1,
             "#f0f921"
            ]
           ],
           "sequentialminus": [
            [
             0,
             "#0d0887"
            ],
            [
             0.1111111111111111,
             "#46039f"
            ],
            [
             0.2222222222222222,
             "#7201a8"
            ],
            [
             0.3333333333333333,
             "#9c179e"
            ],
            [
             0.4444444444444444,
             "#bd3786"
            ],
            [
             0.5555555555555556,
             "#d8576b"
            ],
            [
             0.6666666666666666,
             "#ed7953"
            ],
            [
             0.7777777777777778,
             "#fb9f3a"
            ],
            [
             0.8888888888888888,
             "#fdca26"
            ],
            [
             1,
             "#f0f921"
            ]
           ]
          },
          "colorway": [
           "#636efa",
           "#EF553B",
           "#00cc96",
           "#ab63fa",
           "#FFA15A",
           "#19d3f3",
           "#FF6692",
           "#B6E880",
           "#FF97FF",
           "#FECB52"
          ],
          "font": {
           "color": "#2a3f5f"
          },
          "geo": {
           "bgcolor": "white",
           "lakecolor": "white",
           "landcolor": "#E5ECF6",
           "showlakes": true,
           "showland": true,
           "subunitcolor": "white"
          },
          "hoverlabel": {
           "align": "left"
          },
          "hovermode": "closest",
          "mapbox": {
           "style": "light"
          },
          "paper_bgcolor": "white",
          "plot_bgcolor": "#E5ECF6",
          "polar": {
           "angularaxis": {
            "gridcolor": "white",
            "linecolor": "white",
            "ticks": ""
           },
           "bgcolor": "#E5ECF6",
           "radialaxis": {
            "gridcolor": "white",
            "linecolor": "white",
            "ticks": ""
           }
          },
          "scene": {
           "xaxis": {
            "backgroundcolor": "#E5ECF6",
            "gridcolor": "white",
            "gridwidth": 2,
            "linecolor": "white",
            "showbackground": true,
            "ticks": "",
            "zerolinecolor": "white"
           },
           "yaxis": {
            "backgroundcolor": "#E5ECF6",
            "gridcolor": "white",
            "gridwidth": 2,
            "linecolor": "white",
            "showbackground": true,
            "ticks": "",
            "zerolinecolor": "white"
           },
           "zaxis": {
            "backgroundcolor": "#E5ECF6",
            "gridcolor": "white",
            "gridwidth": 2,
            "linecolor": "white",
            "showbackground": true,
            "ticks": "",
            "zerolinecolor": "white"
           }
          },
          "shapedefaults": {
           "line": {
            "color": "#2a3f5f"
           }
          },
          "ternary": {
           "aaxis": {
            "gridcolor": "white",
            "linecolor": "white",
            "ticks": ""
           },
           "baxis": {
            "gridcolor": "white",
            "linecolor": "white",
            "ticks": ""
           },
           "bgcolor": "#E5ECF6",
           "caxis": {
            "gridcolor": "white",
            "linecolor": "white",
            "ticks": ""
           }
          },
          "title": {
           "x": 0.05
          },
          "xaxis": {
           "automargin": true,
           "gridcolor": "white",
           "linecolor": "white",
           "ticks": "",
           "title": {
            "standoff": 15
           },
           "zerolinecolor": "white",
           "zerolinewidth": 2
          },
          "yaxis": {
           "automargin": true,
           "gridcolor": "white",
           "linecolor": "white",
           "ticks": "",
           "title": {
            "standoff": 15
           },
           "zerolinecolor": "white",
           "zerolinewidth": 2
          }
         }
        },
        "title": {
         "text": "Distribution of Overall Satisfaction by Zone"
        }
       }
      }
     },
     "metadata": {},
     "output_type": "display_data"
    }
   ],
   "source": [
    "def plot_score_distribution(df, count_column, metric_type='count'):\n",
    "    if metric_type == 'count':\n",
    "        # Count the frequency of each score\n",
    "        score_counts = df[count_column].value_counts().sort_index()\n",
    "        hover_text = ['Count: ' + str(i) for i in score_counts.values]\n",
    "    elif metric_type == 'percentage':\n",
    "        # Calculate the percentage of each score\n",
    "        score_counts = df[count_column].value_counts(normalize=True).sort_index() * 100\n",
    "        hover_text = ['Count: ' + str(j) + '<br>Percentage: ' + str(round(i, 2)) + '%' for i, j in zip(score_counts.values, df[count_column].value_counts().sort_index().values)]\n",
    "\n",
    "    # Create a bar chart\n",
    "    fig = go.Figure(data=go.Bar(x=score_counts.index, y=score_counts.values, name='', hovertext=hover_text, hoverinfo='text'))\n",
    "    fig.update_layout(title='Distribution of Scores', xaxis_title='Score', yaxis_title='Frequency')\n",
    "    \n",
    "    return fig\n",
    "\n",
    "def plots_score_distribution(df, count_column, group_column, values_list=None, metric_type=\"count\", merge=False):\n",
    "    # If values_list is None, get all unique values from group_column\n",
    "    if values_list is None:\n",
    "        values_list = df[group_column].unique()\n",
    "\n",
    "    # Create a subplot for each unique value in the group column if not merging\n",
    "    if merge:\n",
    "        fig = go.Figure()\n",
    "    else:\n",
    "        fig = sp.make_subplots(rows=len(values_list), cols=1)\n",
    "\n",
    "    for i, value in enumerate(values_list, start=1):\n",
    "        df_group = df[df[group_column] == value]\n",
    "\n",
    "        # Use plot_score_distribution function to create a bar chart for the group\n",
    "        fig_group = plot_score_distribution(df_group, count_column, metric_type)\n",
    "        \n",
    "        for trace in fig_group.data:\n",
    "            trace.name = str(value)  # set the trace name to the group value\n",
    "            trace.hovertext = ['Group: ' + str(value) + '<br>' + text for text in trace.hovertext]\n",
    "            if merge:\n",
    "                fig.add_trace(trace)\n",
    "            else:\n",
    "                fig.add_trace(trace, row=i, col=1)\n",
    "\n",
    "        # Add y-axis title to each subplot if not merging\n",
    "        if not merge:\n",
    "            fig.update_yaxes(title_text=str(value), title_standoff=0, row=i, col=1)\n",
    "\n",
    "    # Update layout and add interactive legend\n",
    "    barmode = 'group' if merge else 'stack'\n",
    "    fig.update_layout(height=400*len(values_list), title_text=f\"Distribution of {count_column} by {group_column}\", barmode=barmode, showlegend=True)\n",
    "    \n",
    "    return fig\n",
    "    \n",
    "plot_score_distribution(df_preprocessed_full, 'Overall Satisfaction', metric_type=\"percentage\") #'Likelihood to Recommend (SE)', 'Overall Satisfaction'\n",
    "# plots_score_distribution(df_preprocessed_full, 'Overall Satisfaction', 'year', [2019, 2018], metric_type=\"percentage\", merge=True)\n",
    "plots_score_distribution(df_preprocessed_full, 'Overall Satisfaction', 'Zone', values_list=[\"Italy\",\"France\",\"DACH\"], metric_type=\"percentage\", merge=True)"
   ]
  },
  {
   "cell_type": "code",
   "execution_count": null,
   "metadata": {},
   "outputs": [],
   "source": []
  }
 ],
 "metadata": {
  "kernelspec": {
   "display_name": "wassati",
   "language": "python",
   "name": "python3"
  },
  "language_info": {
   "codemirror_mode": {
    "name": "ipython",
    "version": 3
   },
   "file_extension": ".py",
   "mimetype": "text/x-python",
   "name": "python",
   "nbconvert_exporter": "python",
   "pygments_lexer": "ipython3",
   "version": "3.9.17"
  }
 },
 "nbformat": 4,
 "nbformat_minor": 2
}
