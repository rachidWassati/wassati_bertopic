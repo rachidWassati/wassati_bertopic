{
 "cells": [
  {
   "cell_type": "code",
   "execution_count": 33,
   "metadata": {},
   "outputs": [
    {
     "data": {
      "text/plain": [
       "True"
      ]
     },
     "execution_count": 33,
     "metadata": {},
     "output_type": "execute_result"
    }
   ],
   "source": [
    "import pandas as pd\n",
    "import numpy as np\n",
    "import matplotlib.pyplot as plt\n",
    "from tqdm import tqdm\n",
    "import pickle, ast\n",
    "\n",
    "from datasets import load_dataset, Dataset, DatasetDict\n",
    "from transformers import AutoTokenizer, AutoModelForSequenceClassification, TrainingArguments, Trainer, pipeline, DataCollatorWithPadding\n",
    "import torch\n",
    "from sentence_transformers import SentenceTransformer\n",
    "from bertopic import BERTopic\n",
    "\n",
    "torch.cuda.is_available()"
   ]
  },
  {
   "cell_type": "code",
   "execution_count": 35,
   "metadata": {},
   "outputs": [
    {
     "name": "stderr",
     "output_type": "stream",
     "text": [
      "/tmp/ipykernel_12260/1691746584.py:2: DtypeWarning:\n",
      "\n",
      "Columns (6,7,11,15,16,17,19,30,31,38,39,40,41) have mixed types. Specify dtype option on import or set low_memory=False.\n",
      "\n",
      "/tmp/ipykernel_12260/1691746584.py:3: DtypeWarning:\n",
      "\n",
      "Columns (7,8,12,16,17,18,20,31,32,39,40,41,42) have mixed types. Specify dtype option on import or set low_memory=False.\n",
      "\n",
      "/tmp/ipykernel_12260/1691746584.py:4: DtypeWarning:\n",
      "\n",
      "Columns (8,9,13,17,18,19,21,32,33,40,41,42,43) have mixed types. Specify dtype option on import or set low_memory=False.\n",
      "\n"
     ]
    }
   ],
   "source": [
    "# Read the excel review file\n",
    "df = pd.read_csv(\"/media/cattiaux/DATA/Wassati/team_data/schneider/df_labelled.csv\")\n",
    "df2 = pd.read_csv(\"/media/cattiaux/DATA/Wassati/team_data/schneider/df_sentiment_labelled.csv\")\n",
    "df3 = pd.read_csv(\"/media/cattiaux/DATA/Wassati/team_data/schneider/df_emotions_labelled.csv\")\n",
    "\n",
    "# Put the data in the correct format for bertopic\n",
    "docs = df3[\"allComment\"].astype(str).tolist()"
   ]
  },
  {
   "cell_type": "code",
   "execution_count": null,
   "metadata": {},
   "outputs": [],
   "source": [
    "model = AutoModelForSequenceClassification.from_pretrained(\"cardiffnlp/twitter-roberta-base-sentiment-latest\")\n",
    "tokenizer = AutoTokenizer.from_pretrained(\"cardiffnlp/twitter-roberta-base-sentiment-latest\")\n",
    "\n",
    "classifier = pipeline('text-classification', model=model, tokenizer=tokenizer, max_length=512, truncation=True)\n",
    "\n",
    "predictions = []\n",
    "\n",
    "for review in [[x] for x in df.allComment.tolist()]:\n",
    "    prediction = classifier(review)\n",
    "    predictions.append(prediction)\n",
    "\n",
    "res = pd.DataFrame([item for sublist in predictions for item in sublist])\n",
    "df_pred = pd.concat([df, res], axis=1)"
   ]
  },
  {
   "cell_type": "code",
   "execution_count": 2,
   "metadata": {},
   "outputs": [
    {
     "name": "stderr",
     "output_type": "stream",
     "text": [
      "/tmp/ipykernel_12995/2312625529.py:8: DtypeWarning: Columns (7,8,12,16,17,18,20,31,32,39,40,41,42) have mixed types. Specify dtype option on import or set low_memory=False.\n",
      "  df2 = pd.read_csv(\"/media/cattiaux/DATA/Wassati/team_data/schneider/df_sentiment_labelled.csv\")\n"
     ]
    }
   ],
   "source": [
    "df2 = df_pred.copy()\n",
    "# Rename the second 'label' column to 'sentiment_label'\n",
    "cols = df2.columns.tolist()\n",
    "cols[len(cols) - 1 - cols[::-1].index('label')] = 'sentiment_label'\n",
    "df2.columns = cols\n",
    "df2.columns\n",
    "# df2.to_csv(\"/media/cattiaux/DATA/Wassati/team_data/schneider/df_sentiment_labelled.csv\")"
   ]
  },
  {
   "cell_type": "code",
   "execution_count": 14,
   "metadata": {},
   "outputs": [],
   "source": [
    "# Check if a CUDA-enabled GPU is available\n",
    "device = torch.device('cuda' if torch.cuda.is_available() else 'cpu')\n",
    "\n",
    "model_name = \"SamLowe/roberta-base-go_emotions\"\n",
    "tokenizer = AutoTokenizer.from_pretrained(model_name)\n",
    "model = AutoModelForSequenceClassification.from_pretrained(model_name, problem_type=\"multi_label_classification\", max_length=512)\n",
    "\n",
    "# Move the model to the GPU\n",
    "model = model.to(device)\n",
    "\n",
    "# Set the batch size\n",
    "batch_size = 2\n",
    "\n",
    "# Create a list of label names\n",
    "label_emotions = ['admiration', 'amusement', 'anger', 'annoyance', 'approval', 'caring', 'confusion', 'curiosity', 'desire', 'disappointment', 'disapproval', 'disgust', 'embarrassment', 'excitement', 'fear', 'gratitude', 'grief', 'joy', 'love', 'nervousness', 'optimism', 'pride', 'realization', 'relief', 'remorse', 'sadness', 'surprise','neutral']\n",
    "\n",
    "# Initialize lists to store the predicted labels and scores\n",
    "predicted_labels = []\n",
    "predicted_scores = []\n",
    "\n",
    "df3 = df2\n",
    "# Iterate over the rows of the DataFrame in batches\n",
    "for i in range(0, len(df3), batch_size):\n",
    "    batch = df3[i:i+batch_size]\n",
    "    texts = batch['allComment'].tolist()\n",
    "    inputs = tokenizer(texts, return_tensors=\"pt\", padding=True, truncation=True)\n",
    "    \n",
    "    # Move the inputs to the GPU\n",
    "    inputs = {k: v.to(device) for k, v in inputs.items()}\n",
    "    \n",
    "    outputs = model(**inputs)\n",
    "    probs = outputs.logits.sigmoid().detach().cpu().numpy()\n",
    "    \n",
    "    # Apply a threshold to the probabilities to get the predicted labels\n",
    "    threshold = 0.5\n",
    "    labels = [[label_emotions[i] for i, prob in enumerate(prob_row) if prob > threshold] for prob_row in probs]\n",
    "    \n",
    "    # Store the predicted labels and scores\n",
    "    predicted_labels.extend(labels)\n",
    "    scores = [{label_emotions[i]: prob for i, prob in enumerate(prob_row)} for prob_row in probs]\n",
    "    # predicted_scores.extend(probs.tolist())\n",
    "    predicted_scores.extend(scores)\n",
    "\n",
    "# Add the predicted labels and scores as new columns in the DataFrame\n",
    "df3['predicted_labels'] = predicted_labels\n",
    "df3['predicted_scores'] = predicted_scores\n",
    "\n",
    "# Convert the string values in the 'predicted_labels' column into lists\n",
    "df3['predicted_labels'] = df3['predicted_labels'].apply(lambda x: ast.literal_eval(x))\n",
    "# Convert the string values in the 'predicted_scores' column into dictionaries\n",
    "df3['predicted_scores'] = df3['predicted_scores'].apply(lambda x: ast.literal_eval(x))\n",
    "\n",
    "# df3.to_csv(\"/media/cattiaux/DATA/Wassati/team_data/schneider/df_emotions_labelled.csv\")"
   ]
  },
  {
   "cell_type": "code",
   "execution_count": 23,
   "metadata": {},
   "outputs": [
    {
     "data": {
      "text/plain": [
       "array(['admiration', 'disappointment', 'neutral', 'approval',\n",
       "       'disapproval', 'gratitude', 'caring', 'realization', 'desire',\n",
       "       'annoyance', 'confusion', 'surprise', 'joy', 'optimism',\n",
       "       'nervousness', 'love', 'fear', 'curiosity', 'excitement',\n",
       "       'amusement', 'relief', 'sadness', 'remorse', 'disgust',\n",
       "       'embarrassment', 'anger'], dtype=object)"
      ]
     },
     "execution_count": 23,
     "metadata": {},
     "output_type": "execute_result"
    }
   ],
   "source": [
    "df3.single_emotion_label.unique()"
   ]
  },
  {
   "cell_type": "code",
   "execution_count": 36,
   "metadata": {},
   "outputs": [
    {
     "data": {
      "text/html": [
       "<div>\n",
       "<style scoped>\n",
       "    .dataframe tbody tr th:only-of-type {\n",
       "        vertical-align: middle;\n",
       "    }\n",
       "\n",
       "    .dataframe tbody tr th {\n",
       "        vertical-align: top;\n",
       "    }\n",
       "\n",
       "    .dataframe thead th {\n",
       "        text-align: right;\n",
       "    }\n",
       "</style>\n",
       "<table border=\"1\" class=\"dataframe\">\n",
       "  <thead>\n",
       "    <tr style=\"text-align: right;\">\n",
       "      <th></th>\n",
       "      <th>Unnamed: 0.2</th>\n",
       "      <th>Unnamed: 0.1</th>\n",
       "      <th>Unnamed: 0</th>\n",
       "      <th>Account Country</th>\n",
       "      <th>Front Office Country</th>\n",
       "      <th>Clusters</th>\n",
       "      <th>Zone</th>\n",
       "      <th>Operation</th>\n",
       "      <th>Primary Coverage Model</th>\n",
       "      <th>Account owner role</th>\n",
       "      <th>...</th>\n",
       "      <th>topic</th>\n",
       "      <th>keywords</th>\n",
       "      <th>label</th>\n",
       "      <th>proba_dict</th>\n",
       "      <th>sentiment_label</th>\n",
       "      <th>score</th>\n",
       "      <th>emotion_label</th>\n",
       "      <th>predicted_scores</th>\n",
       "      <th>single_emotion_label</th>\n",
       "      <th>single_sentiment_label</th>\n",
       "    </tr>\n",
       "  </thead>\n",
       "  <tbody>\n",
       "    <tr>\n",
       "      <th>35800</th>\n",
       "      <td>35800</td>\n",
       "      <td>35800</td>\n",
       "      <td>55368</td>\n",
       "      <td>USA</td>\n",
       "      <td>USA</td>\n",
       "      <td>USA</td>\n",
       "      <td>US</td>\n",
       "      <td>North America Operations</td>\n",
       "      <td>NaN</td>\n",
       "      <td>NaN</td>\n",
       "      <td>...</td>\n",
       "      <td>-1</td>\n",
       "      <td>customer service, delivery time, supplier, sal...</td>\n",
       "      <td>Outlier</td>\n",
       "      <td>{51: 0.08053342011888666, 15: 0.07930872579322...</td>\n",
       "      <td>positive</td>\n",
       "      <td>0.654282</td>\n",
       "      <td>NaN</td>\n",
       "      <td>{'admiration': 0.023237899, 'amusement': 0.000...</td>\n",
       "      <td>neutral</td>\n",
       "      <td>neutral</td>\n",
       "    </tr>\n",
       "    <tr>\n",
       "      <th>35801</th>\n",
       "      <td>35801</td>\n",
       "      <td>35801</td>\n",
       "      <td>55369</td>\n",
       "      <td>Finland</td>\n",
       "      <td>Finland</td>\n",
       "      <td>Finland &amp; Baltics</td>\n",
       "      <td>Nordic &amp; Baltics</td>\n",
       "      <td>Europe Operations</td>\n",
       "      <td>NaN</td>\n",
       "      <td>NaN</td>\n",
       "      <td>...</td>\n",
       "      <td>0</td>\n",
       "      <td>delivery time, delivery date, deliveries, deli...</td>\n",
       "      <td>Delivery Deadlines</td>\n",
       "      <td>{0: 0.07563492692888851, 42: 0.036687726791776...</td>\n",
       "      <td>positive</td>\n",
       "      <td>0.958176</td>\n",
       "      <td>admiration</td>\n",
       "      <td>{'admiration': 0.6631243, 'amusement': 0.00047...</td>\n",
       "      <td>admiration</td>\n",
       "      <td>positive</td>\n",
       "    </tr>\n",
       "    <tr>\n",
       "      <th>35802</th>\n",
       "      <td>35802</td>\n",
       "      <td>35802</td>\n",
       "      <td>55370</td>\n",
       "      <td>Finland</td>\n",
       "      <td>Finland</td>\n",
       "      <td>Finland &amp; Baltics</td>\n",
       "      <td>Nordic &amp; Baltics</td>\n",
       "      <td>Europe Operations</td>\n",
       "      <td>NaN</td>\n",
       "      <td>NaN</td>\n",
       "      <td>...</td>\n",
       "      <td>-1</td>\n",
       "      <td>customer service, delivery time, supplier, sal...</td>\n",
       "      <td>Outlier</td>\n",
       "      <td>{51: 0.109790295057112, 8: 0.04224633837231928...</td>\n",
       "      <td>positive</td>\n",
       "      <td>0.915310</td>\n",
       "      <td>admiration</td>\n",
       "      <td>{'admiration': 0.50303435, 'amusement': 0.0004...</td>\n",
       "      <td>approval</td>\n",
       "      <td>positive</td>\n",
       "    </tr>\n",
       "    <tr>\n",
       "      <th>35802</th>\n",
       "      <td>35802</td>\n",
       "      <td>35802</td>\n",
       "      <td>55370</td>\n",
       "      <td>Finland</td>\n",
       "      <td>Finland</td>\n",
       "      <td>Finland &amp; Baltics</td>\n",
       "      <td>Nordic &amp; Baltics</td>\n",
       "      <td>Europe Operations</td>\n",
       "      <td>NaN</td>\n",
       "      <td>NaN</td>\n",
       "      <td>...</td>\n",
       "      <td>-1</td>\n",
       "      <td>customer service, delivery time, supplier, sal...</td>\n",
       "      <td>Outlier</td>\n",
       "      <td>{51: 0.109790295057112, 8: 0.04224633837231928...</td>\n",
       "      <td>positive</td>\n",
       "      <td>0.915310</td>\n",
       "      <td>approval</td>\n",
       "      <td>{'admiration': 0.50303435, 'amusement': 0.0004...</td>\n",
       "      <td>approval</td>\n",
       "      <td>positive</td>\n",
       "    </tr>\n",
       "    <tr>\n",
       "      <th>35803</th>\n",
       "      <td>35803</td>\n",
       "      <td>35803</td>\n",
       "      <td>55371</td>\n",
       "      <td>China</td>\n",
       "      <td>China</td>\n",
       "      <td>China</td>\n",
       "      <td>China &amp; HK</td>\n",
       "      <td>China &amp; East Asia Operations</td>\n",
       "      <td>NaN</td>\n",
       "      <td>NaN</td>\n",
       "      <td>...</td>\n",
       "      <td>-1</td>\n",
       "      <td>customer service, delivery time, supplier, sal...</td>\n",
       "      <td>Outlier</td>\n",
       "      <td>{16: 0.04066095582105752, 14: 0.02977564802662...</td>\n",
       "      <td>neutral</td>\n",
       "      <td>0.694542</td>\n",
       "      <td>neutral</td>\n",
       "      <td>{'admiration': 0.052684933, 'amusement': 0.001...</td>\n",
       "      <td>neutral</td>\n",
       "      <td>neutral</td>\n",
       "    </tr>\n",
       "  </tbody>\n",
       "</table>\n",
       "<p>5 rows × 57 columns</p>\n",
       "</div>"
      ],
      "text/plain": [
       "       Unnamed: 0.2  Unnamed: 0.1  Unnamed: 0 Account Country  \\\n",
       "35800         35800         35800       55368             USA   \n",
       "35801         35801         35801       55369         Finland   \n",
       "35802         35802         35802       55370         Finland   \n",
       "35802         35802         35802       55370         Finland   \n",
       "35803         35803         35803       55371           China   \n",
       "\n",
       "      Front Office Country           Clusters              Zone  \\\n",
       "35800                  USA                USA                US   \n",
       "35801              Finland  Finland & Baltics  Nordic & Baltics   \n",
       "35802              Finland  Finland & Baltics  Nordic & Baltics   \n",
       "35802              Finland  Finland & Baltics  Nordic & Baltics   \n",
       "35803                China              China        China & HK   \n",
       "\n",
       "                          Operation Primary Coverage Model Account owner role  \\\n",
       "35800      North America Operations                    NaN                NaN   \n",
       "35801             Europe Operations                    NaN                NaN   \n",
       "35802             Europe Operations                    NaN                NaN   \n",
       "35802             Europe Operations                    NaN                NaN   \n",
       "35803  China & East Asia Operations                    NaN                NaN   \n",
       "\n",
       "       ... topic                                           keywords  \\\n",
       "35800  ...    -1  customer service, delivery time, supplier, sal...   \n",
       "35801  ...     0  delivery time, delivery date, deliveries, deli...   \n",
       "35802  ...    -1  customer service, delivery time, supplier, sal...   \n",
       "35802  ...    -1  customer service, delivery time, supplier, sal...   \n",
       "35803  ...    -1  customer service, delivery time, supplier, sal...   \n",
       "\n",
       "                    label                                         proba_dict  \\\n",
       "35800             Outlier  {51: 0.08053342011888666, 15: 0.07930872579322...   \n",
       "35801  Delivery Deadlines  {0: 0.07563492692888851, 42: 0.036687726791776...   \n",
       "35802             Outlier  {51: 0.109790295057112, 8: 0.04224633837231928...   \n",
       "35802             Outlier  {51: 0.109790295057112, 8: 0.04224633837231928...   \n",
       "35803             Outlier  {16: 0.04066095582105752, 14: 0.02977564802662...   \n",
       "\n",
       "       sentiment_label     score emotion_label  \\\n",
       "35800         positive  0.654282           NaN   \n",
       "35801         positive  0.958176    admiration   \n",
       "35802         positive  0.915310    admiration   \n",
       "35802         positive  0.915310      approval   \n",
       "35803          neutral  0.694542       neutral   \n",
       "\n",
       "                                        predicted_scores single_emotion_label  \\\n",
       "35800  {'admiration': 0.023237899, 'amusement': 0.000...              neutral   \n",
       "35801  {'admiration': 0.6631243, 'amusement': 0.00047...           admiration   \n",
       "35802  {'admiration': 0.50303435, 'amusement': 0.0004...             approval   \n",
       "35802  {'admiration': 0.50303435, 'amusement': 0.0004...             approval   \n",
       "35803  {'admiration': 0.052684933, 'amusement': 0.001...              neutral   \n",
       "\n",
       "      single_sentiment_label  \n",
       "35800                neutral  \n",
       "35801               positive  \n",
       "35802               positive  \n",
       "35802               positive  \n",
       "35803                neutral  \n",
       "\n",
       "[5 rows x 57 columns]"
      ]
     },
     "execution_count": 36,
     "metadata": {},
     "output_type": "execute_result"
    }
   ],
   "source": [
    "positive_emotions = ['admiration','approval','gratitude','caring','realization','joy','optimism','love','excitement','amusement','relief']\n",
    "negative_emotions = ['disappointment','disapproval','annoyance','confusion','nervousness','fear','sadness','remorse','disgust','embarrassment','anger']\n",
    "neutral_emotions = ['neutral','desire','surprise','curiosity']\n",
    "\n",
    "# Convert the string values in the 'predicted_labels' column into lists\n",
    "df3['predicted_labels'] = df3['predicted_labels'].apply(lambda x: ast.literal_eval(x))\n",
    "# Convert the string values in the 'predicted_scores' column into dictionaries\n",
    "df3['predicted_scores'] = df3['predicted_scores'].apply(lambda x: ast.literal_eval(x))\n",
    "\n",
    "# Create a new column 'single_emotion_label' that contains the label with the highest score\n",
    "df3['single_emotion_label'] = df3['predicted_scores'].apply(lambda x: max(x, key=x.get))\n",
    "# Create a new column 'sentiment' that contains the sentiment of the emotion in the 'single_emotion_label' column\n",
    "df3['single_sentiment_label'] = df3['single_emotion_label'].apply(lambda x: 'positive' if x in positive_emotions else ('negative' if x in negative_emotions else ('neutral' if x in neutral_emotions else 'unknown')))\n",
    "\n",
    "# Use the explode() method to transform each element of the list into a row\n",
    "new_df3 = df3.explode('predicted_labels')\n",
    "new_df3 = new_df3.rename(columns={'predicted_labels': 'emotion_label'})\n",
    "\n",
    "# Pour retourner au df initial avec une liste de label\n",
    "# Group the rows by the original index and aggregate the 'emotion_label' column into a list\n",
    "# original_df = new_df.groupby(new_df.index).agg({'emotion_label': list})\n",
    "new_df3.tail()"
   ]
  },
  {
   "cell_type": "code",
   "execution_count": 37,
   "metadata": {},
   "outputs": [
    {
     "name": "stdout",
     "output_type": "stream",
     "text": [
      "Positive matches: 74.55%\n",
      "Negative matches: 33.00%\n",
      "Neutral matches: 76.09%\n",
      "Positive differences: 25.45%\n",
      "Negative differences: 67.00%\n",
      "Neutral differences: 23.91%\n",
      "Positive to Negative: 2.13%\n",
      "Positive to Neutral: 23.32%\n",
      "Negative to Positive: 9.39%\n",
      "Negative to Neutral: 57.61%\n",
      "Neutral to Positive: 19.39%\n",
      "Neutral to Negative: 4.52%\n"
     ]
    },
    {
     "data": {
      "text/plain": [
       "single_emotion_label\n",
       "neutral      97.918474\n",
       "desire        1.105811\n",
       "curiosity     0.607112\n",
       "surprise      0.368604\n",
       "Name: proportion, dtype: float64"
      ]
     },
     "execution_count": 37,
     "metadata": {},
     "output_type": "execute_result"
    }
   ],
   "source": [
    "# Calculate the total number of rows for each sentiment in the 'sentiment_label' column\n",
    "total_positive = len(df3[df3['sentiment_label'] == 'positive'])\n",
    "total_negative = len(df3[df3['sentiment_label'] == 'negative'])\n",
    "total_neutral = len(df3[df3['sentiment_label'] == 'neutral'])\n",
    "\n",
    "# Calculate the number of matches for each sentiment\n",
    "positive_matches = len(df3[(df3['sentiment_label'] == 'positive') & (df3['single_sentiment_label'] == 'positive')])\n",
    "negative_matches = len(df3[(df3['sentiment_label'] == 'negative') & (df3['single_sentiment_label'] == 'negative')])\n",
    "neutral_matches = len(df3[(df3['sentiment_label'] == 'neutral') & (df3['single_sentiment_label'] == 'neutral')])\n",
    "\n",
    "# Calculate the percentage of matches for each sentiment\n",
    "positive_match_percent = positive_matches / total_positive * 100 if total_positive > 0 else 0\n",
    "negative_match_percent = negative_matches / total_negative * 100 if total_negative > 0 else 0\n",
    "neutral_match_percent = neutral_matches / total_neutral * 100 if total_neutral > 0 else 0\n",
    "\n",
    "# Calculate the number of differences for each sentiment\n",
    "positive_differences = total_positive - positive_matches\n",
    "negative_differences = total_negative - negative_matches\n",
    "neutral_differences = total_neutral - neutral_matches\n",
    "\n",
    "# Calculate the percentage of differences for each sentiment\n",
    "positive_difference_percent = positive_differences / total_positive * 100 if total_positive > 0 else 0\n",
    "negative_difference_percent = negative_differences / total_negative * 100 if total_negative > 0 else 0\n",
    "neutral_difference_percent = neutral_differences / total_neutral * 100 if total_neutral > 0 else 0\n",
    "\n",
    "# Calculate the distribution of differences for each sentiment\n",
    "positive_to_negative = len(df3[(df3['sentiment_label'] == 'positive') & (df3['single_sentiment_label'] == 'negative')])\n",
    "positive_to_neutral = len(df3[(df3['sentiment_label'] == 'positive') & (df3['single_sentiment_label'] == 'neutral')])\n",
    "negative_to_positive = len(df3[(df3['sentiment_label'] == 'negative') & (df3['single_sentiment_label'] == 'positive')])\n",
    "negative_to_neutral = len(df3[(df3['sentiment_label'] == 'negative') & (df3['single_sentiment_label'] == 'neutral')])\n",
    "neutral_to_positive = len(df3[(df3['sentiment_label'] == 'neutral') & (df3['single_sentiment_label'] == 'positive')])\n",
    "neutral_to_negative = len(df3[(df3['sentiment_label'] == 'neutral') & (df3['single_sentiment_label'] == 'negative')])\n",
    "\n",
    "# Print the results\n",
    "print(f\"Positive matches: {positive_match_percent:.2f}%\")\n",
    "print(f\"Negative matches: {negative_match_percent:.2f}%\")\n",
    "print(f\"Neutral matches: {neutral_match_percent:.2f}%\")\n",
    "print(f\"Positive differences: {positive_difference_percent:.2f}%\")\n",
    "print(f\"Negative differences: {negative_difference_percent:.2f}%\")\n",
    "print(f\"Neutral differences: {neutral_difference_percent:.2f}%\")\n",
    "print(f\"Positive to Negative: {positive_to_negative / total_positive * 100:.2f}%\" if total_positive > 0 else \"Positive to Negative: N/A\")\n",
    "print(f\"Positive to Neutral: {positive_to_neutral / total_positive * 100:.2f}%\" if total_positive > 0 else \"Positive to Neutral: N/A\")\n",
    "print(f\"Negative to Positive: {negative_to_positive / total_negative * 100:.2f}%\" if total_negative > 0 else \"Negative to Positive: N/A\")\n",
    "print(f\"Negative to Neutral: {negative_to_neutral / total_negative * 100:.2f}%\" if total_negative > 0 else \"Negative to Neutral: N/A\")\n",
    "print(f\"Neutral to Positive: {neutral_to_positive / total_neutral * 100:.2f}%\" if total_neutral > 0 else \"Neutral to Positive: N/A\")\n",
    "print(f\"Neutral to Negative: {neutral_to_negative / total_neutral * 100:.2f}%\" if total_neutral > 0 else \"Neutral to Negative: N/A\")\n",
    "\n",
    "# Filter the DataFrame to only include rows where the 'sentiment_label' is 'negative' and the 'single_sentiment_label' is 'neutral'\n",
    "negative_to_neutral = df3[(df3['sentiment_label'] == 'negative') & (df3['single_sentiment_label'] == 'neutral')]\n",
    "\n",
    "# Calculate the distribution of emotions in the 'single_emotion_label' column\n",
    "emotion_distribution = negative_to_neutral['single_emotion_label'].value_counts(normalize=True) * 100\n",
    "\n",
    "# Print the results\n",
    "emotion_distribution"
   ]
  },
  {
   "cell_type": "code",
   "execution_count": 38,
   "metadata": {},
   "outputs": [
    {
     "ename": "RuntimeError",
     "evalue": "CUDA error: unspecified launch failure\nCUDA kernel errors might be asynchronously reported at some other API call, so the stacktrace below might be incorrect.\nFor debugging consider passing CUDA_LAUNCH_BLOCKING=1.\nCompile with `TORCH_USE_CUDA_DSA` to enable device-side assertions.\n",
     "output_type": "error",
     "traceback": [
      "\u001b[0;31m---------------------------------------------------------------------------\u001b[0m",
      "\u001b[0;31mRuntimeError\u001b[0m                              Traceback (most recent call last)",
      "Cell \u001b[0;32mIn[38], line 17\u001b[0m\n\u001b[1;32m     13\u001b[0m         topics, probs, embeddings, docs \u001b[39m=\u001b[39m pickle\u001b[39m.\u001b[39mload(f)\n\u001b[1;32m     15\u001b[0m     \u001b[39mreturn\u001b[39;00m topic_model, topics, probs, embeddings, docs\n\u001b[0;32m---> 17\u001b[0m topic_model, topics, probs, embeddings, docs \u001b[39m=\u001b[39m load_bertopic_model(\u001b[39m'\u001b[39;49m\u001b[39mraw_keybert_bertopic_model\u001b[39;49m\u001b[39m'\u001b[39;49m)\n",
      "Cell \u001b[0;32mIn[38], line 9\u001b[0m, in \u001b[0;36mload_bertopic_model\u001b[0;34m(filename)\u001b[0m\n\u001b[1;32m      2\u001b[0m \u001b[39m\u001b[39m\u001b[39m\"\"\"\u001b[39;00m\n\u001b[1;32m      3\u001b[0m \u001b[39mLoad a BERTopic model and associated data from a file.\u001b[39;00m\n\u001b[1;32m      4\u001b[0m \u001b[39m\u001b[39;00m\n\u001b[1;32m      5\u001b[0m \u001b[39m:param filename: The name of the file to load the data from.\u001b[39;00m\n\u001b[1;32m      6\u001b[0m \u001b[39m:return: A tuple containing the loaded BERTopic model, topics, probs, and docs variables.\u001b[39;00m\n\u001b[1;32m      7\u001b[0m \u001b[39m\"\"\"\u001b[39;00m\n\u001b[1;32m      8\u001b[0m \u001b[39m# Load the BERTopic model\u001b[39;00m\n\u001b[0;32m----> 9\u001b[0m topic_model \u001b[39m=\u001b[39m BERTopic\u001b[39m.\u001b[39;49mload(filename)\n\u001b[1;32m     11\u001b[0m \u001b[39m# Load the topics, probs, and docs variables\u001b[39;00m\n\u001b[1;32m     12\u001b[0m \u001b[39mwith\u001b[39;00m \u001b[39mopen\u001b[39m(filename \u001b[39m+\u001b[39m \u001b[39m'\u001b[39m\u001b[39m_data.pkl\u001b[39m\u001b[39m'\u001b[39m, \u001b[39m'\u001b[39m\u001b[39mrb\u001b[39m\u001b[39m'\u001b[39m) \u001b[39mas\u001b[39;00m f:\n",
      "File \u001b[0;32m~/anaconda3/envs/wassati/lib/python3.9/site-packages/bertopic/_bertopic.py:2998\u001b[0m, in \u001b[0;36mBERTopic.load\u001b[0;34m(cls, path, embedding_model)\u001b[0m\n\u001b[1;32m   2996\u001b[0m             topic_model\u001b[39m.\u001b[39membedding_model \u001b[39m=\u001b[39m select_backend(embedding_model)\n\u001b[1;32m   2997\u001b[0m         \u001b[39melse\u001b[39;00m:\n\u001b[0;32m-> 2998\u001b[0m             topic_model \u001b[39m=\u001b[39m joblib\u001b[39m.\u001b[39;49mload(file)\n\u001b[1;32m   2999\u001b[0m         \u001b[39mreturn\u001b[39;00m topic_model\n\u001b[1;32m   3001\u001b[0m \u001b[39m# Load from directory or HF\u001b[39;00m\n",
      "File \u001b[0;32m~/anaconda3/envs/wassati/lib/python3.9/site-packages/joblib/numpy_pickle.py:648\u001b[0m, in \u001b[0;36mload\u001b[0;34m(filename, mmap_mode)\u001b[0m\n\u001b[1;32m    646\u001b[0m     filename \u001b[39m=\u001b[39m \u001b[39mgetattr\u001b[39m(fobj, \u001b[39m'\u001b[39m\u001b[39mname\u001b[39m\u001b[39m'\u001b[39m, \u001b[39m'\u001b[39m\u001b[39m'\u001b[39m)\n\u001b[1;32m    647\u001b[0m     \u001b[39mwith\u001b[39;00m _read_fileobject(fobj, filename, mmap_mode) \u001b[39mas\u001b[39;00m fobj:\n\u001b[0;32m--> 648\u001b[0m         obj \u001b[39m=\u001b[39m _unpickle(fobj)\n\u001b[1;32m    649\u001b[0m \u001b[39melse\u001b[39;00m:\n\u001b[1;32m    650\u001b[0m     \u001b[39mwith\u001b[39;00m \u001b[39mopen\u001b[39m(filename, \u001b[39m'\u001b[39m\u001b[39mrb\u001b[39m\u001b[39m'\u001b[39m) \u001b[39mas\u001b[39;00m f:\n",
      "File \u001b[0;32m~/anaconda3/envs/wassati/lib/python3.9/site-packages/joblib/numpy_pickle.py:577\u001b[0m, in \u001b[0;36m_unpickle\u001b[0;34m(fobj, filename, mmap_mode)\u001b[0m\n\u001b[1;32m    575\u001b[0m obj \u001b[39m=\u001b[39m \u001b[39mNone\u001b[39;00m\n\u001b[1;32m    576\u001b[0m \u001b[39mtry\u001b[39;00m:\n\u001b[0;32m--> 577\u001b[0m     obj \u001b[39m=\u001b[39m unpickler\u001b[39m.\u001b[39;49mload()\n\u001b[1;32m    578\u001b[0m     \u001b[39mif\u001b[39;00m unpickler\u001b[39m.\u001b[39mcompat_mode:\n\u001b[1;32m    579\u001b[0m         warnings\u001b[39m.\u001b[39mwarn(\u001b[39m\"\u001b[39m\u001b[39mThe file \u001b[39m\u001b[39m'\u001b[39m\u001b[39m%s\u001b[39;00m\u001b[39m'\u001b[39m\u001b[39m has been generated with a \u001b[39m\u001b[39m\"\u001b[39m\n\u001b[1;32m    580\u001b[0m                       \u001b[39m\"\u001b[39m\u001b[39mjoblib version less than 0.10. \u001b[39m\u001b[39m\"\u001b[39m\n\u001b[1;32m    581\u001b[0m                       \u001b[39m\"\u001b[39m\u001b[39mPlease regenerate this pickle file.\u001b[39m\u001b[39m\"\u001b[39m\n\u001b[1;32m    582\u001b[0m                       \u001b[39m%\u001b[39m filename,\n\u001b[1;32m    583\u001b[0m                       \u001b[39mDeprecationWarning\u001b[39;00m, stacklevel\u001b[39m=\u001b[39m\u001b[39m3\u001b[39m)\n",
      "File \u001b[0;32m~/anaconda3/envs/wassati/lib/python3.9/pickle.py:1212\u001b[0m, in \u001b[0;36m_Unpickler.load\u001b[0;34m(self)\u001b[0m\n\u001b[1;32m   1210\u001b[0m             \u001b[39mraise\u001b[39;00m \u001b[39mEOFError\u001b[39;00m\n\u001b[1;32m   1211\u001b[0m         \u001b[39massert\u001b[39;00m \u001b[39misinstance\u001b[39m(key, bytes_types)\n\u001b[0;32m-> 1212\u001b[0m         dispatch[key[\u001b[39m0\u001b[39;49m]](\u001b[39mself\u001b[39;49m)\n\u001b[1;32m   1213\u001b[0m \u001b[39mexcept\u001b[39;00m _Stop \u001b[39mas\u001b[39;00m stopinst:\n\u001b[1;32m   1214\u001b[0m     \u001b[39mreturn\u001b[39;00m stopinst\u001b[39m.\u001b[39mvalue\n",
      "File \u001b[0;32m~/anaconda3/envs/wassati/lib/python3.9/pickle.py:1589\u001b[0m, in \u001b[0;36m_Unpickler.load_reduce\u001b[0;34m(self)\u001b[0m\n\u001b[1;32m   1587\u001b[0m args \u001b[39m=\u001b[39m stack\u001b[39m.\u001b[39mpop()\n\u001b[1;32m   1588\u001b[0m func \u001b[39m=\u001b[39m stack[\u001b[39m-\u001b[39m\u001b[39m1\u001b[39m]\n\u001b[0;32m-> 1589\u001b[0m stack[\u001b[39m-\u001b[39m\u001b[39m1\u001b[39m] \u001b[39m=\u001b[39m func(\u001b[39m*\u001b[39;49margs)\n",
      "File \u001b[0;32m~/anaconda3/envs/wassati/lib/python3.9/site-packages/torch/storage.py:241\u001b[0m, in \u001b[0;36m_load_from_bytes\u001b[0;34m(b)\u001b[0m\n\u001b[1;32m    240\u001b[0m \u001b[39mdef\u001b[39;00m \u001b[39m_load_from_bytes\u001b[39m(b):\n\u001b[0;32m--> 241\u001b[0m     \u001b[39mreturn\u001b[39;00m torch\u001b[39m.\u001b[39;49mload(io\u001b[39m.\u001b[39;49mBytesIO(b))\n",
      "File \u001b[0;32m~/anaconda3/envs/wassati/lib/python3.9/site-packages/torch/serialization.py:815\u001b[0m, in \u001b[0;36mload\u001b[0;34m(f, map_location, pickle_module, weights_only, **pickle_load_args)\u001b[0m\n\u001b[1;32m    813\u001b[0m     \u001b[39mexcept\u001b[39;00m \u001b[39mRuntimeError\u001b[39;00m \u001b[39mas\u001b[39;00m e:\n\u001b[1;32m    814\u001b[0m         \u001b[39mraise\u001b[39;00m pickle\u001b[39m.\u001b[39mUnpicklingError(UNSAFE_MESSAGE \u001b[39m+\u001b[39m \u001b[39mstr\u001b[39m(e)) \u001b[39mfrom\u001b[39;00m \u001b[39mNone\u001b[39;00m\n\u001b[0;32m--> 815\u001b[0m \u001b[39mreturn\u001b[39;00m _legacy_load(opened_file, map_location, pickle_module, \u001b[39m*\u001b[39;49m\u001b[39m*\u001b[39;49mpickle_load_args)\n",
      "File \u001b[0;32m~/anaconda3/envs/wassati/lib/python3.9/site-packages/torch/serialization.py:1051\u001b[0m, in \u001b[0;36m_legacy_load\u001b[0;34m(f, map_location, pickle_module, **pickle_load_args)\u001b[0m\n\u001b[1;32m   1049\u001b[0m \u001b[39massert\u001b[39;00m key \u001b[39min\u001b[39;00m deserialized_objects\n\u001b[1;32m   1050\u001b[0m typed_storage \u001b[39m=\u001b[39m deserialized_objects[key]\n\u001b[0;32m-> 1051\u001b[0m typed_storage\u001b[39m.\u001b[39;49m_untyped_storage\u001b[39m.\u001b[39;49m_set_from_file(\n\u001b[1;32m   1052\u001b[0m     f, offset, f_should_read_directly,\n\u001b[1;32m   1053\u001b[0m     torch\u001b[39m.\u001b[39;49m_utils\u001b[39m.\u001b[39;49m_element_size(typed_storage\u001b[39m.\u001b[39;49mdtype))\n\u001b[1;32m   1054\u001b[0m \u001b[39mif\u001b[39;00m offset \u001b[39mis\u001b[39;00m \u001b[39mnot\u001b[39;00m \u001b[39mNone\u001b[39;00m:\n\u001b[1;32m   1055\u001b[0m     offset \u001b[39m=\u001b[39m f\u001b[39m.\u001b[39mtell()\n",
      "\u001b[0;31mRuntimeError\u001b[0m: CUDA error: unspecified launch failure\nCUDA kernel errors might be asynchronously reported at some other API call, so the stacktrace below might be incorrect.\nFor debugging consider passing CUDA_LAUNCH_BLOCKING=1.\nCompile with `TORCH_USE_CUDA_DSA` to enable device-side assertions.\n"
     ]
    }
   ],
   "source": [
    "def load_bertopic_model(filename):\n",
    "    \"\"\"\n",
    "    Load a BERTopic model and associated data from a file.\n",
    "    \n",
    "    :param filename: The name of the file to load the data from.\n",
    "    :return: A tuple containing the loaded BERTopic model, topics, probs, and docs variables.\n",
    "    \"\"\"\n",
    "    # Load the BERTopic model\n",
    "    topic_model = BERTopic.load(filename)\n",
    "    \n",
    "    # Load the topics, probs, and docs variables\n",
    "    with open(filename + '_data.pkl', 'rb') as f:\n",
    "        topics, probs, embeddings, docs = pickle.load(f)\n",
    "    \n",
    "    return topic_model, topics, probs, embeddings, docs\n",
    "\n",
    "topic_model, topics, probs, embeddings, docs = load_bertopic_model('raw_keybert_bertopic_model')"
   ]
  },
  {
   "cell_type": "code",
   "execution_count": 39,
   "metadata": {},
   "outputs": [
    {
     "ename": "RuntimeError",
     "evalue": "CUDA error: unspecified launch failure\nCUDA kernel errors might be asynchronously reported at some other API call, so the stacktrace below might be incorrect.\nFor debugging consider passing CUDA_LAUNCH_BLOCKING=1.\nCompile with `TORCH_USE_CUDA_DSA` to enable device-side assertions.\n",
     "output_type": "error",
     "traceback": [
      "\u001b[0;31m---------------------------------------------------------------------------\u001b[0m",
      "\u001b[0;31mRuntimeError\u001b[0m                              Traceback (most recent call last)",
      "Cell \u001b[0;32mIn[39], line 39\u001b[0m\n\u001b[1;32m      3\u001b[0m topics_to_merge \u001b[39m=\u001b[39m [ [\u001b[39m42\u001b[39m,\u001b[39m3\u001b[39m,\u001b[39m0\u001b[39m,\u001b[39m13\u001b[39m], \u001b[39m#Delivery Deadlines : challenges and strategies involved in managing delivery deadlines in logistics operations. (vert)\u001b[39;00m\n\u001b[1;32m      4\u001b[0m                     [\u001b[39m20\u001b[39m,\u001b[39m50\u001b[39m,\u001b[39m27\u001b[39m], \u001b[39m#Quotation and Pricing Strategies (vert bas)\u001b[39;00m\n\u001b[1;32m      5\u001b[0m                     [\u001b[39m35\u001b[39m,\u001b[39m32\u001b[39m], \u001b[39m#Touch Panels and Screens (rouge, haut)\u001b[39;00m\n\u001b[0;32m   (...)\u001b[0m\n\u001b[1;32m     15\u001b[0m                     [\u001b[39m48\u001b[39m,\u001b[39m56\u001b[39m] \u001b[39m#None : positive feedback (2e rouge)\u001b[39;00m\n\u001b[1;32m     16\u001b[0m ]\n\u001b[1;32m     18\u001b[0m \u001b[39m# names = [\"Delivery Deadlines\",\u001b[39;00m\n\u001b[1;32m     19\u001b[0m \u001b[39m#     \"Pricing\", #Quotation and Pricing Strategies\u001b[39;00m\n\u001b[1;32m     20\u001b[0m \u001b[39m#     \"Touch Screens\", #Touch Panels and Screens\u001b[39;00m\n\u001b[0;32m   (...)\u001b[0m\n\u001b[1;32m     36\u001b[0m \u001b[39m#     for topic in topics_to_merge[i]:\u001b[39;00m\n\u001b[1;32m     37\u001b[0m \u001b[39m#         topic_labels_dict[topic] = names[i]\u001b[39;00m\n\u001b[0;32m---> 39\u001b[0m topic_model_merged \u001b[39m=\u001b[39m copy\u001b[39m.\u001b[39;49mdeepcopy(topic_model)\n\u001b[1;32m     40\u001b[0m topic_model_merged\u001b[39m.\u001b[39mmerge_topics(docs, topics_to_merge)\n\u001b[1;32m     41\u001b[0m \u001b[39m# topic_model_merged.set_topic_labels(topic_labels_dict)\u001b[39;00m\n\u001b[1;32m     42\u001b[0m \n\u001b[1;32m     43\u001b[0m \u001b[39m# topic_model_merged.visualize_barchart(top_n_topics=50, custom_labels=True)\u001b[39;00m\n",
      "File \u001b[0;32m~/anaconda3/envs/wassati/lib/python3.9/copy.py:172\u001b[0m, in \u001b[0;36mdeepcopy\u001b[0;34m(x, memo, _nil)\u001b[0m\n\u001b[1;32m    170\u001b[0m                 y \u001b[39m=\u001b[39m x\n\u001b[1;32m    171\u001b[0m             \u001b[39melse\u001b[39;00m:\n\u001b[0;32m--> 172\u001b[0m                 y \u001b[39m=\u001b[39m _reconstruct(x, memo, \u001b[39m*\u001b[39;49mrv)\n\u001b[1;32m    174\u001b[0m \u001b[39m# If is its own copy, don't memoize.\u001b[39;00m\n\u001b[1;32m    175\u001b[0m \u001b[39mif\u001b[39;00m y \u001b[39mis\u001b[39;00m \u001b[39mnot\u001b[39;00m x:\n",
      "File \u001b[0;32m~/anaconda3/envs/wassati/lib/python3.9/copy.py:270\u001b[0m, in \u001b[0;36m_reconstruct\u001b[0;34m(x, memo, func, args, state, listiter, dictiter, deepcopy)\u001b[0m\n\u001b[1;32m    268\u001b[0m \u001b[39mif\u001b[39;00m state \u001b[39mis\u001b[39;00m \u001b[39mnot\u001b[39;00m \u001b[39mNone\u001b[39;00m:\n\u001b[1;32m    269\u001b[0m     \u001b[39mif\u001b[39;00m deep:\n\u001b[0;32m--> 270\u001b[0m         state \u001b[39m=\u001b[39m deepcopy(state, memo)\n\u001b[1;32m    271\u001b[0m     \u001b[39mif\u001b[39;00m \u001b[39mhasattr\u001b[39m(y, \u001b[39m'\u001b[39m\u001b[39m__setstate__\u001b[39m\u001b[39m'\u001b[39m):\n\u001b[1;32m    272\u001b[0m         y\u001b[39m.\u001b[39m__setstate__(state)\n",
      "File \u001b[0;32m~/anaconda3/envs/wassati/lib/python3.9/copy.py:146\u001b[0m, in \u001b[0;36mdeepcopy\u001b[0;34m(x, memo, _nil)\u001b[0m\n\u001b[1;32m    144\u001b[0m copier \u001b[39m=\u001b[39m _deepcopy_dispatch\u001b[39m.\u001b[39mget(\u001b[39mcls\u001b[39m)\n\u001b[1;32m    145\u001b[0m \u001b[39mif\u001b[39;00m copier \u001b[39mis\u001b[39;00m \u001b[39mnot\u001b[39;00m \u001b[39mNone\u001b[39;00m:\n\u001b[0;32m--> 146\u001b[0m     y \u001b[39m=\u001b[39m copier(x, memo)\n\u001b[1;32m    147\u001b[0m \u001b[39melse\u001b[39;00m:\n\u001b[1;32m    148\u001b[0m     \u001b[39mif\u001b[39;00m \u001b[39missubclass\u001b[39m(\u001b[39mcls\u001b[39m, \u001b[39mtype\u001b[39m):\n",
      "File \u001b[0;32m~/anaconda3/envs/wassati/lib/python3.9/copy.py:230\u001b[0m, in \u001b[0;36m_deepcopy_dict\u001b[0;34m(x, memo, deepcopy)\u001b[0m\n\u001b[1;32m    228\u001b[0m memo[\u001b[39mid\u001b[39m(x)] \u001b[39m=\u001b[39m y\n\u001b[1;32m    229\u001b[0m \u001b[39mfor\u001b[39;00m key, value \u001b[39min\u001b[39;00m x\u001b[39m.\u001b[39mitems():\n\u001b[0;32m--> 230\u001b[0m     y[deepcopy(key, memo)] \u001b[39m=\u001b[39m deepcopy(value, memo)\n\u001b[1;32m    231\u001b[0m \u001b[39mreturn\u001b[39;00m y\n",
      "File \u001b[0;32m~/anaconda3/envs/wassati/lib/python3.9/copy.py:172\u001b[0m, in \u001b[0;36mdeepcopy\u001b[0;34m(x, memo, _nil)\u001b[0m\n\u001b[1;32m    170\u001b[0m                 y \u001b[39m=\u001b[39m x\n\u001b[1;32m    171\u001b[0m             \u001b[39melse\u001b[39;00m:\n\u001b[0;32m--> 172\u001b[0m                 y \u001b[39m=\u001b[39m _reconstruct(x, memo, \u001b[39m*\u001b[39;49mrv)\n\u001b[1;32m    174\u001b[0m \u001b[39m# If is its own copy, don't memoize.\u001b[39;00m\n\u001b[1;32m    175\u001b[0m \u001b[39mif\u001b[39;00m y \u001b[39mis\u001b[39;00m \u001b[39mnot\u001b[39;00m x:\n",
      "File \u001b[0;32m~/anaconda3/envs/wassati/lib/python3.9/copy.py:270\u001b[0m, in \u001b[0;36m_reconstruct\u001b[0;34m(x, memo, func, args, state, listiter, dictiter, deepcopy)\u001b[0m\n\u001b[1;32m    268\u001b[0m \u001b[39mif\u001b[39;00m state \u001b[39mis\u001b[39;00m \u001b[39mnot\u001b[39;00m \u001b[39mNone\u001b[39;00m:\n\u001b[1;32m    269\u001b[0m     \u001b[39mif\u001b[39;00m deep:\n\u001b[0;32m--> 270\u001b[0m         state \u001b[39m=\u001b[39m deepcopy(state, memo)\n\u001b[1;32m    271\u001b[0m     \u001b[39mif\u001b[39;00m \u001b[39mhasattr\u001b[39m(y, \u001b[39m'\u001b[39m\u001b[39m__setstate__\u001b[39m\u001b[39m'\u001b[39m):\n\u001b[1;32m    272\u001b[0m         y\u001b[39m.\u001b[39m__setstate__(state)\n",
      "File \u001b[0;32m~/anaconda3/envs/wassati/lib/python3.9/copy.py:146\u001b[0m, in \u001b[0;36mdeepcopy\u001b[0;34m(x, memo, _nil)\u001b[0m\n\u001b[1;32m    144\u001b[0m copier \u001b[39m=\u001b[39m _deepcopy_dispatch\u001b[39m.\u001b[39mget(\u001b[39mcls\u001b[39m)\n\u001b[1;32m    145\u001b[0m \u001b[39mif\u001b[39;00m copier \u001b[39mis\u001b[39;00m \u001b[39mnot\u001b[39;00m \u001b[39mNone\u001b[39;00m:\n\u001b[0;32m--> 146\u001b[0m     y \u001b[39m=\u001b[39m copier(x, memo)\n\u001b[1;32m    147\u001b[0m \u001b[39melse\u001b[39;00m:\n\u001b[1;32m    148\u001b[0m     \u001b[39mif\u001b[39;00m \u001b[39missubclass\u001b[39m(\u001b[39mcls\u001b[39m, \u001b[39mtype\u001b[39m):\n",
      "File \u001b[0;32m~/anaconda3/envs/wassati/lib/python3.9/copy.py:230\u001b[0m, in \u001b[0;36m_deepcopy_dict\u001b[0;34m(x, memo, deepcopy)\u001b[0m\n\u001b[1;32m    228\u001b[0m memo[\u001b[39mid\u001b[39m(x)] \u001b[39m=\u001b[39m y\n\u001b[1;32m    229\u001b[0m \u001b[39mfor\u001b[39;00m key, value \u001b[39min\u001b[39;00m x\u001b[39m.\u001b[39mitems():\n\u001b[0;32m--> 230\u001b[0m     y[deepcopy(key, memo)] \u001b[39m=\u001b[39m deepcopy(value, memo)\n\u001b[1;32m    231\u001b[0m \u001b[39mreturn\u001b[39;00m y\n",
      "    \u001b[0;31m[... skipping similar frames: deepcopy at line 172 (2 times), _deepcopy_dict at line 230 (1 times), _reconstruct at line 270 (1 times), deepcopy at line 146 (1 times)]\u001b[0m\n",
      "File \u001b[0;32m~/anaconda3/envs/wassati/lib/python3.9/copy.py:296\u001b[0m, in \u001b[0;36m_reconstruct\u001b[0;34m(x, memo, func, args, state, listiter, dictiter, deepcopy)\u001b[0m\n\u001b[1;32m    294\u001b[0m     \u001b[39mfor\u001b[39;00m key, value \u001b[39min\u001b[39;00m dictiter:\n\u001b[1;32m    295\u001b[0m         key \u001b[39m=\u001b[39m deepcopy(key, memo)\n\u001b[0;32m--> 296\u001b[0m         value \u001b[39m=\u001b[39m deepcopy(value, memo)\n\u001b[1;32m    297\u001b[0m         y[key] \u001b[39m=\u001b[39m value\n\u001b[1;32m    298\u001b[0m \u001b[39melse\u001b[39;00m:\n",
      "    \u001b[0;31m[... skipping similar frames: deepcopy at line 172 (2 times), _deepcopy_dict at line 230 (1 times), _reconstruct at line 270 (1 times), deepcopy at line 146 (1 times)]\u001b[0m\n",
      "File \u001b[0;32m~/anaconda3/envs/wassati/lib/python3.9/copy.py:296\u001b[0m, in \u001b[0;36m_reconstruct\u001b[0;34m(x, memo, func, args, state, listiter, dictiter, deepcopy)\u001b[0m\n\u001b[1;32m    294\u001b[0m     \u001b[39mfor\u001b[39;00m key, value \u001b[39min\u001b[39;00m dictiter:\n\u001b[1;32m    295\u001b[0m         key \u001b[39m=\u001b[39m deepcopy(key, memo)\n\u001b[0;32m--> 296\u001b[0m         value \u001b[39m=\u001b[39m deepcopy(value, memo)\n\u001b[1;32m    297\u001b[0m         y[key] \u001b[39m=\u001b[39m value\n\u001b[1;32m    298\u001b[0m \u001b[39melse\u001b[39;00m:\n",
      "    \u001b[0;31m[... skipping similar frames: deepcopy at line 172 (3 times), _deepcopy_dict at line 230 (1 times), _reconstruct at line 270 (1 times), _reconstruct at line 296 (1 times), deepcopy at line 146 (1 times)]\u001b[0m\n",
      "File \u001b[0;32m~/anaconda3/envs/wassati/lib/python3.9/copy.py:270\u001b[0m, in \u001b[0;36m_reconstruct\u001b[0;34m(x, memo, func, args, state, listiter, dictiter, deepcopy)\u001b[0m\n\u001b[1;32m    268\u001b[0m \u001b[39mif\u001b[39;00m state \u001b[39mis\u001b[39;00m \u001b[39mnot\u001b[39;00m \u001b[39mNone\u001b[39;00m:\n\u001b[1;32m    269\u001b[0m     \u001b[39mif\u001b[39;00m deep:\n\u001b[0;32m--> 270\u001b[0m         state \u001b[39m=\u001b[39m deepcopy(state, memo)\n\u001b[1;32m    271\u001b[0m     \u001b[39mif\u001b[39;00m \u001b[39mhasattr\u001b[39m(y, \u001b[39m'\u001b[39m\u001b[39m__setstate__\u001b[39m\u001b[39m'\u001b[39m):\n\u001b[1;32m    272\u001b[0m         y\u001b[39m.\u001b[39m__setstate__(state)\n",
      "File \u001b[0;32m~/anaconda3/envs/wassati/lib/python3.9/copy.py:146\u001b[0m, in \u001b[0;36mdeepcopy\u001b[0;34m(x, memo, _nil)\u001b[0m\n\u001b[1;32m    144\u001b[0m copier \u001b[39m=\u001b[39m _deepcopy_dispatch\u001b[39m.\u001b[39mget(\u001b[39mcls\u001b[39m)\n\u001b[1;32m    145\u001b[0m \u001b[39mif\u001b[39;00m copier \u001b[39mis\u001b[39;00m \u001b[39mnot\u001b[39;00m \u001b[39mNone\u001b[39;00m:\n\u001b[0;32m--> 146\u001b[0m     y \u001b[39m=\u001b[39m copier(x, memo)\n\u001b[1;32m    147\u001b[0m \u001b[39melse\u001b[39;00m:\n\u001b[1;32m    148\u001b[0m     \u001b[39mif\u001b[39;00m \u001b[39missubclass\u001b[39m(\u001b[39mcls\u001b[39m, \u001b[39mtype\u001b[39m):\n",
      "File \u001b[0;32m~/anaconda3/envs/wassati/lib/python3.9/copy.py:230\u001b[0m, in \u001b[0;36m_deepcopy_dict\u001b[0;34m(x, memo, deepcopy)\u001b[0m\n\u001b[1;32m    228\u001b[0m memo[\u001b[39mid\u001b[39m(x)] \u001b[39m=\u001b[39m y\n\u001b[1;32m    229\u001b[0m \u001b[39mfor\u001b[39;00m key, value \u001b[39min\u001b[39;00m x\u001b[39m.\u001b[39mitems():\n\u001b[0;32m--> 230\u001b[0m     y[deepcopy(key, memo)] \u001b[39m=\u001b[39m deepcopy(value, memo)\n\u001b[1;32m    231\u001b[0m \u001b[39mreturn\u001b[39;00m y\n",
      "File \u001b[0;32m~/anaconda3/envs/wassati/lib/python3.9/copy.py:172\u001b[0m, in \u001b[0;36mdeepcopy\u001b[0;34m(x, memo, _nil)\u001b[0m\n\u001b[1;32m    170\u001b[0m                 y \u001b[39m=\u001b[39m x\n\u001b[1;32m    171\u001b[0m             \u001b[39melse\u001b[39;00m:\n\u001b[0;32m--> 172\u001b[0m                 y \u001b[39m=\u001b[39m _reconstruct(x, memo, \u001b[39m*\u001b[39;49mrv)\n\u001b[1;32m    174\u001b[0m \u001b[39m# If is its own copy, don't memoize.\u001b[39;00m\n\u001b[1;32m    175\u001b[0m \u001b[39mif\u001b[39;00m y \u001b[39mis\u001b[39;00m \u001b[39mnot\u001b[39;00m x:\n",
      "File \u001b[0;32m~/anaconda3/envs/wassati/lib/python3.9/copy.py:296\u001b[0m, in \u001b[0;36m_reconstruct\u001b[0;34m(x, memo, func, args, state, listiter, dictiter, deepcopy)\u001b[0m\n\u001b[1;32m    294\u001b[0m     \u001b[39mfor\u001b[39;00m key, value \u001b[39min\u001b[39;00m dictiter:\n\u001b[1;32m    295\u001b[0m         key \u001b[39m=\u001b[39m deepcopy(key, memo)\n\u001b[0;32m--> 296\u001b[0m         value \u001b[39m=\u001b[39m deepcopy(value, memo)\n\u001b[1;32m    297\u001b[0m         y[key] \u001b[39m=\u001b[39m value\n\u001b[1;32m    298\u001b[0m \u001b[39melse\u001b[39;00m:\n",
      "File \u001b[0;32m~/anaconda3/envs/wassati/lib/python3.9/copy.py:153\u001b[0m, in \u001b[0;36mdeepcopy\u001b[0;34m(x, memo, _nil)\u001b[0m\n\u001b[1;32m    151\u001b[0m copier \u001b[39m=\u001b[39m \u001b[39mgetattr\u001b[39m(x, \u001b[39m\"\u001b[39m\u001b[39m__deepcopy__\u001b[39m\u001b[39m\"\u001b[39m, \u001b[39mNone\u001b[39;00m)\n\u001b[1;32m    152\u001b[0m \u001b[39mif\u001b[39;00m copier \u001b[39mis\u001b[39;00m \u001b[39mnot\u001b[39;00m \u001b[39mNone\u001b[39;00m:\n\u001b[0;32m--> 153\u001b[0m     y \u001b[39m=\u001b[39m copier(memo)\n\u001b[1;32m    154\u001b[0m \u001b[39melse\u001b[39;00m:\n\u001b[1;32m    155\u001b[0m     reductor \u001b[39m=\u001b[39m dispatch_table\u001b[39m.\u001b[39mget(\u001b[39mcls\u001b[39m)\n",
      "File \u001b[0;32m~/anaconda3/envs/wassati/lib/python3.9/site-packages/torch/_tensor.py:118\u001b[0m, in \u001b[0;36mTensor.__deepcopy__\u001b[0;34m(self, memo)\u001b[0m\n\u001b[1;32m    109\u001b[0m         \u001b[39mraise\u001b[39;00m \u001b[39mRuntimeError\u001b[39;00m(\n\u001b[1;32m    110\u001b[0m             \u001b[39m\"\u001b[39m\u001b[39mThe default implementation of __deepcopy__() for wrapper subclasses \u001b[39m\u001b[39m\"\u001b[39m\n\u001b[1;32m    111\u001b[0m             \u001b[39m\"\u001b[39m\u001b[39monly works for subclass types that implement clone() and for which \u001b[39m\u001b[39m\"\u001b[39m\n\u001b[0;32m   (...)\u001b[0m\n\u001b[1;32m    115\u001b[0m             \u001b[39m\"\u001b[39m\u001b[39mdifferent type.\u001b[39m\u001b[39m\"\u001b[39m\n\u001b[1;32m    116\u001b[0m         )\n\u001b[1;32m    117\u001b[0m \u001b[39melse\u001b[39;00m:\n\u001b[0;32m--> 118\u001b[0m     new_storage \u001b[39m=\u001b[39m \u001b[39mself\u001b[39;49m\u001b[39m.\u001b[39;49m_typed_storage()\u001b[39m.\u001b[39;49m_deepcopy(memo)\n\u001b[1;32m    119\u001b[0m     \u001b[39mif\u001b[39;00m \u001b[39mself\u001b[39m\u001b[39m.\u001b[39mis_quantized:\n\u001b[1;32m    120\u001b[0m         \u001b[39m# quantizer_params can be different type based on torch attribute\u001b[39;00m\n\u001b[1;32m    121\u001b[0m         quantizer_params: Union[\n\u001b[1;32m    122\u001b[0m             Tuple[torch\u001b[39m.\u001b[39mqscheme, \u001b[39mfloat\u001b[39m, \u001b[39mint\u001b[39m],\n\u001b[1;32m    123\u001b[0m             Tuple[torch\u001b[39m.\u001b[39mqscheme, Tensor, Tensor, \u001b[39mint\u001b[39m],\n\u001b[1;32m    124\u001b[0m         ]\n",
      "File \u001b[0;32m~/anaconda3/envs/wassati/lib/python3.9/site-packages/torch/storage.py:684\u001b[0m, in \u001b[0;36mTypedStorage._deepcopy\u001b[0;34m(self, memo)\u001b[0m\n\u001b[1;32m    683\u001b[0m \u001b[39mdef\u001b[39;00m \u001b[39m_deepcopy\u001b[39m(\u001b[39mself\u001b[39m, memo):\n\u001b[0;32m--> 684\u001b[0m     \u001b[39mreturn\u001b[39;00m \u001b[39mself\u001b[39m\u001b[39m.\u001b[39m_new_wrapped_storage(copy\u001b[39m.\u001b[39;49mdeepcopy(\u001b[39mself\u001b[39;49m\u001b[39m.\u001b[39;49m_untyped_storage, memo))\n",
      "File \u001b[0;32m~/anaconda3/envs/wassati/lib/python3.9/copy.py:153\u001b[0m, in \u001b[0;36mdeepcopy\u001b[0;34m(x, memo, _nil)\u001b[0m\n\u001b[1;32m    151\u001b[0m copier \u001b[39m=\u001b[39m \u001b[39mgetattr\u001b[39m(x, \u001b[39m\"\u001b[39m\u001b[39m__deepcopy__\u001b[39m\u001b[39m\"\u001b[39m, \u001b[39mNone\u001b[39;00m)\n\u001b[1;32m    152\u001b[0m \u001b[39mif\u001b[39;00m copier \u001b[39mis\u001b[39;00m \u001b[39mnot\u001b[39;00m \u001b[39mNone\u001b[39;00m:\n\u001b[0;32m--> 153\u001b[0m     y \u001b[39m=\u001b[39m copier(memo)\n\u001b[1;32m    154\u001b[0m \u001b[39melse\u001b[39;00m:\n\u001b[1;32m    155\u001b[0m     reductor \u001b[39m=\u001b[39m dispatch_table\u001b[39m.\u001b[39mget(\u001b[39mcls\u001b[39m)\n",
      "File \u001b[0;32m~/anaconda3/envs/wassati/lib/python3.9/site-packages/torch/storage.py:98\u001b[0m, in \u001b[0;36m_StorageBase.__deepcopy__\u001b[0;34m(self, memo)\u001b[0m\n\u001b[1;32m     96\u001b[0m \u001b[39mif\u001b[39;00m \u001b[39mself\u001b[39m\u001b[39m.\u001b[39m_cdata \u001b[39min\u001b[39;00m memo:\n\u001b[1;32m     97\u001b[0m     \u001b[39mreturn\u001b[39;00m memo[\u001b[39mself\u001b[39m\u001b[39m.\u001b[39m_cdata]\n\u001b[0;32m---> 98\u001b[0m new_storage \u001b[39m=\u001b[39m \u001b[39mself\u001b[39;49m\u001b[39m.\u001b[39;49mclone()\n\u001b[1;32m     99\u001b[0m memo[\u001b[39mself\u001b[39m\u001b[39m.\u001b[39m_cdata] \u001b[39m=\u001b[39m new_storage\n\u001b[1;32m    100\u001b[0m \u001b[39mreturn\u001b[39;00m new_storage\n",
      "File \u001b[0;32m~/anaconda3/envs/wassati/lib/python3.9/site-packages/torch/storage.py:112\u001b[0m, in \u001b[0;36m_StorageBase.clone\u001b[0;34m(self)\u001b[0m\n\u001b[1;32m    110\u001b[0m \u001b[39mdef\u001b[39;00m \u001b[39mclone\u001b[39m(\u001b[39mself\u001b[39m):\n\u001b[1;32m    111\u001b[0m \u001b[39m    \u001b[39m\u001b[39m\"\"\"Returns a copy of this storage\"\"\"\u001b[39;00m\n\u001b[0;32m--> 112\u001b[0m     \u001b[39mreturn\u001b[39;00m \u001b[39mtype\u001b[39;49m(\u001b[39mself\u001b[39;49m)(\u001b[39mself\u001b[39;49m\u001b[39m.\u001b[39;49mnbytes(), device\u001b[39m=\u001b[39;49m\u001b[39mself\u001b[39;49m\u001b[39m.\u001b[39;49mdevice)\u001b[39m.\u001b[39;49mcopy_(\u001b[39mself\u001b[39;49m)\n",
      "\u001b[0;31mRuntimeError\u001b[0m: CUDA error: unspecified launch failure\nCUDA kernel errors might be asynchronously reported at some other API call, so the stacktrace below might be incorrect.\nFor debugging consider passing CUDA_LAUNCH_BLOCKING=1.\nCompile with `TORCH_USE_CUDA_DSA` to enable device-side assertions.\n"
     ]
    }
   ],
   "source": [
    "import copy\n",
    "\n",
    "topics_to_merge = [ [42,3,0,13], #Delivery Deadlines : challenges and strategies involved in managing delivery deadlines in logistics operations. (vert)\n",
    "                    [20,50,27], #Quotation and Pricing Strategies (vert bas)\n",
    "                    [35,32], #Touch Panels and Screens (rouge, haut)\n",
    "                    [40,36], #Frequency Converters : frequency converters used in industrial applications and the technical support provided by manufacturers and suppliers (rouge, suite)\n",
    "                    [37,21,6,12,9,4,1,14,16,31,19], #“Automation Components” : hardware and software components used in industrial automation systems. (rouge centre)\n",
    "                    [33,46,8], #Product Evaluation : evaluate the quality, affordability and reliability of products and services (rouge, fin)\n",
    "                    [44,51,23,41,49,57,22], #Customer Support : Reliability and Quality in Customer Service and Support (bleu ciel)\n",
    "                    [58,59], #Quick Customer Service (marron)\n",
    "                    [38,10,26,52,39,43], #Problem Solving and Communication (focus on the importance of being efficient and precise when solving problems) (jaune)\n",
    "                    [45,47,55,53,54], #Assistance and Guidance (noir)\n",
    "                    [29,30,11,24], #Power Supply Issues (2e vert, haut)\n",
    "                    [7,5,2,25,15,34,18,28,17], #Technical Support (2e vert, bas)\n",
    "                    [48,56] #None : positive feedback (2e rouge)\n",
    "]\n",
    "\n",
    "# names = [\"Delivery Deadlines\",\n",
    "#     \"Pricing\", #Quotation and Pricing Strategies\n",
    "#     \"Touch Screens\", #Touch Panels and Screens\n",
    "#     \"Frequency Converters\",\n",
    "#     \"Automation Components\",\n",
    "#     \"Product Evaluation\",\n",
    "#     \"Customer Support\", #Reliability and Quality in Customer Service and Support\n",
    "#     \"Quick Customer Service\",\n",
    "#     \"Problem Solving & Comm\",\n",
    "#     \"Assistance\", #Assistance and Guidance\n",
    "#     \"Power Supply Issues\",\n",
    "#     \"Technical Support\",\n",
    "#     \"positive feedback\"]\n",
    "\n",
    "# # Create a dictionary where the keys are the topics and the values are the custom labels\n",
    "# topic_labels_dict = {}\n",
    "# topic_labels_dict[-1]=\"Outliers\"\n",
    "# for i in range(len(topics_to_merge)):\n",
    "#     for topic in topics_to_merge[i]:\n",
    "#         topic_labels_dict[topic] = names[i]\n",
    "\n",
    "topic_model_merged = copy.deepcopy(topic_model)\n",
    "topic_model_merged.merge_topics(docs, topics_to_merge)\n",
    "# topic_model_merged.set_topic_labels(topic_labels_dict)\n",
    "\n",
    "# topic_model_merged.visualize_barchart(top_n_topics=50, custom_labels=True)"
   ]
  },
  {
   "cell_type": "code",
   "execution_count": 40,
   "metadata": {},
   "outputs": [
    {
     "data": {
      "text/html": [
       "<div>\n",
       "<style scoped>\n",
       "    .dataframe tbody tr th:only-of-type {\n",
       "        vertical-align: middle;\n",
       "    }\n",
       "\n",
       "    .dataframe tbody tr th {\n",
       "        vertical-align: top;\n",
       "    }\n",
       "\n",
       "    .dataframe thead th {\n",
       "        text-align: right;\n",
       "    }\n",
       "</style>\n",
       "<table border=\"1\" class=\"dataframe\">\n",
       "  <thead>\n",
       "    <tr style=\"text-align: right;\">\n",
       "      <th></th>\n",
       "      <th>Topic</th>\n",
       "      <th>Count</th>\n",
       "      <th>Name</th>\n",
       "      <th>CustomName</th>\n",
       "      <th>Representation</th>\n",
       "      <th>Representative_Docs</th>\n",
       "    </tr>\n",
       "  </thead>\n",
       "  <tbody>\n",
       "    <tr>\n",
       "      <th>0</th>\n",
       "      <td>-1</td>\n",
       "      <td>15590</td>\n",
       "      <td>-1_customer service_delivery time_sales_techni...</td>\n",
       "      <td>Outliers</td>\n",
       "      <td>[customer service, delivery time, sales, techn...</td>\n",
       "      <td>[it's impossible for me to recommend the last ...</td>\n",
       "    </tr>\n",
       "    <tr>\n",
       "      <th>1</th>\n",
       "      <td>0</td>\n",
       "      <td>6150</td>\n",
       "      <td>0_technical support_programmable logic control...</td>\n",
       "      <td>Automation Components</td>\n",
       "      <td>[technical support, programmable logic control...</td>\n",
       "      <td>[in general, the products that we buy from you...</td>\n",
       "    </tr>\n",
       "    <tr>\n",
       "      <th>2</th>\n",
       "      <td>1</td>\n",
       "      <td>4786</td>\n",
       "      <td>1_technical support_response time_customer ser...</td>\n",
       "      <td>Technical Support</td>\n",
       "      <td>[technical support, response time, customer se...</td>\n",
       "      <td>[the other day, i received support for the fir...</td>\n",
       "    </tr>\n",
       "    <tr>\n",
       "      <th>3</th>\n",
       "      <td>2</td>\n",
       "      <td>4044</td>\n",
       "      <td>2_delivery time_delays_delivery date_deliveries</td>\n",
       "      <td>Delivery Deadlines</td>\n",
       "      <td>[delivery time, delays, delivery date, deliver...</td>\n",
       "      <td>[at schneider electric there is a lack of comm...</td>\n",
       "    </tr>\n",
       "    <tr>\n",
       "      <th>4</th>\n",
       "      <td>3</td>\n",
       "      <td>1079</td>\n",
       "      <td>3_answered_answers_precise_answer</td>\n",
       "      <td>Problem Solving &amp; Comm</td>\n",
       "      <td>[answered, answers, precise, answer, accuratel...</td>\n",
       "      <td>[because there is an accurate answer to the qu...</td>\n",
       "    </tr>\n",
       "    <tr>\n",
       "      <th>5</th>\n",
       "      <td>4</td>\n",
       "      <td>985</td>\n",
       "      <td>4_ups_uninterruptible power supply_technical s...</td>\n",
       "      <td>Power Supply Issues</td>\n",
       "      <td>[ups, uninterruptible power supply, technical ...</td>\n",
       "      <td>[we are facing a problem and we have got it co...</td>\n",
       "    </tr>\n",
       "    <tr>\n",
       "      <th>6</th>\n",
       "      <td>5</td>\n",
       "      <td>825</td>\n",
       "      <td>5_technical support_reliability_quality_techni...</td>\n",
       "      <td>Customer Support</td>\n",
       "      <td>[technical support, reliability, quality, tech...</td>\n",
       "      <td>[quality products, perfect service and technic...</td>\n",
       "    </tr>\n",
       "    <tr>\n",
       "      <th>7</th>\n",
       "      <td>6</td>\n",
       "      <td>707</td>\n",
       "      <td>6_rating_quality_performance_reliability</td>\n",
       "      <td>Product Evaluation</td>\n",
       "      <td>[rating, quality, performance, reliability, co...</td>\n",
       "      <td>[the reason for the rating is good quality and...</td>\n",
       "    </tr>\n",
       "    <tr>\n",
       "      <th>8</th>\n",
       "      <td>7</td>\n",
       "      <td>519</td>\n",
       "      <td>7_pricing_prices_discount_quotation</td>\n",
       "      <td>Pricing</td>\n",
       "      <td>[pricing, prices, discount, quotation, orders,...</td>\n",
       "      <td>[i would not recommend it because i requested ...</td>\n",
       "    </tr>\n",
       "    <tr>\n",
       "      <th>9</th>\n",
       "      <td>8</td>\n",
       "      <td>352</td>\n",
       "      <td>8_responsiveness_responsively_responsive_feedback</td>\n",
       "      <td>Assistance</td>\n",
       "      <td>[responsiveness, responsively, responsive, fee...</td>\n",
       "      <td>[responsiveness and advice, good advice, respo...</td>\n",
       "    </tr>\n",
       "    <tr>\n",
       "      <th>10</th>\n",
       "      <td>9</td>\n",
       "      <td>288</td>\n",
       "      <td>9_touch panel_touch screen_gp4000_compatibility</td>\n",
       "      <td>Touch Screens</td>\n",
       "      <td>[touch panel, touch screen, gp4000, compatibil...</td>\n",
       "      <td>[if it is assumed that you are not using anoth...</td>\n",
       "    </tr>\n",
       "    <tr>\n",
       "      <th>11</th>\n",
       "      <td>10</td>\n",
       "      <td>242</td>\n",
       "      <td>10_frequency converters_technical support_conv...</td>\n",
       "      <td>Frequency Converters</td>\n",
       "      <td>[frequency converters, technical support, conv...</td>\n",
       "      <td>[we operate old schneider electric equipment, ...</td>\n",
       "    </tr>\n",
       "    <tr>\n",
       "      <th>12</th>\n",
       "      <td>11</td>\n",
       "      <td>134</td>\n",
       "      <td>11_service_excellent_appreciate_welcome</td>\n",
       "      <td>Positive feedback</td>\n",
       "      <td>[service, excellent, appreciate, welcome, help...</td>\n",
       "      <td>[excellent service, thank you. excellent servi...</td>\n",
       "    </tr>\n",
       "    <tr>\n",
       "      <th>13</th>\n",
       "      <td>12</td>\n",
       "      <td>103</td>\n",
       "      <td>12_quick response_response_quick_reply</td>\n",
       "      <td>Quick Customer Service</td>\n",
       "      <td>[quick response, response, quick, reply, short...</td>\n",
       "      <td>[quick response, quick response, quick response]</td>\n",
       "    </tr>\n",
       "  </tbody>\n",
       "</table>\n",
       "</div>"
      ],
      "text/plain": [
       "    Topic  Count                                               Name  \\\n",
       "0      -1  15590  -1_customer service_delivery time_sales_techni...   \n",
       "1       0   6150  0_technical support_programmable logic control...   \n",
       "2       1   4786  1_technical support_response time_customer ser...   \n",
       "3       2   4044    2_delivery time_delays_delivery date_deliveries   \n",
       "4       3   1079                  3_answered_answers_precise_answer   \n",
       "5       4    985  4_ups_uninterruptible power supply_technical s...   \n",
       "6       5    825  5_technical support_reliability_quality_techni...   \n",
       "7       6    707           6_rating_quality_performance_reliability   \n",
       "8       7    519                7_pricing_prices_discount_quotation   \n",
       "9       8    352  8_responsiveness_responsively_responsive_feedback   \n",
       "10      9    288    9_touch panel_touch screen_gp4000_compatibility   \n",
       "11     10    242  10_frequency converters_technical support_conv...   \n",
       "12     11    134            11_service_excellent_appreciate_welcome   \n",
       "13     12    103             12_quick response_response_quick_reply   \n",
       "\n",
       "                CustomName                                     Representation  \\\n",
       "0                 Outliers  [customer service, delivery time, sales, techn...   \n",
       "1    Automation Components  [technical support, programmable logic control...   \n",
       "2        Technical Support  [technical support, response time, customer se...   \n",
       "3       Delivery Deadlines  [delivery time, delays, delivery date, deliver...   \n",
       "4   Problem Solving & Comm  [answered, answers, precise, answer, accuratel...   \n",
       "5      Power Supply Issues  [ups, uninterruptible power supply, technical ...   \n",
       "6         Customer Support  [technical support, reliability, quality, tech...   \n",
       "7       Product Evaluation  [rating, quality, performance, reliability, co...   \n",
       "8                  Pricing  [pricing, prices, discount, quotation, orders,...   \n",
       "9               Assistance  [responsiveness, responsively, responsive, fee...   \n",
       "10           Touch Screens  [touch panel, touch screen, gp4000, compatibil...   \n",
       "11    Frequency Converters  [frequency converters, technical support, conv...   \n",
       "12       Positive feedback  [service, excellent, appreciate, welcome, help...   \n",
       "13  Quick Customer Service  [quick response, response, quick, reply, short...   \n",
       "\n",
       "                                  Representative_Docs  \n",
       "0   [it's impossible for me to recommend the last ...  \n",
       "1   [in general, the products that we buy from you...  \n",
       "2   [the other day, i received support for the fir...  \n",
       "3   [at schneider electric there is a lack of comm...  \n",
       "4   [because there is an accurate answer to the qu...  \n",
       "5   [we are facing a problem and we have got it co...  \n",
       "6   [quality products, perfect service and technic...  \n",
       "7   [the reason for the rating is good quality and...  \n",
       "8   [i would not recommend it because i requested ...  \n",
       "9   [responsiveness and advice, good advice, respo...  \n",
       "10  [if it is assumed that you are not using anoth...  \n",
       "11  [we operate old schneider electric equipment, ...  \n",
       "12  [excellent service, thank you. excellent servi...  \n",
       "13   [quick response, quick response, quick response]  "
      ]
     },
     "execution_count": 40,
     "metadata": {},
     "output_type": "execute_result"
    }
   ],
   "source": [
    "label_names = [\n",
    "    \"Outliers\",\n",
    "    \"Automation Components\",\n",
    "    \"Technical Support\",\n",
    "    \"Delivery Deadlines\",\n",
    "    \"Problem Solving & Comm\",\n",
    "    \"Power Supply Issues\",\n",
    "    \"Customer Support\", #Reliability and Quality in Customer Service and Support\n",
    "    \"Product Evaluation\",\n",
    "    \"Pricing\", #Quotation and Pricing Strategies\n",
    "    \"Assistance\", #Assistance and Guidance\n",
    "    \"Touch Screens\", #Touch Panels and Screens\n",
    "    \"Frequency Converters\",\n",
    "    \"Positive feedback\",\n",
    "    \"Quick Customer Service\"\n",
    "    ]\n",
    "mergedtopic_labels_dict = {i-1: item for i, item in enumerate(label_names)}\n",
    "\n",
    "topic_model_merged.set_topic_labels(mergedtopic_labels_dict)\n",
    "\n",
    "topic_model_merged.get_topic_info()"
   ]
  },
  {
   "cell_type": "code",
   "execution_count": 41,
   "metadata": {},
   "outputs": [
    {
     "ename": "RuntimeError",
     "evalue": "CUDA error: unspecified launch failure\nCUDA kernel errors might be asynchronously reported at some other API call, so the stacktrace below might be incorrect.\nFor debugging consider passing CUDA_LAUNCH_BLOCKING=1.\nCompile with `TORCH_USE_CUDA_DSA` to enable device-side assertions.\n",
     "output_type": "error",
     "traceback": [
      "\u001b[0;31m---------------------------------------------------------------------------\u001b[0m",
      "\u001b[0;31mRuntimeError\u001b[0m                              Traceback (most recent call last)",
      "Cell \u001b[0;32mIn[41], line 2\u001b[0m\n\u001b[1;32m      1\u001b[0m \u001b[39m# visualize the topic representation of major topics per class:\u001b[39;00m\n\u001b[0;32m----> 2\u001b[0m topics_per_sentiment \u001b[39m=\u001b[39m topic_model_merged\u001b[39m.\u001b[39;49mtopics_per_class(df3[\u001b[39m\"\u001b[39;49m\u001b[39mallComment\u001b[39;49m\u001b[39m\"\u001b[39;49m]\u001b[39m.\u001b[39;49mastype(\u001b[39mstr\u001b[39;49m)\u001b[39m.\u001b[39;49mtolist(), classes\u001b[39m=\u001b[39;49mdf3\u001b[39m.\u001b[39;49msentiment_label\u001b[39m.\u001b[39;49mto_list())\n\u001b[1;32m      3\u001b[0m topic_model_merged\u001b[39m.\u001b[39mvisualize_topics_per_class(topics_per_sentiment, custom_labels\u001b[39m=\u001b[39m\u001b[39mTrue\u001b[39;00m)\n",
      "File \u001b[0;32m~/anaconda3/envs/wassati/lib/python3.9/site-packages/bertopic/_bertopic.py:862\u001b[0m, in \u001b[0;36mBERTopic.topics_per_class\u001b[0;34m(self, docs, classes, global_tuning)\u001b[0m\n\u001b[1;32m    859\u001b[0m     c_tf_idf \u001b[39m=\u001b[39m (global_c_tf_idf[documents_per_topic\u001b[39m.\u001b[39mTopic\u001b[39m.\u001b[39mvalues \u001b[39m+\u001b[39m \u001b[39mself\u001b[39m\u001b[39m.\u001b[39m_outliers] \u001b[39m+\u001b[39m c_tf_idf) \u001b[39m/\u001b[39m \u001b[39m2.0\u001b[39m\n\u001b[1;32m    861\u001b[0m \u001b[39m# Extract the words per topic\u001b[39;00m\n\u001b[0;32m--> 862\u001b[0m words_per_topic \u001b[39m=\u001b[39m \u001b[39mself\u001b[39;49m\u001b[39m.\u001b[39;49m_extract_words_per_topic(words, selection, c_tf_idf, calculate_aspects\u001b[39m=\u001b[39;49m\u001b[39mFalse\u001b[39;49;00m)\n\u001b[1;32m    863\u001b[0m topic_frequency \u001b[39m=\u001b[39m pd\u001b[39m.\u001b[39mSeries(documents_per_topic\u001b[39m.\u001b[39mClass\u001b[39m.\u001b[39mvalues,\n\u001b[1;32m    864\u001b[0m                             index\u001b[39m=\u001b[39mdocuments_per_topic\u001b[39m.\u001b[39mTopic)\u001b[39m.\u001b[39mto_dict()\n\u001b[1;32m    866\u001b[0m \u001b[39m# Fill dataframe with results\u001b[39;00m\n",
      "File \u001b[0;32m~/anaconda3/envs/wassati/lib/python3.9/site-packages/bertopic/_bertopic.py:3568\u001b[0m, in \u001b[0;36mBERTopic._extract_words_per_topic\u001b[0;34m(self, words, documents, c_tf_idf, calculate_aspects)\u001b[0m\n\u001b[1;32m   3566\u001b[0m \u001b[39mif\u001b[39;00m \u001b[39misinstance\u001b[39m(\u001b[39mself\u001b[39m\u001b[39m.\u001b[39mrepresentation_model, \u001b[39mlist\u001b[39m):\n\u001b[1;32m   3567\u001b[0m     \u001b[39mfor\u001b[39;00m tuner \u001b[39min\u001b[39;00m \u001b[39mself\u001b[39m\u001b[39m.\u001b[39mrepresentation_model:\n\u001b[0;32m-> 3568\u001b[0m         topics \u001b[39m=\u001b[39m tuner\u001b[39m.\u001b[39;49mextract_topics(\u001b[39mself\u001b[39;49m, documents, c_tf_idf, topics)\n\u001b[1;32m   3569\u001b[0m \u001b[39melif\u001b[39;00m \u001b[39misinstance\u001b[39m(\u001b[39mself\u001b[39m\u001b[39m.\u001b[39mrepresentation_model, BaseRepresentation):\n\u001b[1;32m   3570\u001b[0m     topics \u001b[39m=\u001b[39m \u001b[39mself\u001b[39m\u001b[39m.\u001b[39mrepresentation_model\u001b[39m.\u001b[39mextract_topics(\u001b[39mself\u001b[39m, documents, c_tf_idf, topics)\n",
      "File \u001b[0;32m~/anaconda3/envs/wassati/lib/python3.9/site-packages/bertopic/representation/_keybert.py:91\u001b[0m, in \u001b[0;36mKeyBERTInspired.extract_topics\u001b[0;34m(self, topic_model, documents, c_tf_idf, topics)\u001b[0m\n\u001b[1;32m     87\u001b[0m topics \u001b[39m=\u001b[39m \u001b[39mself\u001b[39m\u001b[39m.\u001b[39m_extract_candidate_words(topic_model, c_tf_idf, topics)\n\u001b[1;32m     89\u001b[0m \u001b[39m# We calculate the similarity between word and document embeddings and create\u001b[39;00m\n\u001b[1;32m     90\u001b[0m \u001b[39m# topic embeddings from the representative document embeddings\u001b[39;00m\n\u001b[0;32m---> 91\u001b[0m sim_matrix, words \u001b[39m=\u001b[39m \u001b[39mself\u001b[39;49m\u001b[39m.\u001b[39;49m_extract_embeddings(topic_model, topics, representative_docs, repr_doc_indices)\n\u001b[1;32m     93\u001b[0m \u001b[39m# Find the best matching words based on the similarity matrix for each topic\u001b[39;00m\n\u001b[1;32m     94\u001b[0m updated_topics \u001b[39m=\u001b[39m \u001b[39mself\u001b[39m\u001b[39m.\u001b[39m_extract_top_words(words, topics, sim_matrix)\n",
      "File \u001b[0;32m~/anaconda3/envs/wassati/lib/python3.9/site-packages/bertopic/representation/_keybert.py:163\u001b[0m, in \u001b[0;36mKeyBERTInspired._extract_embeddings\u001b[0;34m(self, topic_model, topics, representative_docs, repr_doc_indices)\u001b[0m\n\u001b[1;32m    146\u001b[0m \u001b[39m\u001b[39m\u001b[39m\"\"\" Extract the representative document embeddings and create topic embeddings.\u001b[39;00m\n\u001b[1;32m    147\u001b[0m \u001b[39mThen extract word embeddings and calculate the cosine similarity between topic\u001b[39;00m\n\u001b[1;32m    148\u001b[0m \u001b[39membeddings and the word embeddings. Topic embeddings are the average of\u001b[39;00m\n\u001b[0;32m   (...)\u001b[0m\n\u001b[1;32m    160\u001b[0m \u001b[39m    vocab: The complete vocabulary of input documents\u001b[39;00m\n\u001b[1;32m    161\u001b[0m \u001b[39m\"\"\"\u001b[39;00m\n\u001b[1;32m    162\u001b[0m \u001b[39m# Calculate representative docs embeddings and create topic embeddings\u001b[39;00m\n\u001b[0;32m--> 163\u001b[0m repr_embeddings \u001b[39m=\u001b[39m topic_model\u001b[39m.\u001b[39;49m_extract_embeddings(representative_docs, method\u001b[39m=\u001b[39;49m\u001b[39m\"\u001b[39;49m\u001b[39mdocument\u001b[39;49m\u001b[39m\"\u001b[39;49m, verbose\u001b[39m=\u001b[39;49m\u001b[39mFalse\u001b[39;49;00m)\n\u001b[1;32m    164\u001b[0m topic_embeddings \u001b[39m=\u001b[39m [np\u001b[39m.\u001b[39mmean(repr_embeddings[i[\u001b[39m0\u001b[39m]:i[\u001b[39m-\u001b[39m\u001b[39m1\u001b[39m]\u001b[39m+\u001b[39m\u001b[39m1\u001b[39m], axis\u001b[39m=\u001b[39m\u001b[39m0\u001b[39m) \u001b[39mfor\u001b[39;00m i \u001b[39min\u001b[39;00m repr_doc_indices]\n\u001b[1;32m    166\u001b[0m \u001b[39m# Calculate word embeddings and extract best matching with updated topic_embeddings\u001b[39;00m\n",
      "File \u001b[0;32m~/anaconda3/envs/wassati/lib/python3.9/site-packages/bertopic/_bertopic.py:3126\u001b[0m, in \u001b[0;36mBERTopic._extract_embeddings\u001b[0;34m(self, documents, images, method, verbose)\u001b[0m\n\u001b[1;32m   3124\u001b[0m     embeddings \u001b[39m=\u001b[39m \u001b[39mself\u001b[39m\u001b[39m.\u001b[39membedding_model\u001b[39m.\u001b[39membed_words(words\u001b[39m=\u001b[39mdocuments, verbose\u001b[39m=\u001b[39mverbose)\n\u001b[1;32m   3125\u001b[0m \u001b[39melif\u001b[39;00m method \u001b[39m==\u001b[39m \u001b[39m\"\u001b[39m\u001b[39mdocument\u001b[39m\u001b[39m\"\u001b[39m:\n\u001b[0;32m-> 3126\u001b[0m     embeddings \u001b[39m=\u001b[39m \u001b[39mself\u001b[39;49m\u001b[39m.\u001b[39;49membedding_model\u001b[39m.\u001b[39;49membed_documents(documents, verbose\u001b[39m=\u001b[39;49mverbose)\n\u001b[1;32m   3127\u001b[0m \u001b[39melif\u001b[39;00m documents[\u001b[39m0\u001b[39m] \u001b[39mis\u001b[39;00m \u001b[39mNone\u001b[39;00m \u001b[39mand\u001b[39;00m images \u001b[39mis\u001b[39;00m \u001b[39mNone\u001b[39;00m:\n\u001b[1;32m   3128\u001b[0m     \u001b[39mraise\u001b[39;00m \u001b[39mValueError\u001b[39;00m(\u001b[39m\"\u001b[39m\u001b[39mMake sure to use an embedding model that can either embed documents\u001b[39m\u001b[39m\"\u001b[39m\n\u001b[1;32m   3129\u001b[0m                      \u001b[39m\"\u001b[39m\u001b[39mor images depending on which you want to embed.\u001b[39m\u001b[39m\"\u001b[39m)\n",
      "File \u001b[0;32m~/anaconda3/envs/wassati/lib/python3.9/site-packages/bertopic/backend/_base.py:69\u001b[0m, in \u001b[0;36mBaseEmbedder.embed_documents\u001b[0;34m(self, document, verbose)\u001b[0m\n\u001b[1;32m     55\u001b[0m \u001b[39mdef\u001b[39;00m \u001b[39membed_documents\u001b[39m(\u001b[39mself\u001b[39m,\n\u001b[1;32m     56\u001b[0m                     document: List[\u001b[39mstr\u001b[39m],\n\u001b[1;32m     57\u001b[0m                     verbose: \u001b[39mbool\u001b[39m \u001b[39m=\u001b[39m \u001b[39mFalse\u001b[39;00m) \u001b[39m-\u001b[39m\u001b[39m>\u001b[39m np\u001b[39m.\u001b[39mndarray:\n\u001b[1;32m     58\u001b[0m \u001b[39m    \u001b[39m\u001b[39m\"\"\" Embed a list of n words into an n-dimensional\u001b[39;00m\n\u001b[1;32m     59\u001b[0m \u001b[39m    matrix of embeddings\u001b[39;00m\n\u001b[1;32m     60\u001b[0m \n\u001b[0;32m   (...)\u001b[0m\n\u001b[1;32m     67\u001b[0m \u001b[39m        that each have an embeddings size of `m`\u001b[39;00m\n\u001b[1;32m     68\u001b[0m \u001b[39m    \"\"\"\u001b[39;00m\n\u001b[0;32m---> 69\u001b[0m     \u001b[39mreturn\u001b[39;00m \u001b[39mself\u001b[39;49m\u001b[39m.\u001b[39;49membed(document, verbose)\n",
      "File \u001b[0;32m~/anaconda3/envs/wassati/lib/python3.9/site-packages/bertopic/backend/_sentencetransformers.py:65\u001b[0m, in \u001b[0;36mSentenceTransformerBackend.embed\u001b[0;34m(self, documents, verbose)\u001b[0m\n\u001b[1;32m     51\u001b[0m \u001b[39mdef\u001b[39;00m \u001b[39membed\u001b[39m(\u001b[39mself\u001b[39m,\n\u001b[1;32m     52\u001b[0m           documents: List[\u001b[39mstr\u001b[39m],\n\u001b[1;32m     53\u001b[0m           verbose: \u001b[39mbool\u001b[39m \u001b[39m=\u001b[39m \u001b[39mFalse\u001b[39;00m) \u001b[39m-\u001b[39m\u001b[39m>\u001b[39m np\u001b[39m.\u001b[39mndarray:\n\u001b[1;32m     54\u001b[0m \u001b[39m    \u001b[39m\u001b[39m\"\"\" Embed a list of n documents/words into an n-dimensional\u001b[39;00m\n\u001b[1;32m     55\u001b[0m \u001b[39m    matrix of embeddings\u001b[39;00m\n\u001b[1;32m     56\u001b[0m \n\u001b[0;32m   (...)\u001b[0m\n\u001b[1;32m     63\u001b[0m \u001b[39m        that each have an embeddings size of `m`\u001b[39;00m\n\u001b[1;32m     64\u001b[0m \u001b[39m    \"\"\"\u001b[39;00m\n\u001b[0;32m---> 65\u001b[0m     embeddings \u001b[39m=\u001b[39m \u001b[39mself\u001b[39;49m\u001b[39m.\u001b[39;49membedding_model\u001b[39m.\u001b[39;49mencode(documents, show_progress_bar\u001b[39m=\u001b[39;49mverbose)\n\u001b[1;32m     66\u001b[0m     \u001b[39mreturn\u001b[39;00m embeddings\n",
      "File \u001b[0;32m~/anaconda3/envs/wassati/lib/python3.9/site-packages/sentence_transformers/SentenceTransformer.py:162\u001b[0m, in \u001b[0;36mSentenceTransformer.encode\u001b[0;34m(self, sentences, batch_size, show_progress_bar, output_value, convert_to_numpy, convert_to_tensor, device, normalize_embeddings)\u001b[0m\n\u001b[1;32m    160\u001b[0m sentences_batch \u001b[39m=\u001b[39m sentences_sorted[start_index:start_index\u001b[39m+\u001b[39mbatch_size]\n\u001b[1;32m    161\u001b[0m features \u001b[39m=\u001b[39m \u001b[39mself\u001b[39m\u001b[39m.\u001b[39mtokenize(sentences_batch)\n\u001b[0;32m--> 162\u001b[0m features \u001b[39m=\u001b[39m batch_to_device(features, device)\n\u001b[1;32m    164\u001b[0m \u001b[39mwith\u001b[39;00m torch\u001b[39m.\u001b[39mno_grad():\n\u001b[1;32m    165\u001b[0m     out_features \u001b[39m=\u001b[39m \u001b[39mself\u001b[39m\u001b[39m.\u001b[39mforward(features)\n",
      "File \u001b[0;32m~/anaconda3/envs/wassati/lib/python3.9/site-packages/sentence_transformers/util.py:300\u001b[0m, in \u001b[0;36mbatch_to_device\u001b[0;34m(batch, target_device)\u001b[0m\n\u001b[1;32m    298\u001b[0m \u001b[39mfor\u001b[39;00m key \u001b[39min\u001b[39;00m batch:\n\u001b[1;32m    299\u001b[0m     \u001b[39mif\u001b[39;00m \u001b[39misinstance\u001b[39m(batch[key], Tensor):\n\u001b[0;32m--> 300\u001b[0m         batch[key] \u001b[39m=\u001b[39m batch[key]\u001b[39m.\u001b[39;49mto(target_device)\n\u001b[1;32m    301\u001b[0m \u001b[39mreturn\u001b[39;00m batch\n",
      "\u001b[0;31mRuntimeError\u001b[0m: CUDA error: unspecified launch failure\nCUDA kernel errors might be asynchronously reported at some other API call, so the stacktrace below might be incorrect.\nFor debugging consider passing CUDA_LAUNCH_BLOCKING=1.\nCompile with `TORCH_USE_CUDA_DSA` to enable device-side assertions.\n"
     ]
    }
   ],
   "source": [
    "# visualize the topic representation of major topics per class:\n",
    "topics_per_sentiment = topic_model_merged.topics_per_class(df3[\"allComment\"].astype(str).tolist(), classes=df3.sentiment_label.to_list())\n",
    "topic_model_merged.visualize_topics_per_class(topics_per_sentiment, custom_labels=True)"
   ]
  },
  {
   "cell_type": "code",
   "execution_count": 21,
   "metadata": {},
   "outputs": [
    {
     "data": {
      "application/vnd.plotly.v1+json": {
       "config": {
        "plotlyServerURL": "https://plot.ly"
       },
       "data": [
        {
         "hoverinfo": "text",
         "hovertext": [
          "<b>Topic 0</b><br>Words: technical support, electric, controllers, technical, contractor",
          "<b>Topic 0</b><br>Words: technical support, switchboards, quality, motors, zb5",
          "<b>Topic 0</b><br>Words: technical support, siemens, switches, servo, technical",
          "<b>Topic 0</b><br>Words: electric, products, customer service, contactors, company",
          "<b>Topic 0</b><br>Words: touch panel, pfxgp4401tad, font, programmable, software",
          "<b>Topic 0</b><br>Words: technical support, customer service, repair, equipment, service",
          "<b>Topic 0</b><br>Words: siemens, electric, breakers, prices, customer support",
          "<b>Topic 0</b><br>Words: electric, servo, metering, customer service, problems",
          "<b>Topic 0</b><br>Words: servo motors, servo, motors, control, hardware",
          "<b>Topic 0</b><br>Words: technical support, programmable logic controller, service, technical, remotely",
          "<b>Topic 0</b><br>Words: technical support, programmable logic controller, unity, programmable, controller",
          "<b>Topic 0</b><br>Words: products, websites, brand, product, equipment",
          "<b>Topic 0</b><br>Words: products, pricing, components, catalog, touch panel",
          "<b>Topic 0</b><br>Words: reliability, technology, inverter, inverters, servo",
          "<b>Topic 0</b><br>Words: technical support, equipment, products, sales, inverters",
          "<b>Topic 0</b><br>Words: technical support, customer service, reliability, reliable, equipment",
          "<b>Topic 0</b><br>Words: products, manufacture, product, factories, suppliers",
          "<b>Topic 0</b><br>Words: rate, technical support, siemens, products, technical",
          "<b>Topic 0</b><br>Words: suppliers, supplier, distributor, warranty, parts",
          "<b>Topic 0</b><br>Words: servo motors, servo, programmable logic controller, technical support, motors",
          "<b>Topic 0</b><br>Words: software, inverters, components, customer service, consultant",
          "<b>Topic 0</b><br>Words: programmable logic controller, programmable, controller, designing, programming",
          "<b>Topic 0</b><br>Words: technical support, products, sales service, updates, product line",
          "<b>Topic 0</b><br>Words: technical support, siemens, inverter, inverters, warranty"
         ],
         "marker": {
          "color": "#E69F00"
         },
         "name": "Automation Components",
         "orientation": "h",
         "type": "bar",
         "visible": true,
         "x": [
          44,
          3,
          2469,
          170,
          1,
          109,
          6,
          28,
          7,
          1,
          206,
          1,
          126,
          15,
          1231,
          1327,
          4,
          1,
          4,
          224,
          10,
          29,
          22,
          112
         ],
         "y": [
          "desire",
          "fear",
          "neutral",
          "joy",
          "nervousness",
          "gratitude",
          "surprise",
          "annoyance",
          "realization",
          "amusement",
          "disapproval",
          "disgust",
          "confusion",
          "curiosity",
          "approval",
          "admiration",
          "sadness",
          "excitement",
          "embarrassment",
          "disappointment",
          "remorse",
          "love",
          "caring",
          "optimism"
         ]
        },
        {
         "hoverinfo": "text",
         "hovertext": [
          "<b>Topic 1</b><br>Words: checkpoints, feedback, complaints, responding, responded",
          "<b>Topic 1</b><br>Words: technical support, responsiveness, resources, assistance, requests",
          "<b>Topic 1</b><br>Words: response time, technical support, responses, customer service, technician",
          "<b>Topic 1</b><br>Words: telephone, service, call, technical support, monitoring",
          "<b>Topic 1</b><br>Words: response time, communication, response, quick response, chat",
          "<b>Topic 1</b><br>Words: technical support, customer service, technician, technicians, contact",
          "<b>Topic 1</b><br>Words: courtesy, customer service, call back, telephone, polite",
          "<b>Topic 1</b><br>Words: customer service, communicate, annoyance, telephone, polite",
          "<b>Topic 1</b><br>Words: information, contents, page, assistance, brake",
          "<b>Topic 1</b><br>Words: technical support, response time, recalled, assistance, call back",
          "<b>Topic 1</b><br>Words: assignment, technical support, individual, inconsistency, issues",
          "<b>Topic 1</b><br>Words: response time, email, mail, receiving, response",
          "<b>Topic 1</b><br>Words: technical support, response time, technical, support, technician",
          "<b>Topic 1</b><br>Words: technical support, customer service, technicians, technical, technician",
          "<b>Topic 1</b><br>Words: miserable, administration, breaker, technical support, painful",
          "<b>Topic 1</b><br>Words: enthusiastic, technical support, technical, tech, technicians",
          "<b>Topic 1</b><br>Words: technical support, messages, technician, technical, assistance",
          "<b>Topic 1</b><br>Words: questions, stupid, stop, question, inquiry",
          "<b>Topic 1</b><br>Words: support, technical support, response time, response, email",
          "<b>Topic 1</b><br>Words: service, customer service, support, friendliness, health",
          "<b>Topic 1</b><br>Words: technical support, support, assistance, consultation, response time",
          "<b>Topic 1</b><br>Words: technical support, contact, technical, technician, technology"
         ],
         "marker": {
          "color": "#56B4E9"
         },
         "name": "Technical Support",
         "orientation": "h",
         "type": "bar",
         "visible": "legendonly",
         "x": [
          14,
          1,
          2549,
          38,
          4,
          203,
          4,
          17,
          2,
          57,
          41,
          7,
          583,
          1077,
          2,
          4,
          83,
          1,
          2,
          6,
          59,
          32
         ],
         "y": [
          "desire",
          "fear",
          "neutral",
          "joy",
          "nervousness",
          "gratitude",
          "surprise",
          "annoyance",
          "realization",
          "disapproval",
          "confusion",
          "curiosity",
          "approval",
          "admiration",
          "sadness",
          "excitement",
          "disappointment",
          "anger",
          "remorse",
          "love",
          "caring",
          "optimism"
         ]
        },
        {
         "hoverinfo": "text",
         "hovertext": [
          "<b>Topic 2</b><br>Words: delivery time, deliveries, delivery date, delivery, shipping",
          "<b>Topic 2</b><br>Words: delivery time, deliveries, delivery, sales service, orders",
          "<b>Topic 2</b><br>Words: delivery date, delivery time, deliveries, delivery, delays",
          "<b>Topic 2</b><br>Words: delivery time, deliveries, delivery, delivery date, delays",
          "<b>Topic 2</b><br>Words: delivery time, deliveries, delivery date, delivery, delays",
          "<b>Topic 2</b><br>Words: delivery date, deliveries, delivery time, delivery, shipping",
          "<b>Topic 2</b><br>Words: delivery time, delivery date, deliveries, delivery, arrive",
          "<b>Topic 2</b><br>Words: delivery time, delivery date, delays, deliveries, delivery",
          "<b>Topic 2</b><br>Words: delivery date, delivery, orders, order, scheduled",
          "<b>Topic 2</b><br>Words: delivery time, deliveries, delivery, delivery date, deliver",
          "<b>Topic 2</b><br>Words: delivery time, delivery date, deliveries, delivery, deliver",
          "<b>Topic 2</b><br>Words: delivery time, deliveries, delivery date, delivery, delays",
          "<b>Topic 2</b><br>Words: deliveries, delivery time, delivery, shipping, delivery date",
          "<b>Topic 2</b><br>Words: deliveries, delivery, invoice, arrives, envelope",
          "<b>Topic 2</b><br>Words: delivery time, deliveries, delivery date, delivery, invoice",
          "<b>Topic 2</b><br>Words: deliveries, delivery time, delivery, delays, delivery date",
          "<b>Topic 2</b><br>Words: shipment, deliveries, missing, boxes, delivery",
          "<b>Topic 2</b><br>Words: delivery time, delivery date, delivery, deliveries, deliver",
          "<b>Topic 2</b><br>Words: courier, brt, deliveries, delivery time, delivery",
          "<b>Topic 2</b><br>Words: delivery time, delivery date, deliveries, delivery, delays",
          "<b>Topic 2</b><br>Words: delivery time, delivery, deliveries, shipping, delivered",
          "<b>Topic 2</b><br>Words: feedback, deliveries, delivery date, delivery, delivery time",
          "<b>Topic 2</b><br>Words: delivery time, deliveries, delivery, logistics, packaging",
          "<b>Topic 2</b><br>Words: delivery time, delays, delivery date, delayed, deliveries"
         ],
         "marker": {
          "color": "#009E73"
         },
         "name": "Delivery Deadlines",
         "orientation": "h",
         "type": "bar",
         "visible": "legendonly",
         "x": [
          16,
          8,
          2502,
          32,
          2,
          84,
          6,
          40,
          6,
          2,
          108,
          2,
          80,
          9,
          463,
          251,
          4,
          2,
          1,
          356,
          5,
          2,
          15,
          48
         ],
         "y": [
          "desire",
          "fear",
          "neutral",
          "joy",
          "nervousness",
          "gratitude",
          "surprise",
          "annoyance",
          "realization",
          "amusement",
          "disapproval",
          "disgust",
          "confusion",
          "curiosity",
          "approval",
          "admiration",
          "sadness",
          "excitement",
          "embarrassment",
          "disappointment",
          "remorse",
          "love",
          "caring",
          "optimism"
         ]
        },
        {
         "hoverinfo": "text",
         "hovertext": [
          "<b>Topic 3</b><br>Words: inquiries, respond, inquiry, response, communication",
          "<b>Topic 3</b><br>Words: answers, answered, answer, quick response, explained",
          "<b>Topic 3</b><br>Words: response, inquiries, sincerely, responded, respond",
          "<b>Topic 3</b><br>Words: inquiries, polite, responded, contacted, response",
          "<b>Topic 3</b><br>Words: shape, model, accurately, answers, precise",
          "<b>Topic 3</b><br>Words: stop, questions, respond, asked, answered",
          "<b>Topic 3</b><br>Words: promptly, immediate, immediately, realization, solutions",
          "<b>Topic 3</b><br>Words: incomplete, inadequate, solutions, feedback, inquiry",
          "<b>Topic 3</b><br>Words: answers, unclear, answered, clear, response",
          "<b>Topic 3</b><br>Words: inquiries, inquiry, questions, inquired, answers",
          "<b>Topic 3</b><br>Words: inquiry, answered, straightforward, answers, polite",
          "<b>Topic 3</b><br>Words: polite, politely, manner, pleased, replying",
          "<b>Topic 3</b><br>Words: merry, christmas, inquiries, questions, asked",
          "<b>Topic 3</b><br>Words: inquiry, answered, clarified, explained, response",
          "<b>Topic 3</b><br>Words: problem, solutions, solve problem, patiently, solution",
          "<b>Topic 3</b><br>Words: accurately, accurate, solve problem, answers, solutions"
         ],
         "marker": {
          "color": "#F0E442"
         },
         "name": "Problem Solving & Comm",
         "orientation": "h",
         "type": "bar",
         "visible": "legendonly",
         "x": [
          4,
          501,
          10,
          72,
          2,
          1,
          2,
          10,
          12,
          1,
          395,
          46,
          1,
          12,
          8,
          2
         ],
         "y": [
          "desire",
          "neutral",
          "joy",
          "gratitude",
          "surprise",
          "annoyance",
          "realization",
          "disapproval",
          "confusion",
          "curiosity",
          "approval",
          "admiration",
          "excitement",
          "disappointment",
          "caring",
          "optimism"
         ]
        },
        {
         "hoverinfo": "text",
         "hovertext": [
          "<b>Topic 4</b><br>Words: faulty, issue, error, ups5000, fix",
          "<b>Topic 4</b><br>Words: ups, warranty, uninterruptible power supply, apc, technical support",
          "<b>Topic 4</b><br>Words: complaint, faulty, resolved, issue, components",
          "<b>Topic 4</b><br>Words: ups, troubleshooting, uninterruptible power supply, repair, troubleshoot",
          "<b>Topic 4</b><br>Words: xvsv7bbn, uninterruptible power supply, troubleshooting, audio, ups",
          "<b>Topic 4</b><br>Words: troubleshooting, troubleshoot, complaint, ups, repair",
          "<b>Topic 4</b><br>Words: resolved, error, vfd, hp, solution",
          "<b>Topic 4</b><br>Words: maintenance, repair, warranty, battery, faulty",
          "<b>Topic 4</b><br>Words: troubleshooting, technical support, support, resolved, repair",
          "<b>Topic 4</b><br>Words: ups, uninterruptible power supply, warranty, repair, apc",
          "<b>Topic 4</b><br>Words: warranty, repaired, maintenance, repair, fuse",
          "<b>Topic 4</b><br>Words: ups, uninterruptible power supply, maintenance, technical support, batteries",
          "<b>Topic 4</b><br>Words: ups, uninterruptible power supply, power supply, reliability, warranty",
          "<b>Topic 4</b><br>Words: recovered, repair, broken, licenses, failure",
          "<b>Topic 4</b><br>Words: batteries, battery, ups, replaced, uninterruptible power supply",
          "<b>Topic 4</b><br>Words: error, troubleshooting, agency, fault, damages",
          "<b>Topic 4</b><br>Words: ups, technical support, uninterruptible power supply, troubleshooting, power supply",
          "<b>Topic 4</b><br>Words: troubleshooting, issue, error, repair, problem",
          "<b>Topic 4</b><br>Words: apc, ups, uninterruptible power supply, technical support, products",
          "<b>Topic 4</b><br>Words: repair, troubleshooting, repairs, technical support, defective",
          "<b>Topic 4</b><br>Words: repair, ups, complaint, defects, apc"
         ],
         "marker": {
          "color": "#D55E00"
         },
         "name": "Power Supply Issues",
         "orientation": "h",
         "type": "bar",
         "visible": "legendonly",
         "x": [
          8,
          462,
          8,
          90,
          2,
          4,
          3,
          30,
          1,
          21,
          4,
          186,
          73,
          1,
          1,
          1,
          66,
          3,
          2,
          8,
          11
         ],
         "y": [
          "desire",
          "neutral",
          "joy",
          "gratitude",
          "surprise",
          "annoyance",
          "realization",
          "disapproval",
          "relief",
          "confusion",
          "curiosity",
          "approval",
          "admiration",
          "sadness",
          "excitement",
          "embarrassment",
          "disappointment",
          "remorse",
          "love",
          "caring",
          "optimism"
         ]
        },
        {
         "hoverinfo": "text",
         "hovertext": [
          "<b>Topic 5</b><br>Words: technical support, promotional, sales, products, customers",
          "<b>Topic 5</b><br>Words: technical support, quality, customer service, reliability, services",
          "<b>Topic 5</b><br>Words: technical support, service support, technical service, reliability, support",
          "<b>Topic 5</b><br>Words: customer service, technical support, customers, reliable, manufacturers",
          "<b>Topic 5</b><br>Words: quality, reliability, reliable, materials, availability",
          "<b>Topic 5</b><br>Words: technical support, reliability, reliable, quality, supports",
          "<b>Topic 5</b><br>Words: reliability, reliable, technical support, products, product",
          "<b>Topic 5</b><br>Words: reliable, technical support, reliability, products, quality",
          "<b>Topic 5</b><br>Words: technical support, technical service, customer service, reliable, reliability",
          "<b>Topic 5</b><br>Words: reliability, reliable, technical support, quality, technology",
          "<b>Topic 5</b><br>Words: reliable, quality, reliability, product, products",
          "<b>Topic 5</b><br>Words: cooperation, feedback, fine, technical support, issues",
          "<b>Topic 5</b><br>Words: reliable, reliability, quality, technical support, stable"
         ],
         "marker": {
          "color": "#0072B2"
         },
         "name": "Customer Support",
         "orientation": "h",
         "type": "bar",
         "visible": "legendonly",
         "x": [
          1,
          192,
          15,
          11,
          1,
          18,
          3,
          248,
          310,
          12,
          5,
          3,
          6
         ],
         "y": [
          "desire",
          "neutral",
          "joy",
          "gratitude",
          "annoyance",
          "disapproval",
          "confusion",
          "approval",
          "admiration",
          "disappointment",
          "love",
          "caring",
          "optimism"
         ]
        },
        {
         "hoverinfo": "text",
         "hovertext": [
          "<b>Topic 6</b><br>Words: quality, products, pricing, product, rating",
          "<b>Topic 6</b><br>Words: rating, performance, quality, reliability, score",
          "<b>Topic 6</b><br>Words: pricing, customer support, quality, prices, satisfactory",
          "<b>Topic 6</b><br>Words: rating, ratings, quality, performance, pricing",
          "<b>Topic 6</b><br>Words: performance, rating, improvement, quality, pricing",
          "<b>Topic 6</b><br>Words: oil, prices, quality, cost, pricing",
          "<b>Topic 6</b><br>Words: zero, qa, rating, certification, score",
          "<b>Topic 6</b><br>Words: rating, quality, rate, feedback, sales",
          "<b>Topic 6</b><br>Words: prices, pricing, bad, discounts, price",
          "<b>Topic 6</b><br>Words: quality, pricing, rating, rate, evaluation",
          "<b>Topic 6</b><br>Words: rating, pricing, quality, prices, affordable",
          "<b>Topic 6</b><br>Words: rating, quality, reliability, performance, pricing",
          "<b>Topic 6</b><br>Words: rating, quality, evaluated, performance, score",
          "<b>Topic 6</b><br>Words: products, product, manufacturers, quality, overall",
          "<b>Topic 6</b><br>Words: products, efficiency, customer service, sales, performance",
          "<b>Topic 6</b><br>Words: rating, prices, performance, review, technical support"
         ],
         "marker": {
          "color": "#CC79A7"
         },
         "name": "Product Evaluation",
         "orientation": "h",
         "type": "bar",
         "visible": "legendonly",
         "x": [
          5,
          207,
          14,
          7,
          2,
          1,
          1,
          32,
          1,
          9,
          125,
          265,
          18,
          4,
          1,
          15
         ],
         "y": [
          "desire",
          "neutral",
          "joy",
          "gratitude",
          "annoyance",
          "realization",
          "amusement",
          "disapproval",
          "disgust",
          "confusion",
          "approval",
          "admiration",
          "disappointment",
          "love",
          "caring",
          "optimism"
         ]
        },
        {
         "hoverinfo": "text",
         "hovertext": [
          "<b>Topic 7</b><br>Words: pricing, prices, discount, price, invoice",
          "<b>Topic 7</b><br>Words: response time, delay, quotations, quotation, quotes",
          "<b>Topic 7</b><br>Words: quotation, text, payment, order, ordering",
          "<b>Topic 7</b><br>Words: pricing, prices, price, discount, increase",
          "<b>Topic 7</b><br>Words: pricing, invoice, orders, prices, order",
          "<b>Topic 7</b><br>Words: covd, orders, order, promptly, staffing",
          "<b>Topic 7</b><br>Words: quotations, quotation, emails, send, bidding",
          "<b>Topic 7</b><br>Words: quotation, quote, response time, replying, response",
          "<b>Topic 7</b><br>Words: pricing, prices, price, catalog, negotiate",
          "<b>Topic 7</b><br>Words: invoices, invoice, invoiced, pricing, payment",
          "<b>Topic 7</b><br>Words: quotes, quotation, quotations, response time, pricing",
          "<b>Topic 7</b><br>Words: invoices, invoice, customer support, payment, delivery date",
          "<b>Topic 7</b><br>Words: quotations, quotes, quotation, received, contact",
          "<b>Topic 7</b><br>Words: invoices, invoice, payment, purchase, pricing"
         ],
         "marker": {
          "color": "#E69F00"
         },
         "name": "Pricing",
         "orientation": "h",
         "type": "bar",
         "visible": "legendonly",
         "x": [
          336,
          2,
          11,
          3,
          7,
          1,
          25,
          15,
          4,
          45,
          38,
          25,
          3,
          4
         ],
         "y": [
          "neutral",
          "joy",
          "gratitude",
          "surprise",
          "annoyance",
          "realization",
          "disapproval",
          "confusion",
          "curiosity",
          "approval",
          "admiration",
          "disappointment",
          "caring",
          "optimism"
         ]
        },
        {
         "hoverinfo": "text",
         "hovertext": [
          "<b>Topic 8</b><br>Words: flexible, responsively, responsiveness, want, responsive",
          "<b>Topic 8</b><br>Words: feedback, responsiveness, responsive, efficiently, accuracy",
          "<b>Topic 8</b><br>Words: responsiveness, responsively, timely, rapid, quickly",
          "<b>Topic 8</b><br>Words: timely, unexpected, quickly, assistance, immediate",
          "<b>Topic 8</b><br>Words: feedback, lack, responsiveness, quality, response",
          "<b>Topic 8</b><br>Words: response time, feedback, processing, speed, commitment",
          "<b>Topic 8</b><br>Words: advice, guidance, advise, competent, competently",
          "<b>Topic 8</b><br>Words: responsiveness, responsively, responsive, effective, effectiveness",
          "<b>Topic 8</b><br>Words: assisted, assistance, helped, helpful, help",
          "<b>Topic 8</b><br>Words: responsiveness, feedback, responsively, responsive, slow",
          "<b>Topic 8</b><br>Words: helped, assistance, helpful, timely, quickly",
          "<b>Topic 8</b><br>Words: carpentry, efficient, efficiency, fast, rapid"
         ],
         "marker": {
          "color": "#56B4E9"
         },
         "name": "Assistance",
         "orientation": "h",
         "type": "bar",
         "visible": "legendonly",
         "x": [
          1,
          166,
          16,
          1,
          1,
          2,
          59,
          84,
          1,
          6,
          14,
          1
         ],
         "y": [
          "desire",
          "neutral",
          "gratitude",
          "surprise",
          "annoyance",
          "disapproval",
          "approval",
          "admiration",
          "sadness",
          "disappointment",
          "caring",
          "optimism"
         ]
        },
        {
         "hoverinfo": "text",
         "hovertext": [
          "<b>Topic 9</b><br>Words: touch screen, touch panel, screen, screens, datasheets",
          "<b>Topic 9</b><br>Words: plc, touch panel, siemens, panel, lamp",
          "<b>Topic 9</b><br>Words: touch panel, manufacturers, touch screen, manufacturer, siemens",
          "<b>Topic 9</b><br>Words: touch panel, touch screen, displays, screens, gp4000",
          "<b>Topic 9</b><br>Words: gp2501, propb3, gpproex, touch panel, touch screen",
          "<b>Topic 9</b><br>Words: pfxgp4301tad, pfxgp4501tad, gp4300, gp4000, gpproex",
          "<b>Topic 9</b><br>Words: invoices, invoicing, siemens, touch panel, certificates",
          "<b>Topic 9</b><br>Words: oem, technical support, siemens, software, usability",
          "<b>Topic 9</b><br>Words: screen, touch screen, outdated, screens, indecent",
          "<b>Topic 9</b><br>Words: touch panel, firmware, merger, manufacturers, contact person",
          "<b>Topic 9</b><br>Words: catalogue, backplates, costs, siemens, cabinets",
          "<b>Topic 9</b><br>Words: displays, touch screen, screens, touch panel, gp4000",
          "<b>Topic 9</b><br>Words: siemens, bpx, tsx, companies, displays",
          "<b>Topic 9</b><br>Words: pfxpu2bdcd8bj0nn00, sp5000, connect, sequencer, proface",
          "<b>Topic 9</b><br>Words: touch panel, touch screen, panel, reliability, touch",
          "<b>Topic 9</b><br>Words: siemens, companies, ab, greedy, manufacturers",
          "<b>Topic 9</b><br>Words: gp430, gp4301, touch screen, touch panel, gp4000"
         ],
         "marker": {
          "color": "#009E73"
         },
         "name": "Touch Screens",
         "orientation": "h",
         "type": "bar",
         "visible": "legendonly",
         "x": [
          6,
          1,
          161,
          3,
          2,
          4,
          2,
          13,
          1,
          7,
          3,
          40,
          23,
          1,
          9,
          1,
          11
         ],
         "y": [
          "desire",
          "fear",
          "neutral",
          "joy",
          "nervousness",
          "gratitude",
          "annoyance",
          "disapproval",
          "disgust",
          "confusion",
          "curiosity",
          "approval",
          "admiration",
          "sadness",
          "disappointment",
          "caring",
          "optimism"
         ]
        },
        {
         "hoverinfo": "text",
         "hovertext": [
          "<b>Topic 10</b><br>Words: frequency converters, converters, converter, frequency, technical support",
          "<b>Topic 10</b><br>Words: frequency converters, converters, converter, frequency, quality",
          "<b>Topic 10</b><br>Words: frequency converters, converters, converter, frequency, hz",
          "<b>Topic 10</b><br>Words: frequency converters, frequency, manufacturers, converters, complaints",
          "<b>Topic 10</b><br>Words: frequency converters, technical support, customer service, converters, reliability",
          "<b>Topic 10</b><br>Words: frequency converters, converters, frequency, fuses, equipment",
          "<b>Topic 10</b><br>Words: frequency converters, frequency, converters, performance, drivers",
          "<b>Topic 10</b><br>Words: frequency converters, converters, frequency, converter, reason",
          "<b>Topic 10</b><br>Words: frequency converters, contactors, technical support, converters, customer support",
          "<b>Topic 10</b><br>Words: frequency converters, converters, customer support, converter, customer service",
          "<b>Topic 10</b><br>Words: frequency converters, converters, frequency, customer service, availability",
          "<b>Topic 10</b><br>Words: frequency converters, electrical, electric, converters, converter",
          "<b>Topic 10</b><br>Words: frequency converters, frequency, converters, converter, noisy"
         ],
         "marker": {
          "color": "#F0E442"
         },
         "name": "Frequency Converters",
         "orientation": "h",
         "type": "bar",
         "visible": "legendonly",
         "x": [
          72,
          5,
          6,
          2,
          2,
          13,
          8,
          1,
          52,
          55,
          23,
          1,
          2
         ],
         "y": [
          "neutral",
          "joy",
          "gratitude",
          "surprise",
          "annoyance",
          "disapproval",
          "confusion",
          "curiosity",
          "approval",
          "admiration",
          "disappointment",
          "love",
          "optimism"
         ]
        },
        {
         "hoverinfo": "text",
         "hovertext": [
          "<b>Topic 11</b><br>Words: service, welcome, appreciate, excellent, helpful",
          "<b>Topic 11</b><br>Words: service, excellent, appreciate, welcome, helpful"
         ],
         "marker": {
          "color": "#D55E00"
         },
         "name": "Positive feedback",
         "orientation": "h",
         "type": "bar",
         "visible": "legendonly",
         "x": [
          16,
          118
         ],
         "y": [
          "gratitude",
          "admiration"
         ]
        },
        {
         "hoverinfo": "text",
         "hovertext": [
          "<b>Topic 12</b><br>Words: quick response, response, quick, short, reply",
          "<b>Topic 12</b><br>Words: quick response, quick, response, quicker, regards",
          "<b>Topic 12</b><br>Words: quick response, quick, response, appreciate, fast"
         ],
         "marker": {
          "color": "#0072B2"
         },
         "name": "Quick Customer Service",
         "orientation": "h",
         "type": "bar",
         "visible": "legendonly",
         "x": [
          51,
          50,
          2
         ],
         "y": [
          "neutral",
          "gratitude",
          "admiration"
         ]
        }
       ],
       "layout": {
        "height": 900,
        "hoverlabel": {
         "bgcolor": "white",
         "font": {
          "family": "Rockwell",
          "size": 16
         }
        },
        "legend": {
         "title": {
          "text": "<b>Global Topic Representation"
         }
        },
        "template": {
         "data": {
          "bar": [
           {
            "error_x": {
             "color": "rgb(36,36,36)"
            },
            "error_y": {
             "color": "rgb(36,36,36)"
            },
            "marker": {
             "line": {
              "color": "white",
              "width": 0.5
             },
             "pattern": {
              "fillmode": "overlay",
              "size": 10,
              "solidity": 0.2
             }
            },
            "type": "bar"
           }
          ],
          "barpolar": [
           {
            "marker": {
             "line": {
              "color": "white",
              "width": 0.5
             },
             "pattern": {
              "fillmode": "overlay",
              "size": 10,
              "solidity": 0.2
             }
            },
            "type": "barpolar"
           }
          ],
          "carpet": [
           {
            "aaxis": {
             "endlinecolor": "rgb(36,36,36)",
             "gridcolor": "white",
             "linecolor": "white",
             "minorgridcolor": "white",
             "startlinecolor": "rgb(36,36,36)"
            },
            "baxis": {
             "endlinecolor": "rgb(36,36,36)",
             "gridcolor": "white",
             "linecolor": "white",
             "minorgridcolor": "white",
             "startlinecolor": "rgb(36,36,36)"
            },
            "type": "carpet"
           }
          ],
          "choropleth": [
           {
            "colorbar": {
             "outlinewidth": 1,
             "tickcolor": "rgb(36,36,36)",
             "ticks": "outside"
            },
            "type": "choropleth"
           }
          ],
          "contour": [
           {
            "colorbar": {
             "outlinewidth": 1,
             "tickcolor": "rgb(36,36,36)",
             "ticks": "outside"
            },
            "colorscale": [
             [
              0,
              "#440154"
             ],
             [
              0.1111111111111111,
              "#482878"
             ],
             [
              0.2222222222222222,
              "#3e4989"
             ],
             [
              0.3333333333333333,
              "#31688e"
             ],
             [
              0.4444444444444444,
              "#26828e"
             ],
             [
              0.5555555555555556,
              "#1f9e89"
             ],
             [
              0.6666666666666666,
              "#35b779"
             ],
             [
              0.7777777777777778,
              "#6ece58"
             ],
             [
              0.8888888888888888,
              "#b5de2b"
             ],
             [
              1,
              "#fde725"
             ]
            ],
            "type": "contour"
           }
          ],
          "contourcarpet": [
           {
            "colorbar": {
             "outlinewidth": 1,
             "tickcolor": "rgb(36,36,36)",
             "ticks": "outside"
            },
            "type": "contourcarpet"
           }
          ],
          "heatmap": [
           {
            "colorbar": {
             "outlinewidth": 1,
             "tickcolor": "rgb(36,36,36)",
             "ticks": "outside"
            },
            "colorscale": [
             [
              0,
              "#440154"
             ],
             [
              0.1111111111111111,
              "#482878"
             ],
             [
              0.2222222222222222,
              "#3e4989"
             ],
             [
              0.3333333333333333,
              "#31688e"
             ],
             [
              0.4444444444444444,
              "#26828e"
             ],
             [
              0.5555555555555556,
              "#1f9e89"
             ],
             [
              0.6666666666666666,
              "#35b779"
             ],
             [
              0.7777777777777778,
              "#6ece58"
             ],
             [
              0.8888888888888888,
              "#b5de2b"
             ],
             [
              1,
              "#fde725"
             ]
            ],
            "type": "heatmap"
           }
          ],
          "heatmapgl": [
           {
            "colorbar": {
             "outlinewidth": 1,
             "tickcolor": "rgb(36,36,36)",
             "ticks": "outside"
            },
            "colorscale": [
             [
              0,
              "#440154"
             ],
             [
              0.1111111111111111,
              "#482878"
             ],
             [
              0.2222222222222222,
              "#3e4989"
             ],
             [
              0.3333333333333333,
              "#31688e"
             ],
             [
              0.4444444444444444,
              "#26828e"
             ],
             [
              0.5555555555555556,
              "#1f9e89"
             ],
             [
              0.6666666666666666,
              "#35b779"
             ],
             [
              0.7777777777777778,
              "#6ece58"
             ],
             [
              0.8888888888888888,
              "#b5de2b"
             ],
             [
              1,
              "#fde725"
             ]
            ],
            "type": "heatmapgl"
           }
          ],
          "histogram": [
           {
            "marker": {
             "line": {
              "color": "white",
              "width": 0.6
             }
            },
            "type": "histogram"
           }
          ],
          "histogram2d": [
           {
            "colorbar": {
             "outlinewidth": 1,
             "tickcolor": "rgb(36,36,36)",
             "ticks": "outside"
            },
            "colorscale": [
             [
              0,
              "#440154"
             ],
             [
              0.1111111111111111,
              "#482878"
             ],
             [
              0.2222222222222222,
              "#3e4989"
             ],
             [
              0.3333333333333333,
              "#31688e"
             ],
             [
              0.4444444444444444,
              "#26828e"
             ],
             [
              0.5555555555555556,
              "#1f9e89"
             ],
             [
              0.6666666666666666,
              "#35b779"
             ],
             [
              0.7777777777777778,
              "#6ece58"
             ],
             [
              0.8888888888888888,
              "#b5de2b"
             ],
             [
              1,
              "#fde725"
             ]
            ],
            "type": "histogram2d"
           }
          ],
          "histogram2dcontour": [
           {
            "colorbar": {
             "outlinewidth": 1,
             "tickcolor": "rgb(36,36,36)",
             "ticks": "outside"
            },
            "colorscale": [
             [
              0,
              "#440154"
             ],
             [
              0.1111111111111111,
              "#482878"
             ],
             [
              0.2222222222222222,
              "#3e4989"
             ],
             [
              0.3333333333333333,
              "#31688e"
             ],
             [
              0.4444444444444444,
              "#26828e"
             ],
             [
              0.5555555555555556,
              "#1f9e89"
             ],
             [
              0.6666666666666666,
              "#35b779"
             ],
             [
              0.7777777777777778,
              "#6ece58"
             ],
             [
              0.8888888888888888,
              "#b5de2b"
             ],
             [
              1,
              "#fde725"
             ]
            ],
            "type": "histogram2dcontour"
           }
          ],
          "mesh3d": [
           {
            "colorbar": {
             "outlinewidth": 1,
             "tickcolor": "rgb(36,36,36)",
             "ticks": "outside"
            },
            "type": "mesh3d"
           }
          ],
          "parcoords": [
           {
            "line": {
             "colorbar": {
              "outlinewidth": 1,
              "tickcolor": "rgb(36,36,36)",
              "ticks": "outside"
             }
            },
            "type": "parcoords"
           }
          ],
          "pie": [
           {
            "automargin": true,
            "type": "pie"
           }
          ],
          "scatter": [
           {
            "fillpattern": {
             "fillmode": "overlay",
             "size": 10,
             "solidity": 0.2
            },
            "type": "scatter"
           }
          ],
          "scatter3d": [
           {
            "line": {
             "colorbar": {
              "outlinewidth": 1,
              "tickcolor": "rgb(36,36,36)",
              "ticks": "outside"
             }
            },
            "marker": {
             "colorbar": {
              "outlinewidth": 1,
              "tickcolor": "rgb(36,36,36)",
              "ticks": "outside"
             }
            },
            "type": "scatter3d"
           }
          ],
          "scattercarpet": [
           {
            "marker": {
             "colorbar": {
              "outlinewidth": 1,
              "tickcolor": "rgb(36,36,36)",
              "ticks": "outside"
             }
            },
            "type": "scattercarpet"
           }
          ],
          "scattergeo": [
           {
            "marker": {
             "colorbar": {
              "outlinewidth": 1,
              "tickcolor": "rgb(36,36,36)",
              "ticks": "outside"
             }
            },
            "type": "scattergeo"
           }
          ],
          "scattergl": [
           {
            "marker": {
             "colorbar": {
              "outlinewidth": 1,
              "tickcolor": "rgb(36,36,36)",
              "ticks": "outside"
             }
            },
            "type": "scattergl"
           }
          ],
          "scattermapbox": [
           {
            "marker": {
             "colorbar": {
              "outlinewidth": 1,
              "tickcolor": "rgb(36,36,36)",
              "ticks": "outside"
             }
            },
            "type": "scattermapbox"
           }
          ],
          "scatterpolar": [
           {
            "marker": {
             "colorbar": {
              "outlinewidth": 1,
              "tickcolor": "rgb(36,36,36)",
              "ticks": "outside"
             }
            },
            "type": "scatterpolar"
           }
          ],
          "scatterpolargl": [
           {
            "marker": {
             "colorbar": {
              "outlinewidth": 1,
              "tickcolor": "rgb(36,36,36)",
              "ticks": "outside"
             }
            },
            "type": "scatterpolargl"
           }
          ],
          "scatterternary": [
           {
            "marker": {
             "colorbar": {
              "outlinewidth": 1,
              "tickcolor": "rgb(36,36,36)",
              "ticks": "outside"
             }
            },
            "type": "scatterternary"
           }
          ],
          "surface": [
           {
            "colorbar": {
             "outlinewidth": 1,
             "tickcolor": "rgb(36,36,36)",
             "ticks": "outside"
            },
            "colorscale": [
             [
              0,
              "#440154"
             ],
             [
              0.1111111111111111,
              "#482878"
             ],
             [
              0.2222222222222222,
              "#3e4989"
             ],
             [
              0.3333333333333333,
              "#31688e"
             ],
             [
              0.4444444444444444,
              "#26828e"
             ],
             [
              0.5555555555555556,
              "#1f9e89"
             ],
             [
              0.6666666666666666,
              "#35b779"
             ],
             [
              0.7777777777777778,
              "#6ece58"
             ],
             [
              0.8888888888888888,
              "#b5de2b"
             ],
             [
              1,
              "#fde725"
             ]
            ],
            "type": "surface"
           }
          ],
          "table": [
           {
            "cells": {
             "fill": {
              "color": "rgb(237,237,237)"
             },
             "line": {
              "color": "white"
             }
            },
            "header": {
             "fill": {
              "color": "rgb(217,217,217)"
             },
             "line": {
              "color": "white"
             }
            },
            "type": "table"
           }
          ]
         },
         "layout": {
          "annotationdefaults": {
           "arrowhead": 0,
           "arrowwidth": 1
          },
          "autotypenumbers": "strict",
          "coloraxis": {
           "colorbar": {
            "outlinewidth": 1,
            "tickcolor": "rgb(36,36,36)",
            "ticks": "outside"
           }
          },
          "colorscale": {
           "diverging": [
            [
             0,
             "rgb(103,0,31)"
            ],
            [
             0.1,
             "rgb(178,24,43)"
            ],
            [
             0.2,
             "rgb(214,96,77)"
            ],
            [
             0.3,
             "rgb(244,165,130)"
            ],
            [
             0.4,
             "rgb(253,219,199)"
            ],
            [
             0.5,
             "rgb(247,247,247)"
            ],
            [
             0.6,
             "rgb(209,229,240)"
            ],
            [
             0.7,
             "rgb(146,197,222)"
            ],
            [
             0.8,
             "rgb(67,147,195)"
            ],
            [
             0.9,
             "rgb(33,102,172)"
            ],
            [
             1,
             "rgb(5,48,97)"
            ]
           ],
           "sequential": [
            [
             0,
             "#440154"
            ],
            [
             0.1111111111111111,
             "#482878"
            ],
            [
             0.2222222222222222,
             "#3e4989"
            ],
            [
             0.3333333333333333,
             "#31688e"
            ],
            [
             0.4444444444444444,
             "#26828e"
            ],
            [
             0.5555555555555556,
             "#1f9e89"
            ],
            [
             0.6666666666666666,
             "#35b779"
            ],
            [
             0.7777777777777778,
             "#6ece58"
            ],
            [
             0.8888888888888888,
             "#b5de2b"
            ],
            [
             1,
             "#fde725"
            ]
           ],
           "sequentialminus": [
            [
             0,
             "#440154"
            ],
            [
             0.1111111111111111,
             "#482878"
            ],
            [
             0.2222222222222222,
             "#3e4989"
            ],
            [
             0.3333333333333333,
             "#31688e"
            ],
            [
             0.4444444444444444,
             "#26828e"
            ],
            [
             0.5555555555555556,
             "#1f9e89"
            ],
            [
             0.6666666666666666,
             "#35b779"
            ],
            [
             0.7777777777777778,
             "#6ece58"
            ],
            [
             0.8888888888888888,
             "#b5de2b"
            ],
            [
             1,
             "#fde725"
            ]
           ]
          },
          "colorway": [
           "#1F77B4",
           "#FF7F0E",
           "#2CA02C",
           "#D62728",
           "#9467BD",
           "#8C564B",
           "#E377C2",
           "#7F7F7F",
           "#BCBD22",
           "#17BECF"
          ],
          "font": {
           "color": "rgb(36,36,36)"
          },
          "geo": {
           "bgcolor": "white",
           "lakecolor": "white",
           "landcolor": "white",
           "showlakes": true,
           "showland": true,
           "subunitcolor": "white"
          },
          "hoverlabel": {
           "align": "left"
          },
          "hovermode": "closest",
          "mapbox": {
           "style": "light"
          },
          "paper_bgcolor": "white",
          "plot_bgcolor": "white",
          "polar": {
           "angularaxis": {
            "gridcolor": "rgb(232,232,232)",
            "linecolor": "rgb(36,36,36)",
            "showgrid": false,
            "showline": true,
            "ticks": "outside"
           },
           "bgcolor": "white",
           "radialaxis": {
            "gridcolor": "rgb(232,232,232)",
            "linecolor": "rgb(36,36,36)",
            "showgrid": false,
            "showline": true,
            "ticks": "outside"
           }
          },
          "scene": {
           "xaxis": {
            "backgroundcolor": "white",
            "gridcolor": "rgb(232,232,232)",
            "gridwidth": 2,
            "linecolor": "rgb(36,36,36)",
            "showbackground": true,
            "showgrid": false,
            "showline": true,
            "ticks": "outside",
            "zeroline": false,
            "zerolinecolor": "rgb(36,36,36)"
           },
           "yaxis": {
            "backgroundcolor": "white",
            "gridcolor": "rgb(232,232,232)",
            "gridwidth": 2,
            "linecolor": "rgb(36,36,36)",
            "showbackground": true,
            "showgrid": false,
            "showline": true,
            "ticks": "outside",
            "zeroline": false,
            "zerolinecolor": "rgb(36,36,36)"
           },
           "zaxis": {
            "backgroundcolor": "white",
            "gridcolor": "rgb(232,232,232)",
            "gridwidth": 2,
            "linecolor": "rgb(36,36,36)",
            "showbackground": true,
            "showgrid": false,
            "showline": true,
            "ticks": "outside",
            "zeroline": false,
            "zerolinecolor": "rgb(36,36,36)"
           }
          },
          "shapedefaults": {
           "fillcolor": "black",
           "line": {
            "width": 0
           },
           "opacity": 0.3
          },
          "ternary": {
           "aaxis": {
            "gridcolor": "rgb(232,232,232)",
            "linecolor": "rgb(36,36,36)",
            "showgrid": false,
            "showline": true,
            "ticks": "outside"
           },
           "baxis": {
            "gridcolor": "rgb(232,232,232)",
            "linecolor": "rgb(36,36,36)",
            "showgrid": false,
            "showline": true,
            "ticks": "outside"
           },
           "bgcolor": "white",
           "caxis": {
            "gridcolor": "rgb(232,232,232)",
            "linecolor": "rgb(36,36,36)",
            "showgrid": false,
            "showline": true,
            "ticks": "outside"
           }
          },
          "title": {
           "x": 0.05
          },
          "xaxis": {
           "automargin": true,
           "gridcolor": "rgb(232,232,232)",
           "linecolor": "rgb(36,36,36)",
           "showgrid": false,
           "showline": true,
           "ticks": "outside",
           "title": {
            "standoff": 15
           },
           "zeroline": false,
           "zerolinecolor": "rgb(36,36,36)"
          },
          "yaxis": {
           "automargin": true,
           "gridcolor": "rgb(232,232,232)",
           "linecolor": "rgb(36,36,36)",
           "showgrid": false,
           "showline": true,
           "ticks": "outside",
           "title": {
            "standoff": 15
           },
           "zeroline": false,
           "zerolinecolor": "rgb(36,36,36)"
          }
         }
        },
        "title": {
         "font": {
          "color": "Black",
          "size": 22
         },
         "text": "<b>Topics per Class</b>",
         "x": 0.4,
         "xanchor": "center",
         "y": 0.95,
         "yanchor": "top"
        },
        "width": 1250,
        "xaxis": {
         "showgrid": true,
         "title": {
          "text": "Frequency"
         }
        },
        "yaxis": {
         "showgrid": true,
         "title": {
          "text": "Class"
         }
        }
       }
      }
     },
     "metadata": {},
     "output_type": "display_data"
    }
   ],
   "source": [
    "# visualize the topic representation of major topics per class:\n",
    "topics_per_emotion = topic_model_merged.topics_per_class(df3[\"allComment\"].astype(str).tolist(), classes=df3.single_emotion_label.to_list())\n",
    "topic_model_merged.visualize_topics_per_class(topics_per_emotion, top_n_topics=30, custom_labels=True)"
   ]
  },
  {
   "cell_type": "code",
   "execution_count": 22,
   "metadata": {},
   "outputs": [
    {
     "data": {
      "text/plain": [
       "'1.23.5'"
      ]
     },
     "execution_count": 22,
     "metadata": {},
     "output_type": "execute_result"
    }
   ],
   "source": []
  },
  {
   "cell_type": "code",
   "execution_count": null,
   "metadata": {},
   "outputs": [],
   "source": []
  }
 ],
 "metadata": {
  "kernelspec": {
   "display_name": "wassati",
   "language": "python",
   "name": "python3"
  },
  "language_info": {
   "codemirror_mode": {
    "name": "ipython",
    "version": 3
   },
   "file_extension": ".py",
   "mimetype": "text/x-python",
   "name": "python",
   "nbconvert_exporter": "python",
   "pygments_lexer": "ipython3",
   "version": "3.9.17"
  },
  "orig_nbformat": 4
 },
 "nbformat": 4,
 "nbformat_minor": 2
}
