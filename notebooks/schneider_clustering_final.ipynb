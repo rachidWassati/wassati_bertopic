{
 "cells": [
  {
   "cell_type": "code",
   "execution_count": 1,
   "metadata": {},
   "outputs": [
    {
     "name": "stderr",
     "output_type": "stream",
     "text": [
      "/home/cattiaux/anaconda3/envs/wassati/lib/python3.9/site-packages/tqdm/auto.py:21: TqdmWarning: IProgress not found. Please update jupyter and ipywidgets. See https://ipywidgets.readthedocs.io/en/stable/user_install.html\n",
      "  from .autonotebook import tqdm as notebook_tqdm\n",
      "/home/cattiaux/anaconda3/envs/wassati/lib/python3.9/site-packages/umap/distances.py:1063: NumbaDeprecationWarning: The 'nopython' keyword argument was not supplied to the 'numba.jit' decorator. The implicit default value for this argument is currently False, but it will be changed to True in Numba 0.59.0. See https://numba.readthedocs.io/en/stable/reference/deprecation.html#deprecation-of-object-mode-fall-back-behaviour-when-using-jit for details.\n",
      "  @numba.jit()\n",
      "/home/cattiaux/anaconda3/envs/wassati/lib/python3.9/site-packages/umap/distances.py:1071: NumbaDeprecationWarning: The 'nopython' keyword argument was not supplied to the 'numba.jit' decorator. The implicit default value for this argument is currently False, but it will be changed to True in Numba 0.59.0. See https://numba.readthedocs.io/en/stable/reference/deprecation.html#deprecation-of-object-mode-fall-back-behaviour-when-using-jit for details.\n",
      "  @numba.jit()\n",
      "/home/cattiaux/anaconda3/envs/wassati/lib/python3.9/site-packages/umap/distances.py:1086: NumbaDeprecationWarning: The 'nopython' keyword argument was not supplied to the 'numba.jit' decorator. The implicit default value for this argument is currently False, but it will be changed to True in Numba 0.59.0. See https://numba.readthedocs.io/en/stable/reference/deprecation.html#deprecation-of-object-mode-fall-back-behaviour-when-using-jit for details.\n",
      "  @numba.jit()\n",
      "/home/cattiaux/anaconda3/envs/wassati/lib/python3.9/site-packages/umap/umap_.py:660: NumbaDeprecationWarning: The 'nopython' keyword argument was not supplied to the 'numba.jit' decorator. The implicit default value for this argument is currently False, but it will be changed to True in Numba 0.59.0. See https://numba.readthedocs.io/en/stable/reference/deprecation.html#deprecation-of-object-mode-fall-back-behaviour-when-using-jit for details.\n",
      "  @numba.jit()\n"
     ]
    },
    {
     "data": {
      "text/plain": [
       "True"
      ]
     },
     "execution_count": 1,
     "metadata": {},
     "output_type": "execute_result"
    }
   ],
   "source": [
    "import pandas as pd\n",
    "import numpy as np\n",
    "import matplotlib.pyplot as plt\n",
    "import nltk\n",
    "import pickle\n",
    "import string, re\n",
    "from tqdm import tqdm\n",
    "from wordcloud import WordCloud\n",
    "\n",
    "from transformers import AutoTokenizer, AutoModelForSequenceClassification, TrainingArguments, Trainer, pipeline, DataCollatorWithPadding\n",
    "import torch\n",
    "from bertopic import BERTopic\n",
    "from bertopic.vectorizers import ClassTfidfTransformer\n",
    "from bertopic.representation import KeyBERTInspired, MaximalMarginalRelevance\n",
    "from sklearn.feature_extraction.text import CountVectorizer, TfidfVectorizer\n",
    "from umap import UMAP\n",
    "from sentence_transformers import SentenceTransformer\n",
    "from keybert import KeyBERT\n",
    "\n",
    "# vocabulary stored in cache to avoid compute it every time \n",
    "vocabulary_cache = {}\n",
    "# embeddings stored in cache to avoid compute it every time \n",
    "embeddings_cache = {}\n",
    "\n",
    "torch.cuda.is_available()"
   ]
  },
  {
   "cell_type": "code",
   "execution_count": null,
   "metadata": {},
   "outputs": [],
   "source": [
    "############################# STEP 1 - PREPROCESS DATA ######################################\n",
    "\n",
    "\n",
    "# Read the excel review file\n",
    "df = pd.read_excel(\"/media/cattiaux/DATA/Wassati/team_data/schneider/OEM_Verbatims_base.xlsx\", engine='openpyxl')\n",
    "\n",
    "# Filter the countries we want to copy the original comment (those in english) in the translation column for comment\n",
    "# Define the list of countries you want to update\n",
    "countries_to_update = ['Australia', 'Canada', 'Egypt','India','Ireland','Kuwait','Malaysia','New Zealand','Oman','Pakistan','Qatar','Saudi Arabia','Singapore','South Africa','USA','Taiwan','United Arab Emirates','United Kingdom']\n",
    "# Concatenate all comment column with english content\n",
    "columns_to_join = ['Translation_Customer_Comments', 'Translation_Overall_Additional_Comments', 'Translation_Anything_Else_Comment', 'Translation_Reason_for_Score_Comment']\n",
    "# Define a list of words to filter\n",
    "words_to_filter = ['no','not','none','nil','ok','okay','ras','done','nothing','hi','all','thanks','well','everything','right','very','no problem','great','good','bad','excellent','particularly']\n",
    "\n",
    "# Define a dictionary of words replacements\n",
    "replacements = {' se ': ' schneider electric ',\n",
    "                'delivery dates': 'delivery date',\n",
    "                'time delivery': 'delivery time',\n",
    "                'delivered time': 'delivery time',\n",
    "                'solved problem': 'solve problem',\n",
    "                'solve problems': 'solve problem',\n",
    "                'tech support': 'technical support',\n",
    "                'circuit breaker': 'circuit breakers',\n",
    "                'called back': 'call back',\n",
    "                'lead times': 'lead time',\n",
    "                'leadtime': 'lead time',\n",
    "                'support service': 'service support',\n",
    "                'sales representatives': 'sales representative',\n",
    "                'service sales': 'sales service',\n",
    "                'account managers': 'account manager',\n",
    "                'power supplies': 'power supply',\n",
    "                'touch panels': 'touch panel',\n",
    "                'touch screens': 'touch screen',\n",
    "                'frequency inverter': 'frequency inverters',\n",
    "                'frequency converter': 'frequency converters',\n",
    "                'servo motor': 'servo motors',\n",
    "                'servomotor': 'servo motors',\n",
    "                'servomotors': 'servo motors',\n",
    "                'control system': 'control systems',\n",
    "                'electrical component': 'electrical components',\n",
    "                'control cabinet': 'control cabinets',\n",
    "                'speed drive': 'speed drives',\n",
    "                'push button': 'push buttons',\n",
    "                'touchscreen': 'touch screen',\n",
    "                'spare parts': 'spare part',\n",
    "                'becuase': 'because',\n",
    "                'xxxx': ''\n",
    "                }\n",
    "\n",
    "def filter_and_join_columns(df, columns_to_join, join_column_name, words_to_filter, sep):\n",
    "    \"\"\"\n",
    "    Filter rows of a DataFrame where any of the specified columns contains only punctuation marks or only one or more occurrences of the specified words, possibly mixed with punctuation marks, and then join the content from the specified columns using a separator.\n",
    "    \n",
    "    :param df: A DataFrame to filter and join\n",
    "    :type df: pandas.DataFrame\n",
    "    :param columns_to_join: A list of column names to join\n",
    "    :type columns_to_join: list of str\n",
    "    :param words_to_filter: A list of words to filter\n",
    "    :type words_to_filter: list of str\n",
    "    :param sep: A separator string to use between values when joining columns\n",
    "    :type sep: str\n",
    "    :return: A DataFrame containing the filtered and joined rows\n",
    "    :rtype: pandas.DataFrame\n",
    "    \"\"\"\n",
    "    # Create a regular expression pattern to match values that contain only punctuation marks or only one or more occurrences of the specified words, possibly mixed with punctuation marks\n",
    "    pattern = r'^\\s*[\\W\\s]*\\s*$|^\\s*(\\W*\\b(' + '|'.join(re.escape(word) for word in words_to_filter) + r')\\b\\W*)+\\s*$'\n",
    "    \n",
    "    # Define a custom function to filter rows where any of the specified columns contains only punctuation marks or only one or more occurrences of the specified words, possibly mixed with punctuation marks. It filters also the non-ASCII characters\n",
    "    def filter_rows(row):\n",
    "        for col in columns_to_join:\n",
    "            value = row[col]\n",
    "            if pd.notnull(value):\n",
    "                # Filter out non-ASCII characters from the value\n",
    "                value = value.encode('ascii', 'ignore').decode('ascii')\n",
    "                if re.search(pattern, value, re.IGNORECASE):\n",
    "                    return False\n",
    "        return True\n",
    "    \n",
    "    # Filter the DataFrame using the custom filter_rows function\n",
    "    filtered_df = df[df.apply(filter_rows, axis=1)]\n",
    "    \n",
    "    # Define a custom function to join the content from the specified columns using a separator\n",
    "    def join_columns(row):\n",
    "        values = []\n",
    "        for col in columns_to_join:\n",
    "            value = row[col]\n",
    "            if pd.notnull(value) and value.strip():\n",
    "                if values and values[-1][-1] not in string.punctuation:\n",
    "                    values.append(sep)\n",
    "                else:\n",
    "                    values.append(' ')\n",
    "                values.append(value)\n",
    "        return ''.join(values).strip()\n",
    "    \n",
    "    # Join the content from the specified columns using the custom join_columns function\n",
    "    filtered_df[join_column_name] = filtered_df.apply(join_columns, axis=1)\n",
    "\n",
    "    # Return the resulting DataFrame containing the filtered and joined rows\n",
    "    return filtered_df[filtered_df[join_column_name].str.len() > 0]\n",
    "\n",
    "def preprocess_data(df, countries_to_update, columns_to_join, join_column_name, words_to_filter, replacements):\n",
    "    \"\"\"\n",
    "    Preprocess a DataFrame of data.\n",
    "\n",
    "    This function takes a DataFrame of data, a list of countries to update, a list of columns to join and a list of words to filter as input. It adds additional columns to the DataFrame, renames some columns for readability, updates the translation columns for specific rows, and concatenates all comment columns with English content. The modified DataFrame is then returned.\n",
    "\n",
    "    :param df: A DataFrame of input data.\n",
    "    :param countries_to_update: A list of countries for which to update the translation columns.\n",
    "    :param columns_to_join: A list of columns to join.\n",
    "    :param words_to_filter: A list of words to filter.\n",
    "    :return: A modified DataFrame with additional columns, renamed columns, updated translation columns, and concatenated comment columns.\n",
    "    \"\"\"\n",
    "\n",
    "    # add some additional info as columns\n",
    "    df['year'] = pd.DatetimeIndex(df[\"Creation Date\"]).year\n",
    "    df['id'] = range(len(df))\n",
    "    \n",
    "    # Rename columns for readability\n",
    "    df = df.rename(columns={\n",
    "        'Translation to English for: Customer Comments (edited)': 'Translation_Customer_Comments',\n",
    "        'Customer Comments (edited)': 'Customer_Comments',\n",
    "        'Translation to English for: Overall Additional Comments (edited)': 'Translation_Overall_Additional_Comments',\n",
    "        'Overall Additional Comments (edited)': 'Overall_Additional_Comments',\n",
    "        'Translation to English for: Anything else comment': 'Translation_Anything_Else_Comment',\n",
    "        'Anything else comment': 'Anything_Else_Comment',\n",
    "        'Translation to English for: Reason for score comment': 'Translation_Reason_for_Score_Comment',\n",
    "        'Reason for score comment': 'Reason_for_Score_Comment'\n",
    "    })\n",
    "\n",
    "    # Create a mask to filter the rows where the 'Account Countries' column is in the list of countries to update\n",
    "    mask1 = df['Account Country'].isin(countries_to_update)\n",
    "\n",
    "    # Update the translation columns only for the rows where the mask1 is True\n",
    "    mask2 = ((df['Customer_Comments'] != '') & df['Customer_Comments'].notnull()) & df['Translation_Customer_Comments'].isnull()\n",
    "    mask = mask1 & mask2\n",
    "    df.loc[mask, 'Translation_Customer_Comments'] = df.loc[mask, 'Customer_Comments']\n",
    "\n",
    "    mask2 = ((df['Overall_Additional_Comments'] != '') & df['Overall_Additional_Comments'].notnull()) & df['Translation_Overall_Additional_Comments'].isnull()\n",
    "    mask = mask1 & mask2\n",
    "    df.loc[mask, 'Translation_Overall_Additional_Comments'] = df.loc[mask, 'Overall_Additional_Comments']\n",
    "\n",
    "    mask2 = ((df['Anything_Else_Comment'] != '') & df['Anything_Else_Comment'].notnull()) & df['Translation_Anything_Else_Comment'].isnull()\n",
    "    mask = mask1 & mask2\n",
    "    df.loc[mask, 'Translation_Anything_Else_Comment'] = df.loc[mask, 'Anything_Else_Comment']\n",
    "\n",
    "    mask2 = ((df['Reason_for_Score_Comment'] != '') & df['Reason_for_Score_Comment'].notnull()) & df['Translation_Reason_for_Score_Comment'].isnull()\n",
    "    mask = mask1 & mask2\n",
    "    df.loc[mask, 'Translation_Reason_for_Score_Comment'] = df.loc[mask, 'Reason_for_Score_Comment']\n",
    "\n",
    "    # Concatenate all comment column with english content\n",
    "    # Call the filter_and_join_columns function to filter and join the DataFrame\n",
    "    df = filter_and_join_columns(df, columns_to_join, join_column_name, words_to_filter, '. ')\n",
    "\n",
    "    # Remove punctuation added to join the comment column in order to filter empty comment\n",
    "    # df = df[df['allComment'].str.strip('. ').str.len() > 0]\n",
    "\n",
    "    # Filter out non-ASCII characters for comments that have both original language and translation in the same spot\n",
    "    # df['allComment'] = df['allComment'].str.encode('ascii', 'ignore').str.decode('ascii') \n",
    "    # df = df[df['allComment'].str.len() > 0]\n",
    "\n",
    "    # Define an inner replace_words function\n",
    "    def replace_words(series):\n",
    "        # Lowercase the documents\n",
    "        series = series.str.lower()\n",
    "        \n",
    "        # Iterate over the word replacements\n",
    "        for old_word, new_word in replacements.items():\n",
    "            # Replace the old word with the new word in the documents using the str.replace method\n",
    "            series = series.str.replace(old_word, new_word, regex=False)\n",
    "        \n",
    "        # Return the modified series as a Pandas Series\n",
    "        return series\n",
    "    \n",
    "    # Call the inner replace_words function on the 'allComment' column\n",
    "    df[join_column_name] = replace_words(df[join_column_name])\n",
    "\n",
    "    return df\n",
    "\n",
    "# def replace_words(docs, replacements):\n",
    "#     \"\"\"\n",
    "#     Replace words in a list of documents.\n",
    "\n",
    "#     This function takes a list of documents and a dictionary of word replacements as input. It iterates over the input documents, lowercases them, and replaces the old words with the new words specified in the replacements dictionary. The modified documents are then returned as a new list.\n",
    "\n",
    "#     :param docs: A list of input documents, where each document is a string.\n",
    "#     :param replacements: A dictionary of word replacements, where the keys are the old words to be replaced and the values are the new words to replace them with.\n",
    "#     :return: A list of modified documents, where the old words have been replaced with the new words.\n",
    "#     \"\"\"\n",
    "    \n",
    "#     # Initialize an empty list to store the modified documents\n",
    "#     new_docs = []\n",
    "\n",
    "#     # Iterate over the input documents\n",
    "#     for doc in docs:\n",
    "#         # Lowercase the document\n",
    "#         doc = doc.lower()\n",
    "#         # Iterate over the words replacements\n",
    "#         for old_word, new_word in replacements.items():\n",
    "#             # Replace the old word with the new word in the document\n",
    "#             doc = doc.replace(old_word, new_word)\n",
    "\n",
    "#         # Add the modified document to the list of new documents\n",
    "#         new_docs.append(doc)\n",
    "\n",
    "#     return new_docs\n",
    "\n",
    "\n",
    "# Filter the countries we want to copy the original comment (those in english) in the translation column for comment\n",
    "df = preprocess_data(df, countries_to_update, columns_to_join, \"allComment\", words_to_filter, replacements)\n",
    "\n",
    "# Put the data in the correct format for bertopic\n",
    "docs = df[\"allComment\"].astype(str).tolist()\n",
    "\n",
    "# Call the replace_words function to replace the specified bigrams in the documents\n",
    "# docs = replace_words(docs, replacements)"
   ]
  },
  {
   "cell_type": "code",
   "execution_count": null,
   "metadata": {},
   "outputs": [],
   "source": [
    "############################# STEP 2 - COMPUTE CUSTOM VOCABULARY ###############################\n",
    "\n",
    "\n",
    "# list of the ngrams wanted for our data\n",
    "ngrams_list = ['schneider electric','supply chain','solve problem','lead time','price performance ratio','price quality ratio','pro face','spare part',\n",
    "           'product range','product line','user friendly','data sheets','allen bradley',\n",
    "           'technical support','tehnical assistance','technical team','technical service',\n",
    "           'delivery time','long time','delivery date','response time','quick response',\n",
    "           'customer service','customer center','customer support','contact person','service support','call center','call back',\n",
    "           'sales service','sales team','account manager','pre sales','sales representative',\n",
    "           'circuit breakers','frequency converters','low voltage','touch panel','frequency inverters','push buttons','electrical components','control cabinets','touch screen','control systems','servo motors','power supply','speed drives',\n",
    "           'alles tip top','alles tip','sinan chalabi']\n",
    "\n",
    "def create_custom_vocabulary(docs, ngrams_list, model_name=\"all-MiniLM-L6-v2\", **kwargs):\n",
    "    \"\"\"\n",
    "    Create a custom vocabulary from a list of documents using KeyBERT.\n",
    "\n",
    "    This function takes a list of documents, a list of custom n-grams, and an optional model name as input. It preprocesses the documents by replacing the custom n-grams with single tokens containing underscores. Then, it initializes a GPU-enabled SentenceTransformer model and uses KeyBERT to extract keywords from the preprocessed documents. The extracted keywords are postprocessed by replacing single tokens with the original n-grams and removing duplicates to create the custom vocabulary. The vocabulary is cached for future use and returned as a list of strings.\n",
    "\n",
    "    :param docs: A list of input documents, where each document is a string.\n",
    "    :param ngrams_list: A list of custom n-grams to be replaced with single tokens during preprocessing.\n",
    "    :param model_name: An optional string specifying the name of the SentenceTransformer model to use. Defaults to \"all-MiniLM-L6-v2\".\n",
    "    :param kwargs: Additional keyword arguments to be passed to the KeyBERT `extract_keywords` method.\n",
    "    :return: A list of strings representing the custom vocabulary created from the input documents.\n",
    "    \"\"\"\n",
    "\n",
    "    # Preprocess documents by replacing custom n-grams with single tokens with underscore \"_\"\n",
    "    preprocessed_docs = []\n",
    "    for doc in docs:\n",
    "        for ngram in ngrams_list:\n",
    "            if ngram in doc:\n",
    "                ngram_underscore = ngram.replace(\" \",\"_\")\n",
    "                doc = doc.replace(ngram, ngram_underscore)\n",
    "        preprocessed_docs.append(doc)\n",
    "\n",
    "    # Initialize a GPU-enabled SentenceTransformer model\n",
    "    model = SentenceTransformer(model_name, device=\"cuda\")\n",
    "\n",
    "    # Create custom vocabulary with KeyBERT\n",
    "    # Use the vocabulary in cache if it exists otherwise compute it and store it in cache\n",
    "    cache_key = (hash(str(preprocessed_docs)), hash(str(ngrams_list)), hash(model_name), hash(str(kwargs)))\n",
    "    if cache_key in vocabulary_cache:\n",
    "        vocabulary = vocabulary_cache[cache_key]\n",
    "        return vocabulary\n",
    "    else:\n",
    "        # Extract keywords\n",
    "        kw_model = KeyBERT(model=model)\n",
    "        keywords = kw_model.extract_keywords(preprocessed_docs, **kwargs)\n",
    "        \n",
    "        # Flatten the list of lists and remove duplicates to create the vocabulary\n",
    "        vocabulary = list(set([word for sublist in keywords for word, score in sublist]))\n",
    "\n",
    "        # Postprocess extracted keywords by replacing single tokens with original n-grams\n",
    "        postprocessed_vocab = []\n",
    "        for keyword in vocabulary:\n",
    "            space_keyword = keyword.replace(\"_\",\" \")\n",
    "            if space_keyword in ngrams_list:\n",
    "                keyword = space_keyword\n",
    "            postprocessed_vocab.append(keyword)\n",
    "\n",
    "        vocabulary_cache[cache_key] = postprocessed_vocab\n",
    "        return postprocessed_vocab\n",
    "\n",
    "# NLTK English stopwords\n",
    "nltk.download('stopwords')\n",
    "stopwords = nltk.corpus.stopwords.words('english')\n",
    "# add stopwords to the list from nltk\n",
    "more_stopwords = ['schneider electric','se','schneider','schneiders','also','xxx','xxxx','xxxxx','ok','okk','okay','ras','na','nil','none','mr','mrs','monsieur','thank','esther','ester','paulo','paolo','sadao','carlos','pereira','ken','benoit','sergio','catalina','cesar','rufo','moraleda','ferrer','guido','smekens','castelli','muiz','roberto','matteo','guerriera','mike','elena','isabel','jurrie','javier','anna','fernandez','reyes','cichinelli','inicio','incio','jos','fabio','canedo','mituo','eduardo','roberto','santos','inicio','silva','arnaldo','sgueglia','squeglia','sandrine','laroche','lavinia','salerno','fahler','rodriguez','perez','prieto','heleni','henri','henrique','henrik','sammy','gregoire','denis','thomas','divani','flavio','rosetti','fabbri','danilo','evandro','sahil','kundli','maggico','cindy','martin','gabrielsson','edoardo','martha','ponte','aponte','pinkowitz','cortese','nicole','gahner','maulady','ahmad','heidi','okino','wang','jason','james','rhandzi','cecil','went','goes','thanks','thank','alles tip','alles tip top','66666666666666','000000000000000','666666666','eng','particular','particularly','alles']\n",
    "stopwords.extend(more_stopwords)\n",
    "\n",
    "# Create vocabulary with KeyBERT using custom ngrams list\n",
    "vocabulary = create_custom_vocabulary(docs, ngrams_list, top_n=4, use_mmr=True, stop_words=stopwords, keyphrase_ngram_range=(1,1), nr_candidates=12)"
   ]
  },
  {
   "cell_type": "code",
   "execution_count": null,
   "metadata": {},
   "outputs": [],
   "source": [
    "############################# STEP 3 - RUN BERTOPIC MODEL ###############################\n",
    "\n",
    "\n",
    "# NLTK English stopwords\n",
    "nltk.download('stopwords')\n",
    "stopwords = nltk.corpus.stopwords.words('english')\n",
    "# add stopwords to the list from nltk\n",
    "more_stopwords = ['schneider electric','se','schneider','schneiders','also','xxx','xxxx','xxxxx','ok','okk','okay','ras','na','nil','none','mr','mrs','monsieur','thank','esther','ester','paulo','paolo','sadao','carlos','pereira','ken','benoit','sergio','catalina','cesar','rufo','moraleda','ferrer','guido','smekens','castelli','muiz','roberto','matteo','guerriera','mike','elena','isabel','jurrie','javier','anna','fernandez','reyes','cichinelli','inicio','incio','jos','fabio','canedo','mituo','eduardo','roberto','santos','inicio','silva','arnaldo','sgueglia','squeglia','sandrine','laroche','lavinia','salerno','fahler','rodriguez','perez','prieto','heleni','henri','henrique','henrik','sammy','gregoire','denis','thomas','divani','flavio','rosetti','fabbri','danilo','evandro','sahil','kundli','maggico','cindy','martin','gabrielsson','edoardo','martha','ponte','aponte','pinkowitz','cortese','nicole','gahner','maulady','ahmad','heidi','okino','wang','jason','james','rhandzi','cecil','went','goes','thanks','thank','alles tip','alles tip top','66666666666666','000000000000000','666666666','eng','particular','particularly','alles']\n",
    "stopwords.extend(more_stopwords)\n",
    "\n",
    "\n",
    "def run_bertopic(docs, model_name=\"all-MiniLM-L6-v2\", **kwargs):\n",
    "    \"\"\"\n",
    "    Run BERTopic on a list of documents.\n",
    "\n",
    "    This function takes a list of documents, an optional model name, and additional keyword arguments as input. It extracts embeddings for the input documents using a SentenceTransformer model and caches them for future use. Then, it runs BERTopic on the input documents and embeddings and returns the resulting topics and probabilities.\n",
    "\n",
    "    :param docs: A list of input documents, where each document is a string.\n",
    "    :param model_name: An optional string specifying the name of the SentenceTransformer model to use. Defaults to \"all-MiniLM-L6-v2\".\n",
    "    :param kwargs: Additional keyword arguments to be passed to the BERTopic constructor.\n",
    "    :return: A tuple containing two elements: a list of topics assigned to each input document, and a matrix of topic probabilities for each input document.\n",
    "    \"\"\"\n",
    "\n",
    "    # Extract embeddings\n",
    "    cache_key = (hash(str(docs)), hash(model_name))\n",
    "    if cache_key in embeddings_cache:\n",
    "        sentence_model = SentenceTransformer(model_name, device=\"cuda\")\n",
    "        embeddings = embeddings_cache[cache_key]\n",
    "    else:\n",
    "        # compute embeddings using GPU\n",
    "        sentence_model = SentenceTransformer(model_name, device=\"cuda\")\n",
    "        embeddings = sentence_model.encode(docs, show_progress_bar=True)\n",
    "        # store embeddings in cache\n",
    "        embeddings_cache[cache_key] = embeddings\n",
    "\n",
    "    # Run BERTopic\n",
    "    topic_model = BERTopic(embedding_model=sentence_model, **kwargs)\n",
    "    topics, probs = topic_model.fit_transform(docs, embeddings)\n",
    "\n",
    "    return topics, probs, topic_model\n",
    "\n",
    "# Prepare sub-models\n",
    "custom_vectorizer_model = CountVectorizer(vocabulary=vocabulary, stop_words=stopwords, lowercase=True, ngram_range=(1, 2))\n",
    "# custom_vectorizer_model.fit(docs)\n",
    "    # Create your representation model\n",
    "representation_model = KeyBERTInspired()\n",
    "representation_model_MMR = MaximalMarginalRelevance(diversity=0.5) # Diversify topic representation\n",
    "representation_models = [KeyBERTInspired(), MaximalMarginalRelevance(diversity=0.3)] \n",
    "ctfidf_model = ClassTfidfTransformer(reduce_frequent_words=True)\n",
    "\n",
    "# Our set of predefined labels\n",
    "labels = [['product','features','performance','software','framework','touch screen','sensor','drive','servo motors','license','manual','cad','sensor','eocr','pro face','proface','atv','converter','inverter','frequency converters','tcp','modbus','vijeo','gp','control cabinet','cupboard'],\n",
    "['pricing','price','offers','orders','payment','invoice','quote','quotation'],\n",
    "['quality','reliability','warranty','repair','maintenance','incident','fault','complication','issue'],\n",
    "['delivery','logistic','delay','stock','shipping','lead time','deadline','package','ddt'],\n",
    "['customer support','feedback','communication','technical support','technician','customer service','assistance','support','chat','email','telephone','ticket','attendance','interlocutor','operator','response','resolution','intervention','help','guidance','query','inquiry','answer','solve','experience','uncomfy','inconvenient','agility','competence','professionalism','explanation','remark','improvement'],\n",
    "['business relation','factories','supplier','cooperation','partnership','oem','business','commercial','siemens'],\n",
    "['reputation','public perception','brand image','gratitude','reliability']]\n",
    "\n",
    "topics, probs, topic_model = run_bertopic(docs, vectorizer_model=custom_vectorizer_model, ctfidf_model=ctfidf_model, representation_model=representation_models, calculate_probabilities=False, top_n_words=20, min_topic_size=50, seed_topic_list=labels)"
   ]
  },
  {
   "cell_type": "code",
   "execution_count": null,
   "metadata": {},
   "outputs": [],
   "source": [
    "topic_model.get_topic_freq().head(30)"
   ]
  },
  {
   "cell_type": "code",
   "execution_count": null,
   "metadata": {},
   "outputs": [],
   "source": []
  },
  {
   "cell_type": "code",
   "execution_count": 4,
   "metadata": {},
   "outputs": [
    {
     "name": "stderr",
     "output_type": "stream",
     "text": [
      "[nltk_data] Downloading package stopwords to\n",
      "[nltk_data]     /home/cattiaux/nltk_data...\n",
      "[nltk_data]   Package stopwords is already up-to-date!\n"
     ]
    }
   ],
   "source": [
    "# Read the excel review file\n",
    "df = pd.read_excel(\"/media/cattiaux/DATA/Wassati/team_data/schneider/OEM_Verbatims_base.xlsx\", engine='openpyxl')\n",
    "\n",
    "# Filter the countries we want to copy the original comment (those in english) in the translation column for comment\n",
    "# Define the list of countries you want to update\n",
    "countries_to_update = ['Australia', 'Canada', 'Egypt','India','Ireland','Kuwait','Malaysia','New Zealand','Oman','Pakistan','Qatar','Saudi Arabia','Singapore','South Africa','USA','Taiwan','United Arab Emirates','United Kingdom']\n",
    "# Concatenate all comment column with english content\n",
    "columns_to_join = ['Translation_Customer_Comments', 'Translation_Overall_Additional_Comments', 'Translation_Anything_Else_Comment', 'Translation_Reason_for_Score_Comment']\n",
    "# Define a list of words to filter\n",
    "words_to_filter = ['no','not','none','nil','ok','okay','ras','done','nothing','hi','all','thanks','well','everything','right','very','no problem','great','good','bad','excellent','particularly']\n",
    "\n",
    "# Define a dictionary of words replacements\n",
    "replacements = {' se ': ' schneider electric ',\n",
    "                'delivery dates': 'delivery date',\n",
    "                'time delivery': 'delivery time',\n",
    "                'delivered time': 'delivery time',\n",
    "                'solved problem': 'solve problem',\n",
    "                'solve problems': 'solve problem',\n",
    "                'tech support': 'technical support',\n",
    "                'circuit breaker': 'circuit breakers',\n",
    "                'called back': 'call back',\n",
    "                'lead times': 'lead time',\n",
    "                'leadtime': 'lead time',\n",
    "                'support service': 'service support',\n",
    "                'sales representatives': 'sales representative',\n",
    "                'service sales': 'sales service',\n",
    "                'account managers': 'account manager',\n",
    "                'power supplies': 'power supply',\n",
    "                'touch panels': 'touch panel',\n",
    "                'touch screens': 'touch screen',\n",
    "                'frequency inverter': 'frequency inverters',\n",
    "                'frequency converter': 'frequency converters',\n",
    "                'servo motor': 'servo motors',\n",
    "                'servomotor': 'servo motors',\n",
    "                'servomotors': 'servo motors',\n",
    "                'control system': 'control systems',\n",
    "                'electrical component': 'electrical components',\n",
    "                'control cabinet': 'control cabinets',\n",
    "                'speed drive': 'speed drives',\n",
    "                'push button': 'push buttons',\n",
    "                'touchscreen': 'touch screen',\n",
    "                'spare parts': 'spare part',\n",
    "                'becuase': 'because',\n",
    "                'xxxx': ''\n",
    "                }\n",
    "\n",
    "# list of the ngrams wanted for our data\n",
    "ngrams_list = ['schneider electric','supply chain','solve problem','lead time','price performance ratio','price quality ratio','pro face','spare part',\n",
    "           'product range','product line','user friendly','data sheets','allen bradley',\n",
    "           'technical support','tehnical assistance','technical team','technical service',\n",
    "           'delivery time','long time','delivery date','response time','quick response',\n",
    "           'customer service','customer center','customer support','contact person','service support','call center','call back',\n",
    "           'sales service','sales team','account manager','pre sales','sales representative',\n",
    "           'circuit breakers','frequency converters','low voltage','touch panel','frequency inverters','push buttons','electrical components','control cabinets','touch screen','control systems','servo motors','power supply','speed drives',\n",
    "           'alles tip top','alles tip','sinan chalabi']\n",
    "\n",
    "# NLTK English stopwords\n",
    "nltk.download('stopwords')\n",
    "stopwords = nltk.corpus.stopwords.words('english')\n",
    "# add stopwords to the list from nltk\n",
    "more_stopwords = ['schneider electric','se','schneider','schneiders','also','xxx','xxxx','xxxxx','ok','okk','okay','ras','na','nil','none','mr','mrs','monsieur','thank','esther','ester','paulo','paolo','sadao','carlos','pereira','ken','benoit','sergio','catalina','cesar','rufo','moraleda','ferrer','guido','smekens','castelli','muiz','roberto','matteo','guerriera','mike','elena','isabel','jurrie','javier','anna','fernandez','reyes','cichinelli','inicio','incio','jos','fabio','canedo','mituo','eduardo','roberto','santos','inicio','silva','arnaldo','sgueglia','squeglia','sandrine','laroche','lavinia','salerno','fahler','rodriguez','perez','prieto','heleni','henri','henrique','henrik','sammy','gregoire','denis','thomas','divani','flavio','rosetti','fabbri','danilo','evandro','sahil','kundli','maggico','cindy','martin','gabrielsson','edoardo','martha','ponte','aponte','pinkowitz','cortese','nicole','gahner','maulady','ahmad','heidi','okino','wang','jason','james','rhandzi','cecil','went','goes','thanks','thank','alles tip','alles tip top','66666666666666','000000000000000','666666666','eng','particular','particularly','alles']\n",
    "stopwords.extend(more_stopwords)\n",
    "\n",
    "# def preprocess_data(df, countries_to_update):\n",
    "#     \"\"\"\n",
    "#     Preprocess a DataFrame of data.\n",
    "\n",
    "#     This function takes a DataFrame of data and a list of countries to update as input. It adds additional columns to the DataFrame, renames some columns for readability, updates the translation columns for specific rows, and concatenates all comment columns with English content. The modified DataFrame is then returned.\n",
    "\n",
    "#     :param df: A DataFrame of input data.\n",
    "#     :param countries_to_update: A list of countries for which to update the translation columns.\n",
    "#     :return: A modified DataFrame with additional columns, renamed columns, updated translation columns, and concatenated comment columns.\n",
    "#     \"\"\"\n",
    "\n",
    "#     # add some additional info as columns\n",
    "#     df['year'] = pd.DatetimeIndex(df[\"Creation Date\"]).year\n",
    "#     df['id'] = range(len(df))\n",
    "    \n",
    "#     # Rename columns for readability\n",
    "#     df = df.rename(columns={\n",
    "#         'Translation to English for: Customer Comments (edited)': 'Translation_Customer_Comments',\n",
    "#         'Customer Comments (edited)': 'Customer_Comments',\n",
    "#         'Translation to English for: Overall Additional Comments (edited)': 'Translation_Overall_Additional_Comments',\n",
    "#         'Overall Additional Comments (edited)': 'Overall_Additional_Comments',\n",
    "#         'Translation to English for: Anything else comment': 'Translation_Anything_Else_Comment',\n",
    "#         'Anything else comment': 'Anything_Else_Comment',\n",
    "#         'Translation to English for: Reason for score comment': 'Translation_Reason_for_Score_Comment',\n",
    "#         'Reason for score comment': 'Reason_for_Score_Comment'\n",
    "#     })\n",
    "\n",
    "#     # Create a mask to filter the rows where the 'Account Countries' column is in the list of countries to update\n",
    "#     mask1 = df['Account Country'].isin(countries_to_update)\n",
    "\n",
    "#     # Update the translation columns only for the rows where the mask1 is True\n",
    "#     mask2 = ((df['Customer_Comments'] != '') & df['Customer_Comments'].notnull()) & df['Translation_Customer_Comments'].isnull()\n",
    "#     mask = mask1 & mask2\n",
    "#     df.loc[mask, 'Translation_Customer_Comments'] = df.loc[mask, 'Customer_Comments']\n",
    "\n",
    "#     mask2 = ((df['Overall_Additional_Comments'] != '') & df['Overall_Additional_Comments'].notnull()) & df['Translation_Overall_Additional_Comments'].isnull()\n",
    "#     mask = mask1 & mask2\n",
    "#     df.loc[mask, 'Translation_Overall_Additional_Comments'] = df.loc[mask, 'Overall_Additional_Comments']\n",
    "\n",
    "#     mask2 = ((df['Anything_Else_Comment'] != '') & df['Anything_Else_Comment'].notnull()) & df['Translation_Anything_Else_Comment'].isnull()\n",
    "#     mask = mask1 & mask2\n",
    "#     df.loc[mask, 'Translation_Anything_Else_Comment'] = df.loc[mask, 'Anything_Else_Comment']\n",
    "\n",
    "#     mask2 = ((df['Reason_for_Score_Comment'] != '') & df['Reason_for_Score_Comment'].notnull()) & df['Translation_Reason_for_Score_Comment'].isnull()\n",
    "#     mask = mask1 & mask2\n",
    "#     df.loc[mask, 'Translation_Reason_for_Score_Comment'] = df.loc[mask, 'Reason_for_Score_Comment']\n",
    "\n",
    "#     # Concatenate all comment column with english content\n",
    "#     df['allComment'] = df['Translation_Customer_Comments'].fillna('').astype(str) + \". \" + df['Translation_Overall_Additional_Comments'].fillna('').astype(str) + \". \" + df['Translation_Anything_Else_Comment'].fillna('').astype(str) + \". \" + df['Translation_Reason_for_Score_Comment'].fillna('').astype(str)\n",
    "\n",
    "#     # Remove punctuation added to join the comment column in order to filter empty comment\n",
    "#     df = df[df['allComment'].str.strip('. ').str.len() > 0]\n",
    "\n",
    "#     # Filter out non-ASCII characters for comments that have both original language and translation in the same spot\n",
    "#     df['allComment'] = df['allComment'].str.encode('ascii', 'ignore').str.decode('ascii') \n",
    "#     df = df[df['allComment'].str.len() > 0]\n",
    "\n",
    "#     return df\n",
    "\n",
    "# def replace_words(docs, replacements):\n",
    "#     \"\"\"\n",
    "#     Replace words in a list of documents.\n",
    "\n",
    "#     This function takes a list of documents and a dictionary of word replacements as input. It iterates over the input documents, lowercases them, and replaces the old words with the new words specified in the replacements dictionary. The modified documents are then returned as a new list.\n",
    "\n",
    "#     :param docs: A list of input documents, where each document is a string.\n",
    "#     :param replacements: A dictionary of word replacements, where the keys are the old words to be replaced and the values are the new words to replace them with.\n",
    "#     :return: A list of modified documents, where the old words have been replaced with the new words.\n",
    "#     \"\"\"\n",
    "    \n",
    "#     # Initialize an empty list to store the modified documents\n",
    "#     new_docs = []\n",
    "\n",
    "#     # Iterate over the input documents\n",
    "#     for doc in docs:\n",
    "#         # Lowercase the document\n",
    "#         doc = doc.lower()\n",
    "#         # Iterate over the words replacements\n",
    "#         for old_word, new_word in replacements.items():\n",
    "#             # Replace the old word with the new word in the document\n",
    "#             doc = doc.replace(old_word, new_word)\n",
    "\n",
    "#         # Add the modified document to the list of new documents\n",
    "#         new_docs.append(doc)\n",
    "\n",
    "#     return new_docs\n",
    "\n",
    "def filter_and_join_columns(df, columns_to_join, join_column_name, words_to_filter, sep):\n",
    "    \"\"\"\n",
    "    Filter rows of a DataFrame where any of the specified columns contains only punctuation marks or only one or more occurrences of the specified words, possibly mixed with punctuation marks, and then join the content from the specified columns using a separator.\n",
    "    \n",
    "    :param df: A DataFrame to filter and join\n",
    "    :type df: pandas.DataFrame\n",
    "    :param columns_to_join: A list of column names to join\n",
    "    :type columns_to_join: list of str\n",
    "    :param words_to_filter: A list of words to filter\n",
    "    :type words_to_filter: list of str\n",
    "    :param sep: A separator string to use between values when joining columns\n",
    "    :type sep: str\n",
    "    :return: A DataFrame containing the filtered and joined rows\n",
    "    :rtype: pandas.DataFrame\n",
    "    \"\"\"\n",
    "    # Create a regular expression pattern to match values that contain only punctuation marks or only one or more occurrences of the specified words, possibly mixed with punctuation marks\n",
    "    pattern = r'^\\s*[\\W\\s]*\\s*$|^\\s*(\\W*\\b(' + '|'.join(re.escape(word) for word in words_to_filter) + r')\\b\\W*)+\\s*$'\n",
    "    \n",
    "    # Define a custom function to filter rows where any of the specified columns contains only punctuation marks or only one or more occurrences of the specified words, possibly mixed with punctuation marks. It filters also the non-ASCII characters\n",
    "    def filter_rows(row):\n",
    "        for col in columns_to_join:\n",
    "            value = row[col]\n",
    "            if pd.notnull(value):\n",
    "                # Filter out non-ASCII characters from the value\n",
    "                value = value.encode('ascii', 'ignore').decode('ascii')\n",
    "                if re.search(pattern, value, re.IGNORECASE):\n",
    "                    return False\n",
    "        return True\n",
    "    \n",
    "    # Filter the DataFrame using the custom filter_rows function\n",
    "    filtered_df = df[df.apply(filter_rows, axis=1)]\n",
    "    \n",
    "    # Define a custom function to join the content from the specified columns using a separator\n",
    "    def join_columns(row):\n",
    "        values = []\n",
    "        for col in columns_to_join:\n",
    "            value = row[col]\n",
    "            if pd.notnull(value) and value.strip():\n",
    "                if values and values[-1][-1] not in string.punctuation:\n",
    "                    values.append(sep)\n",
    "                else:\n",
    "                    values.append(' ')\n",
    "                values.append(value)\n",
    "        return ''.join(values).strip()\n",
    "    \n",
    "    # Join the content from the specified columns using the custom join_columns function\n",
    "    filtered_df[join_column_name] = filtered_df.apply(join_columns, axis=1)\n",
    "\n",
    "    # Return the resulting DataFrame containing the filtered and joined rows\n",
    "    return filtered_df[filtered_df[join_column_name].str.len() > 0]\n",
    "\n",
    "def preprocess_data(df, countries_to_update, columns_to_join, join_column_name, words_to_filter, replacements):\n",
    "    \"\"\"\n",
    "    Preprocess a DataFrame of data.\n",
    "\n",
    "    This function takes a DataFrame of data, a list of countries to update, a list of columns to join and a list of words to filter as input. It adds additional columns to the DataFrame, renames some columns for readability, updates the translation columns for specific rows, and concatenates all comment columns with English content. The modified DataFrame is then returned.\n",
    "\n",
    "    :param df: A DataFrame of input data.\n",
    "    :param countries_to_update: A list of countries for which to update the translation columns.\n",
    "    :param columns_to_join: A list of columns to join.\n",
    "    :param words_to_filter: A list of words to filter.\n",
    "    :return: A modified DataFrame with additional columns, renamed columns, updated translation columns, and concatenated comment columns.\n",
    "    \"\"\"\n",
    "\n",
    "    # add some additional info as columns\n",
    "    df['year'] = pd.DatetimeIndex(df[\"Creation Date\"]).year\n",
    "    df['id'] = range(len(df))\n",
    "    \n",
    "    # Rename columns for readability\n",
    "    df = df.rename(columns={\n",
    "        'Translation to English for: Customer Comments (edited)': 'Translation_Customer_Comments',\n",
    "        'Customer Comments (edited)': 'Customer_Comments',\n",
    "        'Translation to English for: Overall Additional Comments (edited)': 'Translation_Overall_Additional_Comments',\n",
    "        'Overall Additional Comments (edited)': 'Overall_Additional_Comments',\n",
    "        'Translation to English for: Anything else comment': 'Translation_Anything_Else_Comment',\n",
    "        'Anything else comment': 'Anything_Else_Comment',\n",
    "        'Translation to English for: Reason for score comment': 'Translation_Reason_for_Score_Comment',\n",
    "        'Reason for score comment': 'Reason_for_Score_Comment'\n",
    "    })\n",
    "\n",
    "    # Create a mask to filter the rows where the 'Account Countries' column is in the list of countries to update\n",
    "    mask1 = df['Account Country'].isin(countries_to_update)\n",
    "\n",
    "    # Update the translation columns only for the rows where the mask1 is True\n",
    "    mask2 = ((df['Customer_Comments'] != '') & df['Customer_Comments'].notnull()) & df['Translation_Customer_Comments'].isnull()\n",
    "    mask = mask1 & mask2\n",
    "    df.loc[mask, 'Translation_Customer_Comments'] = df.loc[mask, 'Customer_Comments']\n",
    "\n",
    "    mask2 = ((df['Overall_Additional_Comments'] != '') & df['Overall_Additional_Comments'].notnull()) & df['Translation_Overall_Additional_Comments'].isnull()\n",
    "    mask = mask1 & mask2\n",
    "    df.loc[mask, 'Translation_Overall_Additional_Comments'] = df.loc[mask, 'Overall_Additional_Comments']\n",
    "\n",
    "    mask2 = ((df['Anything_Else_Comment'] != '') & df['Anything_Else_Comment'].notnull()) & df['Translation_Anything_Else_Comment'].isnull()\n",
    "    mask = mask1 & mask2\n",
    "    df.loc[mask, 'Translation_Anything_Else_Comment'] = df.loc[mask, 'Anything_Else_Comment']\n",
    "\n",
    "    mask2 = ((df['Reason_for_Score_Comment'] != '') & df['Reason_for_Score_Comment'].notnull()) & df['Translation_Reason_for_Score_Comment'].isnull()\n",
    "    mask = mask1 & mask2\n",
    "    df.loc[mask, 'Translation_Reason_for_Score_Comment'] = df.loc[mask, 'Reason_for_Score_Comment']\n",
    "\n",
    "    # Concatenate all comment column with english content\n",
    "    # Call the filter_and_join_columns function to filter and join the DataFrame\n",
    "    df = filter_and_join_columns(df, columns_to_join, join_column_name, words_to_filter, '. ')\n",
    "\n",
    "    # Remove punctuation added to join the comment column in order to filter empty comment\n",
    "    # df = df[df['allComment'].str.strip('. ').str.len() > 0]\n",
    "\n",
    "    # Filter out non-ASCII characters for comments that have both original language and translation in the same spot\n",
    "    # df['allComment'] = df['allComment'].str.encode('ascii', 'ignore').str.decode('ascii') \n",
    "    # df = df[df['allComment'].str.len() > 0]\n",
    "\n",
    "    # Define an inner replace_words function\n",
    "    def replace_words(series):\n",
    "        # Lowercase the documents\n",
    "        series = series.str.lower()\n",
    "        \n",
    "        # Iterate over the word replacements\n",
    "        for old_word, new_word in replacements.items():\n",
    "            # Replace the old word with the new word in the documents using the str.replace method\n",
    "            series = series.str.replace(old_word, new_word, regex=False)\n",
    "        \n",
    "        # Return the modified series as a Pandas Series\n",
    "        return series\n",
    "    \n",
    "    # Call the inner replace_words function on the 'allComment' column\n",
    "    df[join_column_name] = replace_words(df[join_column_name])\n",
    "\n",
    "    return df\n",
    "\n",
    "def create_custom_vocabulary(docs, ngrams_list, model_name=\"all-MiniLM-L6-v2\", **kwargs):\n",
    "    \"\"\"\n",
    "    Create a custom vocabulary from a list of documents using KeyBERT.\n",
    "\n",
    "    This function takes a list of documents, a list of custom n-grams, and an optional model name as input. It preprocesses the documents by replacing the custom n-grams with single tokens containing underscores. Then, it initializes a GPU-enabled SentenceTransformer model and uses KeyBERT to extract keywords from the preprocessed documents. The extracted keywords are postprocessed by replacing single tokens with the original n-grams and removing duplicates to create the custom vocabulary. The vocabulary is cached for future use and returned as a list of strings.\n",
    "\n",
    "    :param docs: A list of input documents, where each document is a string.\n",
    "    :param ngrams_list: A list of custom n-grams to be replaced with single tokens during preprocessing.\n",
    "    :param model_name: An optional string specifying the name of the SentenceTransformer model to use. Defaults to \"all-MiniLM-L6-v2\".\n",
    "    :param kwargs: Additional keyword arguments to be passed to the KeyBERT `extract_keywords` method.\n",
    "    :return: A list of strings representing the custom vocabulary created from the input documents.\n",
    "    \"\"\"\n",
    "\n",
    "    # Preprocess documents by replacing custom n-grams with single tokens with underscore \"_\"\n",
    "    preprocessed_docs = []\n",
    "    for doc in docs:\n",
    "        for ngram in ngrams_list:\n",
    "            if ngram in doc:\n",
    "                ngram_underscore = ngram.replace(\" \",\"_\")\n",
    "                doc = doc.replace(ngram, ngram_underscore)\n",
    "        preprocessed_docs.append(doc)\n",
    "\n",
    "    # Initialize a GPU-enabled SentenceTransformer model\n",
    "    model = SentenceTransformer(model_name, device=\"cuda\")\n",
    "\n",
    "    # Create custom vocabulary with KeyBERT\n",
    "    # Use the vocabulary in cache if it exists otherwise compute it and store it in cache\n",
    "    cache_key = (hash(str(preprocessed_docs)), hash(str(ngrams_list)), hash(model_name), hash(str(kwargs)))\n",
    "    if cache_key in vocabulary_cache:\n",
    "        vocabulary = vocabulary_cache[cache_key]\n",
    "        return vocabulary\n",
    "    else:\n",
    "        # Extract keywords\n",
    "        kw_model = KeyBERT(model=model)\n",
    "        keywords = kw_model.extract_keywords(preprocessed_docs, **kwargs)\n",
    "        \n",
    "        # Flatten the list of lists and remove duplicates to create the vocabulary\n",
    "        vocabulary = list(set([word for sublist in keywords for word, score in sublist]))\n",
    "\n",
    "        # Postprocess extracted keywords by replacing single tokens with original n-grams\n",
    "        postprocessed_vocab = []\n",
    "        for keyword in vocabulary:\n",
    "            space_keyword = keyword.replace(\"_\",\" \")\n",
    "            if space_keyword in ngrams_list:\n",
    "                keyword = space_keyword\n",
    "            postprocessed_vocab.append(keyword)\n",
    "\n",
    "        vocabulary_cache[cache_key] = postprocessed_vocab\n",
    "        return postprocessed_vocab\n",
    "\n",
    "def run_bertopic(docs, model_name=\"all-MiniLM-L6-v2\", **kwargs):\n",
    "    \"\"\"\n",
    "    Run BERTopic on a list of documents.\n",
    "\n",
    "    This function takes a list of documents, an optional model name, and additional keyword arguments as input. It extracts embeddings for the input documents using a SentenceTransformer model and caches them for future use. Then, it runs BERTopic on the input documents and embeddings and returns the resulting topics and probabilities.\n",
    "\n",
    "    :param docs: A list of input documents, where each document is a string.\n",
    "    :param model_name: An optional string specifying the name of the SentenceTransformer model to use. Defaults to \"all-MiniLM-L6-v2\".\n",
    "    :param kwargs: Additional keyword arguments to be passed to the BERTopic constructor.\n",
    "    :return: A tuple containing two elements: a list of topics assigned to each input document, and a matrix of topic probabilities for each input document.\n",
    "    \"\"\"\n",
    "\n",
    "    # Extract embeddings\n",
    "    cache_key = (hash(str(docs)), hash(model_name))\n",
    "    if cache_key in embeddings_cache:\n",
    "        sentence_model = SentenceTransformer(model_name, device=\"cuda\")\n",
    "        embeddings = embeddings_cache[cache_key]\n",
    "    else:\n",
    "        # compute embeddings using GPU\n",
    "        sentence_model = SentenceTransformer(model_name, device=\"cuda\")\n",
    "        embeddings = sentence_model.encode(docs, show_progress_bar=True)\n",
    "        # store embeddings in cache\n",
    "        embeddings_cache[cache_key] = embeddings\n",
    "\n",
    "    # Run BERTopic\n",
    "    topic_model = BERTopic(embedding_model=sentence_model, **kwargs)\n",
    "    topics, probs = topic_model.fit_transform(docs, embeddings)\n",
    "\n",
    "    return topics, probs, topic_model\n",
    "\n",
    "\n",
    "def bertopic_pipeline(df, countries_to_update, replacements, ngrams_list, stopwords, \n",
    "            use_custom_vocab=True, keybert_kwargs={}, countvectorizer_kwargs={}, bertopic_kwargs={}):\n",
    "    \"\"\"\n",
    "    Run a BERTopic pipeline on a DataFrame of data.\n",
    "\n",
    "    This function takes a DataFrame of data, a list of countries to update, a dictionary of word replacements, a list of custom n-grams, a list of stopwords, and additional parameters as input. It preprocesses the data by filtering the countries to update and replacing the specified n-grams in the documents. If `use_custom_vocab` is `True`, it creates a custom vocabulary using KeyBERT and runs BERTopic on the preprocessed data using the custom vocabulary and stopwords. If `use_vocabulary` is `False`, it runs BERTopic on the preprocessed data without using the custom vocabulary. The resulting topics and probabilities are returned along with the BERTopic model.\n",
    "\n",
    "    :param df: A DataFrame of input data.\n",
    "    :param countries_to_update: A list of countries for which to update the translation columns.\n",
    "    :param replacements: A dictionary of word replacements, where the keys are the old words to be replaced and the values are the new words to replace them with.\n",
    "    :param ngrams_list: A list of custom n-grams to be used when creating the custom vocabulary.\n",
    "    :param stopwords: A list of stopwords to be used when running BERTopic.\n",
    "    :param use_custom_vocab: A boolean value indicating whether to use a custom vocabulary when running BERTopic. Defaults to `True`.\n",
    "    :param keybert_kwargs: A dictionary of keyword arguments to be passed to the `create_custom_vocabulary` function.\n",
    "    :param countvectorizer_kwargs: A dictionary of keyword arguments to be passed to the `CountVectorizer` constructor.\n",
    "    :param bertopic_kwargs: A dictionary of keyword arguments to be passed to the BERTopic constructor.\n",
    "    :return: A tuple containing three elements: a list of topics assigned to each input document, a matrix of topic probabilities for each input document, and the BERTopic model used.\n",
    "    \"\"\"\n",
    "\n",
    "    ### Step 1: Preprocess docs\n",
    "    #     # Filter the countries we want to copy the original comment (those in english) in the translation column for comment\n",
    "    # df = preprocess_data(df, countries_to_update)\n",
    "    #     # Put the data in the correct format for bertopic\n",
    "    # docs = df[\"allComment\"].astype(str).tolist()\n",
    "    #     # Call the replace_words function to replace the specified ngrams in the documents\n",
    "    # docs = replace_words(docs, replacements)\n",
    "    \n",
    "    # Filter the countries we want to copy the original comment (those in english) in the translation column for comment\n",
    "    df = preprocess_data(df, countries_to_update, columns_to_join, \"allComment\", words_to_filter, replacements)\n",
    "\n",
    "    # Put the data in the correct format for bertopic\n",
    "    docs = df[\"allComment\"].astype(str).tolist()\n",
    "        \n",
    "    if use_custom_vocab:\n",
    "        ### Step 2: Create vocabulary with KeyBERT using custom ngrams list\n",
    "        vocabulary = create_custom_vocabulary(docs, ngrams_list, **keybert_kwargs)\n",
    "\n",
    "        ### Step 3: Run BERTopic\n",
    "        # Prepare vectorizer model\n",
    "        countvectorizer_kwargs = {**countvectorizer_kwargs, \"vocabulary\": vocabulary}\n",
    "        custom_vectorizer_model = CountVectorizer(**countvectorizer_kwargs)\n",
    "        custom_vectorizer_model.fit(docs)\n",
    "        topics, probs, topic_model = run_bertopic(docs, vectorizer_model=custom_vectorizer_model, **bertopic_kwargs)\n",
    "\n",
    "    else:\n",
    "        custom_vectorizer_model = CountVectorizer(**countvectorizer_kwargs)\n",
    "        topics, probs, topic_model = run_bertopic(docs, vectorizer_model=custom_vectorizer_model, **bertopic_kwargs)\n",
    "\n",
    "    return topics, probs, topic_model, docs"
   ]
  },
  {
   "cell_type": "code",
   "execution_count": null,
   "metadata": {},
   "outputs": [],
   "source": [
    "topics, probs, topic_model, docs = bertopic_pipeline(\n",
    "    df,\n",
    "    countries_to_update,\n",
    "    replacements,\n",
    "    ngrams_list,\n",
    "    stopwords,\n",
    "    use_custom_vocab=True,\n",
    "    keybert_kwargs={\n",
    "        \"top_n\": 4,\n",
    "        \"use_mmr\": True,\n",
    "        \"stop_words\": stopwords,\n",
    "        \"keyphrase_ngram_range\": (1, 1),\n",
    "        \"nr_candidates\": 12\n",
    "    },\n",
    "    countvectorizer_kwargs={\n",
    "        \"stop_words\": stopwords,\n",
    "        \"lowercase\": True,\n",
    "        \"ngram_range\": (1, 2)\n",
    "    },\n",
    "    bertopic_kwargs={\n",
    "        \"ctfidf_model\": ClassTfidfTransformer(reduce_frequent_words=True),\n",
    "        \"representation_model\": [KeyBERTInspired(), MaximalMarginalRelevance(diversity=0.3)], # possible values : KeyBERTInspired() or MaximalMarginalRelevance(diversity=0.5)\n",
    "        \"top_n_words\":10,\n",
    "        \"calculate_probabilities\": True\n",
    "    }\n",
    ")"
   ]
  },
  {
   "cell_type": "code",
   "execution_count": null,
   "metadata": {},
   "outputs": [],
   "source": [
    "def save_bertopic_model(topic_model, topics, probs, docs, filename):\n",
    "    \"\"\"\n",
    "    Save a BERTopic model and associated data to a file.\n",
    "    \n",
    "    :param topic_model: The BERTopic model to save.\n",
    "    :param topics: The topics variable to save.\n",
    "    :param probs: The probs variable to save.\n",
    "    :param docs: The docs variable to save.\n",
    "    :param filename: The name of the file to save the data to.\n",
    "    \"\"\"\n",
    "    # Save the BERTopic model\n",
    "    topic_model.save(filename)\n",
    "    \n",
    "    # Save the topics, probs, and docs variables\n",
    "    with open(filename + '_data.pkl', 'wb') as f:\n",
    "        pickle.dump((topics, probs, docs), f)\n",
    "\n",
    "def load_bertopic_model(filename):\n",
    "    \"\"\"\n",
    "    Load a BERTopic model and associated data from a file.\n",
    "    \n",
    "    :param filename: The name of the file to load the data from.\n",
    "    :return: A tuple containing the loaded BERTopic model, topics, probs, and docs variables.\n",
    "    \"\"\"\n",
    "    # Load the BERTopic model\n",
    "    topic_model = BERTopic.load(filename)\n",
    "    \n",
    "    # Load the topics, probs, and docs variables\n",
    "    with open(filename + '_data.pkl', 'rb') as f:\n",
    "        topics, probs, docs = pickle.load(f)\n",
    "    \n",
    "    return topic_model, topics, probs, docs"
   ]
  },
  {
   "cell_type": "code",
   "execution_count": null,
   "metadata": {},
   "outputs": [],
   "source": [
    "# Save the BERTopic model and associated data\n",
    "save_bertopic_model(topic_model, topics, probs, docs, 'raw_keybert_bertopic_model_100')"
   ]
  },
  {
   "cell_type": "code",
   "execution_count": null,
   "metadata": {},
   "outputs": [],
   "source": [
    "# Load the BERTopic model and associated data\n",
    "topic_model, topics, probs, docs = load_bertopic_model('raw_keybert_bertopic_model')"
   ]
  },
  {
   "cell_type": "code",
   "execution_count": 8,
   "metadata": {},
   "outputs": [
    {
     "name": "stdout",
     "output_type": "stream",
     "text": [
      "huggingface/tokenizers: The current process just got forked, after parallelism has already been used. Disabling parallelism to avoid deadlocks...\n",
      "To disable this warning, you can either:\n",
      "\t- Avoid using `tokenizers` before the fork if possible\n",
      "\t- Explicitly set the environment variable TOKENIZERS_PARALLELISM=(true | false)\n",
      "huggingface/tokenizers: The current process just got forked, after parallelism has already been used. Disabling parallelism to avoid deadlocks...\n",
      "To disable this warning, you can either:\n",
      "\t- Avoid using `tokenizers` before the fork if possible\n",
      "\t- Explicitly set the environment variable TOKENIZERS_PARALLELISM=(true | false)\n",
      "huggingface/tokenizers: The current process just got forked, after parallelism has already been used. Disabling parallelism to avoid deadlocks...\n",
      "To disable this warning, you can either:\n",
      "\t- Avoid using `tokenizers` before the fork if possible\n",
      "\t- Explicitly set the environment variable TOKENIZERS_PARALLELISM=(true | false)\n",
      "huggingface/tokenizers: The current process just got forked, after parallelism has already been used. Disabling parallelism to avoid deadlocks...\n",
      "To disable this warning, you can either:\n",
      "\t- Avoid using `tokenizers` before the fork if possible\n",
      "\t- Explicitly set the environment variable TOKENIZERS_PARALLELISM=(true | false)\n"
     ]
    },
    {
     "name": "stderr",
     "output_type": "stream",
     "text": [
      "/home/cattiaux/anaconda3/envs/wassati/lib/python3.9/site-packages/bertopic/vectorizers/_ctfidf.py:69: RuntimeWarning:\n",
      "\n",
      "divide by zero encountered in divide\n",
      "\n"
     ]
    }
   ],
   "source": [
    "# Our set of predefined labels\n",
    "labels = [['product','features','performance','software','framework','touch screen','sensor','drive','servo motors','license','manual','cad','sensor','eocr','pro face','proface','atv','converter','inverter','frequency converters','tcp','modbus','vijeo','gp','control cabinet','cupboard'],\n",
    "['pricing','price','offers','orders','payment','invoice','quote','quotation'],\n",
    "['quality','reliability','warranty','repair','maintenance','incident','fault','complication','issue'],\n",
    "['delivery','delivery date','delivery time','delays','stock','shipping','lead time','deadline','package','ddt','schedule'],\n",
    "['customer support','feedback','communication','technical support','technician','customer service','assistance','support','chat','email','telephone','ticket','attendance','interlocutor','operator','resolution','intervention','help','guidance','query','inquiry','solve','experience','uncomfy','inconvenient','agility','competence','professionalism','explanation','remark','improvement'],\n",
    "['response time','correspondence','response','quick','asnwer'],\n",
    "['business relation','factories','supplier','cooperation','partnership','oem','business','commercial','siemens'],\n",
    "['reputation','public perception','brand image','gratitude','reliability']]\n",
    "\n",
    "\n",
    "topics, probs, topic_model, docs = bertopic_pipeline(\n",
    "    df,\n",
    "    countries_to_update,\n",
    "    replacements,\n",
    "    ngrams_list,\n",
    "    stopwords,\n",
    "    use_custom_vocab=True,\n",
    "    keybert_kwargs={\n",
    "        \"top_n\": 4,\n",
    "        \"use_mmr\": True,\n",
    "        \"stop_words\": stopwords,\n",
    "        \"keyphrase_ngram_range\": (1, 1),\n",
    "        \"nr_candidates\": 12\n",
    "    },\n",
    "    countvectorizer_kwargs={\n",
    "        \"stop_words\": stopwords,\n",
    "        \"lowercase\": True,\n",
    "        \"ngram_range\": (1, 2)\n",
    "    },\n",
    "    bertopic_kwargs={\n",
    "        \"seed_topic_list\":labels, # Create a new BERTopic model using our predefined labels as topics\n",
    "        # \"nr_topics\":\"auto\",\n",
    "        \"ctfidf_model\": ClassTfidfTransformer(reduce_frequent_words=True),\n",
    "        \"representation_model\": [KeyBERTInspired(), MaximalMarginalRelevance(diversity=0.3)], # possible values : KeyBERTInspired() or MaximalMarginalRelevance(diversity=0.5)\n",
    "        \"top_n_words\":15,\n",
    "        \"min_topic_size\":50,\n",
    "        \"calculate_probabilities\": True\n",
    "    }\n",
    ")"
   ]
  },
  {
   "cell_type": "code",
   "execution_count": null,
   "metadata": {},
   "outputs": [],
   "source": [
    "# Further reduce topics\n",
    "topic_model.reduce_topics(docs, nr_topics=30)\n",
    "new_topics = topic_model.topics_"
   ]
  },
  {
   "cell_type": "code",
   "execution_count": 9,
   "metadata": {},
   "outputs": [
    {
     "data": {
      "text/html": [
       "<div>\n",
       "<style scoped>\n",
       "    .dataframe tbody tr th:only-of-type {\n",
       "        vertical-align: middle;\n",
       "    }\n",
       "\n",
       "    .dataframe tbody tr th {\n",
       "        vertical-align: top;\n",
       "    }\n",
       "\n",
       "    .dataframe thead th {\n",
       "        text-align: right;\n",
       "    }\n",
       "</style>\n",
       "<table border=\"1\" class=\"dataframe\">\n",
       "  <thead>\n",
       "    <tr style=\"text-align: right;\">\n",
       "      <th></th>\n",
       "      <th>Topic</th>\n",
       "      <th>Count</th>\n",
       "    </tr>\n",
       "  </thead>\n",
       "  <tbody>\n",
       "    <tr>\n",
       "      <th>1</th>\n",
       "      <td>-1</td>\n",
       "      <td>15899</td>\n",
       "    </tr>\n",
       "    <tr>\n",
       "      <th>5</th>\n",
       "      <td>0</td>\n",
       "      <td>2198</td>\n",
       "    </tr>\n",
       "    <tr>\n",
       "      <th>16</th>\n",
       "      <td>1</td>\n",
       "      <td>1667</td>\n",
       "    </tr>\n",
       "    <tr>\n",
       "      <th>3</th>\n",
       "      <td>2</td>\n",
       "      <td>1431</td>\n",
       "    </tr>\n",
       "    <tr>\n",
       "      <th>14</th>\n",
       "      <td>3</td>\n",
       "      <td>1274</td>\n",
       "    </tr>\n",
       "    <tr>\n",
       "      <th>2</th>\n",
       "      <td>4</td>\n",
       "      <td>1239</td>\n",
       "    </tr>\n",
       "    <tr>\n",
       "      <th>21</th>\n",
       "      <td>5</td>\n",
       "      <td>1014</td>\n",
       "    </tr>\n",
       "    <tr>\n",
       "      <th>6</th>\n",
       "      <td>6</td>\n",
       "      <td>944</td>\n",
       "    </tr>\n",
       "    <tr>\n",
       "      <th>7</th>\n",
       "      <td>7</td>\n",
       "      <td>794</td>\n",
       "    </tr>\n",
       "    <tr>\n",
       "      <th>18</th>\n",
       "      <td>8</td>\n",
       "      <td>482</td>\n",
       "    </tr>\n",
       "    <tr>\n",
       "      <th>22</th>\n",
       "      <td>9</td>\n",
       "      <td>477</td>\n",
       "    </tr>\n",
       "    <tr>\n",
       "      <th>17</th>\n",
       "      <td>10</td>\n",
       "      <td>476</td>\n",
       "    </tr>\n",
       "    <tr>\n",
       "      <th>12</th>\n",
       "      <td>11</td>\n",
       "      <td>398</td>\n",
       "    </tr>\n",
       "    <tr>\n",
       "      <th>15</th>\n",
       "      <td>12</td>\n",
       "      <td>385</td>\n",
       "    </tr>\n",
       "    <tr>\n",
       "      <th>37</th>\n",
       "      <td>13</td>\n",
       "      <td>385</td>\n",
       "    </tr>\n",
       "    <tr>\n",
       "      <th>30</th>\n",
       "      <td>14</td>\n",
       "      <td>379</td>\n",
       "    </tr>\n",
       "    <tr>\n",
       "      <th>19</th>\n",
       "      <td>15</td>\n",
       "      <td>365</td>\n",
       "    </tr>\n",
       "    <tr>\n",
       "      <th>29</th>\n",
       "      <td>16</td>\n",
       "      <td>337</td>\n",
       "    </tr>\n",
       "    <tr>\n",
       "      <th>26</th>\n",
       "      <td>17</td>\n",
       "      <td>329</td>\n",
       "    </tr>\n",
       "    <tr>\n",
       "      <th>25</th>\n",
       "      <td>18</td>\n",
       "      <td>319</td>\n",
       "    </tr>\n",
       "    <tr>\n",
       "      <th>13</th>\n",
       "      <td>19</td>\n",
       "      <td>298</td>\n",
       "    </tr>\n",
       "    <tr>\n",
       "      <th>23</th>\n",
       "      <td>20</td>\n",
       "      <td>238</td>\n",
       "    </tr>\n",
       "    <tr>\n",
       "      <th>27</th>\n",
       "      <td>21</td>\n",
       "      <td>230</td>\n",
       "    </tr>\n",
       "    <tr>\n",
       "      <th>0</th>\n",
       "      <td>22</td>\n",
       "      <td>213</td>\n",
       "    </tr>\n",
       "    <tr>\n",
       "      <th>50</th>\n",
       "      <td>23</td>\n",
       "      <td>204</td>\n",
       "    </tr>\n",
       "    <tr>\n",
       "      <th>28</th>\n",
       "      <td>24</td>\n",
       "      <td>203</td>\n",
       "    </tr>\n",
       "    <tr>\n",
       "      <th>8</th>\n",
       "      <td>25</td>\n",
       "      <td>196</td>\n",
       "    </tr>\n",
       "    <tr>\n",
       "      <th>38</th>\n",
       "      <td>26</td>\n",
       "      <td>192</td>\n",
       "    </tr>\n",
       "    <tr>\n",
       "      <th>42</th>\n",
       "      <td>27</td>\n",
       "      <td>167</td>\n",
       "    </tr>\n",
       "    <tr>\n",
       "      <th>45</th>\n",
       "      <td>28</td>\n",
       "      <td>159</td>\n",
       "    </tr>\n",
       "  </tbody>\n",
       "</table>\n",
       "</div>"
      ],
      "text/plain": [
       "    Topic  Count\n",
       "1      -1  15899\n",
       "5       0   2198\n",
       "16      1   1667\n",
       "3       2   1431\n",
       "14      3   1274\n",
       "2       4   1239\n",
       "21      5   1014\n",
       "6       6    944\n",
       "7       7    794\n",
       "18      8    482\n",
       "22      9    477\n",
       "17     10    476\n",
       "12     11    398\n",
       "15     12    385\n",
       "37     13    385\n",
       "30     14    379\n",
       "19     15    365\n",
       "29     16    337\n",
       "26     17    329\n",
       "25     18    319\n",
       "13     19    298\n",
       "23     20    238\n",
       "27     21    230\n",
       "0      22    213\n",
       "50     23    204\n",
       "28     24    203\n",
       "8      25    196\n",
       "38     26    192\n",
       "42     27    167\n",
       "45     28    159"
      ]
     },
     "execution_count": 9,
     "metadata": {},
     "output_type": "execute_result"
    }
   ],
   "source": [
    "topic_model.get_topic_freq().head(30)"
   ]
  },
  {
   "cell_type": "code",
   "execution_count": null,
   "metadata": {},
   "outputs": [],
   "source": [
    "topic_model.visualize_topics()"
   ]
  },
  {
   "cell_type": "code",
   "execution_count": null,
   "metadata": {},
   "outputs": [],
   "source": [
    "topic_model.visualize_barchart(top_n_topics=65)"
   ]
  },
  {
   "cell_type": "code",
   "execution_count": 10,
   "metadata": {},
   "outputs": [
    {
     "name": "stderr",
     "output_type": "stream",
     "text": [
      "100%|██████████| 59/59 [00:10<00:00,  5.80it/s]\n"
     ]
    },
    {
     "data": {
      "application/vnd.plotly.v1+json": {
       "config": {
        "plotlyServerURL": "https://plot.ly"
       },
       "data": [
        {
         "hoverinfo": "text",
         "marker": {
          "color": "rgb(61,153,112)"
         },
         "mode": "lines",
         "text": [
          "deliveries_delivery time_shipments_delivery_packaging",
          "",
          "",
          "deliveries_delays_purchasing_delivery time_orders"
         ],
         "type": "scatter",
         "x": [
          0,
          0.2766882293810765,
          0.2766882293810765,
          0
         ],
         "xaxis": "x",
         "y": [
          -25,
          -25,
          -35,
          -35
         ],
         "yaxis": "y"
        },
        {
         "hoverinfo": "text",
         "marker": {
          "color": "rgb(61,153,112)"
         },
         "mode": "lines",
         "text": [
          "delivery date_delivery time_deliveries_delivery_postponed",
          "",
          "",
          "deliveries_delivery time_delivery_delivery date_shipments"
         ],
         "type": "scatter",
         "x": [
          0,
          0.3568994292669554,
          0.3568994292669554,
          0.2766882293810765
         ],
         "xaxis": "x",
         "y": [
          -15,
          -15,
          -30,
          -30
         ],
         "yaxis": "y"
        },
        {
         "hoverinfo": "text",
         "marker": {
          "color": "rgb(61,153,112)"
         },
         "mode": "lines",
         "text": [
          "deliveries_delivery time_delivery_deliver_invoice",
          "",
          "",
          "quotations_quotes_quotation_pricing_quoted"
         ],
         "type": "scatter",
         "x": [
          0.3568994292669554,
          0.5588095666339681,
          0.5588095666339681,
          0
         ],
         "xaxis": "x",
         "y": [
          -22.5,
          -22.5,
          -45,
          -45
         ],
         "yaxis": "y"
        },
        {
         "hoverinfo": "text",
         "marker": {
          "color": "rgb(61,153,112)"
         },
         "mode": "lines",
         "text": [
          "delivery time_deliveries_delivery date_invoice_delivery",
          "",
          "",
          "offers_negotiation_inquiries_negotiating_receive"
         ],
         "type": "scatter",
         "x": [
          0.5588095666339681,
          0.7101151845060337,
          0.7101151845060337,
          0
         ],
         "xaxis": "x",
         "y": [
          -33.75,
          -33.75,
          -55,
          -55
         ],
         "yaxis": "y"
        },
        {
         "hoverinfo": "text",
         "marker": {
          "color": "rgb(61,153,112)"
         },
         "mode": "lines",
         "text": [
          "deadlines_deadline_delays_delaying_schedule",
          "",
          "",
          "deliveries_shipments_delays_delivery time_orders"
         ],
         "type": "scatter",
         "x": [
          0,
          0.7752626163967263,
          0.7752626163967263,
          0.7101151845060337
         ],
         "xaxis": "x",
         "y": [
          -5,
          -5,
          -44.375,
          -44.375
         ],
         "yaxis": "y"
        },
        {
         "hoverinfo": "text",
         "marker": {
          "color": "rgb(255,65,54)"
         },
         "mode": "lines",
         "text": [
          "rating_score_breaker_evaluated_product range",
          "",
          "",
          "rating_quality_rate_reliability_improvement"
         ],
         "type": "scatter",
         "x": [
          0,
          0.5881039078972126,
          0.5881039078972126,
          0
         ],
         "xaxis": "x",
         "y": [
          -65,
          -65,
          -75,
          -75
         ],
         "yaxis": "y"
        },
        {
         "hoverinfo": "text",
         "marker": {
          "color": "rgb(255,65,54)"
         },
         "mode": "lines",
         "text": [
          "pricing_prices_electric_competitors_brand",
          "",
          "",
          "technical support_partnership_suppliers_company_supplier"
         ],
         "type": "scatter",
         "x": [
          0,
          0.271692496823735,
          0.271692496823735,
          0
         ],
         "xaxis": "x",
         "y": [
          -125,
          -125,
          -135,
          -135
         ],
         "yaxis": "y"
        },
        {
         "hoverinfo": "text",
         "marker": {
          "color": "rgb(255,65,54)"
         },
         "mode": "lines",
         "text": [
          "plcs_plc_siemens_technical support_scada",
          "",
          "",
          "technical support_supplier_electric_partnership_brands"
         ],
         "type": "scatter",
         "x": [
          0,
          0.37726007721323973,
          0.37726007721323973,
          0.271692496823735
         ],
         "xaxis": "x",
         "y": [
          -115,
          -115,
          -130,
          -130
         ],
         "yaxis": "y"
        },
        {
         "hoverinfo": "text",
         "marker": {
          "color": "rgb(255,65,54)"
         },
         "mode": "lines",
         "text": [
          "siemens_competitors_partnership_supplier_technical support",
          "",
          "",
          "ten_nine_rate_rating_10"
         ],
         "type": "scatter",
         "x": [
          0.37726007721323973,
          0.39184696880693426,
          0.39184696880693426,
          0
         ],
         "xaxis": "x",
         "y": [
          -122.5,
          -122.5,
          -145,
          -145
         ],
         "yaxis": "y"
        },
        {
         "hoverinfo": "text",
         "marker": {
          "color": "rgb(255,65,54)"
         },
         "mode": "lines",
         "text": [
          "touch panel_touch screen_panel_touch_gp4000",
          "",
          "",
          "plcs_plc_technical support_siemens_brands"
         ],
         "type": "scatter",
         "x": [
          0,
          0.4862971269060581,
          0.4862971269060581,
          0.39184696880693426
         ],
         "xaxis": "x",
         "y": [
          -105,
          -105,
          -133.75,
          -133.75
         ],
         "yaxis": "y"
        },
        {
         "hoverinfo": "text",
         "marker": {
          "color": "rgb(255,65,54)"
         },
         "mode": "lines",
         "text": [
          "switches_reliability_complaints_switchgear_quality",
          "",
          "",
          "circuit breakers_breakers_breaker_electrical_circuits"
         ],
         "type": "scatter",
         "x": [
          0,
          0.4123284514136043,
          0.4123284514136043,
          0
         ],
         "xaxis": "x",
         "y": [
          -155,
          -155,
          -165,
          -165
         ],
         "yaxis": "y"
        },
        {
         "hoverinfo": "text",
         "marker": {
          "color": "rgb(255,65,54)"
         },
         "mode": "lines",
         "text": [
          "plcs_plc_technical support_brands_brand",
          "",
          "",
          "iec_switches_complaints_circuit breakers_electrical"
         ],
         "type": "scatter",
         "x": [
          0.4862971269060581,
          0.5130788532888991,
          0.5130788532888991,
          0.4123284514136043
         ],
         "xaxis": "x",
         "y": [
          -119.375,
          -119.375,
          -160,
          -160
         ],
         "yaxis": "y"
        },
        {
         "hoverinfo": "text",
         "marker": {
          "color": "rgb(255,65,54)"
         },
         "mode": "lines",
         "text": [
          "reasons_discontinued_reliability_quality_reliable",
          "",
          "",
          "sales_companies_products_market_brand"
         ],
         "type": "scatter",
         "x": [
          0,
          0.5269275127708665,
          0.5269275127708665,
          0.5130788532888991
         ],
         "xaxis": "x",
         "y": [
          -95,
          -95,
          -139.6875,
          -139.6875
         ],
         "yaxis": "y"
        },
        {
         "hoverinfo": "text",
         "marker": {
          "color": "rgb(255,65,54)"
         },
         "mode": "lines",
         "text": [
          "inverter_inverters_invertor_frequency inverters_converters",
          "",
          "",
          "servo motors_servo_servos_motors_discontinued"
         ],
         "type": "scatter",
         "x": [
          0,
          0.46727802586264966,
          0.46727802586264966,
          0
         ],
         "xaxis": "x",
         "y": [
          -175,
          -175,
          -185,
          -185
         ],
         "yaxis": "y"
        },
        {
         "hoverinfo": "text",
         "marker": {
          "color": "rgb(255,65,54)"
         },
         "mode": "lines",
         "text": [
          "technical support_plcs_touch panel_siemens_plc",
          "",
          "",
          "servo motors_servo_servos_controllers_inverters"
         ],
         "type": "scatter",
         "x": [
          0.5269275127708665,
          0.5485467135567286,
          0.5485467135567286,
          0.46727802586264966
         ],
         "xaxis": "x",
         "y": [
          -117.34375,
          -117.34375,
          -180,
          -180
         ],
         "yaxis": "y"
        },
        {
         "hoverinfo": "text",
         "marker": {
          "color": "rgb(255,65,54)"
         },
         "mode": "lines",
         "text": [
          "drives_troubleshooting_speed drives_technical support_drive",
          "",
          "",
          "technical support_service support_support_technical service_product"
         ],
         "type": "scatter",
         "x": [
          0,
          0.5803420574799338,
          0.5803420574799338,
          0
         ],
         "xaxis": "x",
         "y": [
          -195,
          -195,
          -205,
          -205
         ],
         "yaxis": "y"
        },
        {
         "hoverinfo": "text",
         "marker": {
          "color": "rgb(255,65,54)"
         },
         "mode": "lines",
         "text": [
          "plcs_plc_technical support_siemens_supplier",
          "",
          "",
          "technical support_drives_troubleshoot_drive_speed drives"
         ],
         "type": "scatter",
         "x": [
          0.5485467135567286,
          0.6162919219196695,
          0.6162919219196695,
          0.5803420574799338
         ],
         "xaxis": "x",
         "y": [
          -148.671875,
          -148.671875,
          -200,
          -200
         ],
         "yaxis": "y"
        },
        {
         "hoverinfo": "text",
         "marker": {
          "color": "rgb(255,65,54)"
         },
         "mode": "lines",
         "text": [
          "pricing_products_prices_affordable_competitors",
          "",
          "",
          "plcs_siemens_brands_plc_technical support"
         ],
         "type": "scatter",
         "x": [
          0,
          0.6474668122534419,
          0.6474668122534419,
          0.6162919219196695
         ],
         "xaxis": "x",
         "y": [
          -85,
          -85,
          -174.3359375,
          -174.3359375
         ],
         "yaxis": "y"
        },
        {
         "hoverinfo": "text",
         "marker": {
          "color": "rgb(255,65,54)"
         },
         "mode": "lines",
         "text": [
          "frequency converters_converters_technical support_electric_equipment",
          "",
          "",
          "frequency converters_frequency_converters_converter_troubleshooting"
         ],
         "type": "scatter",
         "x": [
          0,
          0.5127463279379558,
          0.5127463279379558,
          0
         ],
         "xaxis": "x",
         "y": [
          -215,
          -215,
          -225,
          -225
         ],
         "yaxis": "y"
        },
        {
         "hoverinfo": "text",
         "marker": {
          "color": "rgb(255,65,54)"
         },
         "mode": "lines",
         "text": [
          "technical support_inverters_reliability_equipment_inverter",
          "",
          "",
          "frequency converters_converters_technical support_converter_contactors"
         ],
         "type": "scatter",
         "x": [
          0.6474668122534419,
          0.6676816389295319,
          0.6676816389295319,
          0.5127463279379558
         ],
         "xaxis": "x",
         "y": [
          -129.66796875,
          -129.66796875,
          -220,
          -220
         ],
         "yaxis": "y"
        },
        {
         "hoverinfo": "text",
         "marker": {
          "color": "rgb(255,65,54)"
         },
         "mode": "lines",
         "text": [
          "technical support_plcs_plc_sales_products",
          "",
          "",
          "siemens_plc_factories_subsidiaries_industry"
         ],
         "type": "scatter",
         "x": [
          0.6676816389295319,
          0.6847360978987518,
          0.6847360978987518,
          0
         ],
         "xaxis": "x",
         "y": [
          -174.833984375,
          -174.833984375,
          -235,
          -235
         ],
         "yaxis": "y"
        },
        {
         "hoverinfo": "text",
         "marker": {
          "color": "rgb(255,65,54)"
         },
         "mode": "lines",
         "text": [
          "rating_rate_quality_score_reliability",
          "",
          "",
          "technical support_siemens_plcs_plc_touch panel"
         ],
         "type": "scatter",
         "x": [
          0.5881039078972126,
          0.7335835526875107,
          0.7335835526875107,
          0.6847360978987518
         ],
         "xaxis": "x",
         "y": [
          -70,
          -70,
          -204.9169921875,
          -204.9169921875
         ],
         "yaxis": "y"
        },
        {
         "hoverinfo": "text",
         "marker": {
          "color": "rgb(35,205,205)"
         },
         "mode": "lines",
         "text": [
          "quality_reliability_practicality_durability_materials",
          "",
          "",
          "reliability_reliable_unreliable_dependability_quality"
         ],
         "type": "scatter",
         "x": [
          0,
          0.7300355849935898,
          0.7300355849935898,
          0
         ],
         "xaxis": "x",
         "y": [
          -255,
          -255,
          -265,
          -265
         ],
         "yaxis": "y"
        },
        {
         "hoverinfo": "text",
         "marker": {
          "color": "rgb(35,205,205)"
         },
         "mode": "lines",
         "text": [
          "services_customer service_service_quality_satisfaction",
          "",
          "",
          "reliability_reliable_durability_quality_dependability"
         ],
         "type": "scatter",
         "x": [
          0,
          0.7463350637271753,
          0.7463350637271753,
          0.7300355849935898
         ],
         "xaxis": "x",
         "y": [
          -245,
          -245,
          -260,
          -260
         ],
         "yaxis": "y"
        },
        {
         "hoverinfo": "text",
         "marker": {
          "color": "rgb(35,205,205)"
         },
         "mode": "lines",
         "text": [
          "reliability_reliable_quality_durability_customer service",
          "",
          "",
          "issues_problems_defect_malfunction_troubles"
         ],
         "type": "scatter",
         "x": [
          0.7463350637271753,
          0.7860028503198678,
          0.7860028503198678,
          0
         ],
         "xaxis": "x",
         "y": [
          -252.5,
          -252.5,
          -275,
          -275
         ],
         "yaxis": "y"
        },
        {
         "hoverinfo": "text",
         "marker": {
          "color": "rgb(35,205,205)"
         },
         "mode": "lines",
         "text": [
          "reliability_reliable_quality_durability_complaints",
          "",
          "",
          "smoothly_smooth_perfectly_fine_everything"
         ],
         "type": "scatter",
         "x": [
          0.7860028503198678,
          0.9041742222521171,
          0.9041742222521171,
          0
         ],
         "xaxis": "x",
         "y": [
          -263.75,
          -263.75,
          -285,
          -285
         ],
         "yaxis": "y"
        },
        {
         "hoverinfo": "text",
         "marker": {
          "color": "rgb(0,116,217)"
         },
         "mode": "lines",
         "text": [
          "technical support_brands_brand_siemens_servo",
          "",
          "",
          "reliability_reliable_complaints_unreliable_quality"
         ],
         "type": "scatter",
         "x": [
          0.7335835526875107,
          1.0453088033820073,
          1.0453088033820073,
          0.9041742222521171
         ],
         "xaxis": "x",
         "y": [
          -137.45849609375,
          -137.45849609375,
          -274.375,
          -274.375
         ],
         "yaxis": "y"
        },
        {
         "hoverinfo": "text",
         "marker": {
          "color": "rgb(0,116,217)"
         },
         "mode": "lines",
         "text": [
          "deliveries_delivery time_delivery date_shipments_delays",
          "",
          "",
          "plcs_technical support_siemens_plc_drives"
         ],
         "type": "scatter",
         "x": [
          0.7752626163967263,
          1.0776705550456003,
          1.0776705550456003,
          1.0453088033820073
         ],
         "xaxis": "x",
         "y": [
          -24.6875,
          -24.6875,
          -205.916748046875,
          -205.916748046875
         ],
         "yaxis": "y"
        },
        {
         "hoverinfo": "text",
         "marker": {
          "color": "rgb(133,20,75)"
         },
         "mode": "lines",
         "text": [
          "errors_faulty_failures_faults_defect",
          "",
          "",
          "ups_upss_troubleshooting_apc_upc"
         ],
         "type": "scatter",
         "x": [
          0,
          0.5242295560239166,
          0.5242295560239166,
          0
         ],
         "xaxis": "x",
         "y": [
          -295,
          -295,
          -305,
          -305
         ],
         "yaxis": "y"
        },
        {
         "hoverinfo": "text",
         "marker": {
          "color": "rgb(133,20,75)"
         },
         "mode": "lines",
         "text": [
          "response time_quick response_responding_responses_response",
          "",
          "",
          "technical support_assistance_professionalism_technical_expertise"
         ],
         "type": "scatter",
         "x": [
          0,
          0.460843076921738,
          0.460843076921738,
          0
         ],
         "xaxis": "x",
         "y": [
          -325,
          -325,
          -335,
          -335
         ],
         "yaxis": "y"
        },
        {
         "hoverinfo": "text",
         "marker": {
          "color": "rgb(133,20,75)"
         },
         "mode": "lines",
         "text": [
          "call center_call back_call_troubleshooting_contact person",
          "",
          "",
          "response time_technical support_responses_quick response_response"
         ],
         "type": "scatter",
         "x": [
          0,
          0.5430283106984648,
          0.5430283106984648,
          0.460843076921738
         ],
         "xaxis": "x",
         "y": [
          -315,
          -315,
          -330,
          -330
         ],
         "yaxis": "y"
        },
        {
         "hoverinfo": "text",
         "marker": {
          "color": "rgb(133,20,75)"
         },
         "mode": "lines",
         "text": [
          "technician_technicians_tech_techs_techico",
          "",
          "",
          "troubleshooting_troubleshoot_resolved_issue_technical support"
         ],
         "type": "scatter",
         "x": [
          0,
          0.6227374878399723,
          0.6227374878399723,
          0
         ],
         "xaxis": "x",
         "y": [
          -345,
          -345,
          -355,
          -355
         ],
         "yaxis": "y"
        },
        {
         "hoverinfo": "text",
         "marker": {
          "color": "rgb(133,20,75)"
         },
         "mode": "lines",
         "text": [
          "response time_technical support_telephone_assistance_responses",
          "",
          "",
          "technician_technicians_technical support_tech_techs"
         ],
         "type": "scatter",
         "x": [
          0.5430283106984648,
          0.671766183808362,
          0.671766183808362,
          0.6227374878399723
         ],
         "xaxis": "x",
         "y": [
          -322.5,
          -322.5,
          -350,
          -350
         ],
         "yaxis": "y"
        },
        {
         "hoverinfo": "text",
         "marker": {
          "color": "rgb(133,20,75)"
         },
         "mode": "lines",
         "text": [
          "ups_upss_apc_troubleshooting_warranty",
          "",
          "",
          "technical support_technician_call back_technicians_telephone"
         ],
         "type": "scatter",
         "x": [
          0.5242295560239166,
          0.7123631353001335,
          0.7123631353001335,
          0.671766183808362
         ],
         "xaxis": "x",
         "y": [
          -300,
          -300,
          -336.25,
          -336.25
         ],
         "yaxis": "y"
        },
        {
         "hoverinfo": "text",
         "marker": {
          "color": "rgb(133,20,75)"
         },
         "mode": "lines",
         "text": [
          "technical support_troubleshooting_technician_response time_technicians",
          "",
          "",
          "resolved_issue_fixed_workaround_bug"
         ],
         "type": "scatter",
         "x": [
          0.7123631353001335,
          0.725196147389333,
          0.725196147389333,
          0
         ],
         "xaxis": "x",
         "y": [
          -318.125,
          -318.125,
          -365,
          -365
         ],
         "yaxis": "y"
        },
        {
         "hoverinfo": "text",
         "marker": {
          "color": "rgb(133,20,75)"
         },
         "mode": "lines",
         "text": [
          "explanations_explained_answering_answered_explanation",
          "",
          "",
          "inquiries_inquiry_questions_information_info"
         ],
         "type": "scatter",
         "x": [
          0,
          0.5606494839729498,
          0.5606494839729498,
          0
         ],
         "xaxis": "x",
         "y": [
          -375,
          -375,
          -385,
          -385
         ],
         "yaxis": "y"
        },
        {
         "hoverinfo": "text",
         "marker": {
          "color": "rgb(133,20,75)"
         },
         "mode": "lines",
         "text": [
          "ups_technical support_upss_warranty_apc",
          "",
          "",
          "explained_answers_precise_answered_accurately"
         ],
         "type": "scatter",
         "x": [
          0.725196147389333,
          0.8644423547685433,
          0.8644423547685433,
          0.5606494839729498
         ],
         "xaxis": "x",
         "y": [
          -341.5625,
          -341.5625,
          -380,
          -380
         ],
         "yaxis": "y"
        },
        {
         "hoverinfo": "text",
         "marker": {
          "color": "rgb(255,220,0)"
         },
         "mode": "lines",
         "text": [
          "solved_problem_issue_site_",
          "",
          "",
          "problem_solution_resolved_solve problem_solved"
         ],
         "type": "scatter",
         "x": [
          0,
          0.6157760290148863,
          0.6157760290148863,
          0
         ],
         "xaxis": "x",
         "y": [
          -395,
          -395,
          -405,
          -405
         ],
         "yaxis": "y"
        },
        {
         "hoverinfo": "text",
         "marker": {
          "color": "rgb(255,220,0)"
         },
         "mode": "lines",
         "text": [
          "solved_problem_resolved_solution_issue",
          "",
          "",
          "cause_reason_solve problem_solutions_problem"
         ],
         "type": "scatter",
         "x": [
          0.6157760290148863,
          0.8228659762170666,
          0.8228659762170666,
          0
         ],
         "xaxis": "x",
         "y": [
          -400,
          -400,
          -415,
          -415
         ],
         "yaxis": "y"
        },
        {
         "hoverinfo": "text",
         "marker": {
          "color": "rgb(40,35,35)"
         },
         "mode": "lines",
         "text": [
          "kindness_competence_skills_willingness_speed",
          "",
          "",
          "competence_courtesy_polite_satisfaction_sincerity"
         ],
         "type": "scatter",
         "x": [
          0,
          0.7715823079842252,
          0.7715823079842252,
          0
         ],
         "xaxis": "x",
         "y": [
          -435,
          -435,
          -445,
          -445
         ],
         "yaxis": "y"
        },
        {
         "hoverinfo": "text",
         "marker": {
          "color": "rgb(40,35,35)"
         },
         "mode": "lines",
         "text": [
          "punctuality_punctual_time_correctness_professionalism",
          "",
          "",
          "competence_kindness_speed_sincerity_satisfaction"
         ],
         "type": "scatter",
         "x": [
          0,
          0.8569057297429523,
          0.8569057297429523,
          0.7715823079842252
         ],
         "xaxis": "x",
         "y": [
          -425,
          -425,
          -440,
          -440
         ],
         "yaxis": "y"
        },
        {
         "hoverinfo": "text",
         "marker": {
          "color": "rgb(61,153,112)"
         },
         "mode": "lines",
         "text": [
          "advice_guidance_advise_competent_tips",
          "",
          "",
          "assistance_helping_helpful_assisted_intervention"
         ],
         "type": "scatter",
         "x": [
          0,
          0.8114013385462179,
          0.8114013385462179,
          0
         ],
         "xaxis": "x",
         "y": [
          -455,
          -455,
          -465,
          -465
         ],
         "yaxis": "y"
        },
        {
         "hoverinfo": "text",
         "marker": {
          "color": "rgb(61,153,112)"
         },
         "mode": "lines",
         "text": [
          "staff_competent_competence_employees_employee",
          "",
          "",
          "service_services_efficiently_efficient_fast"
         ],
         "type": "scatter",
         "x": [
          0,
          0.6724995740353132,
          0.6724995740353132,
          0
         ],
         "xaxis": "x",
         "y": [
          -495,
          -495,
          -505,
          -505
         ],
         "yaxis": "y"
        },
        {
         "hoverinfo": "text",
         "marker": {
          "color": "rgb(61,153,112)"
         },
         "mode": "lines",
         "text": [
          "staff_competent_employees_friendly_employee",
          "",
          "",
          "support_competent_fast_fastest_supported"
         ],
         "type": "scatter",
         "x": [
          0.6724995740353132,
          0.730680329493345,
          0.730680329493345,
          0
         ],
         "xaxis": "x",
         "y": [
          -500,
          -500,
          -515,
          -515
         ],
         "yaxis": "y"
        },
        {
         "hoverinfo": "text",
         "marker": {
          "color": "rgb(61,153,112)"
         },
         "mode": "lines",
         "text": [
          "technical support_technical_support_fixing_updates",
          "",
          "",
          "staff_competent_employees_competence_employee"
         ],
         "type": "scatter",
         "x": [
          0,
          0.7415367362003957,
          0.7415367362003957,
          0.730680329493345
         ],
         "xaxis": "x",
         "y": [
          -485,
          -485,
          -507.5,
          -507.5
         ],
         "yaxis": "y"
        },
        {
         "hoverinfo": "text",
         "marker": {
          "color": "rgb(61,153,112)"
         },
         "mode": "lines",
         "text": [
          "customer service_customers_customer_service_servicing",
          "",
          "",
          "staff_competent_employees_employee_technical support"
         ],
         "type": "scatter",
         "x": [
          0,
          0.8027388744769296,
          0.8027388744769296,
          0.7415367362003957
         ],
         "xaxis": "x",
         "y": [
          -475,
          -475,
          -496.25,
          -496.25
         ],
         "yaxis": "y"
        },
        {
         "hoverinfo": "text",
         "marker": {
          "color": "rgb(61,153,112)"
         },
         "mode": "lines",
         "text": [
          "competent_competence_staff_skilled_qualified",
          "",
          "",
          "responsiveness_responsive_resolution_flexible_quality"
         ],
         "type": "scatter",
         "x": [
          0.8027388744769296,
          0.8497408058800054,
          0.8497408058800054,
          0
         ],
         "xaxis": "x",
         "y": [
          -485.625,
          -485.625,
          -525,
          -525
         ],
         "yaxis": "y"
        },
        {
         "hoverinfo": "text",
         "marker": {
          "color": "rgb(61,153,112)"
         },
         "mode": "lines",
         "text": [
          "advice_guidance_advise_tips_competent",
          "",
          "",
          "competent_staff_competence_employees_technical support"
         ],
         "type": "scatter",
         "x": [
          0.8114013385462179,
          0.9010583745118225,
          0.9010583745118225,
          0.8497408058800054
         ],
         "xaxis": "x",
         "y": [
          -460,
          -460,
          -505.3125,
          -505.3125
         ],
         "yaxis": "y"
        },
        {
         "hoverinfo": "text",
         "marker": {
          "color": "rgb(61,153,112)"
         },
         "mode": "lines",
         "text": [
          "solve problem_solving_quickly_solve_solutions",
          "",
          "",
          "efficiently_efficient_efficiency_performance_quickly"
         ],
         "type": "scatter",
         "x": [
          0,
          0.7506291844645085,
          0.7506291844645085,
          0
         ],
         "xaxis": "x",
         "y": [
          -535,
          -535,
          -545,
          -545
         ],
         "yaxis": "y"
        },
        {
         "hoverinfo": "text",
         "marker": {
          "color": "rgb(61,153,112)"
         },
         "mode": "lines",
         "text": [
          "efficiently_efficient_quickly_optimal_efficiency",
          "",
          "",
          "feedback_quick response_helpful_respond_response"
         ],
         "type": "scatter",
         "x": [
          0.7506291844645085,
          0.8082299006630438,
          0.8082299006630438,
          0
         ],
         "xaxis": "x",
         "y": [
          -540,
          -540,
          -555,
          -555
         ],
         "yaxis": "y"
        },
        {
         "hoverinfo": "text",
         "marker": {
          "color": "rgb(61,153,112)"
         },
         "mode": "lines",
         "text": [
          "competent_competently_staff_competence_professional",
          "",
          "",
          "feedback_accuracy_quickly_benchmark_efficiently"
         ],
         "type": "scatter",
         "x": [
          0.9010583745118225,
          0.9819089152565983,
          0.9819089152565983,
          0.8082299006630438
         ],
         "xaxis": "x",
         "y": [
          -482.65625,
          -482.65625,
          -547.5,
          -547.5
         ],
         "yaxis": "y"
        },
        {
         "hoverinfo": "text",
         "marker": {
          "color": "rgb(255,65,54)"
         },
         "mode": "lines",
         "text": [
          "quick response_response_quick_reply_easy",
          "",
          "",
          "satisfied_satisfying_successful_fully_completely"
         ],
         "type": "scatter",
         "x": [
          0,
          0.8333137984340613,
          0.8333137984340613,
          0
         ],
         "xaxis": "x",
         "y": [
          -565,
          -565,
          -575,
          -575
         ],
         "yaxis": "y"
        },
        {
         "hoverinfo": "text",
         "marker": {
          "color": "rgb(0,116,217)"
         },
         "mode": "lines",
         "text": [
          "technical support_competent_technical_guidance_staff",
          "",
          "",
          "quick response_response_quick_reply_answered"
         ],
         "type": "scatter",
         "x": [
          0.9819089152565983,
          1.0709060552898562,
          1.0709060552898562,
          0.8333137984340613
         ],
         "xaxis": "x",
         "y": [
          -515.078125,
          -515.078125,
          -570,
          -570
         ],
         "yaxis": "y"
        },
        {
         "hoverinfo": "text",
         "marker": {
          "color": "rgb(0,116,217)"
         },
         "mode": "lines",
         "text": [
          "competence_speed_professionalism_kindness_sincerity",
          "",
          "",
          "technical support_competent_staff_technical_professional"
         ],
         "type": "scatter",
         "x": [
          0.8569057297429523,
          1.1011763860384494,
          1.1011763860384494,
          1.0709060552898562
         ],
         "xaxis": "x",
         "y": [
          -432.5,
          -432.5,
          -542.5390625,
          -542.5390625
         ],
         "yaxis": "y"
        },
        {
         "hoverinfo": "text",
         "marker": {
          "color": "rgb(35,205,205)"
         },
         "mode": "lines",
         "text": [
          "service_pleasure_welcome_appreciate_excellent",
          "",
          "",
          "service_good___"
         ],
         "type": "scatter",
         "x": [
          0,
          0.7414655079883059,
          0.7414655079883059,
          0
         ],
         "xaxis": "x",
         "y": [
          -585,
          -585,
          -595,
          -595
         ],
         "yaxis": "y"
        },
        {
         "hoverinfo": "text",
         "marker": {
          "color": "rgb(0,116,217)"
         },
         "mode": "lines",
         "text": [
          "technical support_competent_quickly_support_effective",
          "",
          "",
          "service_pleasure_welcome_appreciate_great"
         ],
         "type": "scatter",
         "x": [
          1.1011763860384494,
          1.1845394173979085,
          1.1845394173979085,
          0.7414655079883059
         ],
         "xaxis": "x",
         "y": [
          -487.51953125,
          -487.51953125,
          -590,
          -590
         ],
         "yaxis": "y"
        },
        {
         "hoverinfo": "text",
         "marker": {
          "color": "rgb(0,116,217)"
         },
         "mode": "lines",
         "text": [
          "problem_solution_solved_resolved_solve problem",
          "",
          "",
          "competent_technical support_support_quickly_fast"
         ],
         "type": "scatter",
         "x": [
          0.8228659762170666,
          1.2912987264957592,
          1.2912987264957592,
          1.1845394173979085
         ],
         "xaxis": "x",
         "y": [
          -407.5,
          -407.5,
          -538.759765625,
          -538.759765625
         ],
         "yaxis": "y"
        },
        {
         "hoverinfo": "text",
         "marker": {
          "color": "rgb(0,116,217)"
         },
         "mode": "lines",
         "text": [
          "technical support_issue_ups_upss_error",
          "",
          "",
          "staff_service_customer service_technical support_quickly"
         ],
         "type": "scatter",
         "x": [
          0.8644423547685433,
          1.3720549397863793,
          1.3720549397863793,
          1.2912987264957592
         ],
         "xaxis": "x",
         "y": [
          -360.78125,
          -360.78125,
          -473.1298828125,
          -473.1298828125
         ],
         "yaxis": "y"
        },
        {
         "hoverinfo": "text",
         "marker": {
          "color": "rgb(0,116,217)"
         },
         "mode": "lines",
         "text": [
          "technical support_plcs_plc_supplier_reliable",
          "",
          "",
          "response time_technical support_technician_telephone_technicians"
         ],
         "type": "scatter",
         "x": [
          1.0776705550456003,
          2.048772500120468,
          2.048772500120468,
          1.3720549397863793
         ],
         "xaxis": "x",
         "y": [
          -115.3021240234375,
          -115.3021240234375,
          -416.95556640625,
          -416.95556640625
         ],
         "yaxis": "y"
        },
        {
         "hoverinfo": "text",
         "hovertext": [
          "deliveries_delivery time_delivery_deliver_invoice",
          "delivery time_deliveries_delivery date_invoice_delivery",
          "siemens_competitors_partnership_supplier_technical support",
          "plcs_plc_technical support_brands_brand",
          "technical support_plcs_touch panel_siemens_plc",
          "plcs_plc_technical support_siemens_supplier",
          "technical support_inverters_reliability_equipment_inverter",
          "technical support_plcs_plc_sales_products",
          "rating_rate_quality_score_reliability",
          "reliability_reliable_quality_durability_customer service",
          "reliability_reliable_quality_durability_complaints",
          "technical support_brands_brand_siemens_servo",
          "deliveries_delivery time_delivery date_shipments_delays",
          "response time_technical support_telephone_assistance_responses",
          "ups_upss_apc_troubleshooting_warranty",
          "technical support_troubleshooting_technician_response time_technicians",
          "ups_technical support_upss_warranty_apc",
          "solved_problem_resolved_solution_issue",
          "staff_competent_employees_friendly_employee",
          "competent_competence_staff_skilled_qualified",
          "advice_guidance_advise_tips_competent",
          "efficiently_efficient_quickly_optimal_efficiency",
          "competent_competently_staff_competence_professional",
          "technical support_competent_technical_guidance_staff",
          "competence_speed_professionalism_kindness_sincerity",
          "technical support_competent_quickly_support_effective",
          "problem_solution_solved_resolved_solve problem",
          "technical support_issue_ups_upss_error",
          "technical support_plcs_plc_supplier_reliable"
         ],
         "marker": {
          "color": "black"
         },
         "mode": "markers",
         "showlegend": false,
         "type": "scatter",
         "x": [
          0.3568994292669554,
          0.5588095666339681,
          0.37726007721323973,
          0.4862971269060581,
          0.5269275127708665,
          0.5485467135567286,
          0.6474668122534419,
          0.6676816389295319,
          0.5881039078972126,
          0.7463350637271753,
          0.7860028503198678,
          0.7335835526875107,
          0.7752626163967263,
          0.5430283106984648,
          0.5242295560239166,
          0.7123631353001335,
          0.725196147389333,
          0.6157760290148863,
          0.6724995740353132,
          0.8027388744769296,
          0.8114013385462179,
          0.7506291844645085,
          0.9010583745118225,
          0.9819089152565983,
          0.8569057297429523,
          1.1011763860384494,
          0.8228659762170666,
          0.8644423547685433,
          1.0776705550456003
         ],
         "y": [
          -22.5,
          -33.75,
          -122.5,
          -119.375,
          -117.34375,
          -148.671875,
          -129.66796875,
          -174.833984375,
          -70,
          -252.5,
          -263.75,
          -137.45849609375,
          -24.6875,
          -322.5,
          -300,
          -318.125,
          -341.5625,
          -400,
          -500,
          -485.625,
          -460,
          -540,
          -482.65625,
          -515.078125,
          -432.5,
          -487.51953125,
          -407.5,
          -360.78125,
          -115.3021240234375
         ]
        },
        {
         "hoverinfo": "text",
         "hovertext": [
          "deliveries_delivery time_delivery_delivery date_shipments",
          "deliveries_shipments_delays_delivery time_orders",
          "technical support_supplier_electric_partnership_brands",
          "plcs_plc_technical support_siemens_brands",
          "iec_switches_complaints_circuit breakers_electrical",
          "sales_companies_products_market_brand",
          "servo motors_servo_servos_controllers_inverters",
          "technical support_drives_troubleshoot_drive_speed drives",
          "plcs_siemens_brands_plc_technical support",
          "frequency converters_converters_technical support_converter_contactors",
          "technical support_siemens_plcs_plc_touch panel",
          "reliability_reliable_durability_quality_dependability",
          "reliability_reliable_complaints_unreliable_quality",
          "plcs_technical support_siemens_plc_drives",
          "response time_technical support_responses_quick response_response",
          "technician_technicians_technical support_tech_techs",
          "technical support_technician_call back_technicians_telephone",
          "explained_answers_precise_answered_accurately",
          "competence_kindness_speed_sincerity_satisfaction",
          "staff_competent_employees_competence_employee",
          "staff_competent_employees_employee_technical support",
          "competent_staff_competence_employees_technical support",
          "feedback_accuracy_quickly_benchmark_efficiently",
          "quick response_response_quick_reply_answered",
          "technical support_competent_staff_technical_professional",
          "service_pleasure_welcome_appreciate_great",
          "competent_technical support_support_quickly_fast",
          "staff_service_customer service_technical support_quickly",
          "response time_technical support_technician_telephone_technicians"
         ],
         "marker": {
          "color": "black"
         },
         "mode": "markers",
         "showlegend": false,
         "type": "scatter",
         "x": [
          0.2766882293810765,
          0.7101151845060337,
          0.271692496823735,
          0.39184696880693426,
          0.4123284514136043,
          0.5130788532888991,
          0.46727802586264966,
          0.5803420574799338,
          0.6162919219196695,
          0.5127463279379558,
          0.6847360978987518,
          0.7300355849935898,
          0.9041742222521171,
          1.0453088033820073,
          0.460843076921738,
          0.6227374878399723,
          0.671766183808362,
          0.5606494839729498,
          0.7715823079842252,
          0.730680329493345,
          0.7415367362003957,
          0.8497408058800054,
          0.8082299006630438,
          0.8333137984340613,
          1.0709060552898562,
          0.7414655079883059,
          1.1845394173979085,
          1.2912987264957592,
          1.3720549397863793
         ],
         "y": [
          -30,
          -44.375,
          -130,
          -133.75,
          -160,
          -139.6875,
          -180,
          -200,
          -174.3359375,
          -220,
          -204.9169921875,
          -260,
          -274.375,
          -205.916748046875,
          -330,
          -350,
          -336.25,
          -380,
          -440,
          -507.5,
          -496.25,
          -505.3125,
          -547.5,
          -570,
          -542.5390625,
          -590,
          -538.759765625,
          -473.1298828125,
          -416.95556640625
         ]
        }
       ],
       "layout": {
        "autosize": false,
        "height": 1100,
        "hoverlabel": {
         "bgcolor": "white",
         "font": {
          "family": "Rockwell",
          "size": 16
         }
        },
        "hovermode": "closest",
        "plot_bgcolor": "#ECEFF1",
        "showlegend": false,
        "template": {
         "data": {
          "bar": [
           {
            "error_x": {
             "color": "#2a3f5f"
            },
            "error_y": {
             "color": "#2a3f5f"
            },
            "marker": {
             "line": {
              "color": "white",
              "width": 0.5
             },
             "pattern": {
              "fillmode": "overlay",
              "size": 10,
              "solidity": 0.2
             }
            },
            "type": "bar"
           }
          ],
          "barpolar": [
           {
            "marker": {
             "line": {
              "color": "white",
              "width": 0.5
             },
             "pattern": {
              "fillmode": "overlay",
              "size": 10,
              "solidity": 0.2
             }
            },
            "type": "barpolar"
           }
          ],
          "carpet": [
           {
            "aaxis": {
             "endlinecolor": "#2a3f5f",
             "gridcolor": "#C8D4E3",
             "linecolor": "#C8D4E3",
             "minorgridcolor": "#C8D4E3",
             "startlinecolor": "#2a3f5f"
            },
            "baxis": {
             "endlinecolor": "#2a3f5f",
             "gridcolor": "#C8D4E3",
             "linecolor": "#C8D4E3",
             "minorgridcolor": "#C8D4E3",
             "startlinecolor": "#2a3f5f"
            },
            "type": "carpet"
           }
          ],
          "choropleth": [
           {
            "colorbar": {
             "outlinewidth": 0,
             "ticks": ""
            },
            "type": "choropleth"
           }
          ],
          "contour": [
           {
            "colorbar": {
             "outlinewidth": 0,
             "ticks": ""
            },
            "colorscale": [
             [
              0,
              "#0d0887"
             ],
             [
              0.1111111111111111,
              "#46039f"
             ],
             [
              0.2222222222222222,
              "#7201a8"
             ],
             [
              0.3333333333333333,
              "#9c179e"
             ],
             [
              0.4444444444444444,
              "#bd3786"
             ],
             [
              0.5555555555555556,
              "#d8576b"
             ],
             [
              0.6666666666666666,
              "#ed7953"
             ],
             [
              0.7777777777777778,
              "#fb9f3a"
             ],
             [
              0.8888888888888888,
              "#fdca26"
             ],
             [
              1,
              "#f0f921"
             ]
            ],
            "type": "contour"
           }
          ],
          "contourcarpet": [
           {
            "colorbar": {
             "outlinewidth": 0,
             "ticks": ""
            },
            "type": "contourcarpet"
           }
          ],
          "heatmap": [
           {
            "colorbar": {
             "outlinewidth": 0,
             "ticks": ""
            },
            "colorscale": [
             [
              0,
              "#0d0887"
             ],
             [
              0.1111111111111111,
              "#46039f"
             ],
             [
              0.2222222222222222,
              "#7201a8"
             ],
             [
              0.3333333333333333,
              "#9c179e"
             ],
             [
              0.4444444444444444,
              "#bd3786"
             ],
             [
              0.5555555555555556,
              "#d8576b"
             ],
             [
              0.6666666666666666,
              "#ed7953"
             ],
             [
              0.7777777777777778,
              "#fb9f3a"
             ],
             [
              0.8888888888888888,
              "#fdca26"
             ],
             [
              1,
              "#f0f921"
             ]
            ],
            "type": "heatmap"
           }
          ],
          "heatmapgl": [
           {
            "colorbar": {
             "outlinewidth": 0,
             "ticks": ""
            },
            "colorscale": [
             [
              0,
              "#0d0887"
             ],
             [
              0.1111111111111111,
              "#46039f"
             ],
             [
              0.2222222222222222,
              "#7201a8"
             ],
             [
              0.3333333333333333,
              "#9c179e"
             ],
             [
              0.4444444444444444,
              "#bd3786"
             ],
             [
              0.5555555555555556,
              "#d8576b"
             ],
             [
              0.6666666666666666,
              "#ed7953"
             ],
             [
              0.7777777777777778,
              "#fb9f3a"
             ],
             [
              0.8888888888888888,
              "#fdca26"
             ],
             [
              1,
              "#f0f921"
             ]
            ],
            "type": "heatmapgl"
           }
          ],
          "histogram": [
           {
            "marker": {
             "pattern": {
              "fillmode": "overlay",
              "size": 10,
              "solidity": 0.2
             }
            },
            "type": "histogram"
           }
          ],
          "histogram2d": [
           {
            "colorbar": {
             "outlinewidth": 0,
             "ticks": ""
            },
            "colorscale": [
             [
              0,
              "#0d0887"
             ],
             [
              0.1111111111111111,
              "#46039f"
             ],
             [
              0.2222222222222222,
              "#7201a8"
             ],
             [
              0.3333333333333333,
              "#9c179e"
             ],
             [
              0.4444444444444444,
              "#bd3786"
             ],
             [
              0.5555555555555556,
              "#d8576b"
             ],
             [
              0.6666666666666666,
              "#ed7953"
             ],
             [
              0.7777777777777778,
              "#fb9f3a"
             ],
             [
              0.8888888888888888,
              "#fdca26"
             ],
             [
              1,
              "#f0f921"
             ]
            ],
            "type": "histogram2d"
           }
          ],
          "histogram2dcontour": [
           {
            "colorbar": {
             "outlinewidth": 0,
             "ticks": ""
            },
            "colorscale": [
             [
              0,
              "#0d0887"
             ],
             [
              0.1111111111111111,
              "#46039f"
             ],
             [
              0.2222222222222222,
              "#7201a8"
             ],
             [
              0.3333333333333333,
              "#9c179e"
             ],
             [
              0.4444444444444444,
              "#bd3786"
             ],
             [
              0.5555555555555556,
              "#d8576b"
             ],
             [
              0.6666666666666666,
              "#ed7953"
             ],
             [
              0.7777777777777778,
              "#fb9f3a"
             ],
             [
              0.8888888888888888,
              "#fdca26"
             ],
             [
              1,
              "#f0f921"
             ]
            ],
            "type": "histogram2dcontour"
           }
          ],
          "mesh3d": [
           {
            "colorbar": {
             "outlinewidth": 0,
             "ticks": ""
            },
            "type": "mesh3d"
           }
          ],
          "parcoords": [
           {
            "line": {
             "colorbar": {
              "outlinewidth": 0,
              "ticks": ""
             }
            },
            "type": "parcoords"
           }
          ],
          "pie": [
           {
            "automargin": true,
            "type": "pie"
           }
          ],
          "scatter": [
           {
            "fillpattern": {
             "fillmode": "overlay",
             "size": 10,
             "solidity": 0.2
            },
            "type": "scatter"
           }
          ],
          "scatter3d": [
           {
            "line": {
             "colorbar": {
              "outlinewidth": 0,
              "ticks": ""
             }
            },
            "marker": {
             "colorbar": {
              "outlinewidth": 0,
              "ticks": ""
             }
            },
            "type": "scatter3d"
           }
          ],
          "scattercarpet": [
           {
            "marker": {
             "colorbar": {
              "outlinewidth": 0,
              "ticks": ""
             }
            },
            "type": "scattercarpet"
           }
          ],
          "scattergeo": [
           {
            "marker": {
             "colorbar": {
              "outlinewidth": 0,
              "ticks": ""
             }
            },
            "type": "scattergeo"
           }
          ],
          "scattergl": [
           {
            "marker": {
             "colorbar": {
              "outlinewidth": 0,
              "ticks": ""
             }
            },
            "type": "scattergl"
           }
          ],
          "scattermapbox": [
           {
            "marker": {
             "colorbar": {
              "outlinewidth": 0,
              "ticks": ""
             }
            },
            "type": "scattermapbox"
           }
          ],
          "scatterpolar": [
           {
            "marker": {
             "colorbar": {
              "outlinewidth": 0,
              "ticks": ""
             }
            },
            "type": "scatterpolar"
           }
          ],
          "scatterpolargl": [
           {
            "marker": {
             "colorbar": {
              "outlinewidth": 0,
              "ticks": ""
             }
            },
            "type": "scatterpolargl"
           }
          ],
          "scatterternary": [
           {
            "marker": {
             "colorbar": {
              "outlinewidth": 0,
              "ticks": ""
             }
            },
            "type": "scatterternary"
           }
          ],
          "surface": [
           {
            "colorbar": {
             "outlinewidth": 0,
             "ticks": ""
            },
            "colorscale": [
             [
              0,
              "#0d0887"
             ],
             [
              0.1111111111111111,
              "#46039f"
             ],
             [
              0.2222222222222222,
              "#7201a8"
             ],
             [
              0.3333333333333333,
              "#9c179e"
             ],
             [
              0.4444444444444444,
              "#bd3786"
             ],
             [
              0.5555555555555556,
              "#d8576b"
             ],
             [
              0.6666666666666666,
              "#ed7953"
             ],
             [
              0.7777777777777778,
              "#fb9f3a"
             ],
             [
              0.8888888888888888,
              "#fdca26"
             ],
             [
              1,
              "#f0f921"
             ]
            ],
            "type": "surface"
           }
          ],
          "table": [
           {
            "cells": {
             "fill": {
              "color": "#EBF0F8"
             },
             "line": {
              "color": "white"
             }
            },
            "header": {
             "fill": {
              "color": "#C8D4E3"
             },
             "line": {
              "color": "white"
             }
            },
            "type": "table"
           }
          ]
         },
         "layout": {
          "annotationdefaults": {
           "arrowcolor": "#2a3f5f",
           "arrowhead": 0,
           "arrowwidth": 1
          },
          "autotypenumbers": "strict",
          "coloraxis": {
           "colorbar": {
            "outlinewidth": 0,
            "ticks": ""
           }
          },
          "colorscale": {
           "diverging": [
            [
             0,
             "#8e0152"
            ],
            [
             0.1,
             "#c51b7d"
            ],
            [
             0.2,
             "#de77ae"
            ],
            [
             0.3,
             "#f1b6da"
            ],
            [
             0.4,
             "#fde0ef"
            ],
            [
             0.5,
             "#f7f7f7"
            ],
            [
             0.6,
             "#e6f5d0"
            ],
            [
             0.7,
             "#b8e186"
            ],
            [
             0.8,
             "#7fbc41"
            ],
            [
             0.9,
             "#4d9221"
            ],
            [
             1,
             "#276419"
            ]
           ],
           "sequential": [
            [
             0,
             "#0d0887"
            ],
            [
             0.1111111111111111,
             "#46039f"
            ],
            [
             0.2222222222222222,
             "#7201a8"
            ],
            [
             0.3333333333333333,
             "#9c179e"
            ],
            [
             0.4444444444444444,
             "#bd3786"
            ],
            [
             0.5555555555555556,
             "#d8576b"
            ],
            [
             0.6666666666666666,
             "#ed7953"
            ],
            [
             0.7777777777777778,
             "#fb9f3a"
            ],
            [
             0.8888888888888888,
             "#fdca26"
            ],
            [
             1,
             "#f0f921"
            ]
           ],
           "sequentialminus": [
            [
             0,
             "#0d0887"
            ],
            [
             0.1111111111111111,
             "#46039f"
            ],
            [
             0.2222222222222222,
             "#7201a8"
            ],
            [
             0.3333333333333333,
             "#9c179e"
            ],
            [
             0.4444444444444444,
             "#bd3786"
            ],
            [
             0.5555555555555556,
             "#d8576b"
            ],
            [
             0.6666666666666666,
             "#ed7953"
            ],
            [
             0.7777777777777778,
             "#fb9f3a"
            ],
            [
             0.8888888888888888,
             "#fdca26"
            ],
            [
             1,
             "#f0f921"
            ]
           ]
          },
          "colorway": [
           "#636efa",
           "#EF553B",
           "#00cc96",
           "#ab63fa",
           "#FFA15A",
           "#19d3f3",
           "#FF6692",
           "#B6E880",
           "#FF97FF",
           "#FECB52"
          ],
          "font": {
           "color": "#2a3f5f"
          },
          "geo": {
           "bgcolor": "white",
           "lakecolor": "white",
           "landcolor": "white",
           "showlakes": true,
           "showland": true,
           "subunitcolor": "#C8D4E3"
          },
          "hoverlabel": {
           "align": "left"
          },
          "hovermode": "closest",
          "mapbox": {
           "style": "light"
          },
          "paper_bgcolor": "white",
          "plot_bgcolor": "white",
          "polar": {
           "angularaxis": {
            "gridcolor": "#EBF0F8",
            "linecolor": "#EBF0F8",
            "ticks": ""
           },
           "bgcolor": "white",
           "radialaxis": {
            "gridcolor": "#EBF0F8",
            "linecolor": "#EBF0F8",
            "ticks": ""
           }
          },
          "scene": {
           "xaxis": {
            "backgroundcolor": "white",
            "gridcolor": "#DFE8F3",
            "gridwidth": 2,
            "linecolor": "#EBF0F8",
            "showbackground": true,
            "ticks": "",
            "zerolinecolor": "#EBF0F8"
           },
           "yaxis": {
            "backgroundcolor": "white",
            "gridcolor": "#DFE8F3",
            "gridwidth": 2,
            "linecolor": "#EBF0F8",
            "showbackground": true,
            "ticks": "",
            "zerolinecolor": "#EBF0F8"
           },
           "zaxis": {
            "backgroundcolor": "white",
            "gridcolor": "#DFE8F3",
            "gridwidth": 2,
            "linecolor": "#EBF0F8",
            "showbackground": true,
            "ticks": "",
            "zerolinecolor": "#EBF0F8"
           }
          },
          "shapedefaults": {
           "line": {
            "color": "#2a3f5f"
           }
          },
          "ternary": {
           "aaxis": {
            "gridcolor": "#DFE8F3",
            "linecolor": "#A2B1C6",
            "ticks": ""
           },
           "baxis": {
            "gridcolor": "#DFE8F3",
            "linecolor": "#A2B1C6",
            "ticks": ""
           },
           "bgcolor": "white",
           "caxis": {
            "gridcolor": "#DFE8F3",
            "linecolor": "#A2B1C6",
            "ticks": ""
           }
          },
          "title": {
           "x": 0.05
          },
          "xaxis": {
           "automargin": true,
           "gridcolor": "#EBF0F8",
           "linecolor": "#EBF0F8",
           "ticks": "",
           "title": {
            "standoff": 15
           },
           "zerolinecolor": "#EBF0F8",
           "zerolinewidth": 2
          },
          "yaxis": {
           "automargin": true,
           "gridcolor": "#EBF0F8",
           "linecolor": "#EBF0F8",
           "ticks": "",
           "title": {
            "standoff": 15
           },
           "zerolinecolor": "#EBF0F8",
           "zerolinewidth": 2
          }
         }
        },
        "title": {
         "font": {
          "color": "Black",
          "size": 22
         },
         "text": "<b>Hierarchical Clustering</b>",
         "x": 0.5,
         "xanchor": "center",
         "yanchor": "top"
        },
        "width": 1000,
        "xaxis": {
         "mirror": "allticks",
         "rangemode": "tozero",
         "showgrid": false,
         "showline": true,
         "showticklabels": true,
         "ticks": "outside",
         "type": "linear",
         "zeroline": false
        },
        "yaxis": {
         "mirror": "allticks",
         "range": [
          -600,
          0
         ],
         "rangemode": "tozero",
         "showgrid": false,
         "showline": true,
         "showticklabels": true,
         "tickmode": "array",
         "ticks": "outside",
         "ticktext": [
          "37_deadlines_deadline_delays",
          "3_delivery date_delivery ti...",
          "0_deliveries_delivery time_...",
          "9_deliveries_delays_purchas...",
          "16_quotations_quotes_quotat...",
          "26_offers_negotiation_inqui...",
          "55_rating_score_breaker",
          "28_rating_quality_rate",
          "17_pricing_products_prices",
          "18_reasons_discontinued_rel...",
          "6_touch panel_touch screen_...",
          "8_plcs_plc_siemens",
          "5_pricing_prices_electric",
          "1_technical support_partner...",
          "10_ten_nine_rate",
          "15_switches_reliability_com...",
          "12_circuit breakers_breaker...",
          "21_inverter_inverters_inver...",
          "32_servo motors_servo_servos",
          "30_drives_troubleshooting_s...",
          "27_technical support_servic...",
          "42_frequency converters_con...",
          "36_frequency converters_fre...",
          "31_siemens_plc_factories",
          "35_services_customer servic...",
          "41_quality_reliability_prac...",
          "38_reliability_reliable_unr...",
          "48_issues_problems_defect",
          "22_smoothly_smooth_perfectly",
          "14_errors_faulty_failures",
          "24_ups_upss_troubleshooting",
          "25_call center_call back_call",
          "2_response time_quick respo...",
          "4_technical support_assista...",
          "20_technician_technicians_t...",
          "34_troubleshooting_troubles...",
          "29_resolved_issue_fixed",
          "7_explanations_explained_an...",
          "33_inquiries_inquiry_questi...",
          "59_solved_problem_issue",
          "53_problem_solution_resolved",
          "47_cause_reason_solve problem",
          "49_punctuality_punctual_time",
          "43_kindness_competence_skills",
          "13_competence_courtesy_polite",
          "52_advice_guidance_advise",
          "44_assistance_helping_helpful",
          "51_customer service_custome...",
          "40_technical support_techni...",
          "11_staff_competent_competence",
          "19_service_services_efficie...",
          "23_support_competent_fast",
          "45_responsiveness_responsiv...",
          "46_solve problem_solving_qu...",
          "39_efficiently_efficient_ef...",
          "50_feedback_quick response_...",
          "57_quick response_response_...",
          "58_satisfied_satisfying_suc...",
          "56_service_pleasure_welcome",
          "54_service_good_"
         ],
         "tickvals": [
          -5,
          -15,
          -25,
          -35,
          -45,
          -55,
          -65,
          -75,
          -85,
          -95,
          -105,
          -115,
          -125,
          -135,
          -145,
          -155,
          -165,
          -175,
          -185,
          -195,
          -205,
          -215,
          -225,
          -235,
          -245,
          -255,
          -265,
          -275,
          -285,
          -295,
          -305,
          -315,
          -325,
          -335,
          -345,
          -355,
          -365,
          -375,
          -385,
          -395,
          -405,
          -415,
          -425,
          -435,
          -445,
          -455,
          -465,
          -475,
          -485,
          -495,
          -505,
          -515,
          -525,
          -535,
          -545,
          -555,
          -565,
          -575,
          -585,
          -595
         ],
         "type": "linear",
         "zeroline": false
        }
       }
      }
     },
     "metadata": {},
     "output_type": "display_data"
    }
   ],
   "source": [
    "hierarchical_topics = topic_model.hierarchical_topics(docs)\n",
    "topic_model.visualize_hierarchy(hierarchical_topics=hierarchical_topics)"
   ]
  },
  {
   "cell_type": "code",
   "execution_count": null,
   "metadata": {},
   "outputs": [],
   "source": [
    "hierarchical_topics = topic_model.hierarchical_topics(docs)\n",
    "topic_model.visualize_hierarchy(hierarchical_topics=hierarchical_topics)"
   ]
  },
  {
   "cell_type": "code",
   "execution_count": null,
   "metadata": {},
   "outputs": [],
   "source": [
    "tree = topic_model.get_topic_tree(hierarchical_topics)\n",
    "# print(tree)\n",
    "\n",
    "pd.set_option('display.max_rows', None)\n",
    "pd.set_option('display.max_columns', None)\n",
    "pd.set_option('display.width', None)\n",
    "pd.set_option('display.max_colwidth', None)\n",
    "\n",
    "topic1_words = topic_model.get_topic(43)\n",
    "topic2_words = topic_model.get_topic(22)\n",
    "topic3_words = topic_model.get_topic(40)\n",
    "topic4_words = topic_model.get_topic(42)\n",
    "topic5_words = topic_model.get_topic(36)\n",
    "topic6_words = topic_model.get_topic(34)\n",
    "topic7_words = topic_model.get_topic(15)\n",
    "# topic8_words = topic_model.get_topic()\n",
    "merged_keywords = list(set(topic1_words + topic2_words + topic3_words + topic4_words + topic5_words + topic6_words + topic7_words))\n",
    "merged_keywords"
   ]
  },
  {
   "cell_type": "code",
   "execution_count": null,
   "metadata": {},
   "outputs": [],
   "source": [
    "# topics_to_merge = [[91,76,46,43,37,39,14,60,32,52,6,23,45,81,86,84], #Products\n",
    "#                     [49,17,3,5,12,58], #Price & Offers\n",
    "#                     [30,21,18,83,90,11,71,34,29,67], #Quality & Warranty\n",
    "#                     [40,22,96,97,50,36,1,53,87], #Delivery & Logistic\n",
    "#                     [55,63,0,80,85,42], #Business Relation\n",
    "#                     [56,66,62,57,16,74,38,59,88,79,48,64], #Customer Support : Feedback\n",
    "#                     [26,65,31,4,19,61,72], #Customer Support : Response time\n",
    "#                     [13,95,44,35,93,20], #Customer Support : Communication\n",
    "#                     [2,15,82,68,28,92], #Customer Support : Technical support\n",
    "#                     [94,8,9,33,24,98,41,51,47,89,21,25,10,7,69,70,77,54,75], #Customer Support : Customer Service & Assistance\n",
    "#                     [78,73] #None\n",
    "# ]\n",
    "\n",
    "topics_to_merge = [ [30,32,35,28,31,21,16,17,10,12,5,2,7,20,29,27,19], #Products\n",
    "                    [], #Price & Offers\n",
    "                    [26,8,11,6,0,3,14,23], #Technical Support & Quality & Warranty\n",
    "                    [24,18,9,1,4,39], #Delivery & Logistic\n",
    "                    [], #Business Relation\n",
    "                    [], #Customer Support : Feedback\n",
    "                    [], #Customer Support : Response time\n",
    "                    [], #Customer Support : Communication\n",
    "                    [43,22,40,42,36,34,15], #Customer Support : Technical support\n",
    "                    [], #Customer Support : Customer Service & Assistance\n",
    "                    [] #None\n",
    "]\n",
    "\n",
    "topic_model.merge_topics(docs, topics_to_merge)\n",
    "topic_model.visualize_topics()"
   ]
  },
  {
   "cell_type": "code",
   "execution_count": null,
   "metadata": {},
   "outputs": [],
   "source": [
    "topic_model.set_topic_labels({1: \"Space Travel\", 7: \"Religion\"})\n",
    "fig = topic_model.visualize_barchart(custom_labels=True)\n",
    "\n",
    "\n",
    "\n",
    "topic_labels = topic_model.generate_topic_labels(nr_words=3, \n",
    "                                                 topic_prefix=False,\n",
    "                                                 word_length=10,\n",
    "                                                 separator=\", \")\n",
    "topic_model.set_topic_labels(topic_labels)\n"
   ]
  },
  {
   "cell_type": "code",
   "execution_count": null,
   "metadata": {},
   "outputs": [],
   "source": []
  }
 ],
 "metadata": {
  "kernelspec": {
   "display_name": "wassati",
   "language": "python",
   "name": "python3"
  },
  "language_info": {
   "codemirror_mode": {
    "name": "ipython",
    "version": 3
   },
   "file_extension": ".py",
   "mimetype": "text/x-python",
   "name": "python",
   "nbconvert_exporter": "python",
   "pygments_lexer": "ipython3",
   "version": "3.9.17"
  },
  "orig_nbformat": 4
 },
 "nbformat": 4,
 "nbformat_minor": 2
}
