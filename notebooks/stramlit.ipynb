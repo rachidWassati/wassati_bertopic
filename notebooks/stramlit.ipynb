{
 "cells": [
  {
   "cell_type": "code",
   "execution_count": 1,
   "metadata": {},
   "outputs": [
    {
     "ename": "AttributeError",
     "evalue": "module 'streamlit.components' has no attribute 'html'",
     "output_type": "error",
     "traceback": [
      "\u001b[0;31m---------------------------------------------------------------------------\u001b[0m",
      "\u001b[0;31mAttributeError\u001b[0m                            Traceback (most recent call last)",
      "Cell \u001b[0;32mIn[1], line 9\u001b[0m\n\u001b[1;32m      6\u001b[0m     html \u001b[39m=\u001b[39m f\u001b[39m.\u001b[39mread()\n\u001b[1;32m      8\u001b[0m \u001b[39m# Display the HTML code in Streamlit\u001b[39;00m\n\u001b[0;32m----> 9\u001b[0m components\u001b[39m.\u001b[39;49mhtml(html, width\u001b[39m=\u001b[39m\u001b[39m700\u001b[39m, height\u001b[39m=\u001b[39m\u001b[39m600\u001b[39m)\n",
      "\u001b[0;31mAttributeError\u001b[0m: module 'streamlit.components' has no attribute 'html'"
     ]
    }
   ],
   "source": [
    "import streamlit as st\n",
    "from streamlit import components\n",
    "\n",
    "# Load the HTML file\n",
    "with open('../data/graphs/topic_merged_per_class_sentiment.html', 'r') as f:\n",
    "    html = f.read()\n",
    "\n",
    "# Display the HTML code in Streamlit\n",
    "components.html(html, width=700, height=600)"
   ]
  },
  {
   "cell_type": "code",
   "execution_count": null,
   "metadata": {},
   "outputs": [],
   "source": []
  },
  {
   "cell_type": "code",
   "execution_count": null,
   "metadata": {},
   "outputs": [],
   "source": []
  }
 ],
 "metadata": {
  "kernelspec": {
   "display_name": "wassati",
   "language": "python",
   "name": "python3"
  },
  "language_info": {
   "codemirror_mode": {
    "name": "ipython",
    "version": 3
   },
   "file_extension": ".py",
   "mimetype": "text/x-python",
   "name": "python",
   "nbconvert_exporter": "python",
   "pygments_lexer": "ipython3",
   "version": "3.9.17"
  },
  "orig_nbformat": 4
 },
 "nbformat": 4,
 "nbformat_minor": 2
}
